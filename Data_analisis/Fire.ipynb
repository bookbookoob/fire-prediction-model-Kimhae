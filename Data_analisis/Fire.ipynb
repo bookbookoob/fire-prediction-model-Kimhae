{
 "cells": [
  {
   "cell_type": "code",
   "execution_count": 1,
   "metadata": {},
   "outputs": [],
   "source": [
    "import pandas as pd\n",
    "import numpy as np"
   ]
  },
  {
   "cell_type": "code",
   "execution_count": 2,
   "metadata": {},
   "outputs": [],
   "source": [
    "from urllib.parse import unquote"
   ]
  },
  {
   "cell_type": "code",
   "execution_count": 16,
   "metadata": {},
   "outputs": [],
   "source": [
    "import requests"
   ]
  },
  {
   "cell_type": "code",
   "execution_count": 38,
   "metadata": {},
   "outputs": [],
   "source": [
    "FIRE_KEY = unquote('ZVnU1aHP41yRK5zc5egG4dI8hWCrNGOZ8NNVfrS039Bzxq0BWRvjlcjVCQMhZJSh2V7pKpFrr7yqXjW8WiPpCw%3D%3D')"
   ]
  },
  {
   "cell_type": "code",
   "execution_count": 40,
   "metadata": {},
   "outputs": [
    {
     "name": "stdout",
     "output_type": "stream",
     "text": [
      "<?xml version=\"1.0\" encoding=\"UTF-8\" standalone=\"yes\"?><response><header><resultCode>00</resultCode><resultMsg>NORMAL SERVICE.</resultMsg></header><body><items><item><carelesscause>담배꽁초</carelesscause><fire>1151</fire><regdate>01</regdate></item><item><carelesscause>용접, 절단, 연마</carelesscause><fire>206</fire><regdate>01</regdate></item><item><carelesscause>담배꽁초</carelesscause><fire>732</fire><regdate>10</regdate></item><item><carelesscause>불씨,불꽃,화원방치</carelesscause><fire>770</fire><regdate>02</regdate></item><item><carelesscause>담배꽁초</carelesscause><fire>951</fire><regdate>08</regdate></item><item><carelesscause>음식물 조리중</carelesscause><fire>850</fire><regdate>09</regdate></item><item><carelesscause>용접, 절단, 연마</carelesscause><fire>177</fire><regdate>02</regdate></item><item><carelesscause>가연물 근접방치</carelesscause><fire>87</fire><regdate>06</regdate></item><item><carelesscause>불장난</carelesscause><fire>45</fire><regdate>10</regdate></item><item><carelesscause>빨래삶기</carelesscause><fire>30</fire><regdate>10</regdate></item><item><carelesscause>용접, 절단, 연마</carelesscause><fire>90</fire><regdate>12</regdate></item><item><carelesscause>폭죽놀이</carelesscause><fire>1</fire><regdate>07</regdate></item><item><carelesscause>논,임야태우기</carelesscause><fire>42</fire><regdate>09</regdate></item><item><carelesscause>폭죽놀이</carelesscause><fire>2</fire><regdate>09</regdate></item><item><carelesscause>담배꽁초</carelesscause><fire>1622</fire><regdate>05</regdate></item><item><carelesscause>음식물 조리중</carelesscause><fire>702</fire><regdate>04</regdate></item><item><carelesscause>기타(부주의)</carelesscause><fire>255</fire><regdate>05</regdate></item><item><carelesscause>논,임야태우기</carelesscause><fire>221</fire><regdate>04</regdate></item><item><carelesscause>담배꽁초</carelesscause><fire>1305</fire><regdate>02</regdate></item><item><carelesscause>쓰레기 소각</carelesscause><fire>568</fire><regdate>06</regdate></item><item><carelesscause>가연물 근접방치</carelesscause><fire>159</fire><regdate>04</regdate></item><item><carelesscause>가연물 근접방치</carelesscause><fire>141</fire><regdate>12</regdate></item><item><carelesscause>음식물 조리중</carelesscause><fire>315</fire><regdate>11</regdate></item><item><carelesscause>논,임야태우기</carelesscause><fire>147</fire><regdate>06</regdate></item><item><carelesscause>쓰레기 소각</carelesscause><fire>145</fire><regdate>11</regdate></item><item><carelesscause>용접, 절단, 연마</carelesscause><fire>72</fire><regdate>11</regdate></item><item><carelesscause>폭죽놀이</carelesscause><fire>7</fire><regdate>03</regdate></item><item><carelesscause>폭죽놀이</carelesscause><fire>2</fire><regdate>06</regdate></item><item><carelesscause>폭죽놀이</carelesscause><fire>6</fire><regdate>05</regdate></item><item><carelesscause>유류 취급중</carelesscause><fire>9</fire><regdate>11</regdate></item><item><carelesscause>불씨,불꽃,화원방치</carelesscause><fire>455</fire><regdate>05</regdate></item><item><carelesscause>용접, 절단, 연마</carelesscause><fire>207</fire><regdate>05</regdate></item><item><carelesscause>음식물 조리중</carelesscause><fire>803</fire><regdate>05</regdate></item><item><carelesscause>기타(부주의)</carelesscause><fire>289</fire><regdate>04</regdate></item><item><carelesscause>쓰레기 소각</carelesscause><fire>362</fire><regdate>10</regdate></item><item><carelesscause>유류 취급중</carelesscause><fire>28</fire><regdate>01</regdate></item><item><carelesscause>쓰레기 소각</carelesscause><fire>440</fire><regdate>01</regdate></item><item><carelesscause>음식물 조리중</carelesscause><fire>789</fire><regdate>07</regdate></item><item><carelesscause>불씨,불꽃,화원방치</carelesscause><fire>348</fire><regdate>09</regdate></item><item><carelesscause>기타(부주의)</carelesscause><fire>359</fire><regdate>02</regdate></item><item><carelesscause>빨래삶기</carelesscause><fire>27</fire><regdate>04</regdate></item><item><carelesscause>담배꽁초</carelesscause><fire>940</fire><regdate>09</regdate></item><item><carelesscause>불씨,불꽃,화원방치</carelesscause><fire>294</fire><regdate>12</regdate></item><item><carelesscause>용접, 절단, 연마</carelesscause><fire>136</fire><regdate>09</regdate></item><item><carelesscause>빨래삶기</carelesscause><fire>23</fire><regdate>03</regdate></item><item><carelesscause>불장난</carelesscause><fire>18</fire><regdate>11</regdate></item><item><carelesscause>용접, 절단, 연마</carelesscause><fire>158</fire><regdate>06</regdate></item><item><carelesscause>빨래삶기</carelesscause><fire>36</fire><regdate>06</regdate></item><item><carelesscause>불씨,불꽃,화원방치</carelesscause><fire>181</fire><regdate>11</regdate></item><item><carelesscause>빨래삶기</carelesscause><fire>18</fire><regdate>02</regdate></item><item><carelesscause>가연물 근접방치</carelesscause><fire>80</fire><regdate>11</regdate></item><item><carelesscause>쓰레기 소각</carelesscause><fire>425</fire><regdate>08</regdate></item><item><carelesscause>유류 취급중</carelesscause><fire>16</fire><regdate>07</regdate></item><item><carelesscause>유류 취급중</carelesscause><fire>8</fire><regdate>08</regdate></item><item><carelesscause>폭죽놀이</carelesscause><fire>2</fire><regdate>10</regdate></item><item><carelesscause>폭죽놀이</carelesscause><fire>4</fire><regdate>08</regdate></item><item><carelesscause>쓰레기 소각</carelesscause><fire>684</fire><regdate>05</regdate></item><item><carelesscause>불장난</carelesscause><fire>58</fire><regdate>05</regdate></item><item><carelesscause>쓰레기 소각</carelesscause><fire>454</fire><regdate>09</regdate></item><item><carelesscause>불장난</carelesscause><fire>101</fire><regdate>02</regdate></item><item><carelesscause>용접, 절단, 연마</carelesscause><fire>290</fire><regdate>03</regdate></item><item><carelesscause>불씨,불꽃,화원방치</carelesscause><fire>867</fire><regdate>03</regdate></item><item><carelesscause>불장난</carelesscause><fire>141</fire><regdate>03</regdate></item><item><carelesscause>논,임야태우기</carelesscause><fire>967</fire><regdate>03</regdate></item><item><carelesscause>쓰레기 소각</carelesscause><fire>250</fire><regdate>07</regdate></item><item><carelesscause>기타(부주의)</carelesscause><fire>137</fire><regdate>11</regdate></item><item><carelesscause>논,임야태우기</carelesscause><fire>31</fire><regdate>08</regdate></item><item><carelesscause>유류 취급중</carelesscause><fire>15</fire><regdate>05</regdate></item><item><carelesscause>빨래삶기</carelesscause><fire>15</fire><regdate>11</regdate></item><item><carelesscause>논,임야태우기</carelesscause><fire>23</fire><regdate>12</regdate></item><item><carelesscause>불씨,불꽃,화원방치</carelesscause><fire>364</fire><regdate>10</regdate></item><item><carelesscause>빨래삶기</carelesscause><fire>30</fire><regdate>05</regdate></item><item><carelesscause>불씨,불꽃,화원방치</carelesscause><fire>468</fire><regdate>04</regdate></item><item><carelesscause>불씨,불꽃,화원방치</carelesscause><fire>796</fire><regdate>01</regdate></item><item><carelesscause>빨래삶기</carelesscause><fire>15</fire><regdate>01</regdate></item><item><carelesscause>쓰레기 소각</carelesscause><fire>785</fire><regdate>02</regdate></item><item><carelesscause>담배꽁초</carelesscause><fire>631</fire><regdate>07</regdate></item><item><carelesscause>기타(부주의)</carelesscause><fire>162</fire><regdate>12</regdate></item><item><carelesscause>담배꽁초</carelesscause><fire>1282</fire><regdate>06</regdate></item><item><carelesscause>용접, 절단, 연마</carelesscause><fire>228</fire><regdate>04</regdate></item><item><carelesscause>가연물 근접방치</carelesscause><fire>274</fire><regdate>03</regdate></item><item><carelesscause>불씨,불꽃,화원방치</carelesscause><fire>203</fire><regdate>07</regdate></item><item><carelesscause>유류 취급중</carelesscause><fire>20</fire><regdate>03</regdate></item><item><carelesscause>빨래삶기</carelesscause><fire>27</fire><regdate>08</regdate></item><item><carelesscause>기타(부주의)</carelesscause><fire>219</fire><regdate>09</regdate></item><item><carelesscause>가연물 근접방치</carelesscause><fire>116</fire><regdate>09</regdate></item><item><carelesscause>불장난</carelesscause><fire>26</fire><regdate>06</regdate></item><item><carelesscause>유류 취급중</carelesscause><fire>12</fire><regdate>09</regdate></item><item><carelesscause>폭죽놀이</carelesscause><fire>5</fire><regdate>04</regdate></item><item><carelesscause>유류 취급중</carelesscause><fire>11</fire><regdate>12</regdate></item><item><carelesscause>기타(부주의)</carelesscause><fire>265</fire><regdate>10</regdate></item><item><carelesscause>음식물 조리중</carelesscause><fire>617</fire><regdate>02</regdate></item><item><carelesscause>음식물 조리중</carelesscause><fire>795</fire><regdate>08</regdate></item><item><carelesscause>기타(부주의)</carelesscause><fire>221</fire><regdate>06</regdate></item><item><carelesscause>음식물 조리중</carelesscause><fire>793</fire><regdate>10</regdate></item><item><carelesscause>기타(부주의)</carelesscause><fire>217</fire><regdate>08</regdate></item><item><carelesscause>기타(부주의)</carelesscause><fire>364</fire><regdate>01</regdate></item><item><carelesscause>가연물 근접방치</carelesscause><fire>322</fire><regdate>02</regdate></item><item><carelesscause>논,임야태우기</carelesscause><fire>274</fire><regdate>02</regdate></item><item><carelesscause>용접, 절단, 연마</carelesscause><fire>127</fire><regdate>08</regdate></item><item><carelesscause>음식물 조리중</carelesscause><fire>774</fire><regdate>06</regdate></item><item><carelesscause>불장난</carelesscause><fire>78</fire><regdate>01</regdate></item><item><carelesscause>폭죽놀이</carelesscause><fire>9</fire><regdate>01</regdate></item><item><carelesscause>빨래삶기</carelesscause><fire>13</fire><regdate>12</regdate></item><item><carelesscause>담배꽁초</carelesscause><fire>370</fire><regdate>12</regdate></item><item><carelesscause>폭죽놀이</carelesscause><fire>15</fire><regdate>02</regdate></item><item><carelesscause>빨래삶기</carelesscause><fire>48</fire><regdate>09</regdate></item><item><carelesscause>유류 취급중</carelesscause><fire>7</fire><regdate>04</regdate></item><item><carelesscause>폭죽놀이</carelesscause><fire>3</fire><regdate>12</regdate></item><item><carelesscause>논,임야태우기</carelesscause><fire>155</fire><regdate>05</regdate></item><item><carelesscause>쓰레기 소각</carelesscause><fire>611</fire><regdate>04</regdate></item><item><carelesscause>음식물 조리중</carelesscause><fire>568</fire><regdate>01</regdate></item><item><carelesscause>기타(부주의)</carelesscause><fire>539</fire><regdate>03</regdate></item><item><carelesscause>가연물 근접방치</carelesscause><fire>143</fire><regdate>10</regdate></item><item><carelesscause>가연물 근접방치</carelesscause><fire>365</fire><regdate>01</regdate></item><item><carelesscause>용접, 절단, 연마</carelesscause><fire>108</fire><regdate>07</regdate></item><item><carelesscause>담배꽁초</carelesscause><fire>236</fire><regdate>11</regdate></item><item><carelesscause>불씨,불꽃,화원방치</carelesscause><fire>277</fire><regdate>08</regdate></item><item><carelesscause>음식물 조리중</carelesscause><fire>327</fire><regdate>12</regdate></item><item><carelesscause>쓰레기 소각</carelesscause><fire>139</fire><regdate>12</regdate></item><item><carelesscause>유류 취급중</carelesscause><fire>18</fire><regdate>10</regdate></item><item><carelesscause>가연물 근접방치</carelesscause><fire>73</fire><regdate>07</regdate></item><item><carelesscause>빨래삶기</carelesscause><fire>46</fire><regdate>07</regdate></item><item><carelesscause>불장난</carelesscause><fire>66</fire><regdate>04</regdate></item><item><carelesscause>불장난</carelesscause><fire>32</fire><regdate>09</regdate></item><item><carelesscause>논,임야태우기</carelesscause><fire>78</fire><regdate>10</regdate></item><item><carelesscause>담배꽁초</carelesscause><fire>1245</fire><regdate>04</regdate></item><item><carelesscause>가연물 근접방치</carelesscause><fire>127</fire><regdate>05</regdate></item><item><carelesscause>담배꽁초</carelesscause><fire>2047</fire><regdate>03</regdate></item><item><carelesscause>음식물 조리중</carelesscause><fire>724</fire><regdate>03</regdate></item><item><carelesscause>쓰레기 소각</carelesscause><fire>1547</fire><regdate>03</regdate></item><item><carelesscause>용접, 절단, 연마</carelesscause><fire>182</fire><regdate>10</regdate></item><item><carelesscause>가연물 근접방치</carelesscause><fire>84</fire><regdate>08</regdate></item><item><carelesscause>불장난</carelesscause><fire>32</fire><regdate>12</regdate></item><item><carelesscause>논,임야태우기</carelesscause><fire>84</fire><regdate>01</regdate></item><item><carelesscause>기타(부주의)</carelesscause><fire>163</fire><regdate>07</regdate></item><item><carelesscause>불씨,불꽃,화원방치</carelesscause><fire>302</fire><regdate>06</regdate></item><item><carelesscause>유류 취급중</carelesscause><fire>23</fire><regdate>02</regdate></item><item><carelesscause>논,임야태우기</carelesscause><fire>19</fire><regdate>11</regdate></item><item><carelesscause>불장난</carelesscause><fire>13</fire><regdate>08</regdate></item><item><carelesscause>유류 취급중</carelesscause><fire>13</fire><regdate>06</regdate></item><item><carelesscause>논,임야태우기</carelesscause><fire>25</fire><regdate>07</regdate></item><item><carelesscause>불장난</carelesscause><fire>29</fire><regdate>07</regdate></item></items></body></response>\n"
     ]
    }
   ],
   "source": [
    "# FireCarelessMonthlyCrntSt\n",
    "url = 'http://apis.data.go.kr/1750000/FireStatisticsService/FireCarelessMonthlyCrntSt'\n",
    "\n",
    "payload = {\n",
    "    'ServiceKey': FIRE_KEY\n",
    "  , 'startDate': '20150101'\n",
    "  , 'endDate': '20191010'\n",
    "}\n",
    "\n",
    "response = requests.get(url, params=payload)\n",
    "\n",
    "print(response.text)"
   ]
  },
  {
   "cell_type": "code",
   "execution_count": null,
   "metadata": {},
   "outputs": [],
   "source": [
    "<?xml version=\"1.0\" encoding=\"UTF-8\" standalone=\"yes\"?>\n",
    "<response>\n",
    "    <header>\n",
    "        <resultCode>00</resultCode>\n",
    "        <resultMsg>NORMAL SERVICE.</resultMsg>\n",
    "    </header>\n",
    "    <body>\n",
    "        <items>\n",
    "            <item>\n",
    "                <carelesscause>담배꽁초</carelesscause>\n",
    "                <fire>670</fire>\n",
    "                <regdate>01</regdate>\n",
    "            </item>\n",
    "            <item>\n",
    "                <carelesscause>용접, 절단, 연마</carelesscause>\n",
    "                <fire>120</fire>\n",
    "                <regdate>01</regdate>\n",
    "            </item>\n",
    "            <item>\n",
    "                <carelesscause>불씨,불꽃,화원방치</carelesscause>\n",
    "                <fire>35</fire>\n",
    "                <regdate>02</regdate>\n",
    "            </item>\n",
    "            <item>\n",
    "                <carelesscause>용접, 절단, 연마</carelesscause>\n",
    "                <fire>10</fire>\n",
    "                <regdate>02</regdate>\n",
    "            </item>\n",
    "            <item>\n",
    "                <carelesscause>담배꽁초</carelesscause>\n",
    "                <fire>51</fire>\n",
    "                <regdate>02</regdate>\n",
    "            </item>\n",
    "            <item>\n",
    "                <carelesscause>쓰레기 소각</carelesscause>\n",
    "                <fire>281</fire>\n",
    "                <regdate>01</regdate>\n",
    "            </item>\n",
    "            <item>\n",
    "                <carelesscause>유류 취급중</carelesscause>\n",
    "                <fire>18</fire>\n",
    "                <regdate>01</regdate>\n",
    "            </item>\n",
    "            <item>\n",
    "                <carelesscause>기타(부주의)</carelesscause>\n",
    "                <fire>11</fire>\n",
    "                <regdate>02</regdate>\n",
    "            </item>\n",
    "            <item>\n",
    "                <carelesscause>불장난</carelesscause>\n",
    "                <fire>3</fire>\n",
    "                <regdate>02</regdate>\n",
    "            </item>\n",
    "            <item>\n",
    "                <carelesscause>불씨,불꽃,화원방치</carelesscause>\n",
    "                <fire>456</fire>\n",
    "                <regdate>01</regdate>\n",
    "            </item>\n",
    "            <item>\n",
    "                <carelesscause>빨래삶기</carelesscause>\n",
    "                <fire>8</fire>\n",
    "                <regdate>01</regdate>\n",
    "            </item>\n",
    "            <item>\n",
    "                <carelesscause>쓰레기 소각</carelesscause>\n",
    "                <fire>26</fire>\n",
    "                <regdate>02</regdate>\n",
    "            </item>\n",
    "            <item>\n",
    "                <carelesscause>기타(부주의)</carelesscause>\n",
    "                <fire>191</fire>\n",
    "                <regdate>01</regdate>\n",
    "            </item>\n",
    "            <item>\n",
    "                <carelesscause>불장난</carelesscause>\n",
    "                <fire>38</fire>\n",
    "                <regdate>01</regdate>\n",
    "            </item>\n",
    "            <item>\n",
    "                <carelesscause>가연물 근접방치</carelesscause>\n",
    "                <fire>18</fire>\n",
    "                <regdate>02</regdate>\n",
    "            </item>\n",
    "            <item>\n",
    "                <carelesscause>논,임야태우기</carelesscause>\n",
    "                <fire>8</fire>\n",
    "                <regdate>02</regdate>\n",
    "            </item>\n",
    "            <item>\n",
    "                <carelesscause>음식물 조리중</carelesscause>\n",
    "                <fire>31</fire>\n",
    "                <regdate>02</regdate>\n",
    "            </item>\n",
    "            <item>\n",
    "                <carelesscause>폭죽놀이</carelesscause>\n",
    "                <fire>2</fire>\n",
    "                <regdate>01</regdate>\n",
    "            </item>\n",
    "            <item>\n",
    "                <carelesscause>가연물 근접방치</carelesscause>\n",
    "                <fire>238</fire>\n",
    "                <regdate>01</regdate>\n",
    "            </item>\n",
    "            <item>\n",
    "                <carelesscause>음식물 조리중</carelesscause>\n",
    "                <fire>285</fire>\n",
    "                <regdate>01</regdate>\n",
    "            </item>\n",
    "            <item>\n",
    "                <carelesscause>논,임야태우기</carelesscause>\n",
    "                <fire>54</fire>\n",
    "                <regdate>01</regdate>\n",
    "            </item>\n",
    "            <item>\n",
    "                <carelesscause>유류 취급중</carelesscause>\n",
    "                <fire>2</fire>\n",
    "                <regdate>02</regdate>\n",
    "            </item>\n",
    "        </items>\n",
    "    </body>\n",
    "</response>"
   ]
  },
  {
   "cell_type": "code",
   "execution_count": 41,
   "metadata": {},
   "outputs": [
    {
     "data": {
      "text/plain": [
       "12613"
      ]
     },
     "execution_count": 41,
     "metadata": {},
     "output_type": "execute_result"
    }
   ],
   "source": [
    "len(response.text)"
   ]
  },
  {
   "cell_type": "code",
   "execution_count": 42,
   "metadata": {},
   "outputs": [
    {
     "data": {
      "text/plain": [
       "[<Element 'carelesscause' at 0x000002B1CDA0B8B8>,\n",
       " <Element 'fire' at 0x000002B1CDA18048>,\n",
       " <Element 'regdate' at 0x000002B1CDA18098>]"
      ]
     },
     "execution_count": 42,
     "metadata": {},
     "output_type": "execute_result"
    }
   ],
   "source": [
    "item = next(root.iter('item'))\n",
    "\n",
    "list(item)"
   ]
  },
  {
   "cell_type": "code",
   "execution_count": 43,
   "metadata": {},
   "outputs": [],
   "source": [
    "import xml.etree.ElementTree as ET"
   ]
  },
  {
   "cell_type": "code",
   "execution_count": 44,
   "metadata": {},
   "outputs": [],
   "source": [
    "root = ET.fromstring(response.text)"
   ]
  },
  {
   "cell_type": "code",
   "execution_count": 45,
   "metadata": {},
   "outputs": [
    {
     "name": "stdout",
     "output_type": "stream",
     "text": [
      "담배꽁초 | 1151 | 01\n",
      "용접, 절단, 연마 | 206 | 01\n",
      "담배꽁초 | 732 | 10\n",
      "불씨,불꽃,화원방치 | 770 | 02\n",
      "담배꽁초 | 951 | 08\n",
      "음식물 조리중 | 850 | 09\n",
      "용접, 절단, 연마 | 177 | 02\n",
      "가연물 근접방치 | 87 | 06\n",
      "불장난 | 45 | 10\n",
      "빨래삶기 | 30 | 10\n",
      "용접, 절단, 연마 | 90 | 12\n",
      "폭죽놀이 | 1 | 07\n",
      "논,임야태우기 | 42 | 09\n",
      "폭죽놀이 | 2 | 09\n",
      "담배꽁초 | 1622 | 05\n",
      "음식물 조리중 | 702 | 04\n",
      "기타(부주의) | 255 | 05\n",
      "논,임야태우기 | 221 | 04\n",
      "담배꽁초 | 1305 | 02\n",
      "쓰레기 소각 | 568 | 06\n",
      "가연물 근접방치 | 159 | 04\n",
      "가연물 근접방치 | 141 | 12\n",
      "음식물 조리중 | 315 | 11\n",
      "논,임야태우기 | 147 | 06\n",
      "쓰레기 소각 | 145 | 11\n",
      "용접, 절단, 연마 | 72 | 11\n",
      "폭죽놀이 | 7 | 03\n",
      "폭죽놀이 | 2 | 06\n",
      "폭죽놀이 | 6 | 05\n",
      "유류 취급중 | 9 | 11\n",
      "불씨,불꽃,화원방치 | 455 | 05\n",
      "용접, 절단, 연마 | 207 | 05\n",
      "음식물 조리중 | 803 | 05\n",
      "기타(부주의) | 289 | 04\n",
      "쓰레기 소각 | 362 | 10\n",
      "유류 취급중 | 28 | 01\n",
      "쓰레기 소각 | 440 | 01\n",
      "음식물 조리중 | 789 | 07\n",
      "불씨,불꽃,화원방치 | 348 | 09\n",
      "기타(부주의) | 359 | 02\n",
      "빨래삶기 | 27 | 04\n",
      "담배꽁초 | 940 | 09\n",
      "불씨,불꽃,화원방치 | 294 | 12\n",
      "용접, 절단, 연마 | 136 | 09\n",
      "빨래삶기 | 23 | 03\n",
      "불장난 | 18 | 11\n",
      "용접, 절단, 연마 | 158 | 06\n",
      "빨래삶기 | 36 | 06\n",
      "불씨,불꽃,화원방치 | 181 | 11\n",
      "빨래삶기 | 18 | 02\n",
      "가연물 근접방치 | 80 | 11\n",
      "쓰레기 소각 | 425 | 08\n",
      "유류 취급중 | 16 | 07\n",
      "유류 취급중 | 8 | 08\n",
      "폭죽놀이 | 2 | 10\n",
      "폭죽놀이 | 4 | 08\n",
      "쓰레기 소각 | 684 | 05\n",
      "불장난 | 58 | 05\n",
      "쓰레기 소각 | 454 | 09\n",
      "불장난 | 101 | 02\n",
      "용접, 절단, 연마 | 290 | 03\n",
      "불씨,불꽃,화원방치 | 867 | 03\n",
      "불장난 | 141 | 03\n",
      "논,임야태우기 | 967 | 03\n",
      "쓰레기 소각 | 250 | 07\n",
      "기타(부주의) | 137 | 11\n",
      "논,임야태우기 | 31 | 08\n",
      "유류 취급중 | 15 | 05\n",
      "빨래삶기 | 15 | 11\n",
      "논,임야태우기 | 23 | 12\n",
      "불씨,불꽃,화원방치 | 364 | 10\n",
      "빨래삶기 | 30 | 05\n",
      "불씨,불꽃,화원방치 | 468 | 04\n",
      "불씨,불꽃,화원방치 | 796 | 01\n",
      "빨래삶기 | 15 | 01\n",
      "쓰레기 소각 | 785 | 02\n",
      "담배꽁초 | 631 | 07\n",
      "기타(부주의) | 162 | 12\n",
      "담배꽁초 | 1282 | 06\n",
      "용접, 절단, 연마 | 228 | 04\n",
      "가연물 근접방치 | 274 | 03\n",
      "불씨,불꽃,화원방치 | 203 | 07\n",
      "유류 취급중 | 20 | 03\n",
      "빨래삶기 | 27 | 08\n",
      "기타(부주의) | 219 | 09\n",
      "가연물 근접방치 | 116 | 09\n",
      "불장난 | 26 | 06\n",
      "유류 취급중 | 12 | 09\n",
      "폭죽놀이 | 5 | 04\n",
      "유류 취급중 | 11 | 12\n",
      "기타(부주의) | 265 | 10\n",
      "음식물 조리중 | 617 | 02\n",
      "음식물 조리중 | 795 | 08\n",
      "기타(부주의) | 221 | 06\n",
      "음식물 조리중 | 793 | 10\n",
      "기타(부주의) | 217 | 08\n",
      "기타(부주의) | 364 | 01\n",
      "가연물 근접방치 | 322 | 02\n",
      "논,임야태우기 | 274 | 02\n",
      "용접, 절단, 연마 | 127 | 08\n",
      "음식물 조리중 | 774 | 06\n",
      "불장난 | 78 | 01\n",
      "폭죽놀이 | 9 | 01\n",
      "빨래삶기 | 13 | 12\n",
      "담배꽁초 | 370 | 12\n",
      "폭죽놀이 | 15 | 02\n",
      "빨래삶기 | 48 | 09\n",
      "유류 취급중 | 7 | 04\n",
      "폭죽놀이 | 3 | 12\n",
      "논,임야태우기 | 155 | 05\n",
      "쓰레기 소각 | 611 | 04\n",
      "음식물 조리중 | 568 | 01\n",
      "기타(부주의) | 539 | 03\n",
      "가연물 근접방치 | 143 | 10\n",
      "가연물 근접방치 | 365 | 01\n",
      "용접, 절단, 연마 | 108 | 07\n",
      "담배꽁초 | 236 | 11\n",
      "불씨,불꽃,화원방치 | 277 | 08\n",
      "음식물 조리중 | 327 | 12\n",
      "쓰레기 소각 | 139 | 12\n",
      "유류 취급중 | 18 | 10\n",
      "가연물 근접방치 | 73 | 07\n",
      "빨래삶기 | 46 | 07\n",
      "불장난 | 66 | 04\n",
      "불장난 | 32 | 09\n",
      "논,임야태우기 | 78 | 10\n",
      "담배꽁초 | 1245 | 04\n",
      "가연물 근접방치 | 127 | 05\n",
      "담배꽁초 | 2047 | 03\n",
      "음식물 조리중 | 724 | 03\n",
      "쓰레기 소각 | 1547 | 03\n",
      "용접, 절단, 연마 | 182 | 10\n",
      "가연물 근접방치 | 84 | 08\n",
      "불장난 | 32 | 12\n",
      "논,임야태우기 | 84 | 01\n",
      "기타(부주의) | 163 | 07\n",
      "불씨,불꽃,화원방치 | 302 | 06\n",
      "유류 취급중 | 23 | 02\n",
      "논,임야태우기 | 19 | 11\n",
      "불장난 | 13 | 08\n",
      "유류 취급중 | 13 | 06\n",
      "논,임야태우기 | 25 | 07\n",
      "불장난 | 29 | 07\n"
     ]
    }
   ],
   "source": [
    "for item in root.iter('item'):\n",
    "    cause = item.find('carelesscause').text\n",
    "    fire = item.find('fire').text\n",
    "    regdate = item.find('regdate').text\n",
    "    print(f'{cause} | {fire} | {regdate}')"
   ]
  },
  {
   "cell_type": "code",
   "execution_count": 47,
   "metadata": {},
   "outputs": [],
   "source": [
    "item = next(root.iter('item'))\n",
    "\n",
    "columns = []\n",
    "\n",
    "for child in item:\n",
    "    columns.append(child.tag)"
   ]
  },
  {
   "cell_type": "code",
   "execution_count": 48,
   "metadata": {},
   "outputs": [],
   "source": [
    "rows = []\n",
    "\n",
    "for item in root.iter('item'):\n",
    "    row = {}\n",
    "    for child in list(item):\n",
    "        row[child.tag] = child.text\n",
    "    rows.append(row)"
   ]
  },
  {
   "cell_type": "code",
   "execution_count": 50,
   "metadata": {},
   "outputs": [
    {
     "name": "stdout",
     "output_type": "stream",
     "text": [
      "(143, 3)\n"
     ]
    },
    {
     "data": {
      "text/html": [
       "<div>\n",
       "<style scoped>\n",
       "    .dataframe tbody tr th:only-of-type {\n",
       "        vertical-align: middle;\n",
       "    }\n",
       "\n",
       "    .dataframe tbody tr th {\n",
       "        vertical-align: top;\n",
       "    }\n",
       "\n",
       "    .dataframe thead th {\n",
       "        text-align: right;\n",
       "    }\n",
       "</style>\n",
       "<table border=\"1\" class=\"dataframe\">\n",
       "  <thead>\n",
       "    <tr style=\"text-align: right;\">\n",
       "      <th></th>\n",
       "      <th>carelesscause</th>\n",
       "      <th>fire</th>\n",
       "      <th>regdate</th>\n",
       "    </tr>\n",
       "  </thead>\n",
       "  <tbody>\n",
       "    <tr>\n",
       "      <th>45</th>\n",
       "      <td>불장난</td>\n",
       "      <td>18</td>\n",
       "      <td>11</td>\n",
       "    </tr>\n",
       "  </tbody>\n",
       "</table>\n",
       "</div>"
      ],
      "text/plain": [
       "   carelesscause fire regdate\n",
       "45           불장난   18      11"
      ]
     },
     "execution_count": 50,
     "metadata": {},
     "output_type": "execute_result"
    }
   ],
   "source": [
    "df = pd.DataFrame(rows, columns=columns)\n",
    "\n",
    "print(df.shape)\n",
    "df.sample()"
   ]
  },
  {
   "cell_type": "code",
   "execution_count": 51,
   "metadata": {},
   "outputs": [],
   "source": [
    "import matplotlib\n",
    "import matplotlib.pyplot as plt\n",
    "import seaborn as sns"
   ]
  },
  {
   "cell_type": "code",
   "execution_count": 52,
   "metadata": {},
   "outputs": [],
   "source": [
    "%matplotlib inline"
   ]
  },
  {
   "cell_type": "code",
   "execution_count": 61,
   "metadata": {},
   "outputs": [
    {
     "data": {
      "text/plain": [
       "['NanumGothic']"
      ]
     },
     "execution_count": 61,
     "metadata": {},
     "output_type": "execute_result"
    }
   ],
   "source": [
    "import matplotlib.font_manager as fm\n",
    "\n",
    "for font in fm.fontManager.ttflist:\n",
    "    if font.name in ['NanumGothic', 'AppleGothic']:\n",
    "        plt.rcParams['font.family'] = font.name\n",
    "        break\n",
    "        \n",
    "plt.rcParams['font.family']"
   ]
  },
  {
   "cell_type": "code",
   "execution_count": 64,
   "metadata": {},
   "outputs": [
    {
     "name": "stdout",
     "output_type": "stream",
     "text": [
      "(12, 1)\n"
     ]
    },
    {
     "data": {
      "text/html": [
       "<div>\n",
       "<style scoped>\n",
       "    .dataframe tbody tr th:only-of-type {\n",
       "        vertical-align: middle;\n",
       "    }\n",
       "\n",
       "    .dataframe tbody tr th {\n",
       "        vertical-align: top;\n",
       "    }\n",
       "\n",
       "    .dataframe thead th {\n",
       "        text-align: right;\n",
       "    }\n",
       "</style>\n",
       "<table border=\"1\" class=\"dataframe\">\n",
       "  <thead>\n",
       "    <tr style=\"text-align: right;\">\n",
       "      <th></th>\n",
       "      <th>fire</th>\n",
       "    </tr>\n",
       "    <tr>\n",
       "      <th>carelesscause</th>\n",
       "      <th></th>\n",
       "    </tr>\n",
       "  </thead>\n",
       "  <tbody>\n",
       "    <tr>\n",
       "      <th>가연물 근접방치</th>\n",
       "      <td>12</td>\n",
       "    </tr>\n",
       "    <tr>\n",
       "      <th>기타(부주의)</th>\n",
       "      <td>12</td>\n",
       "    </tr>\n",
       "    <tr>\n",
       "      <th>논,임야태우기</th>\n",
       "      <td>12</td>\n",
       "    </tr>\n",
       "    <tr>\n",
       "      <th>담배꽁초</th>\n",
       "      <td>12</td>\n",
       "    </tr>\n",
       "    <tr>\n",
       "      <th>불씨,불꽃,화원방치</th>\n",
       "      <td>12</td>\n",
       "    </tr>\n",
       "    <tr>\n",
       "      <th>불장난</th>\n",
       "      <td>12</td>\n",
       "    </tr>\n",
       "    <tr>\n",
       "      <th>빨래삶기</th>\n",
       "      <td>12</td>\n",
       "    </tr>\n",
       "    <tr>\n",
       "      <th>쓰레기 소각</th>\n",
       "      <td>12</td>\n",
       "    </tr>\n",
       "    <tr>\n",
       "      <th>용접, 절단, 연마</th>\n",
       "      <td>12</td>\n",
       "    </tr>\n",
       "    <tr>\n",
       "      <th>유류 취급중</th>\n",
       "      <td>12</td>\n",
       "    </tr>\n",
       "    <tr>\n",
       "      <th>음식물 조리중</th>\n",
       "      <td>12</td>\n",
       "    </tr>\n",
       "    <tr>\n",
       "      <th>폭죽놀이</th>\n",
       "      <td>11</td>\n",
       "    </tr>\n",
       "  </tbody>\n",
       "</table>\n",
       "</div>"
      ],
      "text/plain": [
       "               fire\n",
       "carelesscause      \n",
       "가연물 근접방치         12\n",
       "기타(부주의)          12\n",
       "논,임야태우기          12\n",
       "담배꽁초             12\n",
       "불씨,불꽃,화원방치       12\n",
       "불장난              12\n",
       "빨래삶기             12\n",
       "쓰레기 소각           12\n",
       "용접, 절단, 연마       12\n",
       "유류 취급중           12\n",
       "음식물 조리중          12\n",
       "폭죽놀이             11"
      ]
     },
     "execution_count": 64,
     "metadata": {},
     "output_type": "execute_result"
    }
   ],
   "source": [
    "data = pd.DataFrame(df.groupby('carelesscause')['fire'].count())\n",
    "\n",
    "print(data.shape)\n",
    "data"
   ]
  },
  {
   "cell_type": "code",
   "execution_count": 65,
   "metadata": {},
   "outputs": [
    {
     "data": {
      "image/png": "[encoded data removed]",
      "text/plain": [
       "<Figure size 432x288 with 1 Axes>"
      ]
     },
     "metadata": {},
     "output_type": "display_data"
    }
   ],
   "source": [
    "plt.pie('fire', data=data)\n",
    "plt.show()"
   ]
  },
  {
   "cell_type": "markdown",
   "metadata": {},
   "source": [
    "# 화재규모?"
   ]
  },
  {
   "cell_type": "code",
   "execution_count": 69,
   "metadata": {},
   "outputs": [
    {
     "data": {
      "text/html": [
       "<div>\n",
       "<style scoped>\n",
       "    .dataframe tbody tr th:only-of-type {\n",
       "        vertical-align: middle;\n",
       "    }\n",
       "\n",
       "    .dataframe tbody tr th {\n",
       "        vertical-align: top;\n",
       "    }\n",
       "\n",
       "    .dataframe thead th {\n",
       "        text-align: right;\n",
       "    }\n",
       "</style>\n",
       "<table border=\"1\" class=\"dataframe\">\n",
       "  <thead>\n",
       "    <tr style=\"text-align: right;\">\n",
       "      <th></th>\n",
       "      <th>carelesscause</th>\n",
       "      <th>fire</th>\n",
       "      <th>regdate</th>\n",
       "      <th>fire(int)</th>\n",
       "    </tr>\n",
       "  </thead>\n",
       "  <tbody>\n",
       "    <tr>\n",
       "      <th>86</th>\n",
       "      <td>불장난</td>\n",
       "      <td>26</td>\n",
       "      <td>06</td>\n",
       "      <td>26</td>\n",
       "    </tr>\n",
       "  </tbody>\n",
       "</table>\n",
       "</div>"
      ],
      "text/plain": [
       "   carelesscause fire regdate  fire(int)\n",
       "86           불장난   26      06         26"
      ]
     },
     "execution_count": 69,
     "metadata": {},
     "output_type": "execute_result"
    }
   ],
   "source": [
    "df['fire(int)'] = df['fire'].apply(lambda x: int(x))\n",
    "\n",
    "df.sample()"
   ]
  },
  {
   "cell_type": "code",
   "execution_count": 79,
   "metadata": {},
   "outputs": [
    {
     "name": "stdout",
     "output_type": "stream",
     "text": [
      "(12, 2)\n"
     ]
    },
    {
     "data": {
      "text/html": [
       "<div>\n",
       "<style scoped>\n",
       "    .dataframe tbody tr th:only-of-type {\n",
       "        vertical-align: middle;\n",
       "    }\n",
       "\n",
       "    .dataframe tbody tr th {\n",
       "        vertical-align: top;\n",
       "    }\n",
       "\n",
       "    .dataframe thead th {\n",
       "        text-align: right;\n",
       "    }\n",
       "</style>\n",
       "<table border=\"1\" class=\"dataframe\">\n",
       "  <thead>\n",
       "    <tr style=\"text-align: right;\">\n",
       "      <th></th>\n",
       "      <th>carelesscause</th>\n",
       "      <th>fire(int)</th>\n",
       "    </tr>\n",
       "  </thead>\n",
       "  <tbody>\n",
       "    <tr>\n",
       "      <th>0</th>\n",
       "      <td>가연물 근접방치</td>\n",
       "      <td>1971</td>\n",
       "    </tr>\n",
       "    <tr>\n",
       "      <th>1</th>\n",
       "      <td>기타(부주의)</td>\n",
       "      <td>3190</td>\n",
       "    </tr>\n",
       "    <tr>\n",
       "      <th>2</th>\n",
       "      <td>논,임야태우기</td>\n",
       "      <td>2066</td>\n",
       "    </tr>\n",
       "    <tr>\n",
       "      <th>3</th>\n",
       "      <td>담배꽁초</td>\n",
       "      <td>12512</td>\n",
       "    </tr>\n",
       "    <tr>\n",
       "      <th>4</th>\n",
       "      <td>불씨,불꽃,화원방치</td>\n",
       "      <td>5325</td>\n",
       "    </tr>\n",
       "    <tr>\n",
       "      <th>5</th>\n",
       "      <td>불장난</td>\n",
       "      <td>639</td>\n",
       "    </tr>\n",
       "    <tr>\n",
       "      <th>6</th>\n",
       "      <td>빨래삶기</td>\n",
       "      <td>328</td>\n",
       "    </tr>\n",
       "    <tr>\n",
       "      <th>7</th>\n",
       "      <td>쓰레기 소각</td>\n",
       "      <td>6410</td>\n",
       "    </tr>\n",
       "    <tr>\n",
       "      <th>8</th>\n",
       "      <td>용접, 절단, 연마</td>\n",
       "      <td>1981</td>\n",
       "    </tr>\n",
       "    <tr>\n",
       "      <th>9</th>\n",
       "      <td>유류 취급중</td>\n",
       "      <td>180</td>\n",
       "    </tr>\n",
       "    <tr>\n",
       "      <th>10</th>\n",
       "      <td>음식물 조리중</td>\n",
       "      <td>8057</td>\n",
       "    </tr>\n",
       "    <tr>\n",
       "      <th>11</th>\n",
       "      <td>폭죽놀이</td>\n",
       "      <td>56</td>\n",
       "    </tr>\n",
       "  </tbody>\n",
       "</table>\n",
       "</div>"
      ],
      "text/plain": [
       "   carelesscause  fire(int)\n",
       "0       가연물 근접방치       1971\n",
       "1        기타(부주의)       3190\n",
       "2        논,임야태우기       2066\n",
       "3           담배꽁초      12512\n",
       "4     불씨,불꽃,화원방치       5325\n",
       "5            불장난        639\n",
       "6           빨래삶기        328\n",
       "7         쓰레기 소각       6410\n",
       "8     용접, 절단, 연마       1981\n",
       "9         유류 취급중        180\n",
       "10       음식물 조리중       8057\n",
       "11          폭죽놀이         56"
      ]
     },
     "execution_count": 79,
     "metadata": {},
     "output_type": "execute_result"
    }
   ],
   "source": [
    "data = pd.DataFrame(df.groupby('carelesscause')['fire(int)'].sum().reset_index())\n",
    "\n",
    "print(data.shape)\n",
    "data"
   ]
  },
  {
   "cell_type": "code",
   "execution_count": 84,
   "metadata": {},
   "outputs": [
    {
     "data": {
      "text/plain": [
       "(array([ 0,  1,  2,  3,  4,  5,  6,  7,  8,  9, 10, 11]),\n",
       " <a list of 12 Text xticklabel objects>)"
      ]
     },
     "execution_count": 84,
     "metadata": {},
     "output_type": "execute_result"
    },
    {
     "data": {
      "image/png": "[encoded data removed]",
      "text/plain": [
       "<Figure size 432x288 with 1 Axes>"
      ]
     },
     "metadata": {
      "needs_background": "light"
     },
     "output_type": "display_data"
    }
   ],
   "source": [
    "sns.barplot(x='carelesscause', y='fire(int)', data=data)\n",
    "plt.xticks(rotation=90)"
   ]
  },
  {
   "cell_type": "markdown",
   "metadata": {},
   "source": [
    "# regdate"
   ]
  },
  {
   "cell_type": "code",
   "execution_count": 85,
   "metadata": {},
   "outputs": [
    {
     "data": {
      "text/html": [
       "<div>\n",
       "<style scoped>\n",
       "    .dataframe tbody tr th:only-of-type {\n",
       "        vertical-align: middle;\n",
       "    }\n",
       "\n",
       "    .dataframe tbody tr th {\n",
       "        vertical-align: top;\n",
       "    }\n",
       "\n",
       "    .dataframe thead th {\n",
       "        text-align: right;\n",
       "    }\n",
       "</style>\n",
       "<table border=\"1\" class=\"dataframe\">\n",
       "  <thead>\n",
       "    <tr style=\"text-align: right;\">\n",
       "      <th></th>\n",
       "      <th>carelesscause</th>\n",
       "      <th>fire</th>\n",
       "      <th>regdate</th>\n",
       "      <th>fire(int)</th>\n",
       "      <th>regdate(int)</th>\n",
       "    </tr>\n",
       "  </thead>\n",
       "  <tbody>\n",
       "    <tr>\n",
       "      <th>69</th>\n",
       "      <td>논,임야태우기</td>\n",
       "      <td>23</td>\n",
       "      <td>12</td>\n",
       "      <td>23</td>\n",
       "      <td>12</td>\n",
       "    </tr>\n",
       "  </tbody>\n",
       "</table>\n",
       "</div>"
      ],
      "text/plain": [
       "   carelesscause fire regdate  fire(int)  regdate(int)\n",
       "69       논,임야태우기   23      12         23            12"
      ]
     },
     "execution_count": 85,
     "metadata": {},
     "output_type": "execute_result"
    }
   ],
   "source": [
    "df['regdate(int)'] = df['regdate'].apply(lambda x: int(x))\n",
    "\n",
    "df.sample()"
   ]
  },
  {
   "cell_type": "code",
   "execution_count": 90,
   "metadata": {},
   "outputs": [
    {
     "data": {
      "text/html": [
       "<div>\n",
       "<style scoped>\n",
       "    .dataframe tbody tr th:only-of-type {\n",
       "        vertical-align: middle;\n",
       "    }\n",
       "\n",
       "    .dataframe tbody tr th {\n",
       "        vertical-align: top;\n",
       "    }\n",
       "\n",
       "    .dataframe thead th {\n",
       "        text-align: right;\n",
       "    }\n",
       "</style>\n",
       "<table border=\"1\" class=\"dataframe\">\n",
       "  <thead>\n",
       "    <tr style=\"text-align: right;\">\n",
       "      <th></th>\n",
       "      <th>carelesscause</th>\n",
       "      <th>regdate(int)</th>\n",
       "    </tr>\n",
       "  </thead>\n",
       "  <tbody>\n",
       "    <tr>\n",
       "      <th>3</th>\n",
       "      <td>담배꽁초</td>\n",
       "      <td>6.5</td>\n",
       "    </tr>\n",
       "  </tbody>\n",
       "</table>\n",
       "</div>"
      ],
      "text/plain": [
       "  carelesscause  regdate(int)\n",
       "3          담배꽁초           6.5"
      ]
     },
     "execution_count": 90,
     "metadata": {},
     "output_type": "execute_result"
    }
   ],
   "source": [
    "data = pd.DataFrame(df.groupby('carelesscause')['regdate(int)'].mean().reset_index())\n",
    "\n",
    "data.sample()"
   ]
  },
  {
   "cell_type": "code",
   "execution_count": 92,
   "metadata": {},
   "outputs": [
    {
     "data": {
      "text/plain": [
       "count    143.000000\n",
       "mean       6.468531\n",
       "std        3.455561\n",
       "min        1.000000\n",
       "25%        3.500000\n",
       "50%        6.000000\n",
       "75%        9.000000\n",
       "max       12.000000\n",
       "Name: regdate(int), dtype: float64"
      ]
     },
     "execution_count": 92,
     "metadata": {},
     "output_type": "execute_result"
    }
   ],
   "source": [
    "df['regdate(int)'].describe()"
   ]
  },
  {
   "cell_type": "code",
   "execution_count": 91,
   "metadata": {},
   "outputs": [
    {
     "data": {
      "image/png": "[encoded data removed]",
      "text/plain": [
       "<Figure size 432x288 with 1 Axes>"
      ]
     },
     "metadata": {
      "needs_background": "light"
     },
     "output_type": "display_data"
    }
   ],
   "source": [
    "sns.barplot(x='carelesscause', y='regdate(int)', data=data)\n",
    "plt.xticks(rotation=90)\n",
    "plt.show()"
   ]
  },
  {
   "cell_type": "code",
   "execution_count": null,
   "metadata": {},
   "outputs": [],
   "source": []
  }
 ],
 "metadata": {
  "kernelspec": {
   "display_name": "Python 3",
   "language": "python",
   "name": "python3"
  },
  "language_info": {
   "codemirror_mode": {
    "name": "ipython",
    "version": 3
   },
   "file_extension": ".py",
   "mimetype": "text/x-python",
   "name": "python",
   "nbconvert_exporter": "python",
   "pygments_lexer": "ipython3",
   "version": "3.7.3"
  }
 },
 "nbformat": 4,
 "nbformat_minor": 2
}
