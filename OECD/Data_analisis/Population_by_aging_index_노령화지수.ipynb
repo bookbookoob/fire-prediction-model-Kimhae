{
 "cells": [
  {
   "cell_type": "markdown",
   "metadata": {},
   "source": [
    "# OECD 나라 / 연령대 / 시간대별 인구수 분석"
   ]
  },
  {
   "cell_type": "code",
   "execution_count": 22,
   "metadata": {},
   "outputs": [],
   "source": [
    "import pandas as pd\n",
    "import numpy as np\n",
    "%matplotlib inline\n",
    "import matplotlib \n",
    "import matplotlib.pyplot as plt\n",
    "import seaborn as sns"
   ]
  },
  {
   "cell_type": "markdown",
   "metadata": {},
   "source": [
    "## 데이터 불러오기"
   ]
  },
  {
   "cell_type": "code",
   "execution_count": 196,
   "metadata": {},
   "outputs": [],
   "source": [
    "pdata = pd.read_csv('../Data/Population/01_population.csv')\n",
    "young = pd.read_csv('../Data/Population/02_young_pop.csv')\n",
    "working = pd.read_csv('../Data/Population/03_working_age_pop.csv')\n",
    "elderly = pd.read_csv('../Data/Population/04_elderly_pop.csv')\n",
    "fertility_rates = pd.read_csv('../Data/Population/05_fertility_rates.csv')"
   ]
  },
  {
   "cell_type": "code",
   "execution_count": 197,
   "metadata": {},
   "outputs": [],
   "source": [
    "pdata = pdata.drop(columns='Flag Codes')\n",
    "young = young.drop(columns='Flag Codes')\n",
    "working = working.drop(columns='Flag Codes')\n",
    "elderly = elderly.drop(columns='Flag Codes')\n",
    "fertility_rates = fertility_rates.drop(columns='Flag Codes')"
   ]
  },
  {
   "cell_type": "code",
   "execution_count": 143,
   "metadata": {},
   "outputs": [
    {
     "data": {
      "text/plain": [
       "array(['AUS', 'AUT', 'BEL', 'CAN', 'CZE', 'DNK', 'FIN', 'FRA', 'DEU',\n",
       "       'GRC', 'HUN', 'ISL', 'IRL', 'ITA', 'JPN', 'KOR', 'LUX', 'MEX',\n",
       "       'NLD', 'NZL', 'NOR', 'POL', 'PRT', 'SVK', 'ESP', 'SWE', 'CHE',\n",
       "       'TUR', 'GBR', 'USA', 'BRA', 'CHL', 'COL', 'EST', 'ISR', 'RUS',\n",
       "       'SVN', 'CHN', 'IND', 'IDN', 'ZAF', 'EU28', 'OECD', 'LVA'],\n",
       "      dtype=object)"
      ]
     },
     "execution_count": 143,
     "metadata": {},
     "output_type": "execute_result"
    }
   ],
   "source": [
    "pdata['LOCATION'].unique() # 44개국"
   ]
  },
  {
   "cell_type": "code",
   "execution_count": 144,
   "metadata": {},
   "outputs": [
    {
     "data": {
      "text/html": [
       "<div>\n",
       "<style scoped>\n",
       "    .dataframe tbody tr th:only-of-type {\n",
       "        vertical-align: middle;\n",
       "    }\n",
       "\n",
       "    .dataframe tbody tr th {\n",
       "        vertical-align: top;\n",
       "    }\n",
       "\n",
       "    .dataframe thead th {\n",
       "        text-align: right;\n",
       "    }\n",
       "</style>\n",
       "<table border=\"1\" class=\"dataframe\">\n",
       "  <thead>\n",
       "    <tr style=\"text-align: right;\">\n",
       "      <th></th>\n",
       "      <th>LOCATION</th>\n",
       "      <th>INDICATOR</th>\n",
       "      <th>SUBJECT</th>\n",
       "      <th>MEASURE</th>\n",
       "      <th>FREQUENCY</th>\n",
       "      <th>TIME</th>\n",
       "      <th>Value</th>\n",
       "    </tr>\n",
       "  </thead>\n",
       "  <tbody>\n",
       "    <tr>\n",
       "      <th>1700</th>\n",
       "      <td>GBR</td>\n",
       "      <td>YNGPOP</td>\n",
       "      <td>TOT</td>\n",
       "      <td>PC_POP</td>\n",
       "      <td>A</td>\n",
       "      <td>2001</td>\n",
       "      <td>18.78944</td>\n",
       "    </tr>\n",
       "    <tr>\n",
       "      <th>2326</th>\n",
       "      <td>LVA</td>\n",
       "      <td>YNGPOP</td>\n",
       "      <td>TOT</td>\n",
       "      <td>PC_POP</td>\n",
       "      <td>A</td>\n",
       "      <td>1968</td>\n",
       "      <td>21.87390</td>\n",
       "    </tr>\n",
       "    <tr>\n",
       "      <th>1695</th>\n",
       "      <td>GBR</td>\n",
       "      <td>YNGPOP</td>\n",
       "      <td>TOT</td>\n",
       "      <td>PC_POP</td>\n",
       "      <td>A</td>\n",
       "      <td>1996</td>\n",
       "      <td>19.39860</td>\n",
       "    </tr>\n",
       "    <tr>\n",
       "      <th>2124</th>\n",
       "      <td>OECD</td>\n",
       "      <td>YNGPOP</td>\n",
       "      <td>TOT</td>\n",
       "      <td>PC_POP</td>\n",
       "      <td>A</td>\n",
       "      <td>1981</td>\n",
       "      <td>25.09191</td>\n",
       "    </tr>\n",
       "    <tr>\n",
       "      <th>113</th>\n",
       "      <td>AUT</td>\n",
       "      <td>YNGPOP</td>\n",
       "      <td>TOT</td>\n",
       "      <td>PC_POP</td>\n",
       "      <td>A</td>\n",
       "      <td>2009</td>\n",
       "      <td>15.01685</td>\n",
       "    </tr>\n",
       "    <tr>\n",
       "      <th>132</th>\n",
       "      <td>BEL</td>\n",
       "      <td>YNGPOP</td>\n",
       "      <td>TOT</td>\n",
       "      <td>PC_POP</td>\n",
       "      <td>A</td>\n",
       "      <td>1969</td>\n",
       "      <td>23.69493</td>\n",
       "    </tr>\n",
       "    <tr>\n",
       "      <th>1069</th>\n",
       "      <td>NLD</td>\n",
       "      <td>YNGPOP</td>\n",
       "      <td>TOT</td>\n",
       "      <td>PC_POP</td>\n",
       "      <td>A</td>\n",
       "      <td>1968</td>\n",
       "      <td>27.64810</td>\n",
       "    </tr>\n",
       "    <tr>\n",
       "      <th>1880</th>\n",
       "      <td>COL</td>\n",
       "      <td>YNGPOP</td>\n",
       "      <td>TOT</td>\n",
       "      <td>PC_POP</td>\n",
       "      <td>A</td>\n",
       "      <td>1998</td>\n",
       "      <td>33.94334</td>\n",
       "    </tr>\n",
       "    <tr>\n",
       "      <th>2102</th>\n",
       "      <td>SVN</td>\n",
       "      <td>YNGPOP</td>\n",
       "      <td>TOT</td>\n",
       "      <td>PC_POP</td>\n",
       "      <td>A</td>\n",
       "      <td>2001</td>\n",
       "      <td>15.56780</td>\n",
       "    </tr>\n",
       "    <tr>\n",
       "      <th>70</th>\n",
       "      <td>AUT</td>\n",
       "      <td>YNGPOP</td>\n",
       "      <td>TOT</td>\n",
       "      <td>PC_POP</td>\n",
       "      <td>A</td>\n",
       "      <td>1966</td>\n",
       "      <td>23.61926</td>\n",
       "    </tr>\n",
       "  </tbody>\n",
       "</table>\n",
       "</div>"
      ],
      "text/plain": [
       "     LOCATION INDICATOR SUBJECT MEASURE FREQUENCY  TIME     Value\n",
       "1700      GBR    YNGPOP     TOT  PC_POP         A  2001  18.78944\n",
       "2326      LVA    YNGPOP     TOT  PC_POP         A  1968  21.87390\n",
       "1695      GBR    YNGPOP     TOT  PC_POP         A  1996  19.39860\n",
       "2124     OECD    YNGPOP     TOT  PC_POP         A  1981  25.09191\n",
       "113       AUT    YNGPOP     TOT  PC_POP         A  2009  15.01685\n",
       "132       BEL    YNGPOP     TOT  PC_POP         A  1969  23.69493\n",
       "1069      NLD    YNGPOP     TOT  PC_POP         A  1968  27.64810\n",
       "1880      COL    YNGPOP     TOT  PC_POP         A  1998  33.94334\n",
       "2102      SVN    YNGPOP     TOT  PC_POP         A  2001  15.56780\n",
       "70        AUT    YNGPOP     TOT  PC_POP         A  1966  23.61926"
      ]
     },
     "execution_count": 144,
     "metadata": {},
     "output_type": "execute_result"
    }
   ],
   "source": [
    "young.sample(10)"
   ]
  },
  {
   "cell_type": "code",
   "execution_count": 65,
   "metadata": {},
   "outputs": [
    {
     "data": {
      "text/html": [
       "<div>\n",
       "<style scoped>\n",
       "    .dataframe tbody tr th:only-of-type {\n",
       "        vertical-align: middle;\n",
       "    }\n",
       "\n",
       "    .dataframe tbody tr th {\n",
       "        vertical-align: top;\n",
       "    }\n",
       "\n",
       "    .dataframe thead th {\n",
       "        text-align: right;\n",
       "    }\n",
       "</style>\n",
       "<table border=\"1\" class=\"dataframe\">\n",
       "  <thead>\n",
       "    <tr style=\"text-align: right;\">\n",
       "      <th></th>\n",
       "      <th>LOCATION</th>\n",
       "      <th>INDICATOR</th>\n",
       "      <th>SUBJECT</th>\n",
       "      <th>MEASURE</th>\n",
       "      <th>FREQUENCY</th>\n",
       "      <th>TIME</th>\n",
       "      <th>Value</th>\n",
       "    </tr>\n",
       "  </thead>\n",
       "  <tbody>\n",
       "    <tr>\n",
       "      <th>2114</th>\n",
       "      <td>DEU</td>\n",
       "      <td>POP</td>\n",
       "      <td>MEN</td>\n",
       "      <td>MLN_PER</td>\n",
       "      <td>A</td>\n",
       "      <td>2013</td>\n",
       "      <td>39.454000</td>\n",
       "    </tr>\n",
       "    <tr>\n",
       "      <th>1186</th>\n",
       "      <td>CZE</td>\n",
       "      <td>POP</td>\n",
       "      <td>WOMEN</td>\n",
       "      <td>MLN_PER</td>\n",
       "      <td>A</td>\n",
       "      <td>1953</td>\n",
       "      <td>4.728395</td>\n",
       "    </tr>\n",
       "    <tr>\n",
       "      <th>6469</th>\n",
       "      <td>CHE</td>\n",
       "      <td>POP</td>\n",
       "      <td>WOMEN</td>\n",
       "      <td>MLN_PER</td>\n",
       "      <td>A</td>\n",
       "      <td>1974</td>\n",
       "      <td>3.248081</td>\n",
       "    </tr>\n",
       "    <tr>\n",
       "      <th>3601</th>\n",
       "      <td>JPN</td>\n",
       "      <td>POP</td>\n",
       "      <td>TOT</td>\n",
       "      <td>MLN_PER</td>\n",
       "      <td>A</td>\n",
       "      <td>2006</td>\n",
       "      <td>127.770000</td>\n",
       "    </tr>\n",
       "    <tr>\n",
       "      <th>3490</th>\n",
       "      <td>JPN</td>\n",
       "      <td>POP</td>\n",
       "      <td>TOT</td>\n",
       "      <td>AGRWTH</td>\n",
       "      <td>A</td>\n",
       "      <td>2013</td>\n",
       "      <td>-0.170176</td>\n",
       "    </tr>\n",
       "    <tr>\n",
       "      <th>67</th>\n",
       "      <td>AUS</td>\n",
       "      <td>POP</td>\n",
       "      <td>MEN</td>\n",
       "      <td>MLN_PER</td>\n",
       "      <td>A</td>\n",
       "      <td>1965</td>\n",
       "      <td>5.714500</td>\n",
       "    </tr>\n",
       "    <tr>\n",
       "      <th>4849</th>\n",
       "      <td>NOR</td>\n",
       "      <td>POP</td>\n",
       "      <td>TOT</td>\n",
       "      <td>AGRWTH</td>\n",
       "      <td>A</td>\n",
       "      <td>2010</td>\n",
       "      <td>1.248249</td>\n",
       "    </tr>\n",
       "    <tr>\n",
       "      <th>7986</th>\n",
       "      <td>EST</td>\n",
       "      <td>POP</td>\n",
       "      <td>TOT</td>\n",
       "      <td>MLN_PER</td>\n",
       "      <td>A</td>\n",
       "      <td>2013</td>\n",
       "      <td>1.317997</td>\n",
       "    </tr>\n",
       "    <tr>\n",
       "      <th>6268</th>\n",
       "      <td>SWE</td>\n",
       "      <td>POP</td>\n",
       "      <td>WOMEN</td>\n",
       "      <td>MLN_PER</td>\n",
       "      <td>A</td>\n",
       "      <td>2008</td>\n",
       "      <td>4.635821</td>\n",
       "    </tr>\n",
       "    <tr>\n",
       "      <th>51</th>\n",
       "      <td>AUS</td>\n",
       "      <td>POP</td>\n",
       "      <td>TOT</td>\n",
       "      <td>AGRWTH</td>\n",
       "      <td>A</td>\n",
       "      <td>2008</td>\n",
       "      <td>2.021317</td>\n",
       "    </tr>\n",
       "  </tbody>\n",
       "</table>\n",
       "</div>"
      ],
      "text/plain": [
       "     LOCATION INDICATOR SUBJECT  MEASURE FREQUENCY  TIME       Value\n",
       "2114      DEU       POP     MEN  MLN_PER         A  2013   39.454000\n",
       "1186      CZE       POP   WOMEN  MLN_PER         A  1953    4.728395\n",
       "6469      CHE       POP   WOMEN  MLN_PER         A  1974    3.248081\n",
       "3601      JPN       POP     TOT  MLN_PER         A  2006  127.770000\n",
       "3490      JPN       POP     TOT   AGRWTH         A  2013   -0.170176\n",
       "67        AUS       POP     MEN  MLN_PER         A  1965    5.714500\n",
       "4849      NOR       POP     TOT   AGRWTH         A  2010    1.248249\n",
       "7986      EST       POP     TOT  MLN_PER         A  2013    1.317997\n",
       "6268      SWE       POP   WOMEN  MLN_PER         A  2008    4.635821\n",
       "51        AUS       POP     TOT   AGRWTH         A  2008    2.021317"
      ]
     },
     "execution_count": 65,
     "metadata": {},
     "output_type": "execute_result"
    }
   ],
   "source": [
    "pdata.sample(10)"
   ]
  },
  {
   "cell_type": "markdown",
   "metadata": {},
   "source": [
    "### 결측치 확인 \n",
    "결측치 없음"
   ]
  },
  {
   "cell_type": "code",
   "execution_count": 52,
   "metadata": {
    "collapsed": true
   },
   "outputs": [
    {
     "name": "stdout",
     "output_type": "stream",
     "text": [
      "LOCATION     0\n",
      "INDICATOR    0\n",
      "SUBJECT      0\n",
      "MEASURE      0\n",
      "FREQUENCY    0\n",
      "TIME         0\n",
      "Value        0\n",
      "dtype: int64\n",
      "LOCATION     0\n",
      "INDICATOR    0\n",
      "SUBJECT      0\n",
      "MEASURE      0\n",
      "FREQUENCY    0\n",
      "TIME         0\n",
      "Value        0\n",
      "dtype: int64\n",
      "LOCATION     0\n",
      "INDICATOR    0\n",
      "SUBJECT      0\n",
      "MEASURE      0\n",
      "FREQUENCY    0\n",
      "TIME         0\n",
      "Value        0\n",
      "dtype: int64\n",
      "LOCATION     0\n",
      "INDICATOR    0\n",
      "SUBJECT      0\n",
      "MEASURE      0\n",
      "FREQUENCY    0\n",
      "TIME         0\n",
      "Value        0\n",
      "dtype: int64\n",
      "LOCATION     0\n",
      "INDICATOR    0\n",
      "SUBJECT      0\n",
      "MEASURE      0\n",
      "FREQUENCY    0\n",
      "TIME         0\n",
      "Value        0\n",
      "dtype: int64\n"
     ]
    }
   ],
   "source": [
    "print(pdata.isnull().sum())\n",
    "print(young.isnull().sum())\n",
    "print(working.isnull().sum())\n",
    "print(elderly.isnull().sum())\n",
    "print(fertility_rates.isnull().sum())"
   ]
  },
  {
   "cell_type": "markdown",
   "metadata": {},
   "source": [
    "### 테이블: \n",
    "\n",
    "- pdata: 전체 인구\n",
    "- young: 15세 미만의 인구 수 \n",
    "- working : 15이상 64이하의 인구 수\n",
    "- elderly :65세 이상\n",
    "- fertility_rates: 출산률"
   ]
  },
  {
   "cell_type": "markdown",
   "metadata": {},
   "source": [
    "### 컬럼 해석\n",
    "\n",
    "- LOCATION : 국가\n",
    "- INDICATOR : 지시자\n",
    "- SUBJECT : 총 / 남 / 녀\n",
    "- MEASURE: <br>\n",
    "        -'AGRWTH'  = Anual Growth Rate 연간 증가율\n",
    "        -'MLN_PER' = Milion person\n",
    "        -'PC pop'  = ???\n",
    "- FREQUENCY : 측정 주기? (A : anual?)\n",
    "- TIME : 년도\n",
    "- Value : 값"
   ]
  },
  {
   "cell_type": "code",
   "execution_count": 6,
   "metadata": {
    "collapsed": true
   },
   "outputs": [
    {
     "data": {
      "text/plain": [
       "LOCATION       object\n",
       "INDICATOR      object\n",
       "SUBJECT        object\n",
       "MEASURE        object\n",
       "FREQUENCY      object\n",
       "TIME            int64\n",
       "Value         float64\n",
       "Flag Codes     object\n",
       "dtype: object"
      ]
     },
     "execution_count": 6,
     "metadata": {},
     "output_type": "execute_result"
    }
   ],
   "source": [
    "pdata.dtypes"
   ]
  },
  {
   "cell_type": "markdown",
   "metadata": {},
   "source": [
    "# 1. 나라별 남녀 성비 차를 알아볼까?\n",
    "\n",
    "## 나라 별 성별 인구 차 구하는 함수"
   ]
  },
  {
   "cell_type": "code",
   "execution_count": 136,
   "metadata": {},
   "outputs": [],
   "source": [
    "def sex_dif(location):\n",
    "    pop = pdata[pdata[\"LOCATION\"] == location]\n",
    "                \n",
    "    wom = pop[pop['SUBJECT'] == 'WOMEN'][['TIME', 'Value']]\n",
    "    wom = wom.set_index('TIME')\n",
    "\n",
    "    men = pop[pop['SUBJECT'] == 'MEN'][['TIME', 'Value']]\n",
    "    men = men.set_index('TIME')\n",
    "                \n",
    "    dif = men.Value - wom.Value\n",
    "                \n",
    "    return dif"
   ]
  },
  {
   "cell_type": "markdown",
   "metadata": {},
   "source": [
    "### 남녀 성비차 바그래프 그리는 함수(위 함수 뒤에 해야함)"
   ]
  },
  {
   "cell_type": "code",
   "execution_count": 141,
   "metadata": {},
   "outputs": [],
   "source": [
    "def dif_graph(dif):\n",
    "    fig = plt.figure(figsize=[16,8]) # Create matplotlib figure\n",
    "    fig\n",
    "    dif.plot(kind='bar')\n",
    "\n",
    "    plt.show()\n",
    "    return"
   ]
  },
  {
   "cell_type": "markdown",
   "metadata": {},
   "source": [
    "### 한국의 인구는 얼마나 될까?"
   ]
  },
  {
   "cell_type": "code",
   "execution_count": 139,
   "metadata": {},
   "outputs": [
    {
     "data": {
      "image/png": "[encoded data removed]",
      "text/plain": [
       "<Figure size 1152x576 with 1 Axes>"
      ]
     },
     "metadata": {
      "needs_background": "light"
     },
     "output_type": "display_data"
    }
   ],
   "source": [
    "sex_dif('KOR')\n",
    "dif_graph(dif)"
   ]
  },
  {
   "cell_type": "code",
   "execution_count": 142,
   "metadata": {},
   "outputs": [
    {
     "data": {
      "image/png": "[encoded data removed]",
      "text/plain": [
       "<Figure size 1152x576 with 2 Axes>"
      ]
     },
     "metadata": {
      "needs_background": "light"
     },
     "output_type": "display_data"
    }
   ],
   "source": [
    "# sns.barplot()\n",
    "\n",
    "fig = plt.figure(figsize=[16,8]) # Create matplotlib figure\n",
    "fig\n",
    "\n",
    "ax = fig.add_subplot(111) # Create matplotlib axes\n",
    "plt.ylim((12,26))\n",
    "ax2 = ax.twinx() # Create another axes that shares the same x-axis as ax.\n",
    "plt.ylim((12,26))\n",
    "\n",
    "width = 0.4\n",
    "\n",
    "wom.plot(kind='bar', color='pink', ax=ax, width=width, position=1)\n",
    "men.plot(kind='bar', color='skyblue', ax=ax2, width=width, position=0)\n",
    "\n",
    "\n",
    "ax.set_ylabel('WOM')\n",
    "ax2.set_ylabel('MEN')\n",
    "\n",
    "plt.show()"
   ]
  },
  {
   "cell_type": "code",
   "execution_count": 129,
   "metadata": {},
   "outputs": [
    {
     "data": {
      "text/plain": [
       "65"
      ]
     },
     "execution_count": 129,
     "metadata": {},
     "output_type": "execute_result"
    }
   ],
   "source": [
    "total_pop = pdata[pdata['SUBJECT'] == 'TOT']\n",
    "total_wom = pdata[pdata['SUBJECT'] == 'WOMEN']\n",
    "total_men = pdata[pdata['SUBJECT'] == 'MEN']\n",
    "# 년도들\n",
    "dblist = sorted(list(pdata['TIME'].unique()))\n",
    "len(dblist) # 1950 ~ 2014\n",
    "# 연별 결측치 없음"
   ]
  },
  {
   "cell_type": "code",
   "execution_count": 13,
   "metadata": {},
   "outputs": [
    {
     "data": {
      "text/html": [
       "<div>\n",
       "<style scoped>\n",
       "    .dataframe tbody tr th:only-of-type {\n",
       "        vertical-align: middle;\n",
       "    }\n",
       "\n",
       "    .dataframe tbody tr th {\n",
       "        vertical-align: top;\n",
       "    }\n",
       "\n",
       "    .dataframe thead th {\n",
       "        text-align: right;\n",
       "    }\n",
       "</style>\n",
       "<table border=\"1\" class=\"dataframe\">\n",
       "  <thead>\n",
       "    <tr style=\"text-align: right;\">\n",
       "      <th></th>\n",
       "      <th>LOCATION</th>\n",
       "      <th>INDICATOR</th>\n",
       "      <th>SUBJECT</th>\n",
       "      <th>MEASURE</th>\n",
       "      <th>FREQUENCY</th>\n",
       "      <th>TIME</th>\n",
       "      <th>Value</th>\n",
       "      <th>Flag Codes</th>\n",
       "    </tr>\n",
       "  </thead>\n",
       "  <tbody>\n",
       "    <tr>\n",
       "      <th>0</th>\n",
       "      <td>AUS</td>\n",
       "      <td>YNGPOP</td>\n",
       "      <td>TOT</td>\n",
       "      <td>PC_POP</td>\n",
       "      <td>A</td>\n",
       "      <td>1956</td>\n",
       "      <td>29.38680</td>\n",
       "      <td>NaN</td>\n",
       "    </tr>\n",
       "    <tr>\n",
       "      <th>1</th>\n",
       "      <td>AUS</td>\n",
       "      <td>YNGPOP</td>\n",
       "      <td>TOT</td>\n",
       "      <td>PC_POP</td>\n",
       "      <td>A</td>\n",
       "      <td>1957</td>\n",
       "      <td>29.63693</td>\n",
       "      <td>NaN</td>\n",
       "    </tr>\n",
       "  </tbody>\n",
       "</table>\n",
       "</div>"
      ],
      "text/plain": [
       "  LOCATION INDICATOR SUBJECT MEASURE FREQUENCY  TIME     Value Flag Codes\n",
       "0      AUS    YNGPOP     TOT  PC_POP         A  1956  29.38680        NaN\n",
       "1      AUS    YNGPOP     TOT  PC_POP         A  1957  29.63693        NaN"
      ]
     },
     "execution_count": 13,
     "metadata": {},
     "output_type": "execute_result"
    }
   ],
   "source": [
    "young.head(2)"
   ]
  },
  {
   "cell_type": "markdown",
   "metadata": {},
   "source": [
    "# 02. 나라별 최근 노령화 지수를 알아보자"
   ]
  },
  {
   "cell_type": "markdown",
   "metadata": {},
   "source": [
    "### 1) Location, Time 입력하기"
   ]
  },
  {
   "cell_type": "code",
   "execution_count": 175,
   "metadata": {},
   "outputs": [],
   "source": [
    "def ageing_index(location: str, year: int):\n",
    "    y = young[(young['LOCATION'] == location) & (young['TIME'] == year)][['Value']]\n",
    "    e = elderly[(elderly['LOCATION'] == location)&(elderly['TIME'] == year)][['Value']]\n",
    "    \n",
    "    result = e.Value/y.Value * 100\n",
    "    return result"
   ]
  },
  {
   "cell_type": "code",
   "execution_count": 177,
   "metadata": {},
   "outputs": [
    {
     "data": {
      "text/plain": [
       "931    34.253034\n",
       "Name: Value, dtype: float64"
      ]
     },
     "execution_count": 177,
     "metadata": {},
     "output_type": "execute_result"
    }
   ],
   "source": [
    "ageing_index('KOR', 2000)"
   ]
  },
  {
   "cell_type": "markdown",
   "metadata": {},
   "source": [
    "### 2) year 입력하면 데이터 있는 나라는 다 보여주기"
   ]
  },
  {
   "cell_type": "code",
   "execution_count": 238,
   "metadata": {},
   "outputs": [
    {
     "data": {
      "image/png": "[encoded data removed]",
      "text/plain": [
       "<Figure size 1152x576 with 1 Axes>"
      ]
     },
     "metadata": {
      "needs_background": "light"
     },
     "output_type": "display_data"
    }
   ],
   "source": [
    "def age_index_all(year : int):\n",
    "    y = young[young['TIME'] == year][['LOCATION','Value']]\n",
    "    e = elderly[elderly['TIME'] == year][['LOCATION', 'Value']]\n",
    "    \n",
    "    y['aging'] = e.Value/y.Value * 100\n",
    "    \n",
    "    y = y[y['aging'].isnull() == False]\n",
    "    \n",
    "    return y[['LOCATION', 'aging']].set_index('LOCATION')\n",
    "\n",
    "\n",
    "year = 1999\n",
    "rse = age_index_all(year)\n",
    "title = str(year) +', aging index'\n",
    "\n",
    "#######\n",
    "#시각화\n",
    "fig = plt.figure(figsize=[16,8]) # Create matplotlib figure\n",
    "fig\n",
    "\n",
    "ax = fig.add_subplot(111) # Create matplotlib axes\n",
    "#plt.ylim((12,26))\n",
    "#ax2 = ax.twinx() # Create another axes that shares the same x-axis as ax.\n",
    "#plt.ylim((12,26))\n",
    "\n",
    "width = 0.4\n",
    "\n",
    "rse.plot(kind='bar', color='pink', ax=ax, width=width, position=1)\n",
    "plt.title(title)\n",
    "plt.show()"
   ]
  },
  {
   "cell_type": "markdown",
   "metadata": {},
   "source": [
    "### 3) year별 다 보여주기\n"
   ]
  },
  {
   "cell_type": "code",
   "execution_count": 244,
   "metadata": {},
   "outputs": [
    {
     "name": "stderr",
     "output_type": "stream",
     "text": [
      "/usr/local/lib/python3.7/site-packages/ipykernel_launcher.py:5: SettingWithCopyWarning: \n",
      "A value is trying to be set on a copy of a slice from a DataFrame.\n",
      "Try using .loc[row_indexer,col_indexer] = value instead\n",
      "\n",
      "See the caveats in the documentation: http://pandas.pydata.org/pandas-docs/stable/user_guide/indexing.html#returning-a-view-versus-a-copy\n",
      "  \"\"\"\n"
     ]
    },
    {
     "data": {
      "text/plain": [
       "<matplotlib.legend.Legend at 0x12dcce668>"
      ]
     },
     "execution_count": 244,
     "metadata": {},
     "output_type": "execute_result"
    },
    {
     "data": {
      "image/png": "[encoded data removed]",
      "text/plain": [
       "<Figure size 1152x576 with 1 Axes>"
      ]
     },
     "metadata": {
      "needs_background": "light"
     },
     "output_type": "display_data"
    }
   ],
   "source": [
    "def age_index_year():\n",
    "    y = young[['TIME','LOCATION','Value']]\n",
    "    e = elderly[['TIME','LOCATION','Value']]\n",
    "    \n",
    "    y['aging'] = e.Value/y.Value * 100\n",
    "    \n",
    "    y = y[y['aging'].isnull() == False]\n",
    "    \n",
    "    return y[['TIME', 'LOCATION', 'aging']]\n",
    "\n",
    "\n",
    "rse = age_index_year()\n",
    "title = 'aging index'\n",
    "\n",
    "fig = plt.figure(figsize=[16,8]) \n",
    "plt.\n",
    "\n",
    "plt.plot('TIME', 'aging', data=rse[rse['LOCATION'] == 'KOR'], label='KOR')\n",
    "plt.plot('TIME', 'aging', data=rse[rse['LOCATION'] == 'CHN'], label='CHN')\n",
    "\n",
    "plt.plot('TIME', 'aging', data=rse[rse['LOCATION'] == 'JPN'], label='JPN')\n",
    "plt.plot('TIME', 'aging', data=rse[rse['LOCATION'] == 'FIN'], label='FIN')\n",
    "plt.plot('TIME', 'aging', data=rse[rse['LOCATION'] == 'USA'], label='USA')\n",
    "plt.plot('TIME', 'aging', data=rse[rse['LOCATION'] == 'FRA'], label='FRA')\n",
    "\n",
    "plt.plot('TIME', 'aging', data=rse[rse['LOCATION'] == 'MEX'], label='MEX')\n",
    "plt.plot('TIME', 'aging', data=rse[rse['LOCATION'] == 'COL'], label='COL')\n",
    "plt.plot('TIME', 'aging', data=rse[rse['LOCATION'] == 'IND'], label='IND')\n",
    "\n",
    "\n",
    "plt.legend(loc=[1,0])"
   ]
  },
  {
   "cell_type": "code",
   "execution_count": null,
   "metadata": {},
   "outputs": [],
   "source": []
  }
 ],
 "metadata": {
  "kernelspec": {
   "display_name": "Python 3",
   "language": "python",
   "name": "python3"
  },
  "language_info": {
   "codemirror_mode": {
    "name": "ipython",
    "version": 3
   },
   "file_extension": ".py",
   "mimetype": "text/x-python",
   "name": "python",
   "nbconvert_exporter": "python",
   "pygments_lexer": "ipython3",
   "version": "3.7.0"
  }
 },
 "nbformat": 4,
 "nbformat_minor": 2
}
