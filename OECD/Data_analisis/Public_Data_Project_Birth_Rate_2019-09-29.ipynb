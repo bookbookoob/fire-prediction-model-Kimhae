{
 "cells": [
  {
   "cell_type": "code",
   "execution_count": 31,
   "metadata": {},
   "outputs": [],
   "source": [
    "import pandas as pd\n",
    "import numpy as np\n",
    "import matplotlib \n",
    "import matplotlib.pyplot as plt\n",
    "import seaborn as sns"
   ]
  },
  {
   "cell_type": "code",
   "execution_count": 32,
   "metadata": {},
   "outputs": [],
   "source": [
    "%matplotlib inline"
   ]
  },
  {
   "cell_type": "code",
   "execution_count": 33,
   "metadata": {},
   "outputs": [
    {
     "data": {
      "text/plain": [
       "(3075, 8)"
      ]
     },
     "execution_count": 33,
     "metadata": {},
     "output_type": "execute_result"
    }
   ],
   "source": [
    "fertility = pd.read_csv('Fertility_Rates.csv')\n",
    "\n",
    "fertility.shape"
   ]
  },
  {
   "cell_type": "code",
   "execution_count": 34,
   "metadata": {},
   "outputs": [
    {
     "data": {
      "text/plain": [
       "Index(['LOCATION', 'INDICATOR', 'SUBJECT', 'MEASURE', 'FREQUENCY', 'TIME',\n",
       "       'Value', 'Flag Codes'],\n",
       "      dtype='object')"
      ]
     },
     "execution_count": 34,
     "metadata": {},
     "output_type": "execute_result"
    }
   ],
   "source": [
    "fertility.columns"
   ]
  },
  {
   "cell_type": "code",
   "execution_count": 35,
   "metadata": {},
   "outputs": [
    {
     "data": {
      "text/html": [
       "<div>\n",
       "<style scoped>\n",
       "    .dataframe tbody tr th:only-of-type {\n",
       "        vertical-align: middle;\n",
       "    }\n",
       "\n",
       "    .dataframe tbody tr th {\n",
       "        vertical-align: top;\n",
       "    }\n",
       "\n",
       "    .dataframe thead th {\n",
       "        text-align: right;\n",
       "    }\n",
       "</style>\n",
       "<table border=\"1\" class=\"dataframe\">\n",
       "  <thead>\n",
       "    <tr style=\"text-align: right;\">\n",
       "      <th></th>\n",
       "      <th>LOCATION</th>\n",
       "      <th>INDICATOR</th>\n",
       "      <th>SUBJECT</th>\n",
       "      <th>MEASURE</th>\n",
       "      <th>FREQUENCY</th>\n",
       "      <th>TIME</th>\n",
       "      <th>Value</th>\n",
       "      <th>Flag Codes</th>\n",
       "    </tr>\n",
       "  </thead>\n",
       "  <tbody>\n",
       "    <tr>\n",
       "      <th>906</th>\n",
       "      <td>KOR</td>\n",
       "      <td>FERTILITY</td>\n",
       "      <td>TOT</td>\n",
       "      <td>CHD_WOMAN</td>\n",
       "      <td>A</td>\n",
       "      <td>1996</td>\n",
       "      <td>1.57</td>\n",
       "      <td>NaN</td>\n",
       "    </tr>\n",
       "  </tbody>\n",
       "</table>\n",
       "</div>"
      ],
      "text/plain": [
       "    LOCATION  INDICATOR SUBJECT    MEASURE FREQUENCY  TIME  Value  Flag Codes\n",
       "906      KOR  FERTILITY     TOT  CHD_WOMAN         A  1996   1.57         NaN"
      ]
     },
     "execution_count": 35,
     "metadata": {},
     "output_type": "execute_result"
    }
   ],
   "source": [
    "fertility.sample()"
   ]
  },
  {
   "cell_type": "code",
   "execution_count": 36,
   "metadata": {},
   "outputs": [
    {
     "data": {
      "text/plain": [
       "LOCATION       object\n",
       "INDICATOR      object\n",
       "SUBJECT        object\n",
       "MEASURE        object\n",
       "FREQUENCY      object\n",
       "TIME            int64\n",
       "Value         float64\n",
       "Flag Codes    float64\n",
       "dtype: object"
      ]
     },
     "execution_count": 36,
     "metadata": {},
     "output_type": "execute_result"
    }
   ],
   "source": [
    "fertility.dtypes"
   ]
  },
  {
   "cell_type": "code",
   "execution_count": 37,
   "metadata": {},
   "outputs": [
    {
     "data": {
      "text/plain": [
       "array(['TOT'], dtype=object)"
      ]
     },
     "execution_count": 37,
     "metadata": {},
     "output_type": "execute_result"
    }
   ],
   "source": [
    "fertility['SUBJECT'].unique()"
   ]
  },
  {
   "cell_type": "code",
   "execution_count": 38,
   "metadata": {},
   "outputs": [
    {
     "data": {
      "text/plain": [
       "array(['CHD_WOMAN'], dtype=object)"
      ]
     },
     "execution_count": 38,
     "metadata": {},
     "output_type": "execute_result"
    }
   ],
   "source": [
    "fertility['MEASURE'].unique()"
   ]
  },
  {
   "cell_type": "code",
   "execution_count": 39,
   "metadata": {},
   "outputs": [
    {
     "data": {
      "text/plain": [
       "array(['A'], dtype=object)"
      ]
     },
     "execution_count": 39,
     "metadata": {},
     "output_type": "execute_result"
    }
   ],
   "source": [
    "fertility['FREQUENCY'].unique()"
   ]
  },
  {
   "cell_type": "code",
   "execution_count": 40,
   "metadata": {},
   "outputs": [
    {
     "data": {
      "text/plain": [
       "array([1960, 1961, 1962, 1963, 1964, 1965, 1966, 1967, 1968, 1969, 1970,\n",
       "       1971, 1972, 1973, 1974, 1975, 1976, 1977, 1978, 1979, 1980, 1981,\n",
       "       1982, 1983, 1984, 1985, 1986, 1987, 1988, 1989, 1990, 1991, 1992,\n",
       "       1993, 1994, 1995, 1996, 1997, 1998, 1999, 2000, 2001, 2002, 2003,\n",
       "       2004, 2005, 2006, 2007, 2008, 2009, 2010, 2011, 2012, 2013, 2014,\n",
       "       2015, 2016, 2017], dtype=int64)"
      ]
     },
     "execution_count": 40,
     "metadata": {},
     "output_type": "execute_result"
    }
   ],
   "source": [
    "fertility['TIME'].unique()"
   ]
  },
  {
   "cell_type": "code",
   "execution_count": 41,
   "metadata": {},
   "outputs": [
    {
     "data": {
      "text/plain": [
       "array(['AUS', 'AUT', 'BEL', 'CAN', 'CZE', 'DNK', 'FIN', 'FRA', 'DEU',\n",
       "       'GRC', 'HUN', 'ISL', 'IRL', 'ITA', 'JPN', 'KOR', 'LUX', 'MEX',\n",
       "       'NLD', 'NZL', 'NOR', 'POL', 'PRT', 'SVK', 'ESP', 'SWE', 'CHE',\n",
       "       'TUR', 'GBR', 'USA', 'BRA', 'CHL', 'CHN', 'EST', 'IND', 'IDN',\n",
       "       'ISR', 'RUS', 'SVN', 'ZAF', 'COL', 'LVA', 'LTU', 'ARG', 'BGR',\n",
       "       'HRV', 'CYP', 'MLT', 'ROU', 'SAU', 'OAVG', 'EU28', 'PER', 'CRI'],\n",
       "      dtype=object)"
      ]
     },
     "execution_count": 41,
     "metadata": {},
     "output_type": "execute_result"
    }
   ],
   "source": [
    "fertility['LOCATION'].unique()"
   ]
  },
  {
   "cell_type": "code",
   "execution_count": 42,
   "metadata": {},
   "outputs": [
    {
     "data": {
      "text/plain": [
       "<matplotlib.legend.Legend at 0x25baf620f98>"
      ]
     },
     "execution_count": 42,
     "metadata": {},
     "output_type": "execute_result"
    },
    {
     "data": {
      "image/png": "[encoded data removed]",
      "text/plain": [
       "<Figure size 432x288 with 1 Axes>"
      ]
     },
     "metadata": {
      "needs_background": "light"
     },
     "output_type": "display_data"
    }
   ],
   "source": [
    "# sns.relplot(x='TIME', y='Value', hue='LOCATION', data=fertility)\n",
    "# sns.relplot(x='TIME', y='Value', hue='LOCATION', data=fertility[fertility['LOCATION'] == 'KOR'])\n",
    "\n",
    "\n",
    "plt.plot('TIME', 'Value', data=fertility[fertility['LOCATION'] == 'KOR'], label='KOR')\n",
    "plt.plot('TIME', 'Value', data=fertility[fertility['LOCATION'] == 'CHN'], label='CHN')\n",
    "\n",
    "plt.plot('TIME', 'Value', data=fertility[fertility['LOCATION'] == 'JPN'], label='JPN')\n",
    "plt.plot('TIME', 'Value', data=fertility[fertility['LOCATION'] == 'FIN'], label='FIN')\n",
    "plt.plot('TIME', 'Value', data=fertility[fertility['LOCATION'] == 'USA'], label='USA')\n",
    "plt.plot('TIME', 'Value', data=fertility[fertility['LOCATION'] == 'FRA'], label='FRA')\n",
    "\n",
    "plt.plot('TIME', 'Value', data=fertility[fertility['LOCATION'] == 'MEX'], label='MEX')\n",
    "plt.plot('TIME', 'Value', data=fertility[fertility['LOCATION'] == 'COL'], label='COL')\n",
    "plt.plot('TIME', 'Value', data=fertility[fertility['LOCATION'] == 'IND'], label='IND')\n",
    "\n",
    "plt.legend(loc=[1,0])"
   ]
  },
  {
   "cell_type": "markdown",
   "metadata": {},
   "source": [
    "# Family Data 불러오기"
   ]
  },
  {
   "cell_type": "code",
   "execution_count": 43,
   "metadata": {},
   "outputs": [
    {
     "data": {
      "text/html": [
       "<div>\n",
       "<style scoped>\n",
       "    .dataframe tbody tr th:only-of-type {\n",
       "        vertical-align: middle;\n",
       "    }\n",
       "\n",
       "    .dataframe tbody tr th {\n",
       "        vertical-align: top;\n",
       "    }\n",
       "\n",
       "    .dataframe thead th {\n",
       "        text-align: right;\n",
       "    }\n",
       "</style>\n",
       "<table border=\"1\" class=\"dataframe\">\n",
       "  <thead>\n",
       "    <tr style=\"text-align: right;\">\n",
       "      <th></th>\n",
       "      <th>COU</th>\n",
       "      <th>Country</th>\n",
       "      <th>SEX</th>\n",
       "      <th>Sex</th>\n",
       "      <th>IND</th>\n",
       "      <th>Indicator</th>\n",
       "      <th>YEAR</th>\n",
       "      <th>Year</th>\n",
       "      <th>Unit Code</th>\n",
       "      <th>Unit</th>\n",
       "      <th>PowerCode Code</th>\n",
       "      <th>PowerCode</th>\n",
       "      <th>Reference Period Code</th>\n",
       "      <th>Reference Period</th>\n",
       "      <th>Value</th>\n",
       "      <th>Flag Codes</th>\n",
       "      <th>Flags</th>\n",
       "    </tr>\n",
       "  </thead>\n",
       "  <tbody>\n",
       "    <tr>\n",
       "      <th>21703</th>\n",
       "      <td>IRL</td>\n",
       "      <td>Ireland</td>\n",
       "      <td>TOTAL</td>\n",
       "      <td>Total</td>\n",
       "      <td>FAM14</td>\n",
       "      <td>Proportion (%) of children aged 3-5 enrolled i...</td>\n",
       "      <td>2015</td>\n",
       "      <td>2015</td>\n",
       "      <td>PC</td>\n",
       "      <td>Percentage</td>\n",
       "      <td>0</td>\n",
       "      <td>Units</td>\n",
       "      <td>NaN</td>\n",
       "      <td>NaN</td>\n",
       "      <td>74.5</td>\n",
       "      <td>NaN</td>\n",
       "      <td>NaN</td>\n",
       "    </tr>\n",
       "  </tbody>\n",
       "</table>\n",
       "</div>"
      ],
      "text/plain": [
       "       COU  Country    SEX    Sex    IND  \\\n",
       "21703  IRL  Ireland  TOTAL  Total  FAM14   \n",
       "\n",
       "                                               Indicator  YEAR  Year  \\\n",
       "21703  Proportion (%) of children aged 3-5 enrolled i...  2015  2015   \n",
       "\n",
       "      Unit Code        Unit  PowerCode Code PowerCode  Reference Period Code  \\\n",
       "21703        PC  Percentage               0     Units                    NaN   \n",
       "\n",
       "       Reference Period  Value  Flag Codes  Flags  \n",
       "21703               NaN   74.5         NaN    NaN  "
      ]
     },
     "execution_count": 43,
     "metadata": {},
     "output_type": "execute_result"
    }
   ],
   "source": [
    "family = pd.read_csv('family.csv')\n",
    "family.sample()"
   ]
  },
  {
   "cell_type": "code",
   "execution_count": 44,
   "metadata": {},
   "outputs": [
    {
     "data": {
      "text/plain": [
       "(25427, 17)"
      ]
     },
     "execution_count": 44,
     "metadata": {},
     "output_type": "execute_result"
    }
   ],
   "source": [
    "family.shape"
   ]
  },
  {
   "cell_type": "code",
   "execution_count": 45,
   "metadata": {},
   "outputs": [
    {
     "data": {
      "text/plain": [
       "COU                          0\n",
       "Country                      0\n",
       "SEX                          0\n",
       "Sex                          0\n",
       "IND                          0\n",
       "Indicator                    0\n",
       "YEAR                         0\n",
       "Year                         0\n",
       "Unit Code                    0\n",
       "Unit                         0\n",
       "PowerCode Code               0\n",
       "PowerCode                    0\n",
       "Reference Period Code    25427\n",
       "Reference Period         25427\n",
       "Value                        0\n",
       "Flag Codes               25427\n",
       "Flags                    25427\n",
       "dtype: int64"
      ]
     },
     "execution_count": 45,
     "metadata": {},
     "output_type": "execute_result"
    }
   ],
   "source": [
    "family.isnull().sum()"
   ]
  },
  {
   "cell_type": "code",
   "execution_count": 46,
   "metadata": {},
   "outputs": [
    {
     "data": {
      "text/html": [
       "<div>\n",
       "<style scoped>\n",
       "    .dataframe tbody tr th:only-of-type {\n",
       "        vertical-align: middle;\n",
       "    }\n",
       "\n",
       "    .dataframe tbody tr th {\n",
       "        vertical-align: top;\n",
       "    }\n",
       "\n",
       "    .dataframe thead th {\n",
       "        text-align: right;\n",
       "    }\n",
       "</style>\n",
       "<table border=\"1\" class=\"dataframe\">\n",
       "  <thead>\n",
       "    <tr style=\"text-align: right;\">\n",
       "      <th></th>\n",
       "      <th>COU</th>\n",
       "      <th>Country</th>\n",
       "      <th>Sex</th>\n",
       "      <th>IND</th>\n",
       "      <th>Indicator</th>\n",
       "      <th>Year</th>\n",
       "      <th>Unit Code</th>\n",
       "      <th>Unit</th>\n",
       "      <th>PowerCode Code</th>\n",
       "      <th>PowerCode</th>\n",
       "      <th>Value</th>\n",
       "    </tr>\n",
       "  </thead>\n",
       "  <tbody>\n",
       "    <tr>\n",
       "      <th>498</th>\n",
       "      <td>LUX</td>\n",
       "      <td>Luxembourg</td>\n",
       "      <td>Female</td>\n",
       "      <td>FAM18B</td>\n",
       "      <td>Country mean average score in mathematics, by sex</td>\n",
       "      <td>2006</td>\n",
       "      <td>NBR</td>\n",
       "      <td>Number</td>\n",
       "      <td>0</td>\n",
       "      <td>Units</td>\n",
       "      <td>481.6</td>\n",
       "    </tr>\n",
       "  </tbody>\n",
       "</table>\n",
       "</div>"
      ],
      "text/plain": [
       "     COU     Country     Sex     IND  \\\n",
       "498  LUX  Luxembourg  Female  FAM18B   \n",
       "\n",
       "                                             Indicator  Year Unit Code  \\\n",
       "498  Country mean average score in mathematics, by sex  2006       NBR   \n",
       "\n",
       "       Unit  PowerCode Code PowerCode  Value  \n",
       "498  Number               0     Units  481.6  "
      ]
     },
     "execution_count": 46,
     "metadata": {},
     "output_type": "execute_result"
    }
   ],
   "source": [
    "columns = ['Reference Period Code', 'Reference Period', 'Flag Codes', 'Flags', 'YEAR', 'SEX']\n",
    "family_df = family.drop(columns=columns)\n",
    "\n",
    "family_df.sample()"
   ]
  },
  {
   "cell_type": "code",
   "execution_count": 47,
   "metadata": {},
   "outputs": [
    {
     "data": {
      "text/plain": [
       "array(['Units'], dtype=object)"
      ]
     },
     "execution_count": 47,
     "metadata": {},
     "output_type": "execute_result"
    }
   ],
   "source": [
    "family_df.PowerCode.unique()"
   ]
  },
  {
   "cell_type": "code",
   "execution_count": 48,
   "metadata": {},
   "outputs": [
    {
     "data": {
      "text/plain": [
       "array([0], dtype=int64)"
      ]
     },
     "execution_count": 48,
     "metadata": {},
     "output_type": "execute_result"
    }
   ],
   "source": [
    "family_df['PowerCode Code'].unique()"
   ]
  },
  {
   "cell_type": "code",
   "execution_count": 49,
   "metadata": {},
   "outputs": [
    {
     "data": {
      "text/plain": [
       "array([2000, 2003, 2006, 2009, 2012, 2015, 1990, 1991, 1992, 1993, 1994,\n",
       "       1995, 1996, 1997, 1998, 1999, 2001, 2002, 2004, 2005, 2007, 2008,\n",
       "       2010, 2011, 2013, 2014, 2016, 2017, 2018], dtype=int64)"
      ]
     },
     "execution_count": 49,
     "metadata": {},
     "output_type": "execute_result"
    }
   ],
   "source": [
    "family_df['Year'].unique()"
   ]
  },
  {
   "cell_type": "code",
   "execution_count": 50,
   "metadata": {},
   "outputs": [
    {
     "data": {
      "text/plain": [
       "array(['Country mean average score in reading, by sex',\n",
       "       'Country mean average score in mathematics, by sex',\n",
       "       'Country mean average score in science, by sex',\n",
       "       'Mean age of women at childbirth',\n",
       "       'Gender wage gap (median) for full-time employees',\n",
       "       'Proportion (%) of children (aged 0-14) that live in sole parent households where the sole parent is not in employment (jobless)',\n",
       "       'Share of births outside of marriage (% of all births)',\n",
       "       \"Proportion (%) of children (aged 0-17) living in 'other' types of household\",\n",
       "       'Total fertility rate',\n",
       "       'Proportion (%) of the population aged 25-29 neither employed nor in education or training',\n",
       "       'Proportion (%) of the population aged 15-29 neither employed nor in education or training',\n",
       "       'Employment rates (%) for all mothers (15-64 year olds) with at least one child under 15',\n",
       "       'Gender gap (male-less-female) in the employment-to-population rate',\n",
       "       'Proportional difference in net transfers to government between single-earner and equal dual-earner couple households: household earnings at 200% of average earnings',\n",
       "       'Gender gap (male-less-female) in the full-time equivalent employment-to-population rate',\n",
       "       'Proportion (%) of children aged 3-5 enrolled in pre-primary education or primary school',\n",
       "       'Proportion (%) of children (aged 0-14) that live in households with all adults not in employment (jobless)',\n",
       "       'Infant mortality rate',\n",
       "       'Length of paid paternity and parental leave reserved for fathers in weeks',\n",
       "       'Proportion (%) of children (aged 0-14) that live in households where at least one adult is in employment and one adult is not in employment (working)',\n",
       "       'Proportion (%) of the population aged 15-19 neither employed nor in education or training',\n",
       "       'Public social expenditure on tax breaks for families as a % of GDP',\n",
       "       'Employment rates (%) for sole-parent mothers (15-64 year olds) with at least one child under 15',\n",
       "       'Public social expenditure on services and in-kind benefits for families as a % of GDP',\n",
       "       'Proportion (%) of children (aged 0-14) that live in households where all adults are in employment (working)',\n",
       "       'Crude marriage rate (marriages per 1000 people)',\n",
       "       'Public social expenditure on cash benefits for families as a % of GDP',\n",
       "       'Proportion (%) of children (aged 0-17) living with two parents',\n",
       "       'Proportional difference in net transfers to government between single-earner and equal dual-earner couple households: household earnings at 133% of average earnings',\n",
       "       'Employment rates (%) for partnered mothers (15-64 year olds) with at least one child under 15',\n",
       "       'Proportion (%) of children aged 0-2 enrolled in formal childcare and pre-school',\n",
       "       'Proportion (%) of the population aged 20-24 neither employed nor in education or training',\n",
       "       'Child poverty rate',\n",
       "       'Fertility rates (births per 1000) for 15-19 year olds',\n",
       "       'Length of paid maternity and parental leave available to mothers in weeks',\n",
       "       'Proportion (%) of children (aged 0-17) living with a single parent',\n",
       "       'Crude divorce rate (divorces per 1000 people)',\n",
       "       'Proportion (%) of children (aged 0-14) that live in sole parent households where the sole parent is in full-time employment (working)',\n",
       "       'Neonatal mortality rate',\n",
       "       'Proportion (%) of children (aged 0-14) that live in sole parent households where the sole parent is in part-time employment (working)',\n",
       "       'Total public social expenditure on families as a % of GDP'],\n",
       "      dtype=object)"
      ]
     },
     "execution_count": 50,
     "metadata": {},
     "output_type": "execute_result"
    }
   ],
   "source": [
    "family_df['Indicator'].unique()"
   ]
  },
  {
   "cell_type": "code",
   "execution_count": 51,
   "metadata": {},
   "outputs": [
    {
     "data": {
      "text/plain": [
       "array(['Male', 'Female', 'Total'], dtype=object)"
      ]
     },
     "execution_count": 51,
     "metadata": {},
     "output_type": "execute_result"
    }
   ],
   "source": [
    "family_df['Sex'].unique()"
   ]
  },
  {
   "cell_type": "code",
   "execution_count": 52,
   "metadata": {},
   "outputs": [
    {
     "data": {
      "text/plain": [
       "<matplotlib.legend.Legend at 0x25ba89aef28>"
      ]
     },
     "execution_count": 52,
     "metadata": {},
     "output_type": "execute_result"
    },
    {
     "data": {
      "image/png": "[encoded data removed]",
      "text/plain": [
       "<Figure size 432x288 with 1 Axes>"
      ]
     },
     "metadata": {
      "needs_background": "light"
     },
     "output_type": "display_data"
    }
   ],
   "source": [
    "sns.lineplot(x='Year', y='Value',hue='Country', data=family_df[family_df['Indicator'] == 'Crude marriage rate (marriages per 1000 people)'])\n",
    "plt.legend(loc=[1,0])\n",
    "# plt.plot('Year', 'Value', data=family_df[family_df['Indicator'] == 'Crude marriage rate (marriages per 1000 people)'])"
   ]
  },
  {
   "cell_type": "code",
   "execution_count": 63,
   "metadata": {},
   "outputs": [],
   "source": [
    "import plotly.express as px\n",
    "import plotly.graph_objects as go"
   ]
  },
  {
   "cell_type": "code",
   "execution_count": 64,
   "metadata": {},
   "outputs": [
    {
     "data": {
      "application/vnd.plotly.v1+json": {
       "config": {
        "plotlyServerURL": "https://plot.ly"
       },
       "data": [
        {
         "hoverlabel": {
          "namelength": 0
         },
         "hovertemplate": "Country=Turkey<br>Year=%{x}<br>Value=%{y}",
         "legendgroup": "Country=Turkey",
         "line": {
          "color": "#636efa",
          "dash": "solid"
         },
         "mode": "lines",
         "name": "Country=Turkey",
         "showlegend": true,
         "type": "scattergl",
         "x": [
          2003,
          2004,
          2005,
          2006,
          2007,
          2008,
          2009,
          2010,
          2011,
          2012,
          2013,
          2014,
          2015,
          2016,
          2017
         ],
         "xaxis": "x",
         "y": [
          7.1,
          9.2,
          9.5,
          9.2,
          9.1,
          9,
          8.2,
          8,
          8,
          8,
          7.9,
          7.8,
          7.7,
          7.5,
          7.1
         ],
         "yaxis": "y"
        },
        {
         "hoverlabel": {
          "namelength": 0
         },
         "hovertemplate": "Country=Japan<br>Year=%{x}<br>Value=%{y}",
         "legendgroup": "Country=Japan",
         "line": {
          "color": "#EF553B",
          "dash": "solid"
         },
         "mode": "lines",
         "name": "Country=Japan",
         "showlegend": true,
         "type": "scattergl",
         "x": [
          1990,
          1991,
          1992,
          1993,
          1994,
          1995,
          1996,
          1997,
          1998,
          1999,
          2000,
          2001,
          2002,
          2003,
          2004,
          2005,
          2006,
          2007,
          2008,
          2009,
          2010,
          2011,
          2012,
          2013,
          2014,
          2015,
          2016,
          2017
         ],
         "xaxis": "x",
         "y": [
          5.9,
          6,
          6.1,
          6.4,
          6.3,
          6.4,
          6.4,
          6.2,
          6.3,
          6.1,
          6.4,
          6.4,
          6,
          5.9,
          5.7,
          5.7,
          5.8,
          5.7,
          5.8,
          5.6,
          5.5,
          5.2,
          5.3,
          5.3,
          5.1,
          5.1,
          5,
          4.9
         ],
         "yaxis": "y"
        },
        {
         "hoverlabel": {
          "namelength": 0
         },
         "hovertemplate": "Country=Germany<br>Year=%{x}<br>Value=%{y}",
         "legendgroup": "Country=Germany",
         "line": {
          "color": "#00cc96",
          "dash": "solid"
         },
         "mode": "lines",
         "name": "Country=Germany",
         "showlegend": true,
         "type": "scattergl",
         "x": [
          1990,
          1991,
          1992,
          1993,
          1994,
          1995,
          1996,
          1997,
          1998,
          1999,
          2000,
          2001,
          2002,
          2003,
          2004,
          2005,
          2006,
          2007,
          2008,
          2009,
          2010,
          2011,
          2012,
          2013,
          2014,
          2015,
          2016,
          2017
         ],
         "xaxis": "x",
         "y": [
          6.5,
          5.7,
          5.6,
          5.5,
          5.4,
          5.3,
          5.2,
          5.2,
          5.1,
          5.2,
          5.1,
          4.7,
          4.6,
          4.6,
          4.8,
          4.7,
          4.5,
          4.5,
          4.6,
          4.6,
          4.7,
          4.6,
          4.8,
          4.6,
          4.8,
          4.9,
          5,
          4.9
         ],
         "yaxis": "y"
        },
        {
         "hoverlabel": {
          "namelength": 0
         },
         "hovertemplate": "Country=Denmark<br>Year=%{x}<br>Value=%{y}",
         "legendgroup": "Country=Denmark",
         "line": {
          "color": "#ab63fa",
          "dash": "solid"
         },
         "mode": "lines",
         "name": "Country=Denmark",
         "showlegend": true,
         "type": "scattergl",
         "x": [
          1990,
          1991,
          1992,
          1993,
          1994,
          1995,
          1996,
          1997,
          1998,
          1999,
          2000,
          2001,
          2002,
          2003,
          2004,
          2005,
          2006,
          2007,
          2008,
          2009,
          2010,
          2011,
          2012,
          2013,
          2014,
          2015,
          2016,
          2017
         ],
         "xaxis": "x",
         "y": [
          6.1,
          6,
          6.2,
          6.1,
          6.8,
          6.6,
          6.8,
          6.5,
          6.5,
          6.7,
          7.2,
          6.8,
          6.9,
          6.5,
          7,
          6.7,
          6.7,
          6.7,
          6.8,
          6,
          5.6,
          4.9,
          5.1,
          4.9,
          5,
          5.1,
          5.4,
          5.5
         ],
         "yaxis": "y"
        },
        {
         "hoverlabel": {
          "namelength": 0
         },
         "hovertemplate": "Country=Czech Republic<br>Year=%{x}<br>Value=%{y}",
         "legendgroup": "Country=Czech Republic",
         "line": {
          "color": "#FFA15A",
          "dash": "solid"
         },
         "mode": "lines",
         "name": "Country=Czech Republic",
         "showlegend": true,
         "type": "scattergl",
         "x": [
          1990,
          1991,
          1992,
          1993,
          1994,
          1995,
          1996,
          1997,
          1998,
          1999,
          2000,
          2001,
          2002,
          2003,
          2004,
          2005,
          2006,
          2007,
          2008,
          2009,
          2010,
          2011,
          2012,
          2013,
          2014,
          2015,
          2016,
          2017
         ],
         "xaxis": "x",
         "y": [
          8.8,
          7,
          7.2,
          6.4,
          5.7,
          5.3,
          5.2,
          5.6,
          5.3,
          5.2,
          5.4,
          5.1,
          5.2,
          4.8,
          5,
          5.1,
          5.2,
          5.5,
          5.1,
          4.6,
          4.5,
          4.3,
          4.3,
          4.1,
          4.3,
          4.6,
          4.8,
          5
         ],
         "yaxis": "y"
        },
        {
         "hoverlabel": {
          "namelength": 0
         },
         "hovertemplate": "Country=Slovak Republic<br>Year=%{x}<br>Value=%{y}",
         "legendgroup": "Country=Slovak Republic",
         "line": {
          "color": "#19d3f3",
          "dash": "solid"
         },
         "mode": "lines",
         "name": "Country=Slovak Republic",
         "showlegend": true,
         "type": "scattergl",
         "x": [
          1990,
          1991,
          1992,
          1993,
          1994,
          1995,
          1996,
          1997,
          1998,
          1999,
          2000,
          2001,
          2002,
          2003,
          2004,
          2005,
          2006,
          2007,
          2008,
          2009,
          2010,
          2011,
          2012,
          2013,
          2014,
          2015,
          2016,
          2017
         ],
         "xaxis": "x",
         "y": [
          7.6,
          6.2,
          6.4,
          5.8,
          5.3,
          5.1,
          5.1,
          5.2,
          5.1,
          5.1,
          4.8,
          4.4,
          4.7,
          4.8,
          5.2,
          4.9,
          4.8,
          5.1,
          5.3,
          4.9,
          4.7,
          4.7,
          4.8,
          4.7,
          4.9,
          5.3,
          5.5,
          5.8
         ],
         "yaxis": "y"
        },
        {
         "hoverlabel": {
          "namelength": 0
         },
         "hovertemplate": "Country=Estonia<br>Year=%{x}<br>Value=%{y}",
         "legendgroup": "Country=Estonia",
         "line": {
          "color": "#FF6692",
          "dash": "solid"
         },
         "mode": "lines",
         "name": "Country=Estonia",
         "showlegend": true,
         "type": "scattergl",
         "x": [
          1990,
          1991,
          1992,
          1993,
          1994,
          1995,
          1996,
          1997,
          1998,
          1999,
          2000,
          2001,
          2002,
          2003,
          2004,
          2005,
          2006,
          2007,
          2008,
          2009,
          2010,
          2011,
          2012,
          2013,
          2014,
          2015,
          2016,
          2017
         ],
         "xaxis": "x",
         "y": [
          7.5,
          6.6,
          5.8,
          5.2,
          5,
          4.9,
          3.9,
          4,
          3.9,
          4,
          3.9,
          4.1,
          4.2,
          4.2,
          4.4,
          4.5,
          5.2,
          5.2,
          4.6,
          4,
          3.8,
          4.1,
          4.5,
          4.3,
          4.7,
          5.2,
          4.8,
          4.9
         ],
         "yaxis": "y"
        },
        {
         "hoverlabel": {
          "namelength": 0
         },
         "hovertemplate": "Country=Austria<br>Year=%{x}<br>Value=%{y}",
         "legendgroup": "Country=Austria",
         "line": {
          "color": "#B6E880",
          "dash": "solid"
         },
         "mode": "lines",
         "name": "Country=Austria",
         "showlegend": true,
         "type": "scattergl",
         "x": [
          1990,
          1991,
          1992,
          1993,
          1994,
          1995,
          1996,
          1997,
          1998,
          1999,
          2000,
          2001,
          2002,
          2003,
          2004,
          2005,
          2006,
          2007,
          2008,
          2009,
          2010,
          2011,
          2012,
          2013,
          2014,
          2015,
          2016,
          2017
         ],
         "xaxis": "x",
         "y": [
          5.9,
          5.7,
          5.8,
          5.7,
          5.5,
          5.4,
          5.3,
          5.2,
          4.9,
          4.9,
          4.9,
          4.3,
          4.5,
          4.6,
          4.7,
          4.8,
          4.5,
          4.3,
          4.2,
          4.3,
          4.5,
          4.3,
          4.6,
          4.3,
          4.4,
          5.1,
          5.1,
          5.1
         ],
         "yaxis": "y"
        },
        {
         "hoverlabel": {
          "namelength": 0
         },
         "hovertemplate": "Country=Hungary<br>Year=%{x}<br>Value=%{y}",
         "legendgroup": "Country=Hungary",
         "line": {
          "color": "#FF97FF",
          "dash": "solid"
         },
         "mode": "lines",
         "name": "Country=Hungary",
         "showlegend": true,
         "type": "scattergl",
         "x": [
          1990,
          1991,
          1992,
          1993,
          1994,
          1995,
          1996,
          1997,
          1998,
          1999,
          2000,
          2001,
          2002,
          2003,
          2004,
          2005,
          2006,
          2007,
          2008,
          2009,
          2010,
          2011,
          2012,
          2013,
          2014,
          2015,
          2016,
          2017
         ],
         "xaxis": "x",
         "y": [
          6.4,
          5.9,
          5.5,
          5.2,
          5.2,
          5.2,
          4.7,
          4.6,
          4.4,
          4.4,
          4.7,
          4.3,
          4.5,
          4.5,
          4.3,
          4.4,
          4.4,
          4.1,
          4,
          3.7,
          3.6,
          3.6,
          3.6,
          3.7,
          3.9,
          4.7,
          5.3,
          5.2
         ],
         "yaxis": "y"
        },
        {
         "hoverlabel": {
          "namelength": 0
         },
         "hovertemplate": "Country=Lithuania<br>Year=%{x}<br>Value=%{y}",
         "legendgroup": "Country=Lithuania",
         "line": {
          "color": "#FECB52",
          "dash": "solid"
         },
         "mode": "lines",
         "name": "Country=Lithuania",
         "showlegend": true,
         "type": "scattergl",
         "x": [
          1990,
          1991,
          1992,
          1993,
          1994,
          1995,
          1996,
          1997,
          1998,
          1999,
          2000,
          2001,
          2002,
          2003,
          2004,
          2005,
          2006,
          2007,
          2008,
          2009,
          2010,
          2011,
          2012,
          2013,
          2014,
          2015,
          2016,
          2017
         ],
         "xaxis": "x",
         "y": [
          9.8,
          9.2,
          8.1,
          6.4,
          6.4,
          6.1,
          5.7,
          5.3,
          5.2,
          5.1,
          4.8,
          4.5,
          4.7,
          5,
          5.7,
          6,
          6.5,
          7.1,
          7.5,
          6.5,
          6,
          6.3,
          6.9,
          6.9,
          7.6,
          7.6,
          7.4,
          7.5
         ],
         "yaxis": "y"
        },
        {
         "hoverlabel": {
          "namelength": 0
         },
         "hovertemplate": "Country=United Kingdom<br>Year=%{x}<br>Value=%{y}",
         "legendgroup": "Country=United Kingdom",
         "line": {
          "color": "#636efa",
          "dash": "solid"
         },
         "mode": "lines",
         "name": "Country=United Kingdom",
         "showlegend": true,
         "type": "scattergl",
         "x": [
          1990,
          1991,
          1992,
          1993,
          1994,
          1995,
          1996,
          1997,
          1998,
          1999,
          2000,
          2001,
          2002,
          2003,
          2007,
          2008,
          2009,
          2010,
          2011,
          2013,
          2014,
          2015,
          2016
         ],
         "xaxis": "x",
         "y": [
          6.6,
          6.1,
          6.2,
          5.9,
          5.7,
          5.6,
          5.5,
          5.3,
          5.2,
          5.1,
          5.2,
          4.8,
          4.9,
          5.2,
          4.5,
          4.4,
          4.3,
          4.5,
          4.5,
          4.3,
          4.5,
          4.4,
          4.4
         ],
         "yaxis": "y"
        },
        {
         "hoverlabel": {
          "namelength": 0
         },
         "hovertemplate": "Country=Italy<br>Year=%{x}<br>Value=%{y}",
         "legendgroup": "Country=Italy",
         "line": {
          "color": "#EF553B",
          "dash": "solid"
         },
         "mode": "lines",
         "name": "Country=Italy",
         "showlegend": true,
         "type": "scattergl",
         "x": [
          1990,
          1991,
          1992,
          1993,
          1994,
          1995,
          1996,
          1997,
          1998,
          1999,
          2000,
          2001,
          2002,
          2003,
          2004,
          2005,
          2006,
          2007,
          2008,
          2009,
          2010,
          2011,
          2012,
          2013,
          2014,
          2015,
          2016,
          2017
         ],
         "xaxis": "x",
         "y": [
          5.6,
          5.5,
          5.5,
          5.3,
          5.1,
          5.1,
          4.9,
          4.9,
          4.9,
          4.9,
          5,
          4.6,
          4.7,
          4.6,
          4.3,
          4.3,
          4.2,
          4.3,
          4.2,
          3.9,
          3.7,
          3.4,
          3.5,
          3.2,
          3.1,
          3.2,
          3.4,
          3.2
         ],
         "yaxis": "y"
        },
        {
         "hoverlabel": {
          "namelength": 0
         },
         "hovertemplate": "Country=New Zealand<br>Year=%{x}<br>Value=%{y}",
         "legendgroup": "Country=New Zealand",
         "line": {
          "color": "#00cc96",
          "dash": "solid"
         },
         "mode": "lines",
         "name": "Country=New Zealand",
         "showlegend": true,
         "type": "scattergl",
         "x": [
          1990,
          1991,
          1992,
          1993,
          1994,
          1995,
          1996,
          1997,
          1998,
          1999,
          2000,
          2001,
          2002,
          2003,
          2004,
          2005,
          2006,
          2007,
          2008,
          2009,
          2010,
          2011,
          2012,
          2013,
          2014,
          2015,
          2016,
          2017
         ],
         "xaxis": "x",
         "y": [
          6.9,
          6.3,
          5.9,
          5.8,
          5.7,
          5.6,
          5.5,
          5.3,
          5.3,
          5.5,
          5.4,
          5.1,
          5.2,
          5.3,
          5.1,
          5,
          5.2,
          5.2,
          5.2,
          5.1,
          4.9,
          4.7,
          4.7,
          4.4,
          4.4,
          4.3,
          4.3,
          4.3
         ],
         "yaxis": "y"
        },
        {
         "hoverlabel": {
          "namelength": 0
         },
         "hovertemplate": "Country=Slovenia<br>Year=%{x}<br>Value=%{y}",
         "legendgroup": "Country=Slovenia",
         "line": {
          "color": "#ab63fa",
          "dash": "solid"
         },
         "mode": "lines",
         "name": "Country=Slovenia",
         "showlegend": true,
         "type": "scattergl",
         "x": [
          1990,
          1991,
          1992,
          1993,
          1994,
          1995,
          1996,
          1997,
          1998,
          1999,
          2000,
          2001,
          2002,
          2003,
          2004,
          2005,
          2006,
          2007,
          2008,
          2009,
          2010,
          2011,
          2012,
          2013,
          2014,
          2015,
          2016,
          2017
         ],
         "xaxis": "x",
         "y": [
          4.3,
          4.1,
          4.6,
          4.5,
          4.2,
          4.1,
          3.8,
          3.8,
          3.8,
          3.9,
          3.6,
          3.5,
          3.5,
          3.4,
          3.3,
          2.9,
          3.2,
          3.2,
          3.3,
          3.2,
          3.2,
          3.2,
          3.4,
          3,
          3.2,
          3.1,
          3.2,
          3.1
         ],
         "yaxis": "y"
        },
        {
         "hoverlabel": {
          "namelength": 0
         },
         "hovertemplate": "Country=Israel<br>Year=%{x}<br>Value=%{y}",
         "legendgroup": "Country=Israel",
         "line": {
          "color": "#FFA15A",
          "dash": "solid"
         },
         "mode": "lines",
         "name": "Country=Israel",
         "showlegend": true,
         "type": "scattergl",
         "x": [
          1990,
          1991,
          1992,
          1993,
          1994,
          1995,
          1996,
          1997,
          1998,
          1999,
          2000,
          2001,
          2002,
          2003,
          2004,
          2005,
          2006,
          2007,
          2008,
          2009,
          2010,
          2011,
          2012,
          2013,
          2014,
          2015,
          2016
         ],
         "xaxis": "x",
         "y": [
          6.8,
          6.5,
          6.4,
          6.6,
          6.7,
          6.5,
          6.3,
          6.5,
          6.7,
          6.6,
          6.4,
          6.3,
          6.2,
          6.1,
          5.9,
          5.9,
          6.3,
          6.5,
          6.8,
          6.5,
          6.3,
          6.6,
          6.4,
          6.5,
          6.2,
          6.4,
          6.2
         ],
         "yaxis": "y"
        },
        {
         "hoverlabel": {
          "namelength": 0
         },
         "hovertemplate": "Country=Cyprus<br>Year=%{x}<br>Value=%{y}",
         "legendgroup": "Country=Cyprus",
         "line": {
          "color": "#19d3f3",
          "dash": "solid"
         },
         "mode": "lines",
         "name": "Country=Cyprus",
         "showlegend": true,
         "type": "scattergl",
         "x": [
          1990,
          1991,
          1992,
          1993,
          1994,
          1995,
          1996,
          1997,
          1998,
          1999,
          2000,
          2001,
          2002,
          2003,
          2004,
          2005,
          2006,
          2007,
          2008,
          2009,
          2010,
          2011,
          2012,
          2013,
          2014,
          2015,
          2016,
          2017
         ],
         "xaxis": "x",
         "y": [
          9.7,
          10.5,
          8,
          9.7,
          9.7,
          10.2,
          8.7,
          10.7,
          11.4,
          13.2,
          13.4,
          15.1,
          14.5,
          7.7,
          7.3,
          8,
          7,
          8.3,
          7.8,
          7.8,
          7.3,
          7.3,
          6.7,
          6.4,
          6.3,
          7.2,
          7.5,
          6.8
         ],
         "yaxis": "y"
        },
        {
         "hoverlabel": {
          "namelength": 0
         },
         "hovertemplate": "Country=Portugal<br>Year=%{x}<br>Value=%{y}",
         "legendgroup": "Country=Portugal",
         "line": {
          "color": "#FF6692",
          "dash": "solid"
         },
         "mode": "lines",
         "name": "Country=Portugal",
         "showlegend": true,
         "type": "scattergl",
         "x": [
          1990,
          1991,
          1992,
          1993,
          1994,
          1995,
          1996,
          1997,
          1998,
          1999,
          2000,
          2001,
          2002,
          2003,
          2004,
          2005,
          2006,
          2007,
          2008,
          2009,
          2010,
          2011,
          2012,
          2013,
          2014,
          2015,
          2016,
          2017
         ],
         "xaxis": "x",
         "y": [
          7.2,
          7.2,
          7,
          6.8,
          6.6,
          6.6,
          6.3,
          6.5,
          6.6,
          6.7,
          6.2,
          5.6,
          5.4,
          5.1,
          4.7,
          4.6,
          4.5,
          4.4,
          4.1,
          3.8,
          3.8,
          3.4,
          3.3,
          3.1,
          3,
          3.1,
          3.1,
          3.3
         ],
         "yaxis": "y"
        },
        {
         "hoverlabel": {
          "namelength": 0
         },
         "hovertemplate": "Country=France<br>Year=%{x}<br>Value=%{y}",
         "legendgroup": "Country=France",
         "line": {
          "color": "#B6E880",
          "dash": "solid"
         },
         "mode": "lines",
         "name": "Country=France",
         "showlegend": true,
         "type": "scattergl",
         "x": [
          1994,
          1995,
          1996,
          1997,
          1998,
          1999,
          2000,
          2001,
          2002,
          2003,
          2004,
          2005,
          2006,
          2007,
          2008,
          2009,
          2010,
          2011,
          2012,
          2013,
          2014,
          2015,
          2016,
          2017
         ],
         "xaxis": "x",
         "y": [
          4.4,
          4.4,
          4.8,
          4.9,
          4.6,
          4.9,
          5,
          4.8,
          4.6,
          4.6,
          4.5,
          4.5,
          4.3,
          4.3,
          4.1,
          3.9,
          3.9,
          3.6,
          3.7,
          3.6,
          3.6,
          3.6,
          3.5,
          3.5
         ],
         "yaxis": "y"
        },
        {
         "hoverlabel": {
          "namelength": 0
         },
         "hovertemplate": "Country=Greece<br>Year=%{x}<br>Value=%{y}",
         "legendgroup": "Country=Greece",
         "line": {
          "color": "#FF97FF",
          "dash": "solid"
         },
         "mode": "lines",
         "name": "Country=Greece",
         "showlegend": true,
         "type": "scattergl",
         "x": [
          1990,
          1991,
          1992,
          1993,
          1994,
          1995,
          1996,
          1997,
          1998,
          1999,
          2000,
          2001,
          2002,
          2003,
          2004,
          2005,
          2006,
          2007,
          2008,
          2009,
          2010,
          2011,
          2012,
          2013,
          2014,
          2015,
          2016,
          2017
         ],
         "xaxis": "x",
         "y": [
          5.8,
          6.4,
          4.7,
          5.9,
          5.4,
          6.1,
          4.3,
          5.6,
          5.1,
          5.6,
          4.5,
          5.3,
          5.3,
          5.5,
          4.6,
          5.5,
          5.2,
          5.5,
          4.8,
          5.3,
          5.1,
          5,
          4.5,
          4.7,
          4.9,
          5,
          4.6,
          4.7
         ],
         "yaxis": "y"
        },
        {
         "hoverlabel": {
          "namelength": 0
         },
         "hovertemplate": "Country=Netherlands<br>Year=%{x}<br>Value=%{y}",
         "legendgroup": "Country=Netherlands",
         "line": {
          "color": "#FECB52",
          "dash": "solid"
         },
         "mode": "lines",
         "name": "Country=Netherlands",
         "showlegend": true,
         "type": "scattergl",
         "x": [
          1990,
          1991,
          1992,
          1993,
          1994,
          1995,
          1996,
          1997,
          1998,
          1999,
          2000,
          2001,
          2002,
          2003,
          2004,
          2005,
          2006,
          2007,
          2008,
          2009,
          2010,
          2011,
          2012,
          2013,
          2014,
          2015,
          2016,
          2017
         ],
         "xaxis": "x",
         "y": [
          6.5,
          6.4,
          6.2,
          5.8,
          5.4,
          5.3,
          5.5,
          5.4,
          5.5,
          5.7,
          5.5,
          5,
          5.2,
          4.9,
          4.4,
          4.4,
          4.4,
          4.3,
          4.5,
          4.4,
          4.5,
          4.3,
          4.2,
          3.8,
          3.9,
          3.8,
          3.8,
          3.8
         ],
         "yaxis": "y"
        },
        {
         "hoverlabel": {
          "namelength": 0
         },
         "hovertemplate": "Country=Latvia<br>Year=%{x}<br>Value=%{y}",
         "legendgroup": "Country=Latvia",
         "line": {
          "color": "#636efa",
          "dash": "solid"
         },
         "mode": "lines",
         "name": "Country=Latvia",
         "showlegend": true,
         "type": "scattergl",
         "x": [
          1990,
          1991,
          1992,
          1993,
          1994,
          1995,
          1996,
          1997,
          1998,
          1999,
          2000,
          2001,
          2002,
          2003,
          2004,
          2005,
          2006,
          2007,
          2008,
          2009,
          2010,
          2011,
          2012,
          2013,
          2014,
          2015,
          2016,
          2017
         ],
         "xaxis": "x",
         "y": [
          8.9,
          8.4,
          7.2,
          5.7,
          4.6,
          4.5,
          3.9,
          4,
          4,
          3.9,
          3.9,
          4,
          4.2,
          4.4,
          4.6,
          5.6,
          6.6,
          7,
          5.9,
          4.6,
          4.4,
          5.2,
          5.5,
          5.7,
          6.3,
          6.9,
          6.6,
          6.8
         ],
         "yaxis": "y"
        },
        {
         "hoverlabel": {
          "namelength": 0
         },
         "hovertemplate": "Country=Iceland<br>Year=%{x}<br>Value=%{y}",
         "legendgroup": "Country=Iceland",
         "line": {
          "color": "#EF553B",
          "dash": "solid"
         },
         "mode": "lines",
         "name": "Country=Iceland",
         "showlegend": true,
         "type": "scattergl",
         "x": [
          1990,
          1991,
          1992,
          1993,
          1994,
          1995,
          1996,
          1997,
          1998,
          1999,
          2000,
          2001,
          2002,
          2003,
          2004,
          2005,
          2006,
          2007,
          2008,
          2009,
          2010,
          2011
         ],
         "xaxis": "x",
         "y": [
          4.5,
          4.8,
          4.8,
          4.6,
          4.9,
          4.6,
          5,
          5.5,
          5.6,
          5.6,
          6.3,
          5.2,
          5.6,
          5.1,
          5,
          5.4,
          5.5,
          5.5,
          5.2,
          4.6,
          4.9,
          4.6
         ],
         "yaxis": "y"
        },
        {
         "hoverlabel": {
          "namelength": 0
         },
         "hovertemplate": "Country=Poland<br>Year=%{x}<br>Value=%{y}",
         "legendgroup": "Country=Poland",
         "line": {
          "color": "#00cc96",
          "dash": "solid"
         },
         "mode": "lines",
         "name": "Country=Poland",
         "showlegend": true,
         "type": "scattergl",
         "x": [
          1990,
          1991,
          1992,
          1993,
          1994,
          1995,
          1996,
          1997,
          1998,
          1999,
          2000,
          2001,
          2002,
          2003,
          2004,
          2005,
          2006,
          2007,
          2008,
          2009,
          2010,
          2011,
          2012,
          2013,
          2014,
          2015,
          2016,
          2017
         ],
         "xaxis": "x",
         "y": [
          6.7,
          6.1,
          5.7,
          5.4,
          5.4,
          5.4,
          5.3,
          5.3,
          5.4,
          5.7,
          5.5,
          5.1,
          5,
          5.1,
          5,
          5.4,
          5.9,
          6.5,
          6.8,
          6.6,
          6,
          5.4,
          5.4,
          4.7,
          5,
          5,
          5.1,
          5.1
         ],
         "yaxis": "y"
        },
        {
         "hoverlabel": {
          "namelength": 0
         },
         "hovertemplate": "Country=Norway<br>Year=%{x}<br>Value=%{y}",
         "legendgroup": "Country=Norway",
         "line": {
          "color": "#ab63fa",
          "dash": "solid"
         },
         "mode": "lines",
         "name": "Country=Norway",
         "showlegend": true,
         "type": "scattergl",
         "x": [
          1990,
          1991,
          1992,
          1993,
          1994,
          1995,
          1996,
          1997,
          1998,
          1999,
          2000,
          2001,
          2002,
          2003,
          2004,
          2005,
          2006,
          2007,
          2008,
          2009,
          2010,
          2011,
          2012,
          2013,
          2014,
          2015,
          2016,
          2017
         ],
         "xaxis": "x",
         "y": [
          5.2,
          4.7,
          4.5,
          4.5,
          4.8,
          5,
          5.3,
          5.4,
          5.3,
          5.3,
          5,
          4.4,
          4.5,
          4.9,
          4.1,
          4.8,
          4.7,
          5,
          5.3,
          5,
          4.8,
          4.6,
          4.8,
          4.7,
          4.6,
          4.5,
          4.5,
          4.4
         ],
         "yaxis": "y"
        },
        {
         "hoverlabel": {
          "namelength": 0
         },
         "hovertemplate": "Country=Croatia<br>Year=%{x}<br>Value=%{y}",
         "legendgroup": "Country=Croatia",
         "line": {
          "color": "#FFA15A",
          "dash": "solid"
         },
         "mode": "lines",
         "name": "Country=Croatia",
         "showlegend": true,
         "type": "scattergl",
         "x": [
          1990,
          1991,
          1992,
          1993,
          1994,
          1995,
          1996,
          1997,
          1998,
          1999,
          2000,
          2001,
          2002,
          2003,
          2004,
          2005,
          2006,
          2007,
          2008,
          2009,
          2010,
          2011,
          2012,
          2013,
          2014,
          2015,
          2016,
          2017
         ],
         "xaxis": "x",
         "y": [
          5.8,
          4.6,
          4.8,
          5,
          5.2,
          5.3,
          5.4,
          5.4,
          5.3,
          5.3,
          4.9,
          5.1,
          5.3,
          5.2,
          5.3,
          5.1,
          5.1,
          5.4,
          5.4,
          5.2,
          5,
          4.7,
          4.8,
          4.5,
          4.6,
          4.7,
          4.9,
          4.9
         ],
         "yaxis": "y"
        },
        {
         "hoverlabel": {
          "namelength": 0
         },
         "hovertemplate": "Country=Switzerland<br>Year=%{x}<br>Value=%{y}",
         "legendgroup": "Country=Switzerland",
         "line": {
          "color": "#19d3f3",
          "dash": "solid"
         },
         "mode": "lines",
         "name": "Country=Switzerland",
         "showlegend": true,
         "type": "scattergl",
         "x": [
          1990,
          1991,
          1992,
          1993,
          1994,
          1995,
          1996,
          1997,
          1998,
          1999,
          2000,
          2001,
          2002,
          2003,
          2004,
          2005,
          2006,
          2007,
          2008,
          2009,
          2010,
          2011,
          2012,
          2013,
          2014,
          2015,
          2016,
          2017
         ],
         "xaxis": "x",
         "y": [
          6.9,
          7,
          6.6,
          6.2,
          6.1,
          5.8,
          5.7,
          5.5,
          5.4,
          5.7,
          5.5,
          5,
          5.5,
          5.5,
          5.3,
          5.4,
          5.3,
          5.3,
          5.4,
          5.4,
          5.5,
          5.3,
          5.3,
          4.9,
          5.1,
          5,
          5,
          4.8
         ],
         "yaxis": "y"
        },
        {
         "hoverlabel": {
          "namelength": 0
         },
         "hovertemplate": "Country=Luxembourg<br>Year=%{x}<br>Value=%{y}",
         "legendgroup": "Country=Luxembourg",
         "line": {
          "color": "#FF6692",
          "dash": "solid"
         },
         "mode": "lines",
         "name": "Country=Luxembourg",
         "showlegend": true,
         "type": "scattergl",
         "x": [
          1990,
          1991,
          1992,
          1993,
          1994,
          1995,
          1996,
          1997,
          1998,
          1999,
          2000,
          2001,
          2002,
          2003,
          2004,
          2005,
          2006,
          2007,
          2008,
          2009,
          2010,
          2011,
          2012,
          2013,
          2014,
          2015,
          2016,
          2017
         ],
         "xaxis": "x",
         "y": [
          6.1,
          6.7,
          6.4,
          6,
          5.8,
          5.1,
          5.1,
          4.8,
          4.8,
          4.9,
          4.9,
          4.5,
          4.5,
          4.4,
          4.4,
          4.4,
          4.1,
          4.1,
          3.9,
          3.5,
          3.5,
          3.3,
          3.4,
          3.2,
          3,
          3.6,
          3.2,
          3.2
         ],
         "yaxis": "y"
        },
        {
         "hoverlabel": {
          "namelength": 0
         },
         "hovertemplate": "Country=Malta<br>Year=%{x}<br>Value=%{y}",
         "legendgroup": "Country=Malta",
         "line": {
          "color": "#B6E880",
          "dash": "solid"
         },
         "mode": "lines",
         "name": "Country=Malta",
         "showlegend": true,
         "type": "scattergl",
         "x": [
          1990,
          1991,
          1992,
          1993,
          1994,
          1995,
          1996,
          1997,
          1998,
          1999,
          2000,
          2001,
          2002,
          2003,
          2004,
          2005,
          2006,
          2007,
          2008,
          2009,
          2010,
          2011,
          2012,
          2013,
          2014,
          2015,
          2016,
          2017
         ],
         "xaxis": "x",
         "y": [
          7.1,
          7.1,
          6.6,
          6.8,
          6.7,
          6.1,
          6.2,
          6.4,
          6.5,
          6.4,
          6.7,
          5.6,
          5.7,
          5.9,
          6,
          5.9,
          6.3,
          6.1,
          6.1,
          5.7,
          6.3,
          6.2,
          6.7,
          6.1,
          6.6,
          6.7,
          6.7,
          6.3
         ],
         "yaxis": "y"
        },
        {
         "hoverlabel": {
          "namelength": 0
         },
         "hovertemplate": "Country=Mexico<br>Year=%{x}<br>Value=%{y}",
         "legendgroup": "Country=Mexico",
         "line": {
          "color": "#FF97FF",
          "dash": "solid"
         },
         "mode": "lines",
         "name": "Country=Mexico",
         "showlegend": true,
         "type": "scattergl",
         "x": [
          1990,
          1991,
          1992,
          1993,
          1994,
          1995,
          1996,
          1997,
          1998,
          1999,
          2000,
          2001,
          2002,
          2003,
          2004,
          2005,
          2006,
          2007,
          2008,
          2009,
          2010,
          2011,
          2012,
          2013,
          2014,
          2015,
          2016,
          2017
         ],
         "xaxis": "x",
         "y": [
          7.4,
          7.4,
          7.4,
          7.2,
          7.2,
          7,
          7,
          7.3,
          7.2,
          7.5,
          7,
          6.5,
          6,
          5.6,
          5.7,
          5.6,
          5.4,
          5.4,
          5.3,
          5,
          5,
          4.9,
          5,
          4.9,
          4.8,
          4.6,
          4.4,
          4.3
         ],
         "yaxis": "y"
        },
        {
         "hoverlabel": {
          "namelength": 0
         },
         "hovertemplate": "Country=Korea<br>Year=%{x}<br>Value=%{y}",
         "legendgroup": "Country=Korea",
         "line": {
          "color": "#FECB52",
          "dash": "solid"
         },
         "mode": "lines",
         "name": "Country=Korea",
         "showlegend": true,
         "type": "scattergl",
         "x": [
          1990,
          1991,
          1992,
          1993,
          1994,
          1995,
          1996,
          1997,
          1998,
          1999,
          2000,
          2001,
          2002,
          2003,
          2004,
          2005,
          2006,
          2007,
          2008,
          2009,
          2010,
          2011,
          2012,
          2013,
          2014,
          2015,
          2016,
          2017
         ],
         "xaxis": "x",
         "y": [
          9.3,
          9.6,
          9.6,
          9,
          8.7,
          8.7,
          9.4,
          8.4,
          8,
          7.6,
          7,
          6.7,
          6.3,
          6.3,
          6.4,
          6.5,
          6.8,
          7,
          6.6,
          6.2,
          6.5,
          6.6,
          6.5,
          6.4,
          6,
          5.9,
          5.5,
          5.2
         ],
         "yaxis": "y"
        },
        {
         "hoverlabel": {
          "namelength": 0
         },
         "hovertemplate": "Country=Australia<br>Year=%{x}<br>Value=%{y}",
         "legendgroup": "Country=Australia",
         "line": {
          "color": "#636efa",
          "dash": "solid"
         },
         "mode": "lines",
         "name": "Country=Australia",
         "showlegend": true,
         "type": "scattergl",
         "x": [
          1990,
          1991,
          1992,
          1993,
          1994,
          1995,
          1996,
          1997,
          1998,
          1999,
          2000,
          2001,
          2002,
          2003,
          2004,
          2005,
          2006,
          2007,
          2008,
          2009,
          2010,
          2011,
          2012,
          2013,
          2014,
          2015,
          2016,
          2017
         ],
         "xaxis": "x",
         "y": [
          6.9,
          6.6,
          6.6,
          6.4,
          6.2,
          6.1,
          5.8,
          5.8,
          5.9,
          6,
          5.9,
          5.3,
          5.4,
          5.3,
          5.5,
          5.4,
          5.5,
          5.5,
          5.5,
          5.5,
          5.4,
          5.4,
          5.4,
          5.1,
          5.2,
          4.8,
          4.9,
          4.6
         ],
         "yaxis": "y"
        },
        {
         "hoverlabel": {
          "namelength": 0
         },
         "hovertemplate": "Country=Romania<br>Year=%{x}<br>Value=%{y}",
         "legendgroup": "Country=Romania",
         "line": {
          "color": "#EF553B",
          "dash": "solid"
         },
         "mode": "lines",
         "name": "Country=Romania",
         "showlegend": true,
         "type": "scattergl",
         "x": [
          1990,
          1991,
          1992,
          1993,
          1994,
          1995,
          1996,
          1997,
          1998,
          1999,
          2000,
          2001,
          2002,
          2003,
          2004,
          2005,
          2006,
          2007,
          2008,
          2009,
          2010,
          2011,
          2012,
          2013,
          2014,
          2015,
          2016,
          2017
         ],
         "xaxis": "x",
         "y": [
          8.3,
          8,
          7.7,
          7.1,
          6.8,
          6.8,
          6.6,
          6.5,
          6.5,
          6.2,
          6.1,
          5.9,
          5.9,
          6.2,
          6.7,
          6.7,
          6.9,
          9.1,
          7.3,
          6.6,
          5.7,
          5.2,
          5.4,
          5.4,
          5.9,
          6.3,
          6.8,
          7.3
         ],
         "yaxis": "y"
        },
        {
         "hoverlabel": {
          "namelength": 0
         },
         "hovertemplate": "Country=Finland<br>Year=%{x}<br>Value=%{y}",
         "legendgroup": "Country=Finland",
         "line": {
          "color": "#00cc96",
          "dash": "solid"
         },
         "mode": "lines",
         "name": "Country=Finland",
         "showlegend": true,
         "type": "scattergl",
         "x": [
          1990,
          1991,
          1992,
          1993,
          1994,
          1995,
          1997,
          1998,
          1999,
          2000,
          2001,
          2002,
          2003,
          2004,
          2005,
          2006,
          2007,
          2008,
          2009,
          2010,
          2011,
          2012,
          2013,
          2014,
          2015,
          2016,
          2017
         ],
         "xaxis": "x",
         "y": [
          5,
          4.9,
          4.7,
          4.9,
          4.9,
          4.6,
          4.6,
          4.7,
          4.7,
          5.1,
          4.8,
          5.2,
          5,
          5.6,
          5.6,
          5.4,
          5.6,
          5.8,
          5.6,
          5.6,
          5.3,
          5.3,
          4.6,
          4.5,
          4.5,
          4.5,
          4.8
         ],
         "yaxis": "y"
        },
        {
         "hoverlabel": {
          "namelength": 0
         },
         "hovertemplate": "Country=Chile<br>Year=%{x}<br>Value=%{y}",
         "legendgroup": "Country=Chile",
         "line": {
          "color": "#ab63fa",
          "dash": "solid"
         },
         "mode": "lines",
         "name": "Country=Chile",
         "showlegend": true,
         "type": "scattergl",
         "x": [
          1992,
          1993,
          1994,
          1995,
          1996,
          1997,
          1998,
          1999,
          2000,
          2001,
          2002,
          2003,
          2004,
          2005,
          2006,
          2007,
          2008,
          2009,
          2010,
          2011,
          2012,
          2013,
          2014,
          2015,
          2016
         ],
         "xaxis": "x",
         "y": [
          6.6,
          6.7,
          6.5,
          6.1,
          5.8,
          5.3,
          5,
          4.6,
          4.4,
          4.1,
          3.9,
          3.6,
          3.3,
          3.3,
          3.5,
          3.5,
          3.3,
          3.3,
          3.5,
          3.8,
          3.7,
          3.5,
          3.6,
          3.4,
          3.4
         ],
         "yaxis": "y"
        },
        {
         "hoverlabel": {
          "namelength": 0
         },
         "hovertemplate": "Country=Ireland<br>Year=%{x}<br>Value=%{y}",
         "legendgroup": "Country=Ireland",
         "line": {
          "color": "#FFA15A",
          "dash": "solid"
         },
         "mode": "lines",
         "name": "Country=Ireland",
         "showlegend": true,
         "type": "scattergl",
         "x": [
          1990,
          1991,
          1992,
          1993,
          1994,
          1995,
          1996,
          1997,
          1998,
          1999,
          2000,
          2001,
          2002,
          2003,
          2004,
          2005,
          2006,
          2007,
          2008,
          2009,
          2010,
          2011,
          2012,
          2013,
          2014,
          2015,
          2016,
          2017
         ],
         "xaxis": "x",
         "y": [
          5.1,
          4.9,
          4.7,
          4.7,
          4.6,
          4.3,
          4.4,
          4.3,
          4.5,
          4.9,
          5,
          5,
          5.2,
          5.1,
          5.2,
          5.1,
          5.2,
          5.2,
          4.9,
          4.8,
          4.5,
          4.3,
          4.5,
          4.5,
          4.7,
          4.7,
          4.8,
          4.6
         ],
         "yaxis": "y"
        },
        {
         "hoverlabel": {
          "namelength": 0
         },
         "hovertemplate": "Country=Canada<br>Year=%{x}<br>Value=%{y}",
         "legendgroup": "Country=Canada",
         "line": {
          "color": "#19d3f3",
          "dash": "solid"
         },
         "mode": "lines",
         "name": "Country=Canada",
         "showlegend": true,
         "type": "scattergl",
         "x": [
          1990,
          1991,
          1992,
          1993,
          1994,
          1995,
          1996,
          1997,
          1998,
          1999,
          2000,
          2001,
          2002,
          2003,
          2004,
          2005,
          2006,
          2007,
          2008
         ],
         "xaxis": "x",
         "y": [
          6.8,
          6.1,
          5.8,
          5.6,
          5.5,
          5.5,
          5.3,
          5.1,
          5.1,
          5.1,
          5.1,
          4.7,
          4.7,
          4.7,
          4.6,
          4.6,
          4.6,
          4.5,
          4.4
         ],
         "yaxis": "y"
        },
        {
         "hoverlabel": {
          "namelength": 0
         },
         "hovertemplate": "Country=United States<br>Year=%{x}<br>Value=%{y}",
         "legendgroup": "Country=United States",
         "line": {
          "color": "#FF6692",
          "dash": "solid"
         },
         "mode": "lines",
         "name": "Country=United States",
         "showlegend": true,
         "type": "scattergl",
         "x": [
          1991,
          1992,
          1993,
          1994,
          1995,
          1996,
          1997,
          1998,
          1999,
          2000,
          2001,
          2002,
          2003,
          2004,
          2005,
          2006,
          2007,
          2008,
          2009,
          2010,
          2011,
          2012,
          2013,
          2014,
          2015,
          2016,
          2017
         ],
         "xaxis": "x",
         "y": [
          9.2,
          9,
          9.1,
          8.9,
          8.9,
          8.8,
          8.9,
          8.3,
          8.6,
          8.2,
          8.2,
          8,
          7.7,
          7.8,
          7.6,
          7.5,
          7.3,
          7.1,
          6.8,
          6.8,
          6.8,
          6.8,
          6.8,
          6.9,
          6.9,
          7,
          6.9
         ],
         "yaxis": "y"
        },
        {
         "hoverlabel": {
          "namelength": 0
         },
         "hovertemplate": "Country=Sweden<br>Year=%{x}<br>Value=%{y}",
         "legendgroup": "Country=Sweden",
         "line": {
          "color": "#B6E880",
          "dash": "solid"
         },
         "mode": "lines",
         "name": "Country=Sweden",
         "showlegend": true,
         "type": "scattergl",
         "x": [
          1990,
          1991,
          1992,
          1993,
          1994,
          1996,
          1997,
          1998,
          1999,
          2000,
          2001,
          2002,
          2003,
          2004,
          2005,
          2006,
          2008,
          2009,
          2010,
          2011,
          2012,
          2013,
          2014,
          2015,
          2016,
          2017
         ],
         "xaxis": "x",
         "y": [
          4.7,
          4.3,
          4.3,
          3.9,
          3.9,
          3.8,
          3.7,
          3.6,
          4,
          4.5,
          4,
          4.3,
          4.4,
          4.8,
          4.9,
          5,
          5.5,
          5.1,
          5.3,
          5,
          5.3,
          5.4,
          5.5,
          5.3,
          5.4,
          5.2
         ],
         "yaxis": "y"
        },
        {
         "hoverlabel": {
          "namelength": 0
         },
         "hovertemplate": "Country=Bulgaria<br>Year=%{x}<br>Value=%{y}",
         "legendgroup": "Country=Bulgaria",
         "line": {
          "color": "#FF97FF",
          "dash": "solid"
         },
         "mode": "lines",
         "name": "Country=Bulgaria",
         "showlegend": true,
         "type": "scattergl",
         "x": [
          1990,
          1991,
          1992,
          1993,
          1994,
          1995,
          1996,
          1997,
          1998,
          1999,
          2000,
          2001,
          2002,
          2003,
          2004,
          2005,
          2006,
          2007,
          2008,
          2009,
          2010,
          2011,
          2012,
          2013,
          2014,
          2015,
          2016,
          2017
         ],
         "xaxis": "x",
         "y": [
          6.9,
          5.7,
          5.2,
          4.7,
          4.5,
          4.4,
          4.3,
          4.2,
          4.3,
          4.1,
          4.3,
          4,
          3.7,
          3.9,
          4,
          4.4,
          4.3,
          3.9,
          3.7,
          3.5,
          3.3,
          2.9,
          2.9,
          3,
          3.4,
          3.9,
          3.8,
          4
         ],
         "yaxis": "y"
        },
        {
         "hoverlabel": {
          "namelength": 0
         },
         "hovertemplate": "Country=Belgium<br>Year=%{x}<br>Value=%{y}",
         "legendgroup": "Country=Belgium",
         "line": {
          "color": "#FECB52",
          "dash": "solid"
         },
         "mode": "lines",
         "name": "Country=Belgium",
         "showlegend": true,
         "type": "scattergl",
         "x": [
          1990,
          1991,
          1992,
          1993,
          1994,
          1995,
          1996,
          1997,
          1998,
          1999,
          2000,
          2001,
          2002,
          2003,
          2004,
          2005,
          2006,
          2007,
          2008,
          2009,
          2010,
          2011,
          2012,
          2013,
          2014,
          2015,
          2016,
          2017
         ],
         "xaxis": "x",
         "y": [
          6.5,
          6.1,
          5.8,
          5.4,
          5.1,
          5.1,
          5,
          4.7,
          4.4,
          4.3,
          4.4,
          4.1,
          3.9,
          4,
          4.2,
          4.1,
          4.2,
          4.3,
          4.3,
          4,
          3.9,
          3.7,
          3.8,
          3.4,
          3.6,
          4,
          3.9,
          3.9
         ],
         "yaxis": "y"
        },
        {
         "hoverlabel": {
          "namelength": 0
         },
         "hovertemplate": "Country=Spain<br>Year=%{x}<br>Value=%{y}",
         "legendgroup": "Country=Spain",
         "line": {
          "color": "#636efa",
          "dash": "solid"
         },
         "mode": "lines",
         "name": "Country=Spain",
         "showlegend": true,
         "type": "scattergl",
         "x": [
          1990,
          1991,
          1992,
          1993,
          1994,
          1995,
          1996,
          1997,
          1998,
          1999,
          2000,
          2001,
          2002,
          2003,
          2004,
          2005,
          2006,
          2007,
          2008,
          2009,
          2010,
          2011,
          2012,
          2013,
          2014,
          2015,
          2016,
          2017
         ],
         "xaxis": "x",
         "y": [
          5.7,
          5.6,
          5.6,
          5.1,
          5.1,
          5.1,
          4.9,
          5,
          5.2,
          5.2,
          5.4,
          5.1,
          5.1,
          5,
          5,
          4.7,
          4.5,
          4.4,
          4.2,
          3.7,
          3.6,
          3.4,
          3.5,
          3.3,
          3.4,
          3.6,
          3.7,
          3.7
         ],
         "yaxis": "y"
        },
        {
         "hoverlabel": {
          "namelength": 0
         },
         "hovertemplate": "Country=China (People's Republic of)<br>Year=%{x}<br>Value=%{y}",
         "legendgroup": "Country=China (People's Republic of)",
         "line": {
          "color": "#EF553B",
          "dash": "solid"
         },
         "mode": "lines",
         "name": "Country=China (People's Republic of)",
         "showlegend": true,
         "type": "scattergl",
         "x": [
          2010,
          2011,
          2012
         ],
         "xaxis": "x",
         "y": [
          9.3,
          9.3,
          9.6
         ],
         "yaxis": "y"
        },
        {
         "hoverlabel": {
          "namelength": 0
         },
         "hovertemplate": "Country=Costa Rica<br>Year=%{x}<br>Value=%{y}",
         "legendgroup": "Country=Costa Rica",
         "line": {
          "color": "#00cc96",
          "dash": "solid"
         },
         "mode": "lines",
         "name": "Country=Costa Rica",
         "showlegend": true,
         "type": "scattergl",
         "x": [
          1990,
          1991,
          1992,
          1993,
          1994,
          1995,
          1996,
          1997,
          1998,
          1999,
          2000,
          2001,
          2002,
          2003,
          2004,
          2005,
          2006,
          2007,
          2008,
          2009,
          2010,
          2011,
          2012,
          2013,
          2014,
          2015,
          2016,
          2017
         ],
         "xaxis": "x",
         "y": [
          7.5,
          7.2,
          6.6,
          6.3,
          6.5,
          7.1,
          6.7,
          6.7,
          6.7,
          6.8,
          6.3,
          6,
          5.9,
          6,
          6.1,
          6.1,
          6.2,
          6,
          5.7,
          5.4,
          5.3,
          5.4,
          5.6,
          5.5,
          5.4,
          5.5,
          5.5,
          5.2
         ],
         "yaxis": "y"
        },
        {
         "hoverlabel": {
          "namelength": 0
         },
         "hovertemplate": "Country=Russia<br>Year=%{x}<br>Value=%{y}",
         "legendgroup": "Country=Russia",
         "line": {
          "color": "#ab63fa",
          "dash": "solid"
         },
         "mode": "lines",
         "name": "Country=Russia",
         "showlegend": true,
         "type": "scattergl",
         "x": [
          2010,
          2011,
          2012,
          2013
         ],
         "xaxis": "x",
         "y": [
          8.5,
          9.2,
          8.5,
          8.5
         ],
         "yaxis": "y"
        }
       ],
       "layout": {
        "height": 600,
        "legend": {
         "tracegroupgap": 0
        },
        "margin": {
         "t": 60
        },
        "template": {
         "data": {
          "bar": [
           {
            "error_x": {
             "color": "#2a3f5f"
            },
            "error_y": {
             "color": "#2a3f5f"
            },
            "marker": {
             "line": {
              "color": "#E5ECF6",
              "width": 0.5
             }
            },
            "type": "bar"
           }
          ],
          "barpolar": [
           {
            "marker": {
             "line": {
              "color": "#E5ECF6",
              "width": 0.5
             }
            },
            "type": "barpolar"
           }
          ],
          "carpet": [
           {
            "aaxis": {
             "endlinecolor": "#2a3f5f",
             "gridcolor": "white",
             "linecolor": "white",
             "minorgridcolor": "white",
             "startlinecolor": "#2a3f5f"
            },
            "baxis": {
             "endlinecolor": "#2a3f5f",
             "gridcolor": "white",
             "linecolor": "white",
             "minorgridcolor": "white",
             "startlinecolor": "#2a3f5f"
            },
            "type": "carpet"
           }
          ],
          "choropleth": [
           {
            "colorbar": {
             "outlinewidth": 0,
             "ticks": ""
            },
            "type": "choropleth"
           }
          ],
          "contour": [
           {
            "colorbar": {
             "outlinewidth": 0,
             "ticks": ""
            },
            "colorscale": [
             [
              0,
              "#0d0887"
             ],
             [
              0.1111111111111111,
              "#46039f"
             ],
             [
              0.2222222222222222,
              "#7201a8"
             ],
             [
              0.3333333333333333,
              "#9c179e"
             ],
             [
              0.4444444444444444,
              "#bd3786"
             ],
             [
              0.5555555555555556,
              "#d8576b"
             ],
             [
              0.6666666666666666,
              "#ed7953"
             ],
             [
              0.7777777777777778,
              "#fb9f3a"
             ],
             [
              0.8888888888888888,
              "#fdca26"
             ],
             [
              1,
              "#f0f921"
             ]
            ],
            "type": "contour"
           }
          ],
          "contourcarpet": [
           {
            "colorbar": {
             "outlinewidth": 0,
             "ticks": ""
            },
            "type": "contourcarpet"
           }
          ],
          "heatmap": [
           {
            "colorbar": {
             "outlinewidth": 0,
             "ticks": ""
            },
            "colorscale": [
             [
              0,
              "#0d0887"
             ],
             [
              0.1111111111111111,
              "#46039f"
             ],
             [
              0.2222222222222222,
              "#7201a8"
             ],
             [
              0.3333333333333333,
              "#9c179e"
             ],
             [
              0.4444444444444444,
              "#bd3786"
             ],
             [
              0.5555555555555556,
              "#d8576b"
             ],
             [
              0.6666666666666666,
              "#ed7953"
             ],
             [
              0.7777777777777778,
              "#fb9f3a"
             ],
             [
              0.8888888888888888,
              "#fdca26"
             ],
             [
              1,
              "#f0f921"
             ]
            ],
            "type": "heatmap"
           }
          ],
          "heatmapgl": [
           {
            "colorbar": {
             "outlinewidth": 0,
             "ticks": ""
            },
            "colorscale": [
             [
              0,
              "#0d0887"
             ],
             [
              0.1111111111111111,
              "#46039f"
             ],
             [
              0.2222222222222222,
              "#7201a8"
             ],
             [
              0.3333333333333333,
              "#9c179e"
             ],
             [
              0.4444444444444444,
              "#bd3786"
             ],
             [
              0.5555555555555556,
              "#d8576b"
             ],
             [
              0.6666666666666666,
              "#ed7953"
             ],
             [
              0.7777777777777778,
              "#fb9f3a"
             ],
             [
              0.8888888888888888,
              "#fdca26"
             ],
             [
              1,
              "#f0f921"
             ]
            ],
            "type": "heatmapgl"
           }
          ],
          "histogram": [
           {
            "marker": {
             "colorbar": {
              "outlinewidth": 0,
              "ticks": ""
             }
            },
            "type": "histogram"
           }
          ],
          "histogram2d": [
           {
            "colorbar": {
             "outlinewidth": 0,
             "ticks": ""
            },
            "colorscale": [
             [
              0,
              "#0d0887"
             ],
             [
              0.1111111111111111,
              "#46039f"
             ],
             [
              0.2222222222222222,
              "#7201a8"
             ],
             [
              0.3333333333333333,
              "#9c179e"
             ],
             [
              0.4444444444444444,
              "#bd3786"
             ],
             [
              0.5555555555555556,
              "#d8576b"
             ],
             [
              0.6666666666666666,
              "#ed7953"
             ],
             [
              0.7777777777777778,
              "#fb9f3a"
             ],
             [
              0.8888888888888888,
              "#fdca26"
             ],
             [
              1,
              "#f0f921"
             ]
            ],
            "type": "histogram2d"
           }
          ],
          "histogram2dcontour": [
           {
            "colorbar": {
             "outlinewidth": 0,
             "ticks": ""
            },
            "colorscale": [
             [
              0,
              "#0d0887"
             ],
             [
              0.1111111111111111,
              "#46039f"
             ],
             [
              0.2222222222222222,
              "#7201a8"
             ],
             [
              0.3333333333333333,
              "#9c179e"
             ],
             [
              0.4444444444444444,
              "#bd3786"
             ],
             [
              0.5555555555555556,
              "#d8576b"
             ],
             [
              0.6666666666666666,
              "#ed7953"
             ],
             [
              0.7777777777777778,
              "#fb9f3a"
             ],
             [
              0.8888888888888888,
              "#fdca26"
             ],
             [
              1,
              "#f0f921"
             ]
            ],
            "type": "histogram2dcontour"
           }
          ],
          "mesh3d": [
           {
            "colorbar": {
             "outlinewidth": 0,
             "ticks": ""
            },
            "type": "mesh3d"
           }
          ],
          "parcoords": [
           {
            "line": {
             "colorbar": {
              "outlinewidth": 0,
              "ticks": ""
             }
            },
            "type": "parcoords"
           }
          ],
          "scatter": [
           {
            "marker": {
             "colorbar": {
              "outlinewidth": 0,
              "ticks": ""
             }
            },
            "type": "scatter"
           }
          ],
          "scatter3d": [
           {
            "line": {
             "colorbar": {
              "outlinewidth": 0,
              "ticks": ""
             }
            },
            "marker": {
             "colorbar": {
              "outlinewidth": 0,
              "ticks": ""
             }
            },
            "type": "scatter3d"
           }
          ],
          "scattercarpet": [
           {
            "marker": {
             "colorbar": {
              "outlinewidth": 0,
              "ticks": ""
             }
            },
            "type": "scattercarpet"
           }
          ],
          "scattergeo": [
           {
            "marker": {
             "colorbar": {
              "outlinewidth": 0,
              "ticks": ""
             }
            },
            "type": "scattergeo"
           }
          ],
          "scattergl": [
           {
            "marker": {
             "colorbar": {
              "outlinewidth": 0,
              "ticks": ""
             }
            },
            "type": "scattergl"
           }
          ],
          "scattermapbox": [
           {
            "marker": {
             "colorbar": {
              "outlinewidth": 0,
              "ticks": ""
             }
            },
            "type": "scattermapbox"
           }
          ],
          "scatterpolar": [
           {
            "marker": {
             "colorbar": {
              "outlinewidth": 0,
              "ticks": ""
             }
            },
            "type": "scatterpolar"
           }
          ],
          "scatterpolargl": [
           {
            "marker": {
             "colorbar": {
              "outlinewidth": 0,
              "ticks": ""
             }
            },
            "type": "scatterpolargl"
           }
          ],
          "scatterternary": [
           {
            "marker": {
             "colorbar": {
              "outlinewidth": 0,
              "ticks": ""
             }
            },
            "type": "scatterternary"
           }
          ],
          "surface": [
           {
            "colorbar": {
             "outlinewidth": 0,
             "ticks": ""
            },
            "colorscale": [
             [
              0,
              "#0d0887"
             ],
             [
              0.1111111111111111,
              "#46039f"
             ],
             [
              0.2222222222222222,
              "#7201a8"
             ],
             [
              0.3333333333333333,
              "#9c179e"
             ],
             [
              0.4444444444444444,
              "#bd3786"
             ],
             [
              0.5555555555555556,
              "#d8576b"
             ],
             [
              0.6666666666666666,
              "#ed7953"
             ],
             [
              0.7777777777777778,
              "#fb9f3a"
             ],
             [
              0.8888888888888888,
              "#fdca26"
             ],
             [
              1,
              "#f0f921"
             ]
            ],
            "type": "surface"
           }
          ],
          "table": [
           {
            "cells": {
             "fill": {
              "color": "#EBF0F8"
             },
             "line": {
              "color": "white"
             }
            },
            "header": {
             "fill": {
              "color": "#C8D4E3"
             },
             "line": {
              "color": "white"
             }
            },
            "type": "table"
           }
          ]
         },
         "layout": {
          "annotationdefaults": {
           "arrowcolor": "#2a3f5f",
           "arrowhead": 0,
           "arrowwidth": 1
          },
          "colorscale": {
           "diverging": [
            [
             0,
             "#8e0152"
            ],
            [
             0.1,
             "#c51b7d"
            ],
            [
             0.2,
             "#de77ae"
            ],
            [
             0.3,
             "#f1b6da"
            ],
            [
             0.4,
             "#fde0ef"
            ],
            [
             0.5,
             "#f7f7f7"
            ],
            [
             0.6,
             "#e6f5d0"
            ],
            [
             0.7,
             "#b8e186"
            ],
            [
             0.8,
             "#7fbc41"
            ],
            [
             0.9,
             "#4d9221"
            ],
            [
             1,
             "#276419"
            ]
           ],
           "sequential": [
            [
             0,
             "#0d0887"
            ],
            [
             0.1111111111111111,
             "#46039f"
            ],
            [
             0.2222222222222222,
             "#7201a8"
            ],
            [
             0.3333333333333333,
             "#9c179e"
            ],
            [
             0.4444444444444444,
             "#bd3786"
            ],
            [
             0.5555555555555556,
             "#d8576b"
            ],
            [
             0.6666666666666666,
             "#ed7953"
            ],
            [
             0.7777777777777778,
             "#fb9f3a"
            ],
            [
             0.8888888888888888,
             "#fdca26"
            ],
            [
             1,
             "#f0f921"
            ]
           ],
           "sequentialminus": [
            [
             0,
             "#0d0887"
            ],
            [
             0.1111111111111111,
             "#46039f"
            ],
            [
             0.2222222222222222,
             "#7201a8"
            ],
            [
             0.3333333333333333,
             "#9c179e"
            ],
            [
             0.4444444444444444,
             "#bd3786"
            ],
            [
             0.5555555555555556,
             "#d8576b"
            ],
            [
             0.6666666666666666,
             "#ed7953"
            ],
            [
             0.7777777777777778,
             "#fb9f3a"
            ],
            [
             0.8888888888888888,
             "#fdca26"
            ],
            [
             1,
             "#f0f921"
            ]
           ]
          },
          "colorway": [
           "#636efa",
           "#EF553B",
           "#00cc96",
           "#ab63fa",
           "#FFA15A",
           "#19d3f3",
           "#FF6692",
           "#B6E880",
           "#FF97FF",
           "#FECB52"
          ],
          "font": {
           "color": "#2a3f5f"
          },
          "geo": {
           "bgcolor": "white",
           "lakecolor": "white",
           "landcolor": "#E5ECF6",
           "showlakes": true,
           "showland": true,
           "subunitcolor": "white"
          },
          "hoverlabel": {
           "align": "left"
          },
          "hovermode": "closest",
          "mapbox": {
           "style": "light"
          },
          "paper_bgcolor": "white",
          "plot_bgcolor": "#E5ECF6",
          "polar": {
           "angularaxis": {
            "gridcolor": "white",
            "linecolor": "white",
            "ticks": ""
           },
           "bgcolor": "#E5ECF6",
           "radialaxis": {
            "gridcolor": "white",
            "linecolor": "white",
            "ticks": ""
           }
          },
          "scene": {
           "xaxis": {
            "backgroundcolor": "#E5ECF6",
            "gridcolor": "white",
            "gridwidth": 2,
            "linecolor": "white",
            "showbackground": true,
            "ticks": "",
            "zerolinecolor": "white"
           },
           "yaxis": {
            "backgroundcolor": "#E5ECF6",
            "gridcolor": "white",
            "gridwidth": 2,
            "linecolor": "white",
            "showbackground": true,
            "ticks": "",
            "zerolinecolor": "white"
           },
           "zaxis": {
            "backgroundcolor": "#E5ECF6",
            "gridcolor": "white",
            "gridwidth": 2,
            "linecolor": "white",
            "showbackground": true,
            "ticks": "",
            "zerolinecolor": "white"
           }
          },
          "shapedefaults": {
           "line": {
            "color": "#2a3f5f"
           }
          },
          "ternary": {
           "aaxis": {
            "gridcolor": "white",
            "linecolor": "white",
            "ticks": ""
           },
           "baxis": {
            "gridcolor": "white",
            "linecolor": "white",
            "ticks": ""
           },
           "bgcolor": "#E5ECF6",
           "caxis": {
            "gridcolor": "white",
            "linecolor": "white",
            "ticks": ""
           }
          },
          "title": {
           "x": 0.05
          },
          "xaxis": {
           "automargin": true,
           "gridcolor": "white",
           "linecolor": "white",
           "ticks": "",
           "zerolinecolor": "white",
           "zerolinewidth": 2
          },
          "yaxis": {
           "automargin": true,
           "gridcolor": "white",
           "linecolor": "white",
           "ticks": "",
           "zerolinecolor": "white",
           "zerolinewidth": 2
          }
         }
        },
        "xaxis": {
         "anchor": "y",
         "domain": [
          0,
          0.98
         ],
         "title": {
          "text": "Year"
         }
        },
        "yaxis": {
         "anchor": "x",
         "domain": [
          0,
          1
         ],
         "title": {
          "text": "Value"
         }
        }
       }
      },
      "text/html": [
       "<div>\n",
       "        \n",
       "        \n",
       "            <div id=\"106e62eb-064b-485e-aad2-d45201c3dd12\" class=\"plotly-graph-div\" style=\"height:600px; width:100%;\"></div>\n",
       "            <script type=\"text/javascript\">\n",
       "                require([\"plotly\"], function(Plotly) {\n",
       "                    window.PLOTLYENV=window.PLOTLYENV || {};\n",
       "                    \n",
       "                if (document.getElementById(\"106e62eb-064b-485e-aad2-d45201c3dd12\")) {\n",
       "                    Plotly.newPlot(\n",
       "                        '106e62eb-064b-485e-aad2-d45201c3dd12',\n",
       "                        [{\"hoverlabel\": {\"namelength\": 0}, \"hovertemplate\": \"Country=Turkey<br>Year=%{x}<br>Value=%{y}\", \"legendgroup\": \"Country=Turkey\", \"line\": {\"color\": \"#636efa\", \"dash\": \"solid\"}, \"mode\": \"lines\", \"name\": \"Country=Turkey\", \"showlegend\": true, \"type\": \"scattergl\", \"x\": [2003, 2004, 2005, 2006, 2007, 2008, 2009, 2010, 2011, 2012, 2013, 2014, 2015, 2016, 2017], \"xaxis\": \"x\", \"y\": [7.1, 9.2, 9.5, 9.2, 9.1, 9.0, 8.2, 8.0, 8.0, 8.0, 7.9, 7.8, 7.7, 7.5, 7.1], \"yaxis\": \"y\"}, {\"hoverlabel\": {\"namelength\": 0}, \"hovertemplate\": \"Country=Japan<br>Year=%{x}<br>Value=%{y}\", \"legendgroup\": \"Country=Japan\", \"line\": {\"color\": \"#EF553B\", \"dash\": \"solid\"}, \"mode\": \"lines\", \"name\": \"Country=Japan\", \"showlegend\": true, \"type\": \"scattergl\", \"x\": [1990, 1991, 1992, 1993, 1994, 1995, 1996, 1997, 1998, 1999, 2000, 2001, 2002, 2003, 2004, 2005, 2006, 2007, 2008, 2009, 2010, 2011, 2012, 2013, 2014, 2015, 2016, 2017], \"xaxis\": \"x\", \"y\": [5.9, 6.0, 6.1, 6.4, 6.3, 6.4, 6.4, 6.2, 6.3, 6.1, 6.4, 6.4, 6.0, 5.9, 5.7, 5.7, 5.8, 5.7, 5.8, 5.6, 5.5, 5.2, 5.3, 5.3, 5.1, 5.1, 5.0, 4.9], \"yaxis\": \"y\"}, {\"hoverlabel\": {\"namelength\": 0}, \"hovertemplate\": \"Country=Germany<br>Year=%{x}<br>Value=%{y}\", \"legendgroup\": \"Country=Germany\", \"line\": {\"color\": \"#00cc96\", \"dash\": \"solid\"}, \"mode\": \"lines\", \"name\": \"Country=Germany\", \"showlegend\": true, \"type\": \"scattergl\", \"x\": [1990, 1991, 1992, 1993, 1994, 1995, 1996, 1997, 1998, 1999, 2000, 2001, 2002, 2003, 2004, 2005, 2006, 2007, 2008, 2009, 2010, 2011, 2012, 2013, 2014, 2015, 2016, 2017], \"xaxis\": \"x\", \"y\": [6.5, 5.7, 5.6, 5.5, 5.4, 5.3, 5.2, 5.2, 5.1, 5.2, 5.1, 4.7, 4.6, 4.6, 4.8, 4.7, 4.5, 4.5, 4.6, 4.6, 4.7, 4.6, 4.8, 4.6, 4.8, 4.9, 5.0, 4.9], \"yaxis\": \"y\"}, {\"hoverlabel\": {\"namelength\": 0}, \"hovertemplate\": \"Country=Denmark<br>Year=%{x}<br>Value=%{y}\", \"legendgroup\": \"Country=Denmark\", \"line\": {\"color\": \"#ab63fa\", \"dash\": \"solid\"}, \"mode\": \"lines\", \"name\": \"Country=Denmark\", \"showlegend\": true, \"type\": \"scattergl\", \"x\": [1990, 1991, 1992, 1993, 1994, 1995, 1996, 1997, 1998, 1999, 2000, 2001, 2002, 2003, 2004, 2005, 2006, 2007, 2008, 2009, 2010, 2011, 2012, 2013, 2014, 2015, 2016, 2017], \"xaxis\": \"x\", \"y\": [6.1, 6.0, 6.2, 6.1, 6.8, 6.6, 6.8, 6.5, 6.5, 6.7, 7.2, 6.8, 6.9, 6.5, 7.0, 6.7, 6.7, 6.7, 6.8, 6.0, 5.6, 4.9, 5.1, 4.9, 5.0, 5.1, 5.4, 5.5], \"yaxis\": \"y\"}, {\"hoverlabel\": {\"namelength\": 0}, \"hovertemplate\": \"Country=Czech Republic<br>Year=%{x}<br>Value=%{y}\", \"legendgroup\": \"Country=Czech Republic\", \"line\": {\"color\": \"#FFA15A\", \"dash\": \"solid\"}, \"mode\": \"lines\", \"name\": \"Country=Czech Republic\", \"showlegend\": true, \"type\": \"scattergl\", \"x\": [1990, 1991, 1992, 1993, 1994, 1995, 1996, 1997, 1998, 1999, 2000, 2001, 2002, 2003, 2004, 2005, 2006, 2007, 2008, 2009, 2010, 2011, 2012, 2013, 2014, 2015, 2016, 2017], \"xaxis\": \"x\", \"y\": [8.8, 7.0, 7.2, 6.4, 5.7, 5.3, 5.2, 5.6, 5.3, 5.2, 5.4, 5.1, 5.2, 4.8, 5.0, 5.1, 5.2, 5.5, 5.1, 4.6, 4.5, 4.3, 4.3, 4.1, 4.3, 4.6, 4.8, 5.0], \"yaxis\": \"y\"}, {\"hoverlabel\": {\"namelength\": 0}, \"hovertemplate\": \"Country=Slovak Republic<br>Year=%{x}<br>Value=%{y}\", \"legendgroup\": \"Country=Slovak Republic\", \"line\": {\"color\": \"#19d3f3\", \"dash\": \"solid\"}, \"mode\": \"lines\", \"name\": \"Country=Slovak Republic\", \"showlegend\": true, \"type\": \"scattergl\", \"x\": [1990, 1991, 1992, 1993, 1994, 1995, 1996, 1997, 1998, 1999, 2000, 2001, 2002, 2003, 2004, 2005, 2006, 2007, 2008, 2009, 2010, 2011, 2012, 2013, 2014, 2015, 2016, 2017], \"xaxis\": \"x\", \"y\": [7.6, 6.2, 6.4, 5.8, 5.3, 5.1, 5.1, 5.2, 5.1, 5.1, 4.8, 4.4, 4.7, 4.8, 5.2, 4.9, 4.8, 5.1, 5.3, 4.9, 4.7, 4.7, 4.8, 4.7, 4.9, 5.3, 5.5, 5.8], \"yaxis\": \"y\"}, {\"hoverlabel\": {\"namelength\": 0}, \"hovertemplate\": \"Country=Estonia<br>Year=%{x}<br>Value=%{y}\", \"legendgroup\": \"Country=Estonia\", \"line\": {\"color\": \"#FF6692\", \"dash\": \"solid\"}, \"mode\": \"lines\", \"name\": \"Country=Estonia\", \"showlegend\": true, \"type\": \"scattergl\", \"x\": [1990, 1991, 1992, 1993, 1994, 1995, 1996, 1997, 1998, 1999, 2000, 2001, 2002, 2003, 2004, 2005, 2006, 2007, 2008, 2009, 2010, 2011, 2012, 2013, 2014, 2015, 2016, 2017], \"xaxis\": \"x\", \"y\": [7.5, 6.6, 5.8, 5.2, 5.0, 4.9, 3.9, 4.0, 3.9, 4.0, 3.9, 4.1, 4.2, 4.2, 4.4, 4.5, 5.2, 5.2, 4.6, 4.0, 3.8, 4.1, 4.5, 4.3, 4.7, 5.2, 4.8, 4.9], \"yaxis\": \"y\"}, {\"hoverlabel\": {\"namelength\": 0}, \"hovertemplate\": \"Country=Austria<br>Year=%{x}<br>Value=%{y}\", \"legendgroup\": \"Country=Austria\", \"line\": {\"color\": \"#B6E880\", \"dash\": \"solid\"}, \"mode\": \"lines\", \"name\": \"Country=Austria\", \"showlegend\": true, \"type\": \"scattergl\", \"x\": [1990, 1991, 1992, 1993, 1994, 1995, 1996, 1997, 1998, 1999, 2000, 2001, 2002, 2003, 2004, 2005, 2006, 2007, 2008, 2009, 2010, 2011, 2012, 2013, 2014, 2015, 2016, 2017], \"xaxis\": \"x\", \"y\": [5.9, 5.7, 5.8, 5.7, 5.5, 5.4, 5.3, 5.2, 4.9, 4.9, 4.9, 4.3, 4.5, 4.6, 4.7, 4.8, 4.5, 4.3, 4.2, 4.3, 4.5, 4.3, 4.6, 4.3, 4.4, 5.1, 5.1, 5.1], \"yaxis\": \"y\"}, {\"hoverlabel\": {\"namelength\": 0}, \"hovertemplate\": \"Country=Hungary<br>Year=%{x}<br>Value=%{y}\", \"legendgroup\": \"Country=Hungary\", \"line\": {\"color\": \"#FF97FF\", \"dash\": \"solid\"}, \"mode\": \"lines\", \"name\": \"Country=Hungary\", \"showlegend\": true, \"type\": \"scattergl\", \"x\": [1990, 1991, 1992, 1993, 1994, 1995, 1996, 1997, 1998, 1999, 2000, 2001, 2002, 2003, 2004, 2005, 2006, 2007, 2008, 2009, 2010, 2011, 2012, 2013, 2014, 2015, 2016, 2017], \"xaxis\": \"x\", \"y\": [6.4, 5.9, 5.5, 5.2, 5.2, 5.2, 4.7, 4.6, 4.4, 4.4, 4.7, 4.3, 4.5, 4.5, 4.3, 4.4, 4.4, 4.1, 4.0, 3.7, 3.6, 3.6, 3.6, 3.7, 3.9, 4.7, 5.3, 5.2], \"yaxis\": \"y\"}, {\"hoverlabel\": {\"namelength\": 0}, \"hovertemplate\": \"Country=Lithuania<br>Year=%{x}<br>Value=%{y}\", \"legendgroup\": \"Country=Lithuania\", \"line\": {\"color\": \"#FECB52\", \"dash\": \"solid\"}, \"mode\": \"lines\", \"name\": \"Country=Lithuania\", \"showlegend\": true, \"type\": \"scattergl\", \"x\": [1990, 1991, 1992, 1993, 1994, 1995, 1996, 1997, 1998, 1999, 2000, 2001, 2002, 2003, 2004, 2005, 2006, 2007, 2008, 2009, 2010, 2011, 2012, 2013, 2014, 2015, 2016, 2017], \"xaxis\": \"x\", \"y\": [9.8, 9.2, 8.1, 6.4, 6.4, 6.1, 5.7, 5.3, 5.2, 5.1, 4.8, 4.5, 4.7, 5.0, 5.7, 6.0, 6.5, 7.1, 7.5, 6.5, 6.0, 6.3, 6.9, 6.9, 7.6, 7.6, 7.4, 7.5], \"yaxis\": \"y\"}, {\"hoverlabel\": {\"namelength\": 0}, \"hovertemplate\": \"Country=United Kingdom<br>Year=%{x}<br>Value=%{y}\", \"legendgroup\": \"Country=United Kingdom\", \"line\": {\"color\": \"#636efa\", \"dash\": \"solid\"}, \"mode\": \"lines\", \"name\": \"Country=United Kingdom\", \"showlegend\": true, \"type\": \"scattergl\", \"x\": [1990, 1991, 1992, 1993, 1994, 1995, 1996, 1997, 1998, 1999, 2000, 2001, 2002, 2003, 2007, 2008, 2009, 2010, 2011, 2013, 2014, 2015, 2016], \"xaxis\": \"x\", \"y\": [6.6, 6.1, 6.2, 5.9, 5.7, 5.6, 5.5, 5.3, 5.2, 5.1, 5.2, 4.8, 4.9, 5.2, 4.5, 4.4, 4.3, 4.5, 4.5, 4.3, 4.5, 4.4, 4.4], \"yaxis\": \"y\"}, {\"hoverlabel\": {\"namelength\": 0}, \"hovertemplate\": \"Country=Italy<br>Year=%{x}<br>Value=%{y}\", \"legendgroup\": \"Country=Italy\", \"line\": {\"color\": \"#EF553B\", \"dash\": \"solid\"}, \"mode\": \"lines\", \"name\": \"Country=Italy\", \"showlegend\": true, \"type\": \"scattergl\", \"x\": [1990, 1991, 1992, 1993, 1994, 1995, 1996, 1997, 1998, 1999, 2000, 2001, 2002, 2003, 2004, 2005, 2006, 2007, 2008, 2009, 2010, 2011, 2012, 2013, 2014, 2015, 2016, 2017], \"xaxis\": \"x\", \"y\": [5.6, 5.5, 5.5, 5.3, 5.1, 5.1, 4.9, 4.9, 4.9, 4.9, 5.0, 4.6, 4.7, 4.6, 4.3, 4.3, 4.2, 4.3, 4.2, 3.9, 3.7, 3.4, 3.5, 3.2, 3.1, 3.2, 3.4, 3.2], \"yaxis\": \"y\"}, {\"hoverlabel\": {\"namelength\": 0}, \"hovertemplate\": \"Country=New Zealand<br>Year=%{x}<br>Value=%{y}\", \"legendgroup\": \"Country=New Zealand\", \"line\": {\"color\": \"#00cc96\", \"dash\": \"solid\"}, \"mode\": \"lines\", \"name\": \"Country=New Zealand\", \"showlegend\": true, \"type\": \"scattergl\", \"x\": [1990, 1991, 1992, 1993, 1994, 1995, 1996, 1997, 1998, 1999, 2000, 2001, 2002, 2003, 2004, 2005, 2006, 2007, 2008, 2009, 2010, 2011, 2012, 2013, 2014, 2015, 2016, 2017], \"xaxis\": \"x\", \"y\": [6.9, 6.3, 5.9, 5.8, 5.7, 5.6, 5.5, 5.3, 5.3, 5.5, 5.4, 5.1, 5.2, 5.3, 5.1, 5.0, 5.2, 5.2, 5.2, 5.1, 4.9, 4.7, 4.7, 4.4, 4.4, 4.3, 4.3, 4.3], \"yaxis\": \"y\"}, {\"hoverlabel\": {\"namelength\": 0}, \"hovertemplate\": \"Country=Slovenia<br>Year=%{x}<br>Value=%{y}\", \"legendgroup\": \"Country=Slovenia\", \"line\": {\"color\": \"#ab63fa\", \"dash\": \"solid\"}, \"mode\": \"lines\", \"name\": \"Country=Slovenia\", \"showlegend\": true, \"type\": \"scattergl\", \"x\": [1990, 1991, 1992, 1993, 1994, 1995, 1996, 1997, 1998, 1999, 2000, 2001, 2002, 2003, 2004, 2005, 2006, 2007, 2008, 2009, 2010, 2011, 2012, 2013, 2014, 2015, 2016, 2017], \"xaxis\": \"x\", \"y\": [4.3, 4.1, 4.6, 4.5, 4.2, 4.1, 3.8, 3.8, 3.8, 3.9, 3.6, 3.5, 3.5, 3.4, 3.3, 2.9, 3.2, 3.2, 3.3, 3.2, 3.2, 3.2, 3.4, 3.0, 3.2, 3.1, 3.2, 3.1], \"yaxis\": \"y\"}, {\"hoverlabel\": {\"namelength\": 0}, \"hovertemplate\": \"Country=Israel<br>Year=%{x}<br>Value=%{y}\", \"legendgroup\": \"Country=Israel\", \"line\": {\"color\": \"#FFA15A\", \"dash\": \"solid\"}, \"mode\": \"lines\", \"name\": \"Country=Israel\", \"showlegend\": true, \"type\": \"scattergl\", \"x\": [1990, 1991, 1992, 1993, 1994, 1995, 1996, 1997, 1998, 1999, 2000, 2001, 2002, 2003, 2004, 2005, 2006, 2007, 2008, 2009, 2010, 2011, 2012, 2013, 2014, 2015, 2016], \"xaxis\": \"x\", \"y\": [6.8, 6.5, 6.4, 6.6, 6.7, 6.5, 6.3, 6.5, 6.7, 6.6, 6.4, 6.3, 6.2, 6.1, 5.9, 5.9, 6.3, 6.5, 6.8, 6.5, 6.3, 6.6, 6.4, 6.5, 6.2, 6.4, 6.2], \"yaxis\": \"y\"}, {\"hoverlabel\": {\"namelength\": 0}, \"hovertemplate\": \"Country=Cyprus<br>Year=%{x}<br>Value=%{y}\", \"legendgroup\": \"Country=Cyprus\", \"line\": {\"color\": \"#19d3f3\", \"dash\": \"solid\"}, \"mode\": \"lines\", \"name\": \"Country=Cyprus\", \"showlegend\": true, \"type\": \"scattergl\", \"x\": [1990, 1991, 1992, 1993, 1994, 1995, 1996, 1997, 1998, 1999, 2000, 2001, 2002, 2003, 2004, 2005, 2006, 2007, 2008, 2009, 2010, 2011, 2012, 2013, 2014, 2015, 2016, 2017], \"xaxis\": \"x\", \"y\": [9.7, 10.5, 8.0, 9.7, 9.7, 10.2, 8.7, 10.7, 11.4, 13.2, 13.4, 15.1, 14.5, 7.7, 7.3, 8.0, 7.0, 8.3, 7.8, 7.8, 7.3, 7.3, 6.7, 6.4, 6.3, 7.2, 7.5, 6.8], \"yaxis\": \"y\"}, {\"hoverlabel\": {\"namelength\": 0}, \"hovertemplate\": \"Country=Portugal<br>Year=%{x}<br>Value=%{y}\", \"legendgroup\": \"Country=Portugal\", \"line\": {\"color\": \"#FF6692\", \"dash\": \"solid\"}, \"mode\": \"lines\", \"name\": \"Country=Portugal\", \"showlegend\": true, \"type\": \"scattergl\", \"x\": [1990, 1991, 1992, 1993, 1994, 1995, 1996, 1997, 1998, 1999, 2000, 2001, 2002, 2003, 2004, 2005, 2006, 2007, 2008, 2009, 2010, 2011, 2012, 2013, 2014, 2015, 2016, 2017], \"xaxis\": \"x\", \"y\": [7.2, 7.2, 7.0, 6.8, 6.6, 6.6, 6.3, 6.5, 6.6, 6.7, 6.2, 5.6, 5.4, 5.1, 4.7, 4.6, 4.5, 4.4, 4.1, 3.8, 3.8, 3.4, 3.3, 3.1, 3.0, 3.1, 3.1, 3.3], \"yaxis\": \"y\"}, {\"hoverlabel\": {\"namelength\": 0}, \"hovertemplate\": \"Country=France<br>Year=%{x}<br>Value=%{y}\", \"legendgroup\": \"Country=France\", \"line\": {\"color\": \"#B6E880\", \"dash\": \"solid\"}, \"mode\": \"lines\", \"name\": \"Country=France\", \"showlegend\": true, \"type\": \"scattergl\", \"x\": [1994, 1995, 1996, 1997, 1998, 1999, 2000, 2001, 2002, 2003, 2004, 2005, 2006, 2007, 2008, 2009, 2010, 2011, 2012, 2013, 2014, 2015, 2016, 2017], \"xaxis\": \"x\", \"y\": [4.4, 4.4, 4.8, 4.9, 4.6, 4.9, 5.0, 4.8, 4.6, 4.6, 4.5, 4.5, 4.3, 4.3, 4.1, 3.9, 3.9, 3.6, 3.7, 3.6, 3.6, 3.6, 3.5, 3.5], \"yaxis\": \"y\"}, {\"hoverlabel\": {\"namelength\": 0}, \"hovertemplate\": \"Country=Greece<br>Year=%{x}<br>Value=%{y}\", \"legendgroup\": \"Country=Greece\", \"line\": {\"color\": \"#FF97FF\", \"dash\": \"solid\"}, \"mode\": \"lines\", \"name\": \"Country=Greece\", \"showlegend\": true, \"type\": \"scattergl\", \"x\": [1990, 1991, 1992, 1993, 1994, 1995, 1996, 1997, 1998, 1999, 2000, 2001, 2002, 2003, 2004, 2005, 2006, 2007, 2008, 2009, 2010, 2011, 2012, 2013, 2014, 2015, 2016, 2017], \"xaxis\": \"x\", \"y\": [5.8, 6.4, 4.7, 5.9, 5.4, 6.1, 4.3, 5.6, 5.1, 5.6, 4.5, 5.3, 5.3, 5.5, 4.6, 5.5, 5.2, 5.5, 4.8, 5.3, 5.1, 5.0, 4.5, 4.7, 4.9, 5.0, 4.6, 4.7], \"yaxis\": \"y\"}, {\"hoverlabel\": {\"namelength\": 0}, \"hovertemplate\": \"Country=Netherlands<br>Year=%{x}<br>Value=%{y}\", \"legendgroup\": \"Country=Netherlands\", \"line\": {\"color\": \"#FECB52\", \"dash\": \"solid\"}, \"mode\": \"lines\", \"name\": \"Country=Netherlands\", \"showlegend\": true, \"type\": \"scattergl\", \"x\": [1990, 1991, 1992, 1993, 1994, 1995, 1996, 1997, 1998, 1999, 2000, 2001, 2002, 2003, 2004, 2005, 2006, 2007, 2008, 2009, 2010, 2011, 2012, 2013, 2014, 2015, 2016, 2017], \"xaxis\": \"x\", \"y\": [6.5, 6.4, 6.2, 5.8, 5.4, 5.3, 5.5, 5.4, 5.5, 5.7, 5.5, 5.0, 5.2, 4.9, 4.4, 4.4, 4.4, 4.3, 4.5, 4.4, 4.5, 4.3, 4.2, 3.8, 3.9, 3.8, 3.8, 3.8], \"yaxis\": \"y\"}, {\"hoverlabel\": {\"namelength\": 0}, \"hovertemplate\": \"Country=Latvia<br>Year=%{x}<br>Value=%{y}\", \"legendgroup\": \"Country=Latvia\", \"line\": {\"color\": \"#636efa\", \"dash\": \"solid\"}, \"mode\": \"lines\", \"name\": \"Country=Latvia\", \"showlegend\": true, \"type\": \"scattergl\", \"x\": [1990, 1991, 1992, 1993, 1994, 1995, 1996, 1997, 1998, 1999, 2000, 2001, 2002, 2003, 2004, 2005, 2006, 2007, 2008, 2009, 2010, 2011, 2012, 2013, 2014, 2015, 2016, 2017], \"xaxis\": \"x\", \"y\": [8.9, 8.4, 7.2, 5.7, 4.6, 4.5, 3.9, 4.0, 4.0, 3.9, 3.9, 4.0, 4.2, 4.4, 4.6, 5.6, 6.6, 7.0, 5.9, 4.6, 4.4, 5.2, 5.5, 5.7, 6.3, 6.9, 6.6, 6.8], \"yaxis\": \"y\"}, {\"hoverlabel\": {\"namelength\": 0}, \"hovertemplate\": \"Country=Iceland<br>Year=%{x}<br>Value=%{y}\", \"legendgroup\": \"Country=Iceland\", \"line\": {\"color\": \"#EF553B\", \"dash\": \"solid\"}, \"mode\": \"lines\", \"name\": \"Country=Iceland\", \"showlegend\": true, \"type\": \"scattergl\", \"x\": [1990, 1991, 1992, 1993, 1994, 1995, 1996, 1997, 1998, 1999, 2000, 2001, 2002, 2003, 2004, 2005, 2006, 2007, 2008, 2009, 2010, 2011], \"xaxis\": \"x\", \"y\": [4.5, 4.8, 4.8, 4.6, 4.9, 4.6, 5.0, 5.5, 5.6, 5.6, 6.3, 5.2, 5.6, 5.1, 5.0, 5.4, 5.5, 5.5, 5.2, 4.6, 4.9, 4.6], \"yaxis\": \"y\"}, {\"hoverlabel\": {\"namelength\": 0}, \"hovertemplate\": \"Country=Poland<br>Year=%{x}<br>Value=%{y}\", \"legendgroup\": \"Country=Poland\", \"line\": {\"color\": \"#00cc96\", \"dash\": \"solid\"}, \"mode\": \"lines\", \"name\": \"Country=Poland\", \"showlegend\": true, \"type\": \"scattergl\", \"x\": [1990, 1991, 1992, 1993, 1994, 1995, 1996, 1997, 1998, 1999, 2000, 2001, 2002, 2003, 2004, 2005, 2006, 2007, 2008, 2009, 2010, 2011, 2012, 2013, 2014, 2015, 2016, 2017], \"xaxis\": \"x\", \"y\": [6.7, 6.1, 5.7, 5.4, 5.4, 5.4, 5.3, 5.3, 5.4, 5.7, 5.5, 5.1, 5.0, 5.1, 5.0, 5.4, 5.9, 6.5, 6.8, 6.6, 6.0, 5.4, 5.4, 4.7, 5.0, 5.0, 5.1, 5.1], \"yaxis\": \"y\"}, {\"hoverlabel\": {\"namelength\": 0}, \"hovertemplate\": \"Country=Norway<br>Year=%{x}<br>Value=%{y}\", \"legendgroup\": \"Country=Norway\", \"line\": {\"color\": \"#ab63fa\", \"dash\": \"solid\"}, \"mode\": \"lines\", \"name\": \"Country=Norway\", \"showlegend\": true, \"type\": \"scattergl\", \"x\": [1990, 1991, 1992, 1993, 1994, 1995, 1996, 1997, 1998, 1999, 2000, 2001, 2002, 2003, 2004, 2005, 2006, 2007, 2008, 2009, 2010, 2011, 2012, 2013, 2014, 2015, 2016, 2017], \"xaxis\": \"x\", \"y\": [5.2, 4.7, 4.5, 4.5, 4.8, 5.0, 5.3, 5.4, 5.3, 5.3, 5.0, 4.4, 4.5, 4.9, 4.1, 4.8, 4.7, 5.0, 5.3, 5.0, 4.8, 4.6, 4.8, 4.7, 4.6, 4.5, 4.5, 4.4], \"yaxis\": \"y\"}, {\"hoverlabel\": {\"namelength\": 0}, \"hovertemplate\": \"Country=Croatia<br>Year=%{x}<br>Value=%{y}\", \"legendgroup\": \"Country=Croatia\", \"line\": {\"color\": \"#FFA15A\", \"dash\": \"solid\"}, \"mode\": \"lines\", \"name\": \"Country=Croatia\", \"showlegend\": true, \"type\": \"scattergl\", \"x\": [1990, 1991, 1992, 1993, 1994, 1995, 1996, 1997, 1998, 1999, 2000, 2001, 2002, 2003, 2004, 2005, 2006, 2007, 2008, 2009, 2010, 2011, 2012, 2013, 2014, 2015, 2016, 2017], \"xaxis\": \"x\", \"y\": [5.8, 4.6, 4.8, 5.0, 5.2, 5.3, 5.4, 5.4, 5.3, 5.3, 4.9, 5.1, 5.3, 5.2, 5.3, 5.1, 5.1, 5.4, 5.4, 5.2, 5.0, 4.7, 4.8, 4.5, 4.6, 4.7, 4.9, 4.9], \"yaxis\": \"y\"}, {\"hoverlabel\": {\"namelength\": 0}, \"hovertemplate\": \"Country=Switzerland<br>Year=%{x}<br>Value=%{y}\", \"legendgroup\": \"Country=Switzerland\", \"line\": {\"color\": \"#19d3f3\", \"dash\": \"solid\"}, \"mode\": \"lines\", \"name\": \"Country=Switzerland\", \"showlegend\": true, \"type\": \"scattergl\", \"x\": [1990, 1991, 1992, 1993, 1994, 1995, 1996, 1997, 1998, 1999, 2000, 2001, 2002, 2003, 2004, 2005, 2006, 2007, 2008, 2009, 2010, 2011, 2012, 2013, 2014, 2015, 2016, 2017], \"xaxis\": \"x\", \"y\": [6.9, 7.0, 6.6, 6.2, 6.1, 5.8, 5.7, 5.5, 5.4, 5.7, 5.5, 5.0, 5.5, 5.5, 5.3, 5.4, 5.3, 5.3, 5.4, 5.4, 5.5, 5.3, 5.3, 4.9, 5.1, 5.0, 5.0, 4.8], \"yaxis\": \"y\"}, {\"hoverlabel\": {\"namelength\": 0}, \"hovertemplate\": \"Country=Luxembourg<br>Year=%{x}<br>Value=%{y}\", \"legendgroup\": \"Country=Luxembourg\", \"line\": {\"color\": \"#FF6692\", \"dash\": \"solid\"}, \"mode\": \"lines\", \"name\": \"Country=Luxembourg\", \"showlegend\": true, \"type\": \"scattergl\", \"x\": [1990, 1991, 1992, 1993, 1994, 1995, 1996, 1997, 1998, 1999, 2000, 2001, 2002, 2003, 2004, 2005, 2006, 2007, 2008, 2009, 2010, 2011, 2012, 2013, 2014, 2015, 2016, 2017], \"xaxis\": \"x\", \"y\": [6.1, 6.7, 6.4, 6.0, 5.8, 5.1, 5.1, 4.8, 4.8, 4.9, 4.9, 4.5, 4.5, 4.4, 4.4, 4.4, 4.1, 4.1, 3.9, 3.5, 3.5, 3.3, 3.4, 3.2, 3.0, 3.6, 3.2, 3.2], \"yaxis\": \"y\"}, {\"hoverlabel\": {\"namelength\": 0}, \"hovertemplate\": \"Country=Malta<br>Year=%{x}<br>Value=%{y}\", \"legendgroup\": \"Country=Malta\", \"line\": {\"color\": \"#B6E880\", \"dash\": \"solid\"}, \"mode\": \"lines\", \"name\": \"Country=Malta\", \"showlegend\": true, \"type\": \"scattergl\", \"x\": [1990, 1991, 1992, 1993, 1994, 1995, 1996, 1997, 1998, 1999, 2000, 2001, 2002, 2003, 2004, 2005, 2006, 2007, 2008, 2009, 2010, 2011, 2012, 2013, 2014, 2015, 2016, 2017], \"xaxis\": \"x\", \"y\": [7.1, 7.1, 6.6, 6.8, 6.7, 6.1, 6.2, 6.4, 6.5, 6.4, 6.7, 5.6, 5.7, 5.9, 6.0, 5.9, 6.3, 6.1, 6.1, 5.7, 6.3, 6.2, 6.7, 6.1, 6.6, 6.7, 6.7, 6.3], \"yaxis\": \"y\"}, {\"hoverlabel\": {\"namelength\": 0}, \"hovertemplate\": \"Country=Mexico<br>Year=%{x}<br>Value=%{y}\", \"legendgroup\": \"Country=Mexico\", \"line\": {\"color\": \"#FF97FF\", \"dash\": \"solid\"}, \"mode\": \"lines\", \"name\": \"Country=Mexico\", \"showlegend\": true, \"type\": \"scattergl\", \"x\": [1990, 1991, 1992, 1993, 1994, 1995, 1996, 1997, 1998, 1999, 2000, 2001, 2002, 2003, 2004, 2005, 2006, 2007, 2008, 2009, 2010, 2011, 2012, 2013, 2014, 2015, 2016, 2017], \"xaxis\": \"x\", \"y\": [7.4, 7.4, 7.4, 7.2, 7.2, 7.0, 7.0, 7.3, 7.2, 7.5, 7.0, 6.5, 6.0, 5.6, 5.7, 5.6, 5.4, 5.4, 5.3, 5.0, 5.0, 4.9, 5.0, 4.9, 4.8, 4.6, 4.4, 4.3], \"yaxis\": \"y\"}, {\"hoverlabel\": {\"namelength\": 0}, \"hovertemplate\": \"Country=Korea<br>Year=%{x}<br>Value=%{y}\", \"legendgroup\": \"Country=Korea\", \"line\": {\"color\": \"#FECB52\", \"dash\": \"solid\"}, \"mode\": \"lines\", \"name\": \"Country=Korea\", \"showlegend\": true, \"type\": \"scattergl\", \"x\": [1990, 1991, 1992, 1993, 1994, 1995, 1996, 1997, 1998, 1999, 2000, 2001, 2002, 2003, 2004, 2005, 2006, 2007, 2008, 2009, 2010, 2011, 2012, 2013, 2014, 2015, 2016, 2017], \"xaxis\": \"x\", \"y\": [9.3, 9.6, 9.6, 9.0, 8.7, 8.7, 9.4, 8.4, 8.0, 7.6, 7.0, 6.7, 6.3, 6.3, 6.4, 6.5, 6.8, 7.0, 6.6, 6.2, 6.5, 6.6, 6.5, 6.4, 6.0, 5.9, 5.5, 5.2], \"yaxis\": \"y\"}, {\"hoverlabel\": {\"namelength\": 0}, \"hovertemplate\": \"Country=Australia<br>Year=%{x}<br>Value=%{y}\", \"legendgroup\": \"Country=Australia\", \"line\": {\"color\": \"#636efa\", \"dash\": \"solid\"}, \"mode\": \"lines\", \"name\": \"Country=Australia\", \"showlegend\": true, \"type\": \"scattergl\", \"x\": [1990, 1991, 1992, 1993, 1994, 1995, 1996, 1997, 1998, 1999, 2000, 2001, 2002, 2003, 2004, 2005, 2006, 2007, 2008, 2009, 2010, 2011, 2012, 2013, 2014, 2015, 2016, 2017], \"xaxis\": \"x\", \"y\": [6.9, 6.6, 6.6, 6.4, 6.2, 6.1, 5.8, 5.8, 5.9, 6.0, 5.9, 5.3, 5.4, 5.3, 5.5, 5.4, 5.5, 5.5, 5.5, 5.5, 5.4, 5.4, 5.4, 5.1, 5.2, 4.8, 4.9, 4.6], \"yaxis\": \"y\"}, {\"hoverlabel\": {\"namelength\": 0}, \"hovertemplate\": \"Country=Romania<br>Year=%{x}<br>Value=%{y}\", \"legendgroup\": \"Country=Romania\", \"line\": {\"color\": \"#EF553B\", \"dash\": \"solid\"}, \"mode\": \"lines\", \"name\": \"Country=Romania\", \"showlegend\": true, \"type\": \"scattergl\", \"x\": [1990, 1991, 1992, 1993, 1994, 1995, 1996, 1997, 1998, 1999, 2000, 2001, 2002, 2003, 2004, 2005, 2006, 2007, 2008, 2009, 2010, 2011, 2012, 2013, 2014, 2015, 2016, 2017], \"xaxis\": \"x\", \"y\": [8.3, 8.0, 7.7, 7.1, 6.8, 6.8, 6.6, 6.5, 6.5, 6.2, 6.1, 5.9, 5.9, 6.2, 6.7, 6.7, 6.9, 9.1, 7.3, 6.6, 5.7, 5.2, 5.4, 5.4, 5.9, 6.3, 6.8, 7.3], \"yaxis\": \"y\"}, {\"hoverlabel\": {\"namelength\": 0}, \"hovertemplate\": \"Country=Finland<br>Year=%{x}<br>Value=%{y}\", \"legendgroup\": \"Country=Finland\", \"line\": {\"color\": \"#00cc96\", \"dash\": \"solid\"}, \"mode\": \"lines\", \"name\": \"Country=Finland\", \"showlegend\": true, \"type\": \"scattergl\", \"x\": [1990, 1991, 1992, 1993, 1994, 1995, 1997, 1998, 1999, 2000, 2001, 2002, 2003, 2004, 2005, 2006, 2007, 2008, 2009, 2010, 2011, 2012, 2013, 2014, 2015, 2016, 2017], \"xaxis\": \"x\", \"y\": [5.0, 4.9, 4.7, 4.9, 4.9, 4.6, 4.6, 4.7, 4.7, 5.1, 4.8, 5.2, 5.0, 5.6, 5.6, 5.4, 5.6, 5.8, 5.6, 5.6, 5.3, 5.3, 4.6, 4.5, 4.5, 4.5, 4.8], \"yaxis\": \"y\"}, {\"hoverlabel\": {\"namelength\": 0}, \"hovertemplate\": \"Country=Chile<br>Year=%{x}<br>Value=%{y}\", \"legendgroup\": \"Country=Chile\", \"line\": {\"color\": \"#ab63fa\", \"dash\": \"solid\"}, \"mode\": \"lines\", \"name\": \"Country=Chile\", \"showlegend\": true, \"type\": \"scattergl\", \"x\": [1992, 1993, 1994, 1995, 1996, 1997, 1998, 1999, 2000, 2001, 2002, 2003, 2004, 2005, 2006, 2007, 2008, 2009, 2010, 2011, 2012, 2013, 2014, 2015, 2016], \"xaxis\": \"x\", \"y\": [6.6, 6.7, 6.5, 6.1, 5.8, 5.3, 5.0, 4.6, 4.4, 4.1, 3.9, 3.6, 3.3, 3.3, 3.5, 3.5, 3.3, 3.3, 3.5, 3.8, 3.7, 3.5, 3.6, 3.4, 3.4], \"yaxis\": \"y\"}, {\"hoverlabel\": {\"namelength\": 0}, \"hovertemplate\": \"Country=Ireland<br>Year=%{x}<br>Value=%{y}\", \"legendgroup\": \"Country=Ireland\", \"line\": {\"color\": \"#FFA15A\", \"dash\": \"solid\"}, \"mode\": \"lines\", \"name\": \"Country=Ireland\", \"showlegend\": true, \"type\": \"scattergl\", \"x\": [1990, 1991, 1992, 1993, 1994, 1995, 1996, 1997, 1998, 1999, 2000, 2001, 2002, 2003, 2004, 2005, 2006, 2007, 2008, 2009, 2010, 2011, 2012, 2013, 2014, 2015, 2016, 2017], \"xaxis\": \"x\", \"y\": [5.1, 4.9, 4.7, 4.7, 4.6, 4.3, 4.4, 4.3, 4.5, 4.9, 5.0, 5.0, 5.2, 5.1, 5.2, 5.1, 5.2, 5.2, 4.9, 4.8, 4.5, 4.3, 4.5, 4.5, 4.7, 4.7, 4.8, 4.6], \"yaxis\": \"y\"}, {\"hoverlabel\": {\"namelength\": 0}, \"hovertemplate\": \"Country=Canada<br>Year=%{x}<br>Value=%{y}\", \"legendgroup\": \"Country=Canada\", \"line\": {\"color\": \"#19d3f3\", \"dash\": \"solid\"}, \"mode\": \"lines\", \"name\": \"Country=Canada\", \"showlegend\": true, \"type\": \"scattergl\", \"x\": [1990, 1991, 1992, 1993, 1994, 1995, 1996, 1997, 1998, 1999, 2000, 2001, 2002, 2003, 2004, 2005, 2006, 2007, 2008], \"xaxis\": \"x\", \"y\": [6.8, 6.1, 5.8, 5.6, 5.5, 5.5, 5.3, 5.1, 5.1, 5.1, 5.1, 4.7, 4.7, 4.7, 4.6, 4.6, 4.6, 4.5, 4.4], \"yaxis\": \"y\"}, {\"hoverlabel\": {\"namelength\": 0}, \"hovertemplate\": \"Country=United States<br>Year=%{x}<br>Value=%{y}\", \"legendgroup\": \"Country=United States\", \"line\": {\"color\": \"#FF6692\", \"dash\": \"solid\"}, \"mode\": \"lines\", \"name\": \"Country=United States\", \"showlegend\": true, \"type\": \"scattergl\", \"x\": [1991, 1992, 1993, 1994, 1995, 1996, 1997, 1998, 1999, 2000, 2001, 2002, 2003, 2004, 2005, 2006, 2007, 2008, 2009, 2010, 2011, 2012, 2013, 2014, 2015, 2016, 2017], \"xaxis\": \"x\", \"y\": [9.2, 9.0, 9.1, 8.9, 8.9, 8.8, 8.9, 8.3, 8.6, 8.2, 8.2, 8.0, 7.7, 7.8, 7.6, 7.5, 7.3, 7.1, 6.8, 6.8, 6.8, 6.8, 6.8, 6.9, 6.9, 7.0, 6.9], \"yaxis\": \"y\"}, {\"hoverlabel\": {\"namelength\": 0}, \"hovertemplate\": \"Country=Sweden<br>Year=%{x}<br>Value=%{y}\", \"legendgroup\": \"Country=Sweden\", \"line\": {\"color\": \"#B6E880\", \"dash\": \"solid\"}, \"mode\": \"lines\", \"name\": \"Country=Sweden\", \"showlegend\": true, \"type\": \"scattergl\", \"x\": [1990, 1991, 1992, 1993, 1994, 1996, 1997, 1998, 1999, 2000, 2001, 2002, 2003, 2004, 2005, 2006, 2008, 2009, 2010, 2011, 2012, 2013, 2014, 2015, 2016, 2017], \"xaxis\": \"x\", \"y\": [4.7, 4.3, 4.3, 3.9, 3.9, 3.8, 3.7, 3.6, 4.0, 4.5, 4.0, 4.3, 4.4, 4.8, 4.9, 5.0, 5.5, 5.1, 5.3, 5.0, 5.3, 5.4, 5.5, 5.3, 5.4, 5.2], \"yaxis\": \"y\"}, {\"hoverlabel\": {\"namelength\": 0}, \"hovertemplate\": \"Country=Bulgaria<br>Year=%{x}<br>Value=%{y}\", \"legendgroup\": \"Country=Bulgaria\", \"line\": {\"color\": \"#FF97FF\", \"dash\": \"solid\"}, \"mode\": \"lines\", \"name\": \"Country=Bulgaria\", \"showlegend\": true, \"type\": \"scattergl\", \"x\": [1990, 1991, 1992, 1993, 1994, 1995, 1996, 1997, 1998, 1999, 2000, 2001, 2002, 2003, 2004, 2005, 2006, 2007, 2008, 2009, 2010, 2011, 2012, 2013, 2014, 2015, 2016, 2017], \"xaxis\": \"x\", \"y\": [6.9, 5.7, 5.2, 4.7, 4.5, 4.4, 4.3, 4.2, 4.3, 4.1, 4.3, 4.0, 3.7, 3.9, 4.0, 4.4, 4.3, 3.9, 3.7, 3.5, 3.3, 2.9, 2.9, 3.0, 3.4, 3.9, 3.8, 4.0], \"yaxis\": \"y\"}, {\"hoverlabel\": {\"namelength\": 0}, \"hovertemplate\": \"Country=Belgium<br>Year=%{x}<br>Value=%{y}\", \"legendgroup\": \"Country=Belgium\", \"line\": {\"color\": \"#FECB52\", \"dash\": \"solid\"}, \"mode\": \"lines\", \"name\": \"Country=Belgium\", \"showlegend\": true, \"type\": \"scattergl\", \"x\": [1990, 1991, 1992, 1993, 1994, 1995, 1996, 1997, 1998, 1999, 2000, 2001, 2002, 2003, 2004, 2005, 2006, 2007, 2008, 2009, 2010, 2011, 2012, 2013, 2014, 2015, 2016, 2017], \"xaxis\": \"x\", \"y\": [6.5, 6.1, 5.8, 5.4, 5.1, 5.1, 5.0, 4.7, 4.4, 4.3, 4.4, 4.1, 3.9, 4.0, 4.2, 4.1, 4.2, 4.3, 4.3, 4.0, 3.9, 3.7, 3.8, 3.4, 3.6, 4.0, 3.9, 3.9], \"yaxis\": \"y\"}, {\"hoverlabel\": {\"namelength\": 0}, \"hovertemplate\": \"Country=Spain<br>Year=%{x}<br>Value=%{y}\", \"legendgroup\": \"Country=Spain\", \"line\": {\"color\": \"#636efa\", \"dash\": \"solid\"}, \"mode\": \"lines\", \"name\": \"Country=Spain\", \"showlegend\": true, \"type\": \"scattergl\", \"x\": [1990, 1991, 1992, 1993, 1994, 1995, 1996, 1997, 1998, 1999, 2000, 2001, 2002, 2003, 2004, 2005, 2006, 2007, 2008, 2009, 2010, 2011, 2012, 2013, 2014, 2015, 2016, 2017], \"xaxis\": \"x\", \"y\": [5.7, 5.6, 5.6, 5.1, 5.1, 5.1, 4.9, 5.0, 5.2, 5.2, 5.4, 5.1, 5.1, 5.0, 5.0, 4.7, 4.5, 4.4, 4.2, 3.7, 3.6, 3.4, 3.5, 3.3, 3.4, 3.6, 3.7, 3.7], \"yaxis\": \"y\"}, {\"hoverlabel\": {\"namelength\": 0}, \"hovertemplate\": \"Country=China (People's Republic of)<br>Year=%{x}<br>Value=%{y}\", \"legendgroup\": \"Country=China (People's Republic of)\", \"line\": {\"color\": \"#EF553B\", \"dash\": \"solid\"}, \"mode\": \"lines\", \"name\": \"Country=China (People's Republic of)\", \"showlegend\": true, \"type\": \"scattergl\", \"x\": [2010, 2011, 2012], \"xaxis\": \"x\", \"y\": [9.3, 9.3, 9.6], \"yaxis\": \"y\"}, {\"hoverlabel\": {\"namelength\": 0}, \"hovertemplate\": \"Country=Costa Rica<br>Year=%{x}<br>Value=%{y}\", \"legendgroup\": \"Country=Costa Rica\", \"line\": {\"color\": \"#00cc96\", \"dash\": \"solid\"}, \"mode\": \"lines\", \"name\": \"Country=Costa Rica\", \"showlegend\": true, \"type\": \"scattergl\", \"x\": [1990, 1991, 1992, 1993, 1994, 1995, 1996, 1997, 1998, 1999, 2000, 2001, 2002, 2003, 2004, 2005, 2006, 2007, 2008, 2009, 2010, 2011, 2012, 2013, 2014, 2015, 2016, 2017], \"xaxis\": \"x\", \"y\": [7.5, 7.2, 6.6, 6.3, 6.5, 7.1, 6.7, 6.7, 6.7, 6.8, 6.3, 6.0, 5.9, 6.0, 6.1, 6.1, 6.2, 6.0, 5.7, 5.4, 5.3, 5.4, 5.6, 5.5, 5.4, 5.5, 5.5, 5.2], \"yaxis\": \"y\"}, {\"hoverlabel\": {\"namelength\": 0}, \"hovertemplate\": \"Country=Russia<br>Year=%{x}<br>Value=%{y}\", \"legendgroup\": \"Country=Russia\", \"line\": {\"color\": \"#ab63fa\", \"dash\": \"solid\"}, \"mode\": \"lines\", \"name\": \"Country=Russia\", \"showlegend\": true, \"type\": \"scattergl\", \"x\": [2010, 2011, 2012, 2013], \"xaxis\": \"x\", \"y\": [8.5, 9.2, 8.5, 8.5], \"yaxis\": \"y\"}],\n",
       "                        {\"height\": 600, \"legend\": {\"tracegroupgap\": 0}, \"margin\": {\"t\": 60}, \"template\": {\"data\": {\"bar\": [{\"error_x\": {\"color\": \"#2a3f5f\"}, \"error_y\": {\"color\": \"#2a3f5f\"}, \"marker\": {\"line\": {\"color\": \"#E5ECF6\", \"width\": 0.5}}, \"type\": \"bar\"}], \"barpolar\": [{\"marker\": {\"line\": {\"color\": \"#E5ECF6\", \"width\": 0.5}}, \"type\": \"barpolar\"}], \"carpet\": [{\"aaxis\": {\"endlinecolor\": \"#2a3f5f\", \"gridcolor\": \"white\", \"linecolor\": \"white\", \"minorgridcolor\": \"white\", \"startlinecolor\": \"#2a3f5f\"}, \"baxis\": {\"endlinecolor\": \"#2a3f5f\", \"gridcolor\": \"white\", \"linecolor\": \"white\", \"minorgridcolor\": \"white\", \"startlinecolor\": \"#2a3f5f\"}, \"type\": \"carpet\"}], \"choropleth\": [{\"colorbar\": {\"outlinewidth\": 0, \"ticks\": \"\"}, \"type\": \"choropleth\"}], \"contour\": [{\"colorbar\": {\"outlinewidth\": 0, \"ticks\": \"\"}, \"colorscale\": [[0.0, \"#0d0887\"], [0.1111111111111111, \"#46039f\"], [0.2222222222222222, \"#7201a8\"], [0.3333333333333333, \"#9c179e\"], [0.4444444444444444, \"#bd3786\"], [0.5555555555555556, \"#d8576b\"], [0.6666666666666666, \"#ed7953\"], [0.7777777777777778, \"#fb9f3a\"], [0.8888888888888888, \"#fdca26\"], [1.0, \"#f0f921\"]], \"type\": \"contour\"}], \"contourcarpet\": [{\"colorbar\": {\"outlinewidth\": 0, \"ticks\": \"\"}, \"type\": \"contourcarpet\"}], \"heatmap\": [{\"colorbar\": {\"outlinewidth\": 0, \"ticks\": \"\"}, \"colorscale\": [[0.0, \"#0d0887\"], [0.1111111111111111, \"#46039f\"], [0.2222222222222222, \"#7201a8\"], [0.3333333333333333, \"#9c179e\"], [0.4444444444444444, \"#bd3786\"], [0.5555555555555556, \"#d8576b\"], [0.6666666666666666, \"#ed7953\"], [0.7777777777777778, \"#fb9f3a\"], [0.8888888888888888, \"#fdca26\"], [1.0, \"#f0f921\"]], \"type\": \"heatmap\"}], \"heatmapgl\": [{\"colorbar\": {\"outlinewidth\": 0, \"ticks\": \"\"}, \"colorscale\": [[0.0, \"#0d0887\"], [0.1111111111111111, \"#46039f\"], [0.2222222222222222, \"#7201a8\"], [0.3333333333333333, \"#9c179e\"], [0.4444444444444444, \"#bd3786\"], [0.5555555555555556, \"#d8576b\"], [0.6666666666666666, \"#ed7953\"], [0.7777777777777778, \"#fb9f3a\"], [0.8888888888888888, \"#fdca26\"], [1.0, \"#f0f921\"]], \"type\": \"heatmapgl\"}], \"histogram\": [{\"marker\": {\"colorbar\": {\"outlinewidth\": 0, \"ticks\": \"\"}}, \"type\": \"histogram\"}], \"histogram2d\": [{\"colorbar\": {\"outlinewidth\": 0, \"ticks\": \"\"}, \"colorscale\": [[0.0, \"#0d0887\"], [0.1111111111111111, \"#46039f\"], [0.2222222222222222, \"#7201a8\"], [0.3333333333333333, \"#9c179e\"], [0.4444444444444444, \"#bd3786\"], [0.5555555555555556, \"#d8576b\"], [0.6666666666666666, \"#ed7953\"], [0.7777777777777778, \"#fb9f3a\"], [0.8888888888888888, \"#fdca26\"], [1.0, \"#f0f921\"]], \"type\": \"histogram2d\"}], \"histogram2dcontour\": [{\"colorbar\": {\"outlinewidth\": 0, \"ticks\": \"\"}, \"colorscale\": [[0.0, \"#0d0887\"], [0.1111111111111111, \"#46039f\"], [0.2222222222222222, \"#7201a8\"], [0.3333333333333333, \"#9c179e\"], [0.4444444444444444, \"#bd3786\"], [0.5555555555555556, \"#d8576b\"], [0.6666666666666666, \"#ed7953\"], [0.7777777777777778, \"#fb9f3a\"], [0.8888888888888888, \"#fdca26\"], [1.0, \"#f0f921\"]], \"type\": \"histogram2dcontour\"}], \"mesh3d\": [{\"colorbar\": {\"outlinewidth\": 0, \"ticks\": \"\"}, \"type\": \"mesh3d\"}], \"parcoords\": [{\"line\": {\"colorbar\": {\"outlinewidth\": 0, \"ticks\": \"\"}}, \"type\": \"parcoords\"}], \"scatter\": [{\"marker\": {\"colorbar\": {\"outlinewidth\": 0, \"ticks\": \"\"}}, \"type\": \"scatter\"}], \"scatter3d\": [{\"line\": {\"colorbar\": {\"outlinewidth\": 0, \"ticks\": \"\"}}, \"marker\": {\"colorbar\": {\"outlinewidth\": 0, \"ticks\": \"\"}}, \"type\": \"scatter3d\"}], \"scattercarpet\": [{\"marker\": {\"colorbar\": {\"outlinewidth\": 0, \"ticks\": \"\"}}, \"type\": \"scattercarpet\"}], \"scattergeo\": [{\"marker\": {\"colorbar\": {\"outlinewidth\": 0, \"ticks\": \"\"}}, \"type\": \"scattergeo\"}], \"scattergl\": [{\"marker\": {\"colorbar\": {\"outlinewidth\": 0, \"ticks\": \"\"}}, \"type\": \"scattergl\"}], \"scattermapbox\": [{\"marker\": {\"colorbar\": {\"outlinewidth\": 0, \"ticks\": \"\"}}, \"type\": \"scattermapbox\"}], \"scatterpolar\": [{\"marker\": {\"colorbar\": {\"outlinewidth\": 0, \"ticks\": \"\"}}, \"type\": \"scatterpolar\"}], \"scatterpolargl\": [{\"marker\": {\"colorbar\": {\"outlinewidth\": 0, \"ticks\": \"\"}}, \"type\": \"scatterpolargl\"}], \"scatterternary\": [{\"marker\": {\"colorbar\": {\"outlinewidth\": 0, \"ticks\": \"\"}}, \"type\": \"scatterternary\"}], \"surface\": [{\"colorbar\": {\"outlinewidth\": 0, \"ticks\": \"\"}, \"colorscale\": [[0.0, \"#0d0887\"], [0.1111111111111111, \"#46039f\"], [0.2222222222222222, \"#7201a8\"], [0.3333333333333333, \"#9c179e\"], [0.4444444444444444, \"#bd3786\"], [0.5555555555555556, \"#d8576b\"], [0.6666666666666666, \"#ed7953\"], [0.7777777777777778, \"#fb9f3a\"], [0.8888888888888888, \"#fdca26\"], [1.0, \"#f0f921\"]], \"type\": \"surface\"}], \"table\": [{\"cells\": {\"fill\": {\"color\": \"#EBF0F8\"}, \"line\": {\"color\": \"white\"}}, \"header\": {\"fill\": {\"color\": \"#C8D4E3\"}, \"line\": {\"color\": \"white\"}}, \"type\": \"table\"}]}, \"layout\": {\"annotationdefaults\": {\"arrowcolor\": \"#2a3f5f\", \"arrowhead\": 0, \"arrowwidth\": 1}, \"colorscale\": {\"diverging\": [[0, \"#8e0152\"], [0.1, \"#c51b7d\"], [0.2, \"#de77ae\"], [0.3, \"#f1b6da\"], [0.4, \"#fde0ef\"], [0.5, \"#f7f7f7\"], [0.6, \"#e6f5d0\"], [0.7, \"#b8e186\"], [0.8, \"#7fbc41\"], [0.9, \"#4d9221\"], [1, \"#276419\"]], \"sequential\": [[0.0, \"#0d0887\"], [0.1111111111111111, \"#46039f\"], [0.2222222222222222, \"#7201a8\"], [0.3333333333333333, \"#9c179e\"], [0.4444444444444444, \"#bd3786\"], [0.5555555555555556, \"#d8576b\"], [0.6666666666666666, \"#ed7953\"], [0.7777777777777778, \"#fb9f3a\"], [0.8888888888888888, \"#fdca26\"], [1.0, \"#f0f921\"]], \"sequentialminus\": [[0.0, \"#0d0887\"], [0.1111111111111111, \"#46039f\"], [0.2222222222222222, \"#7201a8\"], [0.3333333333333333, \"#9c179e\"], [0.4444444444444444, \"#bd3786\"], [0.5555555555555556, \"#d8576b\"], [0.6666666666666666, \"#ed7953\"], [0.7777777777777778, \"#fb9f3a\"], [0.8888888888888888, \"#fdca26\"], [1.0, \"#f0f921\"]]}, \"colorway\": [\"#636efa\", \"#EF553B\", \"#00cc96\", \"#ab63fa\", \"#FFA15A\", \"#19d3f3\", \"#FF6692\", \"#B6E880\", \"#FF97FF\", \"#FECB52\"], \"font\": {\"color\": \"#2a3f5f\"}, \"geo\": {\"bgcolor\": \"white\", \"lakecolor\": \"white\", \"landcolor\": \"#E5ECF6\", \"showlakes\": true, \"showland\": true, \"subunitcolor\": \"white\"}, \"hoverlabel\": {\"align\": \"left\"}, \"hovermode\": \"closest\", \"mapbox\": {\"style\": \"light\"}, \"paper_bgcolor\": \"white\", \"plot_bgcolor\": \"#E5ECF6\", \"polar\": {\"angularaxis\": {\"gridcolor\": \"white\", \"linecolor\": \"white\", \"ticks\": \"\"}, \"bgcolor\": \"#E5ECF6\", \"radialaxis\": {\"gridcolor\": \"white\", \"linecolor\": \"white\", \"ticks\": \"\"}}, \"scene\": {\"xaxis\": {\"backgroundcolor\": \"#E5ECF6\", \"gridcolor\": \"white\", \"gridwidth\": 2, \"linecolor\": \"white\", \"showbackground\": true, \"ticks\": \"\", \"zerolinecolor\": \"white\"}, \"yaxis\": {\"backgroundcolor\": \"#E5ECF6\", \"gridcolor\": \"white\", \"gridwidth\": 2, \"linecolor\": \"white\", \"showbackground\": true, \"ticks\": \"\", \"zerolinecolor\": \"white\"}, \"zaxis\": {\"backgroundcolor\": \"#E5ECF6\", \"gridcolor\": \"white\", \"gridwidth\": 2, \"linecolor\": \"white\", \"showbackground\": true, \"ticks\": \"\", \"zerolinecolor\": \"white\"}}, \"shapedefaults\": {\"line\": {\"color\": \"#2a3f5f\"}}, \"ternary\": {\"aaxis\": {\"gridcolor\": \"white\", \"linecolor\": \"white\", \"ticks\": \"\"}, \"baxis\": {\"gridcolor\": \"white\", \"linecolor\": \"white\", \"ticks\": \"\"}, \"bgcolor\": \"#E5ECF6\", \"caxis\": {\"gridcolor\": \"white\", \"linecolor\": \"white\", \"ticks\": \"\"}}, \"title\": {\"x\": 0.05}, \"xaxis\": {\"automargin\": true, \"gridcolor\": \"white\", \"linecolor\": \"white\", \"ticks\": \"\", \"zerolinecolor\": \"white\", \"zerolinewidth\": 2}, \"yaxis\": {\"automargin\": true, \"gridcolor\": \"white\", \"linecolor\": \"white\", \"ticks\": \"\", \"zerolinecolor\": \"white\", \"zerolinewidth\": 2}}}, \"xaxis\": {\"anchor\": \"y\", \"domain\": [0.0, 0.98], \"title\": {\"text\": \"Year\"}}, \"yaxis\": {\"anchor\": \"x\", \"domain\": [0.0, 1.0], \"title\": {\"text\": \"Value\"}}},\n",
       "                        {\"responsive\": true}\n",
       "                    ).then(function(){\n",
       "                            \n",
       "var gd = document.getElementById('106e62eb-064b-485e-aad2-d45201c3dd12');\n",
       "var x = new MutationObserver(function (mutations, observer) {{\n",
       "        var display = window.getComputedStyle(gd).display;\n",
       "        if (!display || display === 'none') {{\n",
       "            console.log([gd, 'removed!']);\n",
       "            Plotly.purge(gd);\n",
       "            observer.disconnect();\n",
       "        }}\n",
       "}});\n",
       "\n",
       "// Listen for the removal of the full notebook cells\n",
       "var notebookContainer = gd.closest('#notebook-container');\n",
       "if (notebookContainer) {{\n",
       "    x.observe(notebookContainer, {childList: true});\n",
       "}}\n",
       "\n",
       "// Listen for the clearing of the current output cell\n",
       "var outputEl = gd.closest('.output');\n",
       "if (outputEl) {{\n",
       "    x.observe(outputEl, {childList: true});\n",
       "}}\n",
       "\n",
       "                        })\n",
       "                };\n",
       "                });\n",
       "            </script>\n",
       "        </div>"
      ]
     },
     "metadata": {},
     "output_type": "display_data"
    }
   ],
   "source": [
    "px.line(family_df[family_df['Indicator'] == 'Crude marriage rate (marriages per 1000 people)'], x='Year', y='Value', color='Country')"
   ]
  },
  {
   "cell_type": "code",
   "execution_count": 55,
   "metadata": {},
   "outputs": [
    {
     "data": {
      "application/vnd.plotly.v1+json": {
       "config": {
        "plotlyServerURL": "https://plot.ly"
       },
       "data": [
        {
         "hoverlabel": {
          "namelength": 0
         },
         "hovertemplate": "Country=Italy<br>Year=%{x}<br>Value=%{y}",
         "legendgroup": "Country=Italy",
         "line": {
          "color": "#636efa",
          "dash": "solid"
         },
         "mode": "lines",
         "name": "Country=Italy",
         "showlegend": true,
         "type": "scatter",
         "x": [
          1991,
          1993,
          1995,
          1998,
          2000,
          2002,
          2004,
          2006,
          2008,
          2010,
          2012,
          2014,
          2016
         ],
         "xaxis": "x",
         "y": [
          10,
          11.5,
          14.6,
          7.7,
          8.5,
          10.3,
          6.7,
          7.7,
          11.8,
          9.9,
          11.1,
          5.6,
          5.6
         ],
         "yaxis": "y"
        },
        {
         "hoverlabel": {
          "namelength": 0
         },
         "hovertemplate": "Country=Latvia<br>Year=%{x}<br>Value=%{y}",
         "legendgroup": "Country=Latvia",
         "line": {
          "color": "#EF553B",
          "dash": "solid"
         },
         "mode": "lines",
         "name": "Country=Latvia",
         "showlegend": true,
         "type": "scatter",
         "x": [
          2002,
          2006,
          2010,
          2014
         ],
         "xaxis": "x",
         "y": [
          18.9,
          11,
          19.1,
          21.1
         ],
         "yaxis": "y"
        },
        {
         "hoverlabel": {
          "namelength": 0
         },
         "hovertemplate": "Country=Portugal<br>Year=%{x}<br>Value=%{y}",
         "legendgroup": "Country=Portugal",
         "line": {
          "color": "#00cc96",
          "dash": "solid"
         },
         "mode": "lines",
         "name": "Country=Portugal",
         "showlegend": true,
         "type": "scatter",
         "x": [
          2004,
          2005,
          2006,
          2007,
          2008,
          2009,
          2010,
          2011,
          2012,
          2013,
          2014,
          2015,
          2016,
          2017
         ],
         "xaxis": "x",
         "y": [
          13,
          16,
          14.4,
          15.3,
          15.6,
          13.8,
          13.5,
          15.2,
          16.3,
          16.7,
          18.9,
          18.9,
          14.3,
          14.8
         ],
         "yaxis": "y"
        },
        {
         "hoverlabel": {
          "namelength": 0
         },
         "hovertemplate": "Country=Chile<br>Year=%{x}<br>Value=%{y}",
         "legendgroup": "Country=Chile",
         "line": {
          "color": "#ab63fa",
          "dash": "solid"
         },
         "mode": "lines",
         "name": "Country=Chile",
         "showlegend": true,
         "type": "scatter",
         "x": [
          1998,
          2000,
          2003,
          2006,
          2009,
          2011,
          2013,
          2015,
          2017
         ],
         "xaxis": "x",
         "y": [
          14.3,
          6.1,
          1.7,
          5.6,
          9.1,
          16,
          10.7,
          14.3,
          12.5
         ],
         "yaxis": "y"
        },
        {
         "hoverlabel": {
          "namelength": 0
         },
         "hovertemplate": "Country=Ireland<br>Year=%{x}<br>Value=%{y}",
         "legendgroup": "Country=Ireland",
         "line": {
          "color": "#FFA15A",
          "dash": "solid"
         },
         "mode": "lines",
         "name": "Country=Ireland",
         "showlegend": true,
         "type": "scatter",
         "x": [
          1994,
          1997,
          2000,
          2003,
          2004,
          2005,
          2006,
          2007,
          2008,
          2009,
          2010,
          2011,
          2012,
          2013,
          2014,
          2015,
          2016,
          2017
         ],
         "xaxis": "x",
         "y": [
          25.2,
          21.7,
          19.7,
          19.7,
          18.2,
          13.8,
          14.4,
          18,
          15,
          14.9,
          12.8,
          10.4,
          6.3,
          14,
          14.4,
          12.6,
          7.4,
          5.9
         ],
         "yaxis": "y"
        },
        {
         "hoverlabel": {
          "namelength": 0
         },
         "hovertemplate": "Country=Canada<br>Year=%{x}<br>Value=%{y}",
         "legendgroup": "Country=Canada",
         "line": {
          "color": "#19d3f3",
          "dash": "solid"
         },
         "mode": "lines",
         "name": "Country=Canada",
         "showlegend": true,
         "type": "scatter",
         "x": [
          1997,
          1998,
          1999,
          2000,
          2001,
          2002,
          2003,
          2004,
          2005,
          2006,
          2007,
          2008,
          2009,
          2010,
          2011,
          2012,
          2013,
          2014,
          2015,
          2016,
          2017
         ],
         "xaxis": "x",
         "y": [
          24.7,
          24.9,
          24,
          23.9,
          24.3,
          24,
          22.5,
          22.7,
          21.3,
          21.1,
          20.8,
          20.5,
          20.1,
          19,
          19.2,
          19.5,
          19.3,
          19.2,
          18.6,
          18.2,
          18.2
         ],
         "yaxis": "y"
        },
        {
         "hoverlabel": {
          "namelength": 0
         },
         "hovertemplate": "Country=Slovenia<br>Year=%{x}<br>Value=%{y}",
         "legendgroup": "Country=Slovenia",
         "line": {
          "color": "#FF6692",
          "dash": "solid"
         },
         "mode": "lines",
         "name": "Country=Slovenia",
         "showlegend": true,
         "type": "scatter",
         "x": [
          2002,
          2006,
          2010,
          2014
         ],
         "xaxis": "x",
         "y": [
          9.4,
          7.2,
          1,
          5
         ],
         "yaxis": "y"
        },
        {
         "hoverlabel": {
          "namelength": 0
         },
         "hovertemplate": "Country=Israel<br>Year=%{x}<br>Value=%{y}",
         "legendgroup": "Country=Israel",
         "line": {
          "color": "#B6E880",
          "dash": "solid"
         },
         "mode": "lines",
         "name": "Country=Israel",
         "showlegend": true,
         "type": "scatter",
         "x": [
          2001,
          2002,
          2003,
          2004,
          2005,
          2006,
          2007,
          2008,
          2009,
          2010,
          2011,
          2012,
          2013,
          2014,
          2015,
          2016,
          2017
         ],
         "xaxis": "x",
         "y": [
          28,
          24.2,
          25.3,
          25,
          21.9,
          22,
          20.4,
          22.1,
          21.1,
          20.4,
          19.7,
          20,
          20.3,
          20.1,
          20.4,
          21.6,
          21.8
         ],
         "yaxis": "y"
        },
        {
         "hoverlabel": {
          "namelength": 0
         },
         "hovertemplate": "Country=Greece<br>Year=%{x}<br>Value=%{y}",
         "legendgroup": "Country=Greece",
         "line": {
          "color": "#FF97FF",
          "dash": "solid"
         },
         "mode": "lines",
         "name": "Country=Greece",
         "showlegend": true,
         "type": "scatter",
         "x": [
          2004,
          2005,
          2006,
          2007,
          2008,
          2009,
          2010,
          2011,
          2012,
          2013,
          2014,
          2015,
          2016,
          2017
         ],
         "xaxis": "x",
         "y": [
          13.9,
          16.7,
          11.9,
          11.6,
          9.5,
          9.6,
          12.2,
          10.7,
          6.9,
          11.3,
          9.1,
          6.3,
          4.5,
          4.5
         ],
         "yaxis": "y"
        },
        {
         "hoverlabel": {
          "namelength": 0
         },
         "hovertemplate": "Country=Netherlands<br>Year=%{x}<br>Value=%{y}",
         "legendgroup": "Country=Netherlands",
         "line": {
          "color": "#FECB52",
          "dash": "solid"
         },
         "mode": "lines",
         "name": "Country=Netherlands",
         "showlegend": true,
         "type": "scatter",
         "x": [
          2002,
          2006,
          2010,
          2014
         ],
         "xaxis": "x",
         "y": [
          16.1,
          16,
          17.9,
          14.1
         ],
         "yaxis": "y"
        },
        {
         "hoverlabel": {
          "namelength": 0
         },
         "hovertemplate": "Country=Germany<br>Year=%{x}<br>Value=%{y}",
         "legendgroup": "Country=Germany",
         "line": {
          "color": "#636efa",
          "dash": "solid"
         },
         "mode": "lines",
         "name": "Country=Germany",
         "showlegend": true,
         "type": "scatter",
         "x": [
          1992,
          1993,
          1994,
          1995,
          1996,
          1997,
          1998,
          1999,
          2000,
          2001,
          2002,
          2003,
          2004,
          2005,
          2006,
          2007,
          2008,
          2009,
          2010,
          2011,
          2012,
          2013,
          2014,
          2015,
          2016,
          2017
         ],
         "xaxis": "x",
         "y": [
          26.9,
          23,
          20.5,
          19.4,
          20.6,
          21.4,
          20.9,
          20.2,
          19.6,
          19.1,
          19.1,
          19.6,
          21.9,
          16.3,
          18.1,
          16.7,
          16.7,
          16.5,
          16.7,
          16.9,
          15.6,
          14.1,
          17.2,
          15.8,
          15.5,
          16.2
         ],
         "yaxis": "y"
        },
        {
         "hoverlabel": {
          "namelength": 0
         },
         "hovertemplate": "Country=France<br>Year=%{x}<br>Value=%{y}",
         "legendgroup": "Country=France",
         "line": {
          "color": "#EF553B",
          "dash": "solid"
         },
         "mode": "lines",
         "name": "Country=France",
         "showlegend": true,
         "type": "scatter",
         "x": [
          2002,
          2006,
          2010,
          2014
         ],
         "xaxis": "x",
         "y": [
          13.3,
          9.4,
          9.1,
          9.9
         ],
         "yaxis": "y"
        },
        {
         "hoverlabel": {
          "namelength": 0
         },
         "hovertemplate": "Country=Poland<br>Year=%{x}<br>Value=%{y}",
         "legendgroup": "Country=Poland",
         "line": {
          "color": "#00cc96",
          "dash": "solid"
         },
         "mode": "lines",
         "name": "Country=Poland",
         "showlegend": true,
         "type": "scatter",
         "x": [
          1991,
          1992,
          1993,
          1994,
          1995,
          1996,
          1997,
          1998,
          1999,
          2001,
          2002,
          2004,
          2006,
          2008,
          2010,
          2012,
          2014,
          2016
         ],
         "xaxis": "x",
         "y": [
          19.9,
          17,
          19.8,
          18.6,
          19.9,
          20.2,
          18.3,
          18.9,
          17.3,
          14,
          11,
          10.6,
          11.4,
          13,
          7.2,
          10.6,
          11.1,
          9.4
         ],
         "yaxis": "y"
        },
        {
         "hoverlabel": {
          "namelength": 0
         },
         "hovertemplate": "Country=Czech Republic<br>Year=%{x}<br>Value=%{y}",
         "legendgroup": "Country=Czech Republic",
         "line": {
          "color": "#ab63fa",
          "dash": "solid"
         },
         "mode": "lines",
         "name": "Country=Czech Republic",
         "showlegend": true,
         "type": "scatter",
         "x": [
          1996,
          1997,
          1999,
          2001,
          2002,
          2003,
          2004,
          2005,
          2006,
          2007,
          2008,
          2009,
          2010,
          2011,
          2012,
          2013,
          2014,
          2015,
          2016,
          2017,
          2018
         ],
         "xaxis": "x",
         "y": [
          18.3,
          18.4,
          19,
          16.9,
          16,
          15.6,
          16.1,
          15.9,
          15.4,
          16.9,
          17.9,
          15.1,
          15.8,
          16.3,
          15.3,
          15.4,
          16.3,
          16.5,
          16,
          15.6,
          15.1
         ],
         "yaxis": "y"
        },
        {
         "hoverlabel": {
          "namelength": 0
         },
         "hovertemplate": "Country=Mexico<br>Year=%{x}<br>Value=%{y}",
         "legendgroup": "Country=Mexico",
         "line": {
          "color": "#FFA15A",
          "dash": "solid"
         },
         "mode": "lines",
         "name": "Country=Mexico",
         "showlegend": true,
         "type": "scatter",
         "x": [
          2005,
          2006,
          2007,
          2008,
          2009,
          2010,
          2011,
          2012,
          2013,
          2014,
          2015,
          2016,
          2017,
          2018
         ],
         "xaxis": "x",
         "y": [
          16.7,
          18.6,
          12.5,
          22.2,
          16.7,
          11.6,
          10,
          13.6,
          15.4,
          18.3,
          16.7,
          16.5,
          11.1,
          14
         ],
         "yaxis": "y"
        },
        {
         "hoverlabel": {
          "namelength": 0
         },
         "hovertemplate": "Country=Switzerland<br>Year=%{x}<br>Value=%{y}",
         "legendgroup": "Country=Switzerland",
         "line": {
          "color": "#19d3f3",
          "dash": "solid"
         },
         "mode": "lines",
         "name": "Country=Switzerland",
         "showlegend": true,
         "type": "scatter",
         "x": [
          1996,
          1998,
          2000,
          2002,
          2004,
          2006,
          2008,
          2010,
          2012,
          2014,
          2016
         ],
         "xaxis": "x",
         "y": [
          25.5,
          24.1,
          23.8,
          22.8,
          22,
          21.3,
          21.3,
          20.1,
          19.3,
          16.9,
          14.8
         ],
         "yaxis": "y"
        },
        {
         "hoverlabel": {
          "namelength": 0
         },
         "hovertemplate": "Country=Luxembourg<br>Year=%{x}<br>Value=%{y}",
         "legendgroup": "Country=Luxembourg",
         "line": {
          "color": "#FF6692",
          "dash": "solid"
         },
         "mode": "lines",
         "name": "Country=Luxembourg",
         "showlegend": true,
         "type": "scatter",
         "x": [
          2002,
          2006,
          2010,
          2014
         ],
         "xaxis": "x",
         "y": [
          15.1,
          7.7,
          4.6,
          3.4
         ],
         "yaxis": "y"
        },
        {
         "hoverlabel": {
          "namelength": 0
         },
         "hovertemplate": "Country=Turkey<br>Year=%{x}<br>Value=%{y}",
         "legendgroup": "Country=Turkey",
         "line": {
          "color": "#B6E880",
          "dash": "solid"
         },
         "mode": "lines",
         "name": "Country=Turkey",
         "showlegend": true,
         "type": "scatter",
         "x": [
          2006,
          2010,
          2014
         ],
         "xaxis": "x",
         "y": [
          3.2,
          3.1,
          6.9
         ],
         "yaxis": "y"
        },
        {
         "hoverlabel": {
          "namelength": 0
         },
         "hovertemplate": "Country=Finland<br>Year=%{x}<br>Value=%{y}",
         "legendgroup": "Country=Finland",
         "line": {
          "color": "#FF97FF",
          "dash": "solid"
         },
         "mode": "lines",
         "name": "Country=Finland",
         "showlegend": true,
         "type": "scatter",
         "x": [
          1990,
          1991,
          1992,
          1993,
          1994,
          1995,
          1996,
          1997,
          1998,
          1999,
          2000,
          2001,
          2002,
          2003,
          2004,
          2005,
          2006,
          2007,
          2008,
          2009,
          2010,
          2011,
          2012,
          2013,
          2014,
          2015,
          2016,
          2017
         ],
         "xaxis": "x",
         "y": [
          22.9,
          21.5,
          20.3,
          22,
          23.1,
          22.4,
          20.6,
          21.3,
          20.8,
          21.7,
          20.4,
          21.2,
          20.4,
          20.1,
          20,
          18.9,
          19.4,
          21.4,
          21.2,
          19.7,
          18.9,
          18.6,
          18.7,
          20.2,
          19.6,
          18.1,
          16.5,
          17.7
         ],
         "yaxis": "y"
        },
        {
         "hoverlabel": {
          "namelength": 0
         },
         "hovertemplate": "Country=Korea<br>Year=%{x}<br>Value=%{y}",
         "legendgroup": "Country=Korea",
         "line": {
          "color": "#FECB52",
          "dash": "solid"
         },
         "mode": "lines",
         "name": "Country=Korea",
         "showlegend": true,
         "type": "scatter",
         "x": [
          1992,
          1993,
          1994,
          1995,
          1996,
          1997,
          1998,
          1999,
          2000,
          2001,
          2002,
          2003,
          2004,
          2005,
          2006,
          2007,
          2008,
          2009,
          2010,
          2011,
          2012,
          2013,
          2014,
          2015,
          2016,
          2017
         ],
         "xaxis": "x",
         "y": [
          47,
          47.3,
          45.5,
          44.2,
          43.3,
          42.2,
          42,
          41.8,
          41.7,
          40.4,
          41,
          40.1,
          39.6,
          39.6,
          39.8,
          38.2,
          39,
          38.6,
          39.6,
          36.6,
          36.3,
          36.6,
          36.7,
          37.2,
          36.7,
          34.6
         ],
         "yaxis": "y"
        },
        {
         "hoverlabel": {
          "namelength": 0
         },
         "hovertemplate": "Country=New Zealand<br>Year=%{x}<br>Value=%{y}",
         "legendgroup": "Country=New Zealand",
         "line": {
          "color": "#636efa",
          "dash": "solid"
         },
         "mode": "lines",
         "name": "Country=New Zealand",
         "showlegend": true,
         "type": "scatter",
         "x": [
          1990,
          1992,
          1994,
          1995,
          1996,
          1997,
          1998,
          1999,
          2000,
          2001,
          2002,
          2003,
          2004,
          2005,
          2006,
          2007,
          2008,
          2009,
          2010,
          2011,
          2012,
          2013,
          2014,
          2015,
          2016,
          2017,
          2018
         ],
         "xaxis": "x",
         "y": [
          17.1,
          15.6,
          13.3,
          13.7,
          20.4,
          12.7,
          11.4,
          8.3,
          7.2,
          8.1,
          7.3,
          7.7,
          8.1,
          9.6,
          9.3,
          7.1,
          8.1,
          8.8,
          7,
          4.5,
          5.9,
          6.6,
          6.1,
          7.9,
          7.8,
          7.2,
          7.9
         ],
         "yaxis": "y"
        },
        {
         "hoverlabel": {
          "namelength": 0
         },
         "hovertemplate": "Country=United States<br>Year=%{x}<br>Value=%{y}",
         "legendgroup": "Country=United States",
         "line": {
          "color": "#EF553B",
          "dash": "solid"
         },
         "mode": "lines",
         "name": "Country=United States",
         "showlegend": true,
         "type": "scatter",
         "x": [
          1990,
          1991,
          1992,
          1993,
          1994,
          1995,
          1996,
          1997,
          1998,
          1999,
          2000,
          2001,
          2002,
          2003,
          2004,
          2005,
          2006,
          2007,
          2008,
          2009,
          2010,
          2011,
          2012,
          2013,
          2014,
          2015,
          2016,
          2017
         ],
         "xaxis": "x",
         "y": [
          28.5,
          26.6,
          25.1,
          23.9,
          23.9,
          24.6,
          23.8,
          23.8,
          23.7,
          23.5,
          23.1,
          23.6,
          22.1,
          20.6,
          19.6,
          19,
          19.2,
          19.8,
          20.1,
          19.8,
          18.8,
          17.8,
          19.1,
          17.9,
          17.5,
          18.9,
          18.1,
          18.2
         ],
         "yaxis": "y"
        },
        {
         "hoverlabel": {
          "namelength": 0
         },
         "hovertemplate": "Country=United Kingdom<br>Year=%{x}<br>Value=%{y}",
         "legendgroup": "Country=United Kingdom",
         "line": {
          "color": "#00cc96",
          "dash": "solid"
         },
         "mode": "lines",
         "name": "Country=United Kingdom",
         "showlegend": true,
         "type": "scatter",
         "x": [
          1990,
          1991,
          1992,
          1993,
          1994,
          1995,
          1996,
          1997,
          1998,
          1999,
          2000,
          2001,
          2002,
          2003,
          2004,
          2005,
          2006,
          2007,
          2008,
          2009,
          2010,
          2011,
          2012,
          2013,
          2014,
          2015,
          2016,
          2017,
          2018
         ],
         "xaxis": "x",
         "y": [
          32.7,
          31.1,
          29.9,
          28.7,
          28.1,
          28.2,
          27.2,
          26.9,
          27,
          26.1,
          26.3,
          25.6,
          24.4,
          24.1,
          23.4,
          22.1,
          21.7,
          21.6,
          21.9,
          20.7,
          19.2,
          18.2,
          17.8,
          17.5,
          17.4,
          17.1,
          16.8,
          16.5,
          16.4
         ],
         "yaxis": "y"
        },
        {
         "hoverlabel": {
          "namelength": 0
         },
         "hovertemplate": "Country=Sweden<br>Year=%{x}<br>Value=%{y}",
         "legendgroup": "Country=Sweden",
         "line": {
          "color": "#ab63fa",
          "dash": "solid"
         },
         "mode": "lines",
         "name": "Country=Sweden",
         "showlegend": true,
         "type": "scatter",
         "x": [
          1995,
          1996,
          1997,
          1998,
          1999,
          2000,
          2001,
          2002,
          2003,
          2004,
          2005,
          2006,
          2007,
          2008,
          2009,
          2010,
          2011,
          2012,
          2013,
          2014,
          2015,
          2016,
          2017
         ],
         "xaxis": "x",
         "y": [
          9.7,
          11.5,
          11.6,
          12.8,
          11.8,
          12.4,
          12.4,
          11.9,
          11.5,
          10.8,
          11.3,
          11,
          11.8,
          10.6,
          9.5,
          9.4,
          9.2,
          9.3,
          9.4,
          9.2,
          8.3,
          8.2,
          7.3
         ],
         "yaxis": "y"
        },
        {
         "hoverlabel": {
          "namelength": 0
         },
         "hovertemplate": "Country=Spain<br>Year=%{x}<br>Value=%{y}",
         "legendgroup": "Country=Spain",
         "line": {
          "color": "#FFA15A",
          "dash": "solid"
         },
         "mode": "lines",
         "name": "Country=Spain",
         "showlegend": true,
         "type": "scatter",
         "x": [
          2002,
          2006,
          2010,
          2014
         ],
         "xaxis": "x",
         "y": [
          17.2,
          13.5,
          13.5,
          11.5
         ],
         "yaxis": "y"
        },
        {
         "hoverlabel": {
          "namelength": 0
         },
         "hovertemplate": "Country=Belgium<br>Year=%{x}<br>Value=%{y}",
         "legendgroup": "Country=Belgium",
         "line": {
          "color": "#19d3f3",
          "dash": "solid"
         },
         "mode": "lines",
         "name": "Country=Belgium",
         "showlegend": true,
         "type": "scatter",
         "x": [
          1999,
          2000,
          2001,
          2002,
          2003,
          2004,
          2005,
          2006,
          2007,
          2008,
          2009,
          2010,
          2011,
          2012,
          2013,
          2014,
          2015,
          2016
         ],
         "xaxis": "x",
         "y": [
          15.2,
          13.6,
          13.2,
          11.6,
          15.2,
          11.8,
          11.5,
          10.3,
          9.9,
          8.9,
          7.5,
          7,
          5.8,
          6.4,
          5.9,
          3.3,
          4.7,
          3.7
         ],
         "yaxis": "y"
        },
        {
         "hoverlabel": {
          "namelength": 0
         },
         "hovertemplate": "Country=Japan<br>Year=%{x}<br>Value=%{y}",
         "legendgroup": "Country=Japan",
         "line": {
          "color": "#FF6692",
          "dash": "solid"
         },
         "mode": "lines",
         "name": "Country=Japan",
         "showlegend": true,
         "type": "scatter",
         "x": [
          1990,
          1991,
          1992,
          1993,
          1994,
          1995,
          1996,
          1997,
          1998,
          1999,
          2000,
          2001,
          2002,
          2003,
          2004,
          2005,
          2006,
          2007,
          2008,
          2009,
          2010,
          2011,
          2012,
          2013,
          2014,
          2015,
          2016,
          2017
         ],
         "xaxis": "x",
         "y": [
          40.6,
          39.9,
          38.9,
          38.5,
          37.8,
          37.1,
          36.8,
          36.5,
          35.3,
          34.6,
          33.9,
          33.9,
          32.5,
          32,
          31.1,
          32.8,
          33,
          31.7,
          30.7,
          28.3,
          28.7,
          27.4,
          26.5,
          26.6,
          25.9,
          25.7,
          24.6,
          24.5
         ],
         "yaxis": "y"
        },
        {
         "hoverlabel": {
          "namelength": 0
         },
         "hovertemplate": "Country=Estonia<br>Year=%{x}<br>Value=%{y}",
         "legendgroup": "Country=Estonia",
         "line": {
          "color": "#B6E880",
          "dash": "solid"
         },
         "mode": "lines",
         "name": "Country=Estonia",
         "showlegend": true,
         "type": "scatter",
         "x": [
          2002,
          2006,
          2010,
          2014
         ],
         "xaxis": "x",
         "y": [
          25,
          29.7,
          27.8,
          28.3
         ],
         "yaxis": "y"
        },
        {
         "hoverlabel": {
          "namelength": 0
         },
         "hovertemplate": "Country=Slovak Republic<br>Year=%{x}<br>Value=%{y}",
         "legendgroup": "Country=Slovak Republic",
         "line": {
          "color": "#FF97FF",
          "dash": "solid"
         },
         "mode": "lines",
         "name": "Country=Slovak Republic",
         "showlegend": true,
         "type": "scatter",
         "x": [
          2002,
          2003,
          2004,
          2005,
          2006,
          2007,
          2008,
          2009,
          2010,
          2011,
          2012,
          2013,
          2014,
          2015,
          2016,
          2017
         ],
         "xaxis": "x",
         "y": [
          20.4,
          20.7,
          20.9,
          20.1,
          17.8,
          17.5,
          16.4,
          16.4,
          14.9,
          15.4,
          16,
          14.1,
          14.4,
          13.4,
          13.9,
          15
         ],
         "yaxis": "y"
        },
        {
         "hoverlabel": {
          "namelength": 0
         },
         "hovertemplate": "Country=Denmark<br>Year=%{x}<br>Value=%{y}",
         "legendgroup": "Country=Denmark",
         "line": {
          "color": "#FECB52",
          "dash": "solid"
         },
         "mode": "lines",
         "name": "Country=Denmark",
         "showlegend": true,
         "type": "scatter",
         "x": [
          2002,
          2003,
          2004,
          2005,
          2006,
          2007,
          2008,
          2009,
          2010,
          2011,
          2012,
          2013,
          2014,
          2015,
          2016,
          2017
         ],
         "xaxis": "x",
         "y": [
          10.8,
          9.9,
          10.2,
          10.2,
          10.2,
          9.9,
          10.2,
          10.2,
          8.9,
          7.9,
          7,
          6.8,
          6.3,
          5.8,
          5.7,
          5.3
         ],
         "yaxis": "y"
        },
        {
         "hoverlabel": {
          "namelength": 0
         },
         "hovertemplate": "Country=Iceland<br>Year=%{x}<br>Value=%{y}",
         "legendgroup": "Country=Iceland",
         "line": {
          "color": "#636efa",
          "dash": "solid"
         },
         "mode": "lines",
         "name": "Country=Iceland",
         "showlegend": true,
         "type": "scatter",
         "x": [
          2004,
          2005,
          2006,
          2007,
          2008,
          2009,
          2010,
          2011,
          2013,
          2014,
          2015,
          2016
         ],
         "xaxis": "x",
         "y": [
          19.2,
          13.2,
          12.4,
          15.9,
          13.3,
          16,
          14.3,
          14.1,
          14.5,
          13.6,
          9.9,
          11.5
         ],
         "yaxis": "y"
        },
        {
         "hoverlabel": {
          "namelength": 0
         },
         "hovertemplate": "Country=Norway<br>Year=%{x}<br>Value=%{y}",
         "legendgroup": "Country=Norway",
         "line": {
          "color": "#EF553B",
          "dash": "solid"
         },
         "mode": "lines",
         "name": "Country=Norway",
         "showlegend": true,
         "type": "scatter",
         "x": [
          1997,
          1998,
          1999,
          2000,
          2001,
          2002,
          2003,
          2004,
          2005,
          2006,
          2007,
          2008,
          2009,
          2010,
          2011,
          2012,
          2013,
          2014,
          2015
         ],
         "xaxis": "x",
         "y": [
          10.1,
          10.1,
          10.1,
          10.2,
          10.7,
          10.7,
          10.2,
          9.7,
          9.4,
          9.2,
          9.8,
          9.2,
          8.7,
          8.1,
          7.8,
          6.4,
          7,
          6.3,
          7.1
         ],
         "yaxis": "y"
        },
        {
         "hoverlabel": {
          "namelength": 0
         },
         "hovertemplate": "Country=Austria<br>Year=%{x}<br>Value=%{y}",
         "legendgroup": "Country=Austria",
         "line": {
          "color": "#00cc96",
          "dash": "solid"
         },
         "mode": "lines",
         "name": "Country=Austria",
         "showlegend": true,
         "type": "scatter",
         "x": [
          2000,
          2001,
          2002,
          2003,
          2004,
          2005,
          2006,
          2007,
          2008,
          2009,
          2010,
          2011,
          2012,
          2013,
          2014,
          2015,
          2016,
          2017
         ],
         "xaxis": "x",
         "y": [
          23.1,
          22.8,
          24.5,
          21.1,
          22.4,
          22,
          21.9,
          21.6,
          20.9,
          19.4,
          19.2,
          18.6,
          18.2,
          18.1,
          17.7,
          17,
          15.7,
          15.4
         ],
         "yaxis": "y"
        },
        {
         "hoverlabel": {
          "namelength": 0
         },
         "hovertemplate": "Country=Hungary<br>Year=%{x}<br>Value=%{y}",
         "legendgroup": "Country=Hungary",
         "line": {
          "color": "#ab63fa",
          "dash": "solid"
         },
         "mode": "lines",
         "name": "Country=Hungary",
         "showlegend": true,
         "type": "scatter",
         "x": [
          1992,
          1993,
          1994,
          1995,
          1996,
          1998,
          1999,
          2000,
          2001,
          2002,
          2003,
          2004,
          2005,
          2006,
          2007,
          2008,
          2009,
          2010,
          2011,
          2012,
          2013,
          2014,
          2015,
          2016
         ],
         "xaxis": "x",
         "y": [
          17.4,
          7.9,
          15.2,
          15.8,
          17.8,
          15.7,
          15.3,
          14.1,
          13.7,
          9.1,
          1.5,
          3,
          4,
          0.4,
          3.6,
          2.2,
          3.9,
          6.4,
          6.9,
          11.3,
          8.7,
          3.8,
          9.5,
          9.4
         ],
         "yaxis": "y"
        },
        {
         "hoverlabel": {
          "namelength": 0
         },
         "hovertemplate": "Country=Australia<br>Year=%{x}<br>Value=%{y}",
         "legendgroup": "Country=Australia",
         "line": {
          "color": "#FFA15A",
          "dash": "solid"
         },
         "mode": "lines",
         "name": "Country=Australia",
         "showlegend": true,
         "type": "scatter",
         "x": [
          1990,
          1991,
          1992,
          1993,
          1994,
          1995,
          1997,
          1998,
          1999,
          2000,
          2001,
          2002,
          2003,
          2004,
          2005,
          2006,
          2007,
          2008,
          2009,
          2010,
          2011,
          2012,
          2013,
          2014,
          2015,
          2016,
          2017,
          2018
         ],
         "xaxis": "x",
         "y": [
          18.2,
          16,
          14.3,
          13.2,
          14.4,
          14.5,
          15.3,
          13.2,
          14.3,
          17.2,
          14.3,
          15,
          13,
          14.4,
          15.8,
          16.7,
          15.4,
          11.9,
          16.4,
          14,
          16,
          13.8,
          18,
          15.4,
          13,
          11.5,
          11.7,
          11.7
         ],
         "yaxis": "y"
        },
        {
         "hoverlabel": {
          "namelength": 0
         },
         "hovertemplate": "Country=Lithuania<br>Year=%{x}<br>Value=%{y}",
         "legendgroup": "Country=Lithuania",
         "line": {
          "color": "#19d3f3",
          "dash": "solid"
         },
         "mode": "lines",
         "name": "Country=Lithuania",
         "showlegend": true,
         "type": "scatter",
         "x": [
          2002,
          2006,
          2010,
          2014
         ],
         "xaxis": "x",
         "y": [
          14.6,
          16,
          10.6,
          12.5
         ],
         "yaxis": "y"
        },
        {
         "hoverlabel": {
          "namelength": 0
         },
         "hovertemplate": "Country=Colombia<br>Year=%{x}<br>Value=%{y}",
         "legendgroup": "Country=Colombia",
         "line": {
          "color": "#FF6692",
          "dash": "solid"
         },
         "mode": "lines",
         "name": "Country=Colombia",
         "showlegend": true,
         "type": "scatter",
         "x": [
          2007,
          2008,
          2009,
          2010,
          2011,
          2012,
          2013,
          2014,
          2015,
          2016,
          2017,
          2018
         ],
         "xaxis": "x",
         "y": [
          1.3,
          1.7,
          3.4,
          6.4,
          3.5,
          8.2,
          7.1,
          9.6,
          11.1,
          7.1,
          7.7,
          5.8
         ],
         "yaxis": "y"
        },
        {
         "hoverlabel": {
          "namelength": 0
         },
         "hovertemplate": "Country=Costa Rica<br>Year=%{x}<br>Value=%{y}",
         "legendgroup": "Country=Costa Rica",
         "line": {
          "color": "#B6E880",
          "dash": "solid"
         },
         "mode": "lines",
         "name": "Country=Costa Rica",
         "showlegend": true,
         "type": "scatter",
         "x": [
          2010,
          2011,
          2012,
          2013,
          2014,
          2015,
          2016,
          2017,
          2018
         ],
         "xaxis": "x",
         "y": [
          0,
          4.6,
          0.6,
          0,
          5.1,
          3.7,
          1.8,
          3,
          4.7
         ],
         "yaxis": "y"
        }
       ],
       "layout": {
        "height": 600,
        "legend": {
         "tracegroupgap": 0
        },
        "margin": {
         "t": 60
        },
        "template": {
         "data": {
          "bar": [
           {
            "error_x": {
             "color": "#2a3f5f"
            },
            "error_y": {
             "color": "#2a3f5f"
            },
            "marker": {
             "line": {
              "color": "#E5ECF6",
              "width": 0.5
             }
            },
            "type": "bar"
           }
          ],
          "barpolar": [
           {
            "marker": {
             "line": {
              "color": "#E5ECF6",
              "width": 0.5
             }
            },
            "type": "barpolar"
           }
          ],
          "carpet": [
           {
            "aaxis": {
             "endlinecolor": "#2a3f5f",
             "gridcolor": "white",
             "linecolor": "white",
             "minorgridcolor": "white",
             "startlinecolor": "#2a3f5f"
            },
            "baxis": {
             "endlinecolor": "#2a3f5f",
             "gridcolor": "white",
             "linecolor": "white",
             "minorgridcolor": "white",
             "startlinecolor": "#2a3f5f"
            },
            "type": "carpet"
           }
          ],
          "choropleth": [
           {
            "colorbar": {
             "outlinewidth": 0,
             "ticks": ""
            },
            "type": "choropleth"
           }
          ],
          "contour": [
           {
            "colorbar": {
             "outlinewidth": 0,
             "ticks": ""
            },
            "colorscale": [
             [
              0,
              "#0d0887"
             ],
             [
              0.1111111111111111,
              "#46039f"
             ],
             [
              0.2222222222222222,
              "#7201a8"
             ],
             [
              0.3333333333333333,
              "#9c179e"
             ],
             [
              0.4444444444444444,
              "#bd3786"
             ],
             [
              0.5555555555555556,
              "#d8576b"
             ],
             [
              0.6666666666666666,
              "#ed7953"
             ],
             [
              0.7777777777777778,
              "#fb9f3a"
             ],
             [
              0.8888888888888888,
              "#fdca26"
             ],
             [
              1,
              "#f0f921"
             ]
            ],
            "type": "contour"
           }
          ],
          "contourcarpet": [
           {
            "colorbar": {
             "outlinewidth": 0,
             "ticks": ""
            },
            "type": "contourcarpet"
           }
          ],
          "heatmap": [
           {
            "colorbar": {
             "outlinewidth": 0,
             "ticks": ""
            },
            "colorscale": [
             [
              0,
              "#0d0887"
             ],
             [
              0.1111111111111111,
              "#46039f"
             ],
             [
              0.2222222222222222,
              "#7201a8"
             ],
             [
              0.3333333333333333,
              "#9c179e"
             ],
             [
              0.4444444444444444,
              "#bd3786"
             ],
             [
              0.5555555555555556,
              "#d8576b"
             ],
             [
              0.6666666666666666,
              "#ed7953"
             ],
             [
              0.7777777777777778,
              "#fb9f3a"
             ],
             [
              0.8888888888888888,
              "#fdca26"
             ],
             [
              1,
              "#f0f921"
             ]
            ],
            "type": "heatmap"
           }
          ],
          "heatmapgl": [
           {
            "colorbar": {
             "outlinewidth": 0,
             "ticks": ""
            },
            "colorscale": [
             [
              0,
              "#0d0887"
             ],
             [
              0.1111111111111111,
              "#46039f"
             ],
             [
              0.2222222222222222,
              "#7201a8"
             ],
             [
              0.3333333333333333,
              "#9c179e"
             ],
             [
              0.4444444444444444,
              "#bd3786"
             ],
             [
              0.5555555555555556,
              "#d8576b"
             ],
             [
              0.6666666666666666,
              "#ed7953"
             ],
             [
              0.7777777777777778,
              "#fb9f3a"
             ],
             [
              0.8888888888888888,
              "#fdca26"
             ],
             [
              1,
              "#f0f921"
             ]
            ],
            "type": "heatmapgl"
           }
          ],
          "histogram": [
           {
            "marker": {
             "colorbar": {
              "outlinewidth": 0,
              "ticks": ""
             }
            },
            "type": "histogram"
           }
          ],
          "histogram2d": [
           {
            "colorbar": {
             "outlinewidth": 0,
             "ticks": ""
            },
            "colorscale": [
             [
              0,
              "#0d0887"
             ],
             [
              0.1111111111111111,
              "#46039f"
             ],
             [
              0.2222222222222222,
              "#7201a8"
             ],
             [
              0.3333333333333333,
              "#9c179e"
             ],
             [
              0.4444444444444444,
              "#bd3786"
             ],
             [
              0.5555555555555556,
              "#d8576b"
             ],
             [
              0.6666666666666666,
              "#ed7953"
             ],
             [
              0.7777777777777778,
              "#fb9f3a"
             ],
             [
              0.8888888888888888,
              "#fdca26"
             ],
             [
              1,
              "#f0f921"
             ]
            ],
            "type": "histogram2d"
           }
          ],
          "histogram2dcontour": [
           {
            "colorbar": {
             "outlinewidth": 0,
             "ticks": ""
            },
            "colorscale": [
             [
              0,
              "#0d0887"
             ],
             [
              0.1111111111111111,
              "#46039f"
             ],
             [
              0.2222222222222222,
              "#7201a8"
             ],
             [
              0.3333333333333333,
              "#9c179e"
             ],
             [
              0.4444444444444444,
              "#bd3786"
             ],
             [
              0.5555555555555556,
              "#d8576b"
             ],
             [
              0.6666666666666666,
              "#ed7953"
             ],
             [
              0.7777777777777778,
              "#fb9f3a"
             ],
             [
              0.8888888888888888,
              "#fdca26"
             ],
             [
              1,
              "#f0f921"
             ]
            ],
            "type": "histogram2dcontour"
           }
          ],
          "mesh3d": [
           {
            "colorbar": {
             "outlinewidth": 0,
             "ticks": ""
            },
            "type": "mesh3d"
           }
          ],
          "parcoords": [
           {
            "line": {
             "colorbar": {
              "outlinewidth": 0,
              "ticks": ""
             }
            },
            "type": "parcoords"
           }
          ],
          "scatter": [
           {
            "marker": {
             "colorbar": {
              "outlinewidth": 0,
              "ticks": ""
             }
            },
            "type": "scatter"
           }
          ],
          "scatter3d": [
           {
            "line": {
             "colorbar": {
              "outlinewidth": 0,
              "ticks": ""
             }
            },
            "marker": {
             "colorbar": {
              "outlinewidth": 0,
              "ticks": ""
             }
            },
            "type": "scatter3d"
           }
          ],
          "scattercarpet": [
           {
            "marker": {
             "colorbar": {
              "outlinewidth": 0,
              "ticks": ""
             }
            },
            "type": "scattercarpet"
           }
          ],
          "scattergeo": [
           {
            "marker": {
             "colorbar": {
              "outlinewidth": 0,
              "ticks": ""
             }
            },
            "type": "scattergeo"
           }
          ],
          "scattergl": [
           {
            "marker": {
             "colorbar": {
              "outlinewidth": 0,
              "ticks": ""
             }
            },
            "type": "scattergl"
           }
          ],
          "scattermapbox": [
           {
            "marker": {
             "colorbar": {
              "outlinewidth": 0,
              "ticks": ""
             }
            },
            "type": "scattermapbox"
           }
          ],
          "scatterpolar": [
           {
            "marker": {
             "colorbar": {
              "outlinewidth": 0,
              "ticks": ""
             }
            },
            "type": "scatterpolar"
           }
          ],
          "scatterpolargl": [
           {
            "marker": {
             "colorbar": {
              "outlinewidth": 0,
              "ticks": ""
             }
            },
            "type": "scatterpolargl"
           }
          ],
          "scatterternary": [
           {
            "marker": {
             "colorbar": {
              "outlinewidth": 0,
              "ticks": ""
             }
            },
            "type": "scatterternary"
           }
          ],
          "surface": [
           {
            "colorbar": {
             "outlinewidth": 0,
             "ticks": ""
            },
            "colorscale": [
             [
              0,
              "#0d0887"
             ],
             [
              0.1111111111111111,
              "#46039f"
             ],
             [
              0.2222222222222222,
              "#7201a8"
             ],
             [
              0.3333333333333333,
              "#9c179e"
             ],
             [
              0.4444444444444444,
              "#bd3786"
             ],
             [
              0.5555555555555556,
              "#d8576b"
             ],
             [
              0.6666666666666666,
              "#ed7953"
             ],
             [
              0.7777777777777778,
              "#fb9f3a"
             ],
             [
              0.8888888888888888,
              "#fdca26"
             ],
             [
              1,
              "#f0f921"
             ]
            ],
            "type": "surface"
           }
          ],
          "table": [
           {
            "cells": {
             "fill": {
              "color": "#EBF0F8"
             },
             "line": {
              "color": "white"
             }
            },
            "header": {
             "fill": {
              "color": "#C8D4E3"
             },
             "line": {
              "color": "white"
             }
            },
            "type": "table"
           }
          ]
         },
         "layout": {
          "annotationdefaults": {
           "arrowcolor": "#2a3f5f",
           "arrowhead": 0,
           "arrowwidth": 1
          },
          "colorscale": {
           "diverging": [
            [
             0,
             "#8e0152"
            ],
            [
             0.1,
             "#c51b7d"
            ],
            [
             0.2,
             "#de77ae"
            ],
            [
             0.3,
             "#f1b6da"
            ],
            [
             0.4,
             "#fde0ef"
            ],
            [
             0.5,
             "#f7f7f7"
            ],
            [
             0.6,
             "#e6f5d0"
            ],
            [
             0.7,
             "#b8e186"
            ],
            [
             0.8,
             "#7fbc41"
            ],
            [
             0.9,
             "#4d9221"
            ],
            [
             1,
             "#276419"
            ]
           ],
           "sequential": [
            [
             0,
             "#0d0887"
            ],
            [
             0.1111111111111111,
             "#46039f"
            ],
            [
             0.2222222222222222,
             "#7201a8"
            ],
            [
             0.3333333333333333,
             "#9c179e"
            ],
            [
             0.4444444444444444,
             "#bd3786"
            ],
            [
             0.5555555555555556,
             "#d8576b"
            ],
            [
             0.6666666666666666,
             "#ed7953"
            ],
            [
             0.7777777777777778,
             "#fb9f3a"
            ],
            [
             0.8888888888888888,
             "#fdca26"
            ],
            [
             1,
             "#f0f921"
            ]
           ],
           "sequentialminus": [
            [
             0,
             "#0d0887"
            ],
            [
             0.1111111111111111,
             "#46039f"
            ],
            [
             0.2222222222222222,
             "#7201a8"
            ],
            [
             0.3333333333333333,
             "#9c179e"
            ],
            [
             0.4444444444444444,
             "#bd3786"
            ],
            [
             0.5555555555555556,
             "#d8576b"
            ],
            [
             0.6666666666666666,
             "#ed7953"
            ],
            [
             0.7777777777777778,
             "#fb9f3a"
            ],
            [
             0.8888888888888888,
             "#fdca26"
            ],
            [
             1,
             "#f0f921"
            ]
           ]
          },
          "colorway": [
           "#636efa",
           "#EF553B",
           "#00cc96",
           "#ab63fa",
           "#FFA15A",
           "#19d3f3",
           "#FF6692",
           "#B6E880",
           "#FF97FF",
           "#FECB52"
          ],
          "font": {
           "color": "#2a3f5f"
          },
          "geo": {
           "bgcolor": "white",
           "lakecolor": "white",
           "landcolor": "#E5ECF6",
           "showlakes": true,
           "showland": true,
           "subunitcolor": "white"
          },
          "hoverlabel": {
           "align": "left"
          },
          "hovermode": "closest",
          "mapbox": {
           "style": "light"
          },
          "paper_bgcolor": "white",
          "plot_bgcolor": "#E5ECF6",
          "polar": {
           "angularaxis": {
            "gridcolor": "white",
            "linecolor": "white",
            "ticks": ""
           },
           "bgcolor": "#E5ECF6",
           "radialaxis": {
            "gridcolor": "white",
            "linecolor": "white",
            "ticks": ""
           }
          },
          "scene": {
           "xaxis": {
            "backgroundcolor": "#E5ECF6",
            "gridcolor": "white",
            "gridwidth": 2,
            "linecolor": "white",
            "showbackground": true,
            "ticks": "",
            "zerolinecolor": "white"
           },
           "yaxis": {
            "backgroundcolor": "#E5ECF6",
            "gridcolor": "white",
            "gridwidth": 2,
            "linecolor": "white",
            "showbackground": true,
            "ticks": "",
            "zerolinecolor": "white"
           },
           "zaxis": {
            "backgroundcolor": "#E5ECF6",
            "gridcolor": "white",
            "gridwidth": 2,
            "linecolor": "white",
            "showbackground": true,
            "ticks": "",
            "zerolinecolor": "white"
           }
          },
          "shapedefaults": {
           "line": {
            "color": "#2a3f5f"
           }
          },
          "ternary": {
           "aaxis": {
            "gridcolor": "white",
            "linecolor": "white",
            "ticks": ""
           },
           "baxis": {
            "gridcolor": "white",
            "linecolor": "white",
            "ticks": ""
           },
           "bgcolor": "#E5ECF6",
           "caxis": {
            "gridcolor": "white",
            "linecolor": "white",
            "ticks": ""
           }
          },
          "title": {
           "x": 0.05
          },
          "xaxis": {
           "automargin": true,
           "gridcolor": "white",
           "linecolor": "white",
           "ticks": "",
           "zerolinecolor": "white",
           "zerolinewidth": 2
          },
          "yaxis": {
           "automargin": true,
           "gridcolor": "white",
           "linecolor": "white",
           "ticks": "",
           "zerolinecolor": "white",
           "zerolinewidth": 2
          }
         }
        },
        "xaxis": {
         "anchor": "y",
         "domain": [
          0,
          0.98
         ],
         "title": {
          "text": "Year"
         }
        },
        "yaxis": {
         "anchor": "x",
         "domain": [
          0,
          1
         ],
         "title": {
          "text": "Value"
         }
        }
       }
      },
      "text/html": [
       "<div>\n",
       "        \n",
       "        \n",
       "            <div id=\"2428ec4f-b4e3-44d4-8de8-d9683d06629d\" class=\"plotly-graph-div\" style=\"height:600px; width:100%;\"></div>\n",
       "            <script type=\"text/javascript\">\n",
       "                require([\"plotly\"], function(Plotly) {\n",
       "                    window.PLOTLYENV=window.PLOTLYENV || {};\n",
       "                    \n",
       "                if (document.getElementById(\"2428ec4f-b4e3-44d4-8de8-d9683d06629d\")) {\n",
       "                    Plotly.newPlot(\n",
       "                        '2428ec4f-b4e3-44d4-8de8-d9683d06629d',\n",
       "                        [{\"hoverlabel\": {\"namelength\": 0}, \"hovertemplate\": \"Country=Italy<br>Year=%{x}<br>Value=%{y}\", \"legendgroup\": \"Country=Italy\", \"line\": {\"color\": \"#636efa\", \"dash\": \"solid\"}, \"mode\": \"lines\", \"name\": \"Country=Italy\", \"showlegend\": true, \"type\": \"scatter\", \"x\": [1991, 1993, 1995, 1998, 2000, 2002, 2004, 2006, 2008, 2010, 2012, 2014, 2016], \"xaxis\": \"x\", \"y\": [10.0, 11.5, 14.6, 7.7, 8.5, 10.3, 6.7, 7.7, 11.8, 9.9, 11.1, 5.6, 5.6], \"yaxis\": \"y\"}, {\"hoverlabel\": {\"namelength\": 0}, \"hovertemplate\": \"Country=Latvia<br>Year=%{x}<br>Value=%{y}\", \"legendgroup\": \"Country=Latvia\", \"line\": {\"color\": \"#EF553B\", \"dash\": \"solid\"}, \"mode\": \"lines\", \"name\": \"Country=Latvia\", \"showlegend\": true, \"type\": \"scatter\", \"x\": [2002, 2006, 2010, 2014], \"xaxis\": \"x\", \"y\": [18.9, 11.0, 19.1, 21.1], \"yaxis\": \"y\"}, {\"hoverlabel\": {\"namelength\": 0}, \"hovertemplate\": \"Country=Portugal<br>Year=%{x}<br>Value=%{y}\", \"legendgroup\": \"Country=Portugal\", \"line\": {\"color\": \"#00cc96\", \"dash\": \"solid\"}, \"mode\": \"lines\", \"name\": \"Country=Portugal\", \"showlegend\": true, \"type\": \"scatter\", \"x\": [2004, 2005, 2006, 2007, 2008, 2009, 2010, 2011, 2012, 2013, 2014, 2015, 2016, 2017], \"xaxis\": \"x\", \"y\": [13.0, 16.0, 14.4, 15.3, 15.6, 13.8, 13.5, 15.2, 16.3, 16.7, 18.9, 18.9, 14.3, 14.8], \"yaxis\": \"y\"}, {\"hoverlabel\": {\"namelength\": 0}, \"hovertemplate\": \"Country=Chile<br>Year=%{x}<br>Value=%{y}\", \"legendgroup\": \"Country=Chile\", \"line\": {\"color\": \"#ab63fa\", \"dash\": \"solid\"}, \"mode\": \"lines\", \"name\": \"Country=Chile\", \"showlegend\": true, \"type\": \"scatter\", \"x\": [1998, 2000, 2003, 2006, 2009, 2011, 2013, 2015, 2017], \"xaxis\": \"x\", \"y\": [14.3, 6.1, 1.7, 5.6, 9.1, 16.0, 10.7, 14.3, 12.5], \"yaxis\": \"y\"}, {\"hoverlabel\": {\"namelength\": 0}, \"hovertemplate\": \"Country=Ireland<br>Year=%{x}<br>Value=%{y}\", \"legendgroup\": \"Country=Ireland\", \"line\": {\"color\": \"#FFA15A\", \"dash\": \"solid\"}, \"mode\": \"lines\", \"name\": \"Country=Ireland\", \"showlegend\": true, \"type\": \"scatter\", \"x\": [1994, 1997, 2000, 2003, 2004, 2005, 2006, 2007, 2008, 2009, 2010, 2011, 2012, 2013, 2014, 2015, 2016, 2017], \"xaxis\": \"x\", \"y\": [25.2, 21.7, 19.7, 19.7, 18.2, 13.8, 14.4, 18.0, 15.0, 14.9, 12.8, 10.4, 6.3, 14.0, 14.4, 12.6, 7.4, 5.9], \"yaxis\": \"y\"}, {\"hoverlabel\": {\"namelength\": 0}, \"hovertemplate\": \"Country=Canada<br>Year=%{x}<br>Value=%{y}\", \"legendgroup\": \"Country=Canada\", \"line\": {\"color\": \"#19d3f3\", \"dash\": \"solid\"}, \"mode\": \"lines\", \"name\": \"Country=Canada\", \"showlegend\": true, \"type\": \"scatter\", \"x\": [1997, 1998, 1999, 2000, 2001, 2002, 2003, 2004, 2005, 2006, 2007, 2008, 2009, 2010, 2011, 2012, 2013, 2014, 2015, 2016, 2017], \"xaxis\": \"x\", \"y\": [24.7, 24.9, 24.0, 23.9, 24.3, 24.0, 22.5, 22.7, 21.3, 21.1, 20.8, 20.5, 20.1, 19.0, 19.2, 19.5, 19.3, 19.2, 18.6, 18.2, 18.2], \"yaxis\": \"y\"}, {\"hoverlabel\": {\"namelength\": 0}, \"hovertemplate\": \"Country=Slovenia<br>Year=%{x}<br>Value=%{y}\", \"legendgroup\": \"Country=Slovenia\", \"line\": {\"color\": \"#FF6692\", \"dash\": \"solid\"}, \"mode\": \"lines\", \"name\": \"Country=Slovenia\", \"showlegend\": true, \"type\": \"scatter\", \"x\": [2002, 2006, 2010, 2014], \"xaxis\": \"x\", \"y\": [9.4, 7.2, 1.0, 5.0], \"yaxis\": \"y\"}, {\"hoverlabel\": {\"namelength\": 0}, \"hovertemplate\": \"Country=Israel<br>Year=%{x}<br>Value=%{y}\", \"legendgroup\": \"Country=Israel\", \"line\": {\"color\": \"#B6E880\", \"dash\": \"solid\"}, \"mode\": \"lines\", \"name\": \"Country=Israel\", \"showlegend\": true, \"type\": \"scatter\", \"x\": [2001, 2002, 2003, 2004, 2005, 2006, 2007, 2008, 2009, 2010, 2011, 2012, 2013, 2014, 2015, 2016, 2017], \"xaxis\": \"x\", \"y\": [28.0, 24.2, 25.3, 25.0, 21.9, 22.0, 20.4, 22.1, 21.1, 20.4, 19.7, 20.0, 20.3, 20.1, 20.4, 21.6, 21.8], \"yaxis\": \"y\"}, {\"hoverlabel\": {\"namelength\": 0}, \"hovertemplate\": \"Country=Greece<br>Year=%{x}<br>Value=%{y}\", \"legendgroup\": \"Country=Greece\", \"line\": {\"color\": \"#FF97FF\", \"dash\": \"solid\"}, \"mode\": \"lines\", \"name\": \"Country=Greece\", \"showlegend\": true, \"type\": \"scatter\", \"x\": [2004, 2005, 2006, 2007, 2008, 2009, 2010, 2011, 2012, 2013, 2014, 2015, 2016, 2017], \"xaxis\": \"x\", \"y\": [13.9, 16.7, 11.9, 11.6, 9.5, 9.6, 12.2, 10.7, 6.9, 11.3, 9.1, 6.3, 4.5, 4.5], \"yaxis\": \"y\"}, {\"hoverlabel\": {\"namelength\": 0}, \"hovertemplate\": \"Country=Netherlands<br>Year=%{x}<br>Value=%{y}\", \"legendgroup\": \"Country=Netherlands\", \"line\": {\"color\": \"#FECB52\", \"dash\": \"solid\"}, \"mode\": \"lines\", \"name\": \"Country=Netherlands\", \"showlegend\": true, \"type\": \"scatter\", \"x\": [2002, 2006, 2010, 2014], \"xaxis\": \"x\", \"y\": [16.1, 16.0, 17.9, 14.1], \"yaxis\": \"y\"}, {\"hoverlabel\": {\"namelength\": 0}, \"hovertemplate\": \"Country=Germany<br>Year=%{x}<br>Value=%{y}\", \"legendgroup\": \"Country=Germany\", \"line\": {\"color\": \"#636efa\", \"dash\": \"solid\"}, \"mode\": \"lines\", \"name\": \"Country=Germany\", \"showlegend\": true, \"type\": \"scatter\", \"x\": [1992, 1993, 1994, 1995, 1996, 1997, 1998, 1999, 2000, 2001, 2002, 2003, 2004, 2005, 2006, 2007, 2008, 2009, 2010, 2011, 2012, 2013, 2014, 2015, 2016, 2017], \"xaxis\": \"x\", \"y\": [26.9, 23.0, 20.5, 19.4, 20.6, 21.4, 20.9, 20.2, 19.6, 19.1, 19.1, 19.6, 21.9, 16.3, 18.1, 16.7, 16.7, 16.5, 16.7, 16.9, 15.6, 14.1, 17.2, 15.8, 15.5, 16.2], \"yaxis\": \"y\"}, {\"hoverlabel\": {\"namelength\": 0}, \"hovertemplate\": \"Country=France<br>Year=%{x}<br>Value=%{y}\", \"legendgroup\": \"Country=France\", \"line\": {\"color\": \"#EF553B\", \"dash\": \"solid\"}, \"mode\": \"lines\", \"name\": \"Country=France\", \"showlegend\": true, \"type\": \"scatter\", \"x\": [2002, 2006, 2010, 2014], \"xaxis\": \"x\", \"y\": [13.3, 9.4, 9.1, 9.9], \"yaxis\": \"y\"}, {\"hoverlabel\": {\"namelength\": 0}, \"hovertemplate\": \"Country=Poland<br>Year=%{x}<br>Value=%{y}\", \"legendgroup\": \"Country=Poland\", \"line\": {\"color\": \"#00cc96\", \"dash\": \"solid\"}, \"mode\": \"lines\", \"name\": \"Country=Poland\", \"showlegend\": true, \"type\": \"scatter\", \"x\": [1991, 1992, 1993, 1994, 1995, 1996, 1997, 1998, 1999, 2001, 2002, 2004, 2006, 2008, 2010, 2012, 2014, 2016], \"xaxis\": \"x\", \"y\": [19.9, 17.0, 19.8, 18.6, 19.9, 20.2, 18.3, 18.9, 17.3, 14.0, 11.0, 10.6, 11.4, 13.0, 7.2, 10.6, 11.1, 9.4], \"yaxis\": \"y\"}, {\"hoverlabel\": {\"namelength\": 0}, \"hovertemplate\": \"Country=Czech Republic<br>Year=%{x}<br>Value=%{y}\", \"legendgroup\": \"Country=Czech Republic\", \"line\": {\"color\": \"#ab63fa\", \"dash\": \"solid\"}, \"mode\": \"lines\", \"name\": \"Country=Czech Republic\", \"showlegend\": true, \"type\": \"scatter\", \"x\": [1996, 1997, 1999, 2001, 2002, 2003, 2004, 2005, 2006, 2007, 2008, 2009, 2010, 2011, 2012, 2013, 2014, 2015, 2016, 2017, 2018], \"xaxis\": \"x\", \"y\": [18.3, 18.4, 19.0, 16.9, 16.0, 15.6, 16.1, 15.9, 15.4, 16.9, 17.9, 15.1, 15.8, 16.3, 15.3, 15.4, 16.3, 16.5, 16.0, 15.6, 15.1], \"yaxis\": \"y\"}, {\"hoverlabel\": {\"namelength\": 0}, \"hovertemplate\": \"Country=Mexico<br>Year=%{x}<br>Value=%{y}\", \"legendgroup\": \"Country=Mexico\", \"line\": {\"color\": \"#FFA15A\", \"dash\": \"solid\"}, \"mode\": \"lines\", \"name\": \"Country=Mexico\", \"showlegend\": true, \"type\": \"scatter\", \"x\": [2005, 2006, 2007, 2008, 2009, 2010, 2011, 2012, 2013, 2014, 2015, 2016, 2017, 2018], \"xaxis\": \"x\", \"y\": [16.7, 18.6, 12.5, 22.2, 16.7, 11.6, 10.0, 13.6, 15.4, 18.3, 16.7, 16.5, 11.1, 14.0], \"yaxis\": \"y\"}, {\"hoverlabel\": {\"namelength\": 0}, \"hovertemplate\": \"Country=Switzerland<br>Year=%{x}<br>Value=%{y}\", \"legendgroup\": \"Country=Switzerland\", \"line\": {\"color\": \"#19d3f3\", \"dash\": \"solid\"}, \"mode\": \"lines\", \"name\": \"Country=Switzerland\", \"showlegend\": true, \"type\": \"scatter\", \"x\": [1996, 1998, 2000, 2002, 2004, 2006, 2008, 2010, 2012, 2014, 2016], \"xaxis\": \"x\", \"y\": [25.5, 24.1, 23.8, 22.8, 22.0, 21.3, 21.3, 20.1, 19.3, 16.9, 14.8], \"yaxis\": \"y\"}, {\"hoverlabel\": {\"namelength\": 0}, \"hovertemplate\": \"Country=Luxembourg<br>Year=%{x}<br>Value=%{y}\", \"legendgroup\": \"Country=Luxembourg\", \"line\": {\"color\": \"#FF6692\", \"dash\": \"solid\"}, \"mode\": \"lines\", \"name\": \"Country=Luxembourg\", \"showlegend\": true, \"type\": \"scatter\", \"x\": [2002, 2006, 2010, 2014], \"xaxis\": \"x\", \"y\": [15.1, 7.7, 4.6, 3.4], \"yaxis\": \"y\"}, {\"hoverlabel\": {\"namelength\": 0}, \"hovertemplate\": \"Country=Turkey<br>Year=%{x}<br>Value=%{y}\", \"legendgroup\": \"Country=Turkey\", \"line\": {\"color\": \"#B6E880\", \"dash\": \"solid\"}, \"mode\": \"lines\", \"name\": \"Country=Turkey\", \"showlegend\": true, \"type\": \"scatter\", \"x\": [2006, 2010, 2014], \"xaxis\": \"x\", \"y\": [3.2, 3.1, 6.9], \"yaxis\": \"y\"}, {\"hoverlabel\": {\"namelength\": 0}, \"hovertemplate\": \"Country=Finland<br>Year=%{x}<br>Value=%{y}\", \"legendgroup\": \"Country=Finland\", \"line\": {\"color\": \"#FF97FF\", \"dash\": \"solid\"}, \"mode\": \"lines\", \"name\": \"Country=Finland\", \"showlegend\": true, \"type\": \"scatter\", \"x\": [1990, 1991, 1992, 1993, 1994, 1995, 1996, 1997, 1998, 1999, 2000, 2001, 2002, 2003, 2004, 2005, 2006, 2007, 2008, 2009, 2010, 2011, 2012, 2013, 2014, 2015, 2016, 2017], \"xaxis\": \"x\", \"y\": [22.9, 21.5, 20.3, 22.0, 23.1, 22.4, 20.6, 21.3, 20.8, 21.7, 20.4, 21.2, 20.4, 20.1, 20.0, 18.9, 19.4, 21.4, 21.2, 19.7, 18.9, 18.6, 18.7, 20.2, 19.6, 18.1, 16.5, 17.7], \"yaxis\": \"y\"}, {\"hoverlabel\": {\"namelength\": 0}, \"hovertemplate\": \"Country=Korea<br>Year=%{x}<br>Value=%{y}\", \"legendgroup\": \"Country=Korea\", \"line\": {\"color\": \"#FECB52\", \"dash\": \"solid\"}, \"mode\": \"lines\", \"name\": \"Country=Korea\", \"showlegend\": true, \"type\": \"scatter\", \"x\": [1992, 1993, 1994, 1995, 1996, 1997, 1998, 1999, 2000, 2001, 2002, 2003, 2004, 2005, 2006, 2007, 2008, 2009, 2010, 2011, 2012, 2013, 2014, 2015, 2016, 2017], \"xaxis\": \"x\", \"y\": [47.0, 47.3, 45.5, 44.2, 43.3, 42.2, 42.0, 41.8, 41.7, 40.4, 41.0, 40.1, 39.6, 39.6, 39.8, 38.2, 39.0, 38.6, 39.6, 36.6, 36.3, 36.6, 36.7, 37.2, 36.7, 34.6], \"yaxis\": \"y\"}, {\"hoverlabel\": {\"namelength\": 0}, \"hovertemplate\": \"Country=New Zealand<br>Year=%{x}<br>Value=%{y}\", \"legendgroup\": \"Country=New Zealand\", \"line\": {\"color\": \"#636efa\", \"dash\": \"solid\"}, \"mode\": \"lines\", \"name\": \"Country=New Zealand\", \"showlegend\": true, \"type\": \"scatter\", \"x\": [1990, 1992, 1994, 1995, 1996, 1997, 1998, 1999, 2000, 2001, 2002, 2003, 2004, 2005, 2006, 2007, 2008, 2009, 2010, 2011, 2012, 2013, 2014, 2015, 2016, 2017, 2018], \"xaxis\": \"x\", \"y\": [17.1, 15.6, 13.3, 13.7, 20.4, 12.7, 11.4, 8.3, 7.2, 8.1, 7.3, 7.7, 8.1, 9.6, 9.3, 7.1, 8.1, 8.8, 7.0, 4.5, 5.9, 6.6, 6.1, 7.9, 7.8, 7.2, 7.9], \"yaxis\": \"y\"}, {\"hoverlabel\": {\"namelength\": 0}, \"hovertemplate\": \"Country=United States<br>Year=%{x}<br>Value=%{y}\", \"legendgroup\": \"Country=United States\", \"line\": {\"color\": \"#EF553B\", \"dash\": \"solid\"}, \"mode\": \"lines\", \"name\": \"Country=United States\", \"showlegend\": true, \"type\": \"scatter\", \"x\": [1990, 1991, 1992, 1993, 1994, 1995, 1996, 1997, 1998, 1999, 2000, 2001, 2002, 2003, 2004, 2005, 2006, 2007, 2008, 2009, 2010, 2011, 2012, 2013, 2014, 2015, 2016, 2017], \"xaxis\": \"x\", \"y\": [28.5, 26.6, 25.1, 23.9, 23.9, 24.6, 23.8, 23.8, 23.7, 23.5, 23.1, 23.6, 22.1, 20.6, 19.6, 19.0, 19.2, 19.8, 20.1, 19.8, 18.8, 17.8, 19.1, 17.9, 17.5, 18.9, 18.1, 18.2], \"yaxis\": \"y\"}, {\"hoverlabel\": {\"namelength\": 0}, \"hovertemplate\": \"Country=United Kingdom<br>Year=%{x}<br>Value=%{y}\", \"legendgroup\": \"Country=United Kingdom\", \"line\": {\"color\": \"#00cc96\", \"dash\": \"solid\"}, \"mode\": \"lines\", \"name\": \"Country=United Kingdom\", \"showlegend\": true, \"type\": \"scatter\", \"x\": [1990, 1991, 1992, 1993, 1994, 1995, 1996, 1997, 1998, 1999, 2000, 2001, 2002, 2003, 2004, 2005, 2006, 2007, 2008, 2009, 2010, 2011, 2012, 2013, 2014, 2015, 2016, 2017, 2018], \"xaxis\": \"x\", \"y\": [32.7, 31.1, 29.9, 28.7, 28.1, 28.2, 27.2, 26.9, 27.0, 26.1, 26.3, 25.6, 24.4, 24.1, 23.4, 22.1, 21.7, 21.6, 21.9, 20.7, 19.2, 18.2, 17.8, 17.5, 17.4, 17.1, 16.8, 16.5, 16.4], \"yaxis\": \"y\"}, {\"hoverlabel\": {\"namelength\": 0}, \"hovertemplate\": \"Country=Sweden<br>Year=%{x}<br>Value=%{y}\", \"legendgroup\": \"Country=Sweden\", \"line\": {\"color\": \"#ab63fa\", \"dash\": \"solid\"}, \"mode\": \"lines\", \"name\": \"Country=Sweden\", \"showlegend\": true, \"type\": \"scatter\", \"x\": [1995, 1996, 1997, 1998, 1999, 2000, 2001, 2002, 2003, 2004, 2005, 2006, 2007, 2008, 2009, 2010, 2011, 2012, 2013, 2014, 2015, 2016, 2017], \"xaxis\": \"x\", \"y\": [9.7, 11.5, 11.6, 12.8, 11.8, 12.4, 12.4, 11.9, 11.5, 10.8, 11.3, 11.0, 11.8, 10.6, 9.5, 9.4, 9.2, 9.3, 9.4, 9.2, 8.3, 8.2, 7.3], \"yaxis\": \"y\"}, {\"hoverlabel\": {\"namelength\": 0}, \"hovertemplate\": \"Country=Spain<br>Year=%{x}<br>Value=%{y}\", \"legendgroup\": \"Country=Spain\", \"line\": {\"color\": \"#FFA15A\", \"dash\": \"solid\"}, \"mode\": \"lines\", \"name\": \"Country=Spain\", \"showlegend\": true, \"type\": \"scatter\", \"x\": [2002, 2006, 2010, 2014], \"xaxis\": \"x\", \"y\": [17.2, 13.5, 13.5, 11.5], \"yaxis\": \"y\"}, {\"hoverlabel\": {\"namelength\": 0}, \"hovertemplate\": \"Country=Belgium<br>Year=%{x}<br>Value=%{y}\", \"legendgroup\": \"Country=Belgium\", \"line\": {\"color\": \"#19d3f3\", \"dash\": \"solid\"}, \"mode\": \"lines\", \"name\": \"Country=Belgium\", \"showlegend\": true, \"type\": \"scatter\", \"x\": [1999, 2000, 2001, 2002, 2003, 2004, 2005, 2006, 2007, 2008, 2009, 2010, 2011, 2012, 2013, 2014, 2015, 2016], \"xaxis\": \"x\", \"y\": [15.2, 13.6, 13.2, 11.6, 15.2, 11.8, 11.5, 10.3, 9.9, 8.9, 7.5, 7.0, 5.8, 6.4, 5.9, 3.3, 4.7, 3.7], \"yaxis\": \"y\"}, {\"hoverlabel\": {\"namelength\": 0}, \"hovertemplate\": \"Country=Japan<br>Year=%{x}<br>Value=%{y}\", \"legendgroup\": \"Country=Japan\", \"line\": {\"color\": \"#FF6692\", \"dash\": \"solid\"}, \"mode\": \"lines\", \"name\": \"Country=Japan\", \"showlegend\": true, \"type\": \"scatter\", \"x\": [1990, 1991, 1992, 1993, 1994, 1995, 1996, 1997, 1998, 1999, 2000, 2001, 2002, 2003, 2004, 2005, 2006, 2007, 2008, 2009, 2010, 2011, 2012, 2013, 2014, 2015, 2016, 2017], \"xaxis\": \"x\", \"y\": [40.6, 39.9, 38.9, 38.5, 37.8, 37.1, 36.8, 36.5, 35.3, 34.6, 33.9, 33.9, 32.5, 32.0, 31.1, 32.8, 33.0, 31.7, 30.7, 28.3, 28.7, 27.4, 26.5, 26.6, 25.9, 25.7, 24.6, 24.5], \"yaxis\": \"y\"}, {\"hoverlabel\": {\"namelength\": 0}, \"hovertemplate\": \"Country=Estonia<br>Year=%{x}<br>Value=%{y}\", \"legendgroup\": \"Country=Estonia\", \"line\": {\"color\": \"#B6E880\", \"dash\": \"solid\"}, \"mode\": \"lines\", \"name\": \"Country=Estonia\", \"showlegend\": true, \"type\": \"scatter\", \"x\": [2002, 2006, 2010, 2014], \"xaxis\": \"x\", \"y\": [25.0, 29.7, 27.8, 28.3], \"yaxis\": \"y\"}, {\"hoverlabel\": {\"namelength\": 0}, \"hovertemplate\": \"Country=Slovak Republic<br>Year=%{x}<br>Value=%{y}\", \"legendgroup\": \"Country=Slovak Republic\", \"line\": {\"color\": \"#FF97FF\", \"dash\": \"solid\"}, \"mode\": \"lines\", \"name\": \"Country=Slovak Republic\", \"showlegend\": true, \"type\": \"scatter\", \"x\": [2002, 2003, 2004, 2005, 2006, 2007, 2008, 2009, 2010, 2011, 2012, 2013, 2014, 2015, 2016, 2017], \"xaxis\": \"x\", \"y\": [20.4, 20.7, 20.9, 20.1, 17.8, 17.5, 16.4, 16.4, 14.9, 15.4, 16.0, 14.1, 14.4, 13.4, 13.9, 15.0], \"yaxis\": \"y\"}, {\"hoverlabel\": {\"namelength\": 0}, \"hovertemplate\": \"Country=Denmark<br>Year=%{x}<br>Value=%{y}\", \"legendgroup\": \"Country=Denmark\", \"line\": {\"color\": \"#FECB52\", \"dash\": \"solid\"}, \"mode\": \"lines\", \"name\": \"Country=Denmark\", \"showlegend\": true, \"type\": \"scatter\", \"x\": [2002, 2003, 2004, 2005, 2006, 2007, 2008, 2009, 2010, 2011, 2012, 2013, 2014, 2015, 2016, 2017], \"xaxis\": \"x\", \"y\": [10.8, 9.9, 10.2, 10.2, 10.2, 9.9, 10.2, 10.2, 8.9, 7.9, 7.0, 6.8, 6.3, 5.8, 5.7, 5.3], \"yaxis\": \"y\"}, {\"hoverlabel\": {\"namelength\": 0}, \"hovertemplate\": \"Country=Iceland<br>Year=%{x}<br>Value=%{y}\", \"legendgroup\": \"Country=Iceland\", \"line\": {\"color\": \"#636efa\", \"dash\": \"solid\"}, \"mode\": \"lines\", \"name\": \"Country=Iceland\", \"showlegend\": true, \"type\": \"scatter\", \"x\": [2004, 2005, 2006, 2007, 2008, 2009, 2010, 2011, 2013, 2014, 2015, 2016], \"xaxis\": \"x\", \"y\": [19.2, 13.2, 12.4, 15.9, 13.3, 16.0, 14.3, 14.1, 14.5, 13.6, 9.9, 11.5], \"yaxis\": \"y\"}, {\"hoverlabel\": {\"namelength\": 0}, \"hovertemplate\": \"Country=Norway<br>Year=%{x}<br>Value=%{y}\", \"legendgroup\": \"Country=Norway\", \"line\": {\"color\": \"#EF553B\", \"dash\": \"solid\"}, \"mode\": \"lines\", \"name\": \"Country=Norway\", \"showlegend\": true, \"type\": \"scatter\", \"x\": [1997, 1998, 1999, 2000, 2001, 2002, 2003, 2004, 2005, 2006, 2007, 2008, 2009, 2010, 2011, 2012, 2013, 2014, 2015], \"xaxis\": \"x\", \"y\": [10.1, 10.1, 10.1, 10.2, 10.7, 10.7, 10.2, 9.7, 9.4, 9.2, 9.8, 9.2, 8.7, 8.1, 7.8, 6.4, 7.0, 6.3, 7.1], \"yaxis\": \"y\"}, {\"hoverlabel\": {\"namelength\": 0}, \"hovertemplate\": \"Country=Austria<br>Year=%{x}<br>Value=%{y}\", \"legendgroup\": \"Country=Austria\", \"line\": {\"color\": \"#00cc96\", \"dash\": \"solid\"}, \"mode\": \"lines\", \"name\": \"Country=Austria\", \"showlegend\": true, \"type\": \"scatter\", \"x\": [2000, 2001, 2002, 2003, 2004, 2005, 2006, 2007, 2008, 2009, 2010, 2011, 2012, 2013, 2014, 2015, 2016, 2017], \"xaxis\": \"x\", \"y\": [23.1, 22.8, 24.5, 21.1, 22.4, 22.0, 21.9, 21.6, 20.9, 19.4, 19.2, 18.6, 18.2, 18.1, 17.7, 17.0, 15.7, 15.4], \"yaxis\": \"y\"}, {\"hoverlabel\": {\"namelength\": 0}, \"hovertemplate\": \"Country=Hungary<br>Year=%{x}<br>Value=%{y}\", \"legendgroup\": \"Country=Hungary\", \"line\": {\"color\": \"#ab63fa\", \"dash\": \"solid\"}, \"mode\": \"lines\", \"name\": \"Country=Hungary\", \"showlegend\": true, \"type\": \"scatter\", \"x\": [1992, 1993, 1994, 1995, 1996, 1998, 1999, 2000, 2001, 2002, 2003, 2004, 2005, 2006, 2007, 2008, 2009, 2010, 2011, 2012, 2013, 2014, 2015, 2016], \"xaxis\": \"x\", \"y\": [17.4, 7.9, 15.2, 15.8, 17.8, 15.7, 15.3, 14.1, 13.7, 9.1, 1.5, 3.0, 4.0, 0.4, 3.6, 2.2, 3.9, 6.4, 6.9, 11.3, 8.7, 3.8, 9.5, 9.4], \"yaxis\": \"y\"}, {\"hoverlabel\": {\"namelength\": 0}, \"hovertemplate\": \"Country=Australia<br>Year=%{x}<br>Value=%{y}\", \"legendgroup\": \"Country=Australia\", \"line\": {\"color\": \"#FFA15A\", \"dash\": \"solid\"}, \"mode\": \"lines\", \"name\": \"Country=Australia\", \"showlegend\": true, \"type\": \"scatter\", \"x\": [1990, 1991, 1992, 1993, 1994, 1995, 1997, 1998, 1999, 2000, 2001, 2002, 2003, 2004, 2005, 2006, 2007, 2008, 2009, 2010, 2011, 2012, 2013, 2014, 2015, 2016, 2017, 2018], \"xaxis\": \"x\", \"y\": [18.2, 16.0, 14.3, 13.2, 14.4, 14.5, 15.3, 13.2, 14.3, 17.2, 14.3, 15.0, 13.0, 14.4, 15.8, 16.7, 15.4, 11.9, 16.4, 14.0, 16.0, 13.8, 18.0, 15.4, 13.0, 11.5, 11.7, 11.7], \"yaxis\": \"y\"}, {\"hoverlabel\": {\"namelength\": 0}, \"hovertemplate\": \"Country=Lithuania<br>Year=%{x}<br>Value=%{y}\", \"legendgroup\": \"Country=Lithuania\", \"line\": {\"color\": \"#19d3f3\", \"dash\": \"solid\"}, \"mode\": \"lines\", \"name\": \"Country=Lithuania\", \"showlegend\": true, \"type\": \"scatter\", \"x\": [2002, 2006, 2010, 2014], \"xaxis\": \"x\", \"y\": [14.6, 16.0, 10.6, 12.5], \"yaxis\": \"y\"}, {\"hoverlabel\": {\"namelength\": 0}, \"hovertemplate\": \"Country=Colombia<br>Year=%{x}<br>Value=%{y}\", \"legendgroup\": \"Country=Colombia\", \"line\": {\"color\": \"#FF6692\", \"dash\": \"solid\"}, \"mode\": \"lines\", \"name\": \"Country=Colombia\", \"showlegend\": true, \"type\": \"scatter\", \"x\": [2007, 2008, 2009, 2010, 2011, 2012, 2013, 2014, 2015, 2016, 2017, 2018], \"xaxis\": \"x\", \"y\": [1.3, 1.7, 3.4, 6.4, 3.5, 8.2, 7.1, 9.6, 11.1, 7.1, 7.7, 5.8], \"yaxis\": \"y\"}, {\"hoverlabel\": {\"namelength\": 0}, \"hovertemplate\": \"Country=Costa Rica<br>Year=%{x}<br>Value=%{y}\", \"legendgroup\": \"Country=Costa Rica\", \"line\": {\"color\": \"#B6E880\", \"dash\": \"solid\"}, \"mode\": \"lines\", \"name\": \"Country=Costa Rica\", \"showlegend\": true, \"type\": \"scatter\", \"x\": [2010, 2011, 2012, 2013, 2014, 2015, 2016, 2017, 2018], \"xaxis\": \"x\", \"y\": [0.0, 4.6, 0.6, 0.0, 5.1, 3.7, 1.8, 3.0, 4.7], \"yaxis\": \"y\"}],\n",
       "                        {\"height\": 600, \"legend\": {\"tracegroupgap\": 0}, \"margin\": {\"t\": 60}, \"template\": {\"data\": {\"bar\": [{\"error_x\": {\"color\": \"#2a3f5f\"}, \"error_y\": {\"color\": \"#2a3f5f\"}, \"marker\": {\"line\": {\"color\": \"#E5ECF6\", \"width\": 0.5}}, \"type\": \"bar\"}], \"barpolar\": [{\"marker\": {\"line\": {\"color\": \"#E5ECF6\", \"width\": 0.5}}, \"type\": \"barpolar\"}], \"carpet\": [{\"aaxis\": {\"endlinecolor\": \"#2a3f5f\", \"gridcolor\": \"white\", \"linecolor\": \"white\", \"minorgridcolor\": \"white\", \"startlinecolor\": \"#2a3f5f\"}, \"baxis\": {\"endlinecolor\": \"#2a3f5f\", \"gridcolor\": \"white\", \"linecolor\": \"white\", \"minorgridcolor\": \"white\", \"startlinecolor\": \"#2a3f5f\"}, \"type\": \"carpet\"}], \"choropleth\": [{\"colorbar\": {\"outlinewidth\": 0, \"ticks\": \"\"}, \"type\": \"choropleth\"}], \"contour\": [{\"colorbar\": {\"outlinewidth\": 0, \"ticks\": \"\"}, \"colorscale\": [[0.0, \"#0d0887\"], [0.1111111111111111, \"#46039f\"], [0.2222222222222222, \"#7201a8\"], [0.3333333333333333, \"#9c179e\"], [0.4444444444444444, \"#bd3786\"], [0.5555555555555556, \"#d8576b\"], [0.6666666666666666, \"#ed7953\"], [0.7777777777777778, \"#fb9f3a\"], [0.8888888888888888, \"#fdca26\"], [1.0, \"#f0f921\"]], \"type\": \"contour\"}], \"contourcarpet\": [{\"colorbar\": {\"outlinewidth\": 0, \"ticks\": \"\"}, \"type\": \"contourcarpet\"}], \"heatmap\": [{\"colorbar\": {\"outlinewidth\": 0, \"ticks\": \"\"}, \"colorscale\": [[0.0, \"#0d0887\"], [0.1111111111111111, \"#46039f\"], [0.2222222222222222, \"#7201a8\"], [0.3333333333333333, \"#9c179e\"], [0.4444444444444444, \"#bd3786\"], [0.5555555555555556, \"#d8576b\"], [0.6666666666666666, \"#ed7953\"], [0.7777777777777778, \"#fb9f3a\"], [0.8888888888888888, \"#fdca26\"], [1.0, \"#f0f921\"]], \"type\": \"heatmap\"}], \"heatmapgl\": [{\"colorbar\": {\"outlinewidth\": 0, \"ticks\": \"\"}, \"colorscale\": [[0.0, \"#0d0887\"], [0.1111111111111111, \"#46039f\"], [0.2222222222222222, \"#7201a8\"], [0.3333333333333333, \"#9c179e\"], [0.4444444444444444, \"#bd3786\"], [0.5555555555555556, \"#d8576b\"], [0.6666666666666666, \"#ed7953\"], [0.7777777777777778, \"#fb9f3a\"], [0.8888888888888888, \"#fdca26\"], [1.0, \"#f0f921\"]], \"type\": \"heatmapgl\"}], \"histogram\": [{\"marker\": {\"colorbar\": {\"outlinewidth\": 0, \"ticks\": \"\"}}, \"type\": \"histogram\"}], \"histogram2d\": [{\"colorbar\": {\"outlinewidth\": 0, \"ticks\": \"\"}, \"colorscale\": [[0.0, \"#0d0887\"], [0.1111111111111111, \"#46039f\"], [0.2222222222222222, \"#7201a8\"], [0.3333333333333333, \"#9c179e\"], [0.4444444444444444, \"#bd3786\"], [0.5555555555555556, \"#d8576b\"], [0.6666666666666666, \"#ed7953\"], [0.7777777777777778, \"#fb9f3a\"], [0.8888888888888888, \"#fdca26\"], [1.0, \"#f0f921\"]], \"type\": \"histogram2d\"}], \"histogram2dcontour\": [{\"colorbar\": {\"outlinewidth\": 0, \"ticks\": \"\"}, \"colorscale\": [[0.0, \"#0d0887\"], [0.1111111111111111, \"#46039f\"], [0.2222222222222222, \"#7201a8\"], [0.3333333333333333, \"#9c179e\"], [0.4444444444444444, \"#bd3786\"], [0.5555555555555556, \"#d8576b\"], [0.6666666666666666, \"#ed7953\"], [0.7777777777777778, \"#fb9f3a\"], [0.8888888888888888, \"#fdca26\"], [1.0, \"#f0f921\"]], \"type\": \"histogram2dcontour\"}], \"mesh3d\": [{\"colorbar\": {\"outlinewidth\": 0, \"ticks\": \"\"}, \"type\": \"mesh3d\"}], \"parcoords\": [{\"line\": {\"colorbar\": {\"outlinewidth\": 0, \"ticks\": \"\"}}, \"type\": \"parcoords\"}], \"scatter\": [{\"marker\": {\"colorbar\": {\"outlinewidth\": 0, \"ticks\": \"\"}}, \"type\": \"scatter\"}], \"scatter3d\": [{\"line\": {\"colorbar\": {\"outlinewidth\": 0, \"ticks\": \"\"}}, \"marker\": {\"colorbar\": {\"outlinewidth\": 0, \"ticks\": \"\"}}, \"type\": \"scatter3d\"}], \"scattercarpet\": [{\"marker\": {\"colorbar\": {\"outlinewidth\": 0, \"ticks\": \"\"}}, \"type\": \"scattercarpet\"}], \"scattergeo\": [{\"marker\": {\"colorbar\": {\"outlinewidth\": 0, \"ticks\": \"\"}}, \"type\": \"scattergeo\"}], \"scattergl\": [{\"marker\": {\"colorbar\": {\"outlinewidth\": 0, \"ticks\": \"\"}}, \"type\": \"scattergl\"}], \"scattermapbox\": [{\"marker\": {\"colorbar\": {\"outlinewidth\": 0, \"ticks\": \"\"}}, \"type\": \"scattermapbox\"}], \"scatterpolar\": [{\"marker\": {\"colorbar\": {\"outlinewidth\": 0, \"ticks\": \"\"}}, \"type\": \"scatterpolar\"}], \"scatterpolargl\": [{\"marker\": {\"colorbar\": {\"outlinewidth\": 0, \"ticks\": \"\"}}, \"type\": \"scatterpolargl\"}], \"scatterternary\": [{\"marker\": {\"colorbar\": {\"outlinewidth\": 0, \"ticks\": \"\"}}, \"type\": \"scatterternary\"}], \"surface\": [{\"colorbar\": {\"outlinewidth\": 0, \"ticks\": \"\"}, \"colorscale\": [[0.0, \"#0d0887\"], [0.1111111111111111, \"#46039f\"], [0.2222222222222222, \"#7201a8\"], [0.3333333333333333, \"#9c179e\"], [0.4444444444444444, \"#bd3786\"], [0.5555555555555556, \"#d8576b\"], [0.6666666666666666, \"#ed7953\"], [0.7777777777777778, \"#fb9f3a\"], [0.8888888888888888, \"#fdca26\"], [1.0, \"#f0f921\"]], \"type\": \"surface\"}], \"table\": [{\"cells\": {\"fill\": {\"color\": \"#EBF0F8\"}, \"line\": {\"color\": \"white\"}}, \"header\": {\"fill\": {\"color\": \"#C8D4E3\"}, \"line\": {\"color\": \"white\"}}, \"type\": \"table\"}]}, \"layout\": {\"annotationdefaults\": {\"arrowcolor\": \"#2a3f5f\", \"arrowhead\": 0, \"arrowwidth\": 1}, \"colorscale\": {\"diverging\": [[0, \"#8e0152\"], [0.1, \"#c51b7d\"], [0.2, \"#de77ae\"], [0.3, \"#f1b6da\"], [0.4, \"#fde0ef\"], [0.5, \"#f7f7f7\"], [0.6, \"#e6f5d0\"], [0.7, \"#b8e186\"], [0.8, \"#7fbc41\"], [0.9, \"#4d9221\"], [1, \"#276419\"]], \"sequential\": [[0.0, \"#0d0887\"], [0.1111111111111111, \"#46039f\"], [0.2222222222222222, \"#7201a8\"], [0.3333333333333333, \"#9c179e\"], [0.4444444444444444, \"#bd3786\"], [0.5555555555555556, \"#d8576b\"], [0.6666666666666666, \"#ed7953\"], [0.7777777777777778, \"#fb9f3a\"], [0.8888888888888888, \"#fdca26\"], [1.0, \"#f0f921\"]], \"sequentialminus\": [[0.0, \"#0d0887\"], [0.1111111111111111, \"#46039f\"], [0.2222222222222222, \"#7201a8\"], [0.3333333333333333, \"#9c179e\"], [0.4444444444444444, \"#bd3786\"], [0.5555555555555556, \"#d8576b\"], [0.6666666666666666, \"#ed7953\"], [0.7777777777777778, \"#fb9f3a\"], [0.8888888888888888, \"#fdca26\"], [1.0, \"#f0f921\"]]}, \"colorway\": [\"#636efa\", \"#EF553B\", \"#00cc96\", \"#ab63fa\", \"#FFA15A\", \"#19d3f3\", \"#FF6692\", \"#B6E880\", \"#FF97FF\", \"#FECB52\"], \"font\": {\"color\": \"#2a3f5f\"}, \"geo\": {\"bgcolor\": \"white\", \"lakecolor\": \"white\", \"landcolor\": \"#E5ECF6\", \"showlakes\": true, \"showland\": true, \"subunitcolor\": \"white\"}, \"hoverlabel\": {\"align\": \"left\"}, \"hovermode\": \"closest\", \"mapbox\": {\"style\": \"light\"}, \"paper_bgcolor\": \"white\", \"plot_bgcolor\": \"#E5ECF6\", \"polar\": {\"angularaxis\": {\"gridcolor\": \"white\", \"linecolor\": \"white\", \"ticks\": \"\"}, \"bgcolor\": \"#E5ECF6\", \"radialaxis\": {\"gridcolor\": \"white\", \"linecolor\": \"white\", \"ticks\": \"\"}}, \"scene\": {\"xaxis\": {\"backgroundcolor\": \"#E5ECF6\", \"gridcolor\": \"white\", \"gridwidth\": 2, \"linecolor\": \"white\", \"showbackground\": true, \"ticks\": \"\", \"zerolinecolor\": \"white\"}, \"yaxis\": {\"backgroundcolor\": \"#E5ECF6\", \"gridcolor\": \"white\", \"gridwidth\": 2, \"linecolor\": \"white\", \"showbackground\": true, \"ticks\": \"\", \"zerolinecolor\": \"white\"}, \"zaxis\": {\"backgroundcolor\": \"#E5ECF6\", \"gridcolor\": \"white\", \"gridwidth\": 2, \"linecolor\": \"white\", \"showbackground\": true, \"ticks\": \"\", \"zerolinecolor\": \"white\"}}, \"shapedefaults\": {\"line\": {\"color\": \"#2a3f5f\"}}, \"ternary\": {\"aaxis\": {\"gridcolor\": \"white\", \"linecolor\": \"white\", \"ticks\": \"\"}, \"baxis\": {\"gridcolor\": \"white\", \"linecolor\": \"white\", \"ticks\": \"\"}, \"bgcolor\": \"#E5ECF6\", \"caxis\": {\"gridcolor\": \"white\", \"linecolor\": \"white\", \"ticks\": \"\"}}, \"title\": {\"x\": 0.05}, \"xaxis\": {\"automargin\": true, \"gridcolor\": \"white\", \"linecolor\": \"white\", \"ticks\": \"\", \"zerolinecolor\": \"white\", \"zerolinewidth\": 2}, \"yaxis\": {\"automargin\": true, \"gridcolor\": \"white\", \"linecolor\": \"white\", \"ticks\": \"\", \"zerolinecolor\": \"white\", \"zerolinewidth\": 2}}}, \"xaxis\": {\"anchor\": \"y\", \"domain\": [0.0, 0.98], \"title\": {\"text\": \"Year\"}}, \"yaxis\": {\"anchor\": \"x\", \"domain\": [0.0, 1.0], \"title\": {\"text\": \"Value\"}}},\n",
       "                        {\"responsive\": true}\n",
       "                    ).then(function(){\n",
       "                            \n",
       "var gd = document.getElementById('2428ec4f-b4e3-44d4-8de8-d9683d06629d');\n",
       "var x = new MutationObserver(function (mutations, observer) {{\n",
       "        var display = window.getComputedStyle(gd).display;\n",
       "        if (!display || display === 'none') {{\n",
       "            console.log([gd, 'removed!']);\n",
       "            Plotly.purge(gd);\n",
       "            observer.disconnect();\n",
       "        }}\n",
       "}});\n",
       "\n",
       "// Listen for the removal of the full notebook cells\n",
       "var notebookContainer = gd.closest('#notebook-container');\n",
       "if (notebookContainer) {{\n",
       "    x.observe(notebookContainer, {childList: true});\n",
       "}}\n",
       "\n",
       "// Listen for the clearing of the current output cell\n",
       "var outputEl = gd.closest('.output');\n",
       "if (outputEl) {{\n",
       "    x.observe(outputEl, {childList: true});\n",
       "}}\n",
       "\n",
       "                        })\n",
       "                };\n",
       "                });\n",
       "            </script>\n",
       "        </div>"
      ]
     },
     "metadata": {},
     "output_type": "display_data"
    }
   ],
   "source": [
    "px.line(family_df[family_df['Indicator'] == 'Gender wage gap (median) for full-time employees'], x='Year', y='Value', color='Country')"
   ]
  },
  {
   "cell_type": "code",
   "execution_count": 56,
   "metadata": {},
   "outputs": [
    {
     "data": {
      "application/vnd.plotly.v1+json": {
       "config": {
        "plotlyServerURL": "https://plot.ly"
       },
       "data": [
        {
         "hoverlabel": {
          "namelength": 0
         },
         "hovertemplate": "Country=Denmark<br>Year=%{x}<br>Value=%{y}",
         "legendgroup": "Country=Denmark",
         "line": {
          "color": "#636efa",
          "dash": "solid"
         },
         "mode": "lines",
         "name": "Country=Denmark",
         "showlegend": true,
         "type": "scattergl",
         "x": [
          1990,
          1991,
          1992,
          1993,
          1994,
          1995,
          1996,
          1997,
          1998,
          1999,
          2000,
          2001,
          2002,
          2003,
          2004,
          2005,
          2006,
          2007,
          2008,
          2009,
          2010,
          2011,
          2012,
          2013,
          2014,
          2015,
          2016,
          2017
         ],
         "xaxis": "x",
         "y": [
          9.2,
          9.1,
          9.8,
          9.2,
          9.3,
          8.8,
          8.2,
          8.8,
          8.1,
          8,
          7.9,
          7.6,
          6.5,
          6,
          5.6,
          5.6,
          6,
          5.7,
          6,
          5.5,
          5,
          4.6,
          4.4,
          4.2,
          3.6,
          3.4,
          3.5,
          2.8
         ],
         "yaxis": "y"
        },
        {
         "hoverlabel": {
          "namelength": 0
         },
         "hovertemplate": "Country=Estonia<br>Year=%{x}<br>Value=%{y}",
         "legendgroup": "Country=Estonia",
         "line": {
          "color": "#EF553B",
          "dash": "solid"
         },
         "mode": "lines",
         "name": "Country=Estonia",
         "showlegend": true,
         "type": "scattergl",
         "x": [
          1990,
          1991,
          1992,
          1993,
          1994,
          1995,
          1996,
          1997,
          1998,
          1999,
          2000,
          2001,
          2002,
          2003,
          2004,
          2005,
          2006,
          2007,
          2008,
          2009,
          2010,
          2011,
          2012,
          2013,
          2014,
          2015,
          2016,
          2017
         ],
         "xaxis": "x",
         "y": [
          54.9,
          53.8,
          50.4,
          44.2,
          40.4,
          37.8,
          35.6,
          31,
          27.4,
          26.7,
          26.4,
          24.8,
          23,
          22,
          22.6,
          22.6,
          22.9,
          25.1,
          23.8,
          21,
          17.5,
          16.2,
          15.3,
          16.3,
          15.6,
          12.5,
          10.5,
          10.1
         ],
         "yaxis": "y"
        },
        {
         "hoverlabel": {
          "namelength": 0
         },
         "hovertemplate": "Country=Czech Republic<br>Year=%{x}<br>Value=%{y}",
         "legendgroup": "Country=Czech Republic",
         "line": {
          "color": "#00cc96",
          "dash": "solid"
         },
         "mode": "lines",
         "name": "Country=Czech Republic",
         "showlegend": true,
         "type": "scattergl",
         "x": [
          1990,
          1991,
          1992,
          1993,
          1994,
          1995,
          1996,
          1997,
          1998,
          1999,
          2000,
          2001,
          2002,
          2003,
          2004,
          2005,
          2006,
          2007,
          2008,
          2009,
          2010,
          2011,
          2012,
          2013,
          2014,
          2015,
          2016,
          2017
         ],
         "xaxis": "x",
         "y": [
          44.7,
          46.7,
          44.7,
          42.8,
          32.6,
          24.9,
          20,
          17.9,
          16.4,
          15.3,
          13.2,
          11.5,
          11.6,
          11.4,
          11.4,
          11,
          11,
          11.2,
          11.6,
          11.9,
          11.5,
          11.2,
          11.9,
          11.7,
          11.9,
          11.6,
          11.8,
          11.8
         ],
         "yaxis": "y"
        },
        {
         "hoverlabel": {
          "namelength": 0
         },
         "hovertemplate": "Country=Japan<br>Year=%{x}<br>Value=%{y}",
         "legendgroup": "Country=Japan",
         "line": {
          "color": "#ab63fa",
          "dash": "solid"
         },
         "mode": "lines",
         "name": "Country=Japan",
         "showlegend": true,
         "type": "scattergl",
         "x": [
          1990,
          1995,
          2000,
          2005,
          2010,
          2011,
          2012,
          2013,
          2014,
          2015,
          2016,
          2017
         ],
         "xaxis": "x",
         "y": [
          3.6,
          3.9,
          5.4,
          5.2,
          4.6,
          4.5,
          4.4,
          4.4,
          4.5,
          4.1,
          3.8,
          3.4
         ],
         "yaxis": "y"
        },
        {
         "hoverlabel": {
          "namelength": 0
         },
         "hovertemplate": "Country=Austria<br>Year=%{x}<br>Value=%{y}",
         "legendgroup": "Country=Austria",
         "line": {
          "color": "#FFA15A",
          "dash": "solid"
         },
         "mode": "lines",
         "name": "Country=Austria",
         "showlegend": true,
         "type": "scattergl",
         "x": [
          1990,
          1991,
          1992,
          1993,
          1994,
          1995,
          1996,
          1997,
          1998,
          1999,
          2000,
          2001,
          2002,
          2003,
          2004,
          2005,
          2006,
          2007,
          2008,
          2009,
          2010,
          2011,
          2012,
          2013,
          2014,
          2015,
          2016,
          2017
         ],
         "xaxis": "x",
         "y": [
          21.2,
          22.8,
          23.1,
          22.4,
          18.9,
          17.4,
          15.6,
          14.7,
          14,
          13.1,
          13.7,
          13.7,
          13.8,
          13.2,
          13.7,
          12.8,
          12,
          11.2,
          11.3,
          10.4,
          10.2,
          9.1,
          8.6,
          8.1,
          7.4,
          7.6,
          7.2,
          6.8
         ],
         "yaxis": "y"
        },
        {
         "hoverlabel": {
          "namelength": 0
         },
         "hovertemplate": "Country=Hungary<br>Year=%{x}<br>Value=%{y}",
         "legendgroup": "Country=Hungary",
         "line": {
          "color": "#19d3f3",
          "dash": "solid"
         },
         "mode": "lines",
         "name": "Country=Hungary",
         "showlegend": true,
         "type": "scattergl",
         "x": [
          1990,
          1991,
          1992,
          1993,
          1994,
          1995,
          1996,
          1997,
          1998,
          1999,
          2000,
          2001,
          2002,
          2003,
          2004,
          2005,
          2006,
          2007,
          2008,
          2009,
          2010,
          2011,
          2012,
          2013,
          2014,
          2015,
          2016,
          2017
         ],
         "xaxis": "x",
         "y": [
          39.5,
          38.2,
          35.8,
          34.3,
          33.8,
          31.4,
          29.3,
          27.3,
          25.6,
          23.2,
          23.3,
          21.8,
          21.4,
          20.6,
          20.7,
          20,
          19.7,
          19.4,
          20.1,
          19.5,
          17.9,
          18,
          19.2,
          21.1,
          23.1,
          22.8,
          24.9,
          23
         ],
         "yaxis": "y"
        },
        {
         "hoverlabel": {
          "namelength": 0
         },
         "hovertemplate": "Country=Turkey<br>Year=%{x}<br>Value=%{y}",
         "legendgroup": "Country=Turkey",
         "line": {
          "color": "#FF6692",
          "dash": "solid"
         },
         "mode": "lines",
         "name": "Country=Turkey",
         "showlegend": true,
         "type": "scattergl",
         "x": [
          2007,
          2008,
          2009,
          2010,
          2011,
          2012,
          2013,
          2014
         ],
         "xaxis": "x",
         "y": [
          37.7,
          35.9,
          36.8,
          32,
          31.3,
          29.6,
          28,
          26.9
         ],
         "yaxis": "y"
        },
        {
         "hoverlabel": {
          "namelength": 0
         },
         "hovertemplate": "Country=Australia<br>Year=%{x}<br>Value=%{y}",
         "legendgroup": "Country=Australia",
         "line": {
          "color": "#B6E880",
          "dash": "solid"
         },
         "mode": "lines",
         "name": "Country=Australia",
         "showlegend": true,
         "type": "scattergl",
         "x": [
          1990,
          1991,
          1992,
          1993,
          1994,
          1995,
          1996,
          1997,
          1998,
          1999,
          2000,
          2001,
          2002,
          2003,
          2004,
          2005,
          2006,
          2007,
          2008,
          2009,
          2010,
          2011,
          2012,
          2013,
          2014,
          2015
         ],
         "xaxis": "x",
         "y": [
          22.1,
          22.1,
          22,
          21,
          20.7,
          20.5,
          20.2,
          19.9,
          19,
          18.6,
          17.8,
          17.9,
          17.4,
          16.2,
          16.2,
          16.6,
          16.3,
          17.1,
          18.4,
          17.9,
          16.7,
          16.1,
          16.1,
          14.6,
          12.9,
          11.9
         ],
         "yaxis": "y"
        },
        {
         "hoverlabel": {
          "namelength": 0
         },
         "hovertemplate": "Country=Slovak Republic<br>Year=%{x}<br>Value=%{y}",
         "legendgroup": "Country=Slovak Republic",
         "line": {
          "color": "#FF97FF",
          "dash": "solid"
         },
         "mode": "lines",
         "name": "Country=Slovak Republic",
         "showlegend": true,
         "type": "scattergl",
         "x": [
          1990,
          1991,
          1992,
          1993,
          1994,
          1995,
          1996,
          1997,
          1998,
          1999,
          2000,
          2001,
          2002,
          2003,
          2004,
          2005,
          2006,
          2007,
          2008,
          2009,
          2010,
          2011,
          2012,
          2013,
          2014,
          2015,
          2016,
          2017
         ],
         "xaxis": "x",
         "y": [
          45.3,
          49.9,
          47.2,
          45.5,
          38.1,
          32.3,
          30.3,
          28.4,
          26.7,
          25.4,
          23.8,
          21.2,
          21.2,
          20.5,
          20.3,
          20.3,
          20.3,
          20.7,
          21.6,
          21.9,
          23,
          22,
          21.6,
          22.1,
          23.7,
          24.3,
          26.2,
          26.7
         ],
         "yaxis": "y"
        },
        {
         "hoverlabel": {
          "namelength": 0
         },
         "hovertemplate": "Country=Netherlands<br>Year=%{x}<br>Value=%{y}",
         "legendgroup": "Country=Netherlands",
         "line": {
          "color": "#FECB52",
          "dash": "solid"
         },
         "mode": "lines",
         "name": "Country=Netherlands",
         "showlegend": true,
         "type": "scattergl",
         "x": [
          1990,
          1991,
          1992,
          1993,
          1994,
          1995,
          1996,
          1997,
          1998,
          1999,
          2000,
          2001,
          2002,
          2003,
          2004,
          2005,
          2006,
          2007,
          2008,
          2009,
          2010,
          2011,
          2012,
          2013,
          2014,
          2015,
          2016,
          2017
         ],
         "xaxis": "x",
         "y": [
          8.3,
          8.3,
          7.7,
          7.2,
          6.9,
          5.9,
          5.6,
          6,
          6.3,
          6.7,
          7.4,
          7.8,
          7.6,
          7.1,
          6.3,
          5.8,
          5.2,
          5.2,
          5.2,
          5.3,
          5.1,
          4.8,
          4.5,
          3.9,
          3.7,
          3.2,
          3,
          2.8
         ],
         "yaxis": "y"
        },
        {
         "hoverlabel": {
          "namelength": 0
         },
         "hovertemplate": "Country=Lithuania<br>Year=%{x}<br>Value=%{y}",
         "legendgroup": "Country=Lithuania",
         "line": {
          "color": "#636efa",
          "dash": "solid"
         },
         "mode": "lines",
         "name": "Country=Lithuania",
         "showlegend": true,
         "type": "scattergl",
         "x": [
          1990,
          1991,
          1992,
          1993,
          1994,
          1995,
          1996,
          1997,
          1998,
          1999,
          2000,
          2001,
          2002,
          2003,
          2004,
          2005,
          2006,
          2007,
          2008,
          2009,
          2010,
          2011,
          2012,
          2013,
          2014,
          2015,
          2016,
          2017
         ],
         "xaxis": "x",
         "y": [
          41.2,
          47,
          48.9,
          43.4,
          41.7,
          40.8,
          37.8,
          33.5,
          30,
          26.5,
          24.7,
          21.2,
          20.9,
          21,
          20,
          19.7,
          20.4,
          19.4,
          19.3,
          16.1,
          13.2,
          14.1,
          14.5,
          14.2,
          13.6,
          14.1,
          13.3,
          12.2
         ],
         "yaxis": "y"
        },
        {
         "hoverlabel": {
          "namelength": 0
         },
         "hovertemplate": "Country=Latvia<br>Year=%{x}<br>Value=%{y}",
         "legendgroup": "Country=Latvia",
         "line": {
          "color": "#EF553B",
          "dash": "solid"
         },
         "mode": "lines",
         "name": "Country=Latvia",
         "showlegend": true,
         "type": "scattergl",
         "x": [
          2000,
          2001,
          2002,
          2003,
          2004,
          2005,
          2006,
          2007,
          2008,
          2009,
          2010,
          2011,
          2012,
          2013,
          2014,
          2015,
          2016,
          2017
         ],
         "xaxis": "x",
         "y": [
          24.1,
          22.4,
          21.3,
          22.4,
          21.4,
          21.6,
          23.7,
          25,
          25.5,
          22,
          18.1,
          19.7,
          20.3,
          19.9,
          19.8,
          18,
          15.4,
          14.7
         ],
         "yaxis": "y"
        },
        {
         "hoverlabel": {
          "namelength": 0
         },
         "hovertemplate": "Country=Greece<br>Year=%{x}<br>Value=%{y}",
         "legendgroup": "Country=Greece",
         "line": {
          "color": "#00cc96",
          "dash": "solid"
         },
         "mode": "lines",
         "name": "Country=Greece",
         "showlegend": true,
         "type": "scattergl",
         "x": [
          1990,
          1991,
          1992,
          1993,
          1994,
          1995,
          1996,
          1997,
          1998,
          1999,
          2000,
          2001,
          2002,
          2003,
          2004,
          2005,
          2006,
          2007,
          2008,
          2009,
          2010,
          2011,
          2012,
          2013,
          2014,
          2015,
          2016,
          2017
         ],
         "xaxis": "x",
         "y": [
          19.7,
          17.7,
          16.9,
          14.7,
          13.8,
          12.6,
          11.8,
          11.6,
          11.2,
          10.9,
          8.9,
          11.1,
          10.7,
          10.8,
          10.6,
          9.8,
          10.6,
          10.3,
          11.3,
          11.1,
          10.9,
          9.6,
          8.5,
          8.1,
          8.1,
          8.4,
          9.2,
          8.7
         ],
         "yaxis": "y"
        },
        {
         "hoverlabel": {
          "namelength": 0
         },
         "hovertemplate": "Country=Cyprus<br>Year=%{x}<br>Value=%{y}",
         "legendgroup": "Country=Cyprus",
         "line": {
          "color": "#ab63fa",
          "dash": "solid"
         },
         "mode": "lines",
         "name": "Country=Cyprus",
         "showlegend": true,
         "type": "scattergl",
         "x": [
          1990,
          1991,
          1992,
          1993,
          1994,
          1995,
          1996,
          1997,
          1998,
          1999,
          2000,
          2001,
          2002,
          2003,
          2004,
          2005,
          2006,
          2007,
          2008,
          2009,
          2010,
          2011,
          2012,
          2013,
          2014,
          2015,
          2016,
          2017
         ],
         "xaxis": "x",
         "y": [
          34,
          30.2,
          31.8,
          23.8,
          20.2,
          17.3,
          14.9,
          12.8,
          12,
          11.6,
          10,
          7.8,
          7.4,
          6.8,
          8,
          6.5,
          6.2,
          5,
          6.3,
          5.5,
          6.1,
          5.6,
          6.5,
          4.7,
          4.9,
          4.9,
          5.9,
          6.5
         ],
         "yaxis": "y"
        },
        {
         "hoverlabel": {
          "namelength": 0
         },
         "hovertemplate": "Country=United Kingdom<br>Year=%{x}<br>Value=%{y}",
         "legendgroup": "Country=United Kingdom",
         "line": {
          "color": "#FFA15A",
          "dash": "solid"
         },
         "mode": "lines",
         "name": "Country=United Kingdom",
         "showlegend": true,
         "type": "scattergl",
         "x": [
          1990,
          1991,
          1992,
          1993,
          1994,
          1995,
          1996,
          1997,
          1998,
          1999,
          2000,
          2001,
          2002,
          2003,
          2004,
          2005,
          2006,
          2007,
          2008,
          2009,
          2010,
          2011,
          2012,
          2013,
          2014,
          2015,
          2016,
          2017
         ],
         "xaxis": "x",
         "y": [
          33,
          32.7,
          31.5,
          30.4,
          28.4,
          28,
          29.4,
          30,
          30.7,
          30.6,
          28.9,
          27.7,
          26.7,
          26.6,
          26.6,
          26.1,
          26.2,
          25.7,
          25.6,
          24.6,
          23.2,
          21.1,
          19.7,
          17.3,
          15.5,
          14.4,
          13.7,
          12.6
         ],
         "yaxis": "y"
        },
        {
         "hoverlabel": {
          "namelength": 0
         },
         "hovertemplate": "Country=Germany<br>Year=%{x}<br>Value=%{y}",
         "legendgroup": "Country=Germany",
         "line": {
          "color": "#19d3f3",
          "dash": "solid"
         },
         "mode": "lines",
         "name": "Country=Germany",
         "showlegend": true,
         "type": "scattergl",
         "x": [
          2000,
          2001,
          2002,
          2003,
          2004,
          2005,
          2006,
          2007,
          2008,
          2009,
          2010,
          2011,
          2012,
          2013,
          2014,
          2015,
          2016,
          2017
         ],
         "xaxis": "x",
         "y": [
          12.9,
          12.9,
          12.3,
          11.6,
          10.9,
          10.6,
          10.1,
          9.9,
          9.8,
          9.1,
          8.9,
          8.3,
          8,
          7.8,
          7.8,
          7.8,
          9.2,
          8
         ],
         "yaxis": "y"
        },
        {
         "hoverlabel": {
          "namelength": 0
         },
         "hovertemplate": "Country=New Zealand<br>Year=%{x}<br>Value=%{y}",
         "legendgroup": "Country=New Zealand",
         "line": {
          "color": "#FF6692",
          "dash": "solid"
         },
         "mode": "lines",
         "name": "Country=New Zealand",
         "showlegend": true,
         "type": "scattergl",
         "x": [
          1990,
          1991,
          1992,
          1993,
          1994,
          1995,
          1996,
          1997,
          1998,
          1999,
          2000,
          2001,
          2002,
          2003,
          2004,
          2005,
          2006,
          2007,
          2008,
          2009,
          2010,
          2011,
          2012,
          2013,
          2014,
          2015,
          2016
         ],
         "xaxis": "x",
         "y": [
          35,
          33.9,
          33,
          32.2,
          31.4,
          33.4,
          33,
          32.8,
          29.2,
          28.9,
          28.2,
          27.5,
          25.5,
          25.9,
          27.1,
          27.2,
          28.1,
          31.4,
          33.1,
          29.6,
          29,
          25.8,
          24.6,
          21.5,
          19,
          18.5,
          16
         ],
         "yaxis": "y"
        },
        {
         "hoverlabel": {
          "namelength": 0
         },
         "hovertemplate": "Country=Portugal<br>Year=%{x}<br>Value=%{y}",
         "legendgroup": "Country=Portugal",
         "line": {
          "color": "#B6E880",
          "dash": "solid"
         },
         "mode": "lines",
         "name": "Country=Portugal",
         "showlegend": true,
         "type": "scattergl",
         "x": [
          1990,
          1991,
          1992,
          1993,
          1994,
          1995,
          1996,
          1997,
          1998,
          1999,
          2000,
          2001,
          2002,
          2003,
          2004,
          2005,
          2006,
          2007,
          2008,
          2009,
          2010,
          2011,
          2012,
          2013,
          2014,
          2015,
          2016,
          2017
         ],
         "xaxis": "x",
         "y": [
          23.7,
          23.2,
          22.4,
          22.5,
          21.2,
          20.4,
          20.6,
          20.7,
          20.5,
          20.8,
          21.6,
          20.5,
          20.9,
          19.9,
          19.5,
          18.9,
          17,
          16.8,
          15.9,
          15.2,
          14.3,
          13.1,
          12,
          10.5,
          9.1,
          8.3,
          7.9,
          7.8
         ],
         "yaxis": "y"
        },
        {
         "hoverlabel": {
          "namelength": 0
         },
         "hovertemplate": "Country=Italy<br>Year=%{x}<br>Value=%{y}",
         "legendgroup": "Country=Italy",
         "line": {
          "color": "#FF97FF",
          "dash": "solid"
         },
         "mode": "lines",
         "name": "Country=Italy",
         "showlegend": true,
         "type": "scattergl",
         "x": [
          1990,
          1991,
          1992,
          1993,
          1994,
          1995,
          1996,
          1997,
          1998,
          1999,
          2000,
          2001,
          2002,
          2003,
          2004,
          2005,
          2006,
          2007,
          2008,
          2009,
          2010,
          2011,
          2012,
          2013,
          2014,
          2015,
          2016,
          2017
         ],
         "xaxis": "x",
         "y": [
          8.7,
          8.2,
          7.6,
          7.8,
          7.3,
          7,
          6.7,
          5.5,
          6,
          6.9,
          7.2,
          6.9,
          7,
          6.9,
          7.2,
          7,
          6.8,
          6.8,
          7.2,
          6.9,
          6.7,
          6.5,
          6.4,
          5.9,
          5.6,
          5.1,
          4.8,
          4.3
         ],
         "yaxis": "y"
        },
        {
         "hoverlabel": {
          "namelength": 0
         },
         "hovertemplate": "Country=Israel<br>Year=%{x}<br>Value=%{y}",
         "legendgroup": "Country=Israel",
         "line": {
          "color": "#FECB52",
          "dash": "solid"
         },
         "mode": "lines",
         "name": "Country=Israel",
         "showlegend": true,
         "type": "scattergl",
         "x": [
          1990,
          1991,
          1992,
          1993,
          1994,
          1995,
          1996,
          1997,
          1998,
          1999,
          2000,
          2001,
          2002,
          2003,
          2004,
          2005,
          2006,
          2007,
          2008,
          2009,
          2010,
          2011,
          2012,
          2013,
          2014,
          2015,
          2016,
          2017
         ],
         "xaxis": "x",
         "y": [
          20.1,
          21.1,
          20.7,
          19.8,
          19.1,
          18.5,
          18.4,
          16.8,
          18.1,
          17.9,
          17.8,
          17.3,
          16.8,
          16.5,
          16.3,
          15.6,
          15,
          14.7,
          14.6,
          14.3,
          13.8,
          13.1,
          12.1,
          10.4,
          10.7,
          10.2,
          9.1,
          9.2
         ],
         "yaxis": "y"
        },
        {
         "hoverlabel": {
          "namelength": 0
         },
         "hovertemplate": "Country=Mexico<br>Year=%{x}<br>Value=%{y}",
         "legendgroup": "Country=Mexico",
         "line": {
          "color": "#636efa",
          "dash": "solid"
         },
         "mode": "lines",
         "name": "Country=Mexico",
         "showlegend": true,
         "type": "scattergl",
         "x": [
          2007,
          2008,
          2009,
          2011,
          2013,
          2014
         ],
         "xaxis": "x",
         "y": [
          68.7,
          72.5,
          74.5,
          74.4,
          69.6,
          66.2
         ],
         "yaxis": "y"
        },
        {
         "hoverlabel": {
          "namelength": 0
         },
         "hovertemplate": "Country=Switzerland<br>Year=%{x}<br>Value=%{y}",
         "legendgroup": "Country=Switzerland",
         "line": {
          "color": "#EF553B",
          "dash": "solid"
         },
         "mode": "lines",
         "name": "Country=Switzerland",
         "showlegend": true,
         "type": "scattergl",
         "x": [
          1990,
          1991,
          1992,
          1993,
          1994,
          1995,
          1996,
          1997,
          1998,
          1999,
          2000,
          2001,
          2002,
          2003,
          2004,
          2005,
          2006,
          2007,
          2008,
          2009,
          2010,
          2011,
          2012,
          2013,
          2014,
          2015,
          2016,
          2017
         ],
         "xaxis": "x",
         "y": [
          6.9,
          8,
          7.3,
          6.7,
          6,
          5.5,
          5.6,
          5.6,
          5.6,
          5.9,
          6,
          5.4,
          5.4,
          5.2,
          5.1,
          5.1,
          4.5,
          4.3,
          4.3,
          4.1,
          3.9,
          3.3,
          3.4,
          3,
          2.9,
          2.6,
          2.9,
          2.4
         ],
         "yaxis": "y"
        },
        {
         "hoverlabel": {
          "namelength": 0
         },
         "hovertemplate": "Country=France<br>Year=%{x}<br>Value=%{y}",
         "legendgroup": "Country=France",
         "line": {
          "color": "#00cc96",
          "dash": "solid"
         },
         "mode": "lines",
         "name": "Country=France",
         "showlegend": true,
         "type": "scattergl",
         "x": [
          1998,
          1999,
          2000,
          2001,
          2002,
          2003,
          2004,
          2005,
          2006,
          2007,
          2008,
          2009,
          2010,
          2011,
          2012,
          2013,
          2014,
          2015,
          2016,
          2017
         ],
         "xaxis": "x",
         "y": [
          10.5,
          11.3,
          12.3,
          12.7,
          12,
          11.7,
          11.7,
          11.5,
          11.5,
          11.4,
          11.5,
          11.1,
          11.1,
          10.7,
          10.7,
          10.1,
          9.9,
          9.2,
          8.5,
          8
         ],
         "yaxis": "y"
        },
        {
         "hoverlabel": {
          "namelength": 0
         },
         "hovertemplate": "Country=Slovenia<br>Year=%{x}<br>Value=%{y}",
         "legendgroup": "Country=Slovenia",
         "line": {
          "color": "#ab63fa",
          "dash": "solid"
         },
         "mode": "lines",
         "name": "Country=Slovenia",
         "showlegend": true,
         "type": "scattergl",
         "x": [
          1990,
          1991,
          1992,
          1993,
          1994,
          1995,
          1996,
          1997,
          1998,
          1999,
          2000,
          2001,
          2002,
          2003,
          2004,
          2005,
          2006,
          2007,
          2008,
          2009,
          2010,
          2011,
          2012,
          2013,
          2014,
          2015,
          2016,
          2017
         ],
         "xaxis": "x",
         "y": [
          24.5,
          21.1,
          19.3,
          16.1,
          14.3,
          13.2,
          11,
          9.2,
          8.5,
          7.8,
          7.5,
          6.7,
          6,
          5.8,
          5.3,
          6.1,
          4.7,
          5.1,
          5.1,
          5.4,
          4.9,
          5.2,
          4.5,
          4.7,
          5,
          4.5,
          4.1,
          4
         ],
         "yaxis": "y"
        },
        {
         "hoverlabel": {
          "namelength": 0
         },
         "hovertemplate": "Country=Norway<br>Year=%{x}<br>Value=%{y}",
         "legendgroup": "Country=Norway",
         "line": {
          "color": "#FFA15A",
          "dash": "solid"
         },
         "mode": "lines",
         "name": "Country=Norway",
         "showlegend": true,
         "type": "scattergl",
         "x": [
          1990,
          1991,
          1992,
          1993,
          1994,
          1995,
          1996,
          1997,
          1998,
          1999,
          2000,
          2001,
          2002,
          2003,
          2004,
          2005,
          2006,
          2007,
          2008,
          2009,
          2010,
          2011,
          2012,
          2013,
          2014,
          2015,
          2016,
          2017
         ],
         "xaxis": "x",
         "y": [
          17.1,
          16.7,
          16,
          14.9,
          14.4,
          13.5,
          13.6,
          12.7,
          12.4,
          11.7,
          11.7,
          11,
          10.1,
          9.1,
          8.2,
          8.1,
          8.7,
          9.1,
          9.3,
          9.5,
          8.4,
          7.1,
          6,
          5.7,
          5,
          4.6,
          3.9,
          3
         ],
         "yaxis": "y"
        },
        {
         "hoverlabel": {
          "namelength": 0
         },
         "hovertemplate": "Country=Luxembourg<br>Year=%{x}<br>Value=%{y}",
         "legendgroup": "Country=Luxembourg",
         "line": {
          "color": "#19d3f3",
          "dash": "solid"
         },
         "mode": "lines",
         "name": "Country=Luxembourg",
         "showlegend": true,
         "type": "scattergl",
         "x": [
          1990,
          1991,
          1992,
          1993,
          1994,
          1995,
          1996,
          1997,
          1998,
          1999,
          2000,
          2001,
          2002,
          2003,
          2004,
          2005,
          2006,
          2007,
          2008,
          2009,
          2010,
          2011,
          2012,
          2013,
          2014,
          2015,
          2016,
          2017
         ],
         "xaxis": "x",
         "y": [
          13.8,
          13.2,
          12.2,
          13.1,
          11.6,
          10.6,
          9.9,
          9.1,
          9.7,
          10.7,
          12.2,
          12.4,
          12.4,
          11.1,
          11,
          12,
          10.4,
          10.2,
          8.7,
          7.1,
          7.5,
          7.2,
          6.5,
          5.2,
          5.7,
          5.6,
          4.9,
          4.2
         ],
         "yaxis": "y"
        },
        {
         "hoverlabel": {
          "namelength": 0
         },
         "hovertemplate": "Country=Croatia<br>Year=%{x}<br>Value=%{y}",
         "legendgroup": "Country=Croatia",
         "line": {
          "color": "#FF6692",
          "dash": "solid"
         },
         "mode": "lines",
         "name": "Country=Croatia",
         "showlegend": true,
         "type": "scattergl",
         "x": [
          2001,
          2002,
          2003,
          2004,
          2005,
          2006,
          2007,
          2008,
          2009,
          2010,
          2011,
          2012,
          2013,
          2014,
          2015,
          2016,
          2017
         ],
         "xaxis": "x",
         "y": [
          16.6,
          16,
          14.9,
          14.5,
          14.8,
          14.4,
          14.3,
          14.6,
          13.5,
          12.4,
          11.9,
          11.4,
          10.6,
          10.2,
          9.6,
          9.6,
          9.3
         ],
         "yaxis": "y"
        },
        {
         "hoverlabel": {
          "namelength": 0
         },
         "hovertemplate": "Country=Iceland<br>Year=%{x}<br>Value=%{y}",
         "legendgroup": "Country=Iceland",
         "line": {
          "color": "#B6E880",
          "dash": "solid"
         },
         "mode": "lines",
         "name": "Country=Iceland",
         "showlegend": true,
         "type": "scattergl",
         "x": [
          1990,
          1991,
          1992,
          1993,
          1994,
          1995,
          1996,
          1997,
          1998,
          1999,
          2000,
          2001,
          2002,
          2003,
          2004,
          2005,
          2006,
          2007,
          2008,
          2009,
          2010,
          2011,
          2012,
          2013,
          2014,
          2015,
          2016,
          2017
         ],
         "xaxis": "x",
         "y": [
          37.7,
          34.7,
          27,
          23.2,
          23.3,
          23.1,
          21.5,
          24,
          24.7,
          24.4,
          22.9,
          19.6,
          18.5,
          16.1,
          12.5,
          14.2,
          13.6,
          14.1,
          14.5,
          14.6,
          13,
          11,
          11.4,
          7.4,
          7.6,
          8,
          6.7,
          6
         ],
         "yaxis": "y"
        },
        {
         "hoverlabel": {
          "namelength": 0
         },
         "hovertemplate": "Country=Poland<br>Year=%{x}<br>Value=%{y}",
         "legendgroup": "Country=Poland",
         "line": {
          "color": "#FF97FF",
          "dash": "solid"
         },
         "mode": "lines",
         "name": "Country=Poland",
         "showlegend": true,
         "type": "scattergl",
         "x": [
          1990,
          1991,
          1992,
          1993,
          1994,
          1995,
          1996,
          1997,
          1998,
          1999,
          2000,
          2001,
          2002,
          2003,
          2004,
          2005,
          2006,
          2007,
          2008,
          2009,
          2010,
          2011,
          2012,
          2013,
          2014,
          2015,
          2016,
          2017
         ],
         "xaxis": "x",
         "y": [
          31.6,
          32.2,
          29.3,
          27.2,
          25.4,
          22,
          21.1,
          19.5,
          18.7,
          17.5,
          17,
          15.8,
          15.2,
          14.5,
          13.8,
          13.5,
          13.9,
          14.7,
          16.2,
          16.3,
          15.3,
          14,
          14.2,
          13.7,
          13.1,
          12.3,
          12,
          11
         ],
         "yaxis": "y"
        },
        {
         "hoverlabel": {
          "namelength": 0
         },
         "hovertemplate": "Country=Sweden<br>Year=%{x}<br>Value=%{y}",
         "legendgroup": "Country=Sweden",
         "line": {
          "color": "#FECB52",
          "dash": "solid"
         },
         "mode": "lines",
         "name": "Country=Sweden",
         "showlegend": true,
         "type": "scattergl",
         "x": [
          1990,
          1991,
          1992,
          1993,
          1994,
          1995,
          1996,
          1997,
          1998,
          1999,
          2000,
          2001,
          2002,
          2003,
          2004,
          2005,
          2006,
          2007,
          2008,
          2009,
          2010,
          2011,
          2012,
          2013,
          2014,
          2015,
          2016,
          2017
         ],
         "xaxis": "x",
         "y": [
          14,
          13.1,
          11.8,
          11,
          9.6,
          8.6,
          7.7,
          7.2,
          6.5,
          6.8,
          7,
          6.6,
          6.6,
          6,
          5.8,
          5.9,
          5.9,
          5.9,
          5.9,
          5.9,
          5.9,
          5.9,
          5.3,
          5.3,
          5,
          4.5,
          4.4,
          4.3
         ],
         "yaxis": "y"
        },
        {
         "hoverlabel": {
          "namelength": 0
         },
         "hovertemplate": "Country=Finland<br>Year=%{x}<br>Value=%{y}",
         "legendgroup": "Country=Finland",
         "line": {
          "color": "#636efa",
          "dash": "solid"
         },
         "mode": "lines",
         "name": "Country=Finland",
         "showlegend": true,
         "type": "scattergl",
         "x": [
          1990,
          1991,
          1992,
          1993,
          1994,
          1995,
          1996,
          1997,
          1998,
          1999,
          2000,
          2001,
          2002,
          2003,
          2004,
          2005,
          2006,
          2007,
          2008,
          2009,
          2010,
          2011,
          2012,
          2013,
          2014,
          2015,
          2016,
          2017
         ],
         "xaxis": "x",
         "y": [
          12.4,
          12.2,
          11.7,
          10.5,
          10.1,
          9.8,
          13.6,
          9,
          9.2,
          9.6,
          10,
          10.6,
          11.2,
          10.3,
          10.6,
          10.3,
          9.4,
          9.1,
          8.6,
          8.5,
          8.4,
          7.7,
          7.5,
          7.3,
          7.2,
          6.2,
          5.5,
          4.9
         ],
         "yaxis": "y"
        },
        {
         "hoverlabel": {
          "namelength": 0
         },
         "hovertemplate": "Country=Malta<br>Year=%{x}<br>Value=%{y}",
         "legendgroup": "Country=Malta",
         "line": {
          "color": "#EF553B",
          "dash": "solid"
         },
         "mode": "lines",
         "name": "Country=Malta",
         "showlegend": true,
         "type": "scattergl",
         "x": [
          1990,
          1991,
          1992,
          1993,
          1994,
          1995,
          1996,
          1997,
          1998,
          1999,
          2000,
          2001,
          2002,
          2003,
          2004,
          2005,
          2006,
          2007,
          2008,
          2009,
          2010,
          2011,
          2012,
          2013,
          2014,
          2015,
          2016,
          2017
         ],
         "xaxis": "x",
         "y": [
          11.4,
          11.8,
          12.1,
          12.8,
          10.8,
          10.1,
          16.4,
          17.2,
          23.9,
          16.4,
          23.7,
          23.3,
          16.6,
          15.9,
          22.9,
          21.8,
          16.4,
          16.4,
          18.7,
          20,
          18.9,
          17.2,
          16.7,
          13.1,
          12.8,
          11.2,
          12.7,
          12.2
         ],
         "yaxis": "y"
        },
        {
         "hoverlabel": {
          "namelength": 0
         },
         "hovertemplate": "Country=Belgium<br>Year=%{x}<br>Value=%{y}",
         "legendgroup": "Country=Belgium",
         "line": {
          "color": "#00cc96",
          "dash": "solid"
         },
         "mode": "lines",
         "name": "Country=Belgium",
         "showlegend": true,
         "type": "scattergl",
         "x": [
          1990,
          1991,
          1992,
          1993,
          1994,
          1995,
          1996,
          1997,
          1998,
          1999,
          2000,
          2001,
          2002,
          2003,
          2004,
          2005,
          2006,
          2007,
          2008,
          2009,
          2010,
          2011,
          2012,
          2013,
          2014,
          2015,
          2016,
          2017
         ],
         "xaxis": "x",
         "y": [
          11.5,
          11.9,
          11.7,
          11,
          10.2,
          9.8,
          10.1,
          10,
          10.1,
          10.6,
          11.5,
          11.8,
          10.9,
          10.7,
          10.7,
          10.5,
          10.4,
          10.5,
          10.3,
          10.3,
          9.6,
          9.4,
          8.8,
          7.3,
          7.2,
          6.6,
          6.2,
          5.9
         ],
         "yaxis": "y"
        },
        {
         "hoverlabel": {
          "namelength": 0
         },
         "hovertemplate": "Country=Korea<br>Year=%{x}<br>Value=%{y}",
         "legendgroup": "Country=Korea",
         "line": {
          "color": "#ab63fa",
          "dash": "solid"
         },
         "mode": "lines",
         "name": "Country=Korea",
         "showlegend": true,
         "type": "scattergl",
         "x": [
          2000,
          2001,
          2002,
          2003,
          2004,
          2005,
          2006,
          2007,
          2008,
          2009,
          2010,
          2011,
          2012,
          2013,
          2014,
          2015,
          2016,
          2017
         ],
         "xaxis": "x",
         "y": [
          2.5,
          2.2,
          2.6,
          2.5,
          2.3,
          2.1,
          2.2,
          2.2,
          1.7,
          1.7,
          1.8,
          1.8,
          1.8,
          1.7,
          1.6,
          1.4,
          1.3,
          1
         ],
         "yaxis": "y"
        },
        {
         "hoverlabel": {
          "namelength": 0
         },
         "hovertemplate": "Country=Chile<br>Year=%{x}<br>Value=%{y}",
         "legendgroup": "Country=Chile",
         "line": {
          "color": "#FFA15A",
          "dash": "solid"
         },
         "mode": "lines",
         "name": "Country=Chile",
         "showlegend": true,
         "type": "scattergl",
         "x": [
          1990,
          1991,
          1992,
          1993,
          1994,
          1995,
          1996,
          1997,
          1998,
          1999,
          2000,
          2001,
          2002,
          2003,
          2005,
          2006,
          2007,
          2008,
          2009,
          2010,
          2011,
          2012,
          2013,
          2014
         ],
         "xaxis": "x",
         "y": [
          64.3,
          62.8,
          62.1,
          62.1,
          62.9,
          62.5,
          63.3,
          64.2,
          64.7,
          62.2,
          61,
          59,
          54.5,
          49.5,
          50.2,
          52.3,
          54.9,
          57,
          57.1,
          55.3,
          53.2,
          50.8,
          47.2,
          44.7
         ],
         "yaxis": "y"
        },
        {
         "hoverlabel": {
          "namelength": 0
         },
         "hovertemplate": "Country=Romania<br>Year=%{x}<br>Value=%{y}",
         "legendgroup": "Country=Romania",
         "line": {
          "color": "#19d3f3",
          "dash": "solid"
         },
         "mode": "lines",
         "name": "Country=Romania",
         "showlegend": true,
         "type": "scattergl",
         "x": [
          1990,
          1991,
          1992,
          1993,
          1994,
          1995,
          1996,
          1997,
          1998,
          1999,
          2000,
          2001,
          2002,
          2003,
          2004,
          2005,
          2006,
          2007,
          2008,
          2009,
          2010,
          2011,
          2012,
          2013,
          2014,
          2015,
          2016,
          2017
         ],
         "xaxis": "x",
         "y": [
          51.2,
          49.6,
          47.4,
          47.1,
          45.1,
          42.1,
          40.1,
          40.8,
          40.2,
          39.8,
          39,
          35.6,
          33,
          34.9,
          36.1,
          37.4,
          39.3,
          39.4,
          45,
          45.8,
          40,
          37.4,
          37.1,
          34.7,
          36.3,
          36.3,
          36.6,
          36.6
         ],
         "yaxis": "y"
        },
        {
         "hoverlabel": {
          "namelength": 0
         },
         "hovertemplate": "Country=Canada<br>Year=%{x}<br>Value=%{y}",
         "legendgroup": "Country=Canada",
         "line": {
          "color": "#FF6692",
          "dash": "solid"
         },
         "mode": "lines",
         "name": "Country=Canada",
         "showlegend": true,
         "type": "scattergl",
         "x": [
          1990,
          2000,
          2001,
          2002,
          2003,
          2004,
          2005,
          2006,
          2007,
          2008,
          2009,
          2010,
          2011,
          2012,
          2013,
          2014,
          2015,
          2016
         ],
         "xaxis": "x",
         "y": [
          26.6,
          17.3,
          16.3,
          15,
          14.5,
          13.7,
          13.4,
          13.7,
          14,
          14.3,
          14.2,
          13.5,
          12.6,
          12,
          11.1,
          10.2,
          9.4,
          8.4
         ],
         "yaxis": "y"
        },
        {
         "hoverlabel": {
          "namelength": 0
         },
         "hovertemplate": "Country=Bulgaria<br>Year=%{x}<br>Value=%{y}",
         "legendgroup": "Country=Bulgaria",
         "line": {
          "color": "#B6E880",
          "dash": "solid"
         },
         "mode": "lines",
         "name": "Country=Bulgaria",
         "showlegend": true,
         "type": "scattergl",
         "x": [
          1990,
          1991,
          1992,
          1993,
          1994,
          1995,
          1996,
          1997,
          1998,
          1999,
          2000,
          2001,
          2002,
          2003,
          2004,
          2005,
          2006,
          2007,
          2008,
          2009,
          2010,
          2011,
          2012,
          2013,
          2014,
          2015,
          2016,
          2017
         ],
         "xaxis": "x",
         "y": [
          71.1,
          70.7,
          68.5,
          65.4,
          59,
          51.9,
          49.7,
          43.7,
          43.8,
          47.8,
          45.6,
          42.8,
          40.9,
          39.8,
          41.1,
          39.3,
          41.2,
          42.1,
          44.2,
          47.5,
          42,
          41.7,
          42.5,
          42,
          41.3,
          39.4,
          38.2,
          38.2
         ],
         "yaxis": "y"
        },
        {
         "hoverlabel": {
          "namelength": 0
         },
         "hovertemplate": "Country=United States<br>Year=%{x}<br>Value=%{y}",
         "legendgroup": "Country=United States",
         "line": {
          "color": "#FF97FF",
          "dash": "solid"
         },
         "mode": "lines",
         "name": "Country=United States",
         "showlegend": true,
         "type": "scattergl",
         "x": [
          1990,
          1991,
          1992,
          1993,
          1994,
          1995,
          1996,
          1997,
          1998,
          1999,
          2000,
          2001,
          2002,
          2003,
          2004,
          2005,
          2006,
          2007,
          2008,
          2009,
          2010,
          2011,
          2012,
          2013,
          2014,
          2015,
          2016,
          2017
         ],
         "xaxis": "x",
         "y": [
          59.9,
          61.8,
          60.3,
          59,
          58.2,
          56,
          53.5,
          51.3,
          50.3,
          48.8,
          47.7,
          45,
          42.6,
          41.1,
          40.5,
          39.7,
          41.1,
          41.5,
          40.2,
          37.9,
          34.2,
          31.3,
          29.4,
          26.5,
          24.2,
          22.3,
          20.3,
          18.8
         ],
         "yaxis": "y"
        },
        {
         "hoverlabel": {
          "namelength": 0
         },
         "hovertemplate": "Country=Spain<br>Year=%{x}<br>Value=%{y}",
         "legendgroup": "Country=Spain",
         "line": {
          "color": "#FECB52",
          "dash": "solid"
         },
         "mode": "lines",
         "name": "Country=Spain",
         "showlegend": true,
         "type": "scattergl",
         "x": [
          1990,
          1991,
          1992,
          1993,
          1994,
          1995,
          1996,
          1997,
          1998,
          1999,
          2000,
          2001,
          2002,
          2003,
          2004,
          2005,
          2006,
          2007,
          2008,
          2009,
          2010,
          2011,
          2012,
          2013,
          2014,
          2015,
          2016,
          2017
         ],
         "xaxis": "x",
         "y": [
          11.8,
          10.8,
          9.9,
          9,
          8.1,
          7.5,
          7.2,
          7.6,
          7.7,
          8.4,
          8.8,
          9.6,
          9.9,
          10.6,
          10.7,
          11.4,
          12,
          12.8,
          13.3,
          11.8,
          10.6,
          9.5,
          9,
          8.4,
          8.1,
          7.7,
          7.3,
          7
         ],
         "yaxis": "y"
        },
        {
         "hoverlabel": {
          "namelength": 0
         },
         "hovertemplate": "Country=Ireland<br>Year=%{x}<br>Value=%{y}",
         "legendgroup": "Country=Ireland",
         "line": {
          "color": "#636efa",
          "dash": "solid"
         },
         "mode": "lines",
         "name": "Country=Ireland",
         "showlegend": true,
         "type": "scattergl",
         "x": [
          1990,
          1991,
          1992,
          1993,
          1994,
          1995,
          1996,
          1997,
          1998,
          1999,
          2000,
          2001,
          2002,
          2003,
          2004,
          2005,
          2006,
          2007,
          2008,
          2009,
          2010,
          2011,
          2012,
          2013,
          2014,
          2015,
          2016,
          2017
         ],
         "xaxis": "x",
         "y": [
          16.5,
          17.2,
          16.9,
          16.2,
          14.9,
          15,
          16.6,
          17.4,
          19.3,
          20.3,
          19.6,
          19.9,
          19.5,
          19.1,
          17.3,
          16.8,
          16.2,
          17.3,
          16.5,
          15.7,
          14.6,
          12.3,
          11.7,
          9.8,
          8.6,
          8.3,
          7.4,
          6.8
         ],
         "yaxis": "y"
        },
        {
         "hoverlabel": {
          "namelength": 0
         },
         "hovertemplate": "Country=Colombia<br>Year=%{x}<br>Value=%{y}",
         "legendgroup": "Country=Colombia",
         "line": {
          "color": "#EF553B",
          "dash": "solid"
         },
         "mode": "lines",
         "name": "Country=Colombia",
         "showlegend": true,
         "type": "scattergl",
         "x": [
          1998,
          1999,
          2000,
          2001,
          2002,
          2003,
          2004,
          2005,
          2006,
          2007,
          2008,
          2009,
          2010,
          2011,
          2012,
          2013,
          2014
         ],
         "xaxis": "x",
         "y": [
          76.5,
          79.6,
          79.3,
          75.9,
          72.5,
          73.6,
          75,
          74.7,
          75.6,
          76.1,
          77.1,
          74,
          70.8,
          72.4,
          75.9,
          73.1,
          71.6
         ],
         "yaxis": "y"
        },
        {
         "hoverlabel": {
          "namelength": 0
         },
         "hovertemplate": "Country=Costa Rica<br>Year=%{x}<br>Value=%{y}",
         "legendgroup": "Country=Costa Rica",
         "line": {
          "color": "#00cc96",
          "dash": "solid"
         },
         "mode": "lines",
         "name": "Country=Costa Rica",
         "showlegend": true,
         "type": "scattergl",
         "x": [
          1990,
          1991,
          1994,
          1995,
          1996,
          1997,
          1999,
          2000,
          2001,
          2002,
          2003,
          2004,
          2006,
          2007,
          2008,
          2009,
          2010,
          2011,
          2012,
          2013,
          2014
         ],
         "xaxis": "x",
         "y": [
          92.1,
          91.5,
          89.7,
          88.9,
          87,
          85.8,
          84.8,
          85.6,
          78,
          72,
          73.1,
          72.1,
          67.2,
          69.1,
          72.5,
          70,
          63.8,
          67,
          68.8,
          63,
          61.2
         ],
         "yaxis": "y"
        },
        {
         "hoverlabel": {
          "namelength": 0
         },
         "hovertemplate": "Country=Russia<br>Year=%{x}<br>Value=%{y}",
         "legendgroup": "Country=Russia",
         "line": {
          "color": "#ab63fa",
          "dash": "solid"
         },
         "mode": "lines",
         "name": "Country=Russia",
         "showlegend": true,
         "type": "scattergl",
         "x": [
          1990,
          1991,
          1992,
          1993,
          1994,
          1995,
          1996,
          1997,
          1998,
          1999,
          2000,
          2001,
          2002,
          2003,
          2004,
          2005,
          2006,
          2007,
          2008,
          2009,
          2010,
          2011,
          2012,
          2013,
          2014,
          2015
         ],
         "xaxis": "x",
         "y": [
          55,
          54.2,
          50.7,
          47.3,
          49.1,
          44.8,
          38.9,
          35.8,
          33.5,
          28.9,
          27.4,
          27.3,
          27.4,
          27.6,
          28.2,
          27.4,
          28.2,
          28.3,
          29.3,
          28.7,
          27,
          26.7,
          27.3,
          26.6,
          26,
          24
         ],
         "yaxis": "y"
        }
       ],
       "layout": {
        "height": 600,
        "legend": {
         "tracegroupgap": 0
        },
        "margin": {
         "t": 60
        },
        "template": {
         "data": {
          "bar": [
           {
            "error_x": {
             "color": "#2a3f5f"
            },
            "error_y": {
             "color": "#2a3f5f"
            },
            "marker": {
             "line": {
              "color": "#E5ECF6",
              "width": 0.5
             }
            },
            "type": "bar"
           }
          ],
          "barpolar": [
           {
            "marker": {
             "line": {
              "color": "#E5ECF6",
              "width": 0.5
             }
            },
            "type": "barpolar"
           }
          ],
          "carpet": [
           {
            "aaxis": {
             "endlinecolor": "#2a3f5f",
             "gridcolor": "white",
             "linecolor": "white",
             "minorgridcolor": "white",
             "startlinecolor": "#2a3f5f"
            },
            "baxis": {
             "endlinecolor": "#2a3f5f",
             "gridcolor": "white",
             "linecolor": "white",
             "minorgridcolor": "white",
             "startlinecolor": "#2a3f5f"
            },
            "type": "carpet"
           }
          ],
          "choropleth": [
           {
            "colorbar": {
             "outlinewidth": 0,
             "ticks": ""
            },
            "type": "choropleth"
           }
          ],
          "contour": [
           {
            "colorbar": {
             "outlinewidth": 0,
             "ticks": ""
            },
            "colorscale": [
             [
              0,
              "#0d0887"
             ],
             [
              0.1111111111111111,
              "#46039f"
             ],
             [
              0.2222222222222222,
              "#7201a8"
             ],
             [
              0.3333333333333333,
              "#9c179e"
             ],
             [
              0.4444444444444444,
              "#bd3786"
             ],
             [
              0.5555555555555556,
              "#d8576b"
             ],
             [
              0.6666666666666666,
              "#ed7953"
             ],
             [
              0.7777777777777778,
              "#fb9f3a"
             ],
             [
              0.8888888888888888,
              "#fdca26"
             ],
             [
              1,
              "#f0f921"
             ]
            ],
            "type": "contour"
           }
          ],
          "contourcarpet": [
           {
            "colorbar": {
             "outlinewidth": 0,
             "ticks": ""
            },
            "type": "contourcarpet"
           }
          ],
          "heatmap": [
           {
            "colorbar": {
             "outlinewidth": 0,
             "ticks": ""
            },
            "colorscale": [
             [
              0,
              "#0d0887"
             ],
             [
              0.1111111111111111,
              "#46039f"
             ],
             [
              0.2222222222222222,
              "#7201a8"
             ],
             [
              0.3333333333333333,
              "#9c179e"
             ],
             [
              0.4444444444444444,
              "#bd3786"
             ],
             [
              0.5555555555555556,
              "#d8576b"
             ],
             [
              0.6666666666666666,
              "#ed7953"
             ],
             [
              0.7777777777777778,
              "#fb9f3a"
             ],
             [
              0.8888888888888888,
              "#fdca26"
             ],
             [
              1,
              "#f0f921"
             ]
            ],
            "type": "heatmap"
           }
          ],
          "heatmapgl": [
           {
            "colorbar": {
             "outlinewidth": 0,
             "ticks": ""
            },
            "colorscale": [
             [
              0,
              "#0d0887"
             ],
             [
              0.1111111111111111,
              "#46039f"
             ],
             [
              0.2222222222222222,
              "#7201a8"
             ],
             [
              0.3333333333333333,
              "#9c179e"
             ],
             [
              0.4444444444444444,
              "#bd3786"
             ],
             [
              0.5555555555555556,
              "#d8576b"
             ],
             [
              0.6666666666666666,
              "#ed7953"
             ],
             [
              0.7777777777777778,
              "#fb9f3a"
             ],
             [
              0.8888888888888888,
              "#fdca26"
             ],
             [
              1,
              "#f0f921"
             ]
            ],
            "type": "heatmapgl"
           }
          ],
          "histogram": [
           {
            "marker": {
             "colorbar": {
              "outlinewidth": 0,
              "ticks": ""
             }
            },
            "type": "histogram"
           }
          ],
          "histogram2d": [
           {
            "colorbar": {
             "outlinewidth": 0,
             "ticks": ""
            },
            "colorscale": [
             [
              0,
              "#0d0887"
             ],
             [
              0.1111111111111111,
              "#46039f"
             ],
             [
              0.2222222222222222,
              "#7201a8"
             ],
             [
              0.3333333333333333,
              "#9c179e"
             ],
             [
              0.4444444444444444,
              "#bd3786"
             ],
             [
              0.5555555555555556,
              "#d8576b"
             ],
             [
              0.6666666666666666,
              "#ed7953"
             ],
             [
              0.7777777777777778,
              "#fb9f3a"
             ],
             [
              0.8888888888888888,
              "#fdca26"
             ],
             [
              1,
              "#f0f921"
             ]
            ],
            "type": "histogram2d"
           }
          ],
          "histogram2dcontour": [
           {
            "colorbar": {
             "outlinewidth": 0,
             "ticks": ""
            },
            "colorscale": [
             [
              0,
              "#0d0887"
             ],
             [
              0.1111111111111111,
              "#46039f"
             ],
             [
              0.2222222222222222,
              "#7201a8"
             ],
             [
              0.3333333333333333,
              "#9c179e"
             ],
             [
              0.4444444444444444,
              "#bd3786"
             ],
             [
              0.5555555555555556,
              "#d8576b"
             ],
             [
              0.6666666666666666,
              "#ed7953"
             ],
             [
              0.7777777777777778,
              "#fb9f3a"
             ],
             [
              0.8888888888888888,
              "#fdca26"
             ],
             [
              1,
              "#f0f921"
             ]
            ],
            "type": "histogram2dcontour"
           }
          ],
          "mesh3d": [
           {
            "colorbar": {
             "outlinewidth": 0,
             "ticks": ""
            },
            "type": "mesh3d"
           }
          ],
          "parcoords": [
           {
            "line": {
             "colorbar": {
              "outlinewidth": 0,
              "ticks": ""
             }
            },
            "type": "parcoords"
           }
          ],
          "scatter": [
           {
            "marker": {
             "colorbar": {
              "outlinewidth": 0,
              "ticks": ""
             }
            },
            "type": "scatter"
           }
          ],
          "scatter3d": [
           {
            "line": {
             "colorbar": {
              "outlinewidth": 0,
              "ticks": ""
             }
            },
            "marker": {
             "colorbar": {
              "outlinewidth": 0,
              "ticks": ""
             }
            },
            "type": "scatter3d"
           }
          ],
          "scattercarpet": [
           {
            "marker": {
             "colorbar": {
              "outlinewidth": 0,
              "ticks": ""
             }
            },
            "type": "scattercarpet"
           }
          ],
          "scattergeo": [
           {
            "marker": {
             "colorbar": {
              "outlinewidth": 0,
              "ticks": ""
             }
            },
            "type": "scattergeo"
           }
          ],
          "scattergl": [
           {
            "marker": {
             "colorbar": {
              "outlinewidth": 0,
              "ticks": ""
             }
            },
            "type": "scattergl"
           }
          ],
          "scattermapbox": [
           {
            "marker": {
             "colorbar": {
              "outlinewidth": 0,
              "ticks": ""
             }
            },
            "type": "scattermapbox"
           }
          ],
          "scatterpolar": [
           {
            "marker": {
             "colorbar": {
              "outlinewidth": 0,
              "ticks": ""
             }
            },
            "type": "scatterpolar"
           }
          ],
          "scatterpolargl": [
           {
            "marker": {
             "colorbar": {
              "outlinewidth": 0,
              "ticks": ""
             }
            },
            "type": "scatterpolargl"
           }
          ],
          "scatterternary": [
           {
            "marker": {
             "colorbar": {
              "outlinewidth": 0,
              "ticks": ""
             }
            },
            "type": "scatterternary"
           }
          ],
          "surface": [
           {
            "colorbar": {
             "outlinewidth": 0,
             "ticks": ""
            },
            "colorscale": [
             [
              0,
              "#0d0887"
             ],
             [
              0.1111111111111111,
              "#46039f"
             ],
             [
              0.2222222222222222,
              "#7201a8"
             ],
             [
              0.3333333333333333,
              "#9c179e"
             ],
             [
              0.4444444444444444,
              "#bd3786"
             ],
             [
              0.5555555555555556,
              "#d8576b"
             ],
             [
              0.6666666666666666,
              "#ed7953"
             ],
             [
              0.7777777777777778,
              "#fb9f3a"
             ],
             [
              0.8888888888888888,
              "#fdca26"
             ],
             [
              1,
              "#f0f921"
             ]
            ],
            "type": "surface"
           }
          ],
          "table": [
           {
            "cells": {
             "fill": {
              "color": "#EBF0F8"
             },
             "line": {
              "color": "white"
             }
            },
            "header": {
             "fill": {
              "color": "#C8D4E3"
             },
             "line": {
              "color": "white"
             }
            },
            "type": "table"
           }
          ]
         },
         "layout": {
          "annotationdefaults": {
           "arrowcolor": "#2a3f5f",
           "arrowhead": 0,
           "arrowwidth": 1
          },
          "colorscale": {
           "diverging": [
            [
             0,
             "#8e0152"
            ],
            [
             0.1,
             "#c51b7d"
            ],
            [
             0.2,
             "#de77ae"
            ],
            [
             0.3,
             "#f1b6da"
            ],
            [
             0.4,
             "#fde0ef"
            ],
            [
             0.5,
             "#f7f7f7"
            ],
            [
             0.6,
             "#e6f5d0"
            ],
            [
             0.7,
             "#b8e186"
            ],
            [
             0.8,
             "#7fbc41"
            ],
            [
             0.9,
             "#4d9221"
            ],
            [
             1,
             "#276419"
            ]
           ],
           "sequential": [
            [
             0,
             "#0d0887"
            ],
            [
             0.1111111111111111,
             "#46039f"
            ],
            [
             0.2222222222222222,
             "#7201a8"
            ],
            [
             0.3333333333333333,
             "#9c179e"
            ],
            [
             0.4444444444444444,
             "#bd3786"
            ],
            [
             0.5555555555555556,
             "#d8576b"
            ],
            [
             0.6666666666666666,
             "#ed7953"
            ],
            [
             0.7777777777777778,
             "#fb9f3a"
            ],
            [
             0.8888888888888888,
             "#fdca26"
            ],
            [
             1,
             "#f0f921"
            ]
           ],
           "sequentialminus": [
            [
             0,
             "#0d0887"
            ],
            [
             0.1111111111111111,
             "#46039f"
            ],
            [
             0.2222222222222222,
             "#7201a8"
            ],
            [
             0.3333333333333333,
             "#9c179e"
            ],
            [
             0.4444444444444444,
             "#bd3786"
            ],
            [
             0.5555555555555556,
             "#d8576b"
            ],
            [
             0.6666666666666666,
             "#ed7953"
            ],
            [
             0.7777777777777778,
             "#fb9f3a"
            ],
            [
             0.8888888888888888,
             "#fdca26"
            ],
            [
             1,
             "#f0f921"
            ]
           ]
          },
          "colorway": [
           "#636efa",
           "#EF553B",
           "#00cc96",
           "#ab63fa",
           "#FFA15A",
           "#19d3f3",
           "#FF6692",
           "#B6E880",
           "#FF97FF",
           "#FECB52"
          ],
          "font": {
           "color": "#2a3f5f"
          },
          "geo": {
           "bgcolor": "white",
           "lakecolor": "white",
           "landcolor": "#E5ECF6",
           "showlakes": true,
           "showland": true,
           "subunitcolor": "white"
          },
          "hoverlabel": {
           "align": "left"
          },
          "hovermode": "closest",
          "mapbox": {
           "style": "light"
          },
          "paper_bgcolor": "white",
          "plot_bgcolor": "#E5ECF6",
          "polar": {
           "angularaxis": {
            "gridcolor": "white",
            "linecolor": "white",
            "ticks": ""
           },
           "bgcolor": "#E5ECF6",
           "radialaxis": {
            "gridcolor": "white",
            "linecolor": "white",
            "ticks": ""
           }
          },
          "scene": {
           "xaxis": {
            "backgroundcolor": "#E5ECF6",
            "gridcolor": "white",
            "gridwidth": 2,
            "linecolor": "white",
            "showbackground": true,
            "ticks": "",
            "zerolinecolor": "white"
           },
           "yaxis": {
            "backgroundcolor": "#E5ECF6",
            "gridcolor": "white",
            "gridwidth": 2,
            "linecolor": "white",
            "showbackground": true,
            "ticks": "",
            "zerolinecolor": "white"
           },
           "zaxis": {
            "backgroundcolor": "#E5ECF6",
            "gridcolor": "white",
            "gridwidth": 2,
            "linecolor": "white",
            "showbackground": true,
            "ticks": "",
            "zerolinecolor": "white"
           }
          },
          "shapedefaults": {
           "line": {
            "color": "#2a3f5f"
           }
          },
          "ternary": {
           "aaxis": {
            "gridcolor": "white",
            "linecolor": "white",
            "ticks": ""
           },
           "baxis": {
            "gridcolor": "white",
            "linecolor": "white",
            "ticks": ""
           },
           "bgcolor": "#E5ECF6",
           "caxis": {
            "gridcolor": "white",
            "linecolor": "white",
            "ticks": ""
           }
          },
          "title": {
           "x": 0.05
          },
          "xaxis": {
           "automargin": true,
           "gridcolor": "white",
           "linecolor": "white",
           "ticks": "",
           "zerolinecolor": "white",
           "zerolinewidth": 2
          },
          "yaxis": {
           "automargin": true,
           "gridcolor": "white",
           "linecolor": "white",
           "ticks": "",
           "zerolinecolor": "white",
           "zerolinewidth": 2
          }
         }
        },
        "xaxis": {
         "anchor": "y",
         "domain": [
          0,
          0.98
         ],
         "title": {
          "text": "Year"
         }
        },
        "yaxis": {
         "anchor": "x",
         "domain": [
          0,
          1
         ],
         "title": {
          "text": "Value"
         }
        }
       }
      },
      "text/html": [
       "<div>\n",
       "        \n",
       "        \n",
       "            <div id=\"c2047410-adb9-4b6e-8952-e091716317bc\" class=\"plotly-graph-div\" style=\"height:600px; width:100%;\"></div>\n",
       "            <script type=\"text/javascript\">\n",
       "                require([\"plotly\"], function(Plotly) {\n",
       "                    window.PLOTLYENV=window.PLOTLYENV || {};\n",
       "                    \n",
       "                if (document.getElementById(\"c2047410-adb9-4b6e-8952-e091716317bc\")) {\n",
       "                    Plotly.newPlot(\n",
       "                        'c2047410-adb9-4b6e-8952-e091716317bc',\n",
       "                        [{\"hoverlabel\": {\"namelength\": 0}, \"hovertemplate\": \"Country=Denmark<br>Year=%{x}<br>Value=%{y}\", \"legendgroup\": \"Country=Denmark\", \"line\": {\"color\": \"#636efa\", \"dash\": \"solid\"}, \"mode\": \"lines\", \"name\": \"Country=Denmark\", \"showlegend\": true, \"type\": \"scattergl\", \"x\": [1990, 1991, 1992, 1993, 1994, 1995, 1996, 1997, 1998, 1999, 2000, 2001, 2002, 2003, 2004, 2005, 2006, 2007, 2008, 2009, 2010, 2011, 2012, 2013, 2014, 2015, 2016, 2017], \"xaxis\": \"x\", \"y\": [9.2, 9.1, 9.8, 9.2, 9.3, 8.8, 8.2, 8.8, 8.1, 8.0, 7.9, 7.6, 6.5, 6.0, 5.6, 5.6, 6.0, 5.7, 6.0, 5.5, 5.0, 4.6, 4.4, 4.2, 3.6, 3.4, 3.5, 2.8], \"yaxis\": \"y\"}, {\"hoverlabel\": {\"namelength\": 0}, \"hovertemplate\": \"Country=Estonia<br>Year=%{x}<br>Value=%{y}\", \"legendgroup\": \"Country=Estonia\", \"line\": {\"color\": \"#EF553B\", \"dash\": \"solid\"}, \"mode\": \"lines\", \"name\": \"Country=Estonia\", \"showlegend\": true, \"type\": \"scattergl\", \"x\": [1990, 1991, 1992, 1993, 1994, 1995, 1996, 1997, 1998, 1999, 2000, 2001, 2002, 2003, 2004, 2005, 2006, 2007, 2008, 2009, 2010, 2011, 2012, 2013, 2014, 2015, 2016, 2017], \"xaxis\": \"x\", \"y\": [54.9, 53.8, 50.4, 44.2, 40.4, 37.8, 35.6, 31.0, 27.4, 26.7, 26.4, 24.8, 23.0, 22.0, 22.6, 22.6, 22.9, 25.1, 23.8, 21.0, 17.5, 16.2, 15.3, 16.3, 15.6, 12.5, 10.5, 10.1], \"yaxis\": \"y\"}, {\"hoverlabel\": {\"namelength\": 0}, \"hovertemplate\": \"Country=Czech Republic<br>Year=%{x}<br>Value=%{y}\", \"legendgroup\": \"Country=Czech Republic\", \"line\": {\"color\": \"#00cc96\", \"dash\": \"solid\"}, \"mode\": \"lines\", \"name\": \"Country=Czech Republic\", \"showlegend\": true, \"type\": \"scattergl\", \"x\": [1990, 1991, 1992, 1993, 1994, 1995, 1996, 1997, 1998, 1999, 2000, 2001, 2002, 2003, 2004, 2005, 2006, 2007, 2008, 2009, 2010, 2011, 2012, 2013, 2014, 2015, 2016, 2017], \"xaxis\": \"x\", \"y\": [44.7, 46.7, 44.7, 42.8, 32.6, 24.9, 20.0, 17.9, 16.4, 15.3, 13.2, 11.5, 11.6, 11.4, 11.4, 11.0, 11.0, 11.2, 11.6, 11.9, 11.5, 11.2, 11.9, 11.7, 11.9, 11.6, 11.8, 11.8], \"yaxis\": \"y\"}, {\"hoverlabel\": {\"namelength\": 0}, \"hovertemplate\": \"Country=Japan<br>Year=%{x}<br>Value=%{y}\", \"legendgroup\": \"Country=Japan\", \"line\": {\"color\": \"#ab63fa\", \"dash\": \"solid\"}, \"mode\": \"lines\", \"name\": \"Country=Japan\", \"showlegend\": true, \"type\": \"scattergl\", \"x\": [1990, 1995, 2000, 2005, 2010, 2011, 2012, 2013, 2014, 2015, 2016, 2017], \"xaxis\": \"x\", \"y\": [3.6, 3.9, 5.4, 5.2, 4.6, 4.5, 4.4, 4.4, 4.5, 4.1, 3.8, 3.4], \"yaxis\": \"y\"}, {\"hoverlabel\": {\"namelength\": 0}, \"hovertemplate\": \"Country=Austria<br>Year=%{x}<br>Value=%{y}\", \"legendgroup\": \"Country=Austria\", \"line\": {\"color\": \"#FFA15A\", \"dash\": \"solid\"}, \"mode\": \"lines\", \"name\": \"Country=Austria\", \"showlegend\": true, \"type\": \"scattergl\", \"x\": [1990, 1991, 1992, 1993, 1994, 1995, 1996, 1997, 1998, 1999, 2000, 2001, 2002, 2003, 2004, 2005, 2006, 2007, 2008, 2009, 2010, 2011, 2012, 2013, 2014, 2015, 2016, 2017], \"xaxis\": \"x\", \"y\": [21.2, 22.8, 23.1, 22.4, 18.9, 17.4, 15.6, 14.7, 14.0, 13.1, 13.7, 13.7, 13.8, 13.2, 13.7, 12.8, 12.0, 11.2, 11.3, 10.4, 10.2, 9.1, 8.6, 8.1, 7.4, 7.6, 7.2, 6.8], \"yaxis\": \"y\"}, {\"hoverlabel\": {\"namelength\": 0}, \"hovertemplate\": \"Country=Hungary<br>Year=%{x}<br>Value=%{y}\", \"legendgroup\": \"Country=Hungary\", \"line\": {\"color\": \"#19d3f3\", \"dash\": \"solid\"}, \"mode\": \"lines\", \"name\": \"Country=Hungary\", \"showlegend\": true, \"type\": \"scattergl\", \"x\": [1990, 1991, 1992, 1993, 1994, 1995, 1996, 1997, 1998, 1999, 2000, 2001, 2002, 2003, 2004, 2005, 2006, 2007, 2008, 2009, 2010, 2011, 2012, 2013, 2014, 2015, 2016, 2017], \"xaxis\": \"x\", \"y\": [39.5, 38.2, 35.8, 34.3, 33.8, 31.4, 29.3, 27.3, 25.6, 23.2, 23.3, 21.8, 21.4, 20.6, 20.7, 20.0, 19.7, 19.4, 20.1, 19.5, 17.9, 18.0, 19.2, 21.1, 23.1, 22.8, 24.9, 23.0], \"yaxis\": \"y\"}, {\"hoverlabel\": {\"namelength\": 0}, \"hovertemplate\": \"Country=Turkey<br>Year=%{x}<br>Value=%{y}\", \"legendgroup\": \"Country=Turkey\", \"line\": {\"color\": \"#FF6692\", \"dash\": \"solid\"}, \"mode\": \"lines\", \"name\": \"Country=Turkey\", \"showlegend\": true, \"type\": \"scattergl\", \"x\": [2007, 2008, 2009, 2010, 2011, 2012, 2013, 2014], \"xaxis\": \"x\", \"y\": [37.7, 35.9, 36.8, 32.0, 31.3, 29.6, 28.0, 26.9], \"yaxis\": \"y\"}, {\"hoverlabel\": {\"namelength\": 0}, \"hovertemplate\": \"Country=Australia<br>Year=%{x}<br>Value=%{y}\", \"legendgroup\": \"Country=Australia\", \"line\": {\"color\": \"#B6E880\", \"dash\": \"solid\"}, \"mode\": \"lines\", \"name\": \"Country=Australia\", \"showlegend\": true, \"type\": \"scattergl\", \"x\": [1990, 1991, 1992, 1993, 1994, 1995, 1996, 1997, 1998, 1999, 2000, 2001, 2002, 2003, 2004, 2005, 2006, 2007, 2008, 2009, 2010, 2011, 2012, 2013, 2014, 2015], \"xaxis\": \"x\", \"y\": [22.1, 22.1, 22.0, 21.0, 20.7, 20.5, 20.2, 19.9, 19.0, 18.6, 17.8, 17.9, 17.4, 16.2, 16.2, 16.6, 16.3, 17.1, 18.4, 17.9, 16.7, 16.1, 16.1, 14.6, 12.9, 11.9], \"yaxis\": \"y\"}, {\"hoverlabel\": {\"namelength\": 0}, \"hovertemplate\": \"Country=Slovak Republic<br>Year=%{x}<br>Value=%{y}\", \"legendgroup\": \"Country=Slovak Republic\", \"line\": {\"color\": \"#FF97FF\", \"dash\": \"solid\"}, \"mode\": \"lines\", \"name\": \"Country=Slovak Republic\", \"showlegend\": true, \"type\": \"scattergl\", \"x\": [1990, 1991, 1992, 1993, 1994, 1995, 1996, 1997, 1998, 1999, 2000, 2001, 2002, 2003, 2004, 2005, 2006, 2007, 2008, 2009, 2010, 2011, 2012, 2013, 2014, 2015, 2016, 2017], \"xaxis\": \"x\", \"y\": [45.3, 49.9, 47.2, 45.5, 38.1, 32.3, 30.3, 28.4, 26.7, 25.4, 23.8, 21.2, 21.2, 20.5, 20.3, 20.3, 20.3, 20.7, 21.6, 21.9, 23.0, 22.0, 21.6, 22.1, 23.7, 24.3, 26.2, 26.7], \"yaxis\": \"y\"}, {\"hoverlabel\": {\"namelength\": 0}, \"hovertemplate\": \"Country=Netherlands<br>Year=%{x}<br>Value=%{y}\", \"legendgroup\": \"Country=Netherlands\", \"line\": {\"color\": \"#FECB52\", \"dash\": \"solid\"}, \"mode\": \"lines\", \"name\": \"Country=Netherlands\", \"showlegend\": true, \"type\": \"scattergl\", \"x\": [1990, 1991, 1992, 1993, 1994, 1995, 1996, 1997, 1998, 1999, 2000, 2001, 2002, 2003, 2004, 2005, 2006, 2007, 2008, 2009, 2010, 2011, 2012, 2013, 2014, 2015, 2016, 2017], \"xaxis\": \"x\", \"y\": [8.3, 8.3, 7.7, 7.2, 6.9, 5.9, 5.6, 6.0, 6.3, 6.7, 7.4, 7.8, 7.6, 7.1, 6.3, 5.8, 5.2, 5.2, 5.2, 5.3, 5.1, 4.8, 4.5, 3.9, 3.7, 3.2, 3.0, 2.8], \"yaxis\": \"y\"}, {\"hoverlabel\": {\"namelength\": 0}, \"hovertemplate\": \"Country=Lithuania<br>Year=%{x}<br>Value=%{y}\", \"legendgroup\": \"Country=Lithuania\", \"line\": {\"color\": \"#636efa\", \"dash\": \"solid\"}, \"mode\": \"lines\", \"name\": \"Country=Lithuania\", \"showlegend\": true, \"type\": \"scattergl\", \"x\": [1990, 1991, 1992, 1993, 1994, 1995, 1996, 1997, 1998, 1999, 2000, 2001, 2002, 2003, 2004, 2005, 2006, 2007, 2008, 2009, 2010, 2011, 2012, 2013, 2014, 2015, 2016, 2017], \"xaxis\": \"x\", \"y\": [41.2, 47.0, 48.9, 43.4, 41.7, 40.8, 37.8, 33.5, 30.0, 26.5, 24.7, 21.2, 20.9, 21.0, 20.0, 19.7, 20.4, 19.4, 19.3, 16.1, 13.2, 14.1, 14.5, 14.2, 13.6, 14.1, 13.3, 12.2], \"yaxis\": \"y\"}, {\"hoverlabel\": {\"namelength\": 0}, \"hovertemplate\": \"Country=Latvia<br>Year=%{x}<br>Value=%{y}\", \"legendgroup\": \"Country=Latvia\", \"line\": {\"color\": \"#EF553B\", \"dash\": \"solid\"}, \"mode\": \"lines\", \"name\": \"Country=Latvia\", \"showlegend\": true, \"type\": \"scattergl\", \"x\": [2000, 2001, 2002, 2003, 2004, 2005, 2006, 2007, 2008, 2009, 2010, 2011, 2012, 2013, 2014, 2015, 2016, 2017], \"xaxis\": \"x\", \"y\": [24.1, 22.4, 21.3, 22.4, 21.4, 21.6, 23.7, 25.0, 25.5, 22.0, 18.1, 19.7, 20.3, 19.9, 19.8, 18.0, 15.4, 14.7], \"yaxis\": \"y\"}, {\"hoverlabel\": {\"namelength\": 0}, \"hovertemplate\": \"Country=Greece<br>Year=%{x}<br>Value=%{y}\", \"legendgroup\": \"Country=Greece\", \"line\": {\"color\": \"#00cc96\", \"dash\": \"solid\"}, \"mode\": \"lines\", \"name\": \"Country=Greece\", \"showlegend\": true, \"type\": \"scattergl\", \"x\": [1990, 1991, 1992, 1993, 1994, 1995, 1996, 1997, 1998, 1999, 2000, 2001, 2002, 2003, 2004, 2005, 2006, 2007, 2008, 2009, 2010, 2011, 2012, 2013, 2014, 2015, 2016, 2017], \"xaxis\": \"x\", \"y\": [19.7, 17.7, 16.9, 14.7, 13.8, 12.6, 11.8, 11.6, 11.2, 10.9, 8.9, 11.1, 10.7, 10.8, 10.6, 9.8, 10.6, 10.3, 11.3, 11.1, 10.9, 9.6, 8.5, 8.1, 8.1, 8.4, 9.2, 8.7], \"yaxis\": \"y\"}, {\"hoverlabel\": {\"namelength\": 0}, \"hovertemplate\": \"Country=Cyprus<br>Year=%{x}<br>Value=%{y}\", \"legendgroup\": \"Country=Cyprus\", \"line\": {\"color\": \"#ab63fa\", \"dash\": \"solid\"}, \"mode\": \"lines\", \"name\": \"Country=Cyprus\", \"showlegend\": true, \"type\": \"scattergl\", \"x\": [1990, 1991, 1992, 1993, 1994, 1995, 1996, 1997, 1998, 1999, 2000, 2001, 2002, 2003, 2004, 2005, 2006, 2007, 2008, 2009, 2010, 2011, 2012, 2013, 2014, 2015, 2016, 2017], \"xaxis\": \"x\", \"y\": [34.0, 30.2, 31.8, 23.8, 20.2, 17.3, 14.9, 12.8, 12.0, 11.6, 10.0, 7.8, 7.4, 6.8, 8.0, 6.5, 6.2, 5.0, 6.3, 5.5, 6.1, 5.6, 6.5, 4.7, 4.9, 4.9, 5.9, 6.5], \"yaxis\": \"y\"}, {\"hoverlabel\": {\"namelength\": 0}, \"hovertemplate\": \"Country=United Kingdom<br>Year=%{x}<br>Value=%{y}\", \"legendgroup\": \"Country=United Kingdom\", \"line\": {\"color\": \"#FFA15A\", \"dash\": \"solid\"}, \"mode\": \"lines\", \"name\": \"Country=United Kingdom\", \"showlegend\": true, \"type\": \"scattergl\", \"x\": [1990, 1991, 1992, 1993, 1994, 1995, 1996, 1997, 1998, 1999, 2000, 2001, 2002, 2003, 2004, 2005, 2006, 2007, 2008, 2009, 2010, 2011, 2012, 2013, 2014, 2015, 2016, 2017], \"xaxis\": \"x\", \"y\": [33.0, 32.7, 31.5, 30.4, 28.4, 28.0, 29.4, 30.0, 30.7, 30.6, 28.9, 27.7, 26.7, 26.6, 26.6, 26.1, 26.2, 25.7, 25.6, 24.6, 23.2, 21.1, 19.7, 17.3, 15.5, 14.4, 13.7, 12.6], \"yaxis\": \"y\"}, {\"hoverlabel\": {\"namelength\": 0}, \"hovertemplate\": \"Country=Germany<br>Year=%{x}<br>Value=%{y}\", \"legendgroup\": \"Country=Germany\", \"line\": {\"color\": \"#19d3f3\", \"dash\": \"solid\"}, \"mode\": \"lines\", \"name\": \"Country=Germany\", \"showlegend\": true, \"type\": \"scattergl\", \"x\": [2000, 2001, 2002, 2003, 2004, 2005, 2006, 2007, 2008, 2009, 2010, 2011, 2012, 2013, 2014, 2015, 2016, 2017], \"xaxis\": \"x\", \"y\": [12.9, 12.9, 12.3, 11.6, 10.9, 10.6, 10.1, 9.9, 9.8, 9.1, 8.9, 8.3, 8.0, 7.8, 7.8, 7.8, 9.2, 8.0], \"yaxis\": \"y\"}, {\"hoverlabel\": {\"namelength\": 0}, \"hovertemplate\": \"Country=New Zealand<br>Year=%{x}<br>Value=%{y}\", \"legendgroup\": \"Country=New Zealand\", \"line\": {\"color\": \"#FF6692\", \"dash\": \"solid\"}, \"mode\": \"lines\", \"name\": \"Country=New Zealand\", \"showlegend\": true, \"type\": \"scattergl\", \"x\": [1990, 1991, 1992, 1993, 1994, 1995, 1996, 1997, 1998, 1999, 2000, 2001, 2002, 2003, 2004, 2005, 2006, 2007, 2008, 2009, 2010, 2011, 2012, 2013, 2014, 2015, 2016], \"xaxis\": \"x\", \"y\": [35.0, 33.9, 33.0, 32.2, 31.4, 33.4, 33.0, 32.8, 29.2, 28.9, 28.2, 27.5, 25.5, 25.9, 27.1, 27.2, 28.1, 31.4, 33.1, 29.6, 29.0, 25.8, 24.6, 21.5, 19.0, 18.5, 16.0], \"yaxis\": \"y\"}, {\"hoverlabel\": {\"namelength\": 0}, \"hovertemplate\": \"Country=Portugal<br>Year=%{x}<br>Value=%{y}\", \"legendgroup\": \"Country=Portugal\", \"line\": {\"color\": \"#B6E880\", \"dash\": \"solid\"}, \"mode\": \"lines\", \"name\": \"Country=Portugal\", \"showlegend\": true, \"type\": \"scattergl\", \"x\": [1990, 1991, 1992, 1993, 1994, 1995, 1996, 1997, 1998, 1999, 2000, 2001, 2002, 2003, 2004, 2005, 2006, 2007, 2008, 2009, 2010, 2011, 2012, 2013, 2014, 2015, 2016, 2017], \"xaxis\": \"x\", \"y\": [23.7, 23.2, 22.4, 22.5, 21.2, 20.4, 20.6, 20.7, 20.5, 20.8, 21.6, 20.5, 20.9, 19.9, 19.5, 18.9, 17.0, 16.8, 15.9, 15.2, 14.3, 13.1, 12.0, 10.5, 9.1, 8.3, 7.9, 7.8], \"yaxis\": \"y\"}, {\"hoverlabel\": {\"namelength\": 0}, \"hovertemplate\": \"Country=Italy<br>Year=%{x}<br>Value=%{y}\", \"legendgroup\": \"Country=Italy\", \"line\": {\"color\": \"#FF97FF\", \"dash\": \"solid\"}, \"mode\": \"lines\", \"name\": \"Country=Italy\", \"showlegend\": true, \"type\": \"scattergl\", \"x\": [1990, 1991, 1992, 1993, 1994, 1995, 1996, 1997, 1998, 1999, 2000, 2001, 2002, 2003, 2004, 2005, 2006, 2007, 2008, 2009, 2010, 2011, 2012, 2013, 2014, 2015, 2016, 2017], \"xaxis\": \"x\", \"y\": [8.7, 8.2, 7.6, 7.8, 7.3, 7.0, 6.7, 5.5, 6.0, 6.9, 7.2, 6.9, 7.0, 6.9, 7.2, 7.0, 6.8, 6.8, 7.2, 6.9, 6.7, 6.5, 6.4, 5.9, 5.6, 5.1, 4.8, 4.3], \"yaxis\": \"y\"}, {\"hoverlabel\": {\"namelength\": 0}, \"hovertemplate\": \"Country=Israel<br>Year=%{x}<br>Value=%{y}\", \"legendgroup\": \"Country=Israel\", \"line\": {\"color\": \"#FECB52\", \"dash\": \"solid\"}, \"mode\": \"lines\", \"name\": \"Country=Israel\", \"showlegend\": true, \"type\": \"scattergl\", \"x\": [1990, 1991, 1992, 1993, 1994, 1995, 1996, 1997, 1998, 1999, 2000, 2001, 2002, 2003, 2004, 2005, 2006, 2007, 2008, 2009, 2010, 2011, 2012, 2013, 2014, 2015, 2016, 2017], \"xaxis\": \"x\", \"y\": [20.1, 21.1, 20.7, 19.8, 19.1, 18.5, 18.4, 16.8, 18.1, 17.9, 17.8, 17.3, 16.8, 16.5, 16.3, 15.6, 15.0, 14.7, 14.6, 14.3, 13.8, 13.1, 12.1, 10.4, 10.7, 10.2, 9.1, 9.2], \"yaxis\": \"y\"}, {\"hoverlabel\": {\"namelength\": 0}, \"hovertemplate\": \"Country=Mexico<br>Year=%{x}<br>Value=%{y}\", \"legendgroup\": \"Country=Mexico\", \"line\": {\"color\": \"#636efa\", \"dash\": \"solid\"}, \"mode\": \"lines\", \"name\": \"Country=Mexico\", \"showlegend\": true, \"type\": \"scattergl\", \"x\": [2007, 2008, 2009, 2011, 2013, 2014], \"xaxis\": \"x\", \"y\": [68.7, 72.5, 74.5, 74.4, 69.6, 66.2], \"yaxis\": \"y\"}, {\"hoverlabel\": {\"namelength\": 0}, \"hovertemplate\": \"Country=Switzerland<br>Year=%{x}<br>Value=%{y}\", \"legendgroup\": \"Country=Switzerland\", \"line\": {\"color\": \"#EF553B\", \"dash\": \"solid\"}, \"mode\": \"lines\", \"name\": \"Country=Switzerland\", \"showlegend\": true, \"type\": \"scattergl\", \"x\": [1990, 1991, 1992, 1993, 1994, 1995, 1996, 1997, 1998, 1999, 2000, 2001, 2002, 2003, 2004, 2005, 2006, 2007, 2008, 2009, 2010, 2011, 2012, 2013, 2014, 2015, 2016, 2017], \"xaxis\": \"x\", \"y\": [6.9, 8.0, 7.3, 6.7, 6.0, 5.5, 5.6, 5.6, 5.6, 5.9, 6.0, 5.4, 5.4, 5.2, 5.1, 5.1, 4.5, 4.3, 4.3, 4.1, 3.9, 3.3, 3.4, 3.0, 2.9, 2.6, 2.9, 2.4], \"yaxis\": \"y\"}, {\"hoverlabel\": {\"namelength\": 0}, \"hovertemplate\": \"Country=France<br>Year=%{x}<br>Value=%{y}\", \"legendgroup\": \"Country=France\", \"line\": {\"color\": \"#00cc96\", \"dash\": \"solid\"}, \"mode\": \"lines\", \"name\": \"Country=France\", \"showlegend\": true, \"type\": \"scattergl\", \"x\": [1998, 1999, 2000, 2001, 2002, 2003, 2004, 2005, 2006, 2007, 2008, 2009, 2010, 2011, 2012, 2013, 2014, 2015, 2016, 2017], \"xaxis\": \"x\", \"y\": [10.5, 11.3, 12.3, 12.7, 12.0, 11.7, 11.7, 11.5, 11.5, 11.4, 11.5, 11.1, 11.1, 10.7, 10.7, 10.1, 9.9, 9.2, 8.5, 8.0], \"yaxis\": \"y\"}, {\"hoverlabel\": {\"namelength\": 0}, \"hovertemplate\": \"Country=Slovenia<br>Year=%{x}<br>Value=%{y}\", \"legendgroup\": \"Country=Slovenia\", \"line\": {\"color\": \"#ab63fa\", \"dash\": \"solid\"}, \"mode\": \"lines\", \"name\": \"Country=Slovenia\", \"showlegend\": true, \"type\": \"scattergl\", \"x\": [1990, 1991, 1992, 1993, 1994, 1995, 1996, 1997, 1998, 1999, 2000, 2001, 2002, 2003, 2004, 2005, 2006, 2007, 2008, 2009, 2010, 2011, 2012, 2013, 2014, 2015, 2016, 2017], \"xaxis\": \"x\", \"y\": [24.5, 21.1, 19.3, 16.1, 14.3, 13.2, 11.0, 9.2, 8.5, 7.8, 7.5, 6.7, 6.0, 5.8, 5.3, 6.1, 4.7, 5.1, 5.1, 5.4, 4.9, 5.2, 4.5, 4.7, 5.0, 4.5, 4.1, 4.0], \"yaxis\": \"y\"}, {\"hoverlabel\": {\"namelength\": 0}, \"hovertemplate\": \"Country=Norway<br>Year=%{x}<br>Value=%{y}\", \"legendgroup\": \"Country=Norway\", \"line\": {\"color\": \"#FFA15A\", \"dash\": \"solid\"}, \"mode\": \"lines\", \"name\": \"Country=Norway\", \"showlegend\": true, \"type\": \"scattergl\", \"x\": [1990, 1991, 1992, 1993, 1994, 1995, 1996, 1997, 1998, 1999, 2000, 2001, 2002, 2003, 2004, 2005, 2006, 2007, 2008, 2009, 2010, 2011, 2012, 2013, 2014, 2015, 2016, 2017], \"xaxis\": \"x\", \"y\": [17.1, 16.7, 16.0, 14.9, 14.4, 13.5, 13.6, 12.7, 12.4, 11.7, 11.7, 11.0, 10.1, 9.1, 8.2, 8.1, 8.7, 9.1, 9.3, 9.5, 8.4, 7.1, 6.0, 5.7, 5.0, 4.6, 3.9, 3.0], \"yaxis\": \"y\"}, {\"hoverlabel\": {\"namelength\": 0}, \"hovertemplate\": \"Country=Luxembourg<br>Year=%{x}<br>Value=%{y}\", \"legendgroup\": \"Country=Luxembourg\", \"line\": {\"color\": \"#19d3f3\", \"dash\": \"solid\"}, \"mode\": \"lines\", \"name\": \"Country=Luxembourg\", \"showlegend\": true, \"type\": \"scattergl\", \"x\": [1990, 1991, 1992, 1993, 1994, 1995, 1996, 1997, 1998, 1999, 2000, 2001, 2002, 2003, 2004, 2005, 2006, 2007, 2008, 2009, 2010, 2011, 2012, 2013, 2014, 2015, 2016, 2017], \"xaxis\": \"x\", \"y\": [13.8, 13.2, 12.2, 13.1, 11.6, 10.6, 9.9, 9.1, 9.7, 10.7, 12.2, 12.4, 12.4, 11.1, 11.0, 12.0, 10.4, 10.2, 8.7, 7.1, 7.5, 7.2, 6.5, 5.2, 5.7, 5.6, 4.9, 4.2], \"yaxis\": \"y\"}, {\"hoverlabel\": {\"namelength\": 0}, \"hovertemplate\": \"Country=Croatia<br>Year=%{x}<br>Value=%{y}\", \"legendgroup\": \"Country=Croatia\", \"line\": {\"color\": \"#FF6692\", \"dash\": \"solid\"}, \"mode\": \"lines\", \"name\": \"Country=Croatia\", \"showlegend\": true, \"type\": \"scattergl\", \"x\": [2001, 2002, 2003, 2004, 2005, 2006, 2007, 2008, 2009, 2010, 2011, 2012, 2013, 2014, 2015, 2016, 2017], \"xaxis\": \"x\", \"y\": [16.6, 16.0, 14.9, 14.5, 14.8, 14.4, 14.3, 14.6, 13.5, 12.4, 11.9, 11.4, 10.6, 10.2, 9.6, 9.6, 9.3], \"yaxis\": \"y\"}, {\"hoverlabel\": {\"namelength\": 0}, \"hovertemplate\": \"Country=Iceland<br>Year=%{x}<br>Value=%{y}\", \"legendgroup\": \"Country=Iceland\", \"line\": {\"color\": \"#B6E880\", \"dash\": \"solid\"}, \"mode\": \"lines\", \"name\": \"Country=Iceland\", \"showlegend\": true, \"type\": \"scattergl\", \"x\": [1990, 1991, 1992, 1993, 1994, 1995, 1996, 1997, 1998, 1999, 2000, 2001, 2002, 2003, 2004, 2005, 2006, 2007, 2008, 2009, 2010, 2011, 2012, 2013, 2014, 2015, 2016, 2017], \"xaxis\": \"x\", \"y\": [37.7, 34.7, 27.0, 23.2, 23.3, 23.1, 21.5, 24.0, 24.7, 24.4, 22.9, 19.6, 18.5, 16.1, 12.5, 14.2, 13.6, 14.1, 14.5, 14.6, 13.0, 11.0, 11.4, 7.4, 7.6, 8.0, 6.7, 6.0], \"yaxis\": \"y\"}, {\"hoverlabel\": {\"namelength\": 0}, \"hovertemplate\": \"Country=Poland<br>Year=%{x}<br>Value=%{y}\", \"legendgroup\": \"Country=Poland\", \"line\": {\"color\": \"#FF97FF\", \"dash\": \"solid\"}, \"mode\": \"lines\", \"name\": \"Country=Poland\", \"showlegend\": true, \"type\": \"scattergl\", \"x\": [1990, 1991, 1992, 1993, 1994, 1995, 1996, 1997, 1998, 1999, 2000, 2001, 2002, 2003, 2004, 2005, 2006, 2007, 2008, 2009, 2010, 2011, 2012, 2013, 2014, 2015, 2016, 2017], \"xaxis\": \"x\", \"y\": [31.6, 32.2, 29.3, 27.2, 25.4, 22.0, 21.1, 19.5, 18.7, 17.5, 17.0, 15.8, 15.2, 14.5, 13.8, 13.5, 13.9, 14.7, 16.2, 16.3, 15.3, 14.0, 14.2, 13.7, 13.1, 12.3, 12.0, 11.0], \"yaxis\": \"y\"}, {\"hoverlabel\": {\"namelength\": 0}, \"hovertemplate\": \"Country=Sweden<br>Year=%{x}<br>Value=%{y}\", \"legendgroup\": \"Country=Sweden\", \"line\": {\"color\": \"#FECB52\", \"dash\": \"solid\"}, \"mode\": \"lines\", \"name\": \"Country=Sweden\", \"showlegend\": true, \"type\": \"scattergl\", \"x\": [1990, 1991, 1992, 1993, 1994, 1995, 1996, 1997, 1998, 1999, 2000, 2001, 2002, 2003, 2004, 2005, 2006, 2007, 2008, 2009, 2010, 2011, 2012, 2013, 2014, 2015, 2016, 2017], \"xaxis\": \"x\", \"y\": [14.0, 13.1, 11.8, 11.0, 9.6, 8.6, 7.7, 7.2, 6.5, 6.8, 7.0, 6.6, 6.6, 6.0, 5.8, 5.9, 5.9, 5.9, 5.9, 5.9, 5.9, 5.9, 5.3, 5.3, 5.0, 4.5, 4.4, 4.3], \"yaxis\": \"y\"}, {\"hoverlabel\": {\"namelength\": 0}, \"hovertemplate\": \"Country=Finland<br>Year=%{x}<br>Value=%{y}\", \"legendgroup\": \"Country=Finland\", \"line\": {\"color\": \"#636efa\", \"dash\": \"solid\"}, \"mode\": \"lines\", \"name\": \"Country=Finland\", \"showlegend\": true, \"type\": \"scattergl\", \"x\": [1990, 1991, 1992, 1993, 1994, 1995, 1996, 1997, 1998, 1999, 2000, 2001, 2002, 2003, 2004, 2005, 2006, 2007, 2008, 2009, 2010, 2011, 2012, 2013, 2014, 2015, 2016, 2017], \"xaxis\": \"x\", \"y\": [12.4, 12.2, 11.7, 10.5, 10.1, 9.8, 13.6, 9.0, 9.2, 9.6, 10.0, 10.6, 11.2, 10.3, 10.6, 10.3, 9.4, 9.1, 8.6, 8.5, 8.4, 7.7, 7.5, 7.3, 7.2, 6.2, 5.5, 4.9], \"yaxis\": \"y\"}, {\"hoverlabel\": {\"namelength\": 0}, \"hovertemplate\": \"Country=Malta<br>Year=%{x}<br>Value=%{y}\", \"legendgroup\": \"Country=Malta\", \"line\": {\"color\": \"#EF553B\", \"dash\": \"solid\"}, \"mode\": \"lines\", \"name\": \"Country=Malta\", \"showlegend\": true, \"type\": \"scattergl\", \"x\": [1990, 1991, 1992, 1993, 1994, 1995, 1996, 1997, 1998, 1999, 2000, 2001, 2002, 2003, 2004, 2005, 2006, 2007, 2008, 2009, 2010, 2011, 2012, 2013, 2014, 2015, 2016, 2017], \"xaxis\": \"x\", \"y\": [11.4, 11.8, 12.1, 12.8, 10.8, 10.1, 16.4, 17.2, 23.9, 16.4, 23.7, 23.3, 16.6, 15.9, 22.9, 21.8, 16.4, 16.4, 18.7, 20.0, 18.9, 17.2, 16.7, 13.1, 12.8, 11.2, 12.7, 12.2], \"yaxis\": \"y\"}, {\"hoverlabel\": {\"namelength\": 0}, \"hovertemplate\": \"Country=Belgium<br>Year=%{x}<br>Value=%{y}\", \"legendgroup\": \"Country=Belgium\", \"line\": {\"color\": \"#00cc96\", \"dash\": \"solid\"}, \"mode\": \"lines\", \"name\": \"Country=Belgium\", \"showlegend\": true, \"type\": \"scattergl\", \"x\": [1990, 1991, 1992, 1993, 1994, 1995, 1996, 1997, 1998, 1999, 2000, 2001, 2002, 2003, 2004, 2005, 2006, 2007, 2008, 2009, 2010, 2011, 2012, 2013, 2014, 2015, 2016, 2017], \"xaxis\": \"x\", \"y\": [11.5, 11.9, 11.7, 11.0, 10.2, 9.8, 10.1, 10.0, 10.1, 10.6, 11.5, 11.8, 10.9, 10.7, 10.7, 10.5, 10.4, 10.5, 10.3, 10.3, 9.6, 9.4, 8.8, 7.3, 7.2, 6.6, 6.2, 5.9], \"yaxis\": \"y\"}, {\"hoverlabel\": {\"namelength\": 0}, \"hovertemplate\": \"Country=Korea<br>Year=%{x}<br>Value=%{y}\", \"legendgroup\": \"Country=Korea\", \"line\": {\"color\": \"#ab63fa\", \"dash\": \"solid\"}, \"mode\": \"lines\", \"name\": \"Country=Korea\", \"showlegend\": true, \"type\": \"scattergl\", \"x\": [2000, 2001, 2002, 2003, 2004, 2005, 2006, 2007, 2008, 2009, 2010, 2011, 2012, 2013, 2014, 2015, 2016, 2017], \"xaxis\": \"x\", \"y\": [2.5, 2.2, 2.6, 2.5, 2.3, 2.1, 2.2, 2.2, 1.7, 1.7, 1.8, 1.8, 1.8, 1.7, 1.6, 1.4, 1.3, 1.0], \"yaxis\": \"y\"}, {\"hoverlabel\": {\"namelength\": 0}, \"hovertemplate\": \"Country=Chile<br>Year=%{x}<br>Value=%{y}\", \"legendgroup\": \"Country=Chile\", \"line\": {\"color\": \"#FFA15A\", \"dash\": \"solid\"}, \"mode\": \"lines\", \"name\": \"Country=Chile\", \"showlegend\": true, \"type\": \"scattergl\", \"x\": [1990, 1991, 1992, 1993, 1994, 1995, 1996, 1997, 1998, 1999, 2000, 2001, 2002, 2003, 2005, 2006, 2007, 2008, 2009, 2010, 2011, 2012, 2013, 2014], \"xaxis\": \"x\", \"y\": [64.3, 62.8, 62.1, 62.1, 62.9, 62.5, 63.3, 64.2, 64.7, 62.2, 61.0, 59.0, 54.5, 49.5, 50.2, 52.3, 54.9, 57.0, 57.1, 55.3, 53.2, 50.8, 47.2, 44.7], \"yaxis\": \"y\"}, {\"hoverlabel\": {\"namelength\": 0}, \"hovertemplate\": \"Country=Romania<br>Year=%{x}<br>Value=%{y}\", \"legendgroup\": \"Country=Romania\", \"line\": {\"color\": \"#19d3f3\", \"dash\": \"solid\"}, \"mode\": \"lines\", \"name\": \"Country=Romania\", \"showlegend\": true, \"type\": \"scattergl\", \"x\": [1990, 1991, 1992, 1993, 1994, 1995, 1996, 1997, 1998, 1999, 2000, 2001, 2002, 2003, 2004, 2005, 2006, 2007, 2008, 2009, 2010, 2011, 2012, 2013, 2014, 2015, 2016, 2017], \"xaxis\": \"x\", \"y\": [51.2, 49.6, 47.4, 47.1, 45.1, 42.1, 40.1, 40.8, 40.2, 39.8, 39.0, 35.6, 33.0, 34.9, 36.1, 37.4, 39.3, 39.4, 45.0, 45.8, 40.0, 37.4, 37.1, 34.7, 36.3, 36.3, 36.6, 36.6], \"yaxis\": \"y\"}, {\"hoverlabel\": {\"namelength\": 0}, \"hovertemplate\": \"Country=Canada<br>Year=%{x}<br>Value=%{y}\", \"legendgroup\": \"Country=Canada\", \"line\": {\"color\": \"#FF6692\", \"dash\": \"solid\"}, \"mode\": \"lines\", \"name\": \"Country=Canada\", \"showlegend\": true, \"type\": \"scattergl\", \"x\": [1990, 2000, 2001, 2002, 2003, 2004, 2005, 2006, 2007, 2008, 2009, 2010, 2011, 2012, 2013, 2014, 2015, 2016], \"xaxis\": \"x\", \"y\": [26.6, 17.3, 16.3, 15.0, 14.5, 13.7, 13.4, 13.7, 14.0, 14.3, 14.2, 13.5, 12.6, 12.0, 11.1, 10.2, 9.4, 8.4], \"yaxis\": \"y\"}, {\"hoverlabel\": {\"namelength\": 0}, \"hovertemplate\": \"Country=Bulgaria<br>Year=%{x}<br>Value=%{y}\", \"legendgroup\": \"Country=Bulgaria\", \"line\": {\"color\": \"#B6E880\", \"dash\": \"solid\"}, \"mode\": \"lines\", \"name\": \"Country=Bulgaria\", \"showlegend\": true, \"type\": \"scattergl\", \"x\": [1990, 1991, 1992, 1993, 1994, 1995, 1996, 1997, 1998, 1999, 2000, 2001, 2002, 2003, 2004, 2005, 2006, 2007, 2008, 2009, 2010, 2011, 2012, 2013, 2014, 2015, 2016, 2017], \"xaxis\": \"x\", \"y\": [71.1, 70.7, 68.5, 65.4, 59.0, 51.9, 49.7, 43.7, 43.8, 47.8, 45.6, 42.8, 40.9, 39.8, 41.1, 39.3, 41.2, 42.1, 44.2, 47.5, 42.0, 41.7, 42.5, 42.0, 41.3, 39.4, 38.2, 38.2], \"yaxis\": \"y\"}, {\"hoverlabel\": {\"namelength\": 0}, \"hovertemplate\": \"Country=United States<br>Year=%{x}<br>Value=%{y}\", \"legendgroup\": \"Country=United States\", \"line\": {\"color\": \"#FF97FF\", \"dash\": \"solid\"}, \"mode\": \"lines\", \"name\": \"Country=United States\", \"showlegend\": true, \"type\": \"scattergl\", \"x\": [1990, 1991, 1992, 1993, 1994, 1995, 1996, 1997, 1998, 1999, 2000, 2001, 2002, 2003, 2004, 2005, 2006, 2007, 2008, 2009, 2010, 2011, 2012, 2013, 2014, 2015, 2016, 2017], \"xaxis\": \"x\", \"y\": [59.9, 61.8, 60.3, 59.0, 58.2, 56.0, 53.5, 51.3, 50.3, 48.8, 47.7, 45.0, 42.6, 41.1, 40.5, 39.7, 41.1, 41.5, 40.2, 37.9, 34.2, 31.3, 29.4, 26.5, 24.2, 22.3, 20.3, 18.8], \"yaxis\": \"y\"}, {\"hoverlabel\": {\"namelength\": 0}, \"hovertemplate\": \"Country=Spain<br>Year=%{x}<br>Value=%{y}\", \"legendgroup\": \"Country=Spain\", \"line\": {\"color\": \"#FECB52\", \"dash\": \"solid\"}, \"mode\": \"lines\", \"name\": \"Country=Spain\", \"showlegend\": true, \"type\": \"scattergl\", \"x\": [1990, 1991, 1992, 1993, 1994, 1995, 1996, 1997, 1998, 1999, 2000, 2001, 2002, 2003, 2004, 2005, 2006, 2007, 2008, 2009, 2010, 2011, 2012, 2013, 2014, 2015, 2016, 2017], \"xaxis\": \"x\", \"y\": [11.8, 10.8, 9.9, 9.0, 8.1, 7.5, 7.2, 7.6, 7.7, 8.4, 8.8, 9.6, 9.9, 10.6, 10.7, 11.4, 12.0, 12.8, 13.3, 11.8, 10.6, 9.5, 9.0, 8.4, 8.1, 7.7, 7.3, 7.0], \"yaxis\": \"y\"}, {\"hoverlabel\": {\"namelength\": 0}, \"hovertemplate\": \"Country=Ireland<br>Year=%{x}<br>Value=%{y}\", \"legendgroup\": \"Country=Ireland\", \"line\": {\"color\": \"#636efa\", \"dash\": \"solid\"}, \"mode\": \"lines\", \"name\": \"Country=Ireland\", \"showlegend\": true, \"type\": \"scattergl\", \"x\": [1990, 1991, 1992, 1993, 1994, 1995, 1996, 1997, 1998, 1999, 2000, 2001, 2002, 2003, 2004, 2005, 2006, 2007, 2008, 2009, 2010, 2011, 2012, 2013, 2014, 2015, 2016, 2017], \"xaxis\": \"x\", \"y\": [16.5, 17.2, 16.9, 16.2, 14.9, 15.0, 16.6, 17.4, 19.3, 20.3, 19.6, 19.9, 19.5, 19.1, 17.3, 16.8, 16.2, 17.3, 16.5, 15.7, 14.6, 12.3, 11.7, 9.8, 8.6, 8.3, 7.4, 6.8], \"yaxis\": \"y\"}, {\"hoverlabel\": {\"namelength\": 0}, \"hovertemplate\": \"Country=Colombia<br>Year=%{x}<br>Value=%{y}\", \"legendgroup\": \"Country=Colombia\", \"line\": {\"color\": \"#EF553B\", \"dash\": \"solid\"}, \"mode\": \"lines\", \"name\": \"Country=Colombia\", \"showlegend\": true, \"type\": \"scattergl\", \"x\": [1998, 1999, 2000, 2001, 2002, 2003, 2004, 2005, 2006, 2007, 2008, 2009, 2010, 2011, 2012, 2013, 2014], \"xaxis\": \"x\", \"y\": [76.5, 79.6, 79.3, 75.9, 72.5, 73.6, 75.0, 74.7, 75.6, 76.1, 77.1, 74.0, 70.8, 72.4, 75.9, 73.1, 71.6], \"yaxis\": \"y\"}, {\"hoverlabel\": {\"namelength\": 0}, \"hovertemplate\": \"Country=Costa Rica<br>Year=%{x}<br>Value=%{y}\", \"legendgroup\": \"Country=Costa Rica\", \"line\": {\"color\": \"#00cc96\", \"dash\": \"solid\"}, \"mode\": \"lines\", \"name\": \"Country=Costa Rica\", \"showlegend\": true, \"type\": \"scattergl\", \"x\": [1990, 1991, 1994, 1995, 1996, 1997, 1999, 2000, 2001, 2002, 2003, 2004, 2006, 2007, 2008, 2009, 2010, 2011, 2012, 2013, 2014], \"xaxis\": \"x\", \"y\": [92.1, 91.5, 89.7, 88.9, 87.0, 85.8, 84.8, 85.6, 78.0, 72.0, 73.1, 72.1, 67.2, 69.1, 72.5, 70.0, 63.8, 67.0, 68.8, 63.0, 61.2], \"yaxis\": \"y\"}, {\"hoverlabel\": {\"namelength\": 0}, \"hovertemplate\": \"Country=Russia<br>Year=%{x}<br>Value=%{y}\", \"legendgroup\": \"Country=Russia\", \"line\": {\"color\": \"#ab63fa\", \"dash\": \"solid\"}, \"mode\": \"lines\", \"name\": \"Country=Russia\", \"showlegend\": true, \"type\": \"scattergl\", \"x\": [1990, 1991, 1992, 1993, 1994, 1995, 1996, 1997, 1998, 1999, 2000, 2001, 2002, 2003, 2004, 2005, 2006, 2007, 2008, 2009, 2010, 2011, 2012, 2013, 2014, 2015], \"xaxis\": \"x\", \"y\": [55.0, 54.2, 50.7, 47.3, 49.1, 44.8, 38.9, 35.8, 33.5, 28.9, 27.4, 27.3, 27.4, 27.6, 28.2, 27.4, 28.2, 28.3, 29.3, 28.7, 27.0, 26.7, 27.3, 26.6, 26.0, 24.0], \"yaxis\": \"y\"}],\n",
       "                        {\"height\": 600, \"legend\": {\"tracegroupgap\": 0}, \"margin\": {\"t\": 60}, \"template\": {\"data\": {\"bar\": [{\"error_x\": {\"color\": \"#2a3f5f\"}, \"error_y\": {\"color\": \"#2a3f5f\"}, \"marker\": {\"line\": {\"color\": \"#E5ECF6\", \"width\": 0.5}}, \"type\": \"bar\"}], \"barpolar\": [{\"marker\": {\"line\": {\"color\": \"#E5ECF6\", \"width\": 0.5}}, \"type\": \"barpolar\"}], \"carpet\": [{\"aaxis\": {\"endlinecolor\": \"#2a3f5f\", \"gridcolor\": \"white\", \"linecolor\": \"white\", \"minorgridcolor\": \"white\", \"startlinecolor\": \"#2a3f5f\"}, \"baxis\": {\"endlinecolor\": \"#2a3f5f\", \"gridcolor\": \"white\", \"linecolor\": \"white\", \"minorgridcolor\": \"white\", \"startlinecolor\": \"#2a3f5f\"}, \"type\": \"carpet\"}], \"choropleth\": [{\"colorbar\": {\"outlinewidth\": 0, \"ticks\": \"\"}, \"type\": \"choropleth\"}], \"contour\": [{\"colorbar\": {\"outlinewidth\": 0, \"ticks\": \"\"}, \"colorscale\": [[0.0, \"#0d0887\"], [0.1111111111111111, \"#46039f\"], [0.2222222222222222, \"#7201a8\"], [0.3333333333333333, \"#9c179e\"], [0.4444444444444444, \"#bd3786\"], [0.5555555555555556, \"#d8576b\"], [0.6666666666666666, \"#ed7953\"], [0.7777777777777778, \"#fb9f3a\"], [0.8888888888888888, \"#fdca26\"], [1.0, \"#f0f921\"]], \"type\": \"contour\"}], \"contourcarpet\": [{\"colorbar\": {\"outlinewidth\": 0, \"ticks\": \"\"}, \"type\": \"contourcarpet\"}], \"heatmap\": [{\"colorbar\": {\"outlinewidth\": 0, \"ticks\": \"\"}, \"colorscale\": [[0.0, \"#0d0887\"], [0.1111111111111111, \"#46039f\"], [0.2222222222222222, \"#7201a8\"], [0.3333333333333333, \"#9c179e\"], [0.4444444444444444, \"#bd3786\"], [0.5555555555555556, \"#d8576b\"], [0.6666666666666666, \"#ed7953\"], [0.7777777777777778, \"#fb9f3a\"], [0.8888888888888888, \"#fdca26\"], [1.0, \"#f0f921\"]], \"type\": \"heatmap\"}], \"heatmapgl\": [{\"colorbar\": {\"outlinewidth\": 0, \"ticks\": \"\"}, \"colorscale\": [[0.0, \"#0d0887\"], [0.1111111111111111, \"#46039f\"], [0.2222222222222222, \"#7201a8\"], [0.3333333333333333, \"#9c179e\"], [0.4444444444444444, \"#bd3786\"], [0.5555555555555556, \"#d8576b\"], [0.6666666666666666, \"#ed7953\"], [0.7777777777777778, \"#fb9f3a\"], [0.8888888888888888, \"#fdca26\"], [1.0, \"#f0f921\"]], \"type\": \"heatmapgl\"}], \"histogram\": [{\"marker\": {\"colorbar\": {\"outlinewidth\": 0, \"ticks\": \"\"}}, \"type\": \"histogram\"}], \"histogram2d\": [{\"colorbar\": {\"outlinewidth\": 0, \"ticks\": \"\"}, \"colorscale\": [[0.0, \"#0d0887\"], [0.1111111111111111, \"#46039f\"], [0.2222222222222222, \"#7201a8\"], [0.3333333333333333, \"#9c179e\"], [0.4444444444444444, \"#bd3786\"], [0.5555555555555556, \"#d8576b\"], [0.6666666666666666, \"#ed7953\"], [0.7777777777777778, \"#fb9f3a\"], [0.8888888888888888, \"#fdca26\"], [1.0, \"#f0f921\"]], \"type\": \"histogram2d\"}], \"histogram2dcontour\": [{\"colorbar\": {\"outlinewidth\": 0, \"ticks\": \"\"}, \"colorscale\": [[0.0, \"#0d0887\"], [0.1111111111111111, \"#46039f\"], [0.2222222222222222, \"#7201a8\"], [0.3333333333333333, \"#9c179e\"], [0.4444444444444444, \"#bd3786\"], [0.5555555555555556, \"#d8576b\"], [0.6666666666666666, \"#ed7953\"], [0.7777777777777778, \"#fb9f3a\"], [0.8888888888888888, \"#fdca26\"], [1.0, \"#f0f921\"]], \"type\": \"histogram2dcontour\"}], \"mesh3d\": [{\"colorbar\": {\"outlinewidth\": 0, \"ticks\": \"\"}, \"type\": \"mesh3d\"}], \"parcoords\": [{\"line\": {\"colorbar\": {\"outlinewidth\": 0, \"ticks\": \"\"}}, \"type\": \"parcoords\"}], \"scatter\": [{\"marker\": {\"colorbar\": {\"outlinewidth\": 0, \"ticks\": \"\"}}, \"type\": \"scatter\"}], \"scatter3d\": [{\"line\": {\"colorbar\": {\"outlinewidth\": 0, \"ticks\": \"\"}}, \"marker\": {\"colorbar\": {\"outlinewidth\": 0, \"ticks\": \"\"}}, \"type\": \"scatter3d\"}], \"scattercarpet\": [{\"marker\": {\"colorbar\": {\"outlinewidth\": 0, \"ticks\": \"\"}}, \"type\": \"scattercarpet\"}], \"scattergeo\": [{\"marker\": {\"colorbar\": {\"outlinewidth\": 0, \"ticks\": \"\"}}, \"type\": \"scattergeo\"}], \"scattergl\": [{\"marker\": {\"colorbar\": {\"outlinewidth\": 0, \"ticks\": \"\"}}, \"type\": \"scattergl\"}], \"scattermapbox\": [{\"marker\": {\"colorbar\": {\"outlinewidth\": 0, \"ticks\": \"\"}}, \"type\": \"scattermapbox\"}], \"scatterpolar\": [{\"marker\": {\"colorbar\": {\"outlinewidth\": 0, \"ticks\": \"\"}}, \"type\": \"scatterpolar\"}], \"scatterpolargl\": [{\"marker\": {\"colorbar\": {\"outlinewidth\": 0, \"ticks\": \"\"}}, \"type\": \"scatterpolargl\"}], \"scatterternary\": [{\"marker\": {\"colorbar\": {\"outlinewidth\": 0, \"ticks\": \"\"}}, \"type\": \"scatterternary\"}], \"surface\": [{\"colorbar\": {\"outlinewidth\": 0, \"ticks\": \"\"}, \"colorscale\": [[0.0, \"#0d0887\"], [0.1111111111111111, \"#46039f\"], [0.2222222222222222, \"#7201a8\"], [0.3333333333333333, \"#9c179e\"], [0.4444444444444444, \"#bd3786\"], [0.5555555555555556, \"#d8576b\"], [0.6666666666666666, \"#ed7953\"], [0.7777777777777778, \"#fb9f3a\"], [0.8888888888888888, \"#fdca26\"], [1.0, \"#f0f921\"]], \"type\": \"surface\"}], \"table\": [{\"cells\": {\"fill\": {\"color\": \"#EBF0F8\"}, \"line\": {\"color\": \"white\"}}, \"header\": {\"fill\": {\"color\": \"#C8D4E3\"}, \"line\": {\"color\": \"white\"}}, \"type\": \"table\"}]}, \"layout\": {\"annotationdefaults\": {\"arrowcolor\": \"#2a3f5f\", \"arrowhead\": 0, \"arrowwidth\": 1}, \"colorscale\": {\"diverging\": [[0, \"#8e0152\"], [0.1, \"#c51b7d\"], [0.2, \"#de77ae\"], [0.3, \"#f1b6da\"], [0.4, \"#fde0ef\"], [0.5, \"#f7f7f7\"], [0.6, \"#e6f5d0\"], [0.7, \"#b8e186\"], [0.8, \"#7fbc41\"], [0.9, \"#4d9221\"], [1, \"#276419\"]], \"sequential\": [[0.0, \"#0d0887\"], [0.1111111111111111, \"#46039f\"], [0.2222222222222222, \"#7201a8\"], [0.3333333333333333, \"#9c179e\"], [0.4444444444444444, \"#bd3786\"], [0.5555555555555556, \"#d8576b\"], [0.6666666666666666, \"#ed7953\"], [0.7777777777777778, \"#fb9f3a\"], [0.8888888888888888, \"#fdca26\"], [1.0, \"#f0f921\"]], \"sequentialminus\": [[0.0, \"#0d0887\"], [0.1111111111111111, \"#46039f\"], [0.2222222222222222, \"#7201a8\"], [0.3333333333333333, \"#9c179e\"], [0.4444444444444444, \"#bd3786\"], [0.5555555555555556, \"#d8576b\"], [0.6666666666666666, \"#ed7953\"], [0.7777777777777778, \"#fb9f3a\"], [0.8888888888888888, \"#fdca26\"], [1.0, \"#f0f921\"]]}, \"colorway\": [\"#636efa\", \"#EF553B\", \"#00cc96\", \"#ab63fa\", \"#FFA15A\", \"#19d3f3\", \"#FF6692\", \"#B6E880\", \"#FF97FF\", \"#FECB52\"], \"font\": {\"color\": \"#2a3f5f\"}, \"geo\": {\"bgcolor\": \"white\", \"lakecolor\": \"white\", \"landcolor\": \"#E5ECF6\", \"showlakes\": true, \"showland\": true, \"subunitcolor\": \"white\"}, \"hoverlabel\": {\"align\": \"left\"}, \"hovermode\": \"closest\", \"mapbox\": {\"style\": \"light\"}, \"paper_bgcolor\": \"white\", \"plot_bgcolor\": \"#E5ECF6\", \"polar\": {\"angularaxis\": {\"gridcolor\": \"white\", \"linecolor\": \"white\", \"ticks\": \"\"}, \"bgcolor\": \"#E5ECF6\", \"radialaxis\": {\"gridcolor\": \"white\", \"linecolor\": \"white\", \"ticks\": \"\"}}, \"scene\": {\"xaxis\": {\"backgroundcolor\": \"#E5ECF6\", \"gridcolor\": \"white\", \"gridwidth\": 2, \"linecolor\": \"white\", \"showbackground\": true, \"ticks\": \"\", \"zerolinecolor\": \"white\"}, \"yaxis\": {\"backgroundcolor\": \"#E5ECF6\", \"gridcolor\": \"white\", \"gridwidth\": 2, \"linecolor\": \"white\", \"showbackground\": true, \"ticks\": \"\", \"zerolinecolor\": \"white\"}, \"zaxis\": {\"backgroundcolor\": \"#E5ECF6\", \"gridcolor\": \"white\", \"gridwidth\": 2, \"linecolor\": \"white\", \"showbackground\": true, \"ticks\": \"\", \"zerolinecolor\": \"white\"}}, \"shapedefaults\": {\"line\": {\"color\": \"#2a3f5f\"}}, \"ternary\": {\"aaxis\": {\"gridcolor\": \"white\", \"linecolor\": \"white\", \"ticks\": \"\"}, \"baxis\": {\"gridcolor\": \"white\", \"linecolor\": \"white\", \"ticks\": \"\"}, \"bgcolor\": \"#E5ECF6\", \"caxis\": {\"gridcolor\": \"white\", \"linecolor\": \"white\", \"ticks\": \"\"}}, \"title\": {\"x\": 0.05}, \"xaxis\": {\"automargin\": true, \"gridcolor\": \"white\", \"linecolor\": \"white\", \"ticks\": \"\", \"zerolinecolor\": \"white\", \"zerolinewidth\": 2}, \"yaxis\": {\"automargin\": true, \"gridcolor\": \"white\", \"linecolor\": \"white\", \"ticks\": \"\", \"zerolinecolor\": \"white\", \"zerolinewidth\": 2}}}, \"xaxis\": {\"anchor\": \"y\", \"domain\": [0.0, 0.98], \"title\": {\"text\": \"Year\"}}, \"yaxis\": {\"anchor\": \"x\", \"domain\": [0.0, 1.0], \"title\": {\"text\": \"Value\"}}},\n",
       "                        {\"responsive\": true}\n",
       "                    ).then(function(){\n",
       "                            \n",
       "var gd = document.getElementById('c2047410-adb9-4b6e-8952-e091716317bc');\n",
       "var x = new MutationObserver(function (mutations, observer) {{\n",
       "        var display = window.getComputedStyle(gd).display;\n",
       "        if (!display || display === 'none') {{\n",
       "            console.log([gd, 'removed!']);\n",
       "            Plotly.purge(gd);\n",
       "            observer.disconnect();\n",
       "        }}\n",
       "}});\n",
       "\n",
       "// Listen for the removal of the full notebook cells\n",
       "var notebookContainer = gd.closest('#notebook-container');\n",
       "if (notebookContainer) {{\n",
       "    x.observe(notebookContainer, {childList: true});\n",
       "}}\n",
       "\n",
       "// Listen for the clearing of the current output cell\n",
       "var outputEl = gd.closest('.output');\n",
       "if (outputEl) {{\n",
       "    x.observe(outputEl, {childList: true});\n",
       "}}\n",
       "\n",
       "                        })\n",
       "                };\n",
       "                });\n",
       "            </script>\n",
       "        </div>"
      ]
     },
     "metadata": {},
     "output_type": "display_data"
    }
   ],
   "source": [
    "px.line(family_df[family_df['Indicator'] == 'Fertility rates (births per 1000) for 15-19 year olds'], x='Year', y='Value', color='Country')"
   ]
  },
  {
   "cell_type": "code",
   "execution_count": 57,
   "metadata": {},
   "outputs": [
    {
     "data": {
      "application/vnd.plotly.v1+json": {
       "config": {
        "plotlyServerURL": "https://plot.ly"
       },
       "data": [
        {
         "hoverlabel": {
          "namelength": 0
         },
         "hovertemplate": "Country=Latvia<br>Year=%{x}<br>Value=%{y}",
         "legendgroup": "Country=Latvia",
         "line": {
          "color": "#636efa",
          "dash": "solid"
         },
         "mode": "lines",
         "name": "Country=Latvia",
         "showlegend": true,
         "type": "scatter",
         "x": [
          1990,
          1991,
          1992,
          1993,
          1994,
          1995,
          1996,
          1997,
          1998,
          1999,
          2000,
          2001,
          2002,
          2003,
          2004,
          2005,
          2006,
          2007,
          2008,
          2009,
          2010,
          2011,
          2012,
          2013,
          2014
         ],
         "xaxis": "x",
         "y": [
          16.9,
          18.4,
          19.6,
          23,
          26.4,
          29.9,
          33.1,
          34.8,
          37.1,
          39.1,
          40.4,
          42.1,
          43.1,
          44.3,
          45.3,
          44.7,
          43.8,
          43.2,
          43.2,
          43.5,
          44.4,
          44.6,
          45,
          44.6,
          44
         ],
         "yaxis": "y"
        },
        {
         "hoverlabel": {
          "namelength": 0
         },
         "hovertemplate": "Country=Greece<br>Year=%{x}<br>Value=%{y}",
         "legendgroup": "Country=Greece",
         "line": {
          "color": "#EF553B",
          "dash": "solid"
         },
         "mode": "lines",
         "name": "Country=Greece",
         "showlegend": true,
         "type": "scatter",
         "x": [
          1990,
          1991,
          1992,
          1993,
          1994,
          1995,
          1996,
          1997,
          1998,
          1999,
          2000,
          2001,
          2002,
          2003,
          2004,
          2005,
          2006,
          2007,
          2008,
          2009,
          2010,
          2011,
          2012,
          2013,
          2014
         ],
         "xaxis": "x",
         "y": [
          2.2,
          2.4,
          2.6,
          2.8,
          2.9,
          3,
          3.3,
          3.5,
          3.8,
          3.9,
          4,
          4.3,
          4.4,
          4.8,
          5.1,
          5.1,
          5.3,
          5.8,
          5.9,
          6.6,
          7.3,
          7.4,
          7.6,
          7,
          8.2
         ],
         "yaxis": "y"
        },
        {
         "hoverlabel": {
          "namelength": 0
         },
         "hovertemplate": "Country=Chile<br>Year=%{x}<br>Value=%{y}",
         "legendgroup": "Country=Chile",
         "line": {
          "color": "#00cc96",
          "dash": "solid"
         },
         "mode": "lines",
         "name": "Country=Chile",
         "showlegend": true,
         "type": "scatter",
         "x": [
          2002,
          2006,
          2007,
          2008,
          2009,
          2010,
          2011,
          2012,
          2013
         ],
         "xaxis": "x",
         "y": [
          52.2,
          61.2,
          63.1,
          65.1,
          67.4,
          68.5,
          69.3,
          70.3,
          71.1
         ],
         "yaxis": "y"
        },
        {
         "hoverlabel": {
          "namelength": 0
         },
         "hovertemplate": "Country=Cyprus<br>Year=%{x}<br>Value=%{y}",
         "legendgroup": "Country=Cyprus",
         "line": {
          "color": "#ab63fa",
          "dash": "solid"
         },
         "mode": "lines",
         "name": "Country=Cyprus",
         "showlegend": true,
         "type": "scatter",
         "x": [
          1990,
          1991,
          1992,
          1993,
          1994,
          1995,
          1996,
          1997,
          1998,
          1999,
          2000,
          2001,
          2002,
          2003,
          2004,
          2005,
          2006,
          2007,
          2008,
          2009,
          2010,
          2011,
          2012
         ],
         "xaxis": "x",
         "y": [
          0.7,
          0.8,
          1.1,
          0.8,
          1,
          1.4,
          1.5,
          1.6,
          2.1,
          2.2,
          2.3,
          2.5,
          3.5,
          3.5,
          3.3,
          4.4,
          5.6,
          8.7,
          8.9,
          11.7,
          15.2,
          16.9,
          18.6
         ],
         "yaxis": "y"
        },
        {
         "hoverlabel": {
          "namelength": 0
         },
         "hovertemplate": "Country=Netherlands<br>Year=%{x}<br>Value=%{y}",
         "legendgroup": "Country=Netherlands",
         "line": {
          "color": "#FFA15A",
          "dash": "solid"
         },
         "mode": "lines",
         "name": "Country=Netherlands",
         "showlegend": true,
         "type": "scatter",
         "x": [
          1990,
          1991,
          1992,
          1993,
          1994,
          1995,
          1996,
          1997,
          1998,
          1999,
          2000,
          2001,
          2002,
          2003,
          2004,
          2005,
          2006,
          2007,
          2008,
          2009,
          2010,
          2011,
          2012,
          2013,
          2014
         ],
         "xaxis": "x",
         "y": [
          11.4,
          12,
          12.4,
          13.1,
          14.3,
          15.5,
          17,
          19.2,
          20.8,
          22.7,
          24.9,
          27.2,
          29.1,
          30.7,
          32.5,
          34.9,
          37.1,
          39.5,
          41.2,
          43.3,
          44.3,
          45.3,
          46.6,
          47.4,
          48.7
         ],
         "yaxis": "y"
        },
        {
         "hoverlabel": {
          "namelength": 0
         },
         "hovertemplate": "Country=Lithuania<br>Year=%{x}<br>Value=%{y}",
         "legendgroup": "Country=Lithuania",
         "line": {
          "color": "#19d3f3",
          "dash": "solid"
         },
         "mode": "lines",
         "name": "Country=Lithuania",
         "showlegend": true,
         "type": "scatter",
         "x": [
          1990,
          1991,
          1992,
          1993,
          1994,
          1995,
          1996,
          1997,
          1998,
          1999,
          2000,
          2001,
          2002,
          2003,
          2004,
          2005,
          2006,
          2007,
          2008,
          2009,
          2010,
          2011,
          2012,
          2013,
          2014
         ],
         "xaxis": "x",
         "y": [
          7,
          7,
          7.9,
          9.1,
          10.9,
          12.8,
          14.3,
          16.5,
          18,
          19.8,
          22.6,
          25.4,
          28,
          29.5,
          28.5,
          28,
          28.8,
          27.8,
          26.6,
          25.4,
          25.7,
          27.7,
          28.8,
          29.5,
          29
         ],
         "yaxis": "y"
        },
        {
         "hoverlabel": {
          "namelength": 0
         },
         "hovertemplate": "Country=Canada<br>Year=%{x}<br>Value=%{y}",
         "legendgroup": "Country=Canada",
         "line": {
          "color": "#FF6692",
          "dash": "solid"
         },
         "mode": "lines",
         "name": "Country=Canada",
         "showlegend": true,
         "type": "scatter",
         "x": [
          1991,
          1992,
          1993,
          1994,
          1995,
          1996,
          1997,
          1998,
          1999,
          2000,
          2001,
          2002,
          2003,
          2004,
          2005,
          2006,
          2007,
          2008,
          2009,
          2010,
          2011,
          2012
         ],
         "xaxis": "x",
         "y": [
          27,
          28.2,
          29.2,
          29.6,
          30.5,
          30.9,
          31.4,
          31.3,
          31.2,
          31.7,
          31.4,
          31.6,
          29.2,
          28.8,
          29.1,
          30.6,
          31,
          32.1,
          32.2,
          32.3,
          33.4,
          33
         ],
         "yaxis": "y"
        },
        {
         "hoverlabel": {
          "namelength": 0
         },
         "hovertemplate": "Country=Portugal<br>Year=%{x}<br>Value=%{y}",
         "legendgroup": "Country=Portugal",
         "line": {
          "color": "#B6E880",
          "dash": "solid"
         },
         "mode": "lines",
         "name": "Country=Portugal",
         "showlegend": true,
         "type": "scatter",
         "x": [
          1990,
          1991,
          1992,
          1993,
          1994,
          1995,
          1996,
          1997,
          1998,
          1999,
          2000,
          2001,
          2002,
          2003,
          2004,
          2005,
          2006,
          2007,
          2008,
          2009,
          2010,
          2011,
          2012,
          2013,
          2014
         ],
         "xaxis": "x",
         "y": [
          14.7,
          15.6,
          16.1,
          16.9,
          17.8,
          18.6,
          18.6,
          19.5,
          20.1,
          20.8,
          22.2,
          23.8,
          25.5,
          26.9,
          29.1,
          30.7,
          31.6,
          33.6,
          36.2,
          38.1,
          41.3,
          42.8,
          45.6,
          47.6,
          49.3
         ],
         "yaxis": "y"
        },
        {
         "hoverlabel": {
          "namelength": 0
         },
         "hovertemplate": "Country=Italy<br>Year=%{x}<br>Value=%{y}",
         "legendgroup": "Country=Italy",
         "line": {
          "color": "#FF97FF",
          "dash": "solid"
         },
         "mode": "lines",
         "name": "Country=Italy",
         "showlegend": true,
         "type": "scatter",
         "x": [
          1990,
          1991,
          1992,
          1993,
          1994,
          1995,
          1996,
          1997,
          1998,
          1999,
          2000,
          2001,
          2002,
          2003,
          2005,
          2006,
          2007,
          2008,
          2009,
          2010,
          2011,
          2012,
          2013,
          2014
         ],
         "xaxis": "x",
         "y": [
          6.5,
          6.7,
          6.7,
          7.4,
          7.8,
          8.1,
          8.3,
          7,
          8.7,
          9.2,
          9.7,
          9.9,
          10.9,
          13,
          15.2,
          16.2,
          17.7,
          18.9,
          19.8,
          21.5,
          23.4,
          24.5,
          26.9,
          28.8
         ],
         "yaxis": "y"
        },
        {
         "hoverlabel": {
          "namelength": 0
         },
         "hovertemplate": "Country=Israel<br>Year=%{x}<br>Value=%{y}",
         "legendgroup": "Country=Israel",
         "line": {
          "color": "#FECB52",
          "dash": "solid"
         },
         "mode": "lines",
         "name": "Country=Israel",
         "showlegend": true,
         "type": "scatter",
         "x": [
          2002,
          2003,
          2004,
          2005,
          2006,
          2007,
          2008,
          2009,
          2010,
          2011,
          2012,
          2013,
          2014
         ],
         "xaxis": "x",
         "y": [
          5.3,
          5.8,
          5.6,
          5.5,
          5.6,
          5.6,
          5.7,
          5.8,
          5.8,
          6,
          5.8,
          6.1,
          6.3
         ],
         "yaxis": "y"
        },
        {
         "hoverlabel": {
          "namelength": 0
         },
         "hovertemplate": "Country=Ireland<br>Year=%{x}<br>Value=%{y}",
         "legendgroup": "Country=Ireland",
         "line": {
          "color": "#636efa",
          "dash": "solid"
         },
         "mode": "lines",
         "name": "Country=Ireland",
         "showlegend": true,
         "type": "scatter",
         "x": [
          1990,
          1991,
          1992,
          1993,
          1994,
          1995,
          1996,
          1997,
          1998,
          1999,
          2000,
          2001,
          2002,
          2003,
          2004,
          2005,
          2006,
          2007,
          2008,
          2009,
          2010,
          2011,
          2012
         ],
         "xaxis": "x",
         "y": [
          14.6,
          16.9,
          18,
          19.9,
          20.8,
          22.3,
          25.3,
          26.8,
          28.7,
          31.1,
          31.5,
          31.3,
          31.2,
          31.2,
          31.9,
          31.8,
          32.7,
          33.1,
          33.4,
          33.4,
          33.8,
          33.9,
          35.1
         ],
         "yaxis": "y"
        },
        {
         "hoverlabel": {
          "namelength": 0
         },
         "hovertemplate": "Country=Germany<br>Year=%{x}<br>Value=%{y}",
         "legendgroup": "Country=Germany",
         "line": {
          "color": "#EF553B",
          "dash": "solid"
         },
         "mode": "lines",
         "name": "Country=Germany",
         "showlegend": true,
         "type": "scatter",
         "x": [
          1990,
          1991,
          1992,
          1993,
          1994,
          1995,
          1996,
          1997,
          1998,
          1999,
          2000,
          2001,
          2002,
          2003,
          2004,
          2005,
          2006,
          2007,
          2008,
          2009,
          2010,
          2011,
          2012,
          2013,
          2014
         ],
         "xaxis": "x",
         "y": [
          15.3,
          15.1,
          14.9,
          14.8,
          15.4,
          16.1,
          17,
          18,
          20,
          22.1,
          23.4,
          25,
          26.1,
          27,
          27.9,
          29.2,
          30,
          30.8,
          32.1,
          32.7,
          33.3,
          33.9,
          34.5,
          34.8,
          35
         ],
         "yaxis": "y"
        },
        {
         "hoverlabel": {
          "namelength": 0
         },
         "hovertemplate": "Country=Czech Republic<br>Year=%{x}<br>Value=%{y}",
         "legendgroup": "Country=Czech Republic",
         "line": {
          "color": "#00cc96",
          "dash": "solid"
         },
         "mode": "lines",
         "name": "Country=Czech Republic",
         "showlegend": true,
         "type": "scatter",
         "x": [
          1990,
          1991,
          1992,
          1993,
          1994,
          1995,
          1996,
          1997,
          1998,
          1999,
          2000,
          2001,
          2002,
          2003,
          2004,
          2005,
          2006,
          2007,
          2008,
          2009,
          2010,
          2011,
          2012,
          2013,
          2014
         ],
         "xaxis": "x",
         "y": [
          8.6,
          9.8,
          10.7,
          12.7,
          14.5,
          15.6,
          16.9,
          17.8,
          19,
          20.6,
          21.8,
          23.5,
          25.3,
          28.5,
          30.6,
          31.7,
          33.3,
          34.5,
          36.3,
          38.8,
          40.3,
          41.8,
          43.4,
          45,
          46.7
         ],
         "yaxis": "y"
        },
        {
         "hoverlabel": {
          "namelength": 0
         },
         "hovertemplate": "Country=Mexico<br>Year=%{x}<br>Value=%{y}",
         "legendgroup": "Country=Mexico",
         "line": {
          "color": "#ab63fa",
          "dash": "solid"
         },
         "mode": "lines",
         "name": "Country=Mexico",
         "showlegend": true,
         "type": "scatter",
         "x": [
          1990,
          1991,
          1992,
          1993,
          1994,
          1995,
          1996,
          1997,
          1998,
          1999,
          2000,
          2001,
          2002,
          2003,
          2004,
          2005,
          2006,
          2007,
          2008,
          2009,
          2010,
          2011,
          2012,
          2013,
          2014
         ],
         "xaxis": "x",
         "y": [
          33.2,
          35.2,
          36.1,
          37.8,
          37.8,
          37.1,
          38.1,
          39.3,
          40,
          41,
          41.6,
          44,
          45.7,
          46.3,
          48.2,
          50.1,
          50.7,
          53.4,
          55.4,
          58.3,
          59.4,
          60.7,
          62.3,
          63.7,
          64.9
         ],
         "yaxis": "y"
        },
        {
         "hoverlabel": {
          "namelength": 0
         },
         "hovertemplate": "Country=France<br>Year=%{x}<br>Value=%{y}",
         "legendgroup": "Country=France",
         "line": {
          "color": "#FFA15A",
          "dash": "solid"
         },
         "mode": "lines",
         "name": "Country=France",
         "showlegend": true,
         "type": "scatter",
         "x": [
          1998,
          1999,
          2000,
          2001,
          2002,
          2003,
          2004,
          2005,
          2006,
          2007,
          2008,
          2009,
          2010,
          2011,
          2012
         ],
         "xaxis": "x",
         "y": [
          41.7,
          42.7,
          43.6,
          44.7,
          45.2,
          46.2,
          47.4,
          48.4,
          50.5,
          51.7,
          52.6,
          53.7,
          55,
          55.8,
          56.7
         ],
         "yaxis": "y"
        },
        {
         "hoverlabel": {
          "namelength": 0
         },
         "hovertemplate": "Country=Switzerland<br>Year=%{x}<br>Value=%{y}",
         "legendgroup": "Country=Switzerland",
         "line": {
          "color": "#19d3f3",
          "dash": "solid"
         },
         "mode": "lines",
         "name": "Country=Switzerland",
         "showlegend": true,
         "type": "scatter",
         "x": [
          1990,
          1991,
          1992,
          1993,
          1994,
          1995,
          1996,
          1997,
          1998,
          1999,
          2000,
          2001,
          2002,
          2003,
          2004,
          2005,
          2006,
          2007,
          2008,
          2009,
          2010,
          2011,
          2012,
          2013,
          2014
         ],
         "xaxis": "x",
         "y": [
          6.1,
          6.5,
          6.2,
          6.3,
          6.4,
          6.8,
          7.3,
          8.1,
          8.8,
          10,
          10.7,
          11.2,
          11.7,
          12.4,
          13.3,
          13.7,
          15.4,
          16.2,
          17.1,
          17.9,
          18.6,
          19.3,
          20.2,
          21.1,
          21.7
         ],
         "yaxis": "y"
        },
        {
         "hoverlabel": {
          "namelength": 0
         },
         "hovertemplate": "Country=Luxembourg<br>Year=%{x}<br>Value=%{y}",
         "legendgroup": "Country=Luxembourg",
         "line": {
          "color": "#FF6692",
          "dash": "solid"
         },
         "mode": "lines",
         "name": "Country=Luxembourg",
         "showlegend": true,
         "type": "scatter",
         "x": [
          1990,
          1991,
          1992,
          1993,
          1994,
          1995,
          1996,
          1997,
          1998,
          1999,
          2000,
          2001,
          2002,
          2003,
          2004,
          2005,
          2006,
          2007,
          2008,
          2009,
          2010,
          2011,
          2012,
          2013,
          2014
         ],
         "xaxis": "x",
         "y": [
          12.8,
          12.2,
          12.7,
          12.9,
          12.7,
          13.1,
          15,
          16.8,
          17.5,
          18.6,
          21.9,
          22.3,
          23.2,
          25,
          26.1,
          27.2,
          28.8,
          29.2,
          30.2,
          32.1,
          34,
          34.1,
          37.1,
          37.8,
          39.1
         ],
         "yaxis": "y"
        },
        {
         "hoverlabel": {
          "namelength": 0
         },
         "hovertemplate": "Country=Poland<br>Year=%{x}<br>Value=%{y}",
         "legendgroup": "Country=Poland",
         "line": {
          "color": "#B6E880",
          "dash": "solid"
         },
         "mode": "lines",
         "name": "Country=Poland",
         "showlegend": true,
         "type": "scatter",
         "x": [
          1990,
          1991,
          1992,
          1993,
          1994,
          1995,
          1996,
          1997,
          1998,
          1999,
          2000,
          2001,
          2002,
          2003,
          2004,
          2005,
          2006,
          2007,
          2008,
          2009,
          2010,
          2011,
          2012,
          2013,
          2014
         ],
         "xaxis": "x",
         "y": [
          6.2,
          6.6,
          7.2,
          8.2,
          9,
          9.5,
          10.2,
          11,
          11.6,
          11.7,
          12.1,
          13.1,
          14.4,
          15.8,
          17.1,
          18.5,
          18.9,
          19.5,
          19.9,
          20.2,
          20.6,
          21.2,
          22.3,
          23.4,
          24.2
         ],
         "yaxis": "y"
        },
        {
         "hoverlabel": {
          "namelength": 0
         },
         "hovertemplate": "Country=Slovenia<br>Year=%{x}<br>Value=%{y}",
         "legendgroup": "Country=Slovenia",
         "line": {
          "color": "#FF97FF",
          "dash": "solid"
         },
         "mode": "lines",
         "name": "Country=Slovenia",
         "showlegend": true,
         "type": "scatter",
         "x": [
          1990,
          1991,
          1992,
          1993,
          1994,
          1995,
          1996,
          1997,
          1998,
          1999,
          2000,
          2001,
          2002,
          2003,
          2004,
          2005,
          2006,
          2007,
          2008,
          2009,
          2010,
          2011,
          2012,
          2013,
          2014
         ],
         "xaxis": "x",
         "y": [
          24.5,
          26.4,
          27.7,
          28,
          28.8,
          29.8,
          31.9,
          32.7,
          33.6,
          35.4,
          37.1,
          39.4,
          40.2,
          42.5,
          44.8,
          46.7,
          47.2,
          50.8,
          52.8,
          53.6,
          55.7,
          56.8,
          57.6,
          58,
          58.3
         ],
         "yaxis": "y"
        },
        {
         "hoverlabel": {
          "namelength": 0
         },
         "hovertemplate": "Country=Turkey<br>Year=%{x}<br>Value=%{y}",
         "legendgroup": "Country=Turkey",
         "line": {
          "color": "#FECB52",
          "dash": "solid"
         },
         "mode": "lines",
         "name": "Country=Turkey",
         "showlegend": true,
         "type": "scatter",
         "x": [
          2010,
          2011,
          2012,
          2013,
          2014
         ],
         "xaxis": "x",
         "y": [
          2.6,
          2.7,
          2.6,
          2.7,
          2.8
         ],
         "yaxis": "y"
        },
        {
         "hoverlabel": {
          "namelength": 0
         },
         "hovertemplate": "Country=Belgium<br>Year=%{x}<br>Value=%{y}",
         "legendgroup": "Country=Belgium",
         "line": {
          "color": "#636efa",
          "dash": "solid"
         },
         "mode": "lines",
         "name": "Country=Belgium",
         "showlegend": true,
         "type": "scatter",
         "x": [
          1990,
          1991,
          1992,
          1993,
          1994,
          1995,
          1996,
          1997,
          1998,
          1999,
          2000,
          2001,
          2002,
          2003,
          2004,
          2005,
          2006,
          2007,
          2008,
          2009,
          2010,
          2011,
          2012
         ],
         "xaxis": "x",
         "y": [
          11.6,
          12.6,
          13.6,
          14.5,
          15.8,
          17.3,
          19.1,
          21,
          23.2,
          25.5,
          28,
          30.2,
          32.5,
          34.7,
          36.9,
          39.4,
          40.9,
          43.2,
          44.6,
          45.5,
          45.7,
          50,
          52.3
         ],
         "yaxis": "y"
        },
        {
         "hoverlabel": {
          "namelength": 0
         },
         "hovertemplate": "Country=Korea<br>Year=%{x}<br>Value=%{y}",
         "legendgroup": "Country=Korea",
         "line": {
          "color": "#EF553B",
          "dash": "solid"
         },
         "mode": "lines",
         "name": "Country=Korea",
         "showlegend": true,
         "type": "scatter",
         "x": [
          1990,
          1991,
          1992,
          1993,
          1994,
          1995,
          1996,
          1997,
          1998,
          1999,
          2000,
          2001,
          2002,
          2003,
          2004,
          2005,
          2006,
          2007,
          2008,
          2009,
          2010,
          2011,
          2012,
          2013,
          2014
         ],
         "xaxis": "x",
         "y": [
          0.9,
          1,
          1.1,
          1.2,
          1.3,
          1.2,
          0.9,
          0.6,
          0.7,
          0.8,
          0.9,
          1,
          1.1,
          1.3,
          1.3,
          1.5,
          1.5,
          1.6,
          1.8,
          2,
          2.1,
          2.1,
          2.1,
          2.1,
          1.9
         ],
         "yaxis": "y"
        },
        {
         "hoverlabel": {
          "namelength": 0
         },
         "hovertemplate": "Country=Malta<br>Year=%{x}<br>Value=%{y}",
         "legendgroup": "Country=Malta",
         "line": {
          "color": "#00cc96",
          "dash": "solid"
         },
         "mode": "lines",
         "name": "Country=Malta",
         "showlegend": true,
         "type": "scatter",
         "x": [
          1990,
          1991,
          1992,
          1993,
          1994,
          1995,
          1996,
          1997,
          1998,
          1999,
          2000,
          2001,
          2002,
          2003,
          2004,
          2005,
          2006,
          2007,
          2008,
          2009,
          2010,
          2011,
          2012,
          2013,
          2014
         ],
         "xaxis": "x",
         "y": [
          1.8,
          2,
          2.3,
          2.2,
          2.9,
          4.6,
          2.7,
          5.8,
          7.6,
          9.6,
          10.6,
          13.2,
          14.3,
          16.3,
          19.1,
          20,
          22.4,
          24.9,
          25.4,
          27.4,
          25.3,
          23,
          25.7,
          25.9,
          25.9
         ],
         "yaxis": "y"
        },
        {
         "hoverlabel": {
          "namelength": 0
         },
         "hovertemplate": "Country=Finland<br>Year=%{x}<br>Value=%{y}",
         "legendgroup": "Country=Finland",
         "line": {
          "color": "#ab63fa",
          "dash": "solid"
         },
         "mode": "lines",
         "name": "Country=Finland",
         "showlegend": true,
         "type": "scatter",
         "x": [
          1990,
          1991,
          1992,
          1993,
          1994,
          1995,
          1996,
          1997,
          1998,
          1999,
          2000,
          2001,
          2002,
          2003,
          2004,
          2005,
          2006,
          2007,
          2008,
          2009,
          2010,
          2011,
          2012,
          2013,
          2014
         ],
         "xaxis": "x",
         "y": [
          25.2,
          27.4,
          28.9,
          30.3,
          31.3,
          33.1,
          35.4,
          36.5,
          37.2,
          38.7,
          39.2,
          39.5,
          39.9,
          40,
          40.8,
          40.4,
          40.5,
          40.6,
          40.7,
          40.9,
          41.1,
          40.9,
          41.5,
          42.1,
          42.8
         ],
         "yaxis": "y"
        },
        {
         "hoverlabel": {
          "namelength": 0
         },
         "hovertemplate": "Country=Sweden<br>Year=%{x}<br>Value=%{y}",
         "legendgroup": "Country=Sweden",
         "line": {
          "color": "#FFA15A",
          "dash": "solid"
         },
         "mode": "lines",
         "name": "Country=Sweden",
         "showlegend": true,
         "type": "scatter",
         "x": [
          1990,
          1991,
          1992,
          1993,
          1994,
          1995,
          1996,
          1997,
          1998,
          1999,
          2000,
          2001,
          2002,
          2003,
          2004,
          2005,
          2006,
          2007,
          2008,
          2009,
          2010,
          2011,
          2012,
          2013,
          2014
         ],
         "xaxis": "x",
         "y": [
          47,
          48.2,
          49.5,
          50.4,
          51.6,
          53,
          53.9,
          54.1,
          54.7,
          55.3,
          55.3,
          55.5,
          56,
          56,
          55.4,
          55.4,
          55.5,
          54.8,
          54.7,
          54.4,
          54.2,
          54.3,
          54.5,
          54.4,
          54.6
         ],
         "yaxis": "y"
        },
        {
         "hoverlabel": {
          "namelength": 0
         },
         "hovertemplate": "Country=Bulgaria<br>Year=%{x}<br>Value=%{y}",
         "legendgroup": "Country=Bulgaria",
         "line": {
          "color": "#19d3f3",
          "dash": "solid"
         },
         "mode": "lines",
         "name": "Country=Bulgaria",
         "showlegend": true,
         "type": "scatter",
         "x": [
          1990,
          1991,
          1992,
          1993,
          1994,
          1995,
          1996,
          1997,
          1998,
          1999,
          2000,
          2001,
          2002,
          2003,
          2004,
          2005,
          2006,
          2007,
          2008,
          2009,
          2010,
          2011,
          2012,
          2013,
          2014
         ],
         "xaxis": "x",
         "y": [
          12.4,
          15.5,
          18.5,
          22.1,
          24.5,
          25.7,
          28.1,
          30,
          31.5,
          35.1,
          38.4,
          42,
          42.8,
          46.1,
          48.7,
          49,
          50.8,
          50.2,
          51.1,
          53.4,
          54.1,
          56.1,
          57.4,
          59.1,
          58.8
         ],
         "yaxis": "y"
        },
        {
         "hoverlabel": {
          "namelength": 0
         },
         "hovertemplate": "Country=Spain<br>Year=%{x}<br>Value=%{y}",
         "legendgroup": "Country=Spain",
         "line": {
          "color": "#FF6692",
          "dash": "solid"
         },
         "mode": "lines",
         "name": "Country=Spain",
         "showlegend": true,
         "type": "scatter",
         "x": [
          1990,
          1991,
          1992,
          1993,
          1994,
          1995,
          1996,
          1997,
          1998,
          1999,
          2000,
          2001,
          2002,
          2003,
          2004,
          2005,
          2006,
          2007,
          2008,
          2009,
          2010,
          2011,
          2012,
          2013,
          2014
         ],
         "xaxis": "x",
         "y": [
          9.6,
          10,
          10.5,
          10.8,
          10.8,
          11.1,
          11.7,
          13.1,
          14.5,
          16.3,
          17.7,
          19.7,
          21.7,
          23.4,
          25.1,
          26.5,
          28.4,
          30.2,
          33.2,
          34.5,
          35.5,
          37.4,
          39,
          40.9,
          42.5
         ],
         "yaxis": "y"
        },
        {
         "hoverlabel": {
          "namelength": 0
         },
         "hovertemplate": "Country=United States<br>Year=%{x}<br>Value=%{y}",
         "legendgroup": "Country=United States",
         "line": {
          "color": "#B6E880",
          "dash": "solid"
         },
         "mode": "lines",
         "name": "Country=United States",
         "showlegend": true,
         "type": "scatter",
         "x": [
          1990,
          1991,
          1992,
          1993,
          1994,
          1995,
          1996,
          1997,
          1998,
          1999,
          2000,
          2001,
          2002,
          2003,
          2004,
          2005,
          2006,
          2007,
          2008,
          2009,
          2010,
          2011,
          2012,
          2013,
          2014
         ],
         "xaxis": "x",
         "y": [
          28,
          29.5,
          30.1,
          31,
          32.6,
          32.2,
          32.4,
          32.4,
          32.8,
          33,
          33.2,
          33.5,
          34,
          34.6,
          35.8,
          36.9,
          38.5,
          39.7,
          40.6,
          41,
          40.8,
          40.7,
          40.7,
          40.6,
          40.2
         ],
         "yaxis": "y"
        },
        {
         "hoverlabel": {
          "namelength": 0
         },
         "hovertemplate": "Country=New Zealand<br>Year=%{x}<br>Value=%{y}",
         "legendgroup": "Country=New Zealand",
         "line": {
          "color": "#FF97FF",
          "dash": "solid"
         },
         "mode": "lines",
         "name": "Country=New Zealand",
         "showlegend": true,
         "type": "scatter",
         "x": [
          1990,
          1991,
          1992,
          1993,
          1994,
          1995,
          1996,
          1997,
          1998,
          1999,
          2000,
          2001,
          2002,
          2003,
          2004,
          2005,
          2006,
          2007,
          2008,
          2009,
          2010,
          2011,
          2012,
          2013,
          2014
         ],
         "xaxis": "x",
         "y": [
          34,
          35.7,
          36.7,
          38,
          38.7,
          40.7,
          41.7,
          41.8,
          42.5,
          42.8,
          43.2,
          43.7,
          43.6,
          44,
          44.8,
          45.2,
          47.2,
          47.2,
          48.2,
          48.6,
          48.9,
          47.6,
          47.7,
          47.3,
          46.7
         ],
         "yaxis": "y"
        },
        {
         "hoverlabel": {
          "namelength": 0
         },
         "hovertemplate": "Country=Romania<br>Year=%{x}<br>Value=%{y}",
         "legendgroup": "Country=Romania",
         "line": {
          "color": "#FECB52",
          "dash": "solid"
         },
         "mode": "lines",
         "name": "Country=Romania",
         "showlegend": true,
         "type": "scatter",
         "x": [
          1993,
          1994,
          1995,
          1996,
          1997,
          1998,
          1999,
          2000,
          2001,
          2002,
          2003,
          2004,
          2005,
          2006,
          2007,
          2008,
          2009,
          2010,
          2011,
          2012,
          2013,
          2014
         ],
         "xaxis": "x",
         "y": [
          17,
          18.3,
          19.7,
          20.7,
          22.2,
          23,
          24.1,
          25.5,
          26.7,
          26.7,
          28.2,
          29.4,
          28.5,
          29,
          26.7,
          27.4,
          28,
          27.7,
          30,
          31,
          30.5,
          31.2
         ],
         "yaxis": "y"
        },
        {
         "hoverlabel": {
          "namelength": 0
         },
         "hovertemplate": "Country=United Kingdom<br>Year=%{x}<br>Value=%{y}",
         "legendgroup": "Country=United Kingdom",
         "line": {
          "color": "#636efa",
          "dash": "solid"
         },
         "mode": "lines",
         "name": "Country=United Kingdom",
         "showlegend": true,
         "type": "scatter",
         "x": [
          1990,
          1991,
          1992,
          1993,
          1994,
          1995,
          1996,
          1997,
          1998,
          1999,
          2000,
          2001,
          2002,
          2003,
          2004,
          2005,
          2006,
          2007,
          2008,
          2009,
          2010,
          2011,
          2012
         ],
         "xaxis": "x",
         "y": [
          27.9,
          29.8,
          30.8,
          31.8,
          32,
          33.5,
          35.5,
          36.8,
          37.6,
          38.8,
          39.5,
          40.1,
          40.6,
          41.5,
          42.3,
          42.9,
          43.7,
          44.4,
          45.4,
          46.3,
          46.9,
          47.3,
          47.6
         ],
         "yaxis": "y"
        },
        {
         "hoverlabel": {
          "namelength": 0
         },
         "hovertemplate": "Country=Japan<br>Year=%{x}<br>Value=%{y}",
         "legendgroup": "Country=Japan",
         "line": {
          "color": "#EF553B",
          "dash": "solid"
         },
         "mode": "lines",
         "name": "Country=Japan",
         "showlegend": true,
         "type": "scatter",
         "x": [
          1990,
          1995,
          2000,
          2001,
          2002,
          2003,
          2004,
          2005,
          2006,
          2007,
          2008,
          2009,
          2010,
          2011,
          2012,
          2013,
          2014
         ],
         "xaxis": "x",
         "y": [
          1.1,
          1.2,
          1.6,
          1.7,
          1.9,
          1.9,
          2,
          2,
          2.1,
          2,
          2.1,
          2.1,
          2.1,
          2.2,
          2.2,
          2.2,
          2.3
         ],
         "yaxis": "y"
        },
        {
         "hoverlabel": {
          "namelength": 0
         },
         "hovertemplate": "Country=Austria<br>Year=%{x}<br>Value=%{y}",
         "legendgroup": "Country=Austria",
         "line": {
          "color": "#00cc96",
          "dash": "solid"
         },
         "mode": "lines",
         "name": "Country=Austria",
         "showlegend": true,
         "type": "scatter",
         "x": [
          1990,
          1991,
          1992,
          1993,
          1994,
          1995,
          1996,
          1997,
          1998,
          1999,
          2000,
          2001,
          2002,
          2003,
          2004,
          2005,
          2006,
          2007,
          2008,
          2009,
          2010,
          2011,
          2012
         ],
         "xaxis": "x",
         "y": [
          23.6,
          24.8,
          25.2,
          26.3,
          26.8,
          27.4,
          28,
          28.8,
          29.5,
          30.5,
          31.3,
          33.1,
          33.8,
          35.3,
          35.9,
          36.5,
          37.2,
          38.3,
          38.8,
          39.3,
          40.1,
          40.4,
          41.5
         ],
         "yaxis": "y"
        },
        {
         "hoverlabel": {
          "namelength": 0
         },
         "hovertemplate": "Country=Hungary<br>Year=%{x}<br>Value=%{y}",
         "legendgroup": "Country=Hungary",
         "line": {
          "color": "#ab63fa",
          "dash": "solid"
         },
         "mode": "lines",
         "name": "Country=Hungary",
         "showlegend": true,
         "type": "scatter",
         "x": [
          1990,
          1991,
          1992,
          1993,
          1994,
          1995,
          1996,
          1997,
          1998,
          1999,
          2000,
          2001,
          2002,
          2003,
          2004,
          2005,
          2006,
          2007,
          2008,
          2009,
          2010,
          2011,
          2012,
          2013,
          2014
         ],
         "xaxis": "x",
         "y": [
          13.1,
          14.1,
          15.6,
          17.6,
          19.4,
          20.7,
          22.6,
          25,
          26.6,
          28,
          29,
          30.3,
          31.4,
          32.3,
          34,
          35,
          35.6,
          37.5,
          39.5,
          40.8,
          40.8,
          42.3,
          44.5,
          45.6,
          47.3
         ],
         "yaxis": "y"
        },
        {
         "hoverlabel": {
          "namelength": 0
         },
         "hovertemplate": "Country=Estonia<br>Year=%{x}<br>Value=%{y}",
         "legendgroup": "Country=Estonia",
         "line": {
          "color": "#FFA15A",
          "dash": "solid"
         },
         "mode": "lines",
         "name": "Country=Estonia",
         "showlegend": true,
         "type": "scatter",
         "x": [
          1990,
          1991,
          1992,
          1993,
          1994,
          1995,
          1996,
          1997,
          1998,
          1999,
          2000,
          2001,
          2002,
          2003,
          2004,
          2005,
          2006,
          2007,
          2008,
          2009,
          2010,
          2011,
          2012
         ],
         "xaxis": "x",
         "y": [
          27.2,
          31.2,
          33.9,
          38.2,
          41,
          44.2,
          48.1,
          51.6,
          52.5,
          54.2,
          54.5,
          56.2,
          56.3,
          57.8,
          58,
          58.5,
          58.2,
          57.8,
          59,
          59.2,
          59.1,
          59.7,
          58.4
         ],
         "yaxis": "y"
        },
        {
         "hoverlabel": {
          "namelength": 0
         },
         "hovertemplate": "Country=Denmark<br>Year=%{x}<br>Value=%{y}",
         "legendgroup": "Country=Denmark",
         "line": {
          "color": "#19d3f3",
          "dash": "solid"
         },
         "mode": "lines",
         "name": "Country=Denmark",
         "showlegend": true,
         "type": "scatter",
         "x": [
          1990,
          1991,
          1992,
          1993,
          1994,
          1995,
          1996,
          1997,
          1998,
          1999,
          2000,
          2001,
          2002,
          2003,
          2004,
          2005,
          2006,
          2007,
          2008,
          2009,
          2010,
          2011,
          2012,
          2013,
          2014
         ],
         "xaxis": "x",
         "y": [
          46.4,
          46.5,
          46.4,
          46.8,
          46.9,
          46.5,
          46.3,
          45.1,
          44.8,
          44.9,
          44.6,
          44.6,
          44.6,
          44.9,
          45.4,
          45.7,
          46.4,
          46.1,
          46.2,
          46.8,
          47.3,
          49,
          50.6,
          51.5,
          52.5
         ],
         "yaxis": "y"
        },
        {
         "hoverlabel": {
          "namelength": 0
         },
         "hovertemplate": "Country=Slovak Republic<br>Year=%{x}<br>Value=%{y}",
         "legendgroup": "Country=Slovak Republic",
         "line": {
          "color": "#FF6692",
          "dash": "solid"
         },
         "mode": "lines",
         "name": "Country=Slovak Republic",
         "showlegend": true,
         "type": "scatter",
         "x": [
          1990,
          1991,
          1992,
          1993,
          1994,
          1995,
          1996,
          1997,
          1998,
          1999,
          2000,
          2001,
          2002,
          2003,
          2004,
          2005,
          2006,
          2007,
          2008,
          2009,
          2010,
          2011,
          2012,
          2013,
          2014
         ],
         "xaxis": "x",
         "y": [
          7.6,
          8.9,
          9.8,
          10.6,
          11.7,
          12.6,
          14,
          15.1,
          15.3,
          16.9,
          18.3,
          19.8,
          21.6,
          23.3,
          24.8,
          26,
          27.5,
          28.8,
          30.1,
          31.6,
          33,
          34,
          35.4,
          37,
          38.9
         ],
         "yaxis": "y"
        },
        {
         "hoverlabel": {
          "namelength": 0
         },
         "hovertemplate": "Country=Iceland<br>Year=%{x}<br>Value=%{y}",
         "legendgroup": "Country=Iceland",
         "line": {
          "color": "#B6E880",
          "dash": "solid"
         },
         "mode": "lines",
         "name": "Country=Iceland",
         "showlegend": true,
         "type": "scatter",
         "x": [
          1990,
          1991,
          1992,
          1993,
          1994,
          1995,
          1996,
          1997,
          1998,
          1999,
          2000,
          2001,
          2002,
          2003,
          2004,
          2005,
          2006,
          2007,
          2008,
          2009,
          2010,
          2011,
          2012
         ],
         "xaxis": "x",
         "y": [
          55.2,
          56.4,
          57.3,
          58.3,
          59.6,
          60.9,
          60.7,
          65.2,
          64,
          62.4,
          65.2,
          63,
          62.3,
          63.6,
          63.7,
          65.7,
          65.6,
          63.8,
          64.1,
          64.4,
          64.3,
          65,
          66.9
         ],
         "yaxis": "y"
        },
        {
         "hoverlabel": {
          "namelength": 0
         },
         "hovertemplate": "Country=Norway<br>Year=%{x}<br>Value=%{y}",
         "legendgroup": "Country=Norway",
         "line": {
          "color": "#FF97FF",
          "dash": "solid"
         },
         "mode": "lines",
         "name": "Country=Norway",
         "showlegend": true,
         "type": "scatter",
         "x": [
          1990,
          1991,
          1992,
          1993,
          1994,
          1995,
          1996,
          1997,
          1998,
          1999,
          2000,
          2001,
          2002,
          2003,
          2004,
          2005,
          2006,
          2007,
          2008,
          2009,
          2010,
          2011,
          2012,
          2013
         ],
         "xaxis": "x",
         "y": [
          38.6,
          40.9,
          42.9,
          44.4,
          45.9,
          47.6,
          48.3,
          48.7,
          49,
          49.1,
          49.6,
          49.7,
          50.3,
          50,
          51.4,
          51.8,
          53,
          54.5,
          55,
          55.1,
          54.8,
          55,
          54.9,
          55.2
         ],
         "yaxis": "y"
        },
        {
         "hoverlabel": {
          "namelength": 0
         },
         "hovertemplate": "Country=Croatia<br>Year=%{x}<br>Value=%{y}",
         "legendgroup": "Country=Croatia",
         "line": {
          "color": "#FECB52",
          "dash": "solid"
         },
         "mode": "lines",
         "name": "Country=Croatia",
         "showlegend": true,
         "type": "scatter",
         "x": [
          1990,
          1991,
          1992,
          1993,
          1994,
          1995,
          1996,
          1997,
          1998,
          1999,
          2000,
          2001,
          2002,
          2003,
          2004,
          2005,
          2006,
          2007,
          2008,
          2009,
          2010,
          2011,
          2012,
          2013,
          2014
         ],
         "xaxis": "x",
         "y": [
          7,
          7.5,
          7.7,
          7.7,
          7.6,
          7.5,
          7.1,
          7.3,
          8.1,
          8.2,
          9,
          9.4,
          9.6,
          10.1,
          10.4,
          10.5,
          11,
          11.5,
          12,
          12.9,
          13.3,
          14,
          15.4,
          16.1,
          17.4
         ],
         "yaxis": "y"
        },
        {
         "hoverlabel": {
          "namelength": 0
         },
         "hovertemplate": "Country=Australia<br>Year=%{x}<br>Value=%{y}",
         "legendgroup": "Country=Australia",
         "line": {
          "color": "#636efa",
          "dash": "solid"
         },
         "mode": "lines",
         "name": "Country=Australia",
         "showlegend": true,
         "type": "scatter",
         "x": [
          1990,
          1991,
          1992,
          1993,
          1994,
          1995,
          1996,
          1997,
          1998,
          1999,
          2000,
          2001,
          2002,
          2003,
          2004,
          2005,
          2006,
          2007,
          2008,
          2009,
          2010,
          2011,
          2012,
          2013,
          2014
         ],
         "xaxis": "x",
         "y": [
          21.9,
          23,
          24,
          24.9,
          25.6,
          26.6,
          27.4,
          28.1,
          28.7,
          29.2,
          29.3,
          30.7,
          31.3,
          31.6,
          32.2,
          32.2,
          32.7,
          33.3,
          34.3,
          34.5,
          33.8,
          34.2,
          34.5,
          34.4,
          34.4
         ],
         "yaxis": "y"
        },
        {
         "hoverlabel": {
          "namelength": 0
         },
         "hovertemplate": "Country=Costa Rica<br>Year=%{x}<br>Value=%{y}",
         "legendgroup": "Country=Costa Rica",
         "line": {
          "color": "#EF553B",
          "dash": "solid"
         },
         "mode": "lines",
         "name": "Country=Costa Rica",
         "showlegend": true,
         "type": "scatter",
         "x": [
          1990,
          1991,
          1992,
          1993,
          1994,
          1995,
          1996,
          1997,
          1998,
          1999,
          2000,
          2001,
          2002,
          2003,
          2004,
          2005,
          2006,
          2007,
          2008,
          2009,
          2010,
          2011,
          2012,
          2013,
          2014
         ],
         "xaxis": "x",
         "y": [
          38.5,
          40.3,
          40.6,
          42.1,
          44.7,
          45.9,
          47.1,
          47.9,
          49.3,
          51.1,
          52.7,
          53.5,
          55.3,
          57,
          58.9,
          60.2,
          61.4,
          63.1,
          64.6,
          66.6,
          67.4,
          68.2,
          69.4,
          69.3,
          69.4
         ],
         "yaxis": "y"
        }
       ],
       "layout": {
        "height": 600,
        "legend": {
         "tracegroupgap": 0
        },
        "margin": {
         "t": 60
        },
        "template": {
         "data": {
          "bar": [
           {
            "error_x": {
             "color": "#2a3f5f"
            },
            "error_y": {
             "color": "#2a3f5f"
            },
            "marker": {
             "line": {
              "color": "#E5ECF6",
              "width": 0.5
             }
            },
            "type": "bar"
           }
          ],
          "barpolar": [
           {
            "marker": {
             "line": {
              "color": "#E5ECF6",
              "width": 0.5
             }
            },
            "type": "barpolar"
           }
          ],
          "carpet": [
           {
            "aaxis": {
             "endlinecolor": "#2a3f5f",
             "gridcolor": "white",
             "linecolor": "white",
             "minorgridcolor": "white",
             "startlinecolor": "#2a3f5f"
            },
            "baxis": {
             "endlinecolor": "#2a3f5f",
             "gridcolor": "white",
             "linecolor": "white",
             "minorgridcolor": "white",
             "startlinecolor": "#2a3f5f"
            },
            "type": "carpet"
           }
          ],
          "choropleth": [
           {
            "colorbar": {
             "outlinewidth": 0,
             "ticks": ""
            },
            "type": "choropleth"
           }
          ],
          "contour": [
           {
            "colorbar": {
             "outlinewidth": 0,
             "ticks": ""
            },
            "colorscale": [
             [
              0,
              "#0d0887"
             ],
             [
              0.1111111111111111,
              "#46039f"
             ],
             [
              0.2222222222222222,
              "#7201a8"
             ],
             [
              0.3333333333333333,
              "#9c179e"
             ],
             [
              0.4444444444444444,
              "#bd3786"
             ],
             [
              0.5555555555555556,
              "#d8576b"
             ],
             [
              0.6666666666666666,
              "#ed7953"
             ],
             [
              0.7777777777777778,
              "#fb9f3a"
             ],
             [
              0.8888888888888888,
              "#fdca26"
             ],
             [
              1,
              "#f0f921"
             ]
            ],
            "type": "contour"
           }
          ],
          "contourcarpet": [
           {
            "colorbar": {
             "outlinewidth": 0,
             "ticks": ""
            },
            "type": "contourcarpet"
           }
          ],
          "heatmap": [
           {
            "colorbar": {
             "outlinewidth": 0,
             "ticks": ""
            },
            "colorscale": [
             [
              0,
              "#0d0887"
             ],
             [
              0.1111111111111111,
              "#46039f"
             ],
             [
              0.2222222222222222,
              "#7201a8"
             ],
             [
              0.3333333333333333,
              "#9c179e"
             ],
             [
              0.4444444444444444,
              "#bd3786"
             ],
             [
              0.5555555555555556,
              "#d8576b"
             ],
             [
              0.6666666666666666,
              "#ed7953"
             ],
             [
              0.7777777777777778,
              "#fb9f3a"
             ],
             [
              0.8888888888888888,
              "#fdca26"
             ],
             [
              1,
              "#f0f921"
             ]
            ],
            "type": "heatmap"
           }
          ],
          "heatmapgl": [
           {
            "colorbar": {
             "outlinewidth": 0,
             "ticks": ""
            },
            "colorscale": [
             [
              0,
              "#0d0887"
             ],
             [
              0.1111111111111111,
              "#46039f"
             ],
             [
              0.2222222222222222,
              "#7201a8"
             ],
             [
              0.3333333333333333,
              "#9c179e"
             ],
             [
              0.4444444444444444,
              "#bd3786"
             ],
             [
              0.5555555555555556,
              "#d8576b"
             ],
             [
              0.6666666666666666,
              "#ed7953"
             ],
             [
              0.7777777777777778,
              "#fb9f3a"
             ],
             [
              0.8888888888888888,
              "#fdca26"
             ],
             [
              1,
              "#f0f921"
             ]
            ],
            "type": "heatmapgl"
           }
          ],
          "histogram": [
           {
            "marker": {
             "colorbar": {
              "outlinewidth": 0,
              "ticks": ""
             }
            },
            "type": "histogram"
           }
          ],
          "histogram2d": [
           {
            "colorbar": {
             "outlinewidth": 0,
             "ticks": ""
            },
            "colorscale": [
             [
              0,
              "#0d0887"
             ],
             [
              0.1111111111111111,
              "#46039f"
             ],
             [
              0.2222222222222222,
              "#7201a8"
             ],
             [
              0.3333333333333333,
              "#9c179e"
             ],
             [
              0.4444444444444444,
              "#bd3786"
             ],
             [
              0.5555555555555556,
              "#d8576b"
             ],
             [
              0.6666666666666666,
              "#ed7953"
             ],
             [
              0.7777777777777778,
              "#fb9f3a"
             ],
             [
              0.8888888888888888,
              "#fdca26"
             ],
             [
              1,
              "#f0f921"
             ]
            ],
            "type": "histogram2d"
           }
          ],
          "histogram2dcontour": [
           {
            "colorbar": {
             "outlinewidth": 0,
             "ticks": ""
            },
            "colorscale": [
             [
              0,
              "#0d0887"
             ],
             [
              0.1111111111111111,
              "#46039f"
             ],
             [
              0.2222222222222222,
              "#7201a8"
             ],
             [
              0.3333333333333333,
              "#9c179e"
             ],
             [
              0.4444444444444444,
              "#bd3786"
             ],
             [
              0.5555555555555556,
              "#d8576b"
             ],
             [
              0.6666666666666666,
              "#ed7953"
             ],
             [
              0.7777777777777778,
              "#fb9f3a"
             ],
             [
              0.8888888888888888,
              "#fdca26"
             ],
             [
              1,
              "#f0f921"
             ]
            ],
            "type": "histogram2dcontour"
           }
          ],
          "mesh3d": [
           {
            "colorbar": {
             "outlinewidth": 0,
             "ticks": ""
            },
            "type": "mesh3d"
           }
          ],
          "parcoords": [
           {
            "line": {
             "colorbar": {
              "outlinewidth": 0,
              "ticks": ""
             }
            },
            "type": "parcoords"
           }
          ],
          "scatter": [
           {
            "marker": {
             "colorbar": {
              "outlinewidth": 0,
              "ticks": ""
             }
            },
            "type": "scatter"
           }
          ],
          "scatter3d": [
           {
            "line": {
             "colorbar": {
              "outlinewidth": 0,
              "ticks": ""
             }
            },
            "marker": {
             "colorbar": {
              "outlinewidth": 0,
              "ticks": ""
             }
            },
            "type": "scatter3d"
           }
          ],
          "scattercarpet": [
           {
            "marker": {
             "colorbar": {
              "outlinewidth": 0,
              "ticks": ""
             }
            },
            "type": "scattercarpet"
           }
          ],
          "scattergeo": [
           {
            "marker": {
             "colorbar": {
              "outlinewidth": 0,
              "ticks": ""
             }
            },
            "type": "scattergeo"
           }
          ],
          "scattergl": [
           {
            "marker": {
             "colorbar": {
              "outlinewidth": 0,
              "ticks": ""
             }
            },
            "type": "scattergl"
           }
          ],
          "scattermapbox": [
           {
            "marker": {
             "colorbar": {
              "outlinewidth": 0,
              "ticks": ""
             }
            },
            "type": "scattermapbox"
           }
          ],
          "scatterpolar": [
           {
            "marker": {
             "colorbar": {
              "outlinewidth": 0,
              "ticks": ""
             }
            },
            "type": "scatterpolar"
           }
          ],
          "scatterpolargl": [
           {
            "marker": {
             "colorbar": {
              "outlinewidth": 0,
              "ticks": ""
             }
            },
            "type": "scatterpolargl"
           }
          ],
          "scatterternary": [
           {
            "marker": {
             "colorbar": {
              "outlinewidth": 0,
              "ticks": ""
             }
            },
            "type": "scatterternary"
           }
          ],
          "surface": [
           {
            "colorbar": {
             "outlinewidth": 0,
             "ticks": ""
            },
            "colorscale": [
             [
              0,
              "#0d0887"
             ],
             [
              0.1111111111111111,
              "#46039f"
             ],
             [
              0.2222222222222222,
              "#7201a8"
             ],
             [
              0.3333333333333333,
              "#9c179e"
             ],
             [
              0.4444444444444444,
              "#bd3786"
             ],
             [
              0.5555555555555556,
              "#d8576b"
             ],
             [
              0.6666666666666666,
              "#ed7953"
             ],
             [
              0.7777777777777778,
              "#fb9f3a"
             ],
             [
              0.8888888888888888,
              "#fdca26"
             ],
             [
              1,
              "#f0f921"
             ]
            ],
            "type": "surface"
           }
          ],
          "table": [
           {
            "cells": {
             "fill": {
              "color": "#EBF0F8"
             },
             "line": {
              "color": "white"
             }
            },
            "header": {
             "fill": {
              "color": "#C8D4E3"
             },
             "line": {
              "color": "white"
             }
            },
            "type": "table"
           }
          ]
         },
         "layout": {
          "annotationdefaults": {
           "arrowcolor": "#2a3f5f",
           "arrowhead": 0,
           "arrowwidth": 1
          },
          "colorscale": {
           "diverging": [
            [
             0,
             "#8e0152"
            ],
            [
             0.1,
             "#c51b7d"
            ],
            [
             0.2,
             "#de77ae"
            ],
            [
             0.3,
             "#f1b6da"
            ],
            [
             0.4,
             "#fde0ef"
            ],
            [
             0.5,
             "#f7f7f7"
            ],
            [
             0.6,
             "#e6f5d0"
            ],
            [
             0.7,
             "#b8e186"
            ],
            [
             0.8,
             "#7fbc41"
            ],
            [
             0.9,
             "#4d9221"
            ],
            [
             1,
             "#276419"
            ]
           ],
           "sequential": [
            [
             0,
             "#0d0887"
            ],
            [
             0.1111111111111111,
             "#46039f"
            ],
            [
             0.2222222222222222,
             "#7201a8"
            ],
            [
             0.3333333333333333,
             "#9c179e"
            ],
            [
             0.4444444444444444,
             "#bd3786"
            ],
            [
             0.5555555555555556,
             "#d8576b"
            ],
            [
             0.6666666666666666,
             "#ed7953"
            ],
            [
             0.7777777777777778,
             "#fb9f3a"
            ],
            [
             0.8888888888888888,
             "#fdca26"
            ],
            [
             1,
             "#f0f921"
            ]
           ],
           "sequentialminus": [
            [
             0,
             "#0d0887"
            ],
            [
             0.1111111111111111,
             "#46039f"
            ],
            [
             0.2222222222222222,
             "#7201a8"
            ],
            [
             0.3333333333333333,
             "#9c179e"
            ],
            [
             0.4444444444444444,
             "#bd3786"
            ],
            [
             0.5555555555555556,
             "#d8576b"
            ],
            [
             0.6666666666666666,
             "#ed7953"
            ],
            [
             0.7777777777777778,
             "#fb9f3a"
            ],
            [
             0.8888888888888888,
             "#fdca26"
            ],
            [
             1,
             "#f0f921"
            ]
           ]
          },
          "colorway": [
           "#636efa",
           "#EF553B",
           "#00cc96",
           "#ab63fa",
           "#FFA15A",
           "#19d3f3",
           "#FF6692",
           "#B6E880",
           "#FF97FF",
           "#FECB52"
          ],
          "font": {
           "color": "#2a3f5f"
          },
          "geo": {
           "bgcolor": "white",
           "lakecolor": "white",
           "landcolor": "#E5ECF6",
           "showlakes": true,
           "showland": true,
           "subunitcolor": "white"
          },
          "hoverlabel": {
           "align": "left"
          },
          "hovermode": "closest",
          "mapbox": {
           "style": "light"
          },
          "paper_bgcolor": "white",
          "plot_bgcolor": "#E5ECF6",
          "polar": {
           "angularaxis": {
            "gridcolor": "white",
            "linecolor": "white",
            "ticks": ""
           },
           "bgcolor": "#E5ECF6",
           "radialaxis": {
            "gridcolor": "white",
            "linecolor": "white",
            "ticks": ""
           }
          },
          "scene": {
           "xaxis": {
            "backgroundcolor": "#E5ECF6",
            "gridcolor": "white",
            "gridwidth": 2,
            "linecolor": "white",
            "showbackground": true,
            "ticks": "",
            "zerolinecolor": "white"
           },
           "yaxis": {
            "backgroundcolor": "#E5ECF6",
            "gridcolor": "white",
            "gridwidth": 2,
            "linecolor": "white",
            "showbackground": true,
            "ticks": "",
            "zerolinecolor": "white"
           },
           "zaxis": {
            "backgroundcolor": "#E5ECF6",
            "gridcolor": "white",
            "gridwidth": 2,
            "linecolor": "white",
            "showbackground": true,
            "ticks": "",
            "zerolinecolor": "white"
           }
          },
          "shapedefaults": {
           "line": {
            "color": "#2a3f5f"
           }
          },
          "ternary": {
           "aaxis": {
            "gridcolor": "white",
            "linecolor": "white",
            "ticks": ""
           },
           "baxis": {
            "gridcolor": "white",
            "linecolor": "white",
            "ticks": ""
           },
           "bgcolor": "#E5ECF6",
           "caxis": {
            "gridcolor": "white",
            "linecolor": "white",
            "ticks": ""
           }
          },
          "title": {
           "x": 0.05
          },
          "xaxis": {
           "automargin": true,
           "gridcolor": "white",
           "linecolor": "white",
           "ticks": "",
           "zerolinecolor": "white",
           "zerolinewidth": 2
          },
          "yaxis": {
           "automargin": true,
           "gridcolor": "white",
           "linecolor": "white",
           "ticks": "",
           "zerolinecolor": "white",
           "zerolinewidth": 2
          }
         }
        },
        "xaxis": {
         "anchor": "y",
         "domain": [
          0,
          0.98
         ],
         "title": {
          "text": "Year"
         }
        },
        "yaxis": {
         "anchor": "x",
         "domain": [
          0,
          1
         ],
         "title": {
          "text": "Value"
         }
        }
       }
      },
      "text/html": [
       "<div>\n",
       "        \n",
       "        \n",
       "            <div id=\"8e2778c3-0f82-4b59-acc5-54310c8cc2be\" class=\"plotly-graph-div\" style=\"height:600px; width:100%;\"></div>\n",
       "            <script type=\"text/javascript\">\n",
       "                require([\"plotly\"], function(Plotly) {\n",
       "                    window.PLOTLYENV=window.PLOTLYENV || {};\n",
       "                    \n",
       "                if (document.getElementById(\"8e2778c3-0f82-4b59-acc5-54310c8cc2be\")) {\n",
       "                    Plotly.newPlot(\n",
       "                        '8e2778c3-0f82-4b59-acc5-54310c8cc2be',\n",
       "                        [{\"hoverlabel\": {\"namelength\": 0}, \"hovertemplate\": \"Country=Latvia<br>Year=%{x}<br>Value=%{y}\", \"legendgroup\": \"Country=Latvia\", \"line\": {\"color\": \"#636efa\", \"dash\": \"solid\"}, \"mode\": \"lines\", \"name\": \"Country=Latvia\", \"showlegend\": true, \"type\": \"scatter\", \"x\": [1990, 1991, 1992, 1993, 1994, 1995, 1996, 1997, 1998, 1999, 2000, 2001, 2002, 2003, 2004, 2005, 2006, 2007, 2008, 2009, 2010, 2011, 2012, 2013, 2014], \"xaxis\": \"x\", \"y\": [16.9, 18.4, 19.6, 23.0, 26.4, 29.9, 33.1, 34.8, 37.1, 39.1, 40.4, 42.1, 43.1, 44.3, 45.3, 44.7, 43.8, 43.2, 43.2, 43.5, 44.4, 44.6, 45.0, 44.6, 44.0], \"yaxis\": \"y\"}, {\"hoverlabel\": {\"namelength\": 0}, \"hovertemplate\": \"Country=Greece<br>Year=%{x}<br>Value=%{y}\", \"legendgroup\": \"Country=Greece\", \"line\": {\"color\": \"#EF553B\", \"dash\": \"solid\"}, \"mode\": \"lines\", \"name\": \"Country=Greece\", \"showlegend\": true, \"type\": \"scatter\", \"x\": [1990, 1991, 1992, 1993, 1994, 1995, 1996, 1997, 1998, 1999, 2000, 2001, 2002, 2003, 2004, 2005, 2006, 2007, 2008, 2009, 2010, 2011, 2012, 2013, 2014], \"xaxis\": \"x\", \"y\": [2.2, 2.4, 2.6, 2.8, 2.9, 3.0, 3.3, 3.5, 3.8, 3.9, 4.0, 4.3, 4.4, 4.8, 5.1, 5.1, 5.3, 5.8, 5.9, 6.6, 7.3, 7.4, 7.6, 7.0, 8.2], \"yaxis\": \"y\"}, {\"hoverlabel\": {\"namelength\": 0}, \"hovertemplate\": \"Country=Chile<br>Year=%{x}<br>Value=%{y}\", \"legendgroup\": \"Country=Chile\", \"line\": {\"color\": \"#00cc96\", \"dash\": \"solid\"}, \"mode\": \"lines\", \"name\": \"Country=Chile\", \"showlegend\": true, \"type\": \"scatter\", \"x\": [2002, 2006, 2007, 2008, 2009, 2010, 2011, 2012, 2013], \"xaxis\": \"x\", \"y\": [52.2, 61.2, 63.1, 65.1, 67.4, 68.5, 69.3, 70.3, 71.1], \"yaxis\": \"y\"}, {\"hoverlabel\": {\"namelength\": 0}, \"hovertemplate\": \"Country=Cyprus<br>Year=%{x}<br>Value=%{y}\", \"legendgroup\": \"Country=Cyprus\", \"line\": {\"color\": \"#ab63fa\", \"dash\": \"solid\"}, \"mode\": \"lines\", \"name\": \"Country=Cyprus\", \"showlegend\": true, \"type\": \"scatter\", \"x\": [1990, 1991, 1992, 1993, 1994, 1995, 1996, 1997, 1998, 1999, 2000, 2001, 2002, 2003, 2004, 2005, 2006, 2007, 2008, 2009, 2010, 2011, 2012], \"xaxis\": \"x\", \"y\": [0.7, 0.8, 1.1, 0.8, 1.0, 1.4, 1.5, 1.6, 2.1, 2.2, 2.3, 2.5, 3.5, 3.5, 3.3, 4.4, 5.6, 8.7, 8.9, 11.7, 15.2, 16.9, 18.6], \"yaxis\": \"y\"}, {\"hoverlabel\": {\"namelength\": 0}, \"hovertemplate\": \"Country=Netherlands<br>Year=%{x}<br>Value=%{y}\", \"legendgroup\": \"Country=Netherlands\", \"line\": {\"color\": \"#FFA15A\", \"dash\": \"solid\"}, \"mode\": \"lines\", \"name\": \"Country=Netherlands\", \"showlegend\": true, \"type\": \"scatter\", \"x\": [1990, 1991, 1992, 1993, 1994, 1995, 1996, 1997, 1998, 1999, 2000, 2001, 2002, 2003, 2004, 2005, 2006, 2007, 2008, 2009, 2010, 2011, 2012, 2013, 2014], \"xaxis\": \"x\", \"y\": [11.4, 12.0, 12.4, 13.1, 14.3, 15.5, 17.0, 19.2, 20.8, 22.7, 24.9, 27.2, 29.1, 30.7, 32.5, 34.9, 37.1, 39.5, 41.2, 43.3, 44.3, 45.3, 46.6, 47.4, 48.7], \"yaxis\": \"y\"}, {\"hoverlabel\": {\"namelength\": 0}, \"hovertemplate\": \"Country=Lithuania<br>Year=%{x}<br>Value=%{y}\", \"legendgroup\": \"Country=Lithuania\", \"line\": {\"color\": \"#19d3f3\", \"dash\": \"solid\"}, \"mode\": \"lines\", \"name\": \"Country=Lithuania\", \"showlegend\": true, \"type\": \"scatter\", \"x\": [1990, 1991, 1992, 1993, 1994, 1995, 1996, 1997, 1998, 1999, 2000, 2001, 2002, 2003, 2004, 2005, 2006, 2007, 2008, 2009, 2010, 2011, 2012, 2013, 2014], \"xaxis\": \"x\", \"y\": [7.0, 7.0, 7.9, 9.1, 10.9, 12.8, 14.3, 16.5, 18.0, 19.8, 22.6, 25.4, 28.0, 29.5, 28.5, 28.0, 28.8, 27.8, 26.6, 25.4, 25.7, 27.7, 28.8, 29.5, 29.0], \"yaxis\": \"y\"}, {\"hoverlabel\": {\"namelength\": 0}, \"hovertemplate\": \"Country=Canada<br>Year=%{x}<br>Value=%{y}\", \"legendgroup\": \"Country=Canada\", \"line\": {\"color\": \"#FF6692\", \"dash\": \"solid\"}, \"mode\": \"lines\", \"name\": \"Country=Canada\", \"showlegend\": true, \"type\": \"scatter\", \"x\": [1991, 1992, 1993, 1994, 1995, 1996, 1997, 1998, 1999, 2000, 2001, 2002, 2003, 2004, 2005, 2006, 2007, 2008, 2009, 2010, 2011, 2012], \"xaxis\": \"x\", \"y\": [27.0, 28.2, 29.2, 29.6, 30.5, 30.9, 31.4, 31.3, 31.2, 31.7, 31.4, 31.6, 29.2, 28.8, 29.1, 30.6, 31.0, 32.1, 32.2, 32.3, 33.4, 33.0], \"yaxis\": \"y\"}, {\"hoverlabel\": {\"namelength\": 0}, \"hovertemplate\": \"Country=Portugal<br>Year=%{x}<br>Value=%{y}\", \"legendgroup\": \"Country=Portugal\", \"line\": {\"color\": \"#B6E880\", \"dash\": \"solid\"}, \"mode\": \"lines\", \"name\": \"Country=Portugal\", \"showlegend\": true, \"type\": \"scatter\", \"x\": [1990, 1991, 1992, 1993, 1994, 1995, 1996, 1997, 1998, 1999, 2000, 2001, 2002, 2003, 2004, 2005, 2006, 2007, 2008, 2009, 2010, 2011, 2012, 2013, 2014], \"xaxis\": \"x\", \"y\": [14.7, 15.6, 16.1, 16.9, 17.8, 18.6, 18.6, 19.5, 20.1, 20.8, 22.2, 23.8, 25.5, 26.9, 29.1, 30.7, 31.6, 33.6, 36.2, 38.1, 41.3, 42.8, 45.6, 47.6, 49.3], \"yaxis\": \"y\"}, {\"hoverlabel\": {\"namelength\": 0}, \"hovertemplate\": \"Country=Italy<br>Year=%{x}<br>Value=%{y}\", \"legendgroup\": \"Country=Italy\", \"line\": {\"color\": \"#FF97FF\", \"dash\": \"solid\"}, \"mode\": \"lines\", \"name\": \"Country=Italy\", \"showlegend\": true, \"type\": \"scatter\", \"x\": [1990, 1991, 1992, 1993, 1994, 1995, 1996, 1997, 1998, 1999, 2000, 2001, 2002, 2003, 2005, 2006, 2007, 2008, 2009, 2010, 2011, 2012, 2013, 2014], \"xaxis\": \"x\", \"y\": [6.5, 6.7, 6.7, 7.4, 7.8, 8.1, 8.3, 7.0, 8.7, 9.2, 9.7, 9.9, 10.9, 13.0, 15.2, 16.2, 17.7, 18.9, 19.8, 21.5, 23.4, 24.5, 26.9, 28.8], \"yaxis\": \"y\"}, {\"hoverlabel\": {\"namelength\": 0}, \"hovertemplate\": \"Country=Israel<br>Year=%{x}<br>Value=%{y}\", \"legendgroup\": \"Country=Israel\", \"line\": {\"color\": \"#FECB52\", \"dash\": \"solid\"}, \"mode\": \"lines\", \"name\": \"Country=Israel\", \"showlegend\": true, \"type\": \"scatter\", \"x\": [2002, 2003, 2004, 2005, 2006, 2007, 2008, 2009, 2010, 2011, 2012, 2013, 2014], \"xaxis\": \"x\", \"y\": [5.3, 5.8, 5.6, 5.5, 5.6, 5.6, 5.7, 5.8, 5.8, 6.0, 5.8, 6.1, 6.3], \"yaxis\": \"y\"}, {\"hoverlabel\": {\"namelength\": 0}, \"hovertemplate\": \"Country=Ireland<br>Year=%{x}<br>Value=%{y}\", \"legendgroup\": \"Country=Ireland\", \"line\": {\"color\": \"#636efa\", \"dash\": \"solid\"}, \"mode\": \"lines\", \"name\": \"Country=Ireland\", \"showlegend\": true, \"type\": \"scatter\", \"x\": [1990, 1991, 1992, 1993, 1994, 1995, 1996, 1997, 1998, 1999, 2000, 2001, 2002, 2003, 2004, 2005, 2006, 2007, 2008, 2009, 2010, 2011, 2012], \"xaxis\": \"x\", \"y\": [14.6, 16.9, 18.0, 19.9, 20.8, 22.3, 25.3, 26.8, 28.7, 31.1, 31.5, 31.3, 31.2, 31.2, 31.9, 31.8, 32.7, 33.1, 33.4, 33.4, 33.8, 33.9, 35.1], \"yaxis\": \"y\"}, {\"hoverlabel\": {\"namelength\": 0}, \"hovertemplate\": \"Country=Germany<br>Year=%{x}<br>Value=%{y}\", \"legendgroup\": \"Country=Germany\", \"line\": {\"color\": \"#EF553B\", \"dash\": \"solid\"}, \"mode\": \"lines\", \"name\": \"Country=Germany\", \"showlegend\": true, \"type\": \"scatter\", \"x\": [1990, 1991, 1992, 1993, 1994, 1995, 1996, 1997, 1998, 1999, 2000, 2001, 2002, 2003, 2004, 2005, 2006, 2007, 2008, 2009, 2010, 2011, 2012, 2013, 2014], \"xaxis\": \"x\", \"y\": [15.3, 15.1, 14.9, 14.8, 15.4, 16.1, 17.0, 18.0, 20.0, 22.1, 23.4, 25.0, 26.1, 27.0, 27.9, 29.2, 30.0, 30.8, 32.1, 32.7, 33.3, 33.9, 34.5, 34.8, 35.0], \"yaxis\": \"y\"}, {\"hoverlabel\": {\"namelength\": 0}, \"hovertemplate\": \"Country=Czech Republic<br>Year=%{x}<br>Value=%{y}\", \"legendgroup\": \"Country=Czech Republic\", \"line\": {\"color\": \"#00cc96\", \"dash\": \"solid\"}, \"mode\": \"lines\", \"name\": \"Country=Czech Republic\", \"showlegend\": true, \"type\": \"scatter\", \"x\": [1990, 1991, 1992, 1993, 1994, 1995, 1996, 1997, 1998, 1999, 2000, 2001, 2002, 2003, 2004, 2005, 2006, 2007, 2008, 2009, 2010, 2011, 2012, 2013, 2014], \"xaxis\": \"x\", \"y\": [8.6, 9.8, 10.7, 12.7, 14.5, 15.6, 16.9, 17.8, 19.0, 20.6, 21.8, 23.5, 25.3, 28.5, 30.6, 31.7, 33.3, 34.5, 36.3, 38.8, 40.3, 41.8, 43.4, 45.0, 46.7], \"yaxis\": \"y\"}, {\"hoverlabel\": {\"namelength\": 0}, \"hovertemplate\": \"Country=Mexico<br>Year=%{x}<br>Value=%{y}\", \"legendgroup\": \"Country=Mexico\", \"line\": {\"color\": \"#ab63fa\", \"dash\": \"solid\"}, \"mode\": \"lines\", \"name\": \"Country=Mexico\", \"showlegend\": true, \"type\": \"scatter\", \"x\": [1990, 1991, 1992, 1993, 1994, 1995, 1996, 1997, 1998, 1999, 2000, 2001, 2002, 2003, 2004, 2005, 2006, 2007, 2008, 2009, 2010, 2011, 2012, 2013, 2014], \"xaxis\": \"x\", \"y\": [33.2, 35.2, 36.1, 37.8, 37.8, 37.1, 38.1, 39.3, 40.0, 41.0, 41.6, 44.0, 45.7, 46.3, 48.2, 50.1, 50.7, 53.4, 55.4, 58.3, 59.4, 60.7, 62.3, 63.7, 64.9], \"yaxis\": \"y\"}, {\"hoverlabel\": {\"namelength\": 0}, \"hovertemplate\": \"Country=France<br>Year=%{x}<br>Value=%{y}\", \"legendgroup\": \"Country=France\", \"line\": {\"color\": \"#FFA15A\", \"dash\": \"solid\"}, \"mode\": \"lines\", \"name\": \"Country=France\", \"showlegend\": true, \"type\": \"scatter\", \"x\": [1998, 1999, 2000, 2001, 2002, 2003, 2004, 2005, 2006, 2007, 2008, 2009, 2010, 2011, 2012], \"xaxis\": \"x\", \"y\": [41.7, 42.7, 43.6, 44.7, 45.2, 46.2, 47.4, 48.4, 50.5, 51.7, 52.6, 53.7, 55.0, 55.8, 56.7], \"yaxis\": \"y\"}, {\"hoverlabel\": {\"namelength\": 0}, \"hovertemplate\": \"Country=Switzerland<br>Year=%{x}<br>Value=%{y}\", \"legendgroup\": \"Country=Switzerland\", \"line\": {\"color\": \"#19d3f3\", \"dash\": \"solid\"}, \"mode\": \"lines\", \"name\": \"Country=Switzerland\", \"showlegend\": true, \"type\": \"scatter\", \"x\": [1990, 1991, 1992, 1993, 1994, 1995, 1996, 1997, 1998, 1999, 2000, 2001, 2002, 2003, 2004, 2005, 2006, 2007, 2008, 2009, 2010, 2011, 2012, 2013, 2014], \"xaxis\": \"x\", \"y\": [6.1, 6.5, 6.2, 6.3, 6.4, 6.8, 7.3, 8.1, 8.8, 10.0, 10.7, 11.2, 11.7, 12.4, 13.3, 13.7, 15.4, 16.2, 17.1, 17.9, 18.6, 19.3, 20.2, 21.1, 21.7], \"yaxis\": \"y\"}, {\"hoverlabel\": {\"namelength\": 0}, \"hovertemplate\": \"Country=Luxembourg<br>Year=%{x}<br>Value=%{y}\", \"legendgroup\": \"Country=Luxembourg\", \"line\": {\"color\": \"#FF6692\", \"dash\": \"solid\"}, \"mode\": \"lines\", \"name\": \"Country=Luxembourg\", \"showlegend\": true, \"type\": \"scatter\", \"x\": [1990, 1991, 1992, 1993, 1994, 1995, 1996, 1997, 1998, 1999, 2000, 2001, 2002, 2003, 2004, 2005, 2006, 2007, 2008, 2009, 2010, 2011, 2012, 2013, 2014], \"xaxis\": \"x\", \"y\": [12.8, 12.2, 12.7, 12.9, 12.7, 13.1, 15.0, 16.8, 17.5, 18.6, 21.9, 22.3, 23.2, 25.0, 26.1, 27.2, 28.8, 29.2, 30.2, 32.1, 34.0, 34.1, 37.1, 37.8, 39.1], \"yaxis\": \"y\"}, {\"hoverlabel\": {\"namelength\": 0}, \"hovertemplate\": \"Country=Poland<br>Year=%{x}<br>Value=%{y}\", \"legendgroup\": \"Country=Poland\", \"line\": {\"color\": \"#B6E880\", \"dash\": \"solid\"}, \"mode\": \"lines\", \"name\": \"Country=Poland\", \"showlegend\": true, \"type\": \"scatter\", \"x\": [1990, 1991, 1992, 1993, 1994, 1995, 1996, 1997, 1998, 1999, 2000, 2001, 2002, 2003, 2004, 2005, 2006, 2007, 2008, 2009, 2010, 2011, 2012, 2013, 2014], \"xaxis\": \"x\", \"y\": [6.2, 6.6, 7.2, 8.2, 9.0, 9.5, 10.2, 11.0, 11.6, 11.7, 12.1, 13.1, 14.4, 15.8, 17.1, 18.5, 18.9, 19.5, 19.9, 20.2, 20.6, 21.2, 22.3, 23.4, 24.2], \"yaxis\": \"y\"}, {\"hoverlabel\": {\"namelength\": 0}, \"hovertemplate\": \"Country=Slovenia<br>Year=%{x}<br>Value=%{y}\", \"legendgroup\": \"Country=Slovenia\", \"line\": {\"color\": \"#FF97FF\", \"dash\": \"solid\"}, \"mode\": \"lines\", \"name\": \"Country=Slovenia\", \"showlegend\": true, \"type\": \"scatter\", \"x\": [1990, 1991, 1992, 1993, 1994, 1995, 1996, 1997, 1998, 1999, 2000, 2001, 2002, 2003, 2004, 2005, 2006, 2007, 2008, 2009, 2010, 2011, 2012, 2013, 2014], \"xaxis\": \"x\", \"y\": [24.5, 26.4, 27.7, 28.0, 28.8, 29.8, 31.9, 32.7, 33.6, 35.4, 37.1, 39.4, 40.2, 42.5, 44.8, 46.7, 47.2, 50.8, 52.8, 53.6, 55.7, 56.8, 57.6, 58.0, 58.3], \"yaxis\": \"y\"}, {\"hoverlabel\": {\"namelength\": 0}, \"hovertemplate\": \"Country=Turkey<br>Year=%{x}<br>Value=%{y}\", \"legendgroup\": \"Country=Turkey\", \"line\": {\"color\": \"#FECB52\", \"dash\": \"solid\"}, \"mode\": \"lines\", \"name\": \"Country=Turkey\", \"showlegend\": true, \"type\": \"scatter\", \"x\": [2010, 2011, 2012, 2013, 2014], \"xaxis\": \"x\", \"y\": [2.6, 2.7, 2.6, 2.7, 2.8], \"yaxis\": \"y\"}, {\"hoverlabel\": {\"namelength\": 0}, \"hovertemplate\": \"Country=Belgium<br>Year=%{x}<br>Value=%{y}\", \"legendgroup\": \"Country=Belgium\", \"line\": {\"color\": \"#636efa\", \"dash\": \"solid\"}, \"mode\": \"lines\", \"name\": \"Country=Belgium\", \"showlegend\": true, \"type\": \"scatter\", \"x\": [1990, 1991, 1992, 1993, 1994, 1995, 1996, 1997, 1998, 1999, 2000, 2001, 2002, 2003, 2004, 2005, 2006, 2007, 2008, 2009, 2010, 2011, 2012], \"xaxis\": \"x\", \"y\": [11.6, 12.6, 13.6, 14.5, 15.8, 17.3, 19.1, 21.0, 23.2, 25.5, 28.0, 30.2, 32.5, 34.7, 36.9, 39.4, 40.9, 43.2, 44.6, 45.5, 45.7, 50.0, 52.3], \"yaxis\": \"y\"}, {\"hoverlabel\": {\"namelength\": 0}, \"hovertemplate\": \"Country=Korea<br>Year=%{x}<br>Value=%{y}\", \"legendgroup\": \"Country=Korea\", \"line\": {\"color\": \"#EF553B\", \"dash\": \"solid\"}, \"mode\": \"lines\", \"name\": \"Country=Korea\", \"showlegend\": true, \"type\": \"scatter\", \"x\": [1990, 1991, 1992, 1993, 1994, 1995, 1996, 1997, 1998, 1999, 2000, 2001, 2002, 2003, 2004, 2005, 2006, 2007, 2008, 2009, 2010, 2011, 2012, 2013, 2014], \"xaxis\": \"x\", \"y\": [0.9, 1.0, 1.1, 1.2, 1.3, 1.2, 0.9, 0.6, 0.7, 0.8, 0.9, 1.0, 1.1, 1.3, 1.3, 1.5, 1.5, 1.6, 1.8, 2.0, 2.1, 2.1, 2.1, 2.1, 1.9], \"yaxis\": \"y\"}, {\"hoverlabel\": {\"namelength\": 0}, \"hovertemplate\": \"Country=Malta<br>Year=%{x}<br>Value=%{y}\", \"legendgroup\": \"Country=Malta\", \"line\": {\"color\": \"#00cc96\", \"dash\": \"solid\"}, \"mode\": \"lines\", \"name\": \"Country=Malta\", \"showlegend\": true, \"type\": \"scatter\", \"x\": [1990, 1991, 1992, 1993, 1994, 1995, 1996, 1997, 1998, 1999, 2000, 2001, 2002, 2003, 2004, 2005, 2006, 2007, 2008, 2009, 2010, 2011, 2012, 2013, 2014], \"xaxis\": \"x\", \"y\": [1.8, 2.0, 2.3, 2.2, 2.9, 4.6, 2.7, 5.8, 7.6, 9.6, 10.6, 13.2, 14.3, 16.3, 19.1, 20.0, 22.4, 24.9, 25.4, 27.4, 25.3, 23.0, 25.7, 25.9, 25.9], \"yaxis\": \"y\"}, {\"hoverlabel\": {\"namelength\": 0}, \"hovertemplate\": \"Country=Finland<br>Year=%{x}<br>Value=%{y}\", \"legendgroup\": \"Country=Finland\", \"line\": {\"color\": \"#ab63fa\", \"dash\": \"solid\"}, \"mode\": \"lines\", \"name\": \"Country=Finland\", \"showlegend\": true, \"type\": \"scatter\", \"x\": [1990, 1991, 1992, 1993, 1994, 1995, 1996, 1997, 1998, 1999, 2000, 2001, 2002, 2003, 2004, 2005, 2006, 2007, 2008, 2009, 2010, 2011, 2012, 2013, 2014], \"xaxis\": \"x\", \"y\": [25.2, 27.4, 28.9, 30.3, 31.3, 33.1, 35.4, 36.5, 37.2, 38.7, 39.2, 39.5, 39.9, 40.0, 40.8, 40.4, 40.5, 40.6, 40.7, 40.9, 41.1, 40.9, 41.5, 42.1, 42.8], \"yaxis\": \"y\"}, {\"hoverlabel\": {\"namelength\": 0}, \"hovertemplate\": \"Country=Sweden<br>Year=%{x}<br>Value=%{y}\", \"legendgroup\": \"Country=Sweden\", \"line\": {\"color\": \"#FFA15A\", \"dash\": \"solid\"}, \"mode\": \"lines\", \"name\": \"Country=Sweden\", \"showlegend\": true, \"type\": \"scatter\", \"x\": [1990, 1991, 1992, 1993, 1994, 1995, 1996, 1997, 1998, 1999, 2000, 2001, 2002, 2003, 2004, 2005, 2006, 2007, 2008, 2009, 2010, 2011, 2012, 2013, 2014], \"xaxis\": \"x\", \"y\": [47.0, 48.2, 49.5, 50.4, 51.6, 53.0, 53.9, 54.1, 54.7, 55.3, 55.3, 55.5, 56.0, 56.0, 55.4, 55.4, 55.5, 54.8, 54.7, 54.4, 54.2, 54.3, 54.5, 54.4, 54.6], \"yaxis\": \"y\"}, {\"hoverlabel\": {\"namelength\": 0}, \"hovertemplate\": \"Country=Bulgaria<br>Year=%{x}<br>Value=%{y}\", \"legendgroup\": \"Country=Bulgaria\", \"line\": {\"color\": \"#19d3f3\", \"dash\": \"solid\"}, \"mode\": \"lines\", \"name\": \"Country=Bulgaria\", \"showlegend\": true, \"type\": \"scatter\", \"x\": [1990, 1991, 1992, 1993, 1994, 1995, 1996, 1997, 1998, 1999, 2000, 2001, 2002, 2003, 2004, 2005, 2006, 2007, 2008, 2009, 2010, 2011, 2012, 2013, 2014], \"xaxis\": \"x\", \"y\": [12.4, 15.5, 18.5, 22.1, 24.5, 25.7, 28.1, 30.0, 31.5, 35.1, 38.4, 42.0, 42.8, 46.1, 48.7, 49.0, 50.8, 50.2, 51.1, 53.4, 54.1, 56.1, 57.4, 59.1, 58.8], \"yaxis\": \"y\"}, {\"hoverlabel\": {\"namelength\": 0}, \"hovertemplate\": \"Country=Spain<br>Year=%{x}<br>Value=%{y}\", \"legendgroup\": \"Country=Spain\", \"line\": {\"color\": \"#FF6692\", \"dash\": \"solid\"}, \"mode\": \"lines\", \"name\": \"Country=Spain\", \"showlegend\": true, \"type\": \"scatter\", \"x\": [1990, 1991, 1992, 1993, 1994, 1995, 1996, 1997, 1998, 1999, 2000, 2001, 2002, 2003, 2004, 2005, 2006, 2007, 2008, 2009, 2010, 2011, 2012, 2013, 2014], \"xaxis\": \"x\", \"y\": [9.6, 10.0, 10.5, 10.8, 10.8, 11.1, 11.7, 13.1, 14.5, 16.3, 17.7, 19.7, 21.7, 23.4, 25.1, 26.5, 28.4, 30.2, 33.2, 34.5, 35.5, 37.4, 39.0, 40.9, 42.5], \"yaxis\": \"y\"}, {\"hoverlabel\": {\"namelength\": 0}, \"hovertemplate\": \"Country=United States<br>Year=%{x}<br>Value=%{y}\", \"legendgroup\": \"Country=United States\", \"line\": {\"color\": \"#B6E880\", \"dash\": \"solid\"}, \"mode\": \"lines\", \"name\": \"Country=United States\", \"showlegend\": true, \"type\": \"scatter\", \"x\": [1990, 1991, 1992, 1993, 1994, 1995, 1996, 1997, 1998, 1999, 2000, 2001, 2002, 2003, 2004, 2005, 2006, 2007, 2008, 2009, 2010, 2011, 2012, 2013, 2014], \"xaxis\": \"x\", \"y\": [28.0, 29.5, 30.1, 31.0, 32.6, 32.2, 32.4, 32.4, 32.8, 33.0, 33.2, 33.5, 34.0, 34.6, 35.8, 36.9, 38.5, 39.7, 40.6, 41.0, 40.8, 40.7, 40.7, 40.6, 40.2], \"yaxis\": \"y\"}, {\"hoverlabel\": {\"namelength\": 0}, \"hovertemplate\": \"Country=New Zealand<br>Year=%{x}<br>Value=%{y}\", \"legendgroup\": \"Country=New Zealand\", \"line\": {\"color\": \"#FF97FF\", \"dash\": \"solid\"}, \"mode\": \"lines\", \"name\": \"Country=New Zealand\", \"showlegend\": true, \"type\": \"scatter\", \"x\": [1990, 1991, 1992, 1993, 1994, 1995, 1996, 1997, 1998, 1999, 2000, 2001, 2002, 2003, 2004, 2005, 2006, 2007, 2008, 2009, 2010, 2011, 2012, 2013, 2014], \"xaxis\": \"x\", \"y\": [34.0, 35.7, 36.7, 38.0, 38.7, 40.7, 41.7, 41.8, 42.5, 42.8, 43.2, 43.7, 43.6, 44.0, 44.8, 45.2, 47.2, 47.2, 48.2, 48.6, 48.9, 47.6, 47.7, 47.3, 46.7], \"yaxis\": \"y\"}, {\"hoverlabel\": {\"namelength\": 0}, \"hovertemplate\": \"Country=Romania<br>Year=%{x}<br>Value=%{y}\", \"legendgroup\": \"Country=Romania\", \"line\": {\"color\": \"#FECB52\", \"dash\": \"solid\"}, \"mode\": \"lines\", \"name\": \"Country=Romania\", \"showlegend\": true, \"type\": \"scatter\", \"x\": [1993, 1994, 1995, 1996, 1997, 1998, 1999, 2000, 2001, 2002, 2003, 2004, 2005, 2006, 2007, 2008, 2009, 2010, 2011, 2012, 2013, 2014], \"xaxis\": \"x\", \"y\": [17.0, 18.3, 19.7, 20.7, 22.2, 23.0, 24.1, 25.5, 26.7, 26.7, 28.2, 29.4, 28.5, 29.0, 26.7, 27.4, 28.0, 27.7, 30.0, 31.0, 30.5, 31.2], \"yaxis\": \"y\"}, {\"hoverlabel\": {\"namelength\": 0}, \"hovertemplate\": \"Country=United Kingdom<br>Year=%{x}<br>Value=%{y}\", \"legendgroup\": \"Country=United Kingdom\", \"line\": {\"color\": \"#636efa\", \"dash\": \"solid\"}, \"mode\": \"lines\", \"name\": \"Country=United Kingdom\", \"showlegend\": true, \"type\": \"scatter\", \"x\": [1990, 1991, 1992, 1993, 1994, 1995, 1996, 1997, 1998, 1999, 2000, 2001, 2002, 2003, 2004, 2005, 2006, 2007, 2008, 2009, 2010, 2011, 2012], \"xaxis\": \"x\", \"y\": [27.9, 29.8, 30.8, 31.8, 32.0, 33.5, 35.5, 36.8, 37.6, 38.8, 39.5, 40.1, 40.6, 41.5, 42.3, 42.9, 43.7, 44.4, 45.4, 46.3, 46.9, 47.3, 47.6], \"yaxis\": \"y\"}, {\"hoverlabel\": {\"namelength\": 0}, \"hovertemplate\": \"Country=Japan<br>Year=%{x}<br>Value=%{y}\", \"legendgroup\": \"Country=Japan\", \"line\": {\"color\": \"#EF553B\", \"dash\": \"solid\"}, \"mode\": \"lines\", \"name\": \"Country=Japan\", \"showlegend\": true, \"type\": \"scatter\", \"x\": [1990, 1995, 2000, 2001, 2002, 2003, 2004, 2005, 2006, 2007, 2008, 2009, 2010, 2011, 2012, 2013, 2014], \"xaxis\": \"x\", \"y\": [1.1, 1.2, 1.6, 1.7, 1.9, 1.9, 2.0, 2.0, 2.1, 2.0, 2.1, 2.1, 2.1, 2.2, 2.2, 2.2, 2.3], \"yaxis\": \"y\"}, {\"hoverlabel\": {\"namelength\": 0}, \"hovertemplate\": \"Country=Austria<br>Year=%{x}<br>Value=%{y}\", \"legendgroup\": \"Country=Austria\", \"line\": {\"color\": \"#00cc96\", \"dash\": \"solid\"}, \"mode\": \"lines\", \"name\": \"Country=Austria\", \"showlegend\": true, \"type\": \"scatter\", \"x\": [1990, 1991, 1992, 1993, 1994, 1995, 1996, 1997, 1998, 1999, 2000, 2001, 2002, 2003, 2004, 2005, 2006, 2007, 2008, 2009, 2010, 2011, 2012], \"xaxis\": \"x\", \"y\": [23.6, 24.8, 25.2, 26.3, 26.8, 27.4, 28.0, 28.8, 29.5, 30.5, 31.3, 33.1, 33.8, 35.3, 35.9, 36.5, 37.2, 38.3, 38.8, 39.3, 40.1, 40.4, 41.5], \"yaxis\": \"y\"}, {\"hoverlabel\": {\"namelength\": 0}, \"hovertemplate\": \"Country=Hungary<br>Year=%{x}<br>Value=%{y}\", \"legendgroup\": \"Country=Hungary\", \"line\": {\"color\": \"#ab63fa\", \"dash\": \"solid\"}, \"mode\": \"lines\", \"name\": \"Country=Hungary\", \"showlegend\": true, \"type\": \"scatter\", \"x\": [1990, 1991, 1992, 1993, 1994, 1995, 1996, 1997, 1998, 1999, 2000, 2001, 2002, 2003, 2004, 2005, 2006, 2007, 2008, 2009, 2010, 2011, 2012, 2013, 2014], \"xaxis\": \"x\", \"y\": [13.1, 14.1, 15.6, 17.6, 19.4, 20.7, 22.6, 25.0, 26.6, 28.0, 29.0, 30.3, 31.4, 32.3, 34.0, 35.0, 35.6, 37.5, 39.5, 40.8, 40.8, 42.3, 44.5, 45.6, 47.3], \"yaxis\": \"y\"}, {\"hoverlabel\": {\"namelength\": 0}, \"hovertemplate\": \"Country=Estonia<br>Year=%{x}<br>Value=%{y}\", \"legendgroup\": \"Country=Estonia\", \"line\": {\"color\": \"#FFA15A\", \"dash\": \"solid\"}, \"mode\": \"lines\", \"name\": \"Country=Estonia\", \"showlegend\": true, \"type\": \"scatter\", \"x\": [1990, 1991, 1992, 1993, 1994, 1995, 1996, 1997, 1998, 1999, 2000, 2001, 2002, 2003, 2004, 2005, 2006, 2007, 2008, 2009, 2010, 2011, 2012], \"xaxis\": \"x\", \"y\": [27.2, 31.2, 33.9, 38.2, 41.0, 44.2, 48.1, 51.6, 52.5, 54.2, 54.5, 56.2, 56.3, 57.8, 58.0, 58.5, 58.2, 57.8, 59.0, 59.2, 59.1, 59.7, 58.4], \"yaxis\": \"y\"}, {\"hoverlabel\": {\"namelength\": 0}, \"hovertemplate\": \"Country=Denmark<br>Year=%{x}<br>Value=%{y}\", \"legendgroup\": \"Country=Denmark\", \"line\": {\"color\": \"#19d3f3\", \"dash\": \"solid\"}, \"mode\": \"lines\", \"name\": \"Country=Denmark\", \"showlegend\": true, \"type\": \"scatter\", \"x\": [1990, 1991, 1992, 1993, 1994, 1995, 1996, 1997, 1998, 1999, 2000, 2001, 2002, 2003, 2004, 2005, 2006, 2007, 2008, 2009, 2010, 2011, 2012, 2013, 2014], \"xaxis\": \"x\", \"y\": [46.4, 46.5, 46.4, 46.8, 46.9, 46.5, 46.3, 45.1, 44.8, 44.9, 44.6, 44.6, 44.6, 44.9, 45.4, 45.7, 46.4, 46.1, 46.2, 46.8, 47.3, 49.0, 50.6, 51.5, 52.5], \"yaxis\": \"y\"}, {\"hoverlabel\": {\"namelength\": 0}, \"hovertemplate\": \"Country=Slovak Republic<br>Year=%{x}<br>Value=%{y}\", \"legendgroup\": \"Country=Slovak Republic\", \"line\": {\"color\": \"#FF6692\", \"dash\": \"solid\"}, \"mode\": \"lines\", \"name\": \"Country=Slovak Republic\", \"showlegend\": true, \"type\": \"scatter\", \"x\": [1990, 1991, 1992, 1993, 1994, 1995, 1996, 1997, 1998, 1999, 2000, 2001, 2002, 2003, 2004, 2005, 2006, 2007, 2008, 2009, 2010, 2011, 2012, 2013, 2014], \"xaxis\": \"x\", \"y\": [7.6, 8.9, 9.8, 10.6, 11.7, 12.6, 14.0, 15.1, 15.3, 16.9, 18.3, 19.8, 21.6, 23.3, 24.8, 26.0, 27.5, 28.8, 30.1, 31.6, 33.0, 34.0, 35.4, 37.0, 38.9], \"yaxis\": \"y\"}, {\"hoverlabel\": {\"namelength\": 0}, \"hovertemplate\": \"Country=Iceland<br>Year=%{x}<br>Value=%{y}\", \"legendgroup\": \"Country=Iceland\", \"line\": {\"color\": \"#B6E880\", \"dash\": \"solid\"}, \"mode\": \"lines\", \"name\": \"Country=Iceland\", \"showlegend\": true, \"type\": \"scatter\", \"x\": [1990, 1991, 1992, 1993, 1994, 1995, 1996, 1997, 1998, 1999, 2000, 2001, 2002, 2003, 2004, 2005, 2006, 2007, 2008, 2009, 2010, 2011, 2012], \"xaxis\": \"x\", \"y\": [55.2, 56.4, 57.3, 58.3, 59.6, 60.9, 60.7, 65.2, 64.0, 62.4, 65.2, 63.0, 62.3, 63.6, 63.7, 65.7, 65.6, 63.8, 64.1, 64.4, 64.3, 65.0, 66.9], \"yaxis\": \"y\"}, {\"hoverlabel\": {\"namelength\": 0}, \"hovertemplate\": \"Country=Norway<br>Year=%{x}<br>Value=%{y}\", \"legendgroup\": \"Country=Norway\", \"line\": {\"color\": \"#FF97FF\", \"dash\": \"solid\"}, \"mode\": \"lines\", \"name\": \"Country=Norway\", \"showlegend\": true, \"type\": \"scatter\", \"x\": [1990, 1991, 1992, 1993, 1994, 1995, 1996, 1997, 1998, 1999, 2000, 2001, 2002, 2003, 2004, 2005, 2006, 2007, 2008, 2009, 2010, 2011, 2012, 2013], \"xaxis\": \"x\", \"y\": [38.6, 40.9, 42.9, 44.4, 45.9, 47.6, 48.3, 48.7, 49.0, 49.1, 49.6, 49.7, 50.3, 50.0, 51.4, 51.8, 53.0, 54.5, 55.0, 55.1, 54.8, 55.0, 54.9, 55.2], \"yaxis\": \"y\"}, {\"hoverlabel\": {\"namelength\": 0}, \"hovertemplate\": \"Country=Croatia<br>Year=%{x}<br>Value=%{y}\", \"legendgroup\": \"Country=Croatia\", \"line\": {\"color\": \"#FECB52\", \"dash\": \"solid\"}, \"mode\": \"lines\", \"name\": \"Country=Croatia\", \"showlegend\": true, \"type\": \"scatter\", \"x\": [1990, 1991, 1992, 1993, 1994, 1995, 1996, 1997, 1998, 1999, 2000, 2001, 2002, 2003, 2004, 2005, 2006, 2007, 2008, 2009, 2010, 2011, 2012, 2013, 2014], \"xaxis\": \"x\", \"y\": [7.0, 7.5, 7.7, 7.7, 7.6, 7.5, 7.1, 7.3, 8.1, 8.2, 9.0, 9.4, 9.6, 10.1, 10.4, 10.5, 11.0, 11.5, 12.0, 12.9, 13.3, 14.0, 15.4, 16.1, 17.4], \"yaxis\": \"y\"}, {\"hoverlabel\": {\"namelength\": 0}, \"hovertemplate\": \"Country=Australia<br>Year=%{x}<br>Value=%{y}\", \"legendgroup\": \"Country=Australia\", \"line\": {\"color\": \"#636efa\", \"dash\": \"solid\"}, \"mode\": \"lines\", \"name\": \"Country=Australia\", \"showlegend\": true, \"type\": \"scatter\", \"x\": [1990, 1991, 1992, 1993, 1994, 1995, 1996, 1997, 1998, 1999, 2000, 2001, 2002, 2003, 2004, 2005, 2006, 2007, 2008, 2009, 2010, 2011, 2012, 2013, 2014], \"xaxis\": \"x\", \"y\": [21.9, 23.0, 24.0, 24.9, 25.6, 26.6, 27.4, 28.1, 28.7, 29.2, 29.3, 30.7, 31.3, 31.6, 32.2, 32.2, 32.7, 33.3, 34.3, 34.5, 33.8, 34.2, 34.5, 34.4, 34.4], \"yaxis\": \"y\"}, {\"hoverlabel\": {\"namelength\": 0}, \"hovertemplate\": \"Country=Costa Rica<br>Year=%{x}<br>Value=%{y}\", \"legendgroup\": \"Country=Costa Rica\", \"line\": {\"color\": \"#EF553B\", \"dash\": \"solid\"}, \"mode\": \"lines\", \"name\": \"Country=Costa Rica\", \"showlegend\": true, \"type\": \"scatter\", \"x\": [1990, 1991, 1992, 1993, 1994, 1995, 1996, 1997, 1998, 1999, 2000, 2001, 2002, 2003, 2004, 2005, 2006, 2007, 2008, 2009, 2010, 2011, 2012, 2013, 2014], \"xaxis\": \"x\", \"y\": [38.5, 40.3, 40.6, 42.1, 44.7, 45.9, 47.1, 47.9, 49.3, 51.1, 52.7, 53.5, 55.3, 57.0, 58.9, 60.2, 61.4, 63.1, 64.6, 66.6, 67.4, 68.2, 69.4, 69.3, 69.4], \"yaxis\": \"y\"}],\n",
       "                        {\"height\": 600, \"legend\": {\"tracegroupgap\": 0}, \"margin\": {\"t\": 60}, \"template\": {\"data\": {\"bar\": [{\"error_x\": {\"color\": \"#2a3f5f\"}, \"error_y\": {\"color\": \"#2a3f5f\"}, \"marker\": {\"line\": {\"color\": \"#E5ECF6\", \"width\": 0.5}}, \"type\": \"bar\"}], \"barpolar\": [{\"marker\": {\"line\": {\"color\": \"#E5ECF6\", \"width\": 0.5}}, \"type\": \"barpolar\"}], \"carpet\": [{\"aaxis\": {\"endlinecolor\": \"#2a3f5f\", \"gridcolor\": \"white\", \"linecolor\": \"white\", \"minorgridcolor\": \"white\", \"startlinecolor\": \"#2a3f5f\"}, \"baxis\": {\"endlinecolor\": \"#2a3f5f\", \"gridcolor\": \"white\", \"linecolor\": \"white\", \"minorgridcolor\": \"white\", \"startlinecolor\": \"#2a3f5f\"}, \"type\": \"carpet\"}], \"choropleth\": [{\"colorbar\": {\"outlinewidth\": 0, \"ticks\": \"\"}, \"type\": \"choropleth\"}], \"contour\": [{\"colorbar\": {\"outlinewidth\": 0, \"ticks\": \"\"}, \"colorscale\": [[0.0, \"#0d0887\"], [0.1111111111111111, \"#46039f\"], [0.2222222222222222, \"#7201a8\"], [0.3333333333333333, \"#9c179e\"], [0.4444444444444444, \"#bd3786\"], [0.5555555555555556, \"#d8576b\"], [0.6666666666666666, \"#ed7953\"], [0.7777777777777778, \"#fb9f3a\"], [0.8888888888888888, \"#fdca26\"], [1.0, \"#f0f921\"]], \"type\": \"contour\"}], \"contourcarpet\": [{\"colorbar\": {\"outlinewidth\": 0, \"ticks\": \"\"}, \"type\": \"contourcarpet\"}], \"heatmap\": [{\"colorbar\": {\"outlinewidth\": 0, \"ticks\": \"\"}, \"colorscale\": [[0.0, \"#0d0887\"], [0.1111111111111111, \"#46039f\"], [0.2222222222222222, \"#7201a8\"], [0.3333333333333333, \"#9c179e\"], [0.4444444444444444, \"#bd3786\"], [0.5555555555555556, \"#d8576b\"], [0.6666666666666666, \"#ed7953\"], [0.7777777777777778, \"#fb9f3a\"], [0.8888888888888888, \"#fdca26\"], [1.0, \"#f0f921\"]], \"type\": \"heatmap\"}], \"heatmapgl\": [{\"colorbar\": {\"outlinewidth\": 0, \"ticks\": \"\"}, \"colorscale\": [[0.0, \"#0d0887\"], [0.1111111111111111, \"#46039f\"], [0.2222222222222222, \"#7201a8\"], [0.3333333333333333, \"#9c179e\"], [0.4444444444444444, \"#bd3786\"], [0.5555555555555556, \"#d8576b\"], [0.6666666666666666, \"#ed7953\"], [0.7777777777777778, \"#fb9f3a\"], [0.8888888888888888, \"#fdca26\"], [1.0, \"#f0f921\"]], \"type\": \"heatmapgl\"}], \"histogram\": [{\"marker\": {\"colorbar\": {\"outlinewidth\": 0, \"ticks\": \"\"}}, \"type\": \"histogram\"}], \"histogram2d\": [{\"colorbar\": {\"outlinewidth\": 0, \"ticks\": \"\"}, \"colorscale\": [[0.0, \"#0d0887\"], [0.1111111111111111, \"#46039f\"], [0.2222222222222222, \"#7201a8\"], [0.3333333333333333, \"#9c179e\"], [0.4444444444444444, \"#bd3786\"], [0.5555555555555556, \"#d8576b\"], [0.6666666666666666, \"#ed7953\"], [0.7777777777777778, \"#fb9f3a\"], [0.8888888888888888, \"#fdca26\"], [1.0, \"#f0f921\"]], \"type\": \"histogram2d\"}], \"histogram2dcontour\": [{\"colorbar\": {\"outlinewidth\": 0, \"ticks\": \"\"}, \"colorscale\": [[0.0, \"#0d0887\"], [0.1111111111111111, \"#46039f\"], [0.2222222222222222, \"#7201a8\"], [0.3333333333333333, \"#9c179e\"], [0.4444444444444444, \"#bd3786\"], [0.5555555555555556, \"#d8576b\"], [0.6666666666666666, \"#ed7953\"], [0.7777777777777778, \"#fb9f3a\"], [0.8888888888888888, \"#fdca26\"], [1.0, \"#f0f921\"]], \"type\": \"histogram2dcontour\"}], \"mesh3d\": [{\"colorbar\": {\"outlinewidth\": 0, \"ticks\": \"\"}, \"type\": \"mesh3d\"}], \"parcoords\": [{\"line\": {\"colorbar\": {\"outlinewidth\": 0, \"ticks\": \"\"}}, \"type\": \"parcoords\"}], \"scatter\": [{\"marker\": {\"colorbar\": {\"outlinewidth\": 0, \"ticks\": \"\"}}, \"type\": \"scatter\"}], \"scatter3d\": [{\"line\": {\"colorbar\": {\"outlinewidth\": 0, \"ticks\": \"\"}}, \"marker\": {\"colorbar\": {\"outlinewidth\": 0, \"ticks\": \"\"}}, \"type\": \"scatter3d\"}], \"scattercarpet\": [{\"marker\": {\"colorbar\": {\"outlinewidth\": 0, \"ticks\": \"\"}}, \"type\": \"scattercarpet\"}], \"scattergeo\": [{\"marker\": {\"colorbar\": {\"outlinewidth\": 0, \"ticks\": \"\"}}, \"type\": \"scattergeo\"}], \"scattergl\": [{\"marker\": {\"colorbar\": {\"outlinewidth\": 0, \"ticks\": \"\"}}, \"type\": \"scattergl\"}], \"scattermapbox\": [{\"marker\": {\"colorbar\": {\"outlinewidth\": 0, \"ticks\": \"\"}}, \"type\": \"scattermapbox\"}], \"scatterpolar\": [{\"marker\": {\"colorbar\": {\"outlinewidth\": 0, \"ticks\": \"\"}}, \"type\": \"scatterpolar\"}], \"scatterpolargl\": [{\"marker\": {\"colorbar\": {\"outlinewidth\": 0, \"ticks\": \"\"}}, \"type\": \"scatterpolargl\"}], \"scatterternary\": [{\"marker\": {\"colorbar\": {\"outlinewidth\": 0, \"ticks\": \"\"}}, \"type\": \"scatterternary\"}], \"surface\": [{\"colorbar\": {\"outlinewidth\": 0, \"ticks\": \"\"}, \"colorscale\": [[0.0, \"#0d0887\"], [0.1111111111111111, \"#46039f\"], [0.2222222222222222, \"#7201a8\"], [0.3333333333333333, \"#9c179e\"], [0.4444444444444444, \"#bd3786\"], [0.5555555555555556, \"#d8576b\"], [0.6666666666666666, \"#ed7953\"], [0.7777777777777778, \"#fb9f3a\"], [0.8888888888888888, \"#fdca26\"], [1.0, \"#f0f921\"]], \"type\": \"surface\"}], \"table\": [{\"cells\": {\"fill\": {\"color\": \"#EBF0F8\"}, \"line\": {\"color\": \"white\"}}, \"header\": {\"fill\": {\"color\": \"#C8D4E3\"}, \"line\": {\"color\": \"white\"}}, \"type\": \"table\"}]}, \"layout\": {\"annotationdefaults\": {\"arrowcolor\": \"#2a3f5f\", \"arrowhead\": 0, \"arrowwidth\": 1}, \"colorscale\": {\"diverging\": [[0, \"#8e0152\"], [0.1, \"#c51b7d\"], [0.2, \"#de77ae\"], [0.3, \"#f1b6da\"], [0.4, \"#fde0ef\"], [0.5, \"#f7f7f7\"], [0.6, \"#e6f5d0\"], [0.7, \"#b8e186\"], [0.8, \"#7fbc41\"], [0.9, \"#4d9221\"], [1, \"#276419\"]], \"sequential\": [[0.0, \"#0d0887\"], [0.1111111111111111, \"#46039f\"], [0.2222222222222222, \"#7201a8\"], [0.3333333333333333, \"#9c179e\"], [0.4444444444444444, \"#bd3786\"], [0.5555555555555556, \"#d8576b\"], [0.6666666666666666, \"#ed7953\"], [0.7777777777777778, \"#fb9f3a\"], [0.8888888888888888, \"#fdca26\"], [1.0, \"#f0f921\"]], \"sequentialminus\": [[0.0, \"#0d0887\"], [0.1111111111111111, \"#46039f\"], [0.2222222222222222, \"#7201a8\"], [0.3333333333333333, \"#9c179e\"], [0.4444444444444444, \"#bd3786\"], [0.5555555555555556, \"#d8576b\"], [0.6666666666666666, \"#ed7953\"], [0.7777777777777778, \"#fb9f3a\"], [0.8888888888888888, \"#fdca26\"], [1.0, \"#f0f921\"]]}, \"colorway\": [\"#636efa\", \"#EF553B\", \"#00cc96\", \"#ab63fa\", \"#FFA15A\", \"#19d3f3\", \"#FF6692\", \"#B6E880\", \"#FF97FF\", \"#FECB52\"], \"font\": {\"color\": \"#2a3f5f\"}, \"geo\": {\"bgcolor\": \"white\", \"lakecolor\": \"white\", \"landcolor\": \"#E5ECF6\", \"showlakes\": true, \"showland\": true, \"subunitcolor\": \"white\"}, \"hoverlabel\": {\"align\": \"left\"}, \"hovermode\": \"closest\", \"mapbox\": {\"style\": \"light\"}, \"paper_bgcolor\": \"white\", \"plot_bgcolor\": \"#E5ECF6\", \"polar\": {\"angularaxis\": {\"gridcolor\": \"white\", \"linecolor\": \"white\", \"ticks\": \"\"}, \"bgcolor\": \"#E5ECF6\", \"radialaxis\": {\"gridcolor\": \"white\", \"linecolor\": \"white\", \"ticks\": \"\"}}, \"scene\": {\"xaxis\": {\"backgroundcolor\": \"#E5ECF6\", \"gridcolor\": \"white\", \"gridwidth\": 2, \"linecolor\": \"white\", \"showbackground\": true, \"ticks\": \"\", \"zerolinecolor\": \"white\"}, \"yaxis\": {\"backgroundcolor\": \"#E5ECF6\", \"gridcolor\": \"white\", \"gridwidth\": 2, \"linecolor\": \"white\", \"showbackground\": true, \"ticks\": \"\", \"zerolinecolor\": \"white\"}, \"zaxis\": {\"backgroundcolor\": \"#E5ECF6\", \"gridcolor\": \"white\", \"gridwidth\": 2, \"linecolor\": \"white\", \"showbackground\": true, \"ticks\": \"\", \"zerolinecolor\": \"white\"}}, \"shapedefaults\": {\"line\": {\"color\": \"#2a3f5f\"}}, \"ternary\": {\"aaxis\": {\"gridcolor\": \"white\", \"linecolor\": \"white\", \"ticks\": \"\"}, \"baxis\": {\"gridcolor\": \"white\", \"linecolor\": \"white\", \"ticks\": \"\"}, \"bgcolor\": \"#E5ECF6\", \"caxis\": {\"gridcolor\": \"white\", \"linecolor\": \"white\", \"ticks\": \"\"}}, \"title\": {\"x\": 0.05}, \"xaxis\": {\"automargin\": true, \"gridcolor\": \"white\", \"linecolor\": \"white\", \"ticks\": \"\", \"zerolinecolor\": \"white\", \"zerolinewidth\": 2}, \"yaxis\": {\"automargin\": true, \"gridcolor\": \"white\", \"linecolor\": \"white\", \"ticks\": \"\", \"zerolinecolor\": \"white\", \"zerolinewidth\": 2}}}, \"xaxis\": {\"anchor\": \"y\", \"domain\": [0.0, 0.98], \"title\": {\"text\": \"Year\"}}, \"yaxis\": {\"anchor\": \"x\", \"domain\": [0.0, 1.0], \"title\": {\"text\": \"Value\"}}},\n",
       "                        {\"responsive\": true}\n",
       "                    ).then(function(){\n",
       "                            \n",
       "var gd = document.getElementById('8e2778c3-0f82-4b59-acc5-54310c8cc2be');\n",
       "var x = new MutationObserver(function (mutations, observer) {{\n",
       "        var display = window.getComputedStyle(gd).display;\n",
       "        if (!display || display === 'none') {{\n",
       "            console.log([gd, 'removed!']);\n",
       "            Plotly.purge(gd);\n",
       "            observer.disconnect();\n",
       "        }}\n",
       "}});\n",
       "\n",
       "// Listen for the removal of the full notebook cells\n",
       "var notebookContainer = gd.closest('#notebook-container');\n",
       "if (notebookContainer) {{\n",
       "    x.observe(notebookContainer, {childList: true});\n",
       "}}\n",
       "\n",
       "// Listen for the clearing of the current output cell\n",
       "var outputEl = gd.closest('.output');\n",
       "if (outputEl) {{\n",
       "    x.observe(outputEl, {childList: true});\n",
       "}}\n",
       "\n",
       "                        })\n",
       "                };\n",
       "                });\n",
       "            </script>\n",
       "        </div>"
      ]
     },
     "metadata": {},
     "output_type": "display_data"
    }
   ],
   "source": [
    "px.line(family_df[family_df['Indicator'] == 'Share of births outside of marriage (% of all births)'], x='Year', y='Value', color='Country')"
   ]
  },
  {
   "cell_type": "code",
   "execution_count": 58,
   "metadata": {},
   "outputs": [
    {
     "data": {
      "application/vnd.plotly.v1+json": {
       "config": {
        "plotlyServerURL": "https://plot.ly"
       },
       "data": [
        {
         "hoverlabel": {
          "namelength": 0
         },
         "hovertemplate": "Country=Australia<br>Year=%{x}<br>Value=%{y}",
         "legendgroup": "Country=Australia",
         "line": {
          "color": "#636efa",
          "dash": "solid"
         },
         "mode": "lines",
         "name": "Country=Australia",
         "showlegend": true,
         "type": "scatter",
         "x": [
          2000,
          2003,
          2006,
          2009,
          2012,
          2015,
          2000,
          2003,
          2006,
          2009,
          2012,
          2015
         ],
         "xaxis": "x",
         "y": [
          512.6,
          506.1,
          494.9,
          496.1,
          495.1,
          487.2,
          546.3,
          545.4,
          531.8,
          532.9,
          529.5,
          518.9
         ],
         "yaxis": "y"
        },
        {
         "hoverlabel": {
          "namelength": 0
         },
         "hovertemplate": "Country=Austria<br>Year=%{x}<br>Value=%{y}",
         "legendgroup": "Country=Austria",
         "line": {
          "color": "#EF553B",
          "dash": "solid"
         },
         "mode": "lines",
         "name": "Country=Austria",
         "showlegend": true,
         "type": "scatter",
         "x": [
          2000,
          2003,
          2006,
          2009,
          2012,
          2015,
          2000,
          2003,
          2006,
          2009,
          2012,
          2015
         ],
         "xaxis": "x",
         "y": [
          475.8,
          467.1,
          468.3,
          449.3,
          471.1,
          474.8,
          509.2,
          514.4,
          512.9,
          490.5,
          508,
          495.1
         ],
         "yaxis": "y"
        },
        {
         "hoverlabel": {
          "namelength": 0
         },
         "hovertemplate": "Country=Belgium<br>Year=%{x}<br>Value=%{y}",
         "legendgroup": "Country=Belgium",
         "line": {
          "color": "#00cc96",
          "dash": "solid"
         },
         "mode": "lines",
         "name": "Country=Belgium",
         "showlegend": true,
         "type": "scatter",
         "x": [
          2000,
          2003,
          2006,
          2009,
          2012,
          2015,
          2000,
          2003,
          2006,
          2009,
          2012,
          2015
         ],
         "xaxis": "x",
         "y": [
          492.4,
          489.3,
          482,
          492.7,
          492.8,
          490.7,
          525.2,
          526.2,
          521.7,
          519.8,
          524.6,
          506.6
         ],
         "yaxis": "y"
        },
        {
         "hoverlabel": {
          "namelength": 0
         },
         "hovertemplate": "Country=Canada<br>Year=%{x}<br>Value=%{y}",
         "legendgroup": "Country=Canada",
         "line": {
          "color": "#ab63fa",
          "dash": "solid"
         },
         "mode": "lines",
         "name": "Country=Canada",
         "showlegend": true,
         "type": "scatter",
         "x": [
          2000,
          2003,
          2006,
          2009,
          2012,
          2015,
          2000,
          2003,
          2006,
          2009,
          2012,
          2015
         ],
         "xaxis": "x",
         "y": [
          518.9,
          514,
          511.1,
          507.2,
          505.5,
          513.5,
          551.1,
          545.5,
          543,
          541.5,
          540.7,
          539.8
         ],
         "yaxis": "y"
        },
        {
         "hoverlabel": {
          "namelength": 0
         },
         "hovertemplate": "Country=Czech Republic<br>Year=%{x}<br>Value=%{y}",
         "legendgroup": "Country=Czech Republic",
         "line": {
          "color": "#FFA15A",
          "dash": "solid"
         },
         "mode": "lines",
         "name": "Country=Czech Republic",
         "showlegend": true,
         "type": "scatter",
         "x": [
          2000,
          2003,
          2006,
          2009,
          2012,
          2015,
          2000,
          2003,
          2006,
          2009,
          2012,
          2015
         ],
         "xaxis": "x",
         "y": [
          472.6,
          473.1,
          462.8,
          455.5,
          474,
          474.5,
          510.1,
          504.4,
          508.6,
          504,
          512.8,
          500.7
         ],
         "yaxis": "y"
        },
        {
         "hoverlabel": {
          "namelength": 0
         },
         "hovertemplate": "Country=Denmark<br>Year=%{x}<br>Value=%{y}",
         "legendgroup": "Country=Denmark",
         "line": {
          "color": "#19d3f3",
          "dash": "solid"
         },
         "mode": "lines",
         "name": "Country=Denmark",
         "showlegend": true,
         "type": "scatter",
         "x": [
          2000,
          2003,
          2006,
          2009,
          2012,
          2015,
          2000,
          2003,
          2006,
          2009,
          2012,
          2015
         ],
         "xaxis": "x",
         "y": [
          485.4,
          479.4,
          479.5,
          480.4,
          480.9,
          488.8,
          510.2,
          504.8,
          509.3,
          509.2,
          511.5,
          511
         ],
         "yaxis": "y"
        },
        {
         "hoverlabel": {
          "namelength": 0
         },
         "hovertemplate": "Country=Finland<br>Year=%{x}<br>Value=%{y}",
         "legendgroup": "Country=Finland",
         "line": {
          "color": "#FF6692",
          "dash": "solid"
         },
         "mode": "lines",
         "name": "Country=Finland",
         "showlegend": true,
         "type": "scatter",
         "x": [
          2000,
          2003,
          2006,
          2009,
          2012,
          2015,
          2000,
          2003,
          2006,
          2009,
          2012,
          2015
         ],
         "xaxis": "x",
         "y": [
          520.1,
          521.4,
          521.4,
          508.4,
          494,
          504,
          571.4,
          565.4,
          572,
          563.5,
          555.7,
          550.5
         ],
         "yaxis": "y"
        },
        {
         "hoverlabel": {
          "namelength": 0
         },
         "hovertemplate": "Country=France<br>Year=%{x}<br>Value=%{y}",
         "legendgroup": "Country=France",
         "line": {
          "color": "#B6E880",
          "dash": "solid"
         },
         "mode": "lines",
         "name": "Country=France",
         "showlegend": true,
         "type": "scatter",
         "x": [
          2000,
          2003,
          2006,
          2009,
          2012,
          2015,
          2000,
          2003,
          2006,
          2009,
          2012,
          2015
         ],
         "xaxis": "x",
         "y": [
          490.3,
          476.1,
          469.8,
          475,
          483,
          484.6,
          519.1,
          514.3,
          504.6,
          515.2,
          526.8,
          513.8
         ],
         "yaxis": "y"
        },
        {
         "hoverlabel": {
          "namelength": 0
         },
         "hovertemplate": "Country=Germany<br>Year=%{x}<br>Value=%{y}",
         "legendgroup": "Country=Germany",
         "line": {
          "color": "#FF97FF",
          "dash": "solid"
         },
         "mode": "lines",
         "name": "Country=Germany",
         "showlegend": true,
         "type": "scatter",
         "x": [
          2000,
          2003,
          2006,
          2009,
          2012,
          2015,
          2000,
          2003,
          2006,
          2009,
          2012,
          2015
         ],
         "xaxis": "x",
         "y": [
          467.6,
          470.8,
          474.6,
          477.9,
          486,
          498.9,
          502.2,
          512.9,
          516.6,
          517.6,
          530.1,
          519.7
         ],
         "yaxis": "y"
        },
        {
         "hoverlabel": {
          "namelength": 0
         },
         "hovertemplate": "Country=Greece<br>Year=%{x}<br>Value=%{y}",
         "legendgroup": "Country=Greece",
         "line": {
          "color": "#FECB52",
          "dash": "solid"
         },
         "mode": "lines",
         "name": "Country=Greece",
         "showlegend": true,
         "type": "scatter",
         "x": [
          2000,
          2003,
          2006,
          2009,
          2012,
          2015,
          2000,
          2003,
          2006,
          2009,
          2012,
          2015
         ],
         "xaxis": "x",
         "y": [
          455.7,
          452.9,
          431.6,
          458.8,
          451.7,
          449.1,
          492.7,
          490.4,
          488.1,
          505.9,
          502.2,
          486.5
         ],
         "yaxis": "y"
        },
        {
         "hoverlabel": {
          "namelength": 0
         },
         "hovertemplate": "Country=Hungary<br>Year=%{x}<br>Value=%{y}",
         "legendgroup": "Country=Hungary",
         "line": {
          "color": "#636efa",
          "dash": "solid"
         },
         "mode": "lines",
         "name": "Country=Hungary",
         "showlegend": true,
         "type": "scatter",
         "x": [
          2000,
          2003,
          2006,
          2009,
          2012,
          2015,
          2000,
          2003,
          2006,
          2009,
          2012,
          2015
         ],
         "xaxis": "x",
         "y": [
          464.5,
          467.2,
          463.4,
          475.4,
          468,
          457.1,
          496.2,
          498.2,
          503,
          513.3,
          507.5,
          482
         ],
         "yaxis": "y"
        },
        {
         "hoverlabel": {
          "namelength": 0
         },
         "hovertemplate": "Country=Iceland<br>Year=%{x}<br>Value=%{y}",
         "legendgroup": "Country=Iceland",
         "line": {
          "color": "#EF553B",
          "dash": "solid"
         },
         "mode": "lines",
         "name": "Country=Iceland",
         "showlegend": true,
         "type": "scatter",
         "x": [
          2000,
          2003,
          2006,
          2009,
          2012,
          2015,
          2000,
          2003,
          2006,
          2009,
          2012,
          2015
         ],
         "xaxis": "x",
         "y": [
          488.4,
          463.8,
          460.4,
          478.1,
          457.3,
          460.1,
          528.1,
          521.6,
          508.9,
          522.2,
          508.4,
          501.7
         ],
         "yaxis": "y"
        },
        {
         "hoverlabel": {
          "namelength": 0
         },
         "hovertemplate": "Country=Ireland<br>Year=%{x}<br>Value=%{y}",
         "legendgroup": "Country=Ireland",
         "line": {
          "color": "#00cc96",
          "dash": "solid"
         },
         "mode": "lines",
         "name": "Country=Ireland",
         "showlegend": true,
         "type": "scatter",
         "x": [
          2000,
          2003,
          2006,
          2009,
          2012,
          2015,
          2000,
          2003,
          2006,
          2009,
          2012,
          2015
         ],
         "xaxis": "x",
         "y": [
          512.8,
          501.1,
          500.2,
          476.3,
          509.2,
          515,
          541.5,
          530.1,
          534,
          515.5,
          537.7,
          526.9
         ],
         "yaxis": "y"
        },
        {
         "hoverlabel": {
          "namelength": 0
         },
         "hovertemplate": "Country=Italy<br>Year=%{x}<br>Value=%{y}",
         "legendgroup": "Country=Italy",
         "line": {
          "color": "#ab63fa",
          "dash": "solid"
         },
         "mode": "lines",
         "name": "Country=Italy",
         "showlegend": true,
         "type": "scatter",
         "x": [
          2000,
          2003,
          2006,
          2009,
          2012,
          2015,
          2000,
          2003,
          2006,
          2009,
          2012,
          2015
         ],
         "xaxis": "x",
         "y": [
          469.2,
          455.2,
          447.7,
          463.8,
          470.9,
          476.7,
          507.4,
          494.6,
          489,
          509.5,
          509.9,
          492.7
         ],
         "yaxis": "y"
        },
        {
         "hoverlabel": {
          "namelength": 0
         },
         "hovertemplate": "Country=Japan<br>Year=%{x}<br>Value=%{y}",
         "legendgroup": "Country=Japan",
         "line": {
          "color": "#FFA15A",
          "dash": "solid"
         },
         "mode": "lines",
         "name": "Country=Japan",
         "showlegend": true,
         "type": "scatter",
         "x": [
          2000,
          2003,
          2006,
          2009,
          2012,
          2015,
          2000,
          2003,
          2006,
          2009,
          2012,
          2015
         ],
         "xaxis": "x",
         "y": [
          507.3,
          486.6,
          482.7,
          501,
          526.6,
          509.4,
          536.9,
          509,
          513.3,
          539.9,
          550.7,
          522.7
         ],
         "yaxis": "y"
        },
        {
         "hoverlabel": {
          "namelength": 0
         },
         "hovertemplate": "Country=Korea<br>Year=%{x}<br>Value=%{y}",
         "legendgroup": "Country=Korea",
         "line": {
          "color": "#19d3f3",
          "dash": "solid"
         },
         "mode": "lines",
         "name": "Country=Korea",
         "showlegend": true,
         "type": "scatter",
         "x": [
          2000,
          2003,
          2006,
          2009,
          2012,
          2015,
          2000,
          2003,
          2006,
          2009,
          2012,
          2015
         ],
         "xaxis": "x",
         "y": [
          518.5,
          525.5,
          538.8,
          522.5,
          525,
          498.1,
          532.7,
          546.7,
          573.8,
          558,
          548.2,
          538.6
         ],
         "yaxis": "y"
        },
        {
         "hoverlabel": {
          "namelength": 0
         },
         "hovertemplate": "Country=Luxembourg<br>Year=%{x}<br>Value=%{y}",
         "legendgroup": "Country=Luxembourg",
         "line": {
          "color": "#FF6692",
          "dash": "solid"
         },
         "mode": "lines",
         "name": "Country=Luxembourg",
         "showlegend": true,
         "type": "scatter",
         "x": [
          2000,
          2003,
          2006,
          2009,
          2012,
          2015,
          2000,
          2003,
          2006,
          2009,
          2012,
          2015
         ],
         "xaxis": "x",
         "y": [
          428.8,
          462.7,
          463.7,
          452.7,
          473,
          470.7,
          455.7,
          495.7,
          495.4,
          492.1,
          503,
          492
         ],
         "yaxis": "y"
        },
        {
         "hoverlabel": {
          "namelength": 0
         },
         "hovertemplate": "Country=Mexico<br>Year=%{x}<br>Value=%{y}",
         "legendgroup": "Country=Mexico",
         "line": {
          "color": "#B6E880",
          "dash": "solid"
         },
         "mode": "lines",
         "name": "Country=Mexico",
         "showlegend": true,
         "type": "scatter",
         "x": [
          2000,
          2003,
          2006,
          2009,
          2012,
          2015,
          2000,
          2003,
          2006,
          2009,
          2012,
          2015
         ],
         "xaxis": "x",
         "y": [
          411.5,
          388.6,
          393.1,
          412.7,
          411.4,
          415.5,
          431.7,
          410.1,
          426.7,
          437.6,
          435.3,
          431.2
         ],
         "yaxis": "y"
        },
        {
         "hoverlabel": {
          "namelength": 0
         },
         "hovertemplate": "Country=Netherlands<br>Year=%{x}<br>Value=%{y}",
         "legendgroup": "Country=Netherlands",
         "line": {
          "color": "#FF97FF",
          "dash": "solid"
         },
         "mode": "lines",
         "name": "Country=Netherlands",
         "showlegend": true,
         "type": "scatter",
         "x": [
          2003,
          2006,
          2009,
          2012,
          2015,
          2003,
          2006,
          2009,
          2012,
          2015
         ],
         "xaxis": "x",
         "y": [
          502.9,
          494.9,
          496.2,
          498.3,
          491.1,
          523.8,
          519,
          520.5,
          524.8,
          514.7
         ],
         "yaxis": "y"
        },
        {
         "hoverlabel": {
          "namelength": 0
         },
         "hovertemplate": "Country=New Zealand<br>Year=%{x}<br>Value=%{y}",
         "legendgroup": "Country=New Zealand",
         "line": {
          "color": "#FECB52",
          "dash": "solid"
         },
         "mode": "lines",
         "name": "Country=New Zealand",
         "showlegend": true,
         "type": "scatter",
         "x": [
          2000,
          2003,
          2006,
          2009,
          2012,
          2015,
          2000,
          2003,
          2006,
          2009,
          2012,
          2015
         ],
         "xaxis": "x",
         "y": [
          506.8,
          507.7,
          501.7,
          498.5,
          495.4,
          493.2,
          552.6,
          535.4,
          539.1,
          544.2,
          529.8,
          525.5
         ],
         "yaxis": "y"
        },
        {
         "hoverlabel": {
          "namelength": 0
         },
         "hovertemplate": "Country=Norway<br>Year=%{x}<br>Value=%{y}",
         "legendgroup": "Country=Norway",
         "line": {
          "color": "#636efa",
          "dash": "solid"
         },
         "mode": "lines",
         "name": "Country=Norway",
         "showlegend": true,
         "type": "scatter",
         "x": [
          2000,
          2003,
          2006,
          2009,
          2012,
          2015,
          2000,
          2003,
          2006,
          2009,
          2012,
          2015
         ],
         "xaxis": "x",
         "y": [
          485.6,
          475.3,
          462.1,
          480.1,
          481.3,
          493.5,
          528.8,
          524.5,
          508,
          527.4,
          527.8,
          533.4
         ],
         "yaxis": "y"
        },
        {
         "hoverlabel": {
          "namelength": 0
         },
         "hovertemplate": "Country=Poland<br>Year=%{x}<br>Value=%{y}",
         "legendgroup": "Country=Poland",
         "line": {
          "color": "#EF553B",
          "dash": "solid"
         },
         "mode": "lines",
         "name": "Country=Poland",
         "showlegend": true,
         "type": "scatter",
         "x": [
          2000,
          2003,
          2006,
          2009,
          2012,
          2015,
          2000,
          2003,
          2006,
          2009,
          2012,
          2015
         ],
         "xaxis": "x",
         "y": [
          461.4,
          476.8,
          487.4,
          475.7,
          496.7,
          491.2,
          497.5,
          516.3,
          527.6,
          525.3,
          538.7,
          520.7
         ],
         "yaxis": "y"
        },
        {
         "hoverlabel": {
          "namelength": 0
         },
         "hovertemplate": "Country=Portugal<br>Year=%{x}<br>Value=%{y}",
         "legendgroup": "Country=Portugal",
         "line": {
          "color": "#00cc96",
          "dash": "solid"
         },
         "mode": "lines",
         "name": "Country=Portugal",
         "showlegend": true,
         "type": "scatter",
         "x": [
          2000,
          2003,
          2006,
          2009,
          2012,
          2015,
          2000,
          2003,
          2006,
          2009,
          2012,
          2015
         ],
         "xaxis": "x",
         "y": [
          457.7,
          458.5,
          455.3,
          469.9,
          468.4,
          489.9,
          482.4,
          494.9,
          488.2,
          507.9,
          507.6,
          506.6
         ],
         "yaxis": "y"
        },
        {
         "hoverlabel": {
          "namelength": 0
         },
         "hovertemplate": "Country=Slovak Republic<br>Year=%{x}<br>Value=%{y}",
         "legendgroup": "Country=Slovak Republic",
         "line": {
          "color": "#ab63fa",
          "dash": "solid"
         },
         "mode": "lines",
         "name": "Country=Slovak Republic",
         "showlegend": true,
         "type": "scatter",
         "x": [
          2003,
          2006,
          2009,
          2012,
          2015,
          2003,
          2006,
          2009,
          2012,
          2015
         ],
         "xaxis": "x",
         "y": [
          453.3,
          446.1,
          451.6,
          444.1,
          435.2,
          485.8,
          487.8,
          502.9,
          483.3,
          470.9
         ],
         "yaxis": "y"
        },
        {
         "hoverlabel": {
          "namelength": 0
         },
         "hovertemplate": "Country=Spain<br>Year=%{x}<br>Value=%{y}",
         "legendgroup": "Country=Spain",
         "line": {
          "color": "#FFA15A",
          "dash": "solid"
         },
         "mode": "lines",
         "name": "Country=Spain",
         "showlegend": true,
         "type": "scatter",
         "x": [
          2000,
          2003,
          2006,
          2009,
          2012,
          2015,
          2000,
          2003,
          2006,
          2009,
          2012,
          2015
         ],
         "xaxis": "x",
         "y": [
          481.2,
          460.7,
          443.3,
          466.8,
          473.8,
          485.4,
          505.4,
          499.8,
          478.7,
          495.7,
          502.5,
          505.7
         ],
         "yaxis": "y"
        },
        {
         "hoverlabel": {
          "namelength": 0
         },
         "hovertemplate": "Country=Sweden<br>Year=%{x}<br>Value=%{y}",
         "legendgroup": "Country=Sweden",
         "line": {
          "color": "#19d3f3",
          "dash": "solid"
         },
         "mode": "lines",
         "name": "Country=Sweden",
         "showlegend": true,
         "type": "scatter",
         "x": [
          2000,
          2003,
          2006,
          2009,
          2012,
          2015,
          2000,
          2003,
          2006,
          2009,
          2012,
          2015
         ],
         "xaxis": "x",
         "y": [
          498.6,
          495.9,
          487.6,
          475.1,
          458,
          480.7,
          535.6,
          532.7,
          528.1,
          520.6,
          509.1,
          519.9
         ],
         "yaxis": "y"
        },
        {
         "hoverlabel": {
          "namelength": 0
         },
         "hovertemplate": "Country=Switzerland<br>Year=%{x}<br>Value=%{y}",
         "legendgroup": "Country=Switzerland",
         "line": {
          "color": "#FF6692",
          "dash": "solid"
         },
         "mode": "lines",
         "name": "Country=Switzerland",
         "showlegend": true,
         "type": "scatter",
         "x": [
          2000,
          2003,
          2006,
          2009,
          2012,
          2015,
          2000,
          2003,
          2006,
          2009,
          2012,
          2015
         ],
         "xaxis": "x",
         "y": [
          480.1,
          482,
          484.4,
          481.4,
          491.1,
          480.1,
          510,
          517.5,
          515.2,
          520.2,
          527.1,
          505.4
         ],
         "yaxis": "y"
        },
        {
         "hoverlabel": {
          "namelength": 0
         },
         "hovertemplate": "Country=Turkey<br>Year=%{x}<br>Value=%{y}",
         "legendgroup": "Country=Turkey",
         "line": {
          "color": "#B6E880",
          "dash": "solid"
         },
         "mode": "lines",
         "name": "Country=Turkey",
         "showlegend": true,
         "type": "scatter",
         "x": [
          2003,
          2006,
          2009,
          2012,
          2015,
          2003,
          2006,
          2009,
          2012,
          2015
         ],
         "xaxis": "x",
         "y": [
          426,
          427.3,
          443.5,
          452.8,
          414.4,
          459.3,
          471,
          486.3,
          498.6,
          442.2
         ],
         "yaxis": "y"
        },
        {
         "hoverlabel": {
          "namelength": 0
         },
         "hovertemplate": "Country=United Kingdom<br>Year=%{x}<br>Value=%{y}",
         "legendgroup": "Country=United Kingdom",
         "line": {
          "color": "#FF97FF",
          "dash": "solid"
         },
         "mode": "lines",
         "name": "Country=United Kingdom",
         "showlegend": true,
         "type": "scatter",
         "x": [
          2000,
          2003,
          2006,
          2009,
          2012,
          2015,
          2000,
          2003,
          2006,
          2009,
          2012,
          2015
         ],
         "xaxis": "x",
         "y": [
          511.6,
          491.8,
          480.4,
          481.4,
          486.6,
          487.2,
          537.2,
          520.4,
          509.5,
          506.5,
          511.5,
          509.1
         ],
         "yaxis": "y"
        },
        {
         "hoverlabel": {
          "namelength": 0
         },
         "hovertemplate": "Country=United States<br>Year=%{x}<br>Value=%{y}",
         "legendgroup": "Country=United States",
         "line": {
          "color": "#FECB52",
          "dash": "solid"
         },
         "mode": "lines",
         "name": "Country=United States",
         "showlegend": true,
         "type": "scatter",
         "x": [
          2000,
          2003,
          2009,
          2012,
          2015,
          2000,
          2003,
          2009,
          2012,
          2015
         ],
         "xaxis": "x",
         "y": [
          489.7,
          479.3,
          487.8,
          482.5,
          486.9,
          518.2,
          511.3,
          512.5,
          513.3,
          507
         ],
         "yaxis": "y"
        },
        {
         "hoverlabel": {
          "namelength": 0
         },
         "hovertemplate": "Country=Brazil<br>Year=%{x}<br>Value=%{y}",
         "legendgroup": "Country=Brazil",
         "line": {
          "color": "#636efa",
          "dash": "solid"
         },
         "mode": "lines",
         "name": "Country=Brazil",
         "showlegend": true,
         "type": "scatter",
         "x": [
          2000,
          2003,
          2006,
          2009,
          2012,
          2015,
          2000,
          2003,
          2006,
          2009,
          2012,
          2015
         ],
         "xaxis": "x",
         "y": [
          387.6,
          384.2,
          375.8,
          396.6,
          394.2,
          395.5,
          404.3,
          418.9,
          407.6,
          425.2,
          424.7,
          418.6
         ],
         "yaxis": "y"
        },
        {
         "hoverlabel": {
          "namelength": 0
         },
         "hovertemplate": "Country=Chile<br>Year=%{x}<br>Value=%{y}",
         "legendgroup": "Country=Chile",
         "line": {
          "color": "#EF553B",
          "dash": "solid"
         },
         "mode": "lines",
         "name": "Country=Chile",
         "showlegend": true,
         "type": "scatter",
         "x": [
          2000,
          2006,
          2009,
          2012,
          2015,
          2000,
          2006,
          2009,
          2012,
          2015
         ],
         "xaxis": "x",
         "y": [
          396.5,
          434.3,
          438.6,
          429.7,
          452.6,
          421.1,
          451.3,
          460.6,
          452.4,
          464.6
         ],
         "yaxis": "y"
        },
        {
         "hoverlabel": {
          "namelength": 0
         },
         "hovertemplate": "Country=Estonia<br>Year=%{x}<br>Value=%{y}",
         "legendgroup": "Country=Estonia",
         "line": {
          "color": "#00cc96",
          "dash": "solid"
         },
         "mode": "lines",
         "name": "Country=Estonia",
         "showlegend": true,
         "type": "scatter",
         "x": [
          2006,
          2009,
          2012,
          2015,
          2006,
          2009,
          2012,
          2015
         ],
         "xaxis": "x",
         "y": [
          478.4,
          479.6,
          494.3,
          505.5,
          524.2,
          523.8,
          537.8,
          533.4
         ],
         "yaxis": "y"
        },
        {
         "hoverlabel": {
          "namelength": 0
         },
         "hovertemplate": "Country=Indonesia<br>Year=%{x}<br>Value=%{y}",
         "legendgroup": "Country=Indonesia",
         "line": {
          "color": "#ab63fa",
          "dash": "solid"
         },
         "mode": "lines",
         "name": "Country=Indonesia",
         "showlegend": true,
         "type": "scatter",
         "x": [
          2000,
          2003,
          2006,
          2009,
          2012,
          2015,
          2000,
          2003,
          2006,
          2009,
          2012,
          2015
         ],
         "xaxis": "x",
         "y": [
          360.3,
          369.5,
          384.2,
          383.3,
          382.3,
          385.6,
          380.5,
          393.5,
          402.1,
          419.8,
          410.4,
          409
         ],
         "yaxis": "y"
        },
        {
         "hoverlabel": {
          "namelength": 0
         },
         "hovertemplate": "Country=Israel<br>Year=%{x}<br>Value=%{y}",
         "legendgroup": "Country=Israel",
         "line": {
          "color": "#FFA15A",
          "dash": "solid"
         },
         "mode": "lines",
         "name": "Country=Israel",
         "showlegend": true,
         "type": "scatter",
         "x": [
          2000,
          2006,
          2009,
          2012,
          2015,
          2000,
          2006,
          2009,
          2012,
          2015
         ],
         "xaxis": "x",
         "y": [
          443.8,
          417.5,
          452.5,
          463.5,
          467.3,
          459.4,
          459.5,
          494.7,
          507.5,
          490.2
         ],
         "yaxis": "y"
        },
        {
         "hoverlabel": {
          "namelength": 0
         },
         "hovertemplate": "Country=Russia<br>Year=%{x}<br>Value=%{y}",
         "legendgroup": "Country=Russia",
         "line": {
          "color": "#19d3f3",
          "dash": "solid"
         },
         "mode": "lines",
         "name": "Country=Russia",
         "showlegend": true,
         "type": "scatter",
         "x": [
          2000,
          2003,
          2006,
          2009,
          2012,
          2015,
          2000,
          2003,
          2006,
          2009,
          2012,
          2015
         ],
         "xaxis": "x",
         "y": [
          442.8,
          427.8,
          420.1,
          436.9,
          455.1,
          481.4,
          481,
          456.4,
          458,
          481.5,
          495.1,
          507.5
         ],
         "yaxis": "y"
        },
        {
         "hoverlabel": {
          "namelength": 0
         },
         "hovertemplate": "Country=Slovenia<br>Year=%{x}<br>Value=%{y}",
         "legendgroup": "Country=Slovenia",
         "line": {
          "color": "#FF6692",
          "dash": "solid"
         },
         "mode": "lines",
         "name": "Country=Slovenia",
         "showlegend": true,
         "type": "scatter",
         "x": [
          2006,
          2009,
          2012,
          2015,
          2006,
          2009,
          2012,
          2015
         ],
         "xaxis": "x",
         "y": [
          467.5,
          456.2,
          454.5,
          484.3,
          521.1,
          511,
          510.1,
          527.6
         ],
         "yaxis": "y"
        },
        {
         "hoverlabel": {
          "namelength": 0
         },
         "hovertemplate": "Country=Bulgaria<br>Year=%{x}<br>Value=%{y}",
         "legendgroup": "Country=Bulgaria",
         "line": {
          "color": "#B6E880",
          "dash": "solid"
         },
         "mode": "lines",
         "name": "Country=Bulgaria",
         "showlegend": true,
         "type": "scatter",
         "x": [
          2000,
          2006,
          2009,
          2012,
          2015,
          2000,
          2006,
          2009,
          2012,
          2015
         ],
         "xaxis": "x",
         "y": [
          407.5,
          373.8,
          399.6,
          402.5,
          409.4,
          454.7,
          432.1,
          460.8,
          472.2,
          456.6
         ],
         "yaxis": "y"
        },
        {
         "hoverlabel": {
          "namelength": 0
         },
         "hovertemplate": "Country=Colombia<br>Year=%{x}<br>Value=%{y}",
         "legendgroup": "Country=Colombia",
         "line": {
          "color": "#FF97FF",
          "dash": "solid"
         },
         "mode": "lines",
         "name": "Country=Colombia",
         "showlegend": true,
         "type": "scatter",
         "x": [
          2006,
          2009,
          2012,
          2015,
          2006,
          2009,
          2012,
          2015
         ],
         "xaxis": "x",
         "y": [
          375.3,
          408.3,
          393.6,
          416.7,
          393.9,
          417.6,
          412.1,
          432.3
         ],
         "yaxis": "y"
        },
        {
         "hoverlabel": {
          "namelength": 0
         },
         "hovertemplate": "Country=Costa Rica<br>Year=%{x}<br>Value=%{y}",
         "legendgroup": "Country=Costa Rica",
         "line": {
          "color": "#FECB52",
          "dash": "solid"
         },
         "mode": "lines",
         "name": "Country=Costa Rica",
         "showlegend": true,
         "type": "scatter",
         "x": [
          2012,
          2015,
          2012,
          2015
         ],
         "xaxis": "x",
         "y": [
          427.2,
          419.9,
          452.3,
          434.9
         ],
         "yaxis": "y"
        },
        {
         "hoverlabel": {
          "namelength": 0
         },
         "hovertemplate": "Country=Croatia<br>Year=%{x}<br>Value=%{y}",
         "legendgroup": "Country=Croatia",
         "line": {
          "color": "#636efa",
          "dash": "solid"
         },
         "mode": "lines",
         "name": "Country=Croatia",
         "showlegend": true,
         "type": "scatter",
         "x": [
          2006,
          2009,
          2012,
          2015,
          2006,
          2009,
          2012,
          2015
         ],
         "xaxis": "x",
         "y": [
          452.4,
          451.7,
          460.9,
          473.1,
          502.3,
          502.9,
          509.2,
          499.6
         ],
         "yaxis": "y"
        },
        {
         "hoverlabel": {
          "namelength": 0
         },
         "hovertemplate": "Country=Cyprus<br>Year=%{x}<br>Value=%{y}",
         "legendgroup": "Country=Cyprus",
         "line": {
          "color": "#EF553B",
          "dash": "solid"
         },
         "mode": "lines",
         "name": "Country=Cyprus",
         "showlegend": true,
         "type": "scatter",
         "x": [
          2015,
          2015
         ],
         "xaxis": "x",
         "y": [
          416.8,
          468.7
         ],
         "yaxis": "y"
        },
        {
         "hoverlabel": {
          "namelength": 0
         },
         "hovertemplate": "Country=Latvia<br>Year=%{x}<br>Value=%{y}",
         "legendgroup": "Country=Latvia",
         "line": {
          "color": "#00cc96",
          "dash": "solid"
         },
         "mode": "lines",
         "name": "Country=Latvia",
         "showlegend": true,
         "type": "scatter",
         "x": [
          2000,
          2003,
          2006,
          2009,
          2012,
          2015,
          2000,
          2003,
          2006,
          2009,
          2012,
          2015
         ],
         "xaxis": "x",
         "y": [
          431.9,
          470.4,
          453.8,
          460,
          461.6,
          466.8,
          484.7,
          509.1,
          503.8,
          507.3,
          516.3,
          508.8
         ],
         "yaxis": "y"
        },
        {
         "hoverlabel": {
          "namelength": 0
         },
         "hovertemplate": "Country=Lithuania<br>Year=%{x}<br>Value=%{y}",
         "legendgroup": "Country=Lithuania",
         "line": {
          "color": "#ab63fa",
          "dash": "solid"
         },
         "mode": "lines",
         "name": "Country=Lithuania",
         "showlegend": true,
         "type": "scatter",
         "x": [
          2006,
          2009,
          2012,
          2015,
          2006,
          2009,
          2012,
          2015
         ],
         "xaxis": "x",
         "y": [
          444.8,
          439.5,
          450,
          453.2,
          496.2,
          498.2,
          505.1,
          492.2
         ],
         "yaxis": "y"
        },
        {
         "hoverlabel": {
          "namelength": 0
         },
         "hovertemplate": "Country=Malta<br>Year=%{x}<br>Value=%{y}",
         "legendgroup": "Country=Malta",
         "line": {
          "color": "#FFA15A",
          "dash": "solid"
         },
         "mode": "lines",
         "name": "Country=Malta",
         "showlegend": true,
         "type": "scatter",
         "x": [
          2015,
          2015
         ],
         "xaxis": "x",
         "y": [
          425.9,
          468.1
         ],
         "yaxis": "y"
        },
        {
         "hoverlabel": {
          "namelength": 0
         },
         "hovertemplate": "Country=Romania<br>Year=%{x}<br>Value=%{y}",
         "legendgroup": "Country=Romania",
         "line": {
          "color": "#19d3f3",
          "dash": "solid"
         },
         "mode": "lines",
         "name": "Country=Romania",
         "showlegend": true,
         "type": "scatter",
         "x": [
          2000,
          2006,
          2009,
          2012,
          2015,
          2000,
          2006,
          2009,
          2012,
          2015
         ],
         "xaxis": "x",
         "y": [
          420.8,
          373.8,
          402.8,
          417,
          424.8,
          434.4,
          417.9,
          445.3,
          457.4,
          442.4
         ],
         "yaxis": "y"
        }
       ],
       "layout": {
        "height": 600,
        "legend": {
         "tracegroupgap": 0
        },
        "margin": {
         "t": 60
        },
        "template": {
         "data": {
          "bar": [
           {
            "error_x": {
             "color": "#2a3f5f"
            },
            "error_y": {
             "color": "#2a3f5f"
            },
            "marker": {
             "line": {
              "color": "#E5ECF6",
              "width": 0.5
             }
            },
            "type": "bar"
           }
          ],
          "barpolar": [
           {
            "marker": {
             "line": {
              "color": "#E5ECF6",
              "width": 0.5
             }
            },
            "type": "barpolar"
           }
          ],
          "carpet": [
           {
            "aaxis": {
             "endlinecolor": "#2a3f5f",
             "gridcolor": "white",
             "linecolor": "white",
             "minorgridcolor": "white",
             "startlinecolor": "#2a3f5f"
            },
            "baxis": {
             "endlinecolor": "#2a3f5f",
             "gridcolor": "white",
             "linecolor": "white",
             "minorgridcolor": "white",
             "startlinecolor": "#2a3f5f"
            },
            "type": "carpet"
           }
          ],
          "choropleth": [
           {
            "colorbar": {
             "outlinewidth": 0,
             "ticks": ""
            },
            "type": "choropleth"
           }
          ],
          "contour": [
           {
            "colorbar": {
             "outlinewidth": 0,
             "ticks": ""
            },
            "colorscale": [
             [
              0,
              "#0d0887"
             ],
             [
              0.1111111111111111,
              "#46039f"
             ],
             [
              0.2222222222222222,
              "#7201a8"
             ],
             [
              0.3333333333333333,
              "#9c179e"
             ],
             [
              0.4444444444444444,
              "#bd3786"
             ],
             [
              0.5555555555555556,
              "#d8576b"
             ],
             [
              0.6666666666666666,
              "#ed7953"
             ],
             [
              0.7777777777777778,
              "#fb9f3a"
             ],
             [
              0.8888888888888888,
              "#fdca26"
             ],
             [
              1,
              "#f0f921"
             ]
            ],
            "type": "contour"
           }
          ],
          "contourcarpet": [
           {
            "colorbar": {
             "outlinewidth": 0,
             "ticks": ""
            },
            "type": "contourcarpet"
           }
          ],
          "heatmap": [
           {
            "colorbar": {
             "outlinewidth": 0,
             "ticks": ""
            },
            "colorscale": [
             [
              0,
              "#0d0887"
             ],
             [
              0.1111111111111111,
              "#46039f"
             ],
             [
              0.2222222222222222,
              "#7201a8"
             ],
             [
              0.3333333333333333,
              "#9c179e"
             ],
             [
              0.4444444444444444,
              "#bd3786"
             ],
             [
              0.5555555555555556,
              "#d8576b"
             ],
             [
              0.6666666666666666,
              "#ed7953"
             ],
             [
              0.7777777777777778,
              "#fb9f3a"
             ],
             [
              0.8888888888888888,
              "#fdca26"
             ],
             [
              1,
              "#f0f921"
             ]
            ],
            "type": "heatmap"
           }
          ],
          "heatmapgl": [
           {
            "colorbar": {
             "outlinewidth": 0,
             "ticks": ""
            },
            "colorscale": [
             [
              0,
              "#0d0887"
             ],
             [
              0.1111111111111111,
              "#46039f"
             ],
             [
              0.2222222222222222,
              "#7201a8"
             ],
             [
              0.3333333333333333,
              "#9c179e"
             ],
             [
              0.4444444444444444,
              "#bd3786"
             ],
             [
              0.5555555555555556,
              "#d8576b"
             ],
             [
              0.6666666666666666,
              "#ed7953"
             ],
             [
              0.7777777777777778,
              "#fb9f3a"
             ],
             [
              0.8888888888888888,
              "#fdca26"
             ],
             [
              1,
              "#f0f921"
             ]
            ],
            "type": "heatmapgl"
           }
          ],
          "histogram": [
           {
            "marker": {
             "colorbar": {
              "outlinewidth": 0,
              "ticks": ""
             }
            },
            "type": "histogram"
           }
          ],
          "histogram2d": [
           {
            "colorbar": {
             "outlinewidth": 0,
             "ticks": ""
            },
            "colorscale": [
             [
              0,
              "#0d0887"
             ],
             [
              0.1111111111111111,
              "#46039f"
             ],
             [
              0.2222222222222222,
              "#7201a8"
             ],
             [
              0.3333333333333333,
              "#9c179e"
             ],
             [
              0.4444444444444444,
              "#bd3786"
             ],
             [
              0.5555555555555556,
              "#d8576b"
             ],
             [
              0.6666666666666666,
              "#ed7953"
             ],
             [
              0.7777777777777778,
              "#fb9f3a"
             ],
             [
              0.8888888888888888,
              "#fdca26"
             ],
             [
              1,
              "#f0f921"
             ]
            ],
            "type": "histogram2d"
           }
          ],
          "histogram2dcontour": [
           {
            "colorbar": {
             "outlinewidth": 0,
             "ticks": ""
            },
            "colorscale": [
             [
              0,
              "#0d0887"
             ],
             [
              0.1111111111111111,
              "#46039f"
             ],
             [
              0.2222222222222222,
              "#7201a8"
             ],
             [
              0.3333333333333333,
              "#9c179e"
             ],
             [
              0.4444444444444444,
              "#bd3786"
             ],
             [
              0.5555555555555556,
              "#d8576b"
             ],
             [
              0.6666666666666666,
              "#ed7953"
             ],
             [
              0.7777777777777778,
              "#fb9f3a"
             ],
             [
              0.8888888888888888,
              "#fdca26"
             ],
             [
              1,
              "#f0f921"
             ]
            ],
            "type": "histogram2dcontour"
           }
          ],
          "mesh3d": [
           {
            "colorbar": {
             "outlinewidth": 0,
             "ticks": ""
            },
            "type": "mesh3d"
           }
          ],
          "parcoords": [
           {
            "line": {
             "colorbar": {
              "outlinewidth": 0,
              "ticks": ""
             }
            },
            "type": "parcoords"
           }
          ],
          "scatter": [
           {
            "marker": {
             "colorbar": {
              "outlinewidth": 0,
              "ticks": ""
             }
            },
            "type": "scatter"
           }
          ],
          "scatter3d": [
           {
            "line": {
             "colorbar": {
              "outlinewidth": 0,
              "ticks": ""
             }
            },
            "marker": {
             "colorbar": {
              "outlinewidth": 0,
              "ticks": ""
             }
            },
            "type": "scatter3d"
           }
          ],
          "scattercarpet": [
           {
            "marker": {
             "colorbar": {
              "outlinewidth": 0,
              "ticks": ""
             }
            },
            "type": "scattercarpet"
           }
          ],
          "scattergeo": [
           {
            "marker": {
             "colorbar": {
              "outlinewidth": 0,
              "ticks": ""
             }
            },
            "type": "scattergeo"
           }
          ],
          "scattergl": [
           {
            "marker": {
             "colorbar": {
              "outlinewidth": 0,
              "ticks": ""
             }
            },
            "type": "scattergl"
           }
          ],
          "scattermapbox": [
           {
            "marker": {
             "colorbar": {
              "outlinewidth": 0,
              "ticks": ""
             }
            },
            "type": "scattermapbox"
           }
          ],
          "scatterpolar": [
           {
            "marker": {
             "colorbar": {
              "outlinewidth": 0,
              "ticks": ""
             }
            },
            "type": "scatterpolar"
           }
          ],
          "scatterpolargl": [
           {
            "marker": {
             "colorbar": {
              "outlinewidth": 0,
              "ticks": ""
             }
            },
            "type": "scatterpolargl"
           }
          ],
          "scatterternary": [
           {
            "marker": {
             "colorbar": {
              "outlinewidth": 0,
              "ticks": ""
             }
            },
            "type": "scatterternary"
           }
          ],
          "surface": [
           {
            "colorbar": {
             "outlinewidth": 0,
             "ticks": ""
            },
            "colorscale": [
             [
              0,
              "#0d0887"
             ],
             [
              0.1111111111111111,
              "#46039f"
             ],
             [
              0.2222222222222222,
              "#7201a8"
             ],
             [
              0.3333333333333333,
              "#9c179e"
             ],
             [
              0.4444444444444444,
              "#bd3786"
             ],
             [
              0.5555555555555556,
              "#d8576b"
             ],
             [
              0.6666666666666666,
              "#ed7953"
             ],
             [
              0.7777777777777778,
              "#fb9f3a"
             ],
             [
              0.8888888888888888,
              "#fdca26"
             ],
             [
              1,
              "#f0f921"
             ]
            ],
            "type": "surface"
           }
          ],
          "table": [
           {
            "cells": {
             "fill": {
              "color": "#EBF0F8"
             },
             "line": {
              "color": "white"
             }
            },
            "header": {
             "fill": {
              "color": "#C8D4E3"
             },
             "line": {
              "color": "white"
             }
            },
            "type": "table"
           }
          ]
         },
         "layout": {
          "annotationdefaults": {
           "arrowcolor": "#2a3f5f",
           "arrowhead": 0,
           "arrowwidth": 1
          },
          "colorscale": {
           "diverging": [
            [
             0,
             "#8e0152"
            ],
            [
             0.1,
             "#c51b7d"
            ],
            [
             0.2,
             "#de77ae"
            ],
            [
             0.3,
             "#f1b6da"
            ],
            [
             0.4,
             "#fde0ef"
            ],
            [
             0.5,
             "#f7f7f7"
            ],
            [
             0.6,
             "#e6f5d0"
            ],
            [
             0.7,
             "#b8e186"
            ],
            [
             0.8,
             "#7fbc41"
            ],
            [
             0.9,
             "#4d9221"
            ],
            [
             1,
             "#276419"
            ]
           ],
           "sequential": [
            [
             0,
             "#0d0887"
            ],
            [
             0.1111111111111111,
             "#46039f"
            ],
            [
             0.2222222222222222,
             "#7201a8"
            ],
            [
             0.3333333333333333,
             "#9c179e"
            ],
            [
             0.4444444444444444,
             "#bd3786"
            ],
            [
             0.5555555555555556,
             "#d8576b"
            ],
            [
             0.6666666666666666,
             "#ed7953"
            ],
            [
             0.7777777777777778,
             "#fb9f3a"
            ],
            [
             0.8888888888888888,
             "#fdca26"
            ],
            [
             1,
             "#f0f921"
            ]
           ],
           "sequentialminus": [
            [
             0,
             "#0d0887"
            ],
            [
             0.1111111111111111,
             "#46039f"
            ],
            [
             0.2222222222222222,
             "#7201a8"
            ],
            [
             0.3333333333333333,
             "#9c179e"
            ],
            [
             0.4444444444444444,
             "#bd3786"
            ],
            [
             0.5555555555555556,
             "#d8576b"
            ],
            [
             0.6666666666666666,
             "#ed7953"
            ],
            [
             0.7777777777777778,
             "#fb9f3a"
            ],
            [
             0.8888888888888888,
             "#fdca26"
            ],
            [
             1,
             "#f0f921"
            ]
           ]
          },
          "colorway": [
           "#636efa",
           "#EF553B",
           "#00cc96",
           "#ab63fa",
           "#FFA15A",
           "#19d3f3",
           "#FF6692",
           "#B6E880",
           "#FF97FF",
           "#FECB52"
          ],
          "font": {
           "color": "#2a3f5f"
          },
          "geo": {
           "bgcolor": "white",
           "lakecolor": "white",
           "landcolor": "#E5ECF6",
           "showlakes": true,
           "showland": true,
           "subunitcolor": "white"
          },
          "hoverlabel": {
           "align": "left"
          },
          "hovermode": "closest",
          "mapbox": {
           "style": "light"
          },
          "paper_bgcolor": "white",
          "plot_bgcolor": "#E5ECF6",
          "polar": {
           "angularaxis": {
            "gridcolor": "white",
            "linecolor": "white",
            "ticks": ""
           },
           "bgcolor": "#E5ECF6",
           "radialaxis": {
            "gridcolor": "white",
            "linecolor": "white",
            "ticks": ""
           }
          },
          "scene": {
           "xaxis": {
            "backgroundcolor": "#E5ECF6",
            "gridcolor": "white",
            "gridwidth": 2,
            "linecolor": "white",
            "showbackground": true,
            "ticks": "",
            "zerolinecolor": "white"
           },
           "yaxis": {
            "backgroundcolor": "#E5ECF6",
            "gridcolor": "white",
            "gridwidth": 2,
            "linecolor": "white",
            "showbackground": true,
            "ticks": "",
            "zerolinecolor": "white"
           },
           "zaxis": {
            "backgroundcolor": "#E5ECF6",
            "gridcolor": "white",
            "gridwidth": 2,
            "linecolor": "white",
            "showbackground": true,
            "ticks": "",
            "zerolinecolor": "white"
           }
          },
          "shapedefaults": {
           "line": {
            "color": "#2a3f5f"
           }
          },
          "ternary": {
           "aaxis": {
            "gridcolor": "white",
            "linecolor": "white",
            "ticks": ""
           },
           "baxis": {
            "gridcolor": "white",
            "linecolor": "white",
            "ticks": ""
           },
           "bgcolor": "#E5ECF6",
           "caxis": {
            "gridcolor": "white",
            "linecolor": "white",
            "ticks": ""
           }
          },
          "title": {
           "x": 0.05
          },
          "xaxis": {
           "automargin": true,
           "gridcolor": "white",
           "linecolor": "white",
           "ticks": "",
           "zerolinecolor": "white",
           "zerolinewidth": 2
          },
          "yaxis": {
           "automargin": true,
           "gridcolor": "white",
           "linecolor": "white",
           "ticks": "",
           "zerolinecolor": "white",
           "zerolinewidth": 2
          }
         }
        },
        "xaxis": {
         "anchor": "y",
         "domain": [
          0,
          0.98
         ],
         "title": {
          "text": "Year"
         }
        },
        "yaxis": {
         "anchor": "x",
         "domain": [
          0,
          1
         ],
         "title": {
          "text": "Value"
         }
        }
       }
      },
      "text/html": [
       "<div>\n",
       "        \n",
       "        \n",
       "            <div id=\"1cd7500b-8c9c-436c-825e-8e1024560e9d\" class=\"plotly-graph-div\" style=\"height:600px; width:100%;\"></div>\n",
       "            <script type=\"text/javascript\">\n",
       "                require([\"plotly\"], function(Plotly) {\n",
       "                    window.PLOTLYENV=window.PLOTLYENV || {};\n",
       "                    \n",
       "                if (document.getElementById(\"1cd7500b-8c9c-436c-825e-8e1024560e9d\")) {\n",
       "                    Plotly.newPlot(\n",
       "                        '1cd7500b-8c9c-436c-825e-8e1024560e9d',\n",
       "                        [{\"hoverlabel\": {\"namelength\": 0}, \"hovertemplate\": \"Country=Australia<br>Year=%{x}<br>Value=%{y}\", \"legendgroup\": \"Country=Australia\", \"line\": {\"color\": \"#636efa\", \"dash\": \"solid\"}, \"mode\": \"lines\", \"name\": \"Country=Australia\", \"showlegend\": true, \"type\": \"scatter\", \"x\": [2000, 2003, 2006, 2009, 2012, 2015, 2000, 2003, 2006, 2009, 2012, 2015], \"xaxis\": \"x\", \"y\": [512.6, 506.1, 494.9, 496.1, 495.1, 487.2, 546.3, 545.4, 531.8, 532.9, 529.5, 518.9], \"yaxis\": \"y\"}, {\"hoverlabel\": {\"namelength\": 0}, \"hovertemplate\": \"Country=Austria<br>Year=%{x}<br>Value=%{y}\", \"legendgroup\": \"Country=Austria\", \"line\": {\"color\": \"#EF553B\", \"dash\": \"solid\"}, \"mode\": \"lines\", \"name\": \"Country=Austria\", \"showlegend\": true, \"type\": \"scatter\", \"x\": [2000, 2003, 2006, 2009, 2012, 2015, 2000, 2003, 2006, 2009, 2012, 2015], \"xaxis\": \"x\", \"y\": [475.8, 467.1, 468.3, 449.3, 471.1, 474.8, 509.2, 514.4, 512.9, 490.5, 508.0, 495.1], \"yaxis\": \"y\"}, {\"hoverlabel\": {\"namelength\": 0}, \"hovertemplate\": \"Country=Belgium<br>Year=%{x}<br>Value=%{y}\", \"legendgroup\": \"Country=Belgium\", \"line\": {\"color\": \"#00cc96\", \"dash\": \"solid\"}, \"mode\": \"lines\", \"name\": \"Country=Belgium\", \"showlegend\": true, \"type\": \"scatter\", \"x\": [2000, 2003, 2006, 2009, 2012, 2015, 2000, 2003, 2006, 2009, 2012, 2015], \"xaxis\": \"x\", \"y\": [492.4, 489.3, 482.0, 492.7, 492.8, 490.7, 525.2, 526.2, 521.7, 519.8, 524.6, 506.6], \"yaxis\": \"y\"}, {\"hoverlabel\": {\"namelength\": 0}, \"hovertemplate\": \"Country=Canada<br>Year=%{x}<br>Value=%{y}\", \"legendgroup\": \"Country=Canada\", \"line\": {\"color\": \"#ab63fa\", \"dash\": \"solid\"}, \"mode\": \"lines\", \"name\": \"Country=Canada\", \"showlegend\": true, \"type\": \"scatter\", \"x\": [2000, 2003, 2006, 2009, 2012, 2015, 2000, 2003, 2006, 2009, 2012, 2015], \"xaxis\": \"x\", \"y\": [518.9, 514.0, 511.1, 507.2, 505.5, 513.5, 551.1, 545.5, 543.0, 541.5, 540.7, 539.8], \"yaxis\": \"y\"}, {\"hoverlabel\": {\"namelength\": 0}, \"hovertemplate\": \"Country=Czech Republic<br>Year=%{x}<br>Value=%{y}\", \"legendgroup\": \"Country=Czech Republic\", \"line\": {\"color\": \"#FFA15A\", \"dash\": \"solid\"}, \"mode\": \"lines\", \"name\": \"Country=Czech Republic\", \"showlegend\": true, \"type\": \"scatter\", \"x\": [2000, 2003, 2006, 2009, 2012, 2015, 2000, 2003, 2006, 2009, 2012, 2015], \"xaxis\": \"x\", \"y\": [472.6, 473.1, 462.8, 455.5, 474.0, 474.5, 510.1, 504.4, 508.6, 504.0, 512.8, 500.7], \"yaxis\": \"y\"}, {\"hoverlabel\": {\"namelength\": 0}, \"hovertemplate\": \"Country=Denmark<br>Year=%{x}<br>Value=%{y}\", \"legendgroup\": \"Country=Denmark\", \"line\": {\"color\": \"#19d3f3\", \"dash\": \"solid\"}, \"mode\": \"lines\", \"name\": \"Country=Denmark\", \"showlegend\": true, \"type\": \"scatter\", \"x\": [2000, 2003, 2006, 2009, 2012, 2015, 2000, 2003, 2006, 2009, 2012, 2015], \"xaxis\": \"x\", \"y\": [485.4, 479.4, 479.5, 480.4, 480.9, 488.8, 510.2, 504.8, 509.3, 509.2, 511.5, 511.0], \"yaxis\": \"y\"}, {\"hoverlabel\": {\"namelength\": 0}, \"hovertemplate\": \"Country=Finland<br>Year=%{x}<br>Value=%{y}\", \"legendgroup\": \"Country=Finland\", \"line\": {\"color\": \"#FF6692\", \"dash\": \"solid\"}, \"mode\": \"lines\", \"name\": \"Country=Finland\", \"showlegend\": true, \"type\": \"scatter\", \"x\": [2000, 2003, 2006, 2009, 2012, 2015, 2000, 2003, 2006, 2009, 2012, 2015], \"xaxis\": \"x\", \"y\": [520.1, 521.4, 521.4, 508.4, 494.0, 504.0, 571.4, 565.4, 572.0, 563.5, 555.7, 550.5], \"yaxis\": \"y\"}, {\"hoverlabel\": {\"namelength\": 0}, \"hovertemplate\": \"Country=France<br>Year=%{x}<br>Value=%{y}\", \"legendgroup\": \"Country=France\", \"line\": {\"color\": \"#B6E880\", \"dash\": \"solid\"}, \"mode\": \"lines\", \"name\": \"Country=France\", \"showlegend\": true, \"type\": \"scatter\", \"x\": [2000, 2003, 2006, 2009, 2012, 2015, 2000, 2003, 2006, 2009, 2012, 2015], \"xaxis\": \"x\", \"y\": [490.3, 476.1, 469.8, 475.0, 483.0, 484.6, 519.1, 514.3, 504.6, 515.2, 526.8, 513.8], \"yaxis\": \"y\"}, {\"hoverlabel\": {\"namelength\": 0}, \"hovertemplate\": \"Country=Germany<br>Year=%{x}<br>Value=%{y}\", \"legendgroup\": \"Country=Germany\", \"line\": {\"color\": \"#FF97FF\", \"dash\": \"solid\"}, \"mode\": \"lines\", \"name\": \"Country=Germany\", \"showlegend\": true, \"type\": \"scatter\", \"x\": [2000, 2003, 2006, 2009, 2012, 2015, 2000, 2003, 2006, 2009, 2012, 2015], \"xaxis\": \"x\", \"y\": [467.6, 470.8, 474.6, 477.9, 486.0, 498.9, 502.2, 512.9, 516.6, 517.6, 530.1, 519.7], \"yaxis\": \"y\"}, {\"hoverlabel\": {\"namelength\": 0}, \"hovertemplate\": \"Country=Greece<br>Year=%{x}<br>Value=%{y}\", \"legendgroup\": \"Country=Greece\", \"line\": {\"color\": \"#FECB52\", \"dash\": \"solid\"}, \"mode\": \"lines\", \"name\": \"Country=Greece\", \"showlegend\": true, \"type\": \"scatter\", \"x\": [2000, 2003, 2006, 2009, 2012, 2015, 2000, 2003, 2006, 2009, 2012, 2015], \"xaxis\": \"x\", \"y\": [455.7, 452.9, 431.6, 458.8, 451.7, 449.1, 492.7, 490.4, 488.1, 505.9, 502.2, 486.5], \"yaxis\": \"y\"}, {\"hoverlabel\": {\"namelength\": 0}, \"hovertemplate\": \"Country=Hungary<br>Year=%{x}<br>Value=%{y}\", \"legendgroup\": \"Country=Hungary\", \"line\": {\"color\": \"#636efa\", \"dash\": \"solid\"}, \"mode\": \"lines\", \"name\": \"Country=Hungary\", \"showlegend\": true, \"type\": \"scatter\", \"x\": [2000, 2003, 2006, 2009, 2012, 2015, 2000, 2003, 2006, 2009, 2012, 2015], \"xaxis\": \"x\", \"y\": [464.5, 467.2, 463.4, 475.4, 468.0, 457.1, 496.2, 498.2, 503.0, 513.3, 507.5, 482.0], \"yaxis\": \"y\"}, {\"hoverlabel\": {\"namelength\": 0}, \"hovertemplate\": \"Country=Iceland<br>Year=%{x}<br>Value=%{y}\", \"legendgroup\": \"Country=Iceland\", \"line\": {\"color\": \"#EF553B\", \"dash\": \"solid\"}, \"mode\": \"lines\", \"name\": \"Country=Iceland\", \"showlegend\": true, \"type\": \"scatter\", \"x\": [2000, 2003, 2006, 2009, 2012, 2015, 2000, 2003, 2006, 2009, 2012, 2015], \"xaxis\": \"x\", \"y\": [488.4, 463.8, 460.4, 478.1, 457.3, 460.1, 528.1, 521.6, 508.9, 522.2, 508.4, 501.7], \"yaxis\": \"y\"}, {\"hoverlabel\": {\"namelength\": 0}, \"hovertemplate\": \"Country=Ireland<br>Year=%{x}<br>Value=%{y}\", \"legendgroup\": \"Country=Ireland\", \"line\": {\"color\": \"#00cc96\", \"dash\": \"solid\"}, \"mode\": \"lines\", \"name\": \"Country=Ireland\", \"showlegend\": true, \"type\": \"scatter\", \"x\": [2000, 2003, 2006, 2009, 2012, 2015, 2000, 2003, 2006, 2009, 2012, 2015], \"xaxis\": \"x\", \"y\": [512.8, 501.1, 500.2, 476.3, 509.2, 515.0, 541.5, 530.1, 534.0, 515.5, 537.7, 526.9], \"yaxis\": \"y\"}, {\"hoverlabel\": {\"namelength\": 0}, \"hovertemplate\": \"Country=Italy<br>Year=%{x}<br>Value=%{y}\", \"legendgroup\": \"Country=Italy\", \"line\": {\"color\": \"#ab63fa\", \"dash\": \"solid\"}, \"mode\": \"lines\", \"name\": \"Country=Italy\", \"showlegend\": true, \"type\": \"scatter\", \"x\": [2000, 2003, 2006, 2009, 2012, 2015, 2000, 2003, 2006, 2009, 2012, 2015], \"xaxis\": \"x\", \"y\": [469.2, 455.2, 447.7, 463.8, 470.9, 476.7, 507.4, 494.6, 489.0, 509.5, 509.9, 492.7], \"yaxis\": \"y\"}, {\"hoverlabel\": {\"namelength\": 0}, \"hovertemplate\": \"Country=Japan<br>Year=%{x}<br>Value=%{y}\", \"legendgroup\": \"Country=Japan\", \"line\": {\"color\": \"#FFA15A\", \"dash\": \"solid\"}, \"mode\": \"lines\", \"name\": \"Country=Japan\", \"showlegend\": true, \"type\": \"scatter\", \"x\": [2000, 2003, 2006, 2009, 2012, 2015, 2000, 2003, 2006, 2009, 2012, 2015], \"xaxis\": \"x\", \"y\": [507.3, 486.6, 482.7, 501.0, 526.6, 509.4, 536.9, 509.0, 513.3, 539.9, 550.7, 522.7], \"yaxis\": \"y\"}, {\"hoverlabel\": {\"namelength\": 0}, \"hovertemplate\": \"Country=Korea<br>Year=%{x}<br>Value=%{y}\", \"legendgroup\": \"Country=Korea\", \"line\": {\"color\": \"#19d3f3\", \"dash\": \"solid\"}, \"mode\": \"lines\", \"name\": \"Country=Korea\", \"showlegend\": true, \"type\": \"scatter\", \"x\": [2000, 2003, 2006, 2009, 2012, 2015, 2000, 2003, 2006, 2009, 2012, 2015], \"xaxis\": \"x\", \"y\": [518.5, 525.5, 538.8, 522.5, 525.0, 498.1, 532.7, 546.7, 573.8, 558.0, 548.2, 538.6], \"yaxis\": \"y\"}, {\"hoverlabel\": {\"namelength\": 0}, \"hovertemplate\": \"Country=Luxembourg<br>Year=%{x}<br>Value=%{y}\", \"legendgroup\": \"Country=Luxembourg\", \"line\": {\"color\": \"#FF6692\", \"dash\": \"solid\"}, \"mode\": \"lines\", \"name\": \"Country=Luxembourg\", \"showlegend\": true, \"type\": \"scatter\", \"x\": [2000, 2003, 2006, 2009, 2012, 2015, 2000, 2003, 2006, 2009, 2012, 2015], \"xaxis\": \"x\", \"y\": [428.8, 462.7, 463.7, 452.7, 473.0, 470.7, 455.7, 495.7, 495.4, 492.1, 503.0, 492.0], \"yaxis\": \"y\"}, {\"hoverlabel\": {\"namelength\": 0}, \"hovertemplate\": \"Country=Mexico<br>Year=%{x}<br>Value=%{y}\", \"legendgroup\": \"Country=Mexico\", \"line\": {\"color\": \"#B6E880\", \"dash\": \"solid\"}, \"mode\": \"lines\", \"name\": \"Country=Mexico\", \"showlegend\": true, \"type\": \"scatter\", \"x\": [2000, 2003, 2006, 2009, 2012, 2015, 2000, 2003, 2006, 2009, 2012, 2015], \"xaxis\": \"x\", \"y\": [411.5, 388.6, 393.1, 412.7, 411.4, 415.5, 431.7, 410.1, 426.7, 437.6, 435.3, 431.2], \"yaxis\": \"y\"}, {\"hoverlabel\": {\"namelength\": 0}, \"hovertemplate\": \"Country=Netherlands<br>Year=%{x}<br>Value=%{y}\", \"legendgroup\": \"Country=Netherlands\", \"line\": {\"color\": \"#FF97FF\", \"dash\": \"solid\"}, \"mode\": \"lines\", \"name\": \"Country=Netherlands\", \"showlegend\": true, \"type\": \"scatter\", \"x\": [2003, 2006, 2009, 2012, 2015, 2003, 2006, 2009, 2012, 2015], \"xaxis\": \"x\", \"y\": [502.9, 494.9, 496.2, 498.3, 491.1, 523.8, 519.0, 520.5, 524.8, 514.7], \"yaxis\": \"y\"}, {\"hoverlabel\": {\"namelength\": 0}, \"hovertemplate\": \"Country=New Zealand<br>Year=%{x}<br>Value=%{y}\", \"legendgroup\": \"Country=New Zealand\", \"line\": {\"color\": \"#FECB52\", \"dash\": \"solid\"}, \"mode\": \"lines\", \"name\": \"Country=New Zealand\", \"showlegend\": true, \"type\": \"scatter\", \"x\": [2000, 2003, 2006, 2009, 2012, 2015, 2000, 2003, 2006, 2009, 2012, 2015], \"xaxis\": \"x\", \"y\": [506.8, 507.7, 501.7, 498.5, 495.4, 493.2, 552.6, 535.4, 539.1, 544.2, 529.8, 525.5], \"yaxis\": \"y\"}, {\"hoverlabel\": {\"namelength\": 0}, \"hovertemplate\": \"Country=Norway<br>Year=%{x}<br>Value=%{y}\", \"legendgroup\": \"Country=Norway\", \"line\": {\"color\": \"#636efa\", \"dash\": \"solid\"}, \"mode\": \"lines\", \"name\": \"Country=Norway\", \"showlegend\": true, \"type\": \"scatter\", \"x\": [2000, 2003, 2006, 2009, 2012, 2015, 2000, 2003, 2006, 2009, 2012, 2015], \"xaxis\": \"x\", \"y\": [485.6, 475.3, 462.1, 480.1, 481.3, 493.5, 528.8, 524.5, 508.0, 527.4, 527.8, 533.4], \"yaxis\": \"y\"}, {\"hoverlabel\": {\"namelength\": 0}, \"hovertemplate\": \"Country=Poland<br>Year=%{x}<br>Value=%{y}\", \"legendgroup\": \"Country=Poland\", \"line\": {\"color\": \"#EF553B\", \"dash\": \"solid\"}, \"mode\": \"lines\", \"name\": \"Country=Poland\", \"showlegend\": true, \"type\": \"scatter\", \"x\": [2000, 2003, 2006, 2009, 2012, 2015, 2000, 2003, 2006, 2009, 2012, 2015], \"xaxis\": \"x\", \"y\": [461.4, 476.8, 487.4, 475.7, 496.7, 491.2, 497.5, 516.3, 527.6, 525.3, 538.7, 520.7], \"yaxis\": \"y\"}, {\"hoverlabel\": {\"namelength\": 0}, \"hovertemplate\": \"Country=Portugal<br>Year=%{x}<br>Value=%{y}\", \"legendgroup\": \"Country=Portugal\", \"line\": {\"color\": \"#00cc96\", \"dash\": \"solid\"}, \"mode\": \"lines\", \"name\": \"Country=Portugal\", \"showlegend\": true, \"type\": \"scatter\", \"x\": [2000, 2003, 2006, 2009, 2012, 2015, 2000, 2003, 2006, 2009, 2012, 2015], \"xaxis\": \"x\", \"y\": [457.7, 458.5, 455.3, 469.9, 468.4, 489.9, 482.4, 494.9, 488.2, 507.9, 507.6, 506.6], \"yaxis\": \"y\"}, {\"hoverlabel\": {\"namelength\": 0}, \"hovertemplate\": \"Country=Slovak Republic<br>Year=%{x}<br>Value=%{y}\", \"legendgroup\": \"Country=Slovak Republic\", \"line\": {\"color\": \"#ab63fa\", \"dash\": \"solid\"}, \"mode\": \"lines\", \"name\": \"Country=Slovak Republic\", \"showlegend\": true, \"type\": \"scatter\", \"x\": [2003, 2006, 2009, 2012, 2015, 2003, 2006, 2009, 2012, 2015], \"xaxis\": \"x\", \"y\": [453.3, 446.1, 451.6, 444.1, 435.2, 485.8, 487.8, 502.9, 483.3, 470.9], \"yaxis\": \"y\"}, {\"hoverlabel\": {\"namelength\": 0}, \"hovertemplate\": \"Country=Spain<br>Year=%{x}<br>Value=%{y}\", \"legendgroup\": \"Country=Spain\", \"line\": {\"color\": \"#FFA15A\", \"dash\": \"solid\"}, \"mode\": \"lines\", \"name\": \"Country=Spain\", \"showlegend\": true, \"type\": \"scatter\", \"x\": [2000, 2003, 2006, 2009, 2012, 2015, 2000, 2003, 2006, 2009, 2012, 2015], \"xaxis\": \"x\", \"y\": [481.2, 460.7, 443.3, 466.8, 473.8, 485.4, 505.4, 499.8, 478.7, 495.7, 502.5, 505.7], \"yaxis\": \"y\"}, {\"hoverlabel\": {\"namelength\": 0}, \"hovertemplate\": \"Country=Sweden<br>Year=%{x}<br>Value=%{y}\", \"legendgroup\": \"Country=Sweden\", \"line\": {\"color\": \"#19d3f3\", \"dash\": \"solid\"}, \"mode\": \"lines\", \"name\": \"Country=Sweden\", \"showlegend\": true, \"type\": \"scatter\", \"x\": [2000, 2003, 2006, 2009, 2012, 2015, 2000, 2003, 2006, 2009, 2012, 2015], \"xaxis\": \"x\", \"y\": [498.6, 495.9, 487.6, 475.1, 458.0, 480.7, 535.6, 532.7, 528.1, 520.6, 509.1, 519.9], \"yaxis\": \"y\"}, {\"hoverlabel\": {\"namelength\": 0}, \"hovertemplate\": \"Country=Switzerland<br>Year=%{x}<br>Value=%{y}\", \"legendgroup\": \"Country=Switzerland\", \"line\": {\"color\": \"#FF6692\", \"dash\": \"solid\"}, \"mode\": \"lines\", \"name\": \"Country=Switzerland\", \"showlegend\": true, \"type\": \"scatter\", \"x\": [2000, 2003, 2006, 2009, 2012, 2015, 2000, 2003, 2006, 2009, 2012, 2015], \"xaxis\": \"x\", \"y\": [480.1, 482.0, 484.4, 481.4, 491.1, 480.1, 510.0, 517.5, 515.2, 520.2, 527.1, 505.4], \"yaxis\": \"y\"}, {\"hoverlabel\": {\"namelength\": 0}, \"hovertemplate\": \"Country=Turkey<br>Year=%{x}<br>Value=%{y}\", \"legendgroup\": \"Country=Turkey\", \"line\": {\"color\": \"#B6E880\", \"dash\": \"solid\"}, \"mode\": \"lines\", \"name\": \"Country=Turkey\", \"showlegend\": true, \"type\": \"scatter\", \"x\": [2003, 2006, 2009, 2012, 2015, 2003, 2006, 2009, 2012, 2015], \"xaxis\": \"x\", \"y\": [426.0, 427.3, 443.5, 452.8, 414.4, 459.3, 471.0, 486.3, 498.6, 442.2], \"yaxis\": \"y\"}, {\"hoverlabel\": {\"namelength\": 0}, \"hovertemplate\": \"Country=United Kingdom<br>Year=%{x}<br>Value=%{y}\", \"legendgroup\": \"Country=United Kingdom\", \"line\": {\"color\": \"#FF97FF\", \"dash\": \"solid\"}, \"mode\": \"lines\", \"name\": \"Country=United Kingdom\", \"showlegend\": true, \"type\": \"scatter\", \"x\": [2000, 2003, 2006, 2009, 2012, 2015, 2000, 2003, 2006, 2009, 2012, 2015], \"xaxis\": \"x\", \"y\": [511.6, 491.8, 480.4, 481.4, 486.6, 487.2, 537.2, 520.4, 509.5, 506.5, 511.5, 509.1], \"yaxis\": \"y\"}, {\"hoverlabel\": {\"namelength\": 0}, \"hovertemplate\": \"Country=United States<br>Year=%{x}<br>Value=%{y}\", \"legendgroup\": \"Country=United States\", \"line\": {\"color\": \"#FECB52\", \"dash\": \"solid\"}, \"mode\": \"lines\", \"name\": \"Country=United States\", \"showlegend\": true, \"type\": \"scatter\", \"x\": [2000, 2003, 2009, 2012, 2015, 2000, 2003, 2009, 2012, 2015], \"xaxis\": \"x\", \"y\": [489.7, 479.3, 487.8, 482.5, 486.9, 518.2, 511.3, 512.5, 513.3, 507.0], \"yaxis\": \"y\"}, {\"hoverlabel\": {\"namelength\": 0}, \"hovertemplate\": \"Country=Brazil<br>Year=%{x}<br>Value=%{y}\", \"legendgroup\": \"Country=Brazil\", \"line\": {\"color\": \"#636efa\", \"dash\": \"solid\"}, \"mode\": \"lines\", \"name\": \"Country=Brazil\", \"showlegend\": true, \"type\": \"scatter\", \"x\": [2000, 2003, 2006, 2009, 2012, 2015, 2000, 2003, 2006, 2009, 2012, 2015], \"xaxis\": \"x\", \"y\": [387.6, 384.2, 375.8, 396.6, 394.2, 395.5, 404.3, 418.9, 407.6, 425.2, 424.7, 418.6], \"yaxis\": \"y\"}, {\"hoverlabel\": {\"namelength\": 0}, \"hovertemplate\": \"Country=Chile<br>Year=%{x}<br>Value=%{y}\", \"legendgroup\": \"Country=Chile\", \"line\": {\"color\": \"#EF553B\", \"dash\": \"solid\"}, \"mode\": \"lines\", \"name\": \"Country=Chile\", \"showlegend\": true, \"type\": \"scatter\", \"x\": [2000, 2006, 2009, 2012, 2015, 2000, 2006, 2009, 2012, 2015], \"xaxis\": \"x\", \"y\": [396.5, 434.3, 438.6, 429.7, 452.6, 421.1, 451.3, 460.6, 452.4, 464.6], \"yaxis\": \"y\"}, {\"hoverlabel\": {\"namelength\": 0}, \"hovertemplate\": \"Country=Estonia<br>Year=%{x}<br>Value=%{y}\", \"legendgroup\": \"Country=Estonia\", \"line\": {\"color\": \"#00cc96\", \"dash\": \"solid\"}, \"mode\": \"lines\", \"name\": \"Country=Estonia\", \"showlegend\": true, \"type\": \"scatter\", \"x\": [2006, 2009, 2012, 2015, 2006, 2009, 2012, 2015], \"xaxis\": \"x\", \"y\": [478.4, 479.6, 494.3, 505.5, 524.2, 523.8, 537.8, 533.4], \"yaxis\": \"y\"}, {\"hoverlabel\": {\"namelength\": 0}, \"hovertemplate\": \"Country=Indonesia<br>Year=%{x}<br>Value=%{y}\", \"legendgroup\": \"Country=Indonesia\", \"line\": {\"color\": \"#ab63fa\", \"dash\": \"solid\"}, \"mode\": \"lines\", \"name\": \"Country=Indonesia\", \"showlegend\": true, \"type\": \"scatter\", \"x\": [2000, 2003, 2006, 2009, 2012, 2015, 2000, 2003, 2006, 2009, 2012, 2015], \"xaxis\": \"x\", \"y\": [360.3, 369.5, 384.2, 383.3, 382.3, 385.6, 380.5, 393.5, 402.1, 419.8, 410.4, 409.0], \"yaxis\": \"y\"}, {\"hoverlabel\": {\"namelength\": 0}, \"hovertemplate\": \"Country=Israel<br>Year=%{x}<br>Value=%{y}\", \"legendgroup\": \"Country=Israel\", \"line\": {\"color\": \"#FFA15A\", \"dash\": \"solid\"}, \"mode\": \"lines\", \"name\": \"Country=Israel\", \"showlegend\": true, \"type\": \"scatter\", \"x\": [2000, 2006, 2009, 2012, 2015, 2000, 2006, 2009, 2012, 2015], \"xaxis\": \"x\", \"y\": [443.8, 417.5, 452.5, 463.5, 467.3, 459.4, 459.5, 494.7, 507.5, 490.2], \"yaxis\": \"y\"}, {\"hoverlabel\": {\"namelength\": 0}, \"hovertemplate\": \"Country=Russia<br>Year=%{x}<br>Value=%{y}\", \"legendgroup\": \"Country=Russia\", \"line\": {\"color\": \"#19d3f3\", \"dash\": \"solid\"}, \"mode\": \"lines\", \"name\": \"Country=Russia\", \"showlegend\": true, \"type\": \"scatter\", \"x\": [2000, 2003, 2006, 2009, 2012, 2015, 2000, 2003, 2006, 2009, 2012, 2015], \"xaxis\": \"x\", \"y\": [442.8, 427.8, 420.1, 436.9, 455.1, 481.4, 481.0, 456.4, 458.0, 481.5, 495.1, 507.5], \"yaxis\": \"y\"}, {\"hoverlabel\": {\"namelength\": 0}, \"hovertemplate\": \"Country=Slovenia<br>Year=%{x}<br>Value=%{y}\", \"legendgroup\": \"Country=Slovenia\", \"line\": {\"color\": \"#FF6692\", \"dash\": \"solid\"}, \"mode\": \"lines\", \"name\": \"Country=Slovenia\", \"showlegend\": true, \"type\": \"scatter\", \"x\": [2006, 2009, 2012, 2015, 2006, 2009, 2012, 2015], \"xaxis\": \"x\", \"y\": [467.5, 456.2, 454.5, 484.3, 521.1, 511.0, 510.1, 527.6], \"yaxis\": \"y\"}, {\"hoverlabel\": {\"namelength\": 0}, \"hovertemplate\": \"Country=Bulgaria<br>Year=%{x}<br>Value=%{y}\", \"legendgroup\": \"Country=Bulgaria\", \"line\": {\"color\": \"#B6E880\", \"dash\": \"solid\"}, \"mode\": \"lines\", \"name\": \"Country=Bulgaria\", \"showlegend\": true, \"type\": \"scatter\", \"x\": [2000, 2006, 2009, 2012, 2015, 2000, 2006, 2009, 2012, 2015], \"xaxis\": \"x\", \"y\": [407.5, 373.8, 399.6, 402.5, 409.4, 454.7, 432.1, 460.8, 472.2, 456.6], \"yaxis\": \"y\"}, {\"hoverlabel\": {\"namelength\": 0}, \"hovertemplate\": \"Country=Colombia<br>Year=%{x}<br>Value=%{y}\", \"legendgroup\": \"Country=Colombia\", \"line\": {\"color\": \"#FF97FF\", \"dash\": \"solid\"}, \"mode\": \"lines\", \"name\": \"Country=Colombia\", \"showlegend\": true, \"type\": \"scatter\", \"x\": [2006, 2009, 2012, 2015, 2006, 2009, 2012, 2015], \"xaxis\": \"x\", \"y\": [375.3, 408.3, 393.6, 416.7, 393.9, 417.6, 412.1, 432.3], \"yaxis\": \"y\"}, {\"hoverlabel\": {\"namelength\": 0}, \"hovertemplate\": \"Country=Costa Rica<br>Year=%{x}<br>Value=%{y}\", \"legendgroup\": \"Country=Costa Rica\", \"line\": {\"color\": \"#FECB52\", \"dash\": \"solid\"}, \"mode\": \"lines\", \"name\": \"Country=Costa Rica\", \"showlegend\": true, \"type\": \"scatter\", \"x\": [2012, 2015, 2012, 2015], \"xaxis\": \"x\", \"y\": [427.2, 419.9, 452.3, 434.9], \"yaxis\": \"y\"}, {\"hoverlabel\": {\"namelength\": 0}, \"hovertemplate\": \"Country=Croatia<br>Year=%{x}<br>Value=%{y}\", \"legendgroup\": \"Country=Croatia\", \"line\": {\"color\": \"#636efa\", \"dash\": \"solid\"}, \"mode\": \"lines\", \"name\": \"Country=Croatia\", \"showlegend\": true, \"type\": \"scatter\", \"x\": [2006, 2009, 2012, 2015, 2006, 2009, 2012, 2015], \"xaxis\": \"x\", \"y\": [452.4, 451.7, 460.9, 473.1, 502.3, 502.9, 509.2, 499.6], \"yaxis\": \"y\"}, {\"hoverlabel\": {\"namelength\": 0}, \"hovertemplate\": \"Country=Cyprus<br>Year=%{x}<br>Value=%{y}\", \"legendgroup\": \"Country=Cyprus\", \"line\": {\"color\": \"#EF553B\", \"dash\": \"solid\"}, \"mode\": \"lines\", \"name\": \"Country=Cyprus\", \"showlegend\": true, \"type\": \"scatter\", \"x\": [2015, 2015], \"xaxis\": \"x\", \"y\": [416.8, 468.7], \"yaxis\": \"y\"}, {\"hoverlabel\": {\"namelength\": 0}, \"hovertemplate\": \"Country=Latvia<br>Year=%{x}<br>Value=%{y}\", \"legendgroup\": \"Country=Latvia\", \"line\": {\"color\": \"#00cc96\", \"dash\": \"solid\"}, \"mode\": \"lines\", \"name\": \"Country=Latvia\", \"showlegend\": true, \"type\": \"scatter\", \"x\": [2000, 2003, 2006, 2009, 2012, 2015, 2000, 2003, 2006, 2009, 2012, 2015], \"xaxis\": \"x\", \"y\": [431.9, 470.4, 453.8, 460.0, 461.6, 466.8, 484.7, 509.1, 503.8, 507.3, 516.3, 508.8], \"yaxis\": \"y\"}, {\"hoverlabel\": {\"namelength\": 0}, \"hovertemplate\": \"Country=Lithuania<br>Year=%{x}<br>Value=%{y}\", \"legendgroup\": \"Country=Lithuania\", \"line\": {\"color\": \"#ab63fa\", \"dash\": \"solid\"}, \"mode\": \"lines\", \"name\": \"Country=Lithuania\", \"showlegend\": true, \"type\": \"scatter\", \"x\": [2006, 2009, 2012, 2015, 2006, 2009, 2012, 2015], \"xaxis\": \"x\", \"y\": [444.8, 439.5, 450.0, 453.2, 496.2, 498.2, 505.1, 492.2], \"yaxis\": \"y\"}, {\"hoverlabel\": {\"namelength\": 0}, \"hovertemplate\": \"Country=Malta<br>Year=%{x}<br>Value=%{y}\", \"legendgroup\": \"Country=Malta\", \"line\": {\"color\": \"#FFA15A\", \"dash\": \"solid\"}, \"mode\": \"lines\", \"name\": \"Country=Malta\", \"showlegend\": true, \"type\": \"scatter\", \"x\": [2015, 2015], \"xaxis\": \"x\", \"y\": [425.9, 468.1], \"yaxis\": \"y\"}, {\"hoverlabel\": {\"namelength\": 0}, \"hovertemplate\": \"Country=Romania<br>Year=%{x}<br>Value=%{y}\", \"legendgroup\": \"Country=Romania\", \"line\": {\"color\": \"#19d3f3\", \"dash\": \"solid\"}, \"mode\": \"lines\", \"name\": \"Country=Romania\", \"showlegend\": true, \"type\": \"scatter\", \"x\": [2000, 2006, 2009, 2012, 2015, 2000, 2006, 2009, 2012, 2015], \"xaxis\": \"x\", \"y\": [420.8, 373.8, 402.8, 417.0, 424.8, 434.4, 417.9, 445.3, 457.4, 442.4], \"yaxis\": \"y\"}],\n",
       "                        {\"height\": 600, \"legend\": {\"tracegroupgap\": 0}, \"margin\": {\"t\": 60}, \"template\": {\"data\": {\"bar\": [{\"error_x\": {\"color\": \"#2a3f5f\"}, \"error_y\": {\"color\": \"#2a3f5f\"}, \"marker\": {\"line\": {\"color\": \"#E5ECF6\", \"width\": 0.5}}, \"type\": \"bar\"}], \"barpolar\": [{\"marker\": {\"line\": {\"color\": \"#E5ECF6\", \"width\": 0.5}}, \"type\": \"barpolar\"}], \"carpet\": [{\"aaxis\": {\"endlinecolor\": \"#2a3f5f\", \"gridcolor\": \"white\", \"linecolor\": \"white\", \"minorgridcolor\": \"white\", \"startlinecolor\": \"#2a3f5f\"}, \"baxis\": {\"endlinecolor\": \"#2a3f5f\", \"gridcolor\": \"white\", \"linecolor\": \"white\", \"minorgridcolor\": \"white\", \"startlinecolor\": \"#2a3f5f\"}, \"type\": \"carpet\"}], \"choropleth\": [{\"colorbar\": {\"outlinewidth\": 0, \"ticks\": \"\"}, \"type\": \"choropleth\"}], \"contour\": [{\"colorbar\": {\"outlinewidth\": 0, \"ticks\": \"\"}, \"colorscale\": [[0.0, \"#0d0887\"], [0.1111111111111111, \"#46039f\"], [0.2222222222222222, \"#7201a8\"], [0.3333333333333333, \"#9c179e\"], [0.4444444444444444, \"#bd3786\"], [0.5555555555555556, \"#d8576b\"], [0.6666666666666666, \"#ed7953\"], [0.7777777777777778, \"#fb9f3a\"], [0.8888888888888888, \"#fdca26\"], [1.0, \"#f0f921\"]], \"type\": \"contour\"}], \"contourcarpet\": [{\"colorbar\": {\"outlinewidth\": 0, \"ticks\": \"\"}, \"type\": \"contourcarpet\"}], \"heatmap\": [{\"colorbar\": {\"outlinewidth\": 0, \"ticks\": \"\"}, \"colorscale\": [[0.0, \"#0d0887\"], [0.1111111111111111, \"#46039f\"], [0.2222222222222222, \"#7201a8\"], [0.3333333333333333, \"#9c179e\"], [0.4444444444444444, \"#bd3786\"], [0.5555555555555556, \"#d8576b\"], [0.6666666666666666, \"#ed7953\"], [0.7777777777777778, \"#fb9f3a\"], [0.8888888888888888, \"#fdca26\"], [1.0, \"#f0f921\"]], \"type\": \"heatmap\"}], \"heatmapgl\": [{\"colorbar\": {\"outlinewidth\": 0, \"ticks\": \"\"}, \"colorscale\": [[0.0, \"#0d0887\"], [0.1111111111111111, \"#46039f\"], [0.2222222222222222, \"#7201a8\"], [0.3333333333333333, \"#9c179e\"], [0.4444444444444444, \"#bd3786\"], [0.5555555555555556, \"#d8576b\"], [0.6666666666666666, \"#ed7953\"], [0.7777777777777778, \"#fb9f3a\"], [0.8888888888888888, \"#fdca26\"], [1.0, \"#f0f921\"]], \"type\": \"heatmapgl\"}], \"histogram\": [{\"marker\": {\"colorbar\": {\"outlinewidth\": 0, \"ticks\": \"\"}}, \"type\": \"histogram\"}], \"histogram2d\": [{\"colorbar\": {\"outlinewidth\": 0, \"ticks\": \"\"}, \"colorscale\": [[0.0, \"#0d0887\"], [0.1111111111111111, \"#46039f\"], [0.2222222222222222, \"#7201a8\"], [0.3333333333333333, \"#9c179e\"], [0.4444444444444444, \"#bd3786\"], [0.5555555555555556, \"#d8576b\"], [0.6666666666666666, \"#ed7953\"], [0.7777777777777778, \"#fb9f3a\"], [0.8888888888888888, \"#fdca26\"], [1.0, \"#f0f921\"]], \"type\": \"histogram2d\"}], \"histogram2dcontour\": [{\"colorbar\": {\"outlinewidth\": 0, \"ticks\": \"\"}, \"colorscale\": [[0.0, \"#0d0887\"], [0.1111111111111111, \"#46039f\"], [0.2222222222222222, \"#7201a8\"], [0.3333333333333333, \"#9c179e\"], [0.4444444444444444, \"#bd3786\"], [0.5555555555555556, \"#d8576b\"], [0.6666666666666666, \"#ed7953\"], [0.7777777777777778, \"#fb9f3a\"], [0.8888888888888888, \"#fdca26\"], [1.0, \"#f0f921\"]], \"type\": \"histogram2dcontour\"}], \"mesh3d\": [{\"colorbar\": {\"outlinewidth\": 0, \"ticks\": \"\"}, \"type\": \"mesh3d\"}], \"parcoords\": [{\"line\": {\"colorbar\": {\"outlinewidth\": 0, \"ticks\": \"\"}}, \"type\": \"parcoords\"}], \"scatter\": [{\"marker\": {\"colorbar\": {\"outlinewidth\": 0, \"ticks\": \"\"}}, \"type\": \"scatter\"}], \"scatter3d\": [{\"line\": {\"colorbar\": {\"outlinewidth\": 0, \"ticks\": \"\"}}, \"marker\": {\"colorbar\": {\"outlinewidth\": 0, \"ticks\": \"\"}}, \"type\": \"scatter3d\"}], \"scattercarpet\": [{\"marker\": {\"colorbar\": {\"outlinewidth\": 0, \"ticks\": \"\"}}, \"type\": \"scattercarpet\"}], \"scattergeo\": [{\"marker\": {\"colorbar\": {\"outlinewidth\": 0, \"ticks\": \"\"}}, \"type\": \"scattergeo\"}], \"scattergl\": [{\"marker\": {\"colorbar\": {\"outlinewidth\": 0, \"ticks\": \"\"}}, \"type\": \"scattergl\"}], \"scattermapbox\": [{\"marker\": {\"colorbar\": {\"outlinewidth\": 0, \"ticks\": \"\"}}, \"type\": \"scattermapbox\"}], \"scatterpolar\": [{\"marker\": {\"colorbar\": {\"outlinewidth\": 0, \"ticks\": \"\"}}, \"type\": \"scatterpolar\"}], \"scatterpolargl\": [{\"marker\": {\"colorbar\": {\"outlinewidth\": 0, \"ticks\": \"\"}}, \"type\": \"scatterpolargl\"}], \"scatterternary\": [{\"marker\": {\"colorbar\": {\"outlinewidth\": 0, \"ticks\": \"\"}}, \"type\": \"scatterternary\"}], \"surface\": [{\"colorbar\": {\"outlinewidth\": 0, \"ticks\": \"\"}, \"colorscale\": [[0.0, \"#0d0887\"], [0.1111111111111111, \"#46039f\"], [0.2222222222222222, \"#7201a8\"], [0.3333333333333333, \"#9c179e\"], [0.4444444444444444, \"#bd3786\"], [0.5555555555555556, \"#d8576b\"], [0.6666666666666666, \"#ed7953\"], [0.7777777777777778, \"#fb9f3a\"], [0.8888888888888888, \"#fdca26\"], [1.0, \"#f0f921\"]], \"type\": \"surface\"}], \"table\": [{\"cells\": {\"fill\": {\"color\": \"#EBF0F8\"}, \"line\": {\"color\": \"white\"}}, \"header\": {\"fill\": {\"color\": \"#C8D4E3\"}, \"line\": {\"color\": \"white\"}}, \"type\": \"table\"}]}, \"layout\": {\"annotationdefaults\": {\"arrowcolor\": \"#2a3f5f\", \"arrowhead\": 0, \"arrowwidth\": 1}, \"colorscale\": {\"diverging\": [[0, \"#8e0152\"], [0.1, \"#c51b7d\"], [0.2, \"#de77ae\"], [0.3, \"#f1b6da\"], [0.4, \"#fde0ef\"], [0.5, \"#f7f7f7\"], [0.6, \"#e6f5d0\"], [0.7, \"#b8e186\"], [0.8, \"#7fbc41\"], [0.9, \"#4d9221\"], [1, \"#276419\"]], \"sequential\": [[0.0, \"#0d0887\"], [0.1111111111111111, \"#46039f\"], [0.2222222222222222, \"#7201a8\"], [0.3333333333333333, \"#9c179e\"], [0.4444444444444444, \"#bd3786\"], [0.5555555555555556, \"#d8576b\"], [0.6666666666666666, \"#ed7953\"], [0.7777777777777778, \"#fb9f3a\"], [0.8888888888888888, \"#fdca26\"], [1.0, \"#f0f921\"]], \"sequentialminus\": [[0.0, \"#0d0887\"], [0.1111111111111111, \"#46039f\"], [0.2222222222222222, \"#7201a8\"], [0.3333333333333333, \"#9c179e\"], [0.4444444444444444, \"#bd3786\"], [0.5555555555555556, \"#d8576b\"], [0.6666666666666666, \"#ed7953\"], [0.7777777777777778, \"#fb9f3a\"], [0.8888888888888888, \"#fdca26\"], [1.0, \"#f0f921\"]]}, \"colorway\": [\"#636efa\", \"#EF553B\", \"#00cc96\", \"#ab63fa\", \"#FFA15A\", \"#19d3f3\", \"#FF6692\", \"#B6E880\", \"#FF97FF\", \"#FECB52\"], \"font\": {\"color\": \"#2a3f5f\"}, \"geo\": {\"bgcolor\": \"white\", \"lakecolor\": \"white\", \"landcolor\": \"#E5ECF6\", \"showlakes\": true, \"showland\": true, \"subunitcolor\": \"white\"}, \"hoverlabel\": {\"align\": \"left\"}, \"hovermode\": \"closest\", \"mapbox\": {\"style\": \"light\"}, \"paper_bgcolor\": \"white\", \"plot_bgcolor\": \"#E5ECF6\", \"polar\": {\"angularaxis\": {\"gridcolor\": \"white\", \"linecolor\": \"white\", \"ticks\": \"\"}, \"bgcolor\": \"#E5ECF6\", \"radialaxis\": {\"gridcolor\": \"white\", \"linecolor\": \"white\", \"ticks\": \"\"}}, \"scene\": {\"xaxis\": {\"backgroundcolor\": \"#E5ECF6\", \"gridcolor\": \"white\", \"gridwidth\": 2, \"linecolor\": \"white\", \"showbackground\": true, \"ticks\": \"\", \"zerolinecolor\": \"white\"}, \"yaxis\": {\"backgroundcolor\": \"#E5ECF6\", \"gridcolor\": \"white\", \"gridwidth\": 2, \"linecolor\": \"white\", \"showbackground\": true, \"ticks\": \"\", \"zerolinecolor\": \"white\"}, \"zaxis\": {\"backgroundcolor\": \"#E5ECF6\", \"gridcolor\": \"white\", \"gridwidth\": 2, \"linecolor\": \"white\", \"showbackground\": true, \"ticks\": \"\", \"zerolinecolor\": \"white\"}}, \"shapedefaults\": {\"line\": {\"color\": \"#2a3f5f\"}}, \"ternary\": {\"aaxis\": {\"gridcolor\": \"white\", \"linecolor\": \"white\", \"ticks\": \"\"}, \"baxis\": {\"gridcolor\": \"white\", \"linecolor\": \"white\", \"ticks\": \"\"}, \"bgcolor\": \"#E5ECF6\", \"caxis\": {\"gridcolor\": \"white\", \"linecolor\": \"white\", \"ticks\": \"\"}}, \"title\": {\"x\": 0.05}, \"xaxis\": {\"automargin\": true, \"gridcolor\": \"white\", \"linecolor\": \"white\", \"ticks\": \"\", \"zerolinecolor\": \"white\", \"zerolinewidth\": 2}, \"yaxis\": {\"automargin\": true, \"gridcolor\": \"white\", \"linecolor\": \"white\", \"ticks\": \"\", \"zerolinecolor\": \"white\", \"zerolinewidth\": 2}}}, \"xaxis\": {\"anchor\": \"y\", \"domain\": [0.0, 0.98], \"title\": {\"text\": \"Year\"}}, \"yaxis\": {\"anchor\": \"x\", \"domain\": [0.0, 1.0], \"title\": {\"text\": \"Value\"}}},\n",
       "                        {\"responsive\": true}\n",
       "                    ).then(function(){\n",
       "                            \n",
       "var gd = document.getElementById('1cd7500b-8c9c-436c-825e-8e1024560e9d');\n",
       "var x = new MutationObserver(function (mutations, observer) {{\n",
       "        var display = window.getComputedStyle(gd).display;\n",
       "        if (!display || display === 'none') {{\n",
       "            console.log([gd, 'removed!']);\n",
       "            Plotly.purge(gd);\n",
       "            observer.disconnect();\n",
       "        }}\n",
       "}});\n",
       "\n",
       "// Listen for the removal of the full notebook cells\n",
       "var notebookContainer = gd.closest('#notebook-container');\n",
       "if (notebookContainer) {{\n",
       "    x.observe(notebookContainer, {childList: true});\n",
       "}}\n",
       "\n",
       "// Listen for the clearing of the current output cell\n",
       "var outputEl = gd.closest('.output');\n",
       "if (outputEl) {{\n",
       "    x.observe(outputEl, {childList: true});\n",
       "}}\n",
       "\n",
       "                        })\n",
       "                };\n",
       "                });\n",
       "            </script>\n",
       "        </div>"
      ]
     },
     "metadata": {},
     "output_type": "display_data"
    }
   ],
   "source": [
    "px.line(family_df[family_df['Indicator'] == 'Country mean average score in reading, by sex'], x='Year', y='Value', color='Country')"
   ]
  },
  {
   "cell_type": "code",
   "execution_count": 59,
   "metadata": {},
   "outputs": [
    {
     "data": {
      "application/vnd.plotly.v1+json": {
       "config": {
        "plotlyServerURL": "https://plot.ly"
       },
       "data": [
        {
         "hoverlabel": {
          "namelength": 0
         },
         "hovertemplate": "Country=Australia<br>Year=%{x}<br>Value=%{y}",
         "legendgroup": "Country=Australia",
         "line": {
          "color": "#636efa",
          "dash": "solid"
         },
         "mode": "lines",
         "name": "Country=Australia",
         "showlegend": true,
         "type": "scatter",
         "x": [
          2003,
          2006,
          2009,
          2012,
          2015,
          2003,
          2006,
          2009,
          2012,
          2015
         ],
         "xaxis": "x",
         "y": [
          526.9,
          527,
          519.4,
          510.1,
          496.8,
          521.6,
          512.5,
          509.5,
          497.8,
          491
         ],
         "yaxis": "y"
        },
        {
         "hoverlabel": {
          "namelength": 0
         },
         "hovertemplate": "Country=Austria<br>Year=%{x}<br>Value=%{y}",
         "legendgroup": "Country=Austria",
         "line": {
          "color": "#EF553B",
          "dash": "solid"
         },
         "mode": "lines",
         "name": "Country=Austria",
         "showlegend": true,
         "type": "scatter",
         "x": [
          2003,
          2006,
          2009,
          2012,
          2015,
          2003,
          2006,
          2009,
          2012,
          2015
         ],
         "xaxis": "x",
         "y": [
          509.4,
          516.6,
          505.7,
          516.7,
          510.1,
          501.8,
          494,
          486.5,
          494.5,
          483.1
         ],
         "yaxis": "y"
        },
        {
         "hoverlabel": {
          "namelength": 0
         },
         "hovertemplate": "Country=Belgium<br>Year=%{x}<br>Value=%{y}",
         "legendgroup": "Country=Belgium",
         "line": {
          "color": "#00cc96",
          "dash": "solid"
         },
         "mode": "lines",
         "name": "Country=Belgium",
         "showlegend": true,
         "type": "scatter",
         "x": [
          2003,
          2006,
          2009,
          2012,
          2015,
          2003,
          2006,
          2009,
          2012,
          2015
         ],
         "xaxis": "x",
         "y": [
          532.9,
          523.7,
          525.9,
          520.1,
          514,
          525.4,
          516.7,
          504.2,
          508.9,
          499.7
         ],
         "yaxis": "y"
        },
        {
         "hoverlabel": {
          "namelength": 0
         },
         "hovertemplate": "Country=Canada<br>Year=%{x}<br>Value=%{y}",
         "legendgroup": "Country=Canada",
         "line": {
          "color": "#ab63fa",
          "dash": "solid"
         },
         "mode": "lines",
         "name": "Country=Canada",
         "showlegend": true,
         "type": "scatter",
         "x": [
          2003,
          2006,
          2009,
          2012,
          2015,
          2003,
          2006,
          2009,
          2012,
          2015
         ],
         "xaxis": "x",
         "y": [
          540.8,
          534.1,
          532.7,
          523.1,
          520.2,
          529.6,
          519.9,
          520.8,
          513,
          511.1
         ],
         "yaxis": "y"
        },
        {
         "hoverlabel": {
          "namelength": 0
         },
         "hovertemplate": "Country=Czech Republic<br>Year=%{x}<br>Value=%{y}",
         "legendgroup": "Country=Czech Republic",
         "line": {
          "color": "#FFA15A",
          "dash": "solid"
         },
         "mode": "lines",
         "name": "Country=Czech Republic",
         "showlegend": true,
         "type": "scatter",
         "x": [
          2003,
          2006,
          2009,
          2012,
          2015,
          2003,
          2006,
          2009,
          2012,
          2015
         ],
         "xaxis": "x",
         "y": [
          523.8,
          514.4,
          495.1,
          504.7,
          495.8,
          508.9,
          503.9,
          490.2,
          492.9,
          488.7
         ],
         "yaxis": "y"
        },
        {
         "hoverlabel": {
          "namelength": 0
         },
         "hovertemplate": "Country=Denmark<br>Year=%{x}<br>Value=%{y}",
         "legendgroup": "Country=Denmark",
         "line": {
          "color": "#19d3f3",
          "dash": "solid"
         },
         "mode": "lines",
         "name": "Country=Denmark",
         "showlegend": true,
         "type": "scatter",
         "x": [
          2003,
          2006,
          2009,
          2012,
          2015,
          2003,
          2006,
          2009,
          2012,
          2015
         ],
         "xaxis": "x",
         "y": [
          522.7,
          518.2,
          511.4,
          507,
          515.8,
          506.2,
          507.9,
          495.3,
          493,
          506.4
         ],
         "yaxis": "y"
        },
        {
         "hoverlabel": {
          "namelength": 0
         },
         "hovertemplate": "Country=Finland<br>Year=%{x}<br>Value=%{y}",
         "legendgroup": "Country=Finland",
         "line": {
          "color": "#FF6692",
          "dash": "solid"
         },
         "mode": "lines",
         "name": "Country=Finland",
         "showlegend": true,
         "type": "scatter",
         "x": [
          2003,
          2006,
          2009,
          2012,
          2015,
          2003,
          2006,
          2009,
          2012,
          2015
         ],
         "xaxis": "x",
         "y": [
          548,
          554.3,
          541.8,
          517.4,
          507.5,
          540.6,
          542.5,
          539.2,
          520.2,
          515
         ],
         "yaxis": "y"
        },
        {
         "hoverlabel": {
          "namelength": 0
         },
         "hovertemplate": "Country=France<br>Year=%{x}<br>Value=%{y}",
         "legendgroup": "Country=France",
         "line": {
          "color": "#B6E880",
          "dash": "solid"
         },
         "mode": "lines",
         "name": "Country=France",
         "showlegend": true,
         "type": "scatter",
         "x": [
          2003,
          2006,
          2009,
          2012,
          2015,
          2003,
          2006,
          2009,
          2012,
          2015
         ],
         "xaxis": "x",
         "y": [
          515.3,
          498.9,
          505.1,
          499.4,
          495.9,
          506.8,
          492.4,
          488.9,
          490.9,
          490
         ],
         "yaxis": "y"
        },
        {
         "hoverlabel": {
          "namelength": 0
         },
         "hovertemplate": "Country=Germany<br>Year=%{x}<br>Value=%{y}",
         "legendgroup": "Country=Germany",
         "line": {
          "color": "#FF97FF",
          "dash": "solid"
         },
         "mode": "lines",
         "name": "Country=Germany",
         "showlegend": true,
         "type": "scatter",
         "x": [
          2003,
          2006,
          2009,
          2012,
          2015,
          2003,
          2006,
          2009,
          2012,
          2015
         ],
         "xaxis": "x",
         "y": [
          507.9,
          513.2,
          520.4,
          520.2,
          514.1,
          498.9,
          493.7,
          504.8,
          506.6,
          497.5
         ],
         "yaxis": "y"
        },
        {
         "hoverlabel": {
          "namelength": 0
         },
         "hovertemplate": "Country=Greece<br>Year=%{x}<br>Value=%{y}",
         "legendgroup": "Country=Greece",
         "line": {
          "color": "#FECB52",
          "dash": "solid"
         },
         "mode": "lines",
         "name": "Country=Greece",
         "showlegend": true,
         "type": "scatter",
         "x": [
          2003,
          2006,
          2009,
          2012,
          2015,
          2003,
          2006,
          2009,
          2012,
          2015
         ],
         "xaxis": "x",
         "y": [
          455,
          461.5,
          473.1,
          457,
          453.7,
          435.6,
          456.8,
          459.3,
          449,
          453.6
         ],
         "yaxis": "y"
        },
        {
         "hoverlabel": {
          "namelength": 0
         },
         "hovertemplate": "Country=Hungary<br>Year=%{x}<br>Value=%{y}",
         "legendgroup": "Country=Hungary",
         "line": {
          "color": "#636efa",
          "dash": "solid"
         },
         "mode": "lines",
         "name": "Country=Hungary",
         "showlegend": true,
         "type": "scatter",
         "x": [
          2003,
          2006,
          2009,
          2012,
          2015,
          2003,
          2006,
          2009,
          2012,
          2015
         ],
         "xaxis": "x",
         "y": [
          493.7,
          495.8,
          496.1,
          481.7,
          480.9,
          485.9,
          485.7,
          484.1,
          472.7,
          472.7
         ],
         "yaxis": "y"
        },
        {
         "hoverlabel": {
          "namelength": 0
         },
         "hovertemplate": "Country=Iceland<br>Year=%{x}<br>Value=%{y}",
         "legendgroup": "Country=Iceland",
         "line": {
          "color": "#EF553B",
          "dash": "solid"
         },
         "mode": "lines",
         "name": "Country=Iceland",
         "showlegend": true,
         "type": "scatter",
         "x": [
          2003,
          2006,
          2009,
          2012,
          2015,
          2003,
          2006,
          2009,
          2012,
          2015
         ],
         "xaxis": "x",
         "y": [
          507.7,
          503.3,
          508.4,
          489.7,
          487.4,
          523.1,
          507.8,
          504.9,
          495.9,
          488.6
         ],
         "yaxis": "y"
        },
        {
         "hoverlabel": {
          "namelength": 0
         },
         "hovertemplate": "Country=Ireland<br>Year=%{x}<br>Value=%{y}",
         "legendgroup": "Country=Ireland",
         "line": {
          "color": "#00cc96",
          "dash": "solid"
         },
         "mode": "lines",
         "name": "Country=Ireland",
         "showlegend": true,
         "type": "scatter",
         "x": [
          2003,
          2006,
          2009,
          2012,
          2015,
          2003,
          2006,
          2009,
          2012,
          2015
         ],
         "xaxis": "x",
         "y": [
          510.2,
          507.3,
          490.9,
          509,
          511.6,
          495.4,
          495.8,
          483.3,
          493.7,
          495.4
         ],
         "yaxis": "y"
        },
        {
         "hoverlabel": {
          "namelength": 0
         },
         "hovertemplate": "Country=Italy<br>Year=%{x}<br>Value=%{y}",
         "legendgroup": "Country=Italy",
         "line": {
          "color": "#ab63fa",
          "dash": "solid"
         },
         "mode": "lines",
         "name": "Country=Italy",
         "showlegend": true,
         "type": "scatter",
         "x": [
          2003,
          2006,
          2009,
          2012,
          2015,
          2003,
          2006,
          2009,
          2012,
          2015
         ],
         "xaxis": "x",
         "y": [
          474.9,
          470.1,
          490,
          494.2,
          499.8,
          457.1,
          453.5,
          475.4,
          475.8,
          479.8
         ],
         "yaxis": "y"
        },
        {
         "hoverlabel": {
          "namelength": 0
         },
         "hovertemplate": "Country=Japan<br>Year=%{x}<br>Value=%{y}",
         "legendgroup": "Country=Japan",
         "line": {
          "color": "#FFA15A",
          "dash": "solid"
         },
         "mode": "lines",
         "name": "Country=Japan",
         "showlegend": true,
         "type": "scatter",
         "x": [
          2003,
          2006,
          2009,
          2012,
          2015,
          2003,
          2006,
          2009,
          2012,
          2015
         ],
         "xaxis": "x",
         "y": [
          538.5,
          532.9,
          533.6,
          544.9,
          539.3,
          530.1,
          513.2,
          524.1,
          527,
          525.5
         ],
         "yaxis": "y"
        },
        {
         "hoverlabel": {
          "namelength": 0
         },
         "hovertemplate": "Country=Korea<br>Year=%{x}<br>Value=%{y}",
         "legendgroup": "Country=Korea",
         "line": {
          "color": "#19d3f3",
          "dash": "solid"
         },
         "mode": "lines",
         "name": "Country=Korea",
         "showlegend": true,
         "type": "scatter",
         "x": [
          2003,
          2006,
          2009,
          2012,
          2015,
          2003,
          2006,
          2009,
          2012,
          2015
         ],
         "xaxis": "x",
         "y": [
          551.7,
          552,
          547.8,
          562.1,
          520.8,
          528.3,
          542.8,
          544.5,
          544.2,
          527.8
         ],
         "yaxis": "y"
        },
        {
         "hoverlabel": {
          "namelength": 0
         },
         "hovertemplate": "Country=Luxembourg<br>Year=%{x}<br>Value=%{y}",
         "legendgroup": "Country=Luxembourg",
         "line": {
          "color": "#FF6692",
          "dash": "solid"
         },
         "mode": "lines",
         "name": "Country=Luxembourg",
         "showlegend": true,
         "type": "scatter",
         "x": [
          2003,
          2006,
          2009,
          2012,
          2015,
          2003,
          2006,
          2009,
          2012,
          2015
         ],
         "xaxis": "x",
         "y": [
          501.9,
          498.2,
          498.6,
          502.2,
          491.5,
          484.8,
          481.6,
          479.2,
          477.1,
          480.1
         ],
         "yaxis": "y"
        },
        {
         "hoverlabel": {
          "namelength": 0
         },
         "hovertemplate": "Country=Mexico<br>Year=%{x}<br>Value=%{y}",
         "legendgroup": "Country=Mexico",
         "line": {
          "color": "#B6E880",
          "dash": "solid"
         },
         "mode": "lines",
         "name": "Country=Mexico",
         "showlegend": true,
         "type": "scatter",
         "x": [
          2003,
          2006,
          2009,
          2012,
          2015,
          2003,
          2006,
          2009,
          2012,
          2015
         ],
         "xaxis": "x",
         "y": [
          390.9,
          410.3,
          425.4,
          420.4,
          411.6,
          380,
          401.3,
          411.8,
          406.4,
          404.3
         ],
         "yaxis": "y"
        },
        {
         "hoverlabel": {
          "namelength": 0
         },
         "hovertemplate": "Country=Netherlands<br>Year=%{x}<br>Value=%{y}",
         "legendgroup": "Country=Netherlands",
         "line": {
          "color": "#FF97FF",
          "dash": "solid"
         },
         "mode": "lines",
         "name": "Country=Netherlands",
         "showlegend": true,
         "type": "scatter",
         "x": [
          2003,
          2006,
          2009,
          2012,
          2015,
          2003,
          2006,
          2009,
          2012,
          2015
         ],
         "xaxis": "x",
         "y": [
          540.3,
          536.9,
          534.5,
          528,
          513.5,
          535.2,
          524.1,
          517.3,
          517.7,
          511
         ],
         "yaxis": "y"
        },
        {
         "hoverlabel": {
          "namelength": 0
         },
         "hovertemplate": "Country=New Zealand<br>Year=%{x}<br>Value=%{y}",
         "legendgroup": "Country=New Zealand",
         "line": {
          "color": "#FECB52",
          "dash": "solid"
         },
         "mode": "lines",
         "name": "Country=New Zealand",
         "showlegend": true,
         "type": "scatter",
         "x": [
          2003,
          2006,
          2009,
          2012,
          2015,
          2003,
          2006,
          2009,
          2012,
          2015
         ],
         "xaxis": "x",
         "y": [
          530.7,
          527.5,
          523.1,
          507.1,
          499.5,
          516.2,
          516.8,
          515.3,
          492.1,
          490.9
         ],
         "yaxis": "y"
        },
        {
         "hoverlabel": {
          "namelength": 0
         },
         "hovertemplate": "Country=Norway<br>Year=%{x}<br>Value=%{y}",
         "legendgroup": "Country=Norway",
         "line": {
          "color": "#636efa",
          "dash": "solid"
         },
         "mode": "lines",
         "name": "Country=Norway",
         "showlegend": true,
         "type": "scatter",
         "x": [
          2003,
          2006,
          2009,
          2012,
          2015,
          2003,
          2006,
          2009,
          2012,
          2015
         ],
         "xaxis": "x",
         "y": [
          498.3,
          492.8,
          500.4,
          490.4,
          500.6,
          492,
          486.7,
          495.4,
          488.3,
          502.9
         ],
         "yaxis": "y"
        },
        {
         "hoverlabel": {
          "namelength": 0
         },
         "hovertemplate": "Country=Poland<br>Year=%{x}<br>Value=%{y}",
         "legendgroup": "Country=Poland",
         "line": {
          "color": "#EF553B",
          "dash": "solid"
         },
         "mode": "lines",
         "name": "Country=Poland",
         "showlegend": true,
         "type": "scatter",
         "x": [
          2003,
          2006,
          2009,
          2012,
          2015,
          2003,
          2006,
          2009,
          2012,
          2015
         ],
         "xaxis": "x",
         "y": [
          493,
          500,
          496.6,
          519.6,
          510.1,
          487.5,
          490.9,
          493.1,
          515.5,
          498.6
         ],
         "yaxis": "y"
        },
        {
         "hoverlabel": {
          "namelength": 0
         },
         "hovertemplate": "Country=Portugal<br>Year=%{x}<br>Value=%{y}",
         "legendgroup": "Country=Portugal",
         "line": {
          "color": "#00cc96",
          "dash": "solid"
         },
         "mode": "lines",
         "name": "Country=Portugal",
         "showlegend": true,
         "type": "scatter",
         "x": [
          2003,
          2006,
          2009,
          2012,
          2015,
          2003,
          2006,
          2009,
          2012,
          2015
         ],
         "xaxis": "x",
         "y": [
          472.4,
          473.9,
          492.9,
          492.7,
          496.6,
          460.2,
          459,
          481.1,
          481.3,
          486.6
         ],
         "yaxis": "y"
        },
        {
         "hoverlabel": {
          "namelength": 0
         },
         "hovertemplate": "Country=Slovak Republic<br>Year=%{x}<br>Value=%{y}",
         "legendgroup": "Country=Slovak Republic",
         "line": {
          "color": "#ab63fa",
          "dash": "solid"
         },
         "mode": "lines",
         "name": "Country=Slovak Republic",
         "showlegend": true,
         "type": "scatter",
         "x": [
          2003,
          2006,
          2009,
          2012,
          2015,
          2003,
          2006,
          2009,
          2012,
          2015
         ],
         "xaxis": "x",
         "y": [
          507.3,
          499.1,
          498,
          486.1,
          478,
          488.6,
          484.7,
          495.4,
          476.7,
          472.3
         ],
         "yaxis": "y"
        },
        {
         "hoverlabel": {
          "namelength": 0
         },
         "hovertemplate": "Country=Spain<br>Year=%{x}<br>Value=%{y}",
         "legendgroup": "Country=Spain",
         "line": {
          "color": "#FFA15A",
          "dash": "solid"
         },
         "mode": "lines",
         "name": "Country=Spain",
         "showlegend": true,
         "type": "scatter",
         "x": [
          2003,
          2006,
          2009,
          2012,
          2015,
          2003,
          2006,
          2009,
          2012,
          2015
         ],
         "xaxis": "x",
         "y": [
          489.6,
          484.2,
          492.8,
          492.4,
          493.8,
          480.7,
          475.6,
          473.9,
          476,
          477.9
         ],
         "yaxis": "y"
        },
        {
         "hoverlabel": {
          "namelength": 0
         },
         "hovertemplate": "Country=Sweden<br>Year=%{x}<br>Value=%{y}",
         "legendgroup": "Country=Sweden",
         "line": {
          "color": "#19d3f3",
          "dash": "solid"
         },
         "mode": "lines",
         "name": "Country=Sweden",
         "showlegend": true,
         "type": "scatter",
         "x": [
          2003,
          2006,
          2009,
          2012,
          2015,
          2003,
          2006,
          2009,
          2012,
          2015
         ],
         "xaxis": "x",
         "y": [
          512.3,
          504.9,
          493.4,
          476.9,
          492.8,
          505.8,
          499.7,
          495.1,
          479.6,
          495.1
         ],
         "yaxis": "y"
        },
        {
         "hoverlabel": {
          "namelength": 0
         },
         "hovertemplate": "Country=Switzerland<br>Year=%{x}<br>Value=%{y}",
         "legendgroup": "Country=Switzerland",
         "line": {
          "color": "#FF6692",
          "dash": "solid"
         },
         "mode": "lines",
         "name": "Country=Switzerland",
         "showlegend": true,
         "type": "scatter",
         "x": [
          2003,
          2006,
          2009,
          2012,
          2015,
          2003,
          2006,
          2009,
          2012,
          2015
         ],
         "xaxis": "x",
         "y": [
          534.6,
          536.2,
          543.7,
          537.4,
          527,
          518,
          522.7,
          523.9,
          524.5,
          515
         ],
         "yaxis": "y"
        },
        {
         "hoverlabel": {
          "namelength": 0
         },
         "hovertemplate": "Country=Turkey<br>Year=%{x}<br>Value=%{y}",
         "legendgroup": "Country=Turkey",
         "line": {
          "color": "#B6E880",
          "dash": "solid"
         },
         "mode": "lines",
         "name": "Country=Turkey",
         "showlegend": true,
         "type": "scatter",
         "x": [
          2003,
          2006,
          2009,
          2012,
          2015,
          2003,
          2006,
          2009,
          2012,
          2015
         ],
         "xaxis": "x",
         "y": [
          430.2,
          426.6,
          450.7,
          451.9,
          423.4,
          415.1,
          420.7,
          439.8,
          443.9,
          417.5
         ],
         "yaxis": "y"
        },
        {
         "hoverlabel": {
          "namelength": 0
         },
         "hovertemplate": "Country=United Kingdom<br>Year=%{x}<br>Value=%{y}",
         "legendgroup": "Country=United Kingdom",
         "line": {
          "color": "#FF97FF",
          "dash": "solid"
         },
         "mode": "lines",
         "name": "Country=United Kingdom",
         "showlegend": true,
         "type": "scatter",
         "x": [
          2003,
          2006,
          2009,
          2012,
          2015,
          2003,
          2006,
          2009,
          2012,
          2015
         ],
         "xaxis": "x",
         "y": [
          511.8,
          503.9,
          502.8,
          500.3,
          498.2,
          505.1,
          487.2,
          482.4,
          487.8,
          486.6
         ],
         "yaxis": "y"
        },
        {
         "hoverlabel": {
          "namelength": 0
         },
         "hovertemplate": "Country=United States<br>Year=%{x}<br>Value=%{y}",
         "legendgroup": "Country=United States",
         "line": {
          "color": "#FECB52",
          "dash": "solid"
         },
         "mode": "lines",
         "name": "Country=United States",
         "showlegend": true,
         "type": "scatter",
         "x": [
          2003,
          2006,
          2009,
          2012,
          2015,
          2003,
          2006,
          2009,
          2012,
          2015
         ],
         "xaxis": "x",
         "y": [
          486,
          478.6,
          497.3,
          483.6,
          473.9,
          479.7,
          470.1,
          477,
          479,
          465.4
         ],
         "yaxis": "y"
        },
        {
         "hoverlabel": {
          "namelength": 0
         },
         "hovertemplate": "Country=Brazil<br>Year=%{x}<br>Value=%{y}",
         "legendgroup": "Country=Brazil",
         "line": {
          "color": "#636efa",
          "dash": "solid"
         },
         "mode": "lines",
         "name": "Country=Brazil",
         "showlegend": true,
         "type": "scatter",
         "x": [
          2003,
          2006,
          2009,
          2012,
          2015,
          2003,
          2006,
          2009,
          2012,
          2015
         ],
         "xaxis": "x",
         "y": [
          364.7,
          379.6,
          394,
          400.8,
          385,
          348.4,
          360.9,
          378.5,
          382.9,
          369.5
         ],
         "yaxis": "y"
        },
        {
         "hoverlabel": {
          "namelength": 0
         },
         "hovertemplate": "Country=Chile<br>Year=%{x}<br>Value=%{y}",
         "legendgroup": "Country=Chile",
         "line": {
          "color": "#EF553B",
          "dash": "solid"
         },
         "mode": "lines",
         "name": "Country=Chile",
         "showlegend": true,
         "type": "scatter",
         "x": [
          2006,
          2009,
          2012,
          2015,
          2006,
          2009,
          2012,
          2015
         ],
         "xaxis": "x",
         "y": [
          424.2,
          431.3,
          435.5,
          431.8,
          396.3,
          410.4,
          410.5,
          413.4
         ],
         "yaxis": "y"
        },
        {
         "hoverlabel": {
          "namelength": 0
         },
         "hovertemplate": "Country=Estonia<br>Year=%{x}<br>Value=%{y}",
         "legendgroup": "Country=Estonia",
         "line": {
          "color": "#00cc96",
          "dash": "solid"
         },
         "mode": "lines",
         "name": "Country=Estonia",
         "showlegend": true,
         "type": "scatter",
         "x": [
          2006,
          2009,
          2012,
          2015,
          2006,
          2009,
          2012,
          2015
         ],
         "xaxis": "x",
         "y": [
          515.3,
          516.4,
          523.2,
          522.1,
          513.8,
          507.5,
          517.9,
          516.9
         ],
         "yaxis": "y"
        },
        {
         "hoverlabel": {
          "namelength": 0
         },
         "hovertemplate": "Country=Indonesia<br>Year=%{x}<br>Value=%{y}",
         "legendgroup": "Country=Indonesia",
         "line": {
          "color": "#ab63fa",
          "dash": "solid"
         },
         "mode": "lines",
         "name": "Country=Indonesia",
         "showlegend": true,
         "type": "scatter",
         "x": [
          2003,
          2006,
          2009,
          2012,
          2015,
          2003,
          2006,
          2009,
          2012,
          2015
         ],
         "xaxis": "x",
         "y": [
          361.8,
          399.4,
          370.6,
          377.4,
          384.8,
          358.5,
          382.2,
          371.9,
          372.8,
          387.4
         ],
         "yaxis": "y"
        },
        {
         "hoverlabel": {
          "namelength": 0
         },
         "hovertemplate": "Country=Israel<br>Year=%{x}<br>Value=%{y}",
         "legendgroup": "Country=Israel",
         "line": {
          "color": "#FFA15A",
          "dash": "solid"
         },
         "mode": "lines",
         "name": "Country=Israel",
         "showlegend": true,
         "type": "scatter",
         "x": [
          2006,
          2009,
          2012,
          2015,
          2006,
          2009,
          2012,
          2015
         ],
         "xaxis": "x",
         "y": [
          447.9,
          451.1,
          472.4,
          474,
          435.9,
          442.8,
          460.7,
          465.5
         ],
         "yaxis": "y"
        },
        {
         "hoverlabel": {
          "namelength": 0
         },
         "hovertemplate": "Country=Russia<br>Year=%{x}<br>Value=%{y}",
         "legendgroup": "Country=Russia",
         "line": {
          "color": "#19d3f3",
          "dash": "solid"
         },
         "mode": "lines",
         "name": "Country=Russia",
         "showlegend": true,
         "type": "scatter",
         "x": [
          2003,
          2006,
          2009,
          2012,
          2015,
          2003,
          2006,
          2009,
          2012,
          2015
         ],
         "xaxis": "x",
         "y": [
          473.5,
          478.6,
          468.9,
          481.4,
          497.1,
          463.4,
          473,
          466.7,
          482.9,
          491.1
         ],
         "yaxis": "y"
        },
        {
         "hoverlabel": {
          "namelength": 0
         },
         "hovertemplate": "Country=Slovenia<br>Year=%{x}<br>Value=%{y}",
         "legendgroup": "Country=Slovenia",
         "line": {
          "color": "#FF6692",
          "dash": "solid"
         },
         "mode": "lines",
         "name": "Country=Slovenia",
         "showlegend": true,
         "type": "scatter",
         "x": [
          2006,
          2009,
          2012,
          2015,
          2006,
          2009,
          2012,
          2015
         ],
         "xaxis": "x",
         "y": [
          506.9,
          502.1,
          502.7,
          511.8,
          502.1,
          500.8,
          499.4,
          507.9
         ],
         "yaxis": "y"
        },
        {
         "hoverlabel": {
          "namelength": 0
         },
         "hovertemplate": "Country=Bulgaria<br>Year=%{x}<br>Value=%{y}",
         "legendgroup": "Country=Bulgaria",
         "line": {
          "color": "#B6E880",
          "dash": "solid"
         },
         "mode": "lines",
         "name": "Country=Bulgaria",
         "showlegend": true,
         "type": "scatter",
         "x": [
          2006,
          2009,
          2012,
          2015,
          2006,
          2009,
          2012,
          2015
         ],
         "xaxis": "x",
         "y": [
          411.7,
          426.3,
          437.6,
          440.3,
          415.4,
          430,
          440,
          442.2
         ],
         "yaxis": "y"
        },
        {
         "hoverlabel": {
          "namelength": 0
         },
         "hovertemplate": "Country=Colombia<br>Year=%{x}<br>Value=%{y}",
         "legendgroup": "Country=Colombia",
         "line": {
          "color": "#FF97FF",
          "dash": "solid"
         },
         "mode": "lines",
         "name": "Country=Colombia",
         "showlegend": true,
         "type": "scatter",
         "x": [
          2006,
          2009,
          2012,
          2015,
          2006,
          2009,
          2012,
          2015
         ],
         "xaxis": "x",
         "y": [
          381.9,
          397.7,
          390,
          395.4,
          359.8,
          365.5,
          364.5,
          384.5
         ],
         "yaxis": "y"
        },
        {
         "hoverlabel": {
          "namelength": 0
         },
         "hovertemplate": "Country=Costa Rica<br>Year=%{x}<br>Value=%{y}",
         "legendgroup": "Country=Costa Rica",
         "line": {
          "color": "#FECB52",
          "dash": "solid"
         },
         "mode": "lines",
         "name": "Country=Costa Rica",
         "showlegend": true,
         "type": "scatter",
         "x": [
          2012,
          2015,
          2012,
          2015
         ],
         "xaxis": "x",
         "y": [
          419.5,
          408.5,
          395.9,
          392.3
         ],
         "yaxis": "y"
        },
        {
         "hoverlabel": {
          "namelength": 0
         },
         "hovertemplate": "Country=Croatia<br>Year=%{x}<br>Value=%{y}",
         "legendgroup": "Country=Croatia",
         "line": {
          "color": "#636efa",
          "dash": "solid"
         },
         "mode": "lines",
         "name": "Country=Croatia",
         "showlegend": true,
         "type": "scatter",
         "x": [
          2006,
          2009,
          2012,
          2015,
          2006,
          2009,
          2012,
          2015
         ],
         "xaxis": "x",
         "y": [
          474,
          465,
          476.8,
          470.6,
          460.5,
          454.3,
          465.2,
          458
         ],
         "yaxis": "y"
        },
        {
         "hoverlabel": {
          "namelength": 0
         },
         "hovertemplate": "Country=Cyprus<br>Year=%{x}<br>Value=%{y}",
         "legendgroup": "Country=Cyprus",
         "line": {
          "color": "#EF553B",
          "dash": "solid"
         },
         "mode": "lines",
         "name": "Country=Cyprus",
         "showlegend": true,
         "type": "scatter",
         "x": [
          2015,
          2015
         ],
         "xaxis": "x",
         "y": [
          434.7,
          439.5
         ],
         "yaxis": "y"
        },
        {
         "hoverlabel": {
          "namelength": 0
         },
         "hovertemplate": "Country=Latvia<br>Year=%{x}<br>Value=%{y}",
         "legendgroup": "Country=Latvia",
         "line": {
          "color": "#00cc96",
          "dash": "solid"
         },
         "mode": "lines",
         "name": "Country=Latvia",
         "showlegend": true,
         "type": "scatter",
         "x": [
          2003,
          2006,
          2009,
          2012,
          2015,
          2003,
          2006,
          2009,
          2012,
          2015
         ],
         "xaxis": "x",
         "y": [
          484.8,
          488.8,
          482.9,
          488.7,
          481.4,
          482,
          483.6,
          481,
          492.5,
          483.3
         ],
         "yaxis": "y"
        },
        {
         "hoverlabel": {
          "namelength": 0
         },
         "hovertemplate": "Country=Lithuania<br>Year=%{x}<br>Value=%{y}",
         "legendgroup": "Country=Lithuania",
         "line": {
          "color": "#ab63fa",
          "dash": "solid"
         },
         "mode": "lines",
         "name": "Country=Lithuania",
         "showlegend": true,
         "type": "scatter",
         "x": [
          2006,
          2009,
          2012,
          2015,
          2006,
          2009,
          2012,
          2015
         ],
         "xaxis": "x",
         "y": [
          487.5,
          473.5,
          478.9,
          477.8,
          485.3,
          479.8,
          478.7,
          479
         ],
         "yaxis": "y"
        },
        {
         "hoverlabel": {
          "namelength": 0
         },
         "hovertemplate": "Country=Malta<br>Year=%{x}<br>Value=%{y}",
         "legendgroup": "Country=Malta",
         "line": {
          "color": "#FFA15A",
          "dash": "solid"
         },
         "mode": "lines",
         "name": "Country=Malta",
         "showlegend": true,
         "type": "scatter",
         "x": [
          2015,
          2015
         ],
         "xaxis": "x",
         "y": [
          476.7,
          480.7
         ],
         "yaxis": "y"
        },
        {
         "hoverlabel": {
          "namelength": 0
         },
         "hovertemplate": "Country=Romania<br>Year=%{x}<br>Value=%{y}",
         "legendgroup": "Country=Romania",
         "line": {
          "color": "#19d3f3",
          "dash": "solid"
         },
         "mode": "lines",
         "name": "Country=Romania",
         "showlegend": true,
         "type": "scatter",
         "x": [
          2006,
          2009,
          2012,
          2015,
          2006,
          2009,
          2012,
          2015
         ],
         "xaxis": "x",
         "y": [
          418.1,
          428.8,
          446.5,
          444.3,
          411.5,
          425.4,
          442.7,
          443.7
         ],
         "yaxis": "y"
        }
       ],
       "layout": {
        "height": 600,
        "legend": {
         "tracegroupgap": 0
        },
        "margin": {
         "t": 60
        },
        "template": {
         "data": {
          "bar": [
           {
            "error_x": {
             "color": "#2a3f5f"
            },
            "error_y": {
             "color": "#2a3f5f"
            },
            "marker": {
             "line": {
              "color": "#E5ECF6",
              "width": 0.5
             }
            },
            "type": "bar"
           }
          ],
          "barpolar": [
           {
            "marker": {
             "line": {
              "color": "#E5ECF6",
              "width": 0.5
             }
            },
            "type": "barpolar"
           }
          ],
          "carpet": [
           {
            "aaxis": {
             "endlinecolor": "#2a3f5f",
             "gridcolor": "white",
             "linecolor": "white",
             "minorgridcolor": "white",
             "startlinecolor": "#2a3f5f"
            },
            "baxis": {
             "endlinecolor": "#2a3f5f",
             "gridcolor": "white",
             "linecolor": "white",
             "minorgridcolor": "white",
             "startlinecolor": "#2a3f5f"
            },
            "type": "carpet"
           }
          ],
          "choropleth": [
           {
            "colorbar": {
             "outlinewidth": 0,
             "ticks": ""
            },
            "type": "choropleth"
           }
          ],
          "contour": [
           {
            "colorbar": {
             "outlinewidth": 0,
             "ticks": ""
            },
            "colorscale": [
             [
              0,
              "#0d0887"
             ],
             [
              0.1111111111111111,
              "#46039f"
             ],
             [
              0.2222222222222222,
              "#7201a8"
             ],
             [
              0.3333333333333333,
              "#9c179e"
             ],
             [
              0.4444444444444444,
              "#bd3786"
             ],
             [
              0.5555555555555556,
              "#d8576b"
             ],
             [
              0.6666666666666666,
              "#ed7953"
             ],
             [
              0.7777777777777778,
              "#fb9f3a"
             ],
             [
              0.8888888888888888,
              "#fdca26"
             ],
             [
              1,
              "#f0f921"
             ]
            ],
            "type": "contour"
           }
          ],
          "contourcarpet": [
           {
            "colorbar": {
             "outlinewidth": 0,
             "ticks": ""
            },
            "type": "contourcarpet"
           }
          ],
          "heatmap": [
           {
            "colorbar": {
             "outlinewidth": 0,
             "ticks": ""
            },
            "colorscale": [
             [
              0,
              "#0d0887"
             ],
             [
              0.1111111111111111,
              "#46039f"
             ],
             [
              0.2222222222222222,
              "#7201a8"
             ],
             [
              0.3333333333333333,
              "#9c179e"
             ],
             [
              0.4444444444444444,
              "#bd3786"
             ],
             [
              0.5555555555555556,
              "#d8576b"
             ],
             [
              0.6666666666666666,
              "#ed7953"
             ],
             [
              0.7777777777777778,
              "#fb9f3a"
             ],
             [
              0.8888888888888888,
              "#fdca26"
             ],
             [
              1,
              "#f0f921"
             ]
            ],
            "type": "heatmap"
           }
          ],
          "heatmapgl": [
           {
            "colorbar": {
             "outlinewidth": 0,
             "ticks": ""
            },
            "colorscale": [
             [
              0,
              "#0d0887"
             ],
             [
              0.1111111111111111,
              "#46039f"
             ],
             [
              0.2222222222222222,
              "#7201a8"
             ],
             [
              0.3333333333333333,
              "#9c179e"
             ],
             [
              0.4444444444444444,
              "#bd3786"
             ],
             [
              0.5555555555555556,
              "#d8576b"
             ],
             [
              0.6666666666666666,
              "#ed7953"
             ],
             [
              0.7777777777777778,
              "#fb9f3a"
             ],
             [
              0.8888888888888888,
              "#fdca26"
             ],
             [
              1,
              "#f0f921"
             ]
            ],
            "type": "heatmapgl"
           }
          ],
          "histogram": [
           {
            "marker": {
             "colorbar": {
              "outlinewidth": 0,
              "ticks": ""
             }
            },
            "type": "histogram"
           }
          ],
          "histogram2d": [
           {
            "colorbar": {
             "outlinewidth": 0,
             "ticks": ""
            },
            "colorscale": [
             [
              0,
              "#0d0887"
             ],
             [
              0.1111111111111111,
              "#46039f"
             ],
             [
              0.2222222222222222,
              "#7201a8"
             ],
             [
              0.3333333333333333,
              "#9c179e"
             ],
             [
              0.4444444444444444,
              "#bd3786"
             ],
             [
              0.5555555555555556,
              "#d8576b"
             ],
             [
              0.6666666666666666,
              "#ed7953"
             ],
             [
              0.7777777777777778,
              "#fb9f3a"
             ],
             [
              0.8888888888888888,
              "#fdca26"
             ],
             [
              1,
              "#f0f921"
             ]
            ],
            "type": "histogram2d"
           }
          ],
          "histogram2dcontour": [
           {
            "colorbar": {
             "outlinewidth": 0,
             "ticks": ""
            },
            "colorscale": [
             [
              0,
              "#0d0887"
             ],
             [
              0.1111111111111111,
              "#46039f"
             ],
             [
              0.2222222222222222,
              "#7201a8"
             ],
             [
              0.3333333333333333,
              "#9c179e"
             ],
             [
              0.4444444444444444,
              "#bd3786"
             ],
             [
              0.5555555555555556,
              "#d8576b"
             ],
             [
              0.6666666666666666,
              "#ed7953"
             ],
             [
              0.7777777777777778,
              "#fb9f3a"
             ],
             [
              0.8888888888888888,
              "#fdca26"
             ],
             [
              1,
              "#f0f921"
             ]
            ],
            "type": "histogram2dcontour"
           }
          ],
          "mesh3d": [
           {
            "colorbar": {
             "outlinewidth": 0,
             "ticks": ""
            },
            "type": "mesh3d"
           }
          ],
          "parcoords": [
           {
            "line": {
             "colorbar": {
              "outlinewidth": 0,
              "ticks": ""
             }
            },
            "type": "parcoords"
           }
          ],
          "scatter": [
           {
            "marker": {
             "colorbar": {
              "outlinewidth": 0,
              "ticks": ""
             }
            },
            "type": "scatter"
           }
          ],
          "scatter3d": [
           {
            "line": {
             "colorbar": {
              "outlinewidth": 0,
              "ticks": ""
             }
            },
            "marker": {
             "colorbar": {
              "outlinewidth": 0,
              "ticks": ""
             }
            },
            "type": "scatter3d"
           }
          ],
          "scattercarpet": [
           {
            "marker": {
             "colorbar": {
              "outlinewidth": 0,
              "ticks": ""
             }
            },
            "type": "scattercarpet"
           }
          ],
          "scattergeo": [
           {
            "marker": {
             "colorbar": {
              "outlinewidth": 0,
              "ticks": ""
             }
            },
            "type": "scattergeo"
           }
          ],
          "scattergl": [
           {
            "marker": {
             "colorbar": {
              "outlinewidth": 0,
              "ticks": ""
             }
            },
            "type": "scattergl"
           }
          ],
          "scattermapbox": [
           {
            "marker": {
             "colorbar": {
              "outlinewidth": 0,
              "ticks": ""
             }
            },
            "type": "scattermapbox"
           }
          ],
          "scatterpolar": [
           {
            "marker": {
             "colorbar": {
              "outlinewidth": 0,
              "ticks": ""
             }
            },
            "type": "scatterpolar"
           }
          ],
          "scatterpolargl": [
           {
            "marker": {
             "colorbar": {
              "outlinewidth": 0,
              "ticks": ""
             }
            },
            "type": "scatterpolargl"
           }
          ],
          "scatterternary": [
           {
            "marker": {
             "colorbar": {
              "outlinewidth": 0,
              "ticks": ""
             }
            },
            "type": "scatterternary"
           }
          ],
          "surface": [
           {
            "colorbar": {
             "outlinewidth": 0,
             "ticks": ""
            },
            "colorscale": [
             [
              0,
              "#0d0887"
             ],
             [
              0.1111111111111111,
              "#46039f"
             ],
             [
              0.2222222222222222,
              "#7201a8"
             ],
             [
              0.3333333333333333,
              "#9c179e"
             ],
             [
              0.4444444444444444,
              "#bd3786"
             ],
             [
              0.5555555555555556,
              "#d8576b"
             ],
             [
              0.6666666666666666,
              "#ed7953"
             ],
             [
              0.7777777777777778,
              "#fb9f3a"
             ],
             [
              0.8888888888888888,
              "#fdca26"
             ],
             [
              1,
              "#f0f921"
             ]
            ],
            "type": "surface"
           }
          ],
          "table": [
           {
            "cells": {
             "fill": {
              "color": "#EBF0F8"
             },
             "line": {
              "color": "white"
             }
            },
            "header": {
             "fill": {
              "color": "#C8D4E3"
             },
             "line": {
              "color": "white"
             }
            },
            "type": "table"
           }
          ]
         },
         "layout": {
          "annotationdefaults": {
           "arrowcolor": "#2a3f5f",
           "arrowhead": 0,
           "arrowwidth": 1
          },
          "colorscale": {
           "diverging": [
            [
             0,
             "#8e0152"
            ],
            [
             0.1,
             "#c51b7d"
            ],
            [
             0.2,
             "#de77ae"
            ],
            [
             0.3,
             "#f1b6da"
            ],
            [
             0.4,
             "#fde0ef"
            ],
            [
             0.5,
             "#f7f7f7"
            ],
            [
             0.6,
             "#e6f5d0"
            ],
            [
             0.7,
             "#b8e186"
            ],
            [
             0.8,
             "#7fbc41"
            ],
            [
             0.9,
             "#4d9221"
            ],
            [
             1,
             "#276419"
            ]
           ],
           "sequential": [
            [
             0,
             "#0d0887"
            ],
            [
             0.1111111111111111,
             "#46039f"
            ],
            [
             0.2222222222222222,
             "#7201a8"
            ],
            [
             0.3333333333333333,
             "#9c179e"
            ],
            [
             0.4444444444444444,
             "#bd3786"
            ],
            [
             0.5555555555555556,
             "#d8576b"
            ],
            [
             0.6666666666666666,
             "#ed7953"
            ],
            [
             0.7777777777777778,
             "#fb9f3a"
            ],
            [
             0.8888888888888888,
             "#fdca26"
            ],
            [
             1,
             "#f0f921"
            ]
           ],
           "sequentialminus": [
            [
             0,
             "#0d0887"
            ],
            [
             0.1111111111111111,
             "#46039f"
            ],
            [
             0.2222222222222222,
             "#7201a8"
            ],
            [
             0.3333333333333333,
             "#9c179e"
            ],
            [
             0.4444444444444444,
             "#bd3786"
            ],
            [
             0.5555555555555556,
             "#d8576b"
            ],
            [
             0.6666666666666666,
             "#ed7953"
            ],
            [
             0.7777777777777778,
             "#fb9f3a"
            ],
            [
             0.8888888888888888,
             "#fdca26"
            ],
            [
             1,
             "#f0f921"
            ]
           ]
          },
          "colorway": [
           "#636efa",
           "#EF553B",
           "#00cc96",
           "#ab63fa",
           "#FFA15A",
           "#19d3f3",
           "#FF6692",
           "#B6E880",
           "#FF97FF",
           "#FECB52"
          ],
          "font": {
           "color": "#2a3f5f"
          },
          "geo": {
           "bgcolor": "white",
           "lakecolor": "white",
           "landcolor": "#E5ECF6",
           "showlakes": true,
           "showland": true,
           "subunitcolor": "white"
          },
          "hoverlabel": {
           "align": "left"
          },
          "hovermode": "closest",
          "mapbox": {
           "style": "light"
          },
          "paper_bgcolor": "white",
          "plot_bgcolor": "#E5ECF6",
          "polar": {
           "angularaxis": {
            "gridcolor": "white",
            "linecolor": "white",
            "ticks": ""
           },
           "bgcolor": "#E5ECF6",
           "radialaxis": {
            "gridcolor": "white",
            "linecolor": "white",
            "ticks": ""
           }
          },
          "scene": {
           "xaxis": {
            "backgroundcolor": "#E5ECF6",
            "gridcolor": "white",
            "gridwidth": 2,
            "linecolor": "white",
            "showbackground": true,
            "ticks": "",
            "zerolinecolor": "white"
           },
           "yaxis": {
            "backgroundcolor": "#E5ECF6",
            "gridcolor": "white",
            "gridwidth": 2,
            "linecolor": "white",
            "showbackground": true,
            "ticks": "",
            "zerolinecolor": "white"
           },
           "zaxis": {
            "backgroundcolor": "#E5ECF6",
            "gridcolor": "white",
            "gridwidth": 2,
            "linecolor": "white",
            "showbackground": true,
            "ticks": "",
            "zerolinecolor": "white"
           }
          },
          "shapedefaults": {
           "line": {
            "color": "#2a3f5f"
           }
          },
          "ternary": {
           "aaxis": {
            "gridcolor": "white",
            "linecolor": "white",
            "ticks": ""
           },
           "baxis": {
            "gridcolor": "white",
            "linecolor": "white",
            "ticks": ""
           },
           "bgcolor": "#E5ECF6",
           "caxis": {
            "gridcolor": "white",
            "linecolor": "white",
            "ticks": ""
           }
          },
          "title": {
           "x": 0.05
          },
          "xaxis": {
           "automargin": true,
           "gridcolor": "white",
           "linecolor": "white",
           "ticks": "",
           "zerolinecolor": "white",
           "zerolinewidth": 2
          },
          "yaxis": {
           "automargin": true,
           "gridcolor": "white",
           "linecolor": "white",
           "ticks": "",
           "zerolinecolor": "white",
           "zerolinewidth": 2
          }
         }
        },
        "xaxis": {
         "anchor": "y",
         "domain": [
          0,
          0.98
         ],
         "title": {
          "text": "Year"
         }
        },
        "yaxis": {
         "anchor": "x",
         "domain": [
          0,
          1
         ],
         "title": {
          "text": "Value"
         }
        }
       }
      },
      "text/html": [
       "<div>\n",
       "        \n",
       "        \n",
       "            <div id=\"f5ed4a85-6634-41ea-ab55-35bc0a0a6213\" class=\"plotly-graph-div\" style=\"height:600px; width:100%;\"></div>\n",
       "            <script type=\"text/javascript\">\n",
       "                require([\"plotly\"], function(Plotly) {\n",
       "                    window.PLOTLYENV=window.PLOTLYENV || {};\n",
       "                    \n",
       "                if (document.getElementById(\"f5ed4a85-6634-41ea-ab55-35bc0a0a6213\")) {\n",
       "                    Plotly.newPlot(\n",
       "                        'f5ed4a85-6634-41ea-ab55-35bc0a0a6213',\n",
       "                        [{\"hoverlabel\": {\"namelength\": 0}, \"hovertemplate\": \"Country=Australia<br>Year=%{x}<br>Value=%{y}\", \"legendgroup\": \"Country=Australia\", \"line\": {\"color\": \"#636efa\", \"dash\": \"solid\"}, \"mode\": \"lines\", \"name\": \"Country=Australia\", \"showlegend\": true, \"type\": \"scatter\", \"x\": [2003, 2006, 2009, 2012, 2015, 2003, 2006, 2009, 2012, 2015], \"xaxis\": \"x\", \"y\": [526.9, 527.0, 519.4, 510.1, 496.8, 521.6, 512.5, 509.5, 497.8, 491.0], \"yaxis\": \"y\"}, {\"hoverlabel\": {\"namelength\": 0}, \"hovertemplate\": \"Country=Austria<br>Year=%{x}<br>Value=%{y}\", \"legendgroup\": \"Country=Austria\", \"line\": {\"color\": \"#EF553B\", \"dash\": \"solid\"}, \"mode\": \"lines\", \"name\": \"Country=Austria\", \"showlegend\": true, \"type\": \"scatter\", \"x\": [2003, 2006, 2009, 2012, 2015, 2003, 2006, 2009, 2012, 2015], \"xaxis\": \"x\", \"y\": [509.4, 516.6, 505.7, 516.7, 510.1, 501.8, 494.0, 486.5, 494.5, 483.1], \"yaxis\": \"y\"}, {\"hoverlabel\": {\"namelength\": 0}, \"hovertemplate\": \"Country=Belgium<br>Year=%{x}<br>Value=%{y}\", \"legendgroup\": \"Country=Belgium\", \"line\": {\"color\": \"#00cc96\", \"dash\": \"solid\"}, \"mode\": \"lines\", \"name\": \"Country=Belgium\", \"showlegend\": true, \"type\": \"scatter\", \"x\": [2003, 2006, 2009, 2012, 2015, 2003, 2006, 2009, 2012, 2015], \"xaxis\": \"x\", \"y\": [532.9, 523.7, 525.9, 520.1, 514.0, 525.4, 516.7, 504.2, 508.9, 499.7], \"yaxis\": \"y\"}, {\"hoverlabel\": {\"namelength\": 0}, \"hovertemplate\": \"Country=Canada<br>Year=%{x}<br>Value=%{y}\", \"legendgroup\": \"Country=Canada\", \"line\": {\"color\": \"#ab63fa\", \"dash\": \"solid\"}, \"mode\": \"lines\", \"name\": \"Country=Canada\", \"showlegend\": true, \"type\": \"scatter\", \"x\": [2003, 2006, 2009, 2012, 2015, 2003, 2006, 2009, 2012, 2015], \"xaxis\": \"x\", \"y\": [540.8, 534.1, 532.7, 523.1, 520.2, 529.6, 519.9, 520.8, 513.0, 511.1], \"yaxis\": \"y\"}, {\"hoverlabel\": {\"namelength\": 0}, \"hovertemplate\": \"Country=Czech Republic<br>Year=%{x}<br>Value=%{y}\", \"legendgroup\": \"Country=Czech Republic\", \"line\": {\"color\": \"#FFA15A\", \"dash\": \"solid\"}, \"mode\": \"lines\", \"name\": \"Country=Czech Republic\", \"showlegend\": true, \"type\": \"scatter\", \"x\": [2003, 2006, 2009, 2012, 2015, 2003, 2006, 2009, 2012, 2015], \"xaxis\": \"x\", \"y\": [523.8, 514.4, 495.1, 504.7, 495.8, 508.9, 503.9, 490.2, 492.9, 488.7], \"yaxis\": \"y\"}, {\"hoverlabel\": {\"namelength\": 0}, \"hovertemplate\": \"Country=Denmark<br>Year=%{x}<br>Value=%{y}\", \"legendgroup\": \"Country=Denmark\", \"line\": {\"color\": \"#19d3f3\", \"dash\": \"solid\"}, \"mode\": \"lines\", \"name\": \"Country=Denmark\", \"showlegend\": true, \"type\": \"scatter\", \"x\": [2003, 2006, 2009, 2012, 2015, 2003, 2006, 2009, 2012, 2015], \"xaxis\": \"x\", \"y\": [522.7, 518.2, 511.4, 507.0, 515.8, 506.2, 507.9, 495.3, 493.0, 506.4], \"yaxis\": \"y\"}, {\"hoverlabel\": {\"namelength\": 0}, \"hovertemplate\": \"Country=Finland<br>Year=%{x}<br>Value=%{y}\", \"legendgroup\": \"Country=Finland\", \"line\": {\"color\": \"#FF6692\", \"dash\": \"solid\"}, \"mode\": \"lines\", \"name\": \"Country=Finland\", \"showlegend\": true, \"type\": \"scatter\", \"x\": [2003, 2006, 2009, 2012, 2015, 2003, 2006, 2009, 2012, 2015], \"xaxis\": \"x\", \"y\": [548.0, 554.3, 541.8, 517.4, 507.5, 540.6, 542.5, 539.2, 520.2, 515.0], \"yaxis\": \"y\"}, {\"hoverlabel\": {\"namelength\": 0}, \"hovertemplate\": \"Country=France<br>Year=%{x}<br>Value=%{y}\", \"legendgroup\": \"Country=France\", \"line\": {\"color\": \"#B6E880\", \"dash\": \"solid\"}, \"mode\": \"lines\", \"name\": \"Country=France\", \"showlegend\": true, \"type\": \"scatter\", \"x\": [2003, 2006, 2009, 2012, 2015, 2003, 2006, 2009, 2012, 2015], \"xaxis\": \"x\", \"y\": [515.3, 498.9, 505.1, 499.4, 495.9, 506.8, 492.4, 488.9, 490.9, 490.0], \"yaxis\": \"y\"}, {\"hoverlabel\": {\"namelength\": 0}, \"hovertemplate\": \"Country=Germany<br>Year=%{x}<br>Value=%{y}\", \"legendgroup\": \"Country=Germany\", \"line\": {\"color\": \"#FF97FF\", \"dash\": \"solid\"}, \"mode\": \"lines\", \"name\": \"Country=Germany\", \"showlegend\": true, \"type\": \"scatter\", \"x\": [2003, 2006, 2009, 2012, 2015, 2003, 2006, 2009, 2012, 2015], \"xaxis\": \"x\", \"y\": [507.9, 513.2, 520.4, 520.2, 514.1, 498.9, 493.7, 504.8, 506.6, 497.5], \"yaxis\": \"y\"}, {\"hoverlabel\": {\"namelength\": 0}, \"hovertemplate\": \"Country=Greece<br>Year=%{x}<br>Value=%{y}\", \"legendgroup\": \"Country=Greece\", \"line\": {\"color\": \"#FECB52\", \"dash\": \"solid\"}, \"mode\": \"lines\", \"name\": \"Country=Greece\", \"showlegend\": true, \"type\": \"scatter\", \"x\": [2003, 2006, 2009, 2012, 2015, 2003, 2006, 2009, 2012, 2015], \"xaxis\": \"x\", \"y\": [455.0, 461.5, 473.1, 457.0, 453.7, 435.6, 456.8, 459.3, 449.0, 453.6], \"yaxis\": \"y\"}, {\"hoverlabel\": {\"namelength\": 0}, \"hovertemplate\": \"Country=Hungary<br>Year=%{x}<br>Value=%{y}\", \"legendgroup\": \"Country=Hungary\", \"line\": {\"color\": \"#636efa\", \"dash\": \"solid\"}, \"mode\": \"lines\", \"name\": \"Country=Hungary\", \"showlegend\": true, \"type\": \"scatter\", \"x\": [2003, 2006, 2009, 2012, 2015, 2003, 2006, 2009, 2012, 2015], \"xaxis\": \"x\", \"y\": [493.7, 495.8, 496.1, 481.7, 480.9, 485.9, 485.7, 484.1, 472.7, 472.7], \"yaxis\": \"y\"}, {\"hoverlabel\": {\"namelength\": 0}, \"hovertemplate\": \"Country=Iceland<br>Year=%{x}<br>Value=%{y}\", \"legendgroup\": \"Country=Iceland\", \"line\": {\"color\": \"#EF553B\", \"dash\": \"solid\"}, \"mode\": \"lines\", \"name\": \"Country=Iceland\", \"showlegend\": true, \"type\": \"scatter\", \"x\": [2003, 2006, 2009, 2012, 2015, 2003, 2006, 2009, 2012, 2015], \"xaxis\": \"x\", \"y\": [507.7, 503.3, 508.4, 489.7, 487.4, 523.1, 507.8, 504.9, 495.9, 488.6], \"yaxis\": \"y\"}, {\"hoverlabel\": {\"namelength\": 0}, \"hovertemplate\": \"Country=Ireland<br>Year=%{x}<br>Value=%{y}\", \"legendgroup\": \"Country=Ireland\", \"line\": {\"color\": \"#00cc96\", \"dash\": \"solid\"}, \"mode\": \"lines\", \"name\": \"Country=Ireland\", \"showlegend\": true, \"type\": \"scatter\", \"x\": [2003, 2006, 2009, 2012, 2015, 2003, 2006, 2009, 2012, 2015], \"xaxis\": \"x\", \"y\": [510.2, 507.3, 490.9, 509.0, 511.6, 495.4, 495.8, 483.3, 493.7, 495.4], \"yaxis\": \"y\"}, {\"hoverlabel\": {\"namelength\": 0}, \"hovertemplate\": \"Country=Italy<br>Year=%{x}<br>Value=%{y}\", \"legendgroup\": \"Country=Italy\", \"line\": {\"color\": \"#ab63fa\", \"dash\": \"solid\"}, \"mode\": \"lines\", \"name\": \"Country=Italy\", \"showlegend\": true, \"type\": \"scatter\", \"x\": [2003, 2006, 2009, 2012, 2015, 2003, 2006, 2009, 2012, 2015], \"xaxis\": \"x\", \"y\": [474.9, 470.1, 490.0, 494.2, 499.8, 457.1, 453.5, 475.4, 475.8, 479.8], \"yaxis\": \"y\"}, {\"hoverlabel\": {\"namelength\": 0}, \"hovertemplate\": \"Country=Japan<br>Year=%{x}<br>Value=%{y}\", \"legendgroup\": \"Country=Japan\", \"line\": {\"color\": \"#FFA15A\", \"dash\": \"solid\"}, \"mode\": \"lines\", \"name\": \"Country=Japan\", \"showlegend\": true, \"type\": \"scatter\", \"x\": [2003, 2006, 2009, 2012, 2015, 2003, 2006, 2009, 2012, 2015], \"xaxis\": \"x\", \"y\": [538.5, 532.9, 533.6, 544.9, 539.3, 530.1, 513.2, 524.1, 527.0, 525.5], \"yaxis\": \"y\"}, {\"hoverlabel\": {\"namelength\": 0}, \"hovertemplate\": \"Country=Korea<br>Year=%{x}<br>Value=%{y}\", \"legendgroup\": \"Country=Korea\", \"line\": {\"color\": \"#19d3f3\", \"dash\": \"solid\"}, \"mode\": \"lines\", \"name\": \"Country=Korea\", \"showlegend\": true, \"type\": \"scatter\", \"x\": [2003, 2006, 2009, 2012, 2015, 2003, 2006, 2009, 2012, 2015], \"xaxis\": \"x\", \"y\": [551.7, 552.0, 547.8, 562.1, 520.8, 528.3, 542.8, 544.5, 544.2, 527.8], \"yaxis\": \"y\"}, {\"hoverlabel\": {\"namelength\": 0}, \"hovertemplate\": \"Country=Luxembourg<br>Year=%{x}<br>Value=%{y}\", \"legendgroup\": \"Country=Luxembourg\", \"line\": {\"color\": \"#FF6692\", \"dash\": \"solid\"}, \"mode\": \"lines\", \"name\": \"Country=Luxembourg\", \"showlegend\": true, \"type\": \"scatter\", \"x\": [2003, 2006, 2009, 2012, 2015, 2003, 2006, 2009, 2012, 2015], \"xaxis\": \"x\", \"y\": [501.9, 498.2, 498.6, 502.2, 491.5, 484.8, 481.6, 479.2, 477.1, 480.1], \"yaxis\": \"y\"}, {\"hoverlabel\": {\"namelength\": 0}, \"hovertemplate\": \"Country=Mexico<br>Year=%{x}<br>Value=%{y}\", \"legendgroup\": \"Country=Mexico\", \"line\": {\"color\": \"#B6E880\", \"dash\": \"solid\"}, \"mode\": \"lines\", \"name\": \"Country=Mexico\", \"showlegend\": true, \"type\": \"scatter\", \"x\": [2003, 2006, 2009, 2012, 2015, 2003, 2006, 2009, 2012, 2015], \"xaxis\": \"x\", \"y\": [390.9, 410.3, 425.4, 420.4, 411.6, 380.0, 401.3, 411.8, 406.4, 404.3], \"yaxis\": \"y\"}, {\"hoverlabel\": {\"namelength\": 0}, \"hovertemplate\": \"Country=Netherlands<br>Year=%{x}<br>Value=%{y}\", \"legendgroup\": \"Country=Netherlands\", \"line\": {\"color\": \"#FF97FF\", \"dash\": \"solid\"}, \"mode\": \"lines\", \"name\": \"Country=Netherlands\", \"showlegend\": true, \"type\": \"scatter\", \"x\": [2003, 2006, 2009, 2012, 2015, 2003, 2006, 2009, 2012, 2015], \"xaxis\": \"x\", \"y\": [540.3, 536.9, 534.5, 528.0, 513.5, 535.2, 524.1, 517.3, 517.7, 511.0], \"yaxis\": \"y\"}, {\"hoverlabel\": {\"namelength\": 0}, \"hovertemplate\": \"Country=New Zealand<br>Year=%{x}<br>Value=%{y}\", \"legendgroup\": \"Country=New Zealand\", \"line\": {\"color\": \"#FECB52\", \"dash\": \"solid\"}, \"mode\": \"lines\", \"name\": \"Country=New Zealand\", \"showlegend\": true, \"type\": \"scatter\", \"x\": [2003, 2006, 2009, 2012, 2015, 2003, 2006, 2009, 2012, 2015], \"xaxis\": \"x\", \"y\": [530.7, 527.5, 523.1, 507.1, 499.5, 516.2, 516.8, 515.3, 492.1, 490.9], \"yaxis\": \"y\"}, {\"hoverlabel\": {\"namelength\": 0}, \"hovertemplate\": \"Country=Norway<br>Year=%{x}<br>Value=%{y}\", \"legendgroup\": \"Country=Norway\", \"line\": {\"color\": \"#636efa\", \"dash\": \"solid\"}, \"mode\": \"lines\", \"name\": \"Country=Norway\", \"showlegend\": true, \"type\": \"scatter\", \"x\": [2003, 2006, 2009, 2012, 2015, 2003, 2006, 2009, 2012, 2015], \"xaxis\": \"x\", \"y\": [498.3, 492.8, 500.4, 490.4, 500.6, 492.0, 486.7, 495.4, 488.3, 502.9], \"yaxis\": \"y\"}, {\"hoverlabel\": {\"namelength\": 0}, \"hovertemplate\": \"Country=Poland<br>Year=%{x}<br>Value=%{y}\", \"legendgroup\": \"Country=Poland\", \"line\": {\"color\": \"#EF553B\", \"dash\": \"solid\"}, \"mode\": \"lines\", \"name\": \"Country=Poland\", \"showlegend\": true, \"type\": \"scatter\", \"x\": [2003, 2006, 2009, 2012, 2015, 2003, 2006, 2009, 2012, 2015], \"xaxis\": \"x\", \"y\": [493.0, 500.0, 496.6, 519.6, 510.1, 487.5, 490.9, 493.1, 515.5, 498.6], \"yaxis\": \"y\"}, {\"hoverlabel\": {\"namelength\": 0}, \"hovertemplate\": \"Country=Portugal<br>Year=%{x}<br>Value=%{y}\", \"legendgroup\": \"Country=Portugal\", \"line\": {\"color\": \"#00cc96\", \"dash\": \"solid\"}, \"mode\": \"lines\", \"name\": \"Country=Portugal\", \"showlegend\": true, \"type\": \"scatter\", \"x\": [2003, 2006, 2009, 2012, 2015, 2003, 2006, 2009, 2012, 2015], \"xaxis\": \"x\", \"y\": [472.4, 473.9, 492.9, 492.7, 496.6, 460.2, 459.0, 481.1, 481.3, 486.6], \"yaxis\": \"y\"}, {\"hoverlabel\": {\"namelength\": 0}, \"hovertemplate\": \"Country=Slovak Republic<br>Year=%{x}<br>Value=%{y}\", \"legendgroup\": \"Country=Slovak Republic\", \"line\": {\"color\": \"#ab63fa\", \"dash\": \"solid\"}, \"mode\": \"lines\", \"name\": \"Country=Slovak Republic\", \"showlegend\": true, \"type\": \"scatter\", \"x\": [2003, 2006, 2009, 2012, 2015, 2003, 2006, 2009, 2012, 2015], \"xaxis\": \"x\", \"y\": [507.3, 499.1, 498.0, 486.1, 478.0, 488.6, 484.7, 495.4, 476.7, 472.3], \"yaxis\": \"y\"}, {\"hoverlabel\": {\"namelength\": 0}, \"hovertemplate\": \"Country=Spain<br>Year=%{x}<br>Value=%{y}\", \"legendgroup\": \"Country=Spain\", \"line\": {\"color\": \"#FFA15A\", \"dash\": \"solid\"}, \"mode\": \"lines\", \"name\": \"Country=Spain\", \"showlegend\": true, \"type\": \"scatter\", \"x\": [2003, 2006, 2009, 2012, 2015, 2003, 2006, 2009, 2012, 2015], \"xaxis\": \"x\", \"y\": [489.6, 484.2, 492.8, 492.4, 493.8, 480.7, 475.6, 473.9, 476.0, 477.9], \"yaxis\": \"y\"}, {\"hoverlabel\": {\"namelength\": 0}, \"hovertemplate\": \"Country=Sweden<br>Year=%{x}<br>Value=%{y}\", \"legendgroup\": \"Country=Sweden\", \"line\": {\"color\": \"#19d3f3\", \"dash\": \"solid\"}, \"mode\": \"lines\", \"name\": \"Country=Sweden\", \"showlegend\": true, \"type\": \"scatter\", \"x\": [2003, 2006, 2009, 2012, 2015, 2003, 2006, 2009, 2012, 2015], \"xaxis\": \"x\", \"y\": [512.3, 504.9, 493.4, 476.9, 492.8, 505.8, 499.7, 495.1, 479.6, 495.1], \"yaxis\": \"y\"}, {\"hoverlabel\": {\"namelength\": 0}, \"hovertemplate\": \"Country=Switzerland<br>Year=%{x}<br>Value=%{y}\", \"legendgroup\": \"Country=Switzerland\", \"line\": {\"color\": \"#FF6692\", \"dash\": \"solid\"}, \"mode\": \"lines\", \"name\": \"Country=Switzerland\", \"showlegend\": true, \"type\": \"scatter\", \"x\": [2003, 2006, 2009, 2012, 2015, 2003, 2006, 2009, 2012, 2015], \"xaxis\": \"x\", \"y\": [534.6, 536.2, 543.7, 537.4, 527.0, 518.0, 522.7, 523.9, 524.5, 515.0], \"yaxis\": \"y\"}, {\"hoverlabel\": {\"namelength\": 0}, \"hovertemplate\": \"Country=Turkey<br>Year=%{x}<br>Value=%{y}\", \"legendgroup\": \"Country=Turkey\", \"line\": {\"color\": \"#B6E880\", \"dash\": \"solid\"}, \"mode\": \"lines\", \"name\": \"Country=Turkey\", \"showlegend\": true, \"type\": \"scatter\", \"x\": [2003, 2006, 2009, 2012, 2015, 2003, 2006, 2009, 2012, 2015], \"xaxis\": \"x\", \"y\": [430.2, 426.6, 450.7, 451.9, 423.4, 415.1, 420.7, 439.8, 443.9, 417.5], \"yaxis\": \"y\"}, {\"hoverlabel\": {\"namelength\": 0}, \"hovertemplate\": \"Country=United Kingdom<br>Year=%{x}<br>Value=%{y}\", \"legendgroup\": \"Country=United Kingdom\", \"line\": {\"color\": \"#FF97FF\", \"dash\": \"solid\"}, \"mode\": \"lines\", \"name\": \"Country=United Kingdom\", \"showlegend\": true, \"type\": \"scatter\", \"x\": [2003, 2006, 2009, 2012, 2015, 2003, 2006, 2009, 2012, 2015], \"xaxis\": \"x\", \"y\": [511.8, 503.9, 502.8, 500.3, 498.2, 505.1, 487.2, 482.4, 487.8, 486.6], \"yaxis\": \"y\"}, {\"hoverlabel\": {\"namelength\": 0}, \"hovertemplate\": \"Country=United States<br>Year=%{x}<br>Value=%{y}\", \"legendgroup\": \"Country=United States\", \"line\": {\"color\": \"#FECB52\", \"dash\": \"solid\"}, \"mode\": \"lines\", \"name\": \"Country=United States\", \"showlegend\": true, \"type\": \"scatter\", \"x\": [2003, 2006, 2009, 2012, 2015, 2003, 2006, 2009, 2012, 2015], \"xaxis\": \"x\", \"y\": [486.0, 478.6, 497.3, 483.6, 473.9, 479.7, 470.1, 477.0, 479.0, 465.4], \"yaxis\": \"y\"}, {\"hoverlabel\": {\"namelength\": 0}, \"hovertemplate\": \"Country=Brazil<br>Year=%{x}<br>Value=%{y}\", \"legendgroup\": \"Country=Brazil\", \"line\": {\"color\": \"#636efa\", \"dash\": \"solid\"}, \"mode\": \"lines\", \"name\": \"Country=Brazil\", \"showlegend\": true, \"type\": \"scatter\", \"x\": [2003, 2006, 2009, 2012, 2015, 2003, 2006, 2009, 2012, 2015], \"xaxis\": \"x\", \"y\": [364.7, 379.6, 394.0, 400.8, 385.0, 348.4, 360.9, 378.5, 382.9, 369.5], \"yaxis\": \"y\"}, {\"hoverlabel\": {\"namelength\": 0}, \"hovertemplate\": \"Country=Chile<br>Year=%{x}<br>Value=%{y}\", \"legendgroup\": \"Country=Chile\", \"line\": {\"color\": \"#EF553B\", \"dash\": \"solid\"}, \"mode\": \"lines\", \"name\": \"Country=Chile\", \"showlegend\": true, \"type\": \"scatter\", \"x\": [2006, 2009, 2012, 2015, 2006, 2009, 2012, 2015], \"xaxis\": \"x\", \"y\": [424.2, 431.3, 435.5, 431.8, 396.3, 410.4, 410.5, 413.4], \"yaxis\": \"y\"}, {\"hoverlabel\": {\"namelength\": 0}, \"hovertemplate\": \"Country=Estonia<br>Year=%{x}<br>Value=%{y}\", \"legendgroup\": \"Country=Estonia\", \"line\": {\"color\": \"#00cc96\", \"dash\": \"solid\"}, \"mode\": \"lines\", \"name\": \"Country=Estonia\", \"showlegend\": true, \"type\": \"scatter\", \"x\": [2006, 2009, 2012, 2015, 2006, 2009, 2012, 2015], \"xaxis\": \"x\", \"y\": [515.3, 516.4, 523.2, 522.1, 513.8, 507.5, 517.9, 516.9], \"yaxis\": \"y\"}, {\"hoverlabel\": {\"namelength\": 0}, \"hovertemplate\": \"Country=Indonesia<br>Year=%{x}<br>Value=%{y}\", \"legendgroup\": \"Country=Indonesia\", \"line\": {\"color\": \"#ab63fa\", \"dash\": \"solid\"}, \"mode\": \"lines\", \"name\": \"Country=Indonesia\", \"showlegend\": true, \"type\": \"scatter\", \"x\": [2003, 2006, 2009, 2012, 2015, 2003, 2006, 2009, 2012, 2015], \"xaxis\": \"x\", \"y\": [361.8, 399.4, 370.6, 377.4, 384.8, 358.5, 382.2, 371.9, 372.8, 387.4], \"yaxis\": \"y\"}, {\"hoverlabel\": {\"namelength\": 0}, \"hovertemplate\": \"Country=Israel<br>Year=%{x}<br>Value=%{y}\", \"legendgroup\": \"Country=Israel\", \"line\": {\"color\": \"#FFA15A\", \"dash\": \"solid\"}, \"mode\": \"lines\", \"name\": \"Country=Israel\", \"showlegend\": true, \"type\": \"scatter\", \"x\": [2006, 2009, 2012, 2015, 2006, 2009, 2012, 2015], \"xaxis\": \"x\", \"y\": [447.9, 451.1, 472.4, 474.0, 435.9, 442.8, 460.7, 465.5], \"yaxis\": \"y\"}, {\"hoverlabel\": {\"namelength\": 0}, \"hovertemplate\": \"Country=Russia<br>Year=%{x}<br>Value=%{y}\", \"legendgroup\": \"Country=Russia\", \"line\": {\"color\": \"#19d3f3\", \"dash\": \"solid\"}, \"mode\": \"lines\", \"name\": \"Country=Russia\", \"showlegend\": true, \"type\": \"scatter\", \"x\": [2003, 2006, 2009, 2012, 2015, 2003, 2006, 2009, 2012, 2015], \"xaxis\": \"x\", \"y\": [473.5, 478.6, 468.9, 481.4, 497.1, 463.4, 473.0, 466.7, 482.9, 491.1], \"yaxis\": \"y\"}, {\"hoverlabel\": {\"namelength\": 0}, \"hovertemplate\": \"Country=Slovenia<br>Year=%{x}<br>Value=%{y}\", \"legendgroup\": \"Country=Slovenia\", \"line\": {\"color\": \"#FF6692\", \"dash\": \"solid\"}, \"mode\": \"lines\", \"name\": \"Country=Slovenia\", \"showlegend\": true, \"type\": \"scatter\", \"x\": [2006, 2009, 2012, 2015, 2006, 2009, 2012, 2015], \"xaxis\": \"x\", \"y\": [506.9, 502.1, 502.7, 511.8, 502.1, 500.8, 499.4, 507.9], \"yaxis\": \"y\"}, {\"hoverlabel\": {\"namelength\": 0}, \"hovertemplate\": \"Country=Bulgaria<br>Year=%{x}<br>Value=%{y}\", \"legendgroup\": \"Country=Bulgaria\", \"line\": {\"color\": \"#B6E880\", \"dash\": \"solid\"}, \"mode\": \"lines\", \"name\": \"Country=Bulgaria\", \"showlegend\": true, \"type\": \"scatter\", \"x\": [2006, 2009, 2012, 2015, 2006, 2009, 2012, 2015], \"xaxis\": \"x\", \"y\": [411.7, 426.3, 437.6, 440.3, 415.4, 430.0, 440.0, 442.2], \"yaxis\": \"y\"}, {\"hoverlabel\": {\"namelength\": 0}, \"hovertemplate\": \"Country=Colombia<br>Year=%{x}<br>Value=%{y}\", \"legendgroup\": \"Country=Colombia\", \"line\": {\"color\": \"#FF97FF\", \"dash\": \"solid\"}, \"mode\": \"lines\", \"name\": \"Country=Colombia\", \"showlegend\": true, \"type\": \"scatter\", \"x\": [2006, 2009, 2012, 2015, 2006, 2009, 2012, 2015], \"xaxis\": \"x\", \"y\": [381.9, 397.7, 390.0, 395.4, 359.8, 365.5, 364.5, 384.5], \"yaxis\": \"y\"}, {\"hoverlabel\": {\"namelength\": 0}, \"hovertemplate\": \"Country=Costa Rica<br>Year=%{x}<br>Value=%{y}\", \"legendgroup\": \"Country=Costa Rica\", \"line\": {\"color\": \"#FECB52\", \"dash\": \"solid\"}, \"mode\": \"lines\", \"name\": \"Country=Costa Rica\", \"showlegend\": true, \"type\": \"scatter\", \"x\": [2012, 2015, 2012, 2015], \"xaxis\": \"x\", \"y\": [419.5, 408.5, 395.9, 392.3], \"yaxis\": \"y\"}, {\"hoverlabel\": {\"namelength\": 0}, \"hovertemplate\": \"Country=Croatia<br>Year=%{x}<br>Value=%{y}\", \"legendgroup\": \"Country=Croatia\", \"line\": {\"color\": \"#636efa\", \"dash\": \"solid\"}, \"mode\": \"lines\", \"name\": \"Country=Croatia\", \"showlegend\": true, \"type\": \"scatter\", \"x\": [2006, 2009, 2012, 2015, 2006, 2009, 2012, 2015], \"xaxis\": \"x\", \"y\": [474.0, 465.0, 476.8, 470.6, 460.5, 454.3, 465.2, 458.0], \"yaxis\": \"y\"}, {\"hoverlabel\": {\"namelength\": 0}, \"hovertemplate\": \"Country=Cyprus<br>Year=%{x}<br>Value=%{y}\", \"legendgroup\": \"Country=Cyprus\", \"line\": {\"color\": \"#EF553B\", \"dash\": \"solid\"}, \"mode\": \"lines\", \"name\": \"Country=Cyprus\", \"showlegend\": true, \"type\": \"scatter\", \"x\": [2015, 2015], \"xaxis\": \"x\", \"y\": [434.7, 439.5], \"yaxis\": \"y\"}, {\"hoverlabel\": {\"namelength\": 0}, \"hovertemplate\": \"Country=Latvia<br>Year=%{x}<br>Value=%{y}\", \"legendgroup\": \"Country=Latvia\", \"line\": {\"color\": \"#00cc96\", \"dash\": \"solid\"}, \"mode\": \"lines\", \"name\": \"Country=Latvia\", \"showlegend\": true, \"type\": \"scatter\", \"x\": [2003, 2006, 2009, 2012, 2015, 2003, 2006, 2009, 2012, 2015], \"xaxis\": \"x\", \"y\": [484.8, 488.8, 482.9, 488.7, 481.4, 482.0, 483.6, 481.0, 492.5, 483.3], \"yaxis\": \"y\"}, {\"hoverlabel\": {\"namelength\": 0}, \"hovertemplate\": \"Country=Lithuania<br>Year=%{x}<br>Value=%{y}\", \"legendgroup\": \"Country=Lithuania\", \"line\": {\"color\": \"#ab63fa\", \"dash\": \"solid\"}, \"mode\": \"lines\", \"name\": \"Country=Lithuania\", \"showlegend\": true, \"type\": \"scatter\", \"x\": [2006, 2009, 2012, 2015, 2006, 2009, 2012, 2015], \"xaxis\": \"x\", \"y\": [487.5, 473.5, 478.9, 477.8, 485.3, 479.8, 478.7, 479.0], \"yaxis\": \"y\"}, {\"hoverlabel\": {\"namelength\": 0}, \"hovertemplate\": \"Country=Malta<br>Year=%{x}<br>Value=%{y}\", \"legendgroup\": \"Country=Malta\", \"line\": {\"color\": \"#FFA15A\", \"dash\": \"solid\"}, \"mode\": \"lines\", \"name\": \"Country=Malta\", \"showlegend\": true, \"type\": \"scatter\", \"x\": [2015, 2015], \"xaxis\": \"x\", \"y\": [476.7, 480.7], \"yaxis\": \"y\"}, {\"hoverlabel\": {\"namelength\": 0}, \"hovertemplate\": \"Country=Romania<br>Year=%{x}<br>Value=%{y}\", \"legendgroup\": \"Country=Romania\", \"line\": {\"color\": \"#19d3f3\", \"dash\": \"solid\"}, \"mode\": \"lines\", \"name\": \"Country=Romania\", \"showlegend\": true, \"type\": \"scatter\", \"x\": [2006, 2009, 2012, 2015, 2006, 2009, 2012, 2015], \"xaxis\": \"x\", \"y\": [418.1, 428.8, 446.5, 444.3, 411.5, 425.4, 442.7, 443.7], \"yaxis\": \"y\"}],\n",
       "                        {\"height\": 600, \"legend\": {\"tracegroupgap\": 0}, \"margin\": {\"t\": 60}, \"template\": {\"data\": {\"bar\": [{\"error_x\": {\"color\": \"#2a3f5f\"}, \"error_y\": {\"color\": \"#2a3f5f\"}, \"marker\": {\"line\": {\"color\": \"#E5ECF6\", \"width\": 0.5}}, \"type\": \"bar\"}], \"barpolar\": [{\"marker\": {\"line\": {\"color\": \"#E5ECF6\", \"width\": 0.5}}, \"type\": \"barpolar\"}], \"carpet\": [{\"aaxis\": {\"endlinecolor\": \"#2a3f5f\", \"gridcolor\": \"white\", \"linecolor\": \"white\", \"minorgridcolor\": \"white\", \"startlinecolor\": \"#2a3f5f\"}, \"baxis\": {\"endlinecolor\": \"#2a3f5f\", \"gridcolor\": \"white\", \"linecolor\": \"white\", \"minorgridcolor\": \"white\", \"startlinecolor\": \"#2a3f5f\"}, \"type\": \"carpet\"}], \"choropleth\": [{\"colorbar\": {\"outlinewidth\": 0, \"ticks\": \"\"}, \"type\": \"choropleth\"}], \"contour\": [{\"colorbar\": {\"outlinewidth\": 0, \"ticks\": \"\"}, \"colorscale\": [[0.0, \"#0d0887\"], [0.1111111111111111, \"#46039f\"], [0.2222222222222222, \"#7201a8\"], [0.3333333333333333, \"#9c179e\"], [0.4444444444444444, \"#bd3786\"], [0.5555555555555556, \"#d8576b\"], [0.6666666666666666, \"#ed7953\"], [0.7777777777777778, \"#fb9f3a\"], [0.8888888888888888, \"#fdca26\"], [1.0, \"#f0f921\"]], \"type\": \"contour\"}], \"contourcarpet\": [{\"colorbar\": {\"outlinewidth\": 0, \"ticks\": \"\"}, \"type\": \"contourcarpet\"}], \"heatmap\": [{\"colorbar\": {\"outlinewidth\": 0, \"ticks\": \"\"}, \"colorscale\": [[0.0, \"#0d0887\"], [0.1111111111111111, \"#46039f\"], [0.2222222222222222, \"#7201a8\"], [0.3333333333333333, \"#9c179e\"], [0.4444444444444444, \"#bd3786\"], [0.5555555555555556, \"#d8576b\"], [0.6666666666666666, \"#ed7953\"], [0.7777777777777778, \"#fb9f3a\"], [0.8888888888888888, \"#fdca26\"], [1.0, \"#f0f921\"]], \"type\": \"heatmap\"}], \"heatmapgl\": [{\"colorbar\": {\"outlinewidth\": 0, \"ticks\": \"\"}, \"colorscale\": [[0.0, \"#0d0887\"], [0.1111111111111111, \"#46039f\"], [0.2222222222222222, \"#7201a8\"], [0.3333333333333333, \"#9c179e\"], [0.4444444444444444, \"#bd3786\"], [0.5555555555555556, \"#d8576b\"], [0.6666666666666666, \"#ed7953\"], [0.7777777777777778, \"#fb9f3a\"], [0.8888888888888888, \"#fdca26\"], [1.0, \"#f0f921\"]], \"type\": \"heatmapgl\"}], \"histogram\": [{\"marker\": {\"colorbar\": {\"outlinewidth\": 0, \"ticks\": \"\"}}, \"type\": \"histogram\"}], \"histogram2d\": [{\"colorbar\": {\"outlinewidth\": 0, \"ticks\": \"\"}, \"colorscale\": [[0.0, \"#0d0887\"], [0.1111111111111111, \"#46039f\"], [0.2222222222222222, \"#7201a8\"], [0.3333333333333333, \"#9c179e\"], [0.4444444444444444, \"#bd3786\"], [0.5555555555555556, \"#d8576b\"], [0.6666666666666666, \"#ed7953\"], [0.7777777777777778, \"#fb9f3a\"], [0.8888888888888888, \"#fdca26\"], [1.0, \"#f0f921\"]], \"type\": \"histogram2d\"}], \"histogram2dcontour\": [{\"colorbar\": {\"outlinewidth\": 0, \"ticks\": \"\"}, \"colorscale\": [[0.0, \"#0d0887\"], [0.1111111111111111, \"#46039f\"], [0.2222222222222222, \"#7201a8\"], [0.3333333333333333, \"#9c179e\"], [0.4444444444444444, \"#bd3786\"], [0.5555555555555556, \"#d8576b\"], [0.6666666666666666, \"#ed7953\"], [0.7777777777777778, \"#fb9f3a\"], [0.8888888888888888, \"#fdca26\"], [1.0, \"#f0f921\"]], \"type\": \"histogram2dcontour\"}], \"mesh3d\": [{\"colorbar\": {\"outlinewidth\": 0, \"ticks\": \"\"}, \"type\": \"mesh3d\"}], \"parcoords\": [{\"line\": {\"colorbar\": {\"outlinewidth\": 0, \"ticks\": \"\"}}, \"type\": \"parcoords\"}], \"scatter\": [{\"marker\": {\"colorbar\": {\"outlinewidth\": 0, \"ticks\": \"\"}}, \"type\": \"scatter\"}], \"scatter3d\": [{\"line\": {\"colorbar\": {\"outlinewidth\": 0, \"ticks\": \"\"}}, \"marker\": {\"colorbar\": {\"outlinewidth\": 0, \"ticks\": \"\"}}, \"type\": \"scatter3d\"}], \"scattercarpet\": [{\"marker\": {\"colorbar\": {\"outlinewidth\": 0, \"ticks\": \"\"}}, \"type\": \"scattercarpet\"}], \"scattergeo\": [{\"marker\": {\"colorbar\": {\"outlinewidth\": 0, \"ticks\": \"\"}}, \"type\": \"scattergeo\"}], \"scattergl\": [{\"marker\": {\"colorbar\": {\"outlinewidth\": 0, \"ticks\": \"\"}}, \"type\": \"scattergl\"}], \"scattermapbox\": [{\"marker\": {\"colorbar\": {\"outlinewidth\": 0, \"ticks\": \"\"}}, \"type\": \"scattermapbox\"}], \"scatterpolar\": [{\"marker\": {\"colorbar\": {\"outlinewidth\": 0, \"ticks\": \"\"}}, \"type\": \"scatterpolar\"}], \"scatterpolargl\": [{\"marker\": {\"colorbar\": {\"outlinewidth\": 0, \"ticks\": \"\"}}, \"type\": \"scatterpolargl\"}], \"scatterternary\": [{\"marker\": {\"colorbar\": {\"outlinewidth\": 0, \"ticks\": \"\"}}, \"type\": \"scatterternary\"}], \"surface\": [{\"colorbar\": {\"outlinewidth\": 0, \"ticks\": \"\"}, \"colorscale\": [[0.0, \"#0d0887\"], [0.1111111111111111, \"#46039f\"], [0.2222222222222222, \"#7201a8\"], [0.3333333333333333, \"#9c179e\"], [0.4444444444444444, \"#bd3786\"], [0.5555555555555556, \"#d8576b\"], [0.6666666666666666, \"#ed7953\"], [0.7777777777777778, \"#fb9f3a\"], [0.8888888888888888, \"#fdca26\"], [1.0, \"#f0f921\"]], \"type\": \"surface\"}], \"table\": [{\"cells\": {\"fill\": {\"color\": \"#EBF0F8\"}, \"line\": {\"color\": \"white\"}}, \"header\": {\"fill\": {\"color\": \"#C8D4E3\"}, \"line\": {\"color\": \"white\"}}, \"type\": \"table\"}]}, \"layout\": {\"annotationdefaults\": {\"arrowcolor\": \"#2a3f5f\", \"arrowhead\": 0, \"arrowwidth\": 1}, \"colorscale\": {\"diverging\": [[0, \"#8e0152\"], [0.1, \"#c51b7d\"], [0.2, \"#de77ae\"], [0.3, \"#f1b6da\"], [0.4, \"#fde0ef\"], [0.5, \"#f7f7f7\"], [0.6, \"#e6f5d0\"], [0.7, \"#b8e186\"], [0.8, \"#7fbc41\"], [0.9, \"#4d9221\"], [1, \"#276419\"]], \"sequential\": [[0.0, \"#0d0887\"], [0.1111111111111111, \"#46039f\"], [0.2222222222222222, \"#7201a8\"], [0.3333333333333333, \"#9c179e\"], [0.4444444444444444, \"#bd3786\"], [0.5555555555555556, \"#d8576b\"], [0.6666666666666666, \"#ed7953\"], [0.7777777777777778, \"#fb9f3a\"], [0.8888888888888888, \"#fdca26\"], [1.0, \"#f0f921\"]], \"sequentialminus\": [[0.0, \"#0d0887\"], [0.1111111111111111, \"#46039f\"], [0.2222222222222222, \"#7201a8\"], [0.3333333333333333, \"#9c179e\"], [0.4444444444444444, \"#bd3786\"], [0.5555555555555556, \"#d8576b\"], [0.6666666666666666, \"#ed7953\"], [0.7777777777777778, \"#fb9f3a\"], [0.8888888888888888, \"#fdca26\"], [1.0, \"#f0f921\"]]}, \"colorway\": [\"#636efa\", \"#EF553B\", \"#00cc96\", \"#ab63fa\", \"#FFA15A\", \"#19d3f3\", \"#FF6692\", \"#B6E880\", \"#FF97FF\", \"#FECB52\"], \"font\": {\"color\": \"#2a3f5f\"}, \"geo\": {\"bgcolor\": \"white\", \"lakecolor\": \"white\", \"landcolor\": \"#E5ECF6\", \"showlakes\": true, \"showland\": true, \"subunitcolor\": \"white\"}, \"hoverlabel\": {\"align\": \"left\"}, \"hovermode\": \"closest\", \"mapbox\": {\"style\": \"light\"}, \"paper_bgcolor\": \"white\", \"plot_bgcolor\": \"#E5ECF6\", \"polar\": {\"angularaxis\": {\"gridcolor\": \"white\", \"linecolor\": \"white\", \"ticks\": \"\"}, \"bgcolor\": \"#E5ECF6\", \"radialaxis\": {\"gridcolor\": \"white\", \"linecolor\": \"white\", \"ticks\": \"\"}}, \"scene\": {\"xaxis\": {\"backgroundcolor\": \"#E5ECF6\", \"gridcolor\": \"white\", \"gridwidth\": 2, \"linecolor\": \"white\", \"showbackground\": true, \"ticks\": \"\", \"zerolinecolor\": \"white\"}, \"yaxis\": {\"backgroundcolor\": \"#E5ECF6\", \"gridcolor\": \"white\", \"gridwidth\": 2, \"linecolor\": \"white\", \"showbackground\": true, \"ticks\": \"\", \"zerolinecolor\": \"white\"}, \"zaxis\": {\"backgroundcolor\": \"#E5ECF6\", \"gridcolor\": \"white\", \"gridwidth\": 2, \"linecolor\": \"white\", \"showbackground\": true, \"ticks\": \"\", \"zerolinecolor\": \"white\"}}, \"shapedefaults\": {\"line\": {\"color\": \"#2a3f5f\"}}, \"ternary\": {\"aaxis\": {\"gridcolor\": \"white\", \"linecolor\": \"white\", \"ticks\": \"\"}, \"baxis\": {\"gridcolor\": \"white\", \"linecolor\": \"white\", \"ticks\": \"\"}, \"bgcolor\": \"#E5ECF6\", \"caxis\": {\"gridcolor\": \"white\", \"linecolor\": \"white\", \"ticks\": \"\"}}, \"title\": {\"x\": 0.05}, \"xaxis\": {\"automargin\": true, \"gridcolor\": \"white\", \"linecolor\": \"white\", \"ticks\": \"\", \"zerolinecolor\": \"white\", \"zerolinewidth\": 2}, \"yaxis\": {\"automargin\": true, \"gridcolor\": \"white\", \"linecolor\": \"white\", \"ticks\": \"\", \"zerolinecolor\": \"white\", \"zerolinewidth\": 2}}}, \"xaxis\": {\"anchor\": \"y\", \"domain\": [0.0, 0.98], \"title\": {\"text\": \"Year\"}}, \"yaxis\": {\"anchor\": \"x\", \"domain\": [0.0, 1.0], \"title\": {\"text\": \"Value\"}}},\n",
       "                        {\"responsive\": true}\n",
       "                    ).then(function(){\n",
       "                            \n",
       "var gd = document.getElementById('f5ed4a85-6634-41ea-ab55-35bc0a0a6213');\n",
       "var x = new MutationObserver(function (mutations, observer) {{\n",
       "        var display = window.getComputedStyle(gd).display;\n",
       "        if (!display || display === 'none') {{\n",
       "            console.log([gd, 'removed!']);\n",
       "            Plotly.purge(gd);\n",
       "            observer.disconnect();\n",
       "        }}\n",
       "}});\n",
       "\n",
       "// Listen for the removal of the full notebook cells\n",
       "var notebookContainer = gd.closest('#notebook-container');\n",
       "if (notebookContainer) {{\n",
       "    x.observe(notebookContainer, {childList: true});\n",
       "}}\n",
       "\n",
       "// Listen for the clearing of the current output cell\n",
       "var outputEl = gd.closest('.output');\n",
       "if (outputEl) {{\n",
       "    x.observe(outputEl, {childList: true});\n",
       "}}\n",
       "\n",
       "                        })\n",
       "                };\n",
       "                });\n",
       "            </script>\n",
       "        </div>"
      ]
     },
     "metadata": {},
     "output_type": "display_data"
    }
   ],
   "source": [
    "px.line(family_df[family_df['Indicator'] == 'Country mean average score in mathematics, by sex'], x='Year', y='Value', color='Country')"
   ]
  },
  {
   "cell_type": "code",
   "execution_count": 60,
   "metadata": {},
   "outputs": [
    {
     "data": {
      "application/vnd.plotly.v1+json": {
       "config": {
        "plotlyServerURL": "https://plot.ly"
       },
       "data": [
        {
         "hoverlabel": {
          "namelength": 0
         },
         "hovertemplate": "Country=Australia<br>Year=%{x}<br>Value=%{y}",
         "legendgroup": "Country=Australia",
         "line": {
          "color": "#636efa",
          "dash": "solid"
         },
         "mode": "lines",
         "name": "Country=Australia",
         "showlegend": true,
         "type": "scatter",
         "x": [
          2006,
          2009,
          2012,
          2015,
          2006,
          2009,
          2012,
          2015
         ],
         "xaxis": "x",
         "y": [
          526.9,
          526.8,
          523.7,
          511,
          526.9,
          527.7,
          519.1,
          508.9
         ],
         "yaxis": "y"
        },
        {
         "hoverlabel": {
          "namelength": 0
         },
         "hovertemplate": "Country=Austria<br>Year=%{x}<br>Value=%{y}",
         "legendgroup": "Country=Austria",
         "line": {
          "color": "#EF553B",
          "dash": "solid"
         },
         "mode": "lines",
         "name": "Country=Austria",
         "showlegend": true,
         "type": "scatter",
         "x": [
          2006,
          2009,
          2012,
          2015,
          2006,
          2009,
          2012,
          2015
         ],
         "xaxis": "x",
         "y": [
          514.5,
          498.3,
          510.1,
          504.4,
          507,
          490.5,
          501.5,
          485.5
         ],
         "yaxis": "y"
        },
        {
         "hoverlabel": {
          "namelength": 0
         },
         "hovertemplate": "Country=Belgium<br>Year=%{x}<br>Value=%{y}",
         "legendgroup": "Country=Belgium",
         "line": {
          "color": "#00cc96",
          "dash": "solid"
         },
         "mode": "lines",
         "name": "Country=Belgium",
         "showlegend": true,
         "type": "scatter",
         "x": [
          2006,
          2009,
          2012,
          2015,
          2006,
          2009,
          2012,
          2015
         ],
         "xaxis": "x",
         "y": [
          510.7,
          509.7,
          506.8,
          507.8,
          510,
          503.3,
          502.9,
          496
         ],
         "yaxis": "y"
        },
        {
         "hoverlabel": {
          "namelength": 0
         },
         "hovertemplate": "Country=Canada<br>Year=%{x}<br>Value=%{y}",
         "legendgroup": "Country=Canada",
         "line": {
          "color": "#ab63fa",
          "dash": "solid"
         },
         "mode": "lines",
         "name": "Country=Canada",
         "showlegend": true,
         "type": "scatter",
         "x": [
          2006,
          2009,
          2012,
          2015,
          2006,
          2009,
          2012,
          2015
         ],
         "xaxis": "x",
         "y": [
          536.5,
          531,
          526.9,
          528.3,
          532.4,
          526.4,
          524,
          527.2
         ],
         "yaxis": "y"
        },
        {
         "hoverlabel": {
          "namelength": 0
         },
         "hovertemplate": "Country=Czech Republic<br>Year=%{x}<br>Value=%{y}",
         "legendgroup": "Country=Czech Republic",
         "line": {
          "color": "#FFA15A",
          "dash": "solid"
         },
         "mode": "lines",
         "name": "Country=Czech Republic",
         "showlegend": true,
         "type": "scatter",
         "x": [
          2006,
          2009,
          2012,
          2015,
          2006,
          2009,
          2012,
          2015
         ],
         "xaxis": "x",
         "y": [
          515,
          498.2,
          508.7,
          497,
          510.1,
          503.1,
          507.9,
          488.4
         ],
         "yaxis": "y"
        },
        {
         "hoverlabel": {
          "namelength": 0
         },
         "hovertemplate": "Country=Denmark<br>Year=%{x}<br>Value=%{y}",
         "legendgroup": "Country=Denmark",
         "line": {
          "color": "#19d3f3",
          "dash": "solid"
         },
         "mode": "lines",
         "name": "Country=Denmark",
         "showlegend": true,
         "type": "scatter",
         "x": [
          2006,
          2009,
          2012,
          2015,
          2006,
          2009,
          2012,
          2015
         ],
         "xaxis": "x",
         "y": [
          500.4,
          505.2,
          503.5,
          504.9,
          491.5,
          493.6,
          493.4,
          498.9
         ],
         "yaxis": "y"
        },
        {
         "hoverlabel": {
          "namelength": 0
         },
         "hovertemplate": "Country=Finland<br>Year=%{x}<br>Value=%{y}",
         "legendgroup": "Country=Finland",
         "line": {
          "color": "#FF6692",
          "dash": "solid"
         },
         "mode": "lines",
         "name": "Country=Finland",
         "showlegend": true,
         "type": "scatter",
         "x": [
          2006,
          2009,
          2012,
          2015,
          2006,
          2009,
          2012,
          2015
         ],
         "xaxis": "x",
         "y": [
          561.8,
          546.4,
          537.4,
          521.5,
          564.9,
          561.8,
          553.9,
          540.5
         ],
         "yaxis": "y"
        },
        {
         "hoverlabel": {
          "namelength": 0
         },
         "hovertemplate": "Country=France<br>Year=%{x}<br>Value=%{y}",
         "legendgroup": "Country=France",
         "line": {
          "color": "#B6E880",
          "dash": "solid"
         },
         "mode": "lines",
         "name": "Country=France",
         "showlegend": true,
         "type": "scatter",
         "x": [
          2006,
          2009,
          2012,
          2015,
          2006,
          2009,
          2012,
          2015
         ],
         "xaxis": "x",
         "y": [
          496.6,
          499.9,
          497.7,
          495.9,
          493.9,
          496.6,
          500.2,
          494
         ],
         "yaxis": "y"
        },
        {
         "hoverlabel": {
          "namelength": 0
         },
         "hovertemplate": "Country=Germany<br>Year=%{x}<br>Value=%{y}",
         "legendgroup": "Country=Germany",
         "line": {
          "color": "#FF97FF",
          "dash": "solid"
         },
         "mode": "lines",
         "name": "Country=Germany",
         "showlegend": true,
         "type": "scatter",
         "x": [
          2006,
          2009,
          2012,
          2015,
          2006,
          2009,
          2012,
          2015
         ],
         "xaxis": "x",
         "y": [
          519.1,
          523.1,
          523.9,
          514.3,
          512,
          517.6,
          524.4,
          503.8
         ],
         "yaxis": "y"
        },
        {
         "hoverlabel": {
          "namelength": 0
         },
         "hovertemplate": "Country=Greece<br>Year=%{x}<br>Value=%{y}",
         "legendgroup": "Country=Greece",
         "line": {
          "color": "#FECB52",
          "dash": "solid"
         },
         "mode": "lines",
         "name": "Country=Greece",
         "showlegend": true,
         "type": "scatter",
         "x": [
          2006,
          2009,
          2012,
          2015,
          2006,
          2009,
          2012,
          2015
         ],
         "xaxis": "x",
         "y": [
          467.7,
          465.2,
          460,
          450.6,
          479.1,
          474.9,
          473.3,
          459.4
         ],
         "yaxis": "y"
        },
        {
         "hoverlabel": {
          "namelength": 0
         },
         "hovertemplate": "Country=Hungary<br>Year=%{x}<br>Value=%{y}",
         "legendgroup": "Country=Hungary",
         "line": {
          "color": "#636efa",
          "dash": "solid"
         },
         "mode": "lines",
         "name": "Country=Hungary",
         "showlegend": true,
         "type": "scatter",
         "x": [
          2006,
          2009,
          2012,
          2015,
          2006,
          2009,
          2012,
          2015
         ],
         "xaxis": "x",
         "y": [
          507,
          502.7,
          495.9,
          478.2,
          500.6,
          502.6,
          492.8,
          475.2
         ],
         "yaxis": "y"
        },
        {
         "hoverlabel": {
          "namelength": 0
         },
         "hovertemplate": "Country=Iceland<br>Year=%{x}<br>Value=%{y}",
         "legendgroup": "Country=Iceland",
         "line": {
          "color": "#EF553B",
          "dash": "solid"
         },
         "mode": "lines",
         "name": "Country=Iceland",
         "showlegend": true,
         "type": "scatter",
         "x": [
          2006,
          2009,
          2012,
          2015,
          2006,
          2009,
          2012,
          2015
         ],
         "xaxis": "x",
         "y": [
          487.7,
          496.5,
          476.7,
          471.7,
          493.9,
          494.7,
          479.7,
          474.7
         ],
         "yaxis": "y"
        },
        {
         "hoverlabel": {
          "namelength": 0
         },
         "hovertemplate": "Country=Ireland<br>Year=%{x}<br>Value=%{y}",
         "legendgroup": "Country=Ireland",
         "line": {
          "color": "#00cc96",
          "dash": "solid"
         },
         "mode": "lines",
         "name": "Country=Ireland",
         "showlegend": true,
         "type": "scatter",
         "x": [
          2006,
          2009,
          2012,
          2015,
          2006,
          2009,
          2012,
          2015
         ],
         "xaxis": "x",
         "y": [
          508.1,
          506.6,
          523.9,
          507.7,
          508.5,
          509.4,
          520,
          497.2
         ],
         "yaxis": "y"
        },
        {
         "hoverlabel": {
          "namelength": 0
         },
         "hovertemplate": "Country=Italy<br>Year=%{x}<br>Value=%{y}",
         "legendgroup": "Country=Italy",
         "line": {
          "color": "#ab63fa",
          "dash": "solid"
         },
         "mode": "lines",
         "name": "Country=Italy",
         "showlegend": true,
         "type": "scatter",
         "x": [
          2006,
          2009,
          2012,
          2015,
          2006,
          2009,
          2012,
          2015
         ],
         "xaxis": "x",
         "y": [
          476.9,
          487.9,
          494.9,
          489.1,
          473.9,
          489.8,
          492.1,
          472.1
         ],
         "yaxis": "y"
        },
        {
         "hoverlabel": {
          "namelength": 0
         },
         "hovertemplate": "Country=Japan<br>Year=%{x}<br>Value=%{y}",
         "legendgroup": "Country=Japan",
         "line": {
          "color": "#FFA15A",
          "dash": "solid"
         },
         "mode": "lines",
         "name": "Country=Japan",
         "showlegend": true,
         "type": "scatter",
         "x": [
          2006,
          2009,
          2012,
          2015,
          2006,
          2009,
          2012,
          2015
         ],
         "xaxis": "x",
         "y": [
          533,
          533.8,
          551.9,
          545.1,
          529.8,
          545.4,
          541,
          531.5
         ],
         "yaxis": "y"
        },
        {
         "hoverlabel": {
          "namelength": 0
         },
         "hovertemplate": "Country=Korea<br>Year=%{x}<br>Value=%{y}",
         "legendgroup": "Country=Korea",
         "line": {
          "color": "#19d3f3",
          "dash": "solid"
         },
         "mode": "lines",
         "name": "Country=Korea",
         "showlegend": true,
         "type": "scatter",
         "x": [
          2006,
          2009,
          2012,
          2015,
          2006,
          2009,
          2012,
          2015
         ],
         "xaxis": "x",
         "y": [
          521.2,
          536.8,
          539.4,
          511.2,
          523.1,
          539.3,
          535.9,
          520.8
         ],
         "yaxis": "y"
        },
        {
         "hoverlabel": {
          "namelength": 0
         },
         "hovertemplate": "Country=Luxembourg<br>Year=%{x}<br>Value=%{y}",
         "legendgroup": "Country=Luxembourg",
         "line": {
          "color": "#FF6692",
          "dash": "solid"
         },
         "mode": "lines",
         "name": "Country=Luxembourg",
         "showlegend": true,
         "type": "scatter",
         "x": [
          2006,
          2009,
          2012,
          2015,
          2006,
          2009,
          2012,
          2015
         ],
         "xaxis": "x",
         "y": [
          490.9,
          487.3,
          498.7,
          486.7,
          481.6,
          480.5,
          483.5,
          479
         ],
         "yaxis": "y"
        },
        {
         "hoverlabel": {
          "namelength": 0
         },
         "hovertemplate": "Country=Mexico<br>Year=%{x}<br>Value=%{y}",
         "legendgroup": "Country=Mexico",
         "line": {
          "color": "#B6E880",
          "dash": "solid"
         },
         "mode": "lines",
         "name": "Country=Mexico",
         "showlegend": true,
         "type": "scatter",
         "x": [
          2006,
          2009,
          2012,
          2015,
          2006,
          2009,
          2012,
          2015
         ],
         "xaxis": "x",
         "y": [
          413.1,
          419.2,
          418.1,
          419.8,
          406.4,
          412.7,
          411.8,
          411.6
         ],
         "yaxis": "y"
        },
        {
         "hoverlabel": {
          "namelength": 0
         },
         "hovertemplate": "Country=Netherlands<br>Year=%{x}<br>Value=%{y}",
         "legendgroup": "Country=Netherlands",
         "line": {
          "color": "#FF97FF",
          "dash": "solid"
         },
         "mode": "lines",
         "name": "Country=Netherlands",
         "showlegend": true,
         "type": "scatter",
         "x": [
          2006,
          2009,
          2012,
          2015,
          2006,
          2009,
          2012,
          2015
         ],
         "xaxis": "x",
         "y": [
          528.4,
          524.2,
          523.6,
          510.6,
          521.2,
          520.3,
          520.4,
          506.5
         ],
         "yaxis": "y"
        },
        {
         "hoverlabel": {
          "namelength": 0
         },
         "hovertemplate": "Country=New Zealand<br>Year=%{x}<br>Value=%{y}",
         "legendgroup": "Country=New Zealand",
         "line": {
          "color": "#FECB52",
          "dash": "solid"
         },
         "mode": "lines",
         "name": "Country=New Zealand",
         "showlegend": true,
         "type": "scatter",
         "x": [
          2006,
          2009,
          2012,
          2015,
          2006,
          2009,
          2012,
          2015
         ],
         "xaxis": "x",
         "y": [
          528.5,
          529,
          517.9,
          515.8,
          532.2,
          535.2,
          513.3,
          510.7
         ],
         "yaxis": "y"
        },
        {
         "hoverlabel": {
          "namelength": 0
         },
         "hovertemplate": "Country=Norway<br>Year=%{x}<br>Value=%{y}",
         "legendgroup": "Country=Norway",
         "line": {
          "color": "#636efa",
          "dash": "solid"
         },
         "mode": "lines",
         "name": "Country=Norway",
         "showlegend": true,
         "type": "scatter",
         "x": [
          2006,
          2009,
          2012,
          2015,
          2006,
          2009,
          2012,
          2015
         ],
         "xaxis": "x",
         "y": [
          484.4,
          498.1,
          492.8,
          499.9,
          488.8,
          501.7,
          496.3,
          497
         ],
         "yaxis": "y"
        },
        {
         "hoverlabel": {
          "namelength": 0
         },
         "hovertemplate": "Country=Poland<br>Year=%{x}<br>Value=%{y}",
         "legendgroup": "Country=Poland",
         "line": {
          "color": "#EF553B",
          "dash": "solid"
         },
         "mode": "lines",
         "name": "Country=Poland",
         "showlegend": true,
         "type": "scatter",
         "x": [
          2006,
          2009,
          2012,
          2015,
          2006,
          2009,
          2012,
          2015
         ],
         "xaxis": "x",
         "y": [
          499.5,
          505.1,
          524.4,
          504.5,
          496.1,
          511,
          527.1,
          498.3
         ],
         "yaxis": "y"
        },
        {
         "hoverlabel": {
          "namelength": 0
         },
         "hovertemplate": "Country=Portugal<br>Year=%{x}<br>Value=%{y}",
         "legendgroup": "Country=Portugal",
         "line": {
          "color": "#00cc96",
          "dash": "solid"
         },
         "mode": "lines",
         "name": "Country=Portugal",
         "showlegend": true,
         "type": "scatter",
         "x": [
          2006,
          2009,
          2012,
          2015,
          2006,
          2009,
          2012,
          2015
         ],
         "xaxis": "x",
         "y": [
          476.9,
          491.2,
          488.3,
          506.1,
          471.9,
          494.7,
          490.2,
          496.1
         ],
         "yaxis": "y"
        },
        {
         "hoverlabel": {
          "namelength": 0
         },
         "hovertemplate": "Country=Slovak Republic<br>Year=%{x}<br>Value=%{y}",
         "legendgroup": "Country=Slovak Republic",
         "line": {
          "color": "#ab63fa",
          "dash": "solid"
         },
         "mode": "lines",
         "name": "Country=Slovak Republic",
         "showlegend": true,
         "type": "scatter",
         "x": [
          2006,
          2009,
          2012,
          2015,
          2006,
          2009,
          2012,
          2015
         ],
         "xaxis": "x",
         "y": [
          491.5,
          490,
          474.7,
          460.4,
          485.2,
          490.5,
          467.4,
          461.2
         ],
         "yaxis": "y"
        },
        {
         "hoverlabel": {
          "namelength": 0
         },
         "hovertemplate": "Country=Spain<br>Year=%{x}<br>Value=%{y}",
         "legendgroup": "Country=Spain",
         "line": {
          "color": "#FFA15A",
          "dash": "solid"
         },
         "mode": "lines",
         "name": "Country=Spain",
         "showlegend": true,
         "type": "scatter",
         "x": [
          2006,
          2009,
          2012,
          2015,
          2006,
          2009,
          2012,
          2015
         ],
         "xaxis": "x",
         "y": [
          490.6,
          491.8,
          500.1,
          496.1,
          486.2,
          484.6,
          492.7,
          489.5
         ],
         "yaxis": "y"
        },
        {
         "hoverlabel": {
          "namelength": 0
         },
         "hovertemplate": "Country=Sweden<br>Year=%{x}<br>Value=%{y}",
         "legendgroup": "Country=Sweden",
         "line": {
          "color": "#19d3f3",
          "dash": "solid"
         },
         "mode": "lines",
         "name": "Country=Sweden",
         "showlegend": true,
         "type": "scatter",
         "x": [
          2006,
          2009,
          2012,
          2015,
          2006,
          2009,
          2012,
          2015
         ],
         "xaxis": "x",
         "y": [
          504,
          493.3,
          481.2,
          491.2,
          502.7,
          497,
          488.5,
          495.7
         ],
         "yaxis": "y"
        },
        {
         "hoverlabel": {
          "namelength": 0
         },
         "hovertemplate": "Country=Switzerland<br>Year=%{x}<br>Value=%{y}",
         "legendgroup": "Country=Switzerland",
         "line": {
          "color": "#FF6692",
          "dash": "solid"
         },
         "mode": "lines",
         "name": "Country=Switzerland",
         "showlegend": true,
         "type": "scatter",
         "x": [
          2006,
          2009,
          2012,
          2015,
          2006,
          2009,
          2012,
          2015
         ],
         "xaxis": "x",
         "y": [
          514.2,
          520.5,
          518.3,
          508.4,
          508.7,
          512.5,
          512.3,
          502.3
         ],
         "yaxis": "y"
        },
        {
         "hoverlabel": {
          "namelength": 0
         },
         "hovertemplate": "Country=Turkey<br>Year=%{x}<br>Value=%{y}",
         "legendgroup": "Country=Turkey",
         "line": {
          "color": "#B6E880",
          "dash": "solid"
         },
         "mode": "lines",
         "name": "Country=Turkey",
         "showlegend": true,
         "type": "scatter",
         "x": [
          2006,
          2009,
          2012,
          2015,
          2006,
          2009,
          2012,
          2015
         ],
         "xaxis": "x",
         "y": [
          418.4,
          448,
          458.3,
          422.3,
          430.4,
          460.2,
          468.6,
          428.7
         ],
         "yaxis": "y"
        },
        {
         "hoverlabel": {
          "namelength": 0
         },
         "hovertemplate": "Country=United Kingdom<br>Year=%{x}<br>Value=%{y}",
         "legendgroup": "Country=United Kingdom",
         "line": {
          "color": "#FF97FF",
          "dash": "solid"
         },
         "mode": "lines",
         "name": "Country=United Kingdom",
         "showlegend": true,
         "type": "scatter",
         "x": [
          2006,
          2009,
          2012,
          2015,
          2006,
          2009,
          2012,
          2015
         ],
         "xaxis": "x",
         "y": [
          519.9,
          518.5,
          520.6,
          509.6,
          509.8,
          509.1,
          507.9,
          508.8
         ],
         "yaxis": "y"
        },
        {
         "hoverlabel": {
          "namelength": 0
         },
         "hovertemplate": "Country=United States<br>Year=%{x}<br>Value=%{y}",
         "legendgroup": "Country=United States",
         "line": {
          "color": "#FECB52",
          "dash": "solid"
         },
         "mode": "lines",
         "name": "Country=United States",
         "showlegend": true,
         "type": "scatter",
         "x": [
          2006,
          2009,
          2012,
          2015,
          2006,
          2009,
          2012,
          2015
         ],
         "xaxis": "x",
         "y": [
          489.2,
          508.7,
          496.5,
          499.6,
          488.6,
          495,
          498.3,
          492.9
         ],
         "yaxis": "y"
        },
        {
         "hoverlabel": {
          "namelength": 0
         },
         "hovertemplate": "Country=Brazil<br>Year=%{x}<br>Value=%{y}",
         "legendgroup": "Country=Brazil",
         "line": {
          "color": "#636efa",
          "dash": "solid"
         },
         "mode": "lines",
         "name": "Country=Brazil",
         "showlegend": true,
         "type": "scatter",
         "x": [
          2006,
          2009,
          2012,
          2015,
          2006,
          2009,
          2012,
          2015
         ],
         "xaxis": "x",
         "y": [
          395.1,
          407.2,
          405.5,
          402.8,
          386.2,
          403.8,
          403.9,
          398.7
         ],
         "yaxis": "y"
        },
        {
         "hoverlabel": {
          "namelength": 0
         },
         "hovertemplate": "Country=Chile<br>Year=%{x}<br>Value=%{y}",
         "legendgroup": "Country=Chile",
         "line": {
          "color": "#EF553B",
          "dash": "solid"
         },
         "mode": "lines",
         "name": "Country=Chile",
         "showlegend": true,
         "type": "scatter",
         "x": [
          2006,
          2009,
          2012,
          2015,
          2006,
          2009,
          2012,
          2015
         ],
         "xaxis": "x",
         "y": [
          448.1,
          451.9,
          448.4,
          454.2,
          426.5,
          442.9,
          441.6,
          439.6
         ],
         "yaxis": "y"
        },
        {
         "hoverlabel": {
          "namelength": 0
         },
         "hovertemplate": "Country=Estonia<br>Year=%{x}<br>Value=%{y}",
         "legendgroup": "Country=Estonia",
         "line": {
          "color": "#00cc96",
          "dash": "solid"
         },
         "mode": "lines",
         "name": "Country=Estonia",
         "showlegend": true,
         "type": "scatter",
         "x": [
          2006,
          2009,
          2012,
          2015,
          2006,
          2009,
          2012,
          2015
         ],
         "xaxis": "x",
         "y": [
          529.6,
          527.4,
          540.2,
          535.8,
          533.3,
          528.3,
          542.6,
          532.5
         ],
         "yaxis": "y"
        },
        {
         "hoverlabel": {
          "namelength": 0
         },
         "hovertemplate": "Country=Indonesia<br>Year=%{x}<br>Value=%{y}",
         "legendgroup": "Country=Indonesia",
         "line": {
          "color": "#ab63fa",
          "dash": "solid"
         },
         "mode": "lines",
         "name": "Country=Indonesia",
         "showlegend": true,
         "type": "scatter",
         "x": [
          2006,
          2009,
          2012,
          2015,
          2006,
          2009,
          2012,
          2015
         ],
         "xaxis": "x",
         "y": [
          399.2,
          378.1,
          380.4,
          401.1,
          387.4,
          386.9,
          383.5,
          405.1
         ],
         "yaxis": "y"
        },
        {
         "hoverlabel": {
          "namelength": 0
         },
         "hovertemplate": "Country=Israel<br>Year=%{x}<br>Value=%{y}",
         "legendgroup": "Country=Israel",
         "line": {
          "color": "#FFA15A",
          "dash": "solid"
         },
         "mode": "lines",
         "name": "Country=Israel",
         "showlegend": true,
         "type": "scatter",
         "x": [
          2006,
          2009,
          2012,
          2015,
          2006,
          2009,
          2012,
          2015
         ],
         "xaxis": "x",
         "y": [
          455.6,
          453.4,
          469.7,
          468.7,
          452.2,
          456.2,
          470.4,
          464.4
         ],
         "yaxis": "y"
        },
        {
         "hoverlabel": {
          "namelength": 0
         },
         "hovertemplate": "Country=Russia<br>Year=%{x}<br>Value=%{y}",
         "legendgroup": "Country=Russia",
         "line": {
          "color": "#19d3f3",
          "dash": "solid"
         },
         "mode": "lines",
         "name": "Country=Russia",
         "showlegend": true,
         "type": "scatter",
         "x": [
          2006,
          2009,
          2012,
          2015,
          2006,
          2009,
          2012,
          2015
         ],
         "xaxis": "x",
         "y": [
          480.9,
          476.7,
          483.5,
          488.8,
          478.1,
          479.8,
          489.1,
          484.5
         ],
         "yaxis": "y"
        },
        {
         "hoverlabel": {
          "namelength": 0
         },
         "hovertemplate": "Country=Slovenia<br>Year=%{x}<br>Value=%{y}",
         "legendgroup": "Country=Slovenia",
         "line": {
          "color": "#FF6692",
          "dash": "solid"
         },
         "mode": "lines",
         "name": "Country=Slovenia",
         "showlegend": true,
         "type": "scatter",
         "x": [
          2006,
          2009,
          2012,
          2015,
          2006,
          2009,
          2012,
          2015
         ],
         "xaxis": "x",
         "y": [
          514.9,
          505,
          509.9,
          510.1,
          522.7,
          518.8,
          518.7,
          515.8
         ],
         "yaxis": "y"
        },
        {
         "hoverlabel": {
          "namelength": 0
         },
         "hovertemplate": "Country=Bulgaria<br>Year=%{x}<br>Value=%{y}",
         "legendgroup": "Country=Bulgaria",
         "line": {
          "color": "#B6E880",
          "dash": "solid"
         },
         "mode": "lines",
         "name": "Country=Bulgaria",
         "showlegend": true,
         "type": "scatter",
         "x": [
          2006,
          2009,
          2012,
          2015,
          2006,
          2009,
          2012,
          2015
         ],
         "xaxis": "x",
         "y": [
          425.9,
          429.7,
          436.7,
          438.5,
          442.9,
          449.6,
          456.9,
          453.9
         ],
         "yaxis": "y"
        },
        {
         "hoverlabel": {
          "namelength": 0
         },
         "hovertemplate": "Country=Colombia<br>Year=%{x}<br>Value=%{y}",
         "legendgroup": "Country=Colombia",
         "line": {
          "color": "#FF97FF",
          "dash": "solid"
         },
         "mode": "lines",
         "name": "Country=Colombia",
         "showlegend": true,
         "type": "scatter",
         "x": [
          2006,
          2009,
          2012,
          2015,
          2006,
          2009,
          2012,
          2015
         ],
         "xaxis": "x",
         "y": [
          392.9,
          412.9,
          408,
          421,
          383.9,
          391.6,
          390.4,
          411
         ],
         "yaxis": "y"
        },
        {
         "hoverlabel": {
          "namelength": 0
         },
         "hovertemplate": "Country=Costa Rica<br>Year=%{x}<br>Value=%{y}",
         "legendgroup": "Country=Costa Rica",
         "line": {
          "color": "#FECB52",
          "dash": "solid"
         },
         "mode": "lines",
         "name": "Country=Costa Rica",
         "showlegend": true,
         "type": "scatter",
         "x": [
          2012,
          2015,
          2012,
          2015
         ],
         "xaxis": "x",
         "y": [
          435.6,
          428.7,
          423.8,
          410.8
         ],
         "yaxis": "y"
        },
        {
         "hoverlabel": {
          "namelength": 0
         },
         "hovertemplate": "Country=Croatia<br>Year=%{x}<br>Value=%{y}",
         "legendgroup": "Country=Croatia",
         "line": {
          "color": "#636efa",
          "dash": "solid"
         },
         "mode": "lines",
         "name": "Country=Croatia",
         "showlegend": true,
         "type": "scatter",
         "x": [
          2006,
          2009,
          2012,
          2015,
          2006,
          2009,
          2012,
          2015
         ],
         "xaxis": "x",
         "y": [
          492,
          482.2,
          490.2,
          478.4,
          494.4,
          491,
          492.5,
          472.6
         ],
         "yaxis": "y"
        },
        {
         "hoverlabel": {
          "namelength": 0
         },
         "hovertemplate": "Country=Cyprus<br>Year=%{x}<br>Value=%{y}",
         "legendgroup": "Country=Cyprus",
         "line": {
          "color": "#EF553B",
          "dash": "solid"
         },
         "mode": "lines",
         "name": "Country=Cyprus",
         "showlegend": true,
         "type": "scatter",
         "x": [
          2015,
          2015
         ],
         "xaxis": "x",
         "y": [
          424.1,
          440.9
         ],
         "yaxis": "y"
        },
        {
         "hoverlabel": {
          "namelength": 0
         },
         "hovertemplate": "Country=Latvia<br>Year=%{x}<br>Value=%{y}",
         "legendgroup": "Country=Latvia",
         "line": {
          "color": "#00cc96",
          "dash": "solid"
         },
         "mode": "lines",
         "name": "Country=Latvia",
         "showlegend": true,
         "type": "scatter",
         "x": [
          2006,
          2009,
          2012,
          2015,
          2006,
          2009,
          2012,
          2015
         ],
         "xaxis": "x",
         "y": [
          485.9,
          490.4,
          494.5,
          484.9,
          493,
          497.2,
          510,
          495.6
         ],
         "yaxis": "y"
        },
        {
         "hoverlabel": {
          "namelength": 0
         },
         "hovertemplate": "Country=Lithuania<br>Year=%{x}<br>Value=%{y}",
         "legendgroup": "Country=Lithuania",
         "line": {
          "color": "#ab63fa",
          "dash": "solid"
         },
         "mode": "lines",
         "name": "Country=Lithuania",
         "showlegend": true,
         "type": "scatter",
         "x": [
          2006,
          2009,
          2012,
          2015,
          2006,
          2009,
          2012,
          2015
         ],
         "xaxis": "x",
         "y": [
          483.4,
          482.9,
          488.3,
          471.8,
          492.7,
          500.1,
          503.2,
          479.2
         ],
         "yaxis": "y"
        },
        {
         "hoverlabel": {
          "namelength": 0
         },
         "hovertemplate": "Country=Malta<br>Year=%{x}<br>Value=%{y}",
         "legendgroup": "Country=Malta",
         "line": {
          "color": "#FFA15A",
          "dash": "solid"
         },
         "mode": "lines",
         "name": "Country=Malta",
         "showlegend": true,
         "type": "scatter",
         "x": [
          2015,
          2015
         ],
         "xaxis": "x",
         "y": [
          459.5,
          470.2
         ],
         "yaxis": "y"
        },
        {
         "hoverlabel": {
          "namelength": 0
         },
         "hovertemplate": "Country=Romania<br>Year=%{x}<br>Value=%{y}",
         "legendgroup": "Country=Romania",
         "line": {
          "color": "#19d3f3",
          "dash": "solid"
         },
         "mode": "lines",
         "name": "Country=Romania",
         "showlegend": true,
         "type": "scatter",
         "x": [
          2006,
          2009,
          2012,
          2015,
          2006,
          2009,
          2012,
          2015
         ],
         "xaxis": "x",
         "y": [
          417.3,
          423.1,
          436.2,
          431.9,
          419.5,
          433.1,
          441.3,
          437.9
         ],
         "yaxis": "y"
        }
       ],
       "layout": {
        "height": 600,
        "legend": {
         "tracegroupgap": 0
        },
        "margin": {
         "t": 60
        },
        "template": {
         "data": {
          "bar": [
           {
            "error_x": {
             "color": "#2a3f5f"
            },
            "error_y": {
             "color": "#2a3f5f"
            },
            "marker": {
             "line": {
              "color": "#E5ECF6",
              "width": 0.5
             }
            },
            "type": "bar"
           }
          ],
          "barpolar": [
           {
            "marker": {
             "line": {
              "color": "#E5ECF6",
              "width": 0.5
             }
            },
            "type": "barpolar"
           }
          ],
          "carpet": [
           {
            "aaxis": {
             "endlinecolor": "#2a3f5f",
             "gridcolor": "white",
             "linecolor": "white",
             "minorgridcolor": "white",
             "startlinecolor": "#2a3f5f"
            },
            "baxis": {
             "endlinecolor": "#2a3f5f",
             "gridcolor": "white",
             "linecolor": "white",
             "minorgridcolor": "white",
             "startlinecolor": "#2a3f5f"
            },
            "type": "carpet"
           }
          ],
          "choropleth": [
           {
            "colorbar": {
             "outlinewidth": 0,
             "ticks": ""
            },
            "type": "choropleth"
           }
          ],
          "contour": [
           {
            "colorbar": {
             "outlinewidth": 0,
             "ticks": ""
            },
            "colorscale": [
             [
              0,
              "#0d0887"
             ],
             [
              0.1111111111111111,
              "#46039f"
             ],
             [
              0.2222222222222222,
              "#7201a8"
             ],
             [
              0.3333333333333333,
              "#9c179e"
             ],
             [
              0.4444444444444444,
              "#bd3786"
             ],
             [
              0.5555555555555556,
              "#d8576b"
             ],
             [
              0.6666666666666666,
              "#ed7953"
             ],
             [
              0.7777777777777778,
              "#fb9f3a"
             ],
             [
              0.8888888888888888,
              "#fdca26"
             ],
             [
              1,
              "#f0f921"
             ]
            ],
            "type": "contour"
           }
          ],
          "contourcarpet": [
           {
            "colorbar": {
             "outlinewidth": 0,
             "ticks": ""
            },
            "type": "contourcarpet"
           }
          ],
          "heatmap": [
           {
            "colorbar": {
             "outlinewidth": 0,
             "ticks": ""
            },
            "colorscale": [
             [
              0,
              "#0d0887"
             ],
             [
              0.1111111111111111,
              "#46039f"
             ],
             [
              0.2222222222222222,
              "#7201a8"
             ],
             [
              0.3333333333333333,
              "#9c179e"
             ],
             [
              0.4444444444444444,
              "#bd3786"
             ],
             [
              0.5555555555555556,
              "#d8576b"
             ],
             [
              0.6666666666666666,
              "#ed7953"
             ],
             [
              0.7777777777777778,
              "#fb9f3a"
             ],
             [
              0.8888888888888888,
              "#fdca26"
             ],
             [
              1,
              "#f0f921"
             ]
            ],
            "type": "heatmap"
           }
          ],
          "heatmapgl": [
           {
            "colorbar": {
             "outlinewidth": 0,
             "ticks": ""
            },
            "colorscale": [
             [
              0,
              "#0d0887"
             ],
             [
              0.1111111111111111,
              "#46039f"
             ],
             [
              0.2222222222222222,
              "#7201a8"
             ],
             [
              0.3333333333333333,
              "#9c179e"
             ],
             [
              0.4444444444444444,
              "#bd3786"
             ],
             [
              0.5555555555555556,
              "#d8576b"
             ],
             [
              0.6666666666666666,
              "#ed7953"
             ],
             [
              0.7777777777777778,
              "#fb9f3a"
             ],
             [
              0.8888888888888888,
              "#fdca26"
             ],
             [
              1,
              "#f0f921"
             ]
            ],
            "type": "heatmapgl"
           }
          ],
          "histogram": [
           {
            "marker": {
             "colorbar": {
              "outlinewidth": 0,
              "ticks": ""
             }
            },
            "type": "histogram"
           }
          ],
          "histogram2d": [
           {
            "colorbar": {
             "outlinewidth": 0,
             "ticks": ""
            },
            "colorscale": [
             [
              0,
              "#0d0887"
             ],
             [
              0.1111111111111111,
              "#46039f"
             ],
             [
              0.2222222222222222,
              "#7201a8"
             ],
             [
              0.3333333333333333,
              "#9c179e"
             ],
             [
              0.4444444444444444,
              "#bd3786"
             ],
             [
              0.5555555555555556,
              "#d8576b"
             ],
             [
              0.6666666666666666,
              "#ed7953"
             ],
             [
              0.7777777777777778,
              "#fb9f3a"
             ],
             [
              0.8888888888888888,
              "#fdca26"
             ],
             [
              1,
              "#f0f921"
             ]
            ],
            "type": "histogram2d"
           }
          ],
          "histogram2dcontour": [
           {
            "colorbar": {
             "outlinewidth": 0,
             "ticks": ""
            },
            "colorscale": [
             [
              0,
              "#0d0887"
             ],
             [
              0.1111111111111111,
              "#46039f"
             ],
             [
              0.2222222222222222,
              "#7201a8"
             ],
             [
              0.3333333333333333,
              "#9c179e"
             ],
             [
              0.4444444444444444,
              "#bd3786"
             ],
             [
              0.5555555555555556,
              "#d8576b"
             ],
             [
              0.6666666666666666,
              "#ed7953"
             ],
             [
              0.7777777777777778,
              "#fb9f3a"
             ],
             [
              0.8888888888888888,
              "#fdca26"
             ],
             [
              1,
              "#f0f921"
             ]
            ],
            "type": "histogram2dcontour"
           }
          ],
          "mesh3d": [
           {
            "colorbar": {
             "outlinewidth": 0,
             "ticks": ""
            },
            "type": "mesh3d"
           }
          ],
          "parcoords": [
           {
            "line": {
             "colorbar": {
              "outlinewidth": 0,
              "ticks": ""
             }
            },
            "type": "parcoords"
           }
          ],
          "scatter": [
           {
            "marker": {
             "colorbar": {
              "outlinewidth": 0,
              "ticks": ""
             }
            },
            "type": "scatter"
           }
          ],
          "scatter3d": [
           {
            "line": {
             "colorbar": {
              "outlinewidth": 0,
              "ticks": ""
             }
            },
            "marker": {
             "colorbar": {
              "outlinewidth": 0,
              "ticks": ""
             }
            },
            "type": "scatter3d"
           }
          ],
          "scattercarpet": [
           {
            "marker": {
             "colorbar": {
              "outlinewidth": 0,
              "ticks": ""
             }
            },
            "type": "scattercarpet"
           }
          ],
          "scattergeo": [
           {
            "marker": {
             "colorbar": {
              "outlinewidth": 0,
              "ticks": ""
             }
            },
            "type": "scattergeo"
           }
          ],
          "scattergl": [
           {
            "marker": {
             "colorbar": {
              "outlinewidth": 0,
              "ticks": ""
             }
            },
            "type": "scattergl"
           }
          ],
          "scattermapbox": [
           {
            "marker": {
             "colorbar": {
              "outlinewidth": 0,
              "ticks": ""
             }
            },
            "type": "scattermapbox"
           }
          ],
          "scatterpolar": [
           {
            "marker": {
             "colorbar": {
              "outlinewidth": 0,
              "ticks": ""
             }
            },
            "type": "scatterpolar"
           }
          ],
          "scatterpolargl": [
           {
            "marker": {
             "colorbar": {
              "outlinewidth": 0,
              "ticks": ""
             }
            },
            "type": "scatterpolargl"
           }
          ],
          "scatterternary": [
           {
            "marker": {
             "colorbar": {
              "outlinewidth": 0,
              "ticks": ""
             }
            },
            "type": "scatterternary"
           }
          ],
          "surface": [
           {
            "colorbar": {
             "outlinewidth": 0,
             "ticks": ""
            },
            "colorscale": [
             [
              0,
              "#0d0887"
             ],
             [
              0.1111111111111111,
              "#46039f"
             ],
             [
              0.2222222222222222,
              "#7201a8"
             ],
             [
              0.3333333333333333,
              "#9c179e"
             ],
             [
              0.4444444444444444,
              "#bd3786"
             ],
             [
              0.5555555555555556,
              "#d8576b"
             ],
             [
              0.6666666666666666,
              "#ed7953"
             ],
             [
              0.7777777777777778,
              "#fb9f3a"
             ],
             [
              0.8888888888888888,
              "#fdca26"
             ],
             [
              1,
              "#f0f921"
             ]
            ],
            "type": "surface"
           }
          ],
          "table": [
           {
            "cells": {
             "fill": {
              "color": "#EBF0F8"
             },
             "line": {
              "color": "white"
             }
            },
            "header": {
             "fill": {
              "color": "#C8D4E3"
             },
             "line": {
              "color": "white"
             }
            },
            "type": "table"
           }
          ]
         },
         "layout": {
          "annotationdefaults": {
           "arrowcolor": "#2a3f5f",
           "arrowhead": 0,
           "arrowwidth": 1
          },
          "colorscale": {
           "diverging": [
            [
             0,
             "#8e0152"
            ],
            [
             0.1,
             "#c51b7d"
            ],
            [
             0.2,
             "#de77ae"
            ],
            [
             0.3,
             "#f1b6da"
            ],
            [
             0.4,
             "#fde0ef"
            ],
            [
             0.5,
             "#f7f7f7"
            ],
            [
             0.6,
             "#e6f5d0"
            ],
            [
             0.7,
             "#b8e186"
            ],
            [
             0.8,
             "#7fbc41"
            ],
            [
             0.9,
             "#4d9221"
            ],
            [
             1,
             "#276419"
            ]
           ],
           "sequential": [
            [
             0,
             "#0d0887"
            ],
            [
             0.1111111111111111,
             "#46039f"
            ],
            [
             0.2222222222222222,
             "#7201a8"
            ],
            [
             0.3333333333333333,
             "#9c179e"
            ],
            [
             0.4444444444444444,
             "#bd3786"
            ],
            [
             0.5555555555555556,
             "#d8576b"
            ],
            [
             0.6666666666666666,
             "#ed7953"
            ],
            [
             0.7777777777777778,
             "#fb9f3a"
            ],
            [
             0.8888888888888888,
             "#fdca26"
            ],
            [
             1,
             "#f0f921"
            ]
           ],
           "sequentialminus": [
            [
             0,
             "#0d0887"
            ],
            [
             0.1111111111111111,
             "#46039f"
            ],
            [
             0.2222222222222222,
             "#7201a8"
            ],
            [
             0.3333333333333333,
             "#9c179e"
            ],
            [
             0.4444444444444444,
             "#bd3786"
            ],
            [
             0.5555555555555556,
             "#d8576b"
            ],
            [
             0.6666666666666666,
             "#ed7953"
            ],
            [
             0.7777777777777778,
             "#fb9f3a"
            ],
            [
             0.8888888888888888,
             "#fdca26"
            ],
            [
             1,
             "#f0f921"
            ]
           ]
          },
          "colorway": [
           "#636efa",
           "#EF553B",
           "#00cc96",
           "#ab63fa",
           "#FFA15A",
           "#19d3f3",
           "#FF6692",
           "#B6E880",
           "#FF97FF",
           "#FECB52"
          ],
          "font": {
           "color": "#2a3f5f"
          },
          "geo": {
           "bgcolor": "white",
           "lakecolor": "white",
           "landcolor": "#E5ECF6",
           "showlakes": true,
           "showland": true,
           "subunitcolor": "white"
          },
          "hoverlabel": {
           "align": "left"
          },
          "hovermode": "closest",
          "mapbox": {
           "style": "light"
          },
          "paper_bgcolor": "white",
          "plot_bgcolor": "#E5ECF6",
          "polar": {
           "angularaxis": {
            "gridcolor": "white",
            "linecolor": "white",
            "ticks": ""
           },
           "bgcolor": "#E5ECF6",
           "radialaxis": {
            "gridcolor": "white",
            "linecolor": "white",
            "ticks": ""
           }
          },
          "scene": {
           "xaxis": {
            "backgroundcolor": "#E5ECF6",
            "gridcolor": "white",
            "gridwidth": 2,
            "linecolor": "white",
            "showbackground": true,
            "ticks": "",
            "zerolinecolor": "white"
           },
           "yaxis": {
            "backgroundcolor": "#E5ECF6",
            "gridcolor": "white",
            "gridwidth": 2,
            "linecolor": "white",
            "showbackground": true,
            "ticks": "",
            "zerolinecolor": "white"
           },
           "zaxis": {
            "backgroundcolor": "#E5ECF6",
            "gridcolor": "white",
            "gridwidth": 2,
            "linecolor": "white",
            "showbackground": true,
            "ticks": "",
            "zerolinecolor": "white"
           }
          },
          "shapedefaults": {
           "line": {
            "color": "#2a3f5f"
           }
          },
          "ternary": {
           "aaxis": {
            "gridcolor": "white",
            "linecolor": "white",
            "ticks": ""
           },
           "baxis": {
            "gridcolor": "white",
            "linecolor": "white",
            "ticks": ""
           },
           "bgcolor": "#E5ECF6",
           "caxis": {
            "gridcolor": "white",
            "linecolor": "white",
            "ticks": ""
           }
          },
          "title": {
           "x": 0.05
          },
          "xaxis": {
           "automargin": true,
           "gridcolor": "white",
           "linecolor": "white",
           "ticks": "",
           "zerolinecolor": "white",
           "zerolinewidth": 2
          },
          "yaxis": {
           "automargin": true,
           "gridcolor": "white",
           "linecolor": "white",
           "ticks": "",
           "zerolinecolor": "white",
           "zerolinewidth": 2
          }
         }
        },
        "xaxis": {
         "anchor": "y",
         "domain": [
          0,
          0.98
         ],
         "title": {
          "text": "Year"
         }
        },
        "yaxis": {
         "anchor": "x",
         "domain": [
          0,
          1
         ],
         "title": {
          "text": "Value"
         }
        }
       }
      },
      "text/html": [
       "<div>\n",
       "        \n",
       "        \n",
       "            <div id=\"aefd3831-ba57-4d2d-ade2-d2676b110688\" class=\"plotly-graph-div\" style=\"height:600px; width:100%;\"></div>\n",
       "            <script type=\"text/javascript\">\n",
       "                require([\"plotly\"], function(Plotly) {\n",
       "                    window.PLOTLYENV=window.PLOTLYENV || {};\n",
       "                    \n",
       "                if (document.getElementById(\"aefd3831-ba57-4d2d-ade2-d2676b110688\")) {\n",
       "                    Plotly.newPlot(\n",
       "                        'aefd3831-ba57-4d2d-ade2-d2676b110688',\n",
       "                        [{\"hoverlabel\": {\"namelength\": 0}, \"hovertemplate\": \"Country=Australia<br>Year=%{x}<br>Value=%{y}\", \"legendgroup\": \"Country=Australia\", \"line\": {\"color\": \"#636efa\", \"dash\": \"solid\"}, \"mode\": \"lines\", \"name\": \"Country=Australia\", \"showlegend\": true, \"type\": \"scatter\", \"x\": [2006, 2009, 2012, 2015, 2006, 2009, 2012, 2015], \"xaxis\": \"x\", \"y\": [526.9, 526.8, 523.7, 511.0, 526.9, 527.7, 519.1, 508.9], \"yaxis\": \"y\"}, {\"hoverlabel\": {\"namelength\": 0}, \"hovertemplate\": \"Country=Austria<br>Year=%{x}<br>Value=%{y}\", \"legendgroup\": \"Country=Austria\", \"line\": {\"color\": \"#EF553B\", \"dash\": \"solid\"}, \"mode\": \"lines\", \"name\": \"Country=Austria\", \"showlegend\": true, \"type\": \"scatter\", \"x\": [2006, 2009, 2012, 2015, 2006, 2009, 2012, 2015], \"xaxis\": \"x\", \"y\": [514.5, 498.3, 510.1, 504.4, 507.0, 490.5, 501.5, 485.5], \"yaxis\": \"y\"}, {\"hoverlabel\": {\"namelength\": 0}, \"hovertemplate\": \"Country=Belgium<br>Year=%{x}<br>Value=%{y}\", \"legendgroup\": \"Country=Belgium\", \"line\": {\"color\": \"#00cc96\", \"dash\": \"solid\"}, \"mode\": \"lines\", \"name\": \"Country=Belgium\", \"showlegend\": true, \"type\": \"scatter\", \"x\": [2006, 2009, 2012, 2015, 2006, 2009, 2012, 2015], \"xaxis\": \"x\", \"y\": [510.7, 509.7, 506.8, 507.8, 510.0, 503.3, 502.9, 496.0], \"yaxis\": \"y\"}, {\"hoverlabel\": {\"namelength\": 0}, \"hovertemplate\": \"Country=Canada<br>Year=%{x}<br>Value=%{y}\", \"legendgroup\": \"Country=Canada\", \"line\": {\"color\": \"#ab63fa\", \"dash\": \"solid\"}, \"mode\": \"lines\", \"name\": \"Country=Canada\", \"showlegend\": true, \"type\": \"scatter\", \"x\": [2006, 2009, 2012, 2015, 2006, 2009, 2012, 2015], \"xaxis\": \"x\", \"y\": [536.5, 531.0, 526.9, 528.3, 532.4, 526.4, 524.0, 527.2], \"yaxis\": \"y\"}, {\"hoverlabel\": {\"namelength\": 0}, \"hovertemplate\": \"Country=Czech Republic<br>Year=%{x}<br>Value=%{y}\", \"legendgroup\": \"Country=Czech Republic\", \"line\": {\"color\": \"#FFA15A\", \"dash\": \"solid\"}, \"mode\": \"lines\", \"name\": \"Country=Czech Republic\", \"showlegend\": true, \"type\": \"scatter\", \"x\": [2006, 2009, 2012, 2015, 2006, 2009, 2012, 2015], \"xaxis\": \"x\", \"y\": [515.0, 498.2, 508.7, 497.0, 510.1, 503.1, 507.9, 488.4], \"yaxis\": \"y\"}, {\"hoverlabel\": {\"namelength\": 0}, \"hovertemplate\": \"Country=Denmark<br>Year=%{x}<br>Value=%{y}\", \"legendgroup\": \"Country=Denmark\", \"line\": {\"color\": \"#19d3f3\", \"dash\": \"solid\"}, \"mode\": \"lines\", \"name\": \"Country=Denmark\", \"showlegend\": true, \"type\": \"scatter\", \"x\": [2006, 2009, 2012, 2015, 2006, 2009, 2012, 2015], \"xaxis\": \"x\", \"y\": [500.4, 505.2, 503.5, 504.9, 491.5, 493.6, 493.4, 498.9], \"yaxis\": \"y\"}, {\"hoverlabel\": {\"namelength\": 0}, \"hovertemplate\": \"Country=Finland<br>Year=%{x}<br>Value=%{y}\", \"legendgroup\": \"Country=Finland\", \"line\": {\"color\": \"#FF6692\", \"dash\": \"solid\"}, \"mode\": \"lines\", \"name\": \"Country=Finland\", \"showlegend\": true, \"type\": \"scatter\", \"x\": [2006, 2009, 2012, 2015, 2006, 2009, 2012, 2015], \"xaxis\": \"x\", \"y\": [561.8, 546.4, 537.4, 521.5, 564.9, 561.8, 553.9, 540.5], \"yaxis\": \"y\"}, {\"hoverlabel\": {\"namelength\": 0}, \"hovertemplate\": \"Country=France<br>Year=%{x}<br>Value=%{y}\", \"legendgroup\": \"Country=France\", \"line\": {\"color\": \"#B6E880\", \"dash\": \"solid\"}, \"mode\": \"lines\", \"name\": \"Country=France\", \"showlegend\": true, \"type\": \"scatter\", \"x\": [2006, 2009, 2012, 2015, 2006, 2009, 2012, 2015], \"xaxis\": \"x\", \"y\": [496.6, 499.9, 497.7, 495.9, 493.9, 496.6, 500.2, 494.0], \"yaxis\": \"y\"}, {\"hoverlabel\": {\"namelength\": 0}, \"hovertemplate\": \"Country=Germany<br>Year=%{x}<br>Value=%{y}\", \"legendgroup\": \"Country=Germany\", \"line\": {\"color\": \"#FF97FF\", \"dash\": \"solid\"}, \"mode\": \"lines\", \"name\": \"Country=Germany\", \"showlegend\": true, \"type\": \"scatter\", \"x\": [2006, 2009, 2012, 2015, 2006, 2009, 2012, 2015], \"xaxis\": \"x\", \"y\": [519.1, 523.1, 523.9, 514.3, 512.0, 517.6, 524.4, 503.8], \"yaxis\": \"y\"}, {\"hoverlabel\": {\"namelength\": 0}, \"hovertemplate\": \"Country=Greece<br>Year=%{x}<br>Value=%{y}\", \"legendgroup\": \"Country=Greece\", \"line\": {\"color\": \"#FECB52\", \"dash\": \"solid\"}, \"mode\": \"lines\", \"name\": \"Country=Greece\", \"showlegend\": true, \"type\": \"scatter\", \"x\": [2006, 2009, 2012, 2015, 2006, 2009, 2012, 2015], \"xaxis\": \"x\", \"y\": [467.7, 465.2, 460.0, 450.6, 479.1, 474.9, 473.3, 459.4], \"yaxis\": \"y\"}, {\"hoverlabel\": {\"namelength\": 0}, \"hovertemplate\": \"Country=Hungary<br>Year=%{x}<br>Value=%{y}\", \"legendgroup\": \"Country=Hungary\", \"line\": {\"color\": \"#636efa\", \"dash\": \"solid\"}, \"mode\": \"lines\", \"name\": \"Country=Hungary\", \"showlegend\": true, \"type\": \"scatter\", \"x\": [2006, 2009, 2012, 2015, 2006, 2009, 2012, 2015], \"xaxis\": \"x\", \"y\": [507.0, 502.7, 495.9, 478.2, 500.6, 502.6, 492.8, 475.2], \"yaxis\": \"y\"}, {\"hoverlabel\": {\"namelength\": 0}, \"hovertemplate\": \"Country=Iceland<br>Year=%{x}<br>Value=%{y}\", \"legendgroup\": \"Country=Iceland\", \"line\": {\"color\": \"#EF553B\", \"dash\": \"solid\"}, \"mode\": \"lines\", \"name\": \"Country=Iceland\", \"showlegend\": true, \"type\": \"scatter\", \"x\": [2006, 2009, 2012, 2015, 2006, 2009, 2012, 2015], \"xaxis\": \"x\", \"y\": [487.7, 496.5, 476.7, 471.7, 493.9, 494.7, 479.7, 474.7], \"yaxis\": \"y\"}, {\"hoverlabel\": {\"namelength\": 0}, \"hovertemplate\": \"Country=Ireland<br>Year=%{x}<br>Value=%{y}\", \"legendgroup\": \"Country=Ireland\", \"line\": {\"color\": \"#00cc96\", \"dash\": \"solid\"}, \"mode\": \"lines\", \"name\": \"Country=Ireland\", \"showlegend\": true, \"type\": \"scatter\", \"x\": [2006, 2009, 2012, 2015, 2006, 2009, 2012, 2015], \"xaxis\": \"x\", \"y\": [508.1, 506.6, 523.9, 507.7, 508.5, 509.4, 520.0, 497.2], \"yaxis\": \"y\"}, {\"hoverlabel\": {\"namelength\": 0}, \"hovertemplate\": \"Country=Italy<br>Year=%{x}<br>Value=%{y}\", \"legendgroup\": \"Country=Italy\", \"line\": {\"color\": \"#ab63fa\", \"dash\": \"solid\"}, \"mode\": \"lines\", \"name\": \"Country=Italy\", \"showlegend\": true, \"type\": \"scatter\", \"x\": [2006, 2009, 2012, 2015, 2006, 2009, 2012, 2015], \"xaxis\": \"x\", \"y\": [476.9, 487.9, 494.9, 489.1, 473.9, 489.8, 492.1, 472.1], \"yaxis\": \"y\"}, {\"hoverlabel\": {\"namelength\": 0}, \"hovertemplate\": \"Country=Japan<br>Year=%{x}<br>Value=%{y}\", \"legendgroup\": \"Country=Japan\", \"line\": {\"color\": \"#FFA15A\", \"dash\": \"solid\"}, \"mode\": \"lines\", \"name\": \"Country=Japan\", \"showlegend\": true, \"type\": \"scatter\", \"x\": [2006, 2009, 2012, 2015, 2006, 2009, 2012, 2015], \"xaxis\": \"x\", \"y\": [533.0, 533.8, 551.9, 545.1, 529.8, 545.4, 541.0, 531.5], \"yaxis\": \"y\"}, {\"hoverlabel\": {\"namelength\": 0}, \"hovertemplate\": \"Country=Korea<br>Year=%{x}<br>Value=%{y}\", \"legendgroup\": \"Country=Korea\", \"line\": {\"color\": \"#19d3f3\", \"dash\": \"solid\"}, \"mode\": \"lines\", \"name\": \"Country=Korea\", \"showlegend\": true, \"type\": \"scatter\", \"x\": [2006, 2009, 2012, 2015, 2006, 2009, 2012, 2015], \"xaxis\": \"x\", \"y\": [521.2, 536.8, 539.4, 511.2, 523.1, 539.3, 535.9, 520.8], \"yaxis\": \"y\"}, {\"hoverlabel\": {\"namelength\": 0}, \"hovertemplate\": \"Country=Luxembourg<br>Year=%{x}<br>Value=%{y}\", \"legendgroup\": \"Country=Luxembourg\", \"line\": {\"color\": \"#FF6692\", \"dash\": \"solid\"}, \"mode\": \"lines\", \"name\": \"Country=Luxembourg\", \"showlegend\": true, \"type\": \"scatter\", \"x\": [2006, 2009, 2012, 2015, 2006, 2009, 2012, 2015], \"xaxis\": \"x\", \"y\": [490.9, 487.3, 498.7, 486.7, 481.6, 480.5, 483.5, 479.0], \"yaxis\": \"y\"}, {\"hoverlabel\": {\"namelength\": 0}, \"hovertemplate\": \"Country=Mexico<br>Year=%{x}<br>Value=%{y}\", \"legendgroup\": \"Country=Mexico\", \"line\": {\"color\": \"#B6E880\", \"dash\": \"solid\"}, \"mode\": \"lines\", \"name\": \"Country=Mexico\", \"showlegend\": true, \"type\": \"scatter\", \"x\": [2006, 2009, 2012, 2015, 2006, 2009, 2012, 2015], \"xaxis\": \"x\", \"y\": [413.1, 419.2, 418.1, 419.8, 406.4, 412.7, 411.8, 411.6], \"yaxis\": \"y\"}, {\"hoverlabel\": {\"namelength\": 0}, \"hovertemplate\": \"Country=Netherlands<br>Year=%{x}<br>Value=%{y}\", \"legendgroup\": \"Country=Netherlands\", \"line\": {\"color\": \"#FF97FF\", \"dash\": \"solid\"}, \"mode\": \"lines\", \"name\": \"Country=Netherlands\", \"showlegend\": true, \"type\": \"scatter\", \"x\": [2006, 2009, 2012, 2015, 2006, 2009, 2012, 2015], \"xaxis\": \"x\", \"y\": [528.4, 524.2, 523.6, 510.6, 521.2, 520.3, 520.4, 506.5], \"yaxis\": \"y\"}, {\"hoverlabel\": {\"namelength\": 0}, \"hovertemplate\": \"Country=New Zealand<br>Year=%{x}<br>Value=%{y}\", \"legendgroup\": \"Country=New Zealand\", \"line\": {\"color\": \"#FECB52\", \"dash\": \"solid\"}, \"mode\": \"lines\", \"name\": \"Country=New Zealand\", \"showlegend\": true, \"type\": \"scatter\", \"x\": [2006, 2009, 2012, 2015, 2006, 2009, 2012, 2015], \"xaxis\": \"x\", \"y\": [528.5, 529.0, 517.9, 515.8, 532.2, 535.2, 513.3, 510.7], \"yaxis\": \"y\"}, {\"hoverlabel\": {\"namelength\": 0}, \"hovertemplate\": \"Country=Norway<br>Year=%{x}<br>Value=%{y}\", \"legendgroup\": \"Country=Norway\", \"line\": {\"color\": \"#636efa\", \"dash\": \"solid\"}, \"mode\": \"lines\", \"name\": \"Country=Norway\", \"showlegend\": true, \"type\": \"scatter\", \"x\": [2006, 2009, 2012, 2015, 2006, 2009, 2012, 2015], \"xaxis\": \"x\", \"y\": [484.4, 498.1, 492.8, 499.9, 488.8, 501.7, 496.3, 497.0], \"yaxis\": \"y\"}, {\"hoverlabel\": {\"namelength\": 0}, \"hovertemplate\": \"Country=Poland<br>Year=%{x}<br>Value=%{y}\", \"legendgroup\": \"Country=Poland\", \"line\": {\"color\": \"#EF553B\", \"dash\": \"solid\"}, \"mode\": \"lines\", \"name\": \"Country=Poland\", \"showlegend\": true, \"type\": \"scatter\", \"x\": [2006, 2009, 2012, 2015, 2006, 2009, 2012, 2015], \"xaxis\": \"x\", \"y\": [499.5, 505.1, 524.4, 504.5, 496.1, 511.0, 527.1, 498.3], \"yaxis\": \"y\"}, {\"hoverlabel\": {\"namelength\": 0}, \"hovertemplate\": \"Country=Portugal<br>Year=%{x}<br>Value=%{y}\", \"legendgroup\": \"Country=Portugal\", \"line\": {\"color\": \"#00cc96\", \"dash\": \"solid\"}, \"mode\": \"lines\", \"name\": \"Country=Portugal\", \"showlegend\": true, \"type\": \"scatter\", \"x\": [2006, 2009, 2012, 2015, 2006, 2009, 2012, 2015], \"xaxis\": \"x\", \"y\": [476.9, 491.2, 488.3, 506.1, 471.9, 494.7, 490.2, 496.1], \"yaxis\": \"y\"}, {\"hoverlabel\": {\"namelength\": 0}, \"hovertemplate\": \"Country=Slovak Republic<br>Year=%{x}<br>Value=%{y}\", \"legendgroup\": \"Country=Slovak Republic\", \"line\": {\"color\": \"#ab63fa\", \"dash\": \"solid\"}, \"mode\": \"lines\", \"name\": \"Country=Slovak Republic\", \"showlegend\": true, \"type\": \"scatter\", \"x\": [2006, 2009, 2012, 2015, 2006, 2009, 2012, 2015], \"xaxis\": \"x\", \"y\": [491.5, 490.0, 474.7, 460.4, 485.2, 490.5, 467.4, 461.2], \"yaxis\": \"y\"}, {\"hoverlabel\": {\"namelength\": 0}, \"hovertemplate\": \"Country=Spain<br>Year=%{x}<br>Value=%{y}\", \"legendgroup\": \"Country=Spain\", \"line\": {\"color\": \"#FFA15A\", \"dash\": \"solid\"}, \"mode\": \"lines\", \"name\": \"Country=Spain\", \"showlegend\": true, \"type\": \"scatter\", \"x\": [2006, 2009, 2012, 2015, 2006, 2009, 2012, 2015], \"xaxis\": \"x\", \"y\": [490.6, 491.8, 500.1, 496.1, 486.2, 484.6, 492.7, 489.5], \"yaxis\": \"y\"}, {\"hoverlabel\": {\"namelength\": 0}, \"hovertemplate\": \"Country=Sweden<br>Year=%{x}<br>Value=%{y}\", \"legendgroup\": \"Country=Sweden\", \"line\": {\"color\": \"#19d3f3\", \"dash\": \"solid\"}, \"mode\": \"lines\", \"name\": \"Country=Sweden\", \"showlegend\": true, \"type\": \"scatter\", \"x\": [2006, 2009, 2012, 2015, 2006, 2009, 2012, 2015], \"xaxis\": \"x\", \"y\": [504.0, 493.3, 481.2, 491.2, 502.7, 497.0, 488.5, 495.7], \"yaxis\": \"y\"}, {\"hoverlabel\": {\"namelength\": 0}, \"hovertemplate\": \"Country=Switzerland<br>Year=%{x}<br>Value=%{y}\", \"legendgroup\": \"Country=Switzerland\", \"line\": {\"color\": \"#FF6692\", \"dash\": \"solid\"}, \"mode\": \"lines\", \"name\": \"Country=Switzerland\", \"showlegend\": true, \"type\": \"scatter\", \"x\": [2006, 2009, 2012, 2015, 2006, 2009, 2012, 2015], \"xaxis\": \"x\", \"y\": [514.2, 520.5, 518.3, 508.4, 508.7, 512.5, 512.3, 502.3], \"yaxis\": \"y\"}, {\"hoverlabel\": {\"namelength\": 0}, \"hovertemplate\": \"Country=Turkey<br>Year=%{x}<br>Value=%{y}\", \"legendgroup\": \"Country=Turkey\", \"line\": {\"color\": \"#B6E880\", \"dash\": \"solid\"}, \"mode\": \"lines\", \"name\": \"Country=Turkey\", \"showlegend\": true, \"type\": \"scatter\", \"x\": [2006, 2009, 2012, 2015, 2006, 2009, 2012, 2015], \"xaxis\": \"x\", \"y\": [418.4, 448.0, 458.3, 422.3, 430.4, 460.2, 468.6, 428.7], \"yaxis\": \"y\"}, {\"hoverlabel\": {\"namelength\": 0}, \"hovertemplate\": \"Country=United Kingdom<br>Year=%{x}<br>Value=%{y}\", \"legendgroup\": \"Country=United Kingdom\", \"line\": {\"color\": \"#FF97FF\", \"dash\": \"solid\"}, \"mode\": \"lines\", \"name\": \"Country=United Kingdom\", \"showlegend\": true, \"type\": \"scatter\", \"x\": [2006, 2009, 2012, 2015, 2006, 2009, 2012, 2015], \"xaxis\": \"x\", \"y\": [519.9, 518.5, 520.6, 509.6, 509.8, 509.1, 507.9, 508.8], \"yaxis\": \"y\"}, {\"hoverlabel\": {\"namelength\": 0}, \"hovertemplate\": \"Country=United States<br>Year=%{x}<br>Value=%{y}\", \"legendgroup\": \"Country=United States\", \"line\": {\"color\": \"#FECB52\", \"dash\": \"solid\"}, \"mode\": \"lines\", \"name\": \"Country=United States\", \"showlegend\": true, \"type\": \"scatter\", \"x\": [2006, 2009, 2012, 2015, 2006, 2009, 2012, 2015], \"xaxis\": \"x\", \"y\": [489.2, 508.7, 496.5, 499.6, 488.6, 495.0, 498.3, 492.9], \"yaxis\": \"y\"}, {\"hoverlabel\": {\"namelength\": 0}, \"hovertemplate\": \"Country=Brazil<br>Year=%{x}<br>Value=%{y}\", \"legendgroup\": \"Country=Brazil\", \"line\": {\"color\": \"#636efa\", \"dash\": \"solid\"}, \"mode\": \"lines\", \"name\": \"Country=Brazil\", \"showlegend\": true, \"type\": \"scatter\", \"x\": [2006, 2009, 2012, 2015, 2006, 2009, 2012, 2015], \"xaxis\": \"x\", \"y\": [395.1, 407.2, 405.5, 402.8, 386.2, 403.8, 403.9, 398.7], \"yaxis\": \"y\"}, {\"hoverlabel\": {\"namelength\": 0}, \"hovertemplate\": \"Country=Chile<br>Year=%{x}<br>Value=%{y}\", \"legendgroup\": \"Country=Chile\", \"line\": {\"color\": \"#EF553B\", \"dash\": \"solid\"}, \"mode\": \"lines\", \"name\": \"Country=Chile\", \"showlegend\": true, \"type\": \"scatter\", \"x\": [2006, 2009, 2012, 2015, 2006, 2009, 2012, 2015], \"xaxis\": \"x\", \"y\": [448.1, 451.9, 448.4, 454.2, 426.5, 442.9, 441.6, 439.6], \"yaxis\": \"y\"}, {\"hoverlabel\": {\"namelength\": 0}, \"hovertemplate\": \"Country=Estonia<br>Year=%{x}<br>Value=%{y}\", \"legendgroup\": \"Country=Estonia\", \"line\": {\"color\": \"#00cc96\", \"dash\": \"solid\"}, \"mode\": \"lines\", \"name\": \"Country=Estonia\", \"showlegend\": true, \"type\": \"scatter\", \"x\": [2006, 2009, 2012, 2015, 2006, 2009, 2012, 2015], \"xaxis\": \"x\", \"y\": [529.6, 527.4, 540.2, 535.8, 533.3, 528.3, 542.6, 532.5], \"yaxis\": \"y\"}, {\"hoverlabel\": {\"namelength\": 0}, \"hovertemplate\": \"Country=Indonesia<br>Year=%{x}<br>Value=%{y}\", \"legendgroup\": \"Country=Indonesia\", \"line\": {\"color\": \"#ab63fa\", \"dash\": \"solid\"}, \"mode\": \"lines\", \"name\": \"Country=Indonesia\", \"showlegend\": true, \"type\": \"scatter\", \"x\": [2006, 2009, 2012, 2015, 2006, 2009, 2012, 2015], \"xaxis\": \"x\", \"y\": [399.2, 378.1, 380.4, 401.1, 387.4, 386.9, 383.5, 405.1], \"yaxis\": \"y\"}, {\"hoverlabel\": {\"namelength\": 0}, \"hovertemplate\": \"Country=Israel<br>Year=%{x}<br>Value=%{y}\", \"legendgroup\": \"Country=Israel\", \"line\": {\"color\": \"#FFA15A\", \"dash\": \"solid\"}, \"mode\": \"lines\", \"name\": \"Country=Israel\", \"showlegend\": true, \"type\": \"scatter\", \"x\": [2006, 2009, 2012, 2015, 2006, 2009, 2012, 2015], \"xaxis\": \"x\", \"y\": [455.6, 453.4, 469.7, 468.7, 452.2, 456.2, 470.4, 464.4], \"yaxis\": \"y\"}, {\"hoverlabel\": {\"namelength\": 0}, \"hovertemplate\": \"Country=Russia<br>Year=%{x}<br>Value=%{y}\", \"legendgroup\": \"Country=Russia\", \"line\": {\"color\": \"#19d3f3\", \"dash\": \"solid\"}, \"mode\": \"lines\", \"name\": \"Country=Russia\", \"showlegend\": true, \"type\": \"scatter\", \"x\": [2006, 2009, 2012, 2015, 2006, 2009, 2012, 2015], \"xaxis\": \"x\", \"y\": [480.9, 476.7, 483.5, 488.8, 478.1, 479.8, 489.1, 484.5], \"yaxis\": \"y\"}, {\"hoverlabel\": {\"namelength\": 0}, \"hovertemplate\": \"Country=Slovenia<br>Year=%{x}<br>Value=%{y}\", \"legendgroup\": \"Country=Slovenia\", \"line\": {\"color\": \"#FF6692\", \"dash\": \"solid\"}, \"mode\": \"lines\", \"name\": \"Country=Slovenia\", \"showlegend\": true, \"type\": \"scatter\", \"x\": [2006, 2009, 2012, 2015, 2006, 2009, 2012, 2015], \"xaxis\": \"x\", \"y\": [514.9, 505.0, 509.9, 510.1, 522.7, 518.8, 518.7, 515.8], \"yaxis\": \"y\"}, {\"hoverlabel\": {\"namelength\": 0}, \"hovertemplate\": \"Country=Bulgaria<br>Year=%{x}<br>Value=%{y}\", \"legendgroup\": \"Country=Bulgaria\", \"line\": {\"color\": \"#B6E880\", \"dash\": \"solid\"}, \"mode\": \"lines\", \"name\": \"Country=Bulgaria\", \"showlegend\": true, \"type\": \"scatter\", \"x\": [2006, 2009, 2012, 2015, 2006, 2009, 2012, 2015], \"xaxis\": \"x\", \"y\": [425.9, 429.7, 436.7, 438.5, 442.9, 449.6, 456.9, 453.9], \"yaxis\": \"y\"}, {\"hoverlabel\": {\"namelength\": 0}, \"hovertemplate\": \"Country=Colombia<br>Year=%{x}<br>Value=%{y}\", \"legendgroup\": \"Country=Colombia\", \"line\": {\"color\": \"#FF97FF\", \"dash\": \"solid\"}, \"mode\": \"lines\", \"name\": \"Country=Colombia\", \"showlegend\": true, \"type\": \"scatter\", \"x\": [2006, 2009, 2012, 2015, 2006, 2009, 2012, 2015], \"xaxis\": \"x\", \"y\": [392.9, 412.9, 408.0, 421.0, 383.9, 391.6, 390.4, 411.0], \"yaxis\": \"y\"}, {\"hoverlabel\": {\"namelength\": 0}, \"hovertemplate\": \"Country=Costa Rica<br>Year=%{x}<br>Value=%{y}\", \"legendgroup\": \"Country=Costa Rica\", \"line\": {\"color\": \"#FECB52\", \"dash\": \"solid\"}, \"mode\": \"lines\", \"name\": \"Country=Costa Rica\", \"showlegend\": true, \"type\": \"scatter\", \"x\": [2012, 2015, 2012, 2015], \"xaxis\": \"x\", \"y\": [435.6, 428.7, 423.8, 410.8], \"yaxis\": \"y\"}, {\"hoverlabel\": {\"namelength\": 0}, \"hovertemplate\": \"Country=Croatia<br>Year=%{x}<br>Value=%{y}\", \"legendgroup\": \"Country=Croatia\", \"line\": {\"color\": \"#636efa\", \"dash\": \"solid\"}, \"mode\": \"lines\", \"name\": \"Country=Croatia\", \"showlegend\": true, \"type\": \"scatter\", \"x\": [2006, 2009, 2012, 2015, 2006, 2009, 2012, 2015], \"xaxis\": \"x\", \"y\": [492.0, 482.2, 490.2, 478.4, 494.4, 491.0, 492.5, 472.6], \"yaxis\": \"y\"}, {\"hoverlabel\": {\"namelength\": 0}, \"hovertemplate\": \"Country=Cyprus<br>Year=%{x}<br>Value=%{y}\", \"legendgroup\": \"Country=Cyprus\", \"line\": {\"color\": \"#EF553B\", \"dash\": \"solid\"}, \"mode\": \"lines\", \"name\": \"Country=Cyprus\", \"showlegend\": true, \"type\": \"scatter\", \"x\": [2015, 2015], \"xaxis\": \"x\", \"y\": [424.1, 440.9], \"yaxis\": \"y\"}, {\"hoverlabel\": {\"namelength\": 0}, \"hovertemplate\": \"Country=Latvia<br>Year=%{x}<br>Value=%{y}\", \"legendgroup\": \"Country=Latvia\", \"line\": {\"color\": \"#00cc96\", \"dash\": \"solid\"}, \"mode\": \"lines\", \"name\": \"Country=Latvia\", \"showlegend\": true, \"type\": \"scatter\", \"x\": [2006, 2009, 2012, 2015, 2006, 2009, 2012, 2015], \"xaxis\": \"x\", \"y\": [485.9, 490.4, 494.5, 484.9, 493.0, 497.2, 510.0, 495.6], \"yaxis\": \"y\"}, {\"hoverlabel\": {\"namelength\": 0}, \"hovertemplate\": \"Country=Lithuania<br>Year=%{x}<br>Value=%{y}\", \"legendgroup\": \"Country=Lithuania\", \"line\": {\"color\": \"#ab63fa\", \"dash\": \"solid\"}, \"mode\": \"lines\", \"name\": \"Country=Lithuania\", \"showlegend\": true, \"type\": \"scatter\", \"x\": [2006, 2009, 2012, 2015, 2006, 2009, 2012, 2015], \"xaxis\": \"x\", \"y\": [483.4, 482.9, 488.3, 471.8, 492.7, 500.1, 503.2, 479.2], \"yaxis\": \"y\"}, {\"hoverlabel\": {\"namelength\": 0}, \"hovertemplate\": \"Country=Malta<br>Year=%{x}<br>Value=%{y}\", \"legendgroup\": \"Country=Malta\", \"line\": {\"color\": \"#FFA15A\", \"dash\": \"solid\"}, \"mode\": \"lines\", \"name\": \"Country=Malta\", \"showlegend\": true, \"type\": \"scatter\", \"x\": [2015, 2015], \"xaxis\": \"x\", \"y\": [459.5, 470.2], \"yaxis\": \"y\"}, {\"hoverlabel\": {\"namelength\": 0}, \"hovertemplate\": \"Country=Romania<br>Year=%{x}<br>Value=%{y}\", \"legendgroup\": \"Country=Romania\", \"line\": {\"color\": \"#19d3f3\", \"dash\": \"solid\"}, \"mode\": \"lines\", \"name\": \"Country=Romania\", \"showlegend\": true, \"type\": \"scatter\", \"x\": [2006, 2009, 2012, 2015, 2006, 2009, 2012, 2015], \"xaxis\": \"x\", \"y\": [417.3, 423.1, 436.2, 431.9, 419.5, 433.1, 441.3, 437.9], \"yaxis\": \"y\"}],\n",
       "                        {\"height\": 600, \"legend\": {\"tracegroupgap\": 0}, \"margin\": {\"t\": 60}, \"template\": {\"data\": {\"bar\": [{\"error_x\": {\"color\": \"#2a3f5f\"}, \"error_y\": {\"color\": \"#2a3f5f\"}, \"marker\": {\"line\": {\"color\": \"#E5ECF6\", \"width\": 0.5}}, \"type\": \"bar\"}], \"barpolar\": [{\"marker\": {\"line\": {\"color\": \"#E5ECF6\", \"width\": 0.5}}, \"type\": \"barpolar\"}], \"carpet\": [{\"aaxis\": {\"endlinecolor\": \"#2a3f5f\", \"gridcolor\": \"white\", \"linecolor\": \"white\", \"minorgridcolor\": \"white\", \"startlinecolor\": \"#2a3f5f\"}, \"baxis\": {\"endlinecolor\": \"#2a3f5f\", \"gridcolor\": \"white\", \"linecolor\": \"white\", \"minorgridcolor\": \"white\", \"startlinecolor\": \"#2a3f5f\"}, \"type\": \"carpet\"}], \"choropleth\": [{\"colorbar\": {\"outlinewidth\": 0, \"ticks\": \"\"}, \"type\": \"choropleth\"}], \"contour\": [{\"colorbar\": {\"outlinewidth\": 0, \"ticks\": \"\"}, \"colorscale\": [[0.0, \"#0d0887\"], [0.1111111111111111, \"#46039f\"], [0.2222222222222222, \"#7201a8\"], [0.3333333333333333, \"#9c179e\"], [0.4444444444444444, \"#bd3786\"], [0.5555555555555556, \"#d8576b\"], [0.6666666666666666, \"#ed7953\"], [0.7777777777777778, \"#fb9f3a\"], [0.8888888888888888, \"#fdca26\"], [1.0, \"#f0f921\"]], \"type\": \"contour\"}], \"contourcarpet\": [{\"colorbar\": {\"outlinewidth\": 0, \"ticks\": \"\"}, \"type\": \"contourcarpet\"}], \"heatmap\": [{\"colorbar\": {\"outlinewidth\": 0, \"ticks\": \"\"}, \"colorscale\": [[0.0, \"#0d0887\"], [0.1111111111111111, \"#46039f\"], [0.2222222222222222, \"#7201a8\"], [0.3333333333333333, \"#9c179e\"], [0.4444444444444444, \"#bd3786\"], [0.5555555555555556, \"#d8576b\"], [0.6666666666666666, \"#ed7953\"], [0.7777777777777778, \"#fb9f3a\"], [0.8888888888888888, \"#fdca26\"], [1.0, \"#f0f921\"]], \"type\": \"heatmap\"}], \"heatmapgl\": [{\"colorbar\": {\"outlinewidth\": 0, \"ticks\": \"\"}, \"colorscale\": [[0.0, \"#0d0887\"], [0.1111111111111111, \"#46039f\"], [0.2222222222222222, \"#7201a8\"], [0.3333333333333333, \"#9c179e\"], [0.4444444444444444, \"#bd3786\"], [0.5555555555555556, \"#d8576b\"], [0.6666666666666666, \"#ed7953\"], [0.7777777777777778, \"#fb9f3a\"], [0.8888888888888888, \"#fdca26\"], [1.0, \"#f0f921\"]], \"type\": \"heatmapgl\"}], \"histogram\": [{\"marker\": {\"colorbar\": {\"outlinewidth\": 0, \"ticks\": \"\"}}, \"type\": \"histogram\"}], \"histogram2d\": [{\"colorbar\": {\"outlinewidth\": 0, \"ticks\": \"\"}, \"colorscale\": [[0.0, \"#0d0887\"], [0.1111111111111111, \"#46039f\"], [0.2222222222222222, \"#7201a8\"], [0.3333333333333333, \"#9c179e\"], [0.4444444444444444, \"#bd3786\"], [0.5555555555555556, \"#d8576b\"], [0.6666666666666666, \"#ed7953\"], [0.7777777777777778, \"#fb9f3a\"], [0.8888888888888888, \"#fdca26\"], [1.0, \"#f0f921\"]], \"type\": \"histogram2d\"}], \"histogram2dcontour\": [{\"colorbar\": {\"outlinewidth\": 0, \"ticks\": \"\"}, \"colorscale\": [[0.0, \"#0d0887\"], [0.1111111111111111, \"#46039f\"], [0.2222222222222222, \"#7201a8\"], [0.3333333333333333, \"#9c179e\"], [0.4444444444444444, \"#bd3786\"], [0.5555555555555556, \"#d8576b\"], [0.6666666666666666, \"#ed7953\"], [0.7777777777777778, \"#fb9f3a\"], [0.8888888888888888, \"#fdca26\"], [1.0, \"#f0f921\"]], \"type\": \"histogram2dcontour\"}], \"mesh3d\": [{\"colorbar\": {\"outlinewidth\": 0, \"ticks\": \"\"}, \"type\": \"mesh3d\"}], \"parcoords\": [{\"line\": {\"colorbar\": {\"outlinewidth\": 0, \"ticks\": \"\"}}, \"type\": \"parcoords\"}], \"scatter\": [{\"marker\": {\"colorbar\": {\"outlinewidth\": 0, \"ticks\": \"\"}}, \"type\": \"scatter\"}], \"scatter3d\": [{\"line\": {\"colorbar\": {\"outlinewidth\": 0, \"ticks\": \"\"}}, \"marker\": {\"colorbar\": {\"outlinewidth\": 0, \"ticks\": \"\"}}, \"type\": \"scatter3d\"}], \"scattercarpet\": [{\"marker\": {\"colorbar\": {\"outlinewidth\": 0, \"ticks\": \"\"}}, \"type\": \"scattercarpet\"}], \"scattergeo\": [{\"marker\": {\"colorbar\": {\"outlinewidth\": 0, \"ticks\": \"\"}}, \"type\": \"scattergeo\"}], \"scattergl\": [{\"marker\": {\"colorbar\": {\"outlinewidth\": 0, \"ticks\": \"\"}}, \"type\": \"scattergl\"}], \"scattermapbox\": [{\"marker\": {\"colorbar\": {\"outlinewidth\": 0, \"ticks\": \"\"}}, \"type\": \"scattermapbox\"}], \"scatterpolar\": [{\"marker\": {\"colorbar\": {\"outlinewidth\": 0, \"ticks\": \"\"}}, \"type\": \"scatterpolar\"}], \"scatterpolargl\": [{\"marker\": {\"colorbar\": {\"outlinewidth\": 0, \"ticks\": \"\"}}, \"type\": \"scatterpolargl\"}], \"scatterternary\": [{\"marker\": {\"colorbar\": {\"outlinewidth\": 0, \"ticks\": \"\"}}, \"type\": \"scatterternary\"}], \"surface\": [{\"colorbar\": {\"outlinewidth\": 0, \"ticks\": \"\"}, \"colorscale\": [[0.0, \"#0d0887\"], [0.1111111111111111, \"#46039f\"], [0.2222222222222222, \"#7201a8\"], [0.3333333333333333, \"#9c179e\"], [0.4444444444444444, \"#bd3786\"], [0.5555555555555556, \"#d8576b\"], [0.6666666666666666, \"#ed7953\"], [0.7777777777777778, \"#fb9f3a\"], [0.8888888888888888, \"#fdca26\"], [1.0, \"#f0f921\"]], \"type\": \"surface\"}], \"table\": [{\"cells\": {\"fill\": {\"color\": \"#EBF0F8\"}, \"line\": {\"color\": \"white\"}}, \"header\": {\"fill\": {\"color\": \"#C8D4E3\"}, \"line\": {\"color\": \"white\"}}, \"type\": \"table\"}]}, \"layout\": {\"annotationdefaults\": {\"arrowcolor\": \"#2a3f5f\", \"arrowhead\": 0, \"arrowwidth\": 1}, \"colorscale\": {\"diverging\": [[0, \"#8e0152\"], [0.1, \"#c51b7d\"], [0.2, \"#de77ae\"], [0.3, \"#f1b6da\"], [0.4, \"#fde0ef\"], [0.5, \"#f7f7f7\"], [0.6, \"#e6f5d0\"], [0.7, \"#b8e186\"], [0.8, \"#7fbc41\"], [0.9, \"#4d9221\"], [1, \"#276419\"]], \"sequential\": [[0.0, \"#0d0887\"], [0.1111111111111111, \"#46039f\"], [0.2222222222222222, \"#7201a8\"], [0.3333333333333333, \"#9c179e\"], [0.4444444444444444, \"#bd3786\"], [0.5555555555555556, \"#d8576b\"], [0.6666666666666666, \"#ed7953\"], [0.7777777777777778, \"#fb9f3a\"], [0.8888888888888888, \"#fdca26\"], [1.0, \"#f0f921\"]], \"sequentialminus\": [[0.0, \"#0d0887\"], [0.1111111111111111, \"#46039f\"], [0.2222222222222222, \"#7201a8\"], [0.3333333333333333, \"#9c179e\"], [0.4444444444444444, \"#bd3786\"], [0.5555555555555556, \"#d8576b\"], [0.6666666666666666, \"#ed7953\"], [0.7777777777777778, \"#fb9f3a\"], [0.8888888888888888, \"#fdca26\"], [1.0, \"#f0f921\"]]}, \"colorway\": [\"#636efa\", \"#EF553B\", \"#00cc96\", \"#ab63fa\", \"#FFA15A\", \"#19d3f3\", \"#FF6692\", \"#B6E880\", \"#FF97FF\", \"#FECB52\"], \"font\": {\"color\": \"#2a3f5f\"}, \"geo\": {\"bgcolor\": \"white\", \"lakecolor\": \"white\", \"landcolor\": \"#E5ECF6\", \"showlakes\": true, \"showland\": true, \"subunitcolor\": \"white\"}, \"hoverlabel\": {\"align\": \"left\"}, \"hovermode\": \"closest\", \"mapbox\": {\"style\": \"light\"}, \"paper_bgcolor\": \"white\", \"plot_bgcolor\": \"#E5ECF6\", \"polar\": {\"angularaxis\": {\"gridcolor\": \"white\", \"linecolor\": \"white\", \"ticks\": \"\"}, \"bgcolor\": \"#E5ECF6\", \"radialaxis\": {\"gridcolor\": \"white\", \"linecolor\": \"white\", \"ticks\": \"\"}}, \"scene\": {\"xaxis\": {\"backgroundcolor\": \"#E5ECF6\", \"gridcolor\": \"white\", \"gridwidth\": 2, \"linecolor\": \"white\", \"showbackground\": true, \"ticks\": \"\", \"zerolinecolor\": \"white\"}, \"yaxis\": {\"backgroundcolor\": \"#E5ECF6\", \"gridcolor\": \"white\", \"gridwidth\": 2, \"linecolor\": \"white\", \"showbackground\": true, \"ticks\": \"\", \"zerolinecolor\": \"white\"}, \"zaxis\": {\"backgroundcolor\": \"#E5ECF6\", \"gridcolor\": \"white\", \"gridwidth\": 2, \"linecolor\": \"white\", \"showbackground\": true, \"ticks\": \"\", \"zerolinecolor\": \"white\"}}, \"shapedefaults\": {\"line\": {\"color\": \"#2a3f5f\"}}, \"ternary\": {\"aaxis\": {\"gridcolor\": \"white\", \"linecolor\": \"white\", \"ticks\": \"\"}, \"baxis\": {\"gridcolor\": \"white\", \"linecolor\": \"white\", \"ticks\": \"\"}, \"bgcolor\": \"#E5ECF6\", \"caxis\": {\"gridcolor\": \"white\", \"linecolor\": \"white\", \"ticks\": \"\"}}, \"title\": {\"x\": 0.05}, \"xaxis\": {\"automargin\": true, \"gridcolor\": \"white\", \"linecolor\": \"white\", \"ticks\": \"\", \"zerolinecolor\": \"white\", \"zerolinewidth\": 2}, \"yaxis\": {\"automargin\": true, \"gridcolor\": \"white\", \"linecolor\": \"white\", \"ticks\": \"\", \"zerolinecolor\": \"white\", \"zerolinewidth\": 2}}}, \"xaxis\": {\"anchor\": \"y\", \"domain\": [0.0, 0.98], \"title\": {\"text\": \"Year\"}}, \"yaxis\": {\"anchor\": \"x\", \"domain\": [0.0, 1.0], \"title\": {\"text\": \"Value\"}}},\n",
       "                        {\"responsive\": true}\n",
       "                    ).then(function(){\n",
       "                            \n",
       "var gd = document.getElementById('aefd3831-ba57-4d2d-ade2-d2676b110688');\n",
       "var x = new MutationObserver(function (mutations, observer) {{\n",
       "        var display = window.getComputedStyle(gd).display;\n",
       "        if (!display || display === 'none') {{\n",
       "            console.log([gd, 'removed!']);\n",
       "            Plotly.purge(gd);\n",
       "            observer.disconnect();\n",
       "        }}\n",
       "}});\n",
       "\n",
       "// Listen for the removal of the full notebook cells\n",
       "var notebookContainer = gd.closest('#notebook-container');\n",
       "if (notebookContainer) {{\n",
       "    x.observe(notebookContainer, {childList: true});\n",
       "}}\n",
       "\n",
       "// Listen for the clearing of the current output cell\n",
       "var outputEl = gd.closest('.output');\n",
       "if (outputEl) {{\n",
       "    x.observe(outputEl, {childList: true});\n",
       "}}\n",
       "\n",
       "                        })\n",
       "                };\n",
       "                });\n",
       "            </script>\n",
       "        </div>"
      ]
     },
     "metadata": {},
     "output_type": "display_data"
    }
   ],
   "source": [
    "px.line(family_df[family_df['Indicator'] == 'Country mean average score in science, by sex'], x='Year', y='Value', color='Country')"
   ]
  },
  {
   "cell_type": "code",
   "execution_count": null,
   "metadata": {},
   "outputs": [],
   "source": []
  }
 ],
 "metadata": {
  "kernelspec": {
   "display_name": "Python 3",
   "language": "python",
   "name": "python3"
  },
  "language_info": {
   "codemirror_mode": {
    "name": "ipython",
    "version": 3
   },
   "file_extension": ".py",
   "mimetype": "text/x-python",
   "name": "python",
   "nbconvert_exporter": "python",
   "pygments_lexer": "ipython3",
   "version": "3.7.3"
  }
 },
 "nbformat": 4,
 "nbformat_minor": 2
}
