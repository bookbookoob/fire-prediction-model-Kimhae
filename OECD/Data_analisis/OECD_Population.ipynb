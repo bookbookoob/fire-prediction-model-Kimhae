{
 "cells": [
  {
   "cell_type": "markdown",
   "metadata": {},
   "source": [
    "# OECD 나라 / 연령대 / 시간대별 인구수 분석"
   ]
  },
  {
   "cell_type": "code",
   "execution_count": 3,
   "metadata": {},
   "outputs": [],
   "source": [
    "import pandas as pd\n",
    "import numpy as np"
   ]
  },
  {
   "cell_type": "markdown",
   "metadata": {},
   "source": [
    "## 데이터 불러오기"
   ]
  },
  {
   "cell_type": "code",
   "execution_count": 4,
   "metadata": {},
   "outputs": [],
   "source": [
    "pdata = pd.read_csv('../Data/Population/01_population.csv')\n",
    "young = pd.read_csv('../Data/Population/02_young_pop.csv')\n",
    "working = pd.read_csv('../Data/Population/03_working_age_pop.csv')\n",
    "elderly = pd.read_csv('../Data/Population/04_elderly_pop.csv')\n",
    "fertility_rates = pd.read_csv('../Data/Population/05_fertility_rates.csv')"
   ]
  },
  {
   "cell_type": "markdown",
   "metadata": {},
   "source": [
    "해석: \n",
    "\n",
    "pdata: 전체 인구\n",
    "young: 15세 미만의 인구 수 \n",
    "\n",
    "```\n",
    "The youth population is defined as those people aged less than15. The share of the dependent population is calculated as total elderly and youth population expressed as a ratio of the total population. The youth-dependency ratio relates the number of young persons that are likely to be dependent on the support of others for their daily needs to the number of those who are capable of providing such support. Demographic trends have a number of implications for government and private spending on pensions, health care, and education, and, more generally, for economic growth and welfare. This indicator is measured as a percentage of population.\n",
    "```\n",
    "\n",
    "working : 15이상 64이하의 인구 수\n",
    "\n",
    "```\n",
    "The working age population is defined as those aged 15 to 64. The basic indicator for employment is the proportion of the working age population aged 15-64 who are employed. The age dependency ratio is the ratio of dependents (people younger than 15 or older than 64) to the working-age population. This indicator is measured as a percentage of population.\n",
    "```\n",
    "\n",
    "elderly :65세 이상\n",
    "\n",
    "```\n",
    "The elderly population is defined as people aged 65 and over. The share of the dependent population is calculated as total elderly and youth population expressed as a ratio of the total population. The elderly dependency rate is defined as the ratio between the elderly population and the working age (15-64 years) population. The comparability of elderly population data is affected by differences, both within and across countries, in how regions and the geography of rural and urban communities, are defined. Elderly people tend to be concentrated in few areas within each country, which means that a small number of regions will have to face a number of specific social and economic challenges due to population ageing. These demographic trends have a number of implications for government and private spending on pensions, health care, and education and, more generally, for economic growth and welfare. This indicator is measured as a percentage of population.\n",
    "```\n",
    "\n",
    "fertility_rates:\n",
    "\n",
    "```\n",
    "The total fertility rate in a specific year is defined as the total number of children that would be born to each woman if she were to live to the end of her child-bearing years and give birth to children in alignment with the prevailing age-specific fertility rates. It is calculated by totalling the age-specific fertility rates as defined over five-year intervals. Assuming no net migration and unchanged mortality, a total fertility rate of 2.1 children per woman ensures a broadly stable population. Together with mortality and migration, fertility is an element of population growth, reflecting both the causes and effects of economic and social developments. The reasons for the dramatic decline in birth rates during the past few decades include postponed family formation and child-bearing and a decrease in desired family sizes. This indicator is measured in children per woman.\n",
    "```"
   ]
  },
  {
   "cell_type": "code",
   "execution_count": 5,
   "metadata": {},
   "outputs": [
    {
     "data": {
      "text/html": [
       "<div>\n",
       "<style scoped>\n",
       "    .dataframe tbody tr th:only-of-type {\n",
       "        vertical-align: middle;\n",
       "    }\n",
       "\n",
       "    .dataframe tbody tr th {\n",
       "        vertical-align: top;\n",
       "    }\n",
       "\n",
       "    .dataframe thead th {\n",
       "        text-align: right;\n",
       "    }\n",
       "</style>\n",
       "<table border=\"1\" class=\"dataframe\">\n",
       "  <thead>\n",
       "    <tr style=\"text-align: right;\">\n",
       "      <th></th>\n",
       "      <th>LOCATION</th>\n",
       "      <th>INDICATOR</th>\n",
       "      <th>SUBJECT</th>\n",
       "      <th>MEASURE</th>\n",
       "      <th>FREQUENCY</th>\n",
       "      <th>TIME</th>\n",
       "      <th>Value</th>\n",
       "      <th>Flag Codes</th>\n",
       "    </tr>\n",
       "  </thead>\n",
       "  <tbody>\n",
       "    <tr>\n",
       "      <th>0</th>\n",
       "      <td>AUS</td>\n",
       "      <td>POP</td>\n",
       "      <td>TOT</td>\n",
       "      <td>AGRWTH</td>\n",
       "      <td>A</td>\n",
       "      <td>1957</td>\n",
       "      <td>2.270316</td>\n",
       "      <td>NaN</td>\n",
       "    </tr>\n",
       "    <tr>\n",
       "      <th>1</th>\n",
       "      <td>AUS</td>\n",
       "      <td>POP</td>\n",
       "      <td>TOT</td>\n",
       "      <td>AGRWTH</td>\n",
       "      <td>A</td>\n",
       "      <td>1958</td>\n",
       "      <td>2.095436</td>\n",
       "      <td>NaN</td>\n",
       "    </tr>\n",
       "  </tbody>\n",
       "</table>\n",
       "</div>"
      ],
      "text/plain": [
       "  LOCATION INDICATOR SUBJECT MEASURE FREQUENCY  TIME     Value Flag Codes\n",
       "0      AUS       POP     TOT  AGRWTH         A  1957  2.270316        NaN\n",
       "1      AUS       POP     TOT  AGRWTH         A  1958  2.095436        NaN"
      ]
     },
     "execution_count": 5,
     "metadata": {},
     "output_type": "execute_result"
    }
   ],
   "source": [
    "pdata.head(2)"
   ]
  },
  {
   "cell_type": "code",
   "execution_count": 6,
   "metadata": {},
   "outputs": [
    {
     "data": {
      "text/plain": [
       "LOCATION       object\n",
       "INDICATOR      object\n",
       "SUBJECT        object\n",
       "MEASURE        object\n",
       "FREQUENCY      object\n",
       "TIME            int64\n",
       "Value         float64\n",
       "Flag Codes     object\n",
       "dtype: object"
      ]
     },
     "execution_count": 6,
     "metadata": {},
     "output_type": "execute_result"
    }
   ],
   "source": [
    "pdata.dtypes"
   ]
  },
  {
   "cell_type": "code",
   "execution_count": 8,
   "metadata": {},
   "outputs": [
    {
     "data": {
      "text/html": [
       "<div>\n",
       "<style scoped>\n",
       "    .dataframe tbody tr th:only-of-type {\n",
       "        vertical-align: middle;\n",
       "    }\n",
       "\n",
       "    .dataframe tbody tr th {\n",
       "        vertical-align: top;\n",
       "    }\n",
       "\n",
       "    .dataframe thead th {\n",
       "        text-align: right;\n",
       "    }\n",
       "</style>\n",
       "<table border=\"1\" class=\"dataframe\">\n",
       "  <thead>\n",
       "    <tr style=\"text-align: right;\">\n",
       "      <th></th>\n",
       "      <th>LOCATION</th>\n",
       "      <th>INDICATOR</th>\n",
       "      <th>SUBJECT</th>\n",
       "      <th>MEASURE</th>\n",
       "      <th>FREQUENCY</th>\n",
       "      <th>TIME</th>\n",
       "      <th>Value</th>\n",
       "      <th>Flag Codes</th>\n",
       "    </tr>\n",
       "  </thead>\n",
       "  <tbody>\n",
       "    <tr>\n",
       "      <th>3669</th>\n",
       "      <td>KOR</td>\n",
       "      <td>POP</td>\n",
       "      <td>TOT</td>\n",
       "      <td>AGRWTH</td>\n",
       "      <td>A</td>\n",
       "      <td>1961</td>\n",
       "      <td>3.011705</td>\n",
       "      <td>NaN</td>\n",
       "    </tr>\n",
       "    <tr>\n",
       "      <th>3796</th>\n",
       "      <td>KOR</td>\n",
       "      <td>POP</td>\n",
       "      <td>TOT</td>\n",
       "      <td>MLN_PER</td>\n",
       "      <td>A</td>\n",
       "      <td>1978</td>\n",
       "      <td>36.969180</td>\n",
       "      <td>NaN</td>\n",
       "    </tr>\n",
       "    <tr>\n",
       "      <th>3797</th>\n",
       "      <td>KOR</td>\n",
       "      <td>POP</td>\n",
       "      <td>TOT</td>\n",
       "      <td>MLN_PER</td>\n",
       "      <td>A</td>\n",
       "      <td>1979</td>\n",
       "      <td>37.534230</td>\n",
       "      <td>NaN</td>\n",
       "    </tr>\n",
       "    <tr>\n",
       "      <th>3798</th>\n",
       "      <td>KOR</td>\n",
       "      <td>POP</td>\n",
       "      <td>TOT</td>\n",
       "      <td>MLN_PER</td>\n",
       "      <td>A</td>\n",
       "      <td>1980</td>\n",
       "      <td>38.123770</td>\n",
       "      <td>NaN</td>\n",
       "    </tr>\n",
       "    <tr>\n",
       "      <th>3801</th>\n",
       "      <td>KOR</td>\n",
       "      <td>POP</td>\n",
       "      <td>TOT</td>\n",
       "      <td>MLN_PER</td>\n",
       "      <td>A</td>\n",
       "      <td>1983</td>\n",
       "      <td>39.910400</td>\n",
       "      <td>NaN</td>\n",
       "    </tr>\n",
       "  </tbody>\n",
       "</table>\n",
       "</div>"
      ],
      "text/plain": [
       "     LOCATION INDICATOR SUBJECT  MEASURE FREQUENCY  TIME      Value Flag Codes\n",
       "3669      KOR       POP     TOT   AGRWTH         A  1961   3.011705        NaN\n",
       "3796      KOR       POP     TOT  MLN_PER         A  1978  36.969180        NaN\n",
       "3797      KOR       POP     TOT  MLN_PER         A  1979  37.534230        NaN\n",
       "3798      KOR       POP     TOT  MLN_PER         A  1980  38.123770        NaN\n",
       "3801      KOR       POP     TOT  MLN_PER         A  1983  39.910400        NaN"
      ]
     },
     "execution_count": 8,
     "metadata": {},
     "output_type": "execute_result"
    }
   ],
   "source": [
    "pdata[(pdata['LOCATION'] == 'KOR') & (pdata['SUBJECT']=='TOT')].sample(5)"
   ]
  },
  {
   "cell_type": "code",
   "execution_count": 19,
   "metadata": {},
   "outputs": [
    {
     "data": {
      "text/plain": [
       "65"
      ]
     },
     "execution_count": 19,
     "metadata": {},
     "output_type": "execute_result"
    }
   ],
   "source": [
    "total_pop = pdata[pdata['SUBJECT'] == 'TOT']\n",
    "total_wom = pdata[pdata['SUBJECT'] == 'WOMEN']\n",
    "total_men = pdata[pdata['SUBJECT'] == 'MEN']\n",
    "dblist = sorted(list(pdata['TIME'].unique()))\n",
    "len(dblist) # 1950 ~ 2014\n",
    "# 연별 결측치 없음"
   ]
  },
  {
   "cell_type": "code",
   "execution_count": 16,
   "metadata": {},
   "outputs": [],
   "source": [
    "dblist"
   ]
  },
  {
   "cell_type": "markdown",
   "metadata": {},
   "source": [
    "## Colunm 해석"
   ]
  },
  {
   "cell_type": "markdown",
   "metadata": {},
   "source": [
    "LOCATION\n",
    "\n",
    "INDICATOR\n",
    "\n",
    "SUBJECT\n",
    "\n",
    "MEASURE\n",
    "    'AGRWTH' = Anual Growth Rate 연간 증가율\n",
    "    'MLN_PER' = Milion person\n",
    "FREQUENCY\n",
    "\n",
    "TIME\n",
    "\n",
    "Value\n",
    "\n",
    "Flag Codes"
   ]
  },
  {
   "cell_type": "code",
   "execution_count": 13,
   "metadata": {},
   "outputs": [
    {
     "data": {
      "text/plain": [
       "array(['PC_POP'], dtype=object)"
      ]
     },
     "execution_count": 13,
     "metadata": {},
     "output_type": "execute_result"
    }
   ],
   "source": [
    "young['MEASURE'].unique()"
   ]
  },
  {
   "cell_type": "code",
   "execution_count": 13,
   "metadata": {},
   "outputs": [
    {
     "data": {
      "text/html": [
       "<div>\n",
       "<style scoped>\n",
       "    .dataframe tbody tr th:only-of-type {\n",
       "        vertical-align: middle;\n",
       "    }\n",
       "\n",
       "    .dataframe tbody tr th {\n",
       "        vertical-align: top;\n",
       "    }\n",
       "\n",
       "    .dataframe thead th {\n",
       "        text-align: right;\n",
       "    }\n",
       "</style>\n",
       "<table border=\"1\" class=\"dataframe\">\n",
       "  <thead>\n",
       "    <tr style=\"text-align: right;\">\n",
       "      <th></th>\n",
       "      <th>LOCATION</th>\n",
       "      <th>INDICATOR</th>\n",
       "      <th>SUBJECT</th>\n",
       "      <th>MEASURE</th>\n",
       "      <th>FREQUENCY</th>\n",
       "      <th>TIME</th>\n",
       "      <th>Value</th>\n",
       "      <th>Flag Codes</th>\n",
       "    </tr>\n",
       "  </thead>\n",
       "  <tbody>\n",
       "    <tr>\n",
       "      <th>0</th>\n",
       "      <td>AUS</td>\n",
       "      <td>YNGPOP</td>\n",
       "      <td>TOT</td>\n",
       "      <td>PC_POP</td>\n",
       "      <td>A</td>\n",
       "      <td>1956</td>\n",
       "      <td>29.38680</td>\n",
       "      <td>NaN</td>\n",
       "    </tr>\n",
       "    <tr>\n",
       "      <th>1</th>\n",
       "      <td>AUS</td>\n",
       "      <td>YNGPOP</td>\n",
       "      <td>TOT</td>\n",
       "      <td>PC_POP</td>\n",
       "      <td>A</td>\n",
       "      <td>1957</td>\n",
       "      <td>29.63693</td>\n",
       "      <td>NaN</td>\n",
       "    </tr>\n",
       "  </tbody>\n",
       "</table>\n",
       "</div>"
      ],
      "text/plain": [
       "  LOCATION INDICATOR SUBJECT MEASURE FREQUENCY  TIME     Value Flag Codes\n",
       "0      AUS    YNGPOP     TOT  PC_POP         A  1956  29.38680        NaN\n",
       "1      AUS    YNGPOP     TOT  PC_POP         A  1957  29.63693        NaN"
      ]
     },
     "execution_count": 13,
     "metadata": {},
     "output_type": "execute_result"
    }
   ],
   "source": [
    "young.head(2)"
   ]
  },
  {
   "cell_type": "code",
   "execution_count": 12,
   "metadata": {},
   "outputs": [
    {
     "data": {
      "text/plain": [
       "array(['PC_POP'], dtype=object)"
      ]
     },
     "execution_count": 12,
     "metadata": {},
     "output_type": "execute_result"
    }
   ],
   "source": [
    "working['MEASURE'].unique()"
   ]
  },
  {
   "cell_type": "code",
   "execution_count": 14,
   "metadata": {},
   "outputs": [
    {
     "data": {
      "text/html": [
       "<div>\n",
       "<style scoped>\n",
       "    .dataframe tbody tr th:only-of-type {\n",
       "        vertical-align: middle;\n",
       "    }\n",
       "\n",
       "    .dataframe tbody tr th {\n",
       "        vertical-align: top;\n",
       "    }\n",
       "\n",
       "    .dataframe thead th {\n",
       "        text-align: right;\n",
       "    }\n",
       "</style>\n",
       "<table border=\"1\" class=\"dataframe\">\n",
       "  <thead>\n",
       "    <tr style=\"text-align: right;\">\n",
       "      <th></th>\n",
       "      <th>LOCATION</th>\n",
       "      <th>INDICATOR</th>\n",
       "      <th>SUBJECT</th>\n",
       "      <th>MEASURE</th>\n",
       "      <th>FREQUENCY</th>\n",
       "      <th>TIME</th>\n",
       "      <th>Value</th>\n",
       "      <th>Flag Codes</th>\n",
       "    </tr>\n",
       "  </thead>\n",
       "  <tbody>\n",
       "    <tr>\n",
       "      <th>0</th>\n",
       "      <td>AUS</td>\n",
       "      <td>WKGPOP</td>\n",
       "      <td>TOT</td>\n",
       "      <td>PC_POP</td>\n",
       "      <td>A</td>\n",
       "      <td>1956</td>\n",
       "      <td>62.18969</td>\n",
       "      <td>NaN</td>\n",
       "    </tr>\n",
       "    <tr>\n",
       "      <th>1</th>\n",
       "      <td>AUS</td>\n",
       "      <td>WKGPOP</td>\n",
       "      <td>TOT</td>\n",
       "      <td>PC_POP</td>\n",
       "      <td>A</td>\n",
       "      <td>1957</td>\n",
       "      <td>61.88797</td>\n",
       "      <td>NaN</td>\n",
       "    </tr>\n",
       "  </tbody>\n",
       "</table>\n",
       "</div>"
      ],
      "text/plain": [
       "  LOCATION INDICATOR SUBJECT MEASURE FREQUENCY  TIME     Value Flag Codes\n",
       "0      AUS    WKGPOP     TOT  PC_POP         A  1956  62.18969        NaN\n",
       "1      AUS    WKGPOP     TOT  PC_POP         A  1957  61.88797        NaN"
      ]
     },
     "execution_count": 14,
     "metadata": {},
     "output_type": "execute_result"
    }
   ],
   "source": [
    "working.head(2)"
   ]
  },
  {
   "cell_type": "code",
   "execution_count": 11,
   "metadata": {},
   "outputs": [
    {
     "data": {
      "text/plain": [
       "array(['PC_POP'], dtype=object)"
      ]
     },
     "execution_count": 11,
     "metadata": {},
     "output_type": "execute_result"
    }
   ],
   "source": [
    "elderly['MEASURE'].unique()"
   ]
  },
  {
   "cell_type": "code",
   "execution_count": 15,
   "metadata": {},
   "outputs": [
    {
     "data": {
      "text/html": [
       "<div>\n",
       "<style scoped>\n",
       "    .dataframe tbody tr th:only-of-type {\n",
       "        vertical-align: middle;\n",
       "    }\n",
       "\n",
       "    .dataframe tbody tr th {\n",
       "        vertical-align: top;\n",
       "    }\n",
       "\n",
       "    .dataframe thead th {\n",
       "        text-align: right;\n",
       "    }\n",
       "</style>\n",
       "<table border=\"1\" class=\"dataframe\">\n",
       "  <thead>\n",
       "    <tr style=\"text-align: right;\">\n",
       "      <th></th>\n",
       "      <th>LOCATION</th>\n",
       "      <th>INDICATOR</th>\n",
       "      <th>SUBJECT</th>\n",
       "      <th>MEASURE</th>\n",
       "      <th>FREQUENCY</th>\n",
       "      <th>TIME</th>\n",
       "      <th>Value</th>\n",
       "      <th>Flag Codes</th>\n",
       "    </tr>\n",
       "  </thead>\n",
       "  <tbody>\n",
       "    <tr>\n",
       "      <th>0</th>\n",
       "      <td>AUS</td>\n",
       "      <td>ELDLYPOP</td>\n",
       "      <td>TOT</td>\n",
       "      <td>PC_POP</td>\n",
       "      <td>A</td>\n",
       "      <td>1956</td>\n",
       "      <td>8.423510</td>\n",
       "      <td>NaN</td>\n",
       "    </tr>\n",
       "    <tr>\n",
       "      <th>1</th>\n",
       "      <td>AUS</td>\n",
       "      <td>ELDLYPOP</td>\n",
       "      <td>TOT</td>\n",
       "      <td>PC_POP</td>\n",
       "      <td>A</td>\n",
       "      <td>1957</td>\n",
       "      <td>8.475103</td>\n",
       "      <td>NaN</td>\n",
       "    </tr>\n",
       "  </tbody>\n",
       "</table>\n",
       "</div>"
      ],
      "text/plain": [
       "  LOCATION INDICATOR SUBJECT MEASURE FREQUENCY  TIME     Value Flag Codes\n",
       "0      AUS  ELDLYPOP     TOT  PC_POP         A  1956  8.423510        NaN\n",
       "1      AUS  ELDLYPOP     TOT  PC_POP         A  1957  8.475103        NaN"
      ]
     },
     "execution_count": 15,
     "metadata": {},
     "output_type": "execute_result"
    }
   ],
   "source": [
    "elderly.head(2)"
   ]
  },
  {
   "cell_type": "code",
   "execution_count": 16,
   "metadata": {},
   "outputs": [
    {
     "data": {
      "text/html": [
       "<div>\n",
       "<style scoped>\n",
       "    .dataframe tbody tr th:only-of-type {\n",
       "        vertical-align: middle;\n",
       "    }\n",
       "\n",
       "    .dataframe tbody tr th {\n",
       "        vertical-align: top;\n",
       "    }\n",
       "\n",
       "    .dataframe thead th {\n",
       "        text-align: right;\n",
       "    }\n",
       "</style>\n",
       "<table border=\"1\" class=\"dataframe\">\n",
       "  <thead>\n",
       "    <tr style=\"text-align: right;\">\n",
       "      <th></th>\n",
       "      <th>LOCATION</th>\n",
       "      <th>INDICATOR</th>\n",
       "      <th>SUBJECT</th>\n",
       "      <th>MEASURE</th>\n",
       "      <th>FREQUENCY</th>\n",
       "      <th>TIME</th>\n",
       "      <th>Value</th>\n",
       "      <th>Flag Codes</th>\n",
       "    </tr>\n",
       "  </thead>\n",
       "  <tbody>\n",
       "    <tr>\n",
       "      <th>0</th>\n",
       "      <td>AUS</td>\n",
       "      <td>FERTILITY</td>\n",
       "      <td>TOT</td>\n",
       "      <td>CHD_WOMAN</td>\n",
       "      <td>A</td>\n",
       "      <td>1960</td>\n",
       "      <td>3.45</td>\n",
       "      <td>NaN</td>\n",
       "    </tr>\n",
       "    <tr>\n",
       "      <th>1</th>\n",
       "      <td>AUS</td>\n",
       "      <td>FERTILITY</td>\n",
       "      <td>TOT</td>\n",
       "      <td>CHD_WOMAN</td>\n",
       "      <td>A</td>\n",
       "      <td>1961</td>\n",
       "      <td>3.55</td>\n",
       "      <td>NaN</td>\n",
       "    </tr>\n",
       "  </tbody>\n",
       "</table>\n",
       "</div>"
      ],
      "text/plain": [
       "  LOCATION  INDICATOR SUBJECT    MEASURE FREQUENCY  TIME  Value  Flag Codes\n",
       "0      AUS  FERTILITY     TOT  CHD_WOMAN         A  1960   3.45         NaN\n",
       "1      AUS  FERTILITY     TOT  CHD_WOMAN         A  1961   3.55         NaN"
      ]
     },
     "execution_count": 16,
     "metadata": {},
     "output_type": "execute_result"
    }
   ],
   "source": [
    "fertility_rates.head(2)"
   ]
  },
  {
   "cell_type": "code",
   "execution_count": 24,
   "metadata": {},
   "outputs": [
    {
     "data": {
      "text/plain": [
       "44"
      ]
     },
     "execution_count": 24,
     "metadata": {},
     "output_type": "execute_result"
    }
   ],
   "source": [
    "pdata['LOCATION'].unique() # 44개국"
   ]
  },
  {
   "cell_type": "markdown",
   "metadata": {},
   "source": [
    "# 1. 나라별 남녀 성비 차를 알아볼까?\n"
   ]
  },
  {
   "cell_type": "code",
   "execution_count": null,
   "metadata": {},
   "outputs": [],
   "source": []
  }
 ],
 "metadata": {
  "kernelspec": {
   "display_name": "Python 3",
   "language": "python",
   "name": "python3"
  },
  "language_info": {
   "codemirror_mode": {
    "name": "ipython",
    "version": 3
   },
   "file_extension": ".py",
   "mimetype": "text/x-python",
   "name": "python",
   "nbconvert_exporter": "python",
   "pygments_lexer": "ipython3",
   "version": "3.7.3"
  }
 },
 "nbformat": 4,
 "nbformat_minor": 2
}
