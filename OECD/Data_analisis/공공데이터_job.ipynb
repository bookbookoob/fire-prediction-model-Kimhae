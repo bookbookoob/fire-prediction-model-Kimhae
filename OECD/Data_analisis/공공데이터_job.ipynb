{
 "cells": [
  {
   "cell_type": "code",
   "execution_count": 16,
   "metadata": {},
   "outputs": [],
   "source": [
    "import pandas as pd\n",
    "import numpy as np\n",
    "import matplotlib.pyplot as plt\n",
    "import seaborn as sns\n",
    "from sklearn.datasets import make_moons, make_circles\n",
    "\n",
    "import math\n",
    "import statistics\n",
    "from collections import Counter\n",
    "%matplotlib inline"
   ]
  },
  {
   "cell_type": "code",
   "execution_count": 17,
   "metadata": {},
   "outputs": [],
   "source": [
    "job = pd.read_csv('./job.csv')"
   ]
  },
  {
   "cell_type": "code",
   "execution_count": 18,
   "metadata": {},
   "outputs": [
    {
     "data": {
      "text/html": [
       "<div>\n",
       "<style scoped>\n",
       "    .dataframe tbody tr th:only-of-type {\n",
       "        vertical-align: middle;\n",
       "    }\n",
       "\n",
       "    .dataframe tbody tr th {\n",
       "        vertical-align: top;\n",
       "    }\n",
       "\n",
       "    .dataframe thead th {\n",
       "        text-align: right;\n",
       "    }\n",
       "</style>\n",
       "<table border=\"1\" class=\"dataframe\">\n",
       "  <thead>\n",
       "    <tr style=\"text-align: right;\">\n",
       "      <th></th>\n",
       "      <th>LOCATION</th>\n",
       "      <th>INDICATOR</th>\n",
       "      <th>SUBJECT</th>\n",
       "      <th>MEASURE</th>\n",
       "      <th>FREQUENCY</th>\n",
       "      <th>TIME</th>\n",
       "      <th>Value</th>\n",
       "      <th>Flag Codes</th>\n",
       "    </tr>\n",
       "  </thead>\n",
       "  <tbody>\n",
       "    <tr>\n",
       "      <th>0</th>\n",
       "      <td>AUS</td>\n",
       "      <td>EMP</td>\n",
       "      <td>MEN</td>\n",
       "      <td>THND_PER</td>\n",
       "      <td>A</td>\n",
       "      <td>1965</td>\n",
       "      <td>3346.5</td>\n",
       "      <td>NaN</td>\n",
       "    </tr>\n",
       "    <tr>\n",
       "      <th>1</th>\n",
       "      <td>AUS</td>\n",
       "      <td>EMP</td>\n",
       "      <td>MEN</td>\n",
       "      <td>THND_PER</td>\n",
       "      <td>A</td>\n",
       "      <td>1966</td>\n",
       "      <td>3362.5</td>\n",
       "      <td>NaN</td>\n",
       "    </tr>\n",
       "    <tr>\n",
       "      <th>2</th>\n",
       "      <td>AUS</td>\n",
       "      <td>EMP</td>\n",
       "      <td>MEN</td>\n",
       "      <td>THND_PER</td>\n",
       "      <td>A</td>\n",
       "      <td>1967</td>\n",
       "      <td>3412.5</td>\n",
       "      <td>NaN</td>\n",
       "    </tr>\n",
       "    <tr>\n",
       "      <th>3</th>\n",
       "      <td>AUS</td>\n",
       "      <td>EMP</td>\n",
       "      <td>MEN</td>\n",
       "      <td>THND_PER</td>\n",
       "      <td>A</td>\n",
       "      <td>1968</td>\n",
       "      <td>3474.0</td>\n",
       "      <td>NaN</td>\n",
       "    </tr>\n",
       "    <tr>\n",
       "      <th>4</th>\n",
       "      <td>AUS</td>\n",
       "      <td>EMP</td>\n",
       "      <td>MEN</td>\n",
       "      <td>THND_PER</td>\n",
       "      <td>A</td>\n",
       "      <td>1969</td>\n",
       "      <td>3548.0</td>\n",
       "      <td>NaN</td>\n",
       "    </tr>\n",
       "  </tbody>\n",
       "</table>\n",
       "</div>"
      ],
      "text/plain": [
       "  LOCATION INDICATOR SUBJECT   MEASURE FREQUENCY  TIME   Value Flag Codes\n",
       "0      AUS       EMP     MEN  THND_PER         A  1965  3346.5        NaN\n",
       "1      AUS       EMP     MEN  THND_PER         A  1966  3362.5        NaN\n",
       "2      AUS       EMP     MEN  THND_PER         A  1967  3412.5        NaN\n",
       "3      AUS       EMP     MEN  THND_PER         A  1968  3474.0        NaN\n",
       "4      AUS       EMP     MEN  THND_PER         A  1969  3548.0        NaN"
      ]
     },
     "execution_count": 18,
     "metadata": {},
     "output_type": "execute_result"
    }
   ],
   "source": [
    "job.head()"
   ]
  },
  {
   "cell_type": "code",
   "execution_count": 19,
   "metadata": {},
   "outputs": [
    {
     "data": {
      "text/plain": [
       "Index(['LOCATION', 'INDICATOR', 'SUBJECT', 'MEASURE', 'FREQUENCY', 'TIME',\n",
       "       'Value', 'Flag Codes'],\n",
       "      dtype='object')"
      ]
     },
     "execution_count": 19,
     "metadata": {},
     "output_type": "execute_result"
    }
   ],
   "source": [
    "job.columns"
   ]
  },
  {
   "cell_type": "code",
   "execution_count": 20,
   "metadata": {},
   "outputs": [
    {
     "data": {
      "text/plain": [
       "LOCATION       object\n",
       "INDICATOR      object\n",
       "SUBJECT        object\n",
       "MEASURE        object\n",
       "FREQUENCY      object\n",
       "TIME           object\n",
       "Value         float64\n",
       "Flag Codes     object\n",
       "dtype: object"
      ]
     },
     "execution_count": 20,
     "metadata": {},
     "output_type": "execute_result"
    }
   ],
   "source": [
    "job.dtypes"
   ]
  },
  {
   "cell_type": "code",
   "execution_count": 73,
   "metadata": {},
   "outputs": [
    {
     "data": {
      "text/plain": [
       "array(['AUS', 'AUT', 'BEL', 'CAN', 'CZE', 'DNK', 'FIN', 'FRA', 'DEU',\n",
       "       'GRC', 'HUN', 'ISL', 'IRL', 'ITA', 'JPN', 'KOR', 'LUX', 'MEX',\n",
       "       'NLD', 'NZL', 'NOR', 'POL', 'PRT', 'SVK', 'ESP', 'SWE', 'CHE',\n",
       "       'TUR', 'GBR', 'USA', 'BRA', 'CHL', 'EST', 'IDN', 'ISR', 'RUS',\n",
       "       'SVN', 'ZAF', 'EU28', 'OECD', 'G-7', 'EA19', 'COL', 'LVA', 'LTU'],\n",
       "      dtype=object)"
      ]
     },
     "execution_count": 73,
     "metadata": {},
     "output_type": "execute_result"
    }
   ],
   "source": [
    "job['LOCATION'].unique()"
   ]
  },
  {
   "cell_type": "code",
   "execution_count": null,
   "metadata": {},
   "outputs": [],
   "source": [
    "len(job['LOCATION'].unique())"
   ]
  },
  {
   "cell_type": "markdown",
   "metadata": {},
   "source": [
    "## 결측값 많은 칼럼 제거"
   ]
  },
  {
   "cell_type": "code",
   "execution_count": 23,
   "metadata": {},
   "outputs": [],
   "source": [
    "del job['Flag Codes']"
   ]
  },
  {
   "cell_type": "code",
   "execution_count": 24,
   "metadata": {},
   "outputs": [
    {
     "data": {
      "text/html": [
       "<div>\n",
       "<style scoped>\n",
       "    .dataframe tbody tr th:only-of-type {\n",
       "        vertical-align: middle;\n",
       "    }\n",
       "\n",
       "    .dataframe tbody tr th {\n",
       "        vertical-align: top;\n",
       "    }\n",
       "\n",
       "    .dataframe thead th {\n",
       "        text-align: right;\n",
       "    }\n",
       "</style>\n",
       "<table border=\"1\" class=\"dataframe\">\n",
       "  <thead>\n",
       "    <tr style=\"text-align: right;\">\n",
       "      <th></th>\n",
       "      <th>LOCATION</th>\n",
       "      <th>INDICATOR</th>\n",
       "      <th>SUBJECT</th>\n",
       "      <th>MEASURE</th>\n",
       "      <th>FREQUENCY</th>\n",
       "      <th>TIME</th>\n",
       "      <th>Value</th>\n",
       "    </tr>\n",
       "  </thead>\n",
       "  <tbody>\n",
       "    <tr>\n",
       "      <th>0</th>\n",
       "      <td>AUS</td>\n",
       "      <td>EMP</td>\n",
       "      <td>MEN</td>\n",
       "      <td>THND_PER</td>\n",
       "      <td>A</td>\n",
       "      <td>1965</td>\n",
       "      <td>3346.5</td>\n",
       "    </tr>\n",
       "    <tr>\n",
       "      <th>1</th>\n",
       "      <td>AUS</td>\n",
       "      <td>EMP</td>\n",
       "      <td>MEN</td>\n",
       "      <td>THND_PER</td>\n",
       "      <td>A</td>\n",
       "      <td>1966</td>\n",
       "      <td>3362.5</td>\n",
       "    </tr>\n",
       "    <tr>\n",
       "      <th>2</th>\n",
       "      <td>AUS</td>\n",
       "      <td>EMP</td>\n",
       "      <td>MEN</td>\n",
       "      <td>THND_PER</td>\n",
       "      <td>A</td>\n",
       "      <td>1967</td>\n",
       "      <td>3412.5</td>\n",
       "    </tr>\n",
       "    <tr>\n",
       "      <th>3</th>\n",
       "      <td>AUS</td>\n",
       "      <td>EMP</td>\n",
       "      <td>MEN</td>\n",
       "      <td>THND_PER</td>\n",
       "      <td>A</td>\n",
       "      <td>1968</td>\n",
       "      <td>3474.0</td>\n",
       "    </tr>\n",
       "    <tr>\n",
       "      <th>4</th>\n",
       "      <td>AUS</td>\n",
       "      <td>EMP</td>\n",
       "      <td>MEN</td>\n",
       "      <td>THND_PER</td>\n",
       "      <td>A</td>\n",
       "      <td>1969</td>\n",
       "      <td>3548.0</td>\n",
       "    </tr>\n",
       "  </tbody>\n",
       "</table>\n",
       "</div>"
      ],
      "text/plain": [
       "  LOCATION INDICATOR SUBJECT   MEASURE FREQUENCY  TIME   Value\n",
       "0      AUS       EMP     MEN  THND_PER         A  1965  3346.5\n",
       "1      AUS       EMP     MEN  THND_PER         A  1966  3362.5\n",
       "2      AUS       EMP     MEN  THND_PER         A  1967  3412.5\n",
       "3      AUS       EMP     MEN  THND_PER         A  1968  3474.0\n",
       "4      AUS       EMP     MEN  THND_PER         A  1969  3548.0"
      ]
     },
     "execution_count": 24,
     "metadata": {},
     "output_type": "execute_result"
    }
   ],
   "source": [
    "job.head()"
   ]
  },
  {
   "cell_type": "markdown",
   "metadata": {},
   "source": [
    "# 국가별로 취업률의 평균값으로 그룹을 함"
   ]
  },
  {
   "cell_type": "code",
   "execution_count": 25,
   "metadata": {
    "collapsed": true
   },
   "outputs": [
    {
     "data": {
      "text/html": [
       "<div>\n",
       "<style scoped>\n",
       "    .dataframe tbody tr th:only-of-type {\n",
       "        vertical-align: middle;\n",
       "    }\n",
       "\n",
       "    .dataframe tbody tr th {\n",
       "        vertical-align: top;\n",
       "    }\n",
       "\n",
       "    .dataframe thead th {\n",
       "        text-align: right;\n",
       "    }\n",
       "</style>\n",
       "<table border=\"1\" class=\"dataframe\">\n",
       "  <thead>\n",
       "    <tr style=\"text-align: right;\">\n",
       "      <th></th>\n",
       "      <th>Value</th>\n",
       "    </tr>\n",
       "    <tr>\n",
       "      <th>LOCATION</th>\n",
       "      <th></th>\n",
       "    </tr>\n",
       "  </thead>\n",
       "  <tbody>\n",
       "    <tr>\n",
       "      <th>AUS</th>\n",
       "      <td>3064.879287</td>\n",
       "    </tr>\n",
       "    <tr>\n",
       "      <th>AUT</th>\n",
       "      <td>1700.325711</td>\n",
       "    </tr>\n",
       "    <tr>\n",
       "      <th>BEL</th>\n",
       "      <td>1798.528642</td>\n",
       "    </tr>\n",
       "    <tr>\n",
       "      <th>BRA</th>\n",
       "      <td>20986.833766</td>\n",
       "    </tr>\n",
       "    <tr>\n",
       "      <th>CAN</th>\n",
       "      <td>5800.496382</td>\n",
       "    </tr>\n",
       "    <tr>\n",
       "      <th>CHE</th>\n",
       "      <td>1535.724172</td>\n",
       "    </tr>\n",
       "    <tr>\n",
       "      <th>CHL</th>\n",
       "      <td>2815.209330</td>\n",
       "    </tr>\n",
       "    <tr>\n",
       "      <th>COL</th>\n",
       "      <td>6779.488322</td>\n",
       "    </tr>\n",
       "    <tr>\n",
       "      <th>CZE</th>\n",
       "      <td>1831.327416</td>\n",
       "    </tr>\n",
       "    <tr>\n",
       "      <th>DEU</th>\n",
       "      <td>18961.969855</td>\n",
       "    </tr>\n",
       "    <tr>\n",
       "      <th>DNK</th>\n",
       "      <td>1144.782825</td>\n",
       "    </tr>\n",
       "    <tr>\n",
       "      <th>EA19</th>\n",
       "      <td>49792.021485</td>\n",
       "    </tr>\n",
       "    <tr>\n",
       "      <th>ESP</th>\n",
       "      <td>6438.538488</td>\n",
       "    </tr>\n",
       "    <tr>\n",
       "      <th>EST</th>\n",
       "      <td>252.570713</td>\n",
       "    </tr>\n",
       "    <tr>\n",
       "      <th>EU28</th>\n",
       "      <td>75389.786925</td>\n",
       "    </tr>\n",
       "    <tr>\n",
       "      <th>FIN</th>\n",
       "      <td>940.253091</td>\n",
       "    </tr>\n",
       "    <tr>\n",
       "      <th>FRA</th>\n",
       "      <td>9888.718729</td>\n",
       "    </tr>\n",
       "    <tr>\n",
       "      <th>G-7</th>\n",
       "      <td>134205.335782</td>\n",
       "    </tr>\n",
       "    <tr>\n",
       "      <th>GBR</th>\n",
       "      <td>11014.227506</td>\n",
       "    </tr>\n",
       "    <tr>\n",
       "      <th>GRC</th>\n",
       "      <td>1621.950567</td>\n",
       "    </tr>\n",
       "    <tr>\n",
       "      <th>HUN</th>\n",
       "      <td>1390.871021</td>\n",
       "    </tr>\n",
       "    <tr>\n",
       "      <th>IDN</th>\n",
       "      <td>80663.068030</td>\n",
       "    </tr>\n",
       "    <tr>\n",
       "      <th>IRL</th>\n",
       "      <td>725.784807</td>\n",
       "    </tr>\n",
       "    <tr>\n",
       "      <th>ISL</th>\n",
       "      <td>99.177498</td>\n",
       "    </tr>\n",
       "    <tr>\n",
       "      <th>ISR</th>\n",
       "      <td>1367.739294</td>\n",
       "    </tr>\n",
       "    <tr>\n",
       "      <th>ITA</th>\n",
       "      <td>8413.386962</td>\n",
       "    </tr>\n",
       "    <tr>\n",
       "      <th>JPN</th>\n",
       "      <td>21537.924286</td>\n",
       "    </tr>\n",
       "    <tr>\n",
       "      <th>KOR</th>\n",
       "      <td>9198.942517</td>\n",
       "    </tr>\n",
       "    <tr>\n",
       "      <th>LTU</th>\n",
       "      <td>482.137924</td>\n",
       "    </tr>\n",
       "    <tr>\n",
       "      <th>LUX</th>\n",
       "      <td>112.717774</td>\n",
       "    </tr>\n",
       "    <tr>\n",
       "      <th>LVA</th>\n",
       "      <td>349.982544</td>\n",
       "    </tr>\n",
       "    <tr>\n",
       "      <th>MEX</th>\n",
       "      <td>16598.039776</td>\n",
       "    </tr>\n",
       "    <tr>\n",
       "      <th>NLD</th>\n",
       "      <td>2987.365648</td>\n",
       "    </tr>\n",
       "    <tr>\n",
       "      <th>NOR</th>\n",
       "      <td>918.417909</td>\n",
       "    </tr>\n",
       "    <tr>\n",
       "      <th>NZL</th>\n",
       "      <td>689.732759</td>\n",
       "    </tr>\n",
       "    <tr>\n",
       "      <th>OECD</th>\n",
       "      <td>187015.539057</td>\n",
       "    </tr>\n",
       "    <tr>\n",
       "      <th>POL</th>\n",
       "      <td>5695.082952</td>\n",
       "    </tr>\n",
       "    <tr>\n",
       "      <th>PRT</th>\n",
       "      <td>1807.010962</td>\n",
       "    </tr>\n",
       "    <tr>\n",
       "      <th>RUS</th>\n",
       "      <td>47587.501086</td>\n",
       "    </tr>\n",
       "    <tr>\n",
       "      <th>SVK</th>\n",
       "      <td>877.439357</td>\n",
       "    </tr>\n",
       "    <tr>\n",
       "      <th>SVN</th>\n",
       "      <td>349.098680</td>\n",
       "    </tr>\n",
       "    <tr>\n",
       "      <th>SWE</th>\n",
       "      <td>1767.005157</td>\n",
       "    </tr>\n",
       "    <tr>\n",
       "      <th>TUR</th>\n",
       "      <td>9002.552436</td>\n",
       "    </tr>\n",
       "    <tr>\n",
       "      <th>USA</th>\n",
       "      <td>43221.300297</td>\n",
       "    </tr>\n",
       "    <tr>\n",
       "      <th>ZAF</th>\n",
       "      <td>43.349976</td>\n",
       "    </tr>\n",
       "  </tbody>\n",
       "</table>\n",
       "</div>"
      ],
      "text/plain": [
       "                  Value\n",
       "LOCATION               \n",
       "AUS         3064.879287\n",
       "AUT         1700.325711\n",
       "BEL         1798.528642\n",
       "BRA        20986.833766\n",
       "CAN         5800.496382\n",
       "CHE         1535.724172\n",
       "CHL         2815.209330\n",
       "COL         6779.488322\n",
       "CZE         1831.327416\n",
       "DEU        18961.969855\n",
       "DNK         1144.782825\n",
       "EA19       49792.021485\n",
       "ESP         6438.538488\n",
       "EST          252.570713\n",
       "EU28       75389.786925\n",
       "FIN          940.253091\n",
       "FRA         9888.718729\n",
       "G-7       134205.335782\n",
       "GBR        11014.227506\n",
       "GRC         1621.950567\n",
       "HUN         1390.871021\n",
       "IDN        80663.068030\n",
       "IRL          725.784807\n",
       "ISL           99.177498\n",
       "ISR         1367.739294\n",
       "ITA         8413.386962\n",
       "JPN        21537.924286\n",
       "KOR         9198.942517\n",
       "LTU          482.137924\n",
       "LUX          112.717774\n",
       "LVA          349.982544\n",
       "MEX        16598.039776\n",
       "NLD         2987.365648\n",
       "NOR          918.417909\n",
       "NZL          689.732759\n",
       "OECD      187015.539057\n",
       "POL         5695.082952\n",
       "PRT         1807.010962\n",
       "RUS        47587.501086\n",
       "SVK          877.439357\n",
       "SVN          349.098680\n",
       "SWE         1767.005157\n",
       "TUR         9002.552436\n",
       "USA        43221.300297\n",
       "ZAF           43.349976"
      ]
     },
     "execution_count": 25,
     "metadata": {},
     "output_type": "execute_result"
    }
   ],
   "source": [
    "job_country = job.groupby('LOCATION').mean()\n",
    "job_country"
   ]
  },
  {
   "cell_type": "markdown",
   "metadata": {},
   "source": [
    "# 취업률의 범위(최대 취업률-최소취업률)"
   ]
  },
  {
   "cell_type": "code",
   "execution_count": 96,
   "metadata": {},
   "outputs": [
    {
     "data": {
      "text/plain": [
       "219941.5"
      ]
     },
     "execution_count": 96,
     "metadata": {},
     "output_type": "execute_result"
    }
   ],
   "source": [
    "job_df.max() - job_df.min()"
   ]
  },
  {
   "cell_type": "markdown",
   "metadata": {},
   "source": [
    "# 전체나라 취업 현황"
   ]
  },
  {
   "cell_type": "code",
   "execution_count": 112,
   "metadata": {
    "scrolled": true
   },
   "outputs": [
    {
     "data": {
      "text/plain": [
       "<matplotlib.legend.Legend at 0x1a2ead3240>"
      ]
     },
     "execution_count": 112,
     "metadata": {},
     "output_type": "execute_result"
    },
    {
     "data": {
      "image/png": "[encoded data removed]",
      "text/plain": [
       "<Figure size 432x288 with 1 Axes>"
      ]
     },
     "metadata": {
      "needs_background": "light"
     },
     "output_type": "display_data"
    }
   ],
   "source": [
    "plt.plot( 'TIME_encode', 'Value' ,data=job_df[job_df['LOCATION'] == 'KOR'], label='KOR')\n",
    "plt.plot('TIME_encode', 'Value' ,data=job_df[job_df['LOCATION'] == 'CHN'], label='CHN')\n",
    "\n",
    "plt.plot('TIME_encode', 'Value' ,data=job_df[job_df['LOCATION'] == 'JPN'], label='JPN')\n",
    "plt.plot('TIME_encode', 'Value' ,data=job_df[job_df['LOCATION'] =='FIN'], label='FIN')\n",
    "plt.plot('TIME_encode', 'Value' ,data=job_df[job_df['LOCATION'] =='USA'], label='USA')\n",
    "plt.plot('TIME_encode', 'Value' ,data=job_df[job_df['LOCATION'] == 'FRA'], label='FRA')\n",
    "\n",
    "plt.plot('TIME_encode', 'Value' ,data=job_df[job_df['LOCATION'] == 'MEX'], label='MEX')\n",
    "plt.plot('TIME_encode', 'Value' ,data=job_df[job_df['LOCATION'] == 'COL'], label='COL')\n",
    "plt.plot('TIME_encode', 'Value' ,data=job_df[job_df['LOCATION'] == 'IND'], label='IND')\n",
    "\n",
    "plt.legend(loc=[1,0])"
   ]
  },
  {
   "cell_type": "markdown",
   "metadata": {},
   "source": [
    "## 취업률 상위,하위 5개 국가"
   ]
  },
  {
   "cell_type": "code",
   "execution_count": 115,
   "metadata": {},
   "outputs": [],
   "source": [
    "job_mean = job.groupby(['LOCATION']).mean()[['Value']].reset_index()"
   ]
  },
  {
   "cell_type": "code",
   "execution_count": 123,
   "metadata": {},
   "outputs": [
    {
     "data": {
      "text/html": [
       "<div>\n",
       "<style scoped>\n",
       "    .dataframe tbody tr th:only-of-type {\n",
       "        vertical-align: middle;\n",
       "    }\n",
       "\n",
       "    .dataframe tbody tr th {\n",
       "        vertical-align: top;\n",
       "    }\n",
       "\n",
       "    .dataframe thead th {\n",
       "        text-align: right;\n",
       "    }\n",
       "</style>\n",
       "<table border=\"1\" class=\"dataframe\">\n",
       "  <thead>\n",
       "    <tr style=\"text-align: right;\">\n",
       "      <th></th>\n",
       "      <th>LOCATION</th>\n",
       "      <th>Value</th>\n",
       "    </tr>\n",
       "  </thead>\n",
       "  <tbody>\n",
       "    <tr>\n",
       "      <th>35</th>\n",
       "      <td>OECD</td>\n",
       "      <td>187015.539057</td>\n",
       "    </tr>\n",
       "    <tr>\n",
       "      <th>17</th>\n",
       "      <td>G-7</td>\n",
       "      <td>134205.335782</td>\n",
       "    </tr>\n",
       "    <tr>\n",
       "      <th>21</th>\n",
       "      <td>IDN</td>\n",
       "      <td>80663.068030</td>\n",
       "    </tr>\n",
       "    <tr>\n",
       "      <th>14</th>\n",
       "      <td>EU28</td>\n",
       "      <td>75389.786925</td>\n",
       "    </tr>\n",
       "    <tr>\n",
       "      <th>11</th>\n",
       "      <td>EA19</td>\n",
       "      <td>49792.021485</td>\n",
       "    </tr>\n",
       "  </tbody>\n",
       "</table>\n",
       "</div>"
      ],
      "text/plain": [
       "   LOCATION          Value\n",
       "35     OECD  187015.539057\n",
       "17      G-7  134205.335782\n",
       "21      IDN   80663.068030\n",
       "14     EU28   75389.786925\n",
       "11     EA19   49792.021485"
      ]
     },
     "execution_count": 123,
     "metadata": {},
     "output_type": "execute_result"
    }
   ],
   "source": [
    "job_mean = job_mean.sort_values(by = 'Value', ascending=False)\n",
    "job_mean.head()\n",
    "# 내림차순"
   ]
  },
  {
   "cell_type": "code",
   "execution_count": 124,
   "metadata": {},
   "outputs": [
    {
     "data": {
      "text/html": [
       "<div>\n",
       "<style scoped>\n",
       "    .dataframe tbody tr th:only-of-type {\n",
       "        vertical-align: middle;\n",
       "    }\n",
       "\n",
       "    .dataframe tbody tr th {\n",
       "        vertical-align: top;\n",
       "    }\n",
       "\n",
       "    .dataframe thead th {\n",
       "        text-align: right;\n",
       "    }\n",
       "</style>\n",
       "<table border=\"1\" class=\"dataframe\">\n",
       "  <thead>\n",
       "    <tr style=\"text-align: right;\">\n",
       "      <th></th>\n",
       "      <th>LOCATION</th>\n",
       "      <th>Value</th>\n",
       "    </tr>\n",
       "  </thead>\n",
       "  <tbody>\n",
       "    <tr>\n",
       "      <th>44</th>\n",
       "      <td>ZAF</td>\n",
       "      <td>43.349976</td>\n",
       "    </tr>\n",
       "    <tr>\n",
       "      <th>23</th>\n",
       "      <td>ISL</td>\n",
       "      <td>99.177498</td>\n",
       "    </tr>\n",
       "    <tr>\n",
       "      <th>29</th>\n",
       "      <td>LUX</td>\n",
       "      <td>112.717774</td>\n",
       "    </tr>\n",
       "    <tr>\n",
       "      <th>13</th>\n",
       "      <td>EST</td>\n",
       "      <td>252.570713</td>\n",
       "    </tr>\n",
       "    <tr>\n",
       "      <th>40</th>\n",
       "      <td>SVN</td>\n",
       "      <td>349.098680</td>\n",
       "    </tr>\n",
       "  </tbody>\n",
       "</table>\n",
       "</div>"
      ],
      "text/plain": [
       "   LOCATION       Value\n",
       "44      ZAF   43.349976\n",
       "23      ISL   99.177498\n",
       "29      LUX  112.717774\n",
       "13      EST  252.570713\n",
       "40      SVN  349.098680"
      ]
     },
     "execution_count": 124,
     "metadata": {},
     "output_type": "execute_result"
    }
   ],
   "source": [
    "job_mean = job_mean.sort_values(by = 'Value', ascending=True)\n",
    "job_mean.head()\n",
    "# 오름차순"
   ]
  },
  {
   "cell_type": "markdown",
   "metadata": {},
   "source": [
    "# 남자와 여자의 취업정도"
   ]
  },
  {
   "cell_type": "code",
   "execution_count": 127,
   "metadata": {},
   "outputs": [],
   "source": [
    "job_sex = job.groupby(['LOCATION', 'SUBJECT']).mean()[['Value']].reset_index()"
   ]
  },
  {
   "cell_type": "code",
   "execution_count": 140,
   "metadata": {},
   "outputs": [],
   "source": [
    "job_sex = job_sex[(job_sex['SUBJECT'] == 'MEN') | (job_sex['SUBJECT'] == 'WOMEN')]\n",
    "# 이번에는 년도를 합쳐 성별을 인덱스로 사용 가능하게 만듦"
   ]
  },
  {
   "cell_type": "code",
   "execution_count": 141,
   "metadata": {},
   "outputs": [
    {
     "data": {
      "text/plain": [
       "<matplotlib.legend.Legend at 0x1a2ef04fd0>"
      ]
     },
     "execution_count": 141,
     "metadata": {},
     "output_type": "execute_result"
    },
    {
     "data": {
      "image/png": "[encoded data removed]",
      "text/plain": [
       "<Figure size 432x288 with 1 Axes>"
      ]
     },
     "metadata": {
      "needs_background": "light"
     },
     "output_type": "display_data"
    }
   ],
   "source": [
    "plt.plot('SUBJECT', 'Value', data=job_sex[job_sex['LOCATION'] == 'KOR'], label='KOR')\n",
    "plt.plot('SUBJECT', 'Value', data=job_sex[job_sex['LOCATION'] == 'JPN'], label='JPN')\n",
    "plt.plot('SUBJECT', 'Value', data=job_sex[job_sex['LOCATION'] == 'FIN'], label='FIN')\n",
    "plt.plot('SUBJECT', 'Value', data=job_sex[job_sex['LOCATION'] == 'USA'], label='USA')\n",
    "plt.plot('SUBJECT', 'Value', data=job_sex[job_sex['LOCATION'] == 'FRA'], label='FRA')\n",
    "\n",
    "plt.plot('SUBJECT', 'Value', data=job_sex[job_sex['LOCATION'] == 'MEX'], label='MEX')\n",
    "plt.plot('SUBJECT', 'Value', data=job_sex[job_sex['LOCATION'] == 'COL'], label='COL')\n",
    "plt.plot('SUBJECT', 'Value', data=job_sex[job_sex['LOCATION'] ==  'IND'], label='IND')\n",
    "\n",
    "plt.legend(loc=[1,0])"
   ]
  },
  {
   "cell_type": "code",
   "execution_count": 36,
   "metadata": {},
   "outputs": [
    {
     "data": {
      "text/plain": [
       "array(['THND_PER', 'PC_WKGPOP'], dtype=object)"
      ]
     },
     "execution_count": 36,
     "metadata": {},
     "output_type": "execute_result"
    }
   ],
   "source": [
    "job['MEASURE'].unique()"
   ]
  },
  {
   "cell_type": "markdown",
   "metadata": {},
   "source": [
    "# TIME 칼럼 정제"
   ]
  },
  {
   "cell_type": "code",
   "execution_count": 60,
   "metadata": {
    "scrolled": true
   },
   "outputs": [
    {
     "data": {
      "text/html": [
       "<div>\n",
       "<style scoped>\n",
       "    .dataframe tbody tr th:only-of-type {\n",
       "        vertical-align: middle;\n",
       "    }\n",
       "\n",
       "    .dataframe tbody tr th {\n",
       "        vertical-align: top;\n",
       "    }\n",
       "\n",
       "    .dataframe thead th {\n",
       "        text-align: right;\n",
       "    }\n",
       "</style>\n",
       "<table border=\"1\" class=\"dataframe\">\n",
       "  <thead>\n",
       "    <tr style=\"text-align: right;\">\n",
       "      <th></th>\n",
       "      <th>TIME</th>\n",
       "      <th>TIME_encode</th>\n",
       "    </tr>\n",
       "  </thead>\n",
       "  <tbody>\n",
       "    <tr>\n",
       "      <th>8442</th>\n",
       "      <td>1983-Q4</td>\n",
       "      <td>1983</td>\n",
       "    </tr>\n",
       "  </tbody>\n",
       "</table>\n",
       "</div>"
      ],
      "text/plain": [
       "         TIME  TIME_encode\n",
       "8442  1983-Q4         1983"
      ]
     },
     "execution_count": 60,
     "metadata": {},
     "output_type": "execute_result"
    }
   ],
   "source": [
    "job['TIME_encode'] = job['TIME'].apply(lambda x: int(x[:4]))\n",
    "\n",
    "job[['TIME', 'TIME_encode']].sample()"
   ]
  },
  {
   "cell_type": "code",
   "execution_count": 152,
   "metadata": {},
   "outputs": [
    {
     "data": {
      "text/html": [
       "<div>\n",
       "<style scoped>\n",
       "    .dataframe tbody tr th:only-of-type {\n",
       "        vertical-align: middle;\n",
       "    }\n",
       "\n",
       "    .dataframe tbody tr th {\n",
       "        vertical-align: top;\n",
       "    }\n",
       "\n",
       "    .dataframe thead th {\n",
       "        text-align: right;\n",
       "    }\n",
       "</style>\n",
       "<table border=\"1\" class=\"dataframe\">\n",
       "  <thead>\n",
       "    <tr style=\"text-align: right;\">\n",
       "      <th></th>\n",
       "      <th>LOCATION</th>\n",
       "      <th>TIME_encode</th>\n",
       "      <th>MEASURE</th>\n",
       "      <th>SUBJECT</th>\n",
       "      <th>Value</th>\n",
       "    </tr>\n",
       "  </thead>\n",
       "  <tbody>\n",
       "    <tr>\n",
       "      <th>199</th>\n",
       "      <td>AUS</td>\n",
       "      <td>2004</td>\n",
       "      <td>THND_PER</td>\n",
       "      <td>MEN</td>\n",
       "      <td>5293.876412</td>\n",
       "    </tr>\n",
       "  </tbody>\n",
       "</table>\n",
       "</div>"
      ],
      "text/plain": [
       "    LOCATION  TIME_encode   MEASURE SUBJECT        Value\n",
       "199      AUS         2004  THND_PER     MEN  5293.876412"
      ]
     },
     "execution_count": 152,
     "metadata": {},
     "output_type": "execute_result"
    }
   ],
   "source": [
    "# 국가별로\n",
    "job_time = job.groupby(['LOCATION', 'TIME_encode', 'MEASURE', 'SUBJECT'])['Value'].mean()\n",
    "# job_time\n",
    "job_df = pd.DataFrame(job_time).reset_index()\n",
    "job_df.sample()"
   ]
  },
  {
   "cell_type": "markdown",
   "metadata": {},
   "source": [
    "### 1. 한국"
   ]
  },
  {
   "cell_type": "code",
   "execution_count": 154,
   "metadata": {
    "scrolled": false
   },
   "outputs": [
    {
     "data": {
      "text/plain": [
       "<matplotlib.legend.Legend at 0x1a2eeb27b8>"
      ]
     },
     "execution_count": 154,
     "metadata": {},
     "output_type": "execute_result"
    },
    {
     "data": {
      "image/png": "[encoded data removed]",
      "text/plain": [
       "<Figure size 432x288 with 1 Axes>"
      ]
     },
     "metadata": {
      "needs_background": "light"
     },
     "output_type": "display_data"
    }
   ],
   "source": [
    "plt.plot('TIME_encode', 'Value', data=job_df[(job_df['LOCATION'] == 'KOR') & (job_df['SUBJECT'] == 'WOMEN') & (job_df['MEASURE'] == 'PC_WKGPOP')], label='KOR WOMEN')\n",
    "plt.plot('TIME_encode', 'Value', data=job_df[(job_df['LOCATION'] == 'KOR') & (job_df['SUBJECT'] == 'MEN') & (job_df['MEASURE'] == 'PC_WKGPOP')], label='KOR MEN')\n",
    "plt.legend(loc=[1,0])"
   ]
  },
  {
   "cell_type": "markdown",
   "metadata": {},
   "source": [
    "### 2. 일본"
   ]
  },
  {
   "cell_type": "code",
   "execution_count": 156,
   "metadata": {
    "scrolled": true
   },
   "outputs": [
    {
     "data": {
      "text/plain": [
       "[<matplotlib.lines.Line2D at 0x1a2f705780>]"
      ]
     },
     "execution_count": 156,
     "metadata": {},
     "output_type": "execute_result"
    },
    {
     "data": {
      "image/png": "[encoded data removed]",
      "text/plain": [
       "<Figure size 432x288 with 1 Axes>"
      ]
     },
     "metadata": {
      "needs_background": "light"
     },
     "output_type": "display_data"
    }
   ],
   "source": [
    "plt.plot('TIME_encode', 'Value', data=job_df[(job_df['LOCATION'] == 'JPN') & (job_df['SUBJECT'] == 'WOMEN') & (job_df['MEASURE'] == 'PC_WKGPOP')], label='JPN WOMEN')\n",
    "plt.plot('TIME_encode', 'Value', data=job_df[(job_df['LOCATION'] == 'JPN') & (job_df['SUBJECT'] == 'MEN') & (job_df['MEASURE'] == 'PC_WKGPOP')], label='JPN MEN')"
   ]
  },
  {
   "cell_type": "markdown",
   "metadata": {},
   "source": [
    "### 3. EU"
   ]
  },
  {
   "cell_type": "code",
   "execution_count": 157,
   "metadata": {},
   "outputs": [
    {
     "data": {
      "text/plain": [
       "[<matplotlib.lines.Line2D at 0x1a2f7a8908>]"
      ]
     },
     "execution_count": 157,
     "metadata": {},
     "output_type": "execute_result"
    },
    {
     "data": {
      "image/png": "[encoded data removed]",
      "text/plain": [
       "<Figure size 432x288 with 1 Axes>"
      ]
     },
     "metadata": {
      "needs_background": "light"
     },
     "output_type": "display_data"
    }
   ],
   "source": [
    "plt.plot('TIME_encode', 'Value', data=job_df[(job_df['LOCATION'] == 'EU28') & (job_df['SUBJECT'] == 'WOMEN') & (job_df['MEASURE'] == 'PC_WKGPOP')], label='EU28 WOMEN')\n",
    "plt.plot('TIME_encode', 'Value', data=job_df[(job_df['LOCATION'] == 'EU28') & (job_df['SUBJECT'] == 'MEN') & (job_df['MEASURE'] == 'PC_WKGPOP')], label='EU28 MEN')"
   ]
  },
  {
   "cell_type": "markdown",
   "metadata": {},
   "source": [
    "### 4. 프랑스"
   ]
  },
  {
   "cell_type": "code",
   "execution_count": 172,
   "metadata": {},
   "outputs": [
    {
     "data": {
      "text/html": [
       "<div>\n",
       "<style scoped>\n",
       "    .dataframe tbody tr th:only-of-type {\n",
       "        vertical-align: middle;\n",
       "    }\n",
       "\n",
       "    .dataframe tbody tr th {\n",
       "        vertical-align: top;\n",
       "    }\n",
       "\n",
       "    .dataframe thead th {\n",
       "        text-align: right;\n",
       "    }\n",
       "</style>\n",
       "<table border=\"1\" class=\"dataframe\">\n",
       "  <thead>\n",
       "    <tr style=\"text-align: right;\">\n",
       "      <th></th>\n",
       "      <th>LOCATION</th>\n",
       "      <th>TIME_encode</th>\n",
       "      <th>MEASURE</th>\n",
       "      <th>SUBJECT</th>\n",
       "      <th>Value</th>\n",
       "    </tr>\n",
       "  </thead>\n",
       "  <tbody>\n",
       "    <tr>\n",
       "      <th>2890</th>\n",
       "      <td>FRA</td>\n",
       "      <td>1955</td>\n",
       "      <td>THND_PER</td>\n",
       "      <td>TOT</td>\n",
       "      <td>18539.0</td>\n",
       "    </tr>\n",
       "    <tr>\n",
       "      <th>2891</th>\n",
       "      <td>FRA</td>\n",
       "      <td>1956</td>\n",
       "      <td>THND_PER</td>\n",
       "      <td>MEN</td>\n",
       "      <td>12407.0</td>\n",
       "    </tr>\n",
       "    <tr>\n",
       "      <th>2892</th>\n",
       "      <td>FRA</td>\n",
       "      <td>1956</td>\n",
       "      <td>THND_PER</td>\n",
       "      <td>TOT</td>\n",
       "      <td>18584.0</td>\n",
       "    </tr>\n",
       "    <tr>\n",
       "      <th>2893</th>\n",
       "      <td>FRA</td>\n",
       "      <td>1956</td>\n",
       "      <td>THND_PER</td>\n",
       "      <td>WOMEN</td>\n",
       "      <td>6178.0</td>\n",
       "    </tr>\n",
       "    <tr>\n",
       "      <th>2894</th>\n",
       "      <td>FRA</td>\n",
       "      <td>1957</td>\n",
       "      <td>THND_PER</td>\n",
       "      <td>MEN</td>\n",
       "      <td>12393.0</td>\n",
       "    </tr>\n",
       "  </tbody>\n",
       "</table>\n",
       "</div>"
      ],
      "text/plain": [
       "     LOCATION  TIME_encode   MEASURE SUBJECT    Value\n",
       "2890      FRA         1955  THND_PER     TOT  18539.0\n",
       "2891      FRA         1956  THND_PER     MEN  12407.0\n",
       "2892      FRA         1956  THND_PER     TOT  18584.0\n",
       "2893      FRA         1956  THND_PER   WOMEN   6178.0\n",
       "2894      FRA         1957  THND_PER     MEN  12393.0"
      ]
     },
     "execution_count": 172,
     "metadata": {},
     "output_type": "execute_result"
    }
   ],
   "source": [
    "job_df[job_df['LOCATION'] == 'FRA'].head()"
   ]
  },
  {
   "cell_type": "code",
   "execution_count": 169,
   "metadata": {},
   "outputs": [
    {
     "data": {
      "text/plain": [
       "<matplotlib.legend.Legend at 0x1a30791a20>"
      ]
     },
     "execution_count": 169,
     "metadata": {},
     "output_type": "execute_result"
    },
    {
     "data": {
      "image/png": "[encoded data removed]",
      "text/plain": [
       "<Figure size 432x288 with 1 Axes>"
      ]
     },
     "metadata": {
      "needs_background": "light"
     },
     "output_type": "display_data"
    }
   ],
   "source": [
    "plt.plot('TIME_encode', 'Value', data=job_df[(job_df['LOCATION'] == 'FRA') & (job_df['SUBJECT'] == 'WOMEN') & (job_df['MEASURE'] == 'PC_WKGPOP')], label='FRA WOMEN')\n",
    "plt.plot('TIME_encode', 'Value', data=job_df[(job_df['LOCATION'] == 'FRA') & (job_df['SUBJECT'] == 'MEN') & (job_df['MEASURE'] == 'PC_WKGPOP')], label='FRA MEN')\n",
    "plt.legend(loc=[1,0])"
   ]
  },
  {
   "cell_type": "code",
   "execution_count": null,
   "metadata": {},
   "outputs": [],
   "source": [
    "#남여 취업률 합쳐서 박스플롯"
   ]
  },
  {
   "cell_type": "code",
   "execution_count": 168,
   "metadata": {},
   "outputs": [
    {
     "data": {
      "text/plain": [
       "<seaborn.axisgrid.FacetGrid at 0x1a3046eef0>"
      ]
     },
     "execution_count": 168,
     "metadata": {},
     "output_type": "execute_result"
    },
    {
     "data": {
      "image/png": "[encoded data removed]",
      "text/plain": [
       "<Figure size 360x360 with 1 Axes>"
      ]
     },
     "metadata": {
      "needs_background": "light"
     },
     "output_type": "display_data"
    }
   ],
   "source": [
    "sns.catplot(x = 'SUBJECT', y ='Value', data = job_sex[job_sex['Value'] < 40000], kind = 'box')"
   ]
  },
  {
   "cell_type": "code",
   "execution_count": null,
   "metadata": {},
   "outputs": [],
   "source": []
  }
 ],
 "metadata": {
  "kernelspec": {
   "display_name": "Python 3",
   "language": "python",
   "name": "python3"
  },
  "language_info": {
   "codemirror_mode": {
    "name": "ipython",
    "version": 3
   },
   "file_extension": ".py",
   "mimetype": "text/x-python",
   "name": "python",
   "nbconvert_exporter": "python",
   "pygments_lexer": "ipython3",
   "version": "3.7.3"
  }
 },
 "nbformat": 4,
 "nbformat_minor": 2
}
