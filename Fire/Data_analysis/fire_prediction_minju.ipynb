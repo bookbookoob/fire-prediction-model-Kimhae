{
 "cells": [
  {
   "cell_type": "markdown",
   "metadata": {},
   "source": [
    "# LIBRARY"
   ]
  },
  {
   "cell_type": "code",
   "execution_count": 1,
   "metadata": {},
   "outputs": [],
   "source": [
    "import pandas as pd\n",
    "import numpy as np\n",
    "\n",
    "import matplotlib.pyplot as plt\n",
    "%matplotlib inline\n",
    "import seaborn as sns\n",
    "\n",
    "from sklearn.linear_model import LinearRegression\n",
    "from statsmodels.formula.api import ols\n",
    "from statsmodels.formula.api import glm\n",
    "from statsmodels.genmod.families.family import Binomial\n",
    "from sklearn.ensemble import RandomForestClassifier"
   ]
  },
  {
   "cell_type": "code",
   "execution_count": 2,
   "metadata": {},
   "outputs": [],
   "source": [
    "import xgboost as xgb\n",
    "from sklearn.model_selection import GridSearchCV\n",
    "from xgboost import XGBClassifier\n",
    "from sklearn.pipeline import Pipeline, make_pipeline\n",
    "from sklearn.linear_model import LogisticRegression\n",
    "from sklearn.svm import SVC\n",
    "from sklearn.ensemble import RandomForestClassifier\n",
    "import sklearn.metrics as metrics\n",
    "from sklearn.metrics import classification_report, accuracy_score, confusion_matrix, precision_score, recall_score, roc_auc_score, f1_score\n",
    "from sklearn.neighbors import KNeighborsClassifier\n",
    "from sklearn.naive_bayes import GaussianNB\n",
    "from sklearn.metrics import roc_curve\n",
    "from sklearn.metrics import auc"
   ]
  },
  {
   "cell_type": "code",
   "execution_count": 14,
   "metadata": {},
   "outputs": [],
   "source": [
    "import scipy as sp"
   ]
  },
  {
   "cell_type": "code",
   "execution_count": 4,
   "metadata": {},
   "outputs": [],
   "source": [
    "# imbalanced data 해결\n",
    "\n",
    "from imblearn.under_sampling import *\n",
    "from imblearn.over_sampling import *\n",
    "from imblearn.combine import *"
   ]
  },
  {
   "cell_type": "code",
   "execution_count": 5,
   "metadata": {},
   "outputs": [],
   "source": [
    "from matplotlib import font_manager, rc\n",
    "[font for font in font_manager.fontManager.ttflist if 'Malgun Gothic' in font.name]\n",
    "import seaborn as sns\n",
    "sns.set(style=\"whitegrid\", rc={'font.family':font_manager.FontProperties(fname=\"c:/Windows/Fonts/malgun.ttf\").get_name(), 'figure.figsize': (15, 10)}, font_scale=2)"
   ]
  },
  {
   "cell_type": "code",
   "execution_count": 6,
   "metadata": {},
   "outputs": [],
   "source": [
    "import warnings\n",
    "warnings.filterwarnings('ignore')"
   ]
  },
  {
   "cell_type": "markdown",
   "metadata": {},
   "source": [
    "# DATA"
   ]
  },
  {
   "cell_type": "code",
   "execution_count": 109,
   "metadata": {},
   "outputs": [],
   "source": [
    "train = pd.read_csv('../Data/train_PCA_jmk_lnd_fl.csv')\n",
    "valid = pd.read_csv('../Data/valid_PCA_jmk_lnd_fl.csv')\n",
    "test = pd.read_csv('../Data/test_PCA_jmk_lnd_fl.csv')"
   ]
  },
  {
   "cell_type": "code",
   "execution_count": 110,
   "metadata": {
    "scrolled": true
   },
   "outputs": [
    {
     "data": {
      "text/html": [
       "<div>\n",
       "<style scoped>\n",
       "    .dataframe tbody tr th:only-of-type {\n",
       "        vertical-align: middle;\n",
       "    }\n",
       "\n",
       "    .dataframe tbody tr th {\n",
       "        vertical-align: top;\n",
       "    }\n",
       "\n",
       "    .dataframe thead th {\n",
       "        text-align: right;\n",
       "    }\n",
       "</style>\n",
       "<table border=\"1\" class=\"dataframe\">\n",
       "  <thead>\n",
       "    <tr style=\"text-align: right;\">\n",
       "      <th></th>\n",
       "      <th>address</th>\n",
       "      <th>address1</th>\n",
       "      <th>address2</th>\n",
       "      <th>ahsm_dstnc</th>\n",
       "      <th>bldng_ar</th>\n",
       "      <th>bldng_cnt</th>\n",
       "      <th>bldng_cnt_in_50m</th>\n",
       "      <th>cctv_dstnc</th>\n",
       "      <th>cctv_in_100m</th>\n",
       "      <th>day</th>\n",
       "      <th>...</th>\n",
       "      <th>lnd_us_sttn_nm_체</th>\n",
       "      <th>lnd_us_sttn_nm_과</th>\n",
       "      <th>lnd_us_sttn_nm_묘</th>\n",
       "      <th>lnd_us_sttn_nm_공</th>\n",
       "      <th>lnd_us_sttn_nm_원</th>\n",
       "      <th>lnd_us_sttn_nm_사</th>\n",
       "      <th>lnd_us_sttn_nm_제</th>\n",
       "      <th>lnd_us_sttn_nm_수</th>\n",
       "      <th>ttl_dwn_flr</th>\n",
       "      <th>ttl_grnd_flr</th>\n",
       "    </tr>\n",
       "  </thead>\n",
       "  <tbody>\n",
       "    <tr>\n",
       "      <th>36695</th>\n",
       "      <td>하동군 금성면</td>\n",
       "      <td>하동군</td>\n",
       "      <td>금성면</td>\n",
       "      <td>1640</td>\n",
       "      <td>107.72</td>\n",
       "      <td>2</td>\n",
       "      <td>0</td>\n",
       "      <td>2567</td>\n",
       "      <td>0</td>\n",
       "      <td>20</td>\n",
       "      <td>...</td>\n",
       "      <td>False</td>\n",
       "      <td>False</td>\n",
       "      <td>False</td>\n",
       "      <td>False</td>\n",
       "      <td>False</td>\n",
       "      <td>False</td>\n",
       "      <td>False</td>\n",
       "      <td>False</td>\n",
       "      <td>0.0</td>\n",
       "      <td>2.0</td>\n",
       "    </tr>\n",
       "  </tbody>\n",
       "</table>\n",
       "<p>1 rows × 93 columns</p>\n",
       "</div>"
      ],
      "text/plain": [
       "       address address1 address2  ahsm_dstnc  bldng_ar  bldng_cnt  \\\n",
       "36695  하동군 금성면      하동군      금성면        1640    107.72          2   \n",
       "\n",
       "       bldng_cnt_in_50m  cctv_dstnc  cctv_in_100m  day  ... lnd_us_sttn_nm_체  \\\n",
       "36695                 0        2567             0   20  ...            False   \n",
       "\n",
       "       lnd_us_sttn_nm_과  lnd_us_sttn_nm_묘  lnd_us_sttn_nm_공  lnd_us_sttn_nm_원  \\\n",
       "36695             False             False             False             False   \n",
       "\n",
       "       lnd_us_sttn_nm_사  lnd_us_sttn_nm_제  lnd_us_sttn_nm_수  ttl_dwn_flr  \\\n",
       "36695             False             False             False          0.0   \n",
       "\n",
       "       ttl_grnd_flr  \n",
       "36695           2.0  \n",
       "\n",
       "[1 rows x 93 columns]"
      ]
     },
     "execution_count": 110,
     "metadata": {},
     "output_type": "execute_result"
    }
   ],
   "source": [
    "train.sample()"
   ]
  },
  {
   "cell_type": "markdown",
   "metadata": {},
   "source": [
    "## f1 score 평가 함수"
   ]
  },
  {
   "cell_type": "code",
   "execution_count": 12,
   "metadata": {},
   "outputs": [],
   "source": [
    "def evaluation(y, pred):\n",
    "    confusion = confusion_matrix(y, pred)\n",
    "    accuracy = accuracy_score(y, pred)\n",
    "    precision = precision_score(y, pred)\n",
    "    recall = recall_score(y, pred)\n",
    "    f1 = f1_score(y, pred)\n",
    "    roc_score = roc_auc_score(y, pred)\n",
    "    \n",
    "    print('정확도(accuracy): {0: .4f}, 정밀도(precision): {1: .4f}, 재현율(recall): {2: 4f}, f1 score: {3: .4f}, auc값: {4: .4f}'.format(accuracy, precision, recall, f1, roc_score))"
   ]
  },
  {
   "cell_type": "markdown",
   "metadata": {},
   "source": [
    "## Outlier 제거"
   ]
  },
  {
   "cell_type": "code",
   "execution_count": 230,
   "metadata": {},
   "outputs": [],
   "source": [
    "# 창원시 전체 화재발생 0이라 제외\n",
    "train = train[train['address1'] != '창원시']"
   ]
  },
  {
   "cell_type": "code",
   "execution_count": null,
   "metadata": {},
   "outputs": [],
   "source": []
  },
  {
   "cell_type": "code",
   "execution_count": null,
   "metadata": {},
   "outputs": [],
   "source": []
  },
  {
   "cell_type": "code",
   "execution_count": null,
   "metadata": {},
   "outputs": [],
   "source": []
  },
  {
   "cell_type": "markdown",
   "metadata": {},
   "source": [
    "# MAKING DATASET"
   ]
  },
  {
   "cell_type": "code",
   "execution_count": 111,
   "metadata": {
    "collapsed": true
   },
   "outputs": [
    {
     "data": {
      "text/plain": [
       "Index(['address', 'address1', 'address2', 'ahsm_dstnc', 'bldng_ar',\n",
       "       'bldng_cnt', 'bldng_cnt_in_50m', 'cctv_dstnc', 'cctv_in_100m', 'day',\n",
       "       'dayofweek', 'fire_yes', 'fr_mn_cnt', 'fr_sttn_dstnc',\n",
       "       'fr_wthr_fclt_dstnc', 'fr_wthr_fclt_in_100m', 'hm_cnt', 'hmdt', 'hour',\n",
       "       'id', 'jmk', 'lnd_ar', 'minute', 'mlt_us_yn(encode)', 'month',\n",
       "       'no_tbc_zn_dstnc', 'second', 'sft_emrgnc_bll_dstnc', 'tag',\n",
       "       'tbc_rtl_str_dstnc', 'tmprtr', 'ttl_ar', 'wnd_drctn', 'wnd_spd', 'year',\n",
       "       'year-month', 'year-month-day', 'cluster', 'Comp1', 'Comp2', 'jmk_주',\n",
       "       'jmk_잡', 'jmk_종', 'jmk_차', 'jmk_답', 'jmk_장', 'jmk_양', 'jmk_전', 'jmk_창',\n",
       "       'jmk_학', 'jmk_목', 'jmk_도', 'jmk_임', 'jmk_철', 'jmk_유', 'jmk_천', 'jmk_구',\n",
       "       'jmk_체', 'jmk_과', 'jmk_묘', 'jmk_공', 'jmk_원', 'jmk_사', 'jmk_제', 'jmk_수',\n",
       "       'lnd_us_sttn_nm(clean)', 'lnd_us_sttn_nm_주', 'lnd_us_sttn_nm_잡',\n",
       "       'lnd_us_sttn_nm_종', 'lnd_us_sttn_nm_차', 'lnd_us_sttn_nm_답',\n",
       "       'lnd_us_sttn_nm_장', 'lnd_us_sttn_nm_양', 'lnd_us_sttn_nm_전',\n",
       "       'lnd_us_sttn_nm_창', 'lnd_us_sttn_nm_학', 'lnd_us_sttn_nm_목',\n",
       "       'lnd_us_sttn_nm_도', 'lnd_us_sttn_nm_임', 'lnd_us_sttn_nm_철',\n",
       "       'lnd_us_sttn_nm_유', 'lnd_us_sttn_nm_천', 'lnd_us_sttn_nm_구',\n",
       "       'lnd_us_sttn_nm_체', 'lnd_us_sttn_nm_과', 'lnd_us_sttn_nm_묘',\n",
       "       'lnd_us_sttn_nm_공', 'lnd_us_sttn_nm_원', 'lnd_us_sttn_nm_사',\n",
       "       'lnd_us_sttn_nm_제', 'lnd_us_sttn_nm_수', 'ttl_dwn_flr', 'ttl_grnd_flr'],\n",
       "      dtype='object')"
      ]
     },
     "execution_count": 111,
     "metadata": {},
     "output_type": "execute_result"
    }
   ],
   "source": [
    "train.columns"
   ]
  },
  {
   "cell_type": "code",
   "execution_count": 285,
   "metadata": {},
   "outputs": [],
   "source": [
    "train['dayofweek(int)'] = pd.to_datetime(train['year-month-day']).dt.dayofweek\n",
    "test['dayofweek(int)'] = pd.to_datetime(test['year-month-day']).dt.dayofweek\n",
    "valid['dayofweek(int)'] = pd.to_datetime(valid['year-month-day']).dt.dayofweek"
   ]
  },
  {
   "cell_type": "code",
   "execution_count": 286,
   "metadata": {},
   "outputs": [],
   "source": [
    "# choose independent variables(Xs) which are useful!\n",
    "# 트레이닝에 사용할 변수 목록을 적어주세요.\n",
    "\n",
    "float_col = ['year', 'month', 'dayofweek(int)', 'hour'\n",
    "             , 'lnd_ar', 'ttl_ar', 'bldng_ar'\n",
    "             , 'tmprtr', 'wnd_spd', 'hmdt', 'wnd_drctn'\n",
    "             , 'Comp1', 'Comp2'\n",
    "            , 'hm_cnt'\n",
    "             \n",
    "#              , 'no_tbc_zn_dstnc', 'bldng_cnt_in_50m', 'fr_wthr_fclt_in_100m', 'cctv_in_100m'\n",
    "             , 'fr_sttn_dstnc', 'fr_mn_cnt', 'fr_wthr_fclt_dstnc'\n",
    "             , 'cctv_dstnc', 'tbc_rtl_str_dstnc', 'sft_emrgnc_bll_dstnc', 'ahsm_dstnc']\n",
    "\n",
    "bool_col =['lnd_us_sttn_nm_주', 'lnd_us_sttn_nm_잡', 'lnd_us_sttn_nm_종', 'lnd_us_sttn_nm_차', 'lnd_us_sttn_nm_답', 'lnd_us_sttn_nm_장', 'lnd_us_sttn_nm_양', 'lnd_us_sttn_nm_전', 'lnd_us_sttn_nm_창', 'lnd_us_sttn_nm_학', 'lnd_us_sttn_nm_목', 'lnd_us_sttn_nm_도', 'lnd_us_sttn_nm_임', 'lnd_us_sttn_nm_철', 'lnd_us_sttn_nm_유', 'lnd_us_sttn_nm_천', 'lnd_us_sttn_nm_구', 'lnd_us_sttn_nm_체', 'lnd_us_sttn_nm_과', 'lnd_us_sttn_nm_묘', 'lnd_us_sttn_nm_공', 'lnd_us_sttn_nm_원', 'lnd_us_sttn_nm_사', 'lnd_us_sttn_nm_제', 'lnd_us_sttn_nm_수'\n",
    "          , 'jmk_주', 'jmk_잡', 'jmk_종', 'jmk_차', 'jmk_답', 'jmk_장', 'jmk_양', 'jmk_전', 'jmk_창', 'jmk_학', 'jmk_목', 'jmk_도', 'jmk_임', 'jmk_철', 'jmk_유', 'jmk_천', 'jmk_구', 'jmk_체', 'jmk_과', 'jmk_묘', 'jmk_공', 'jmk_원', 'jmk_사', 'jmk_제', 'jmk_수'\n",
    "           , 'ttl_dwn_flr', 'ttl_grnd_flr'\n",
    "          ]\n",
    "\n",
    "independents = float_col + bool_col\n",
    "\n",
    "\n",
    "# 문자열 제외 'dayofweek', 'year-month','year-month-day', 'address', 'address1', 'address2', 'jmk'\n",
    "# 관련 없는 열 제외 'id', 'second'(second가 0인게 많아서 fire_yes와 상관관계 높음) \n",
    "# 'fr_wthr_fclt_in_100m','ahsm_dstnc' 지역간 편차가 큰 애들 제외\n",
    "# 독립변수\n",
    "dependent = ['fire_yes'] # 종속변수"
   ]
  },
  {
   "cell_type": "code",
   "execution_count": 287,
   "metadata": {},
   "outputs": [],
   "source": [
    "# 적어준 변수 목록을 사용해 데이터를 트레이닝에 맞는 포맷으로 변경합니다.\n",
    "train_X = train[independents]\n",
    "train_y = train[dependent]\n",
    "\n",
    "test_X = test[independents]\n",
    "valid_X = valid[independents]"
   ]
  },
  {
   "cell_type": "code",
   "execution_count": 288,
   "metadata": {},
   "outputs": [
    {
     "name": "stdout",
     "output_type": "stream",
     "text": [
      "              precision    recall  f1-score   support\n",
      "\n",
      "         0.0       0.84      0.99      0.91      5626\n",
      "         1.0       0.79      0.14      0.24      1272\n",
      "\n",
      "    accuracy                           0.83      6898\n",
      "   macro avg       0.81      0.57      0.57      6898\n",
      "weighted avg       0.83      0.83      0.78      6898\n",
      "\n",
      "정확도(accuracy):  0.8344, 정밀도(precision):  0.7851, 재현율(recall):  0.140723, f1 score:  0.2387, auc값:  0.5660\n"
     ]
    }
   ],
   "source": [
    "# logistic\n",
    "\n",
    "model_lr = LogisticRegression().fit(train_X, train_y)\n",
    "pred_lr = model_lr.predict(valid_X)\n",
    "\n",
    "print(classification_report(valid['fire_yes'], pred_lr))\n",
    "\n",
    "evaluation(valid['fire_yes'], pred_lr)"
   ]
  },
  {
   "cell_type": "markdown",
   "metadata": {},
   "source": [
    "# Undersampling"
   ]
  },
  {
   "cell_type": "markdown",
   "metadata": {},
   "source": [
    "### Random Under Sampling"
   ]
  },
  {
   "cell_type": "code",
   "execution_count": 266,
   "metadata": {},
   "outputs": [
    {
     "name": "stdout",
     "output_type": "stream",
     "text": [
      "(15306, 72)\n"
     ]
    }
   ],
   "source": [
    "sample_X, sample_y = RandomUnderSampler(random_state=17).fit_sample(train_X, train_y)\n",
    "\n",
    "print(sample_X.shape)"
   ]
  },
  {
   "cell_type": "code",
   "execution_count": 267,
   "metadata": {
    "collapsed": true
   },
   "outputs": [
    {
     "data": {
      "text/plain": [
       "year                    float64\n",
       "month                   float64\n",
       "hour                    float64\n",
       "lnd_ar                  float64\n",
       "ttl_ar                  float64\n",
       "bldng_ar                float64\n",
       "tmprtr                  float64\n",
       "wnd_spd                 float64\n",
       "hmdt                    float64\n",
       "wnd_drctn               float64\n",
       "Comp1                   float64\n",
       "Comp2                   float64\n",
       "hm_cnt                  float64\n",
       "fr_sttn_dstnc           float64\n",
       "fr_mn_cnt               float64\n",
       "fr_wthr_fclt_dstnc      float64\n",
       "cctv_dstnc              float64\n",
       "tbc_rtl_str_dstnc       float64\n",
       "sft_emrgnc_bll_dstnc    float64\n",
       "ahsm_dstnc              float64\n",
       "lnd_us_sttn_nm_주           bool\n",
       "lnd_us_sttn_nm_잡           bool\n",
       "lnd_us_sttn_nm_종           bool\n",
       "lnd_us_sttn_nm_차           bool\n",
       "lnd_us_sttn_nm_답           bool\n",
       "lnd_us_sttn_nm_장           bool\n",
       "lnd_us_sttn_nm_양           bool\n",
       "lnd_us_sttn_nm_전           bool\n",
       "lnd_us_sttn_nm_창           bool\n",
       "lnd_us_sttn_nm_학           bool\n",
       "                         ...   \n",
       "lnd_us_sttn_nm_사           bool\n",
       "lnd_us_sttn_nm_제           bool\n",
       "lnd_us_sttn_nm_수           bool\n",
       "jmk_주                      bool\n",
       "jmk_잡                      bool\n",
       "jmk_종                      bool\n",
       "jmk_차                      bool\n",
       "jmk_답                      bool\n",
       "jmk_장                      bool\n",
       "jmk_양                      bool\n",
       "jmk_전                      bool\n",
       "jmk_창                      bool\n",
       "jmk_학                      bool\n",
       "jmk_목                      bool\n",
       "jmk_도                      bool\n",
       "jmk_임                      bool\n",
       "jmk_철                      bool\n",
       "jmk_유                      bool\n",
       "jmk_천                      bool\n",
       "jmk_구                      bool\n",
       "jmk_체                      bool\n",
       "jmk_과                      bool\n",
       "jmk_묘                      bool\n",
       "jmk_공                      bool\n",
       "jmk_원                      bool\n",
       "jmk_사                      bool\n",
       "jmk_제                      bool\n",
       "jmk_수                      bool\n",
       "ttl_dwn_flr                bool\n",
       "ttl_grnd_flr               bool\n",
       "Length: 72, dtype: object"
      ]
     },
     "execution_count": 267,
     "metadata": {},
     "output_type": "execute_result"
    }
   ],
   "source": [
    "data = pd.DataFrame(sample_X, columns=independents)\n",
    "\n",
    "for x in float_col:\n",
    "    data[x] = data[x].apply(lambda x: float(x))\n",
    "    \n",
    "for x in bool_col:\n",
    "    data[x] = data[x].apply(lambda x: True if x == 'True' else False)\n",
    "\n",
    "data.dtypes"
   ]
  },
  {
   "cell_type": "code",
   "execution_count": 268,
   "metadata": {},
   "outputs": [
    {
     "name": "stdout",
     "output_type": "stream",
     "text": [
      "              precision    recall  f1-score   support\n",
      "\n",
      "         0.0       0.94      0.30      0.45      5626\n",
      "         1.0       0.23      0.92      0.36      1272\n",
      "\n",
      "    accuracy                           0.41      6898\n",
      "   macro avg       0.58      0.61      0.41      6898\n",
      "weighted avg       0.81      0.41      0.43      6898\n",
      "\n",
      "정확도(accuracy):  0.4104, 정밀도(precision):  0.2275, 재현율(recall):  0.917453, f1 score:  0.3646, auc값:  0.6066\n"
     ]
    }
   ],
   "source": [
    "# XGB 모델 예측, 검증\n",
    "model_xgb = XGBClassifier(verbose = True).fit(data, pd.DataFrame(sample_y)[0])\n",
    "\n",
    "pred_xgb = model_xgb.predict(valid_X)\n",
    "\n",
    "print(classification_report(valid['fire_yes'], pred_xgb))\n",
    "\n",
    "evaluation(valid['fire_yes'], pred_xgb)"
   ]
  },
  {
   "cell_type": "code",
   "execution_count": 271,
   "metadata": {},
   "outputs": [
    {
     "name": "stdout",
     "output_type": "stream",
     "text": [
      "              precision    recall  f1-score   support\n",
      "\n",
      "         0.0       0.84      0.99      0.91      5626\n",
      "         1.0       0.72      0.16      0.26      1272\n",
      "\n",
      "    accuracy                           0.83      6898\n",
      "   macro avg       0.78      0.57      0.58      6898\n",
      "weighted avg       0.82      0.83      0.79      6898\n",
      "\n",
      "정확도(accuracy):  0.8334, 정밀도(precision):  0.7158, 재현율(recall):  0.160377, f1 score:  0.2620, auc값:  0.5730\n"
     ]
    }
   ],
   "source": [
    "# logistic\n",
    "\n",
    "model_lr = LogisticRegression().fit(sample_X, sample_y)\n",
    "pred_lr = model_lr.predict(valid_X)\n",
    "print(classification_report(valid['fire_yes'], pred_lr))\n",
    "\n",
    "evaluation(valid['fire_yes'], pred_lr)"
   ]
  },
  {
   "cell_type": "markdown",
   "metadata": {},
   "source": [
    "### Tomek’s link method"
   ]
  },
  {
   "cell_type": "code",
   "execution_count": 297,
   "metadata": {},
   "outputs": [
    {
     "name": "stdout",
     "output_type": "stream",
     "text": [
      "(47997, 73)\n",
      "              precision    recall  f1-score   support\n",
      "\n",
      "         0.0       0.87      0.88      0.88      5626\n",
      "         1.0       0.45      0.43      0.44      1272\n",
      "\n",
      "    accuracy                           0.80      6898\n",
      "   macro avg       0.66      0.66      0.66      6898\n",
      "weighted avg       0.80      0.80      0.80      6898\n",
      "\n",
      "정확도(accuracy):  0.7995, 정밀도(precision):  0.4544, 재현율(recall):  0.434748, f1 score:  0.4444, auc값:  0.6584\n"
     ]
    }
   ],
   "source": [
    "sample_X, sample_y = TomekLinks(random_state=17).fit_sample(train_X, train_y)\n",
    "\n",
    "print(sample_X.shape)\n",
    "\n",
    "# max_depth=10, n_estimator=50  learning_rate=0.05"
   ]
  },
  {
   "cell_type": "code",
   "execution_count": 323,
   "metadata": {},
   "outputs": [
    {
     "name": "stdout",
     "output_type": "stream",
     "text": [
      "              precision    recall  f1-score   support\n",
      "\n",
      "         0.0       0.87      0.89      0.88      5626\n",
      "         1.0       0.47      0.44      0.45      1272\n",
      "\n",
      "    accuracy                           0.81      6898\n",
      "   macro avg       0.67      0.66      0.67      6898\n",
      "weighted avg       0.80      0.81      0.80      6898\n",
      "\n",
      "정확도(accuracy):  0.8056, 정밀도(precision):  0.4708, 재현율(recall):  0.437107, f1 score:  0.4533, auc값:  0.6630\n"
     ]
    }
   ],
   "source": [
    "# XGB 모델 예측, 검증\n",
    "# 최적값 max_depth = 5, n_estimator=50 0.4451\n",
    "# 최적값 max_depth = 5, n_estimator=100 0.4510\n",
    "# 최적값 max_depth = 5, n_estimator=130 0.4506\n",
    "# 최적값 max_depth = 5, n_estimator=148 0.4524\n",
    "# 최적값 max_depth = 5, n_estimator=149 0.4532 <\n",
    "# 최적값 max_depth = 5, n_estimator=150 0.4524\n",
    "# 최적값 max_depth = 5, n_estimator=155 0.4517\n",
    "# 최적값 max_depth = 5, n_estimator=170 0.4502\n",
    "# 최적값 max_depth = 5, n_estimator=200 0.4471\n",
    "\n",
    "\n",
    "# 최적값 max_depth = 6, n_estimator=149 0.4485 \n",
    "# 최적값 max_depth = 5, n_estimator=149 0.4532 <\n",
    "# 최적값 max_depth = 4, n_estimator=149 0.4531\n",
    "\n",
    "# 최적값 max_depth = 4, n_estimator=149, learning_rate=0.1 0.4510\n",
    "# 최적값 max_depth = 4, n_estimator=149, learning_rate=0.07 0.4531 \n",
    "# 최적값 max_depth = 4, n_estimator=149, learning_rate=0.065 0.4561\n",
    "# 최적값 max_depth = 4, n_estimator=149, learning_rate=0.061 0.4585\n",
    "# 최적값 max_depth = 4, n_estimator=149, learning_rate=0.06 0.4595 <<<\n",
    "# 최적값 max_depth = 4, n_estimator=149, learning_rate=0.059 0.4537\n",
    "# 최적값 max_depth = 4, n_estimator=149, learning_rate=0.055 0.4576\n",
    "# 최적값 max_depth = 4, n_estimator=149, learning_rate=0.05 0.4532\n",
    "# 최적값 max_depth = 4, n_estimator=149, learning_rate=0.01 0.4348\n",
    "\n",
    "# 최적값 max_depth =5, n_estimator=149, learning_rate=0.06 0.4533\n",
    "\n",
    "# n_estimator 는 작아질수록 f1 score 올라감\n",
    "model_xgb = XGBClassifier(max_depth=5, n_estimators=149, learning_rate=0.06, verbosity = 1).fit(pd.DataFrame(sample_X, columns=independents), pd.DataFrame(sample_y)[0])\n",
    "\n",
    "pred_xgb = model_xgb.predict(valid_X)\n",
    "\n",
    "print(classification_report(valid['fire_yes'], pred_xgb))\n",
    "\n",
    "evaluation(valid['fire_yes'], pred_xgb)"
   ]
  },
  {
   "cell_type": "code",
   "execution_count": 290,
   "metadata": {},
   "outputs": [
    {
     "name": "stdout",
     "output_type": "stream",
     "text": [
      "              precision    recall  f1-score   support\n",
      "\n",
      "         0.0       0.84      0.98      0.91      5626\n",
      "         1.0       0.70      0.17      0.27      1272\n",
      "\n",
      "    accuracy                           0.83      6898\n",
      "   macro avg       0.77      0.58      0.59      6898\n",
      "weighted avg       0.81      0.83      0.79      6898\n",
      "\n",
      "정확도(accuracy):  0.8331, 정밀도(precision):  0.6997, 재현율(recall):  0.166667, f1 score:  0.2692, auc값:  0.5752\n"
     ]
    }
   ],
   "source": [
    "# logistic\n",
    "\n",
    "model_lr = LogisticRegression().fit(sample_X, sample_y)\n",
    "pred_lr = model_lr.predict(valid_X)\n",
    "print(classification_report(valid['fire_yes'], pred_lr))\n",
    "\n",
    "evaluation(valid['fire_yes'], pred_lr)"
   ]
  },
  {
   "cell_type": "markdown",
   "metadata": {},
   "source": [
    "### Condensed Nearest Neighbour"
   ]
  },
  {
   "cell_type": "code",
   "execution_count": null,
   "metadata": {},
   "outputs": [],
   "source": [
    "# 오래걸린다\n",
    "# sample_X, sample_y = CondensedNearestNeighbour(random_state=17).fit_sample(train_X, train_y)\n",
    "\n",
    "# print(sample_X.shape)\n",
    "\n",
    "# # XGB 모델 예측, 검증\n",
    "# model_xgb = XGBClassifier(verbose = True).fit(pd.DataFrame(sample_X, columns=independents), pd.DataFrame(sample_y)[0])\n",
    "\n",
    "# pred_xgb = model_xgb.predict(valid_X)\n",
    "\n",
    "# print(classification_report(valid['fire_yes'], pred_xgb))\n",
    "\n",
    "# evaluation(valid['fire_yes'], pred_xgb)"
   ]
  },
  {
   "cell_type": "markdown",
   "metadata": {},
   "source": [
    "### One Sided Selection\n",
    "Tomek's Link + Condensed Nearest Neighbour"
   ]
  },
  {
   "cell_type": "code",
   "execution_count": 291,
   "metadata": {},
   "outputs": [
    {
     "name": "stdout",
     "output_type": "stream",
     "text": [
      "(47997, 73)\n",
      "              precision    recall  f1-score   support\n",
      "\n",
      "         0.0       0.87      0.89      0.88      5626\n",
      "         1.0       0.48      0.44      0.45      1272\n",
      "\n",
      "    accuracy                           0.81      6898\n",
      "   macro avg       0.67      0.66      0.67      6898\n",
      "weighted avg       0.80      0.81      0.80      6898\n",
      "\n",
      "정확도(accuracy):  0.8072, 정밀도(precision):  0.4751, 재현율(recall):  0.435535, f1 score:  0.4545, auc값:  0.6634\n"
     ]
    }
   ],
   "source": [
    "# sampling\n",
    "sample_X, sample_y = OneSidedSelection(random_state=17).fit_sample(train_X, train_y)\n",
    "\n",
    "print(sample_X.shape)\n",
    "\n",
    "# XGB 모델 예측\n",
    "model_xgb = XGBClassifier(verbose = True).fit(pd.DataFrame(sample_X, columns=independents), pd.DataFrame(sample_y)[0])\n",
    "\n",
    "pred_xgb = model_xgb.predict(valid_X)\n",
    "\n",
    "# Confusion Matrix\n",
    "print(classification_report(valid['fire_yes'], pred_xgb))\n",
    "\n",
    "# 검증\n",
    "evaluation(valid['fire_yes'], pred_xgb)"
   ]
  },
  {
   "cell_type": "code",
   "execution_count": 292,
   "metadata": {},
   "outputs": [
    {
     "name": "stdout",
     "output_type": "stream",
     "text": [
      "              precision    recall  f1-score   support\n",
      "\n",
      "         0.0       0.84      0.99      0.91      5626\n",
      "         1.0       0.71      0.16      0.26      1272\n",
      "\n",
      "    accuracy                           0.83      6898\n",
      "   macro avg       0.77      0.57      0.58      6898\n",
      "weighted avg       0.81      0.83      0.79      6898\n",
      "\n",
      "정확도(accuracy):  0.8331, 정밀도(precision):  0.7093, 재현율(recall):  0.161164, f1 score:  0.2627, auc값:  0.5731\n"
     ]
    }
   ],
   "source": [
    "# logistic\n",
    "\n",
    "model_lr = LogisticRegression().fit(sample_X, sample_y)\n",
    "pred_lr = model_lr.predict(valid_X)\n",
    "print(classification_report(valid['fire_yes'], pred_lr))\n",
    "\n",
    "evaluation(valid['fire_yes'], pred_lr)"
   ]
  },
  {
   "cell_type": "markdown",
   "metadata": {},
   "source": [
    "## OverSampling"
   ]
  },
  {
   "cell_type": "markdown",
   "metadata": {},
   "source": [
    "### Random Over Sampling"
   ]
  },
  {
   "cell_type": "code",
   "execution_count": 275,
   "metadata": {},
   "outputs": [
    {
     "name": "stdout",
     "output_type": "stream",
     "text": [
      "(86192, 72)\n",
      "              precision    recall  f1-score   support\n",
      "\n",
      "         0.0       0.94      0.32      0.47      5626\n",
      "         1.0       0.23      0.90      0.37      1272\n",
      "\n",
      "    accuracy                           0.42      6898\n",
      "   macro avg       0.58      0.61      0.42      6898\n",
      "weighted avg       0.81      0.42      0.45      6898\n",
      "\n",
      "정확도(accuracy):  0.4243, 정밀도(precision):  0.2302, 재현율(recall):  0.904874, f1 score:  0.3670, auc값:  0.6103\n"
     ]
    }
   ],
   "source": [
    "# sampling\n",
    "sample_X, sample_y = RandomOverSampler(random_state=17).fit_sample(train_X, train_y)\n",
    "print(sample_X.shape)\n",
    "# dtype 맞춰주기\n",
    "data = pd.DataFrame(sample_X, columns=independents)\n",
    "\n",
    "for x in float_col:\n",
    "    data[x] = data[x].apply(lambda x: float(x))\n",
    "    \n",
    "for x in bool_col:\n",
    "    data[x] = data[x].apply(lambda x: True if x == 'True' else False)\n",
    "\n",
    "data.dtypes\n",
    "\n",
    "# XGB 모델 예측\n",
    "model_xgb = XGBClassifier(verbose = True).fit(data, pd.DataFrame(sample_y)[0])\n",
    "\n",
    "pred_xgb = model_xgb.predict(valid_X)\n",
    "\n",
    "# Confusion Matrix\n",
    "print(classification_report(valid['fire_yes'], pred_xgb))\n",
    "\n",
    "# 검증\n",
    "evaluation(valid['fire_yes'], pred_xgb)"
   ]
  },
  {
   "cell_type": "code",
   "execution_count": 276,
   "metadata": {},
   "outputs": [
    {
     "name": "stdout",
     "output_type": "stream",
     "text": [
      "              precision    recall  f1-score   support\n",
      "\n",
      "         0.0       0.91      0.29      0.44      5626\n",
      "         1.0       0.22      0.87      0.35      1272\n",
      "\n",
      "    accuracy                           0.40      6898\n",
      "   macro avg       0.56      0.58      0.39      6898\n",
      "weighted avg       0.78      0.40      0.42      6898\n",
      "\n",
      "정확도(accuracy):  0.3978, 정밀도(precision):  0.2177, 재현율(recall):  0.873428, f1 score:  0.3485, auc값:  0.5818\n"
     ]
    }
   ],
   "source": [
    "# logistic\n",
    "\n",
    "model_lr = LogisticRegression().fit(sample_X, sample_y)\n",
    "pred_lr = model_lr.predict(valid_X)\n",
    "print(classification_report(valid['fire_yes'], pred_lr))\n",
    "\n",
    "evaluation(valid['fire_yes'], pred_lr)"
   ]
  },
  {
   "cell_type": "markdown",
   "metadata": {},
   "source": [
    "### ADASYN"
   ]
  },
  {
   "cell_type": "code",
   "execution_count": 277,
   "metadata": {},
   "outputs": [
    {
     "name": "stdout",
     "output_type": "stream",
     "text": [
      "(85854, 72)\n",
      "              precision    recall  f1-score   support\n",
      "\n",
      "         0.0       0.91      0.50      0.64      5626\n",
      "         1.0       0.26      0.77      0.39      1272\n",
      "\n",
      "    accuracy                           0.55      6898\n",
      "   macro avg       0.58      0.64      0.52      6898\n",
      "weighted avg       0.79      0.55      0.60      6898\n",
      "\n",
      "정확도(accuracy):  0.5500, 정밀도(precision):  0.2583, 재현율(recall):  0.769654, f1 score:  0.3868, auc값:  0.6350\n"
     ]
    }
   ],
   "source": [
    "# sampling\n",
    "sample_X, sample_y = ADASYN(random_state=17).fit_sample(train_X, train_y)\n",
    "print(sample_X.shape)\n",
    "\n",
    "# XGB 모델 예측\n",
    "model_xgb = XGBClassifier(verbose = True).fit(pd.DataFrame(sample_X, columns=independents), pd.DataFrame(sample_y)[0])\n",
    "\n",
    "pred_xgb = model_xgb.predict(valid_X)\n",
    "\n",
    "# Confusion Matrix\n",
    "print(classification_report(valid['fire_yes'], pred_xgb))\n",
    "\n",
    "# 검증\n",
    "evaluation(valid['fire_yes'], pred_xgb)"
   ]
  },
  {
   "cell_type": "code",
   "execution_count": 278,
   "metadata": {},
   "outputs": [
    {
     "name": "stdout",
     "output_type": "stream",
     "text": [
      "              precision    recall  f1-score   support\n",
      "\n",
      "         0.0       0.91      0.34      0.50      5626\n",
      "         1.0       0.23      0.85      0.36      1272\n",
      "\n",
      "    accuracy                           0.43      6898\n",
      "   macro avg       0.57      0.60      0.43      6898\n",
      "weighted avg       0.78      0.43      0.47      6898\n",
      "\n",
      "정확도(accuracy):  0.4345, 정밀도(precision):  0.2257, 재현율(recall):  0.850629, f1 score:  0.3568, auc값:  0.5955\n"
     ]
    }
   ],
   "source": [
    "# logistic\n",
    "\n",
    "model_lr = LogisticRegression().fit(sample_X, sample_y)\n",
    "pred_lr = model_lr.predict(valid_X)\n",
    "print(classification_report(valid['fire_yes'], pred_lr))\n",
    "\n",
    "evaluation(valid['fire_yes'], pred_lr)"
   ]
  },
  {
   "cell_type": "markdown",
   "metadata": {},
   "source": [
    "### SMOTE"
   ]
  },
  {
   "cell_type": "code",
   "execution_count": 279,
   "metadata": {},
   "outputs": [
    {
     "name": "stdout",
     "output_type": "stream",
     "text": [
      "(86192, 72)\n",
      "              precision    recall  f1-score   support\n",
      "\n",
      "         0.0       0.92      0.44      0.60      5626\n",
      "         1.0       0.25      0.82      0.38      1272\n",
      "\n",
      "    accuracy                           0.51      6898\n",
      "   macro avg       0.58      0.63      0.49      6898\n",
      "weighted avg       0.79      0.51      0.56      6898\n",
      "\n",
      "정확도(accuracy):  0.5122, 정밀도(precision):  0.2498, 재현율(recall):  0.821541, f1 score:  0.3831, auc값:  0.6319\n"
     ]
    }
   ],
   "source": [
    "# sampling\n",
    "sample_X, sample_y = SMOTE(random_state=17).fit_sample(train_X, train_y)\n",
    "print(sample_X.shape)\n",
    "# XGB 모델 예측\n",
    "model_xgb = XGBClassifier(verbose = True).fit(pd.DataFrame(sample_X, columns=independents), pd.DataFrame(sample_y)[0])\n",
    "\n",
    "pred_xgb = model_xgb.predict(valid_X)\n",
    "\n",
    "# Confusion Matrix\n",
    "print(classification_report(valid['fire_yes'], pred_xgb))\n",
    "\n",
    "# 검증\n",
    "evaluation(valid['fire_yes'], pred_xgb)"
   ]
  },
  {
   "cell_type": "code",
   "execution_count": 196,
   "metadata": {},
   "outputs": [
    {
     "name": "stdout",
     "output_type": "stream",
     "text": [
      "정확도(accuracy):  0.4836, 정밀도(precision):  0.2319, 재현율(recall):  0.778302, f1 score:  0.3573, auc값:  0.5976\n"
     ]
    }
   ],
   "source": [
    "# logistic\n",
    "\n",
    "model_lr = LogisticRegression().fit(sample_X, sample_y)\n",
    "pred_lr = model_lr.predict(valid_X)\n",
    "print(classification_report(valid['fire_yes'], pred_lr))\n",
    "\n",
    "evaluation(valid['fire_yes'], pred_lr)"
   ]
  },
  {
   "cell_type": "markdown",
   "metadata": {},
   "source": [
    "## 복합 샘플링"
   ]
  },
  {
   "cell_type": "markdown",
   "metadata": {},
   "source": [
    "### SMOTE + ENN"
   ]
  },
  {
   "cell_type": "code",
   "execution_count": 280,
   "metadata": {},
   "outputs": [
    {
     "name": "stdout",
     "output_type": "stream",
     "text": [
      "(59247, 72)\n",
      "              precision    recall  f1-score   support\n",
      "\n",
      "         0.0       0.93      0.33      0.48      5626\n",
      "         1.0       0.23      0.89      0.37      1272\n",
      "\n",
      "    accuracy                           0.43      6898\n",
      "   macro avg       0.58      0.61      0.42      6898\n",
      "weighted avg       0.80      0.43      0.46      6898\n",
      "\n",
      "정확도(accuracy):  0.4297, 정밀도(precision):  0.2297, 재현율(recall):  0.889151, f1 score:  0.3651, auc값:  0.6075\n"
     ]
    }
   ],
   "source": [
    "# sampling\n",
    "sample_X, sample_y = SMOTEENN(random_state=17).fit_sample(train_X, train_y)\n",
    "print(sample_X.shape)\n",
    "# XGB 모델 예측\n",
    "model_xgb = XGBClassifier(verbose = True).fit(pd.DataFrame(sample_X, columns=independents), pd.DataFrame(sample_y)[0])\n",
    "\n",
    "pred_xgb = model_xgb.predict(valid_X)\n",
    "\n",
    "# Confusion Matrix\n",
    "print(classification_report(valid['fire_yes'], pred_xgb))\n",
    "\n",
    "# 검증\n",
    "evaluation(valid['fire_yes'], pred_xgb)"
   ]
  },
  {
   "cell_type": "code",
   "execution_count": 198,
   "metadata": {},
   "outputs": [
    {
     "name": "stdout",
     "output_type": "stream",
     "text": [
      "정확도(accuracy):  0.3539, 정밀도(precision):  0.2118, 재현율(recall):  0.919811, f1 score:  0.3443, auc값:  0.5729\n"
     ]
    }
   ],
   "source": [
    "# logistic\n",
    "\n",
    "model_lr = LogisticRegression().fit(sample_X, sample_y)\n",
    "pred_lr = model_lr.predict(valid_X)\n",
    "evaluation(valid['fire_yes'], pred_lr)"
   ]
  },
  {
   "cell_type": "markdown",
   "metadata": {},
   "source": [
    "### SMOTE + Tomek"
   ]
  },
  {
   "cell_type": "code",
   "execution_count": 281,
   "metadata": {},
   "outputs": [
    {
     "name": "stdout",
     "output_type": "stream",
     "text": [
      "(83988, 72)\n",
      "              precision    recall  f1-score   support\n",
      "\n",
      "         0.0       0.92      0.41      0.56      5626\n",
      "         1.0       0.24      0.84      0.38      1272\n",
      "\n",
      "    accuracy                           0.49      6898\n",
      "   macro avg       0.58      0.62      0.47      6898\n",
      "weighted avg       0.79      0.49      0.53      6898\n",
      "\n",
      "정확도(accuracy):  0.4865, 정밀도(precision):  0.2427, 재현율(recall):  0.841981, f1 score:  0.3768, auc값:  0.6241\n"
     ]
    }
   ],
   "source": [
    "# sampling\n",
    "sample_X, sample_y = SMOTETomek(random_state=17).fit_sample(train_X, train_y)\n",
    "print(sample_X.shape)\n",
    "# XGB 모델 예측\n",
    "model_xgb = XGBClassifier(verbose = True).fit(pd.DataFrame(sample_X, columns=independents), pd.DataFrame(sample_y)[0])\n",
    "\n",
    "pred_xgb = model_xgb.predict(valid_X)\n",
    "\n",
    "# Confusion Matrix\n",
    "print(classification_report(valid['fire_yes'], pred_xgb))\n",
    "\n",
    "# 검증\n",
    "evaluation(valid['fire_yes'], pred_xgb)"
   ]
  },
  {
   "cell_type": "code",
   "execution_count": 200,
   "metadata": {},
   "outputs": [
    {
     "name": "stdout",
     "output_type": "stream",
     "text": [
      "정확도(accuracy):  0.4743, 정밀도(precision):  0.2307, 재현율(recall):  0.792453, f1 score:  0.3573, auc값:  0.5974\n"
     ]
    }
   ],
   "source": [
    "# logistic\n",
    "\n",
    "model_lr = LogisticRegression().fit(sample_X, sample_y)\n",
    "pred_lr = model_lr.predict(valid_X)\n",
    "evaluation(valid['fire_yes'], pred_lr)"
   ]
  },
  {
   "cell_type": "markdown",
   "metadata": {},
   "source": [
    "# 1. XGBoost & ROC 커브"
   ]
  },
  {
   "cell_type": "code",
   "execution_count": 58,
   "metadata": {
    "scrolled": true
   },
   "outputs": [],
   "source": [
    "# model_xgb = XGBClassifier(max_depth=10, n_estimators=300, learning_rate=0.05, verbose = True).fit(train_X, train_y)\n",
    "model_xgb = XGBClassifier().fit(train_X, train_y) \n",
    "# 좋은 파라미터를 찾아봐야할 것 같음"
   ]
  },
  {
   "cell_type": "code",
   "execution_count": 24,
   "metadata": {
    "scrolled": false
   },
   "outputs": [
    {
     "data": {
      "text/plain": [
       "array([0.02512182, 0.04326135, 0.02930102, 0.08129978, 0.10873783,\n",
       "       0.0256422 , 0.02563377, 0.02461213, 0.04323152, 0.03031191,\n",
       "       0.05074285, 0.03237819, 0.03335122, 0.02491524, 0.02073281,\n",
       "       0.02847298, 0.02663018, 0.02308415, 0.03178246, 0.02764697,\n",
       "       0.04113001, 0.03329974, 0.03314593, 0.02424571, 0.01141928,\n",
       "       0.01376465, 0.01281091, 0.        , 0.00278477, 0.01178843,\n",
       "       0.        , 0.        , 0.00688896, 0.        , 0.        ,\n",
       "       0.01088405, 0.        , 0.        , 0.        , 0.        ,\n",
       "       0.03182194, 0.        , 0.        , 0.02912525, 0.        ,\n",
       "       0.        , 0.        , 0.        , 0.        , 0.        ,\n",
       "       0.        , 0.        , 0.        , 0.        , 0.        ,\n",
       "       0.        , 0.        , 0.        , 0.        , 0.        ,\n",
       "       0.        ], dtype=float32)"
      ]
     },
     "execution_count": 24,
     "metadata": {},
     "output_type": "execute_result"
    }
   ],
   "source": [
    "model_xgb.feature_importances_"
   ]
  },
  {
   "cell_type": "markdown",
   "metadata": {},
   "source": [
    "### column 중요도"
   ]
  },
  {
   "cell_type": "code",
   "execution_count": 14,
   "metadata": {},
   "outputs": [],
   "source": [
    "feature_importance = list(model_xgb.feature_importances_)\n",
    "key = [ i for i in range(1, 23)]\n",
    "dictionary = dict(zip(key, feature_importance))"
   ]
  },
  {
   "cell_type": "code",
   "execution_count": 15,
   "metadata": {
    "scrolled": false
   },
   "outputs": [
    {
     "data": {
      "image/png": "[encoded data removed]",
      "text/plain": [
       "<Figure size 1080x720 with 1 Axes>"
      ]
     },
     "metadata": {},
     "output_type": "display_data"
    }
   ],
   "source": [
    "plt.bar(dictionary.keys(), dictionary.values())\n",
    "plt.show()"
   ]
  },
  {
   "cell_type": "markdown",
   "metadata": {},
   "source": [
    "3, 6, 8, 13, 16, 19 열이 화재 발생과 관련이 있음"
   ]
  },
  {
   "cell_type": "code",
   "execution_count": 59,
   "metadata": {},
   "outputs": [
    {
     "name": "stdout",
     "output_type": "stream",
     "text": [
      "정확도(accuracy):  0.8315, 정밀도(precision):  0.5753, 재현율(recall):  0.330189, f1 score:  0.4196, auc값:  0.6375\n"
     ]
    }
   ],
   "source": [
    "# 검증\n",
    "pred_xgb = model_xgb.predict(valid_X)\n",
    "\n",
    "print(classification_report(valid['fire_yes'], pred_xgb))\n",
    "\n",
    "evaluation(valid['fire_yes'], pred_xgb)"
   ]
  },
  {
   "cell_type": "markdown",
   "metadata": {},
   "source": [
    "### ROC 그리기"
   ]
  },
  {
   "cell_type": "code",
   "execution_count": 32,
   "metadata": {},
   "outputs": [],
   "source": [
    "fpr, tpr, thresholds = roc_curve(valid['fire_yes'], model_xgb.predict_proba(valid_X)[:, 1])"
   ]
  },
  {
   "cell_type": "code",
   "execution_count": 33,
   "metadata": {
    "scrolled": false
   },
   "outputs": [
    {
     "data": {
      "image/png": "[encoded data removed]",
      "text/plain": [
       "<Figure size 1080x720 with 1 Axes>"
      ]
     },
     "metadata": {},
     "output_type": "display_data"
    }
   ],
   "source": [
    "plt.plot(fpr, tpr, 'o-', ms=2, label=\"XGBoost\")\n",
    "plt.plot([0, 1], [0, 1], 'k--', label=\"random guess\")\n",
    "plt.legend()\n",
    "plt.xlabel('위양성률(Fall-Out)')\n",
    "plt.ylabel('재현률(Recall)')\n",
    "plt.title('ROC curve')\n",
    "plt.show()"
   ]
  },
  {
   "cell_type": "code",
   "execution_count": 34,
   "metadata": {},
   "outputs": [
    {
     "data": {
      "text/plain": [
       "0.6646195113880523"
      ]
     },
     "execution_count": 34,
     "metadata": {},
     "output_type": "execute_result"
    }
   ],
   "source": [
    "auc(fpr1, tpr1) # ROC 커브 면적"
   ]
  },
  {
   "cell_type": "markdown",
   "metadata": {},
   "source": [
    "# XGBoost DMatrix"
   ]
  },
  {
   "cell_type": "code",
   "execution_count": 109,
   "metadata": {},
   "outputs": [],
   "source": [
    "dtrain = xgb.DMatrix(train_X, label=train_y)"
   ]
  },
  {
   "cell_type": "code",
   "execution_count": 110,
   "metadata": {},
   "outputs": [],
   "source": [
    "param = {'bst:max_depth':2, 'bst:eta':1, 'silent':1, 'objective':'binary:logistic' }"
   ]
  },
  {
   "cell_type": "code",
   "execution_count": 111,
   "metadata": {},
   "outputs": [],
   "source": [
    "plst = param.items()"
   ]
  },
  {
   "cell_type": "code",
   "execution_count": 112,
   "metadata": {},
   "outputs": [],
   "source": [
    "bst = xgb.train(plst,dtrain,)"
   ]
  },
  {
   "cell_type": "code",
   "execution_count": 113,
   "metadata": {},
   "outputs": [],
   "source": [
    "dtest= xgb.DMatrix(valid_X)"
   ]
  },
  {
   "cell_type": "code",
   "execution_count": 114,
   "metadata": {},
   "outputs": [],
   "source": [
    "ypred = bst.predict(dtest)"
   ]
  },
  {
   "cell_type": "code",
   "execution_count": 115,
   "metadata": {},
   "outputs": [],
   "source": [
    "prediction_binomial_val = [1 if p>=0.4 else 0 for p in ypred]"
   ]
  },
  {
   "cell_type": "code",
   "execution_count": 116,
   "metadata": {},
   "outputs": [
    {
     "name": "stdout",
     "output_type": "stream",
     "text": [
      "f1 0.4618937644341801\n"
     ]
    }
   ],
   "source": [
    "print('f1', metrics.f1_score(prediction_binomial_val,valid['fire_yes']) )"
   ]
  },
  {
   "cell_type": "code",
   "execution_count": 117,
   "metadata": {
    "scrolled": true
   },
   "outputs": [
    {
     "name": "stdout",
     "output_type": "stream",
     "text": [
      "정확도(accuracy):  0.7973, 정밀도(precision):  0.4525, 재현율(recall):  0.471698, f1 score:  0.4619, auc값:  0.6713\n"
     ]
    }
   ],
   "source": [
    "evaluation(valid['fire_yes'], prediction_binomial_val)"
   ]
  },
  {
   "cell_type": "markdown",
   "metadata": {},
   "source": [
    "# 클러스터링한 데이터로 모델링"
   ]
  },
  {
   "cell_type": "code",
   "execution_count": 118,
   "metadata": {},
   "outputs": [],
   "source": [
    "train_c = pd.read_csv(\"train_3rd_cluster.csv\")\n",
    "test_c = pd.read_csv(\"test_3rd_cluster.csv\")\n",
    "valid_c = pd.read_csv(\"valid_3rd_cluster.csv\")"
   ]
  },
  {
   "cell_type": "code",
   "execution_count": 119,
   "metadata": {},
   "outputs": [],
   "source": [
    "# 적어준 변수 목록을 사용해 데이터를 트레이닝에 맞는 포맷으로 변경합니다.\n",
    "train_c_X = train_c[independents]\n",
    "train_c_y = train_c[dependent]\n",
    "\n",
    "test_c_X = test_c[independents]\n",
    "valid_c_X = valid_c[independents]"
   ]
  },
  {
   "cell_type": "code",
   "execution_count": 120,
   "metadata": {},
   "outputs": [],
   "source": [
    "dtrain_c = xgb.DMatrix(train_c_X, label=train_c_y)"
   ]
  },
  {
   "cell_type": "code",
   "execution_count": 121,
   "metadata": {},
   "outputs": [],
   "source": [
    "bst_c = xgb.train(plst,dtrain_c,)"
   ]
  },
  {
   "cell_type": "code",
   "execution_count": 122,
   "metadata": {},
   "outputs": [],
   "source": [
    "dtest_c= xgb.DMatrix(valid_c_X)"
   ]
  },
  {
   "cell_type": "code",
   "execution_count": 123,
   "metadata": {},
   "outputs": [],
   "source": [
    "ypred_c = bst_c.predict(dtest_c)"
   ]
  },
  {
   "cell_type": "code",
   "execution_count": 124,
   "metadata": {},
   "outputs": [],
   "source": [
    "prediction_binomial_val_c = [1 if p>=0.4 else 0 for p in ypred_c]"
   ]
  },
  {
   "cell_type": "code",
   "execution_count": 125,
   "metadata": {},
   "outputs": [
    {
     "name": "stdout",
     "output_type": "stream",
     "text": [
      "정확도(accuracy):  0.7799, 정밀도(precision):  0.4193, 재현율(recall):  0.502358, f1 score:  0.4571, auc값:  0.6725\n"
     ]
    }
   ],
   "source": [
    "evaluation(valid_c['fire_yes'], prediction_binomial_val_c)"
   ]
  },
  {
   "cell_type": "markdown",
   "metadata": {},
   "source": [
    "# PCA한 걸로 모델링"
   ]
  },
  {
   "cell_type": "code",
   "execution_count": null,
   "metadata": {},
   "outputs": [],
   "source": [
    "train_PCA = pd.read_csv(\"train_PCA.csv\")\n",
    "valid_PCA = pd.read_csv(\"valid_PCA.csv\")"
   ]
  },
  {
   "cell_type": "code",
   "execution_count": 299,
   "metadata": {},
   "outputs": [],
   "source": [
    "# 적어준 변수 목록을 사용해 데이터를 트레이닝에 맞는 포맷으로 변경합니다.\n",
    "train_PCA_X = train_PCA[independents]\n",
    "train_PCA_y = train_PCA[dependent]\n",
    "\n",
    "valid_PCA_X = valid_PCA[independents]"
   ]
  },
  {
   "cell_type": "code",
   "execution_count": 300,
   "metadata": {},
   "outputs": [],
   "source": [
    "dtrain_PCA = xgb.DMatrix(train_PCA_X, label=train_PCA_y)\n",
    "bst_PCA = xgb.train(plst,dtrain_PCA,)\n",
    "dtest_PCA= xgb.DMatrix(valid_PCA_X)\n",
    "ypred_PCA = bst_PCA.predict(dtest_PCA)"
   ]
  },
  {
   "cell_type": "code",
   "execution_count": 301,
   "metadata": {},
   "outputs": [],
   "source": [
    "prediction_binomial_val_PCA = [1 if p>=0.4 else 0 for p in ypred_PCA]"
   ]
  },
  {
   "cell_type": "code",
   "execution_count": 302,
   "metadata": {},
   "outputs": [
    {
     "name": "stdout",
     "output_type": "stream",
     "text": [
      "정확도(accuracy):  0.7773, 정밀도(precision):  0.4127, 재현율(recall):  0.490566, f1 score:  0.4483, auc값:  0.6664\n"
     ]
    }
   ],
   "source": [
    "evaluation(valid_PCA['fire_yes'], prediction_binomial_val_PCA)"
   ]
  },
  {
   "cell_type": "markdown",
   "metadata": {},
   "source": [
    "# jmk 추가 클러스터링"
   ]
  },
  {
   "cell_type": "code",
   "execution_count": 244,
   "metadata": {},
   "outputs": [],
   "source": [
    "train_c = pd.read_csv(\"train_3rd_cluster_jmk.csv\")\n",
    "test_c = pd.read_csv(\"test_3rd_cluster_jmk.csv\")\n",
    "valid_c = pd.read_csv(\"valid_3rd_cluster_jmk.csv\")"
   ]
  },
  {
   "cell_type": "code",
   "execution_count": 245,
   "metadata": {},
   "outputs": [],
   "source": [
    "# 적어준 변수 목록을 사용해 데이터를 트레이닝에 맞는 포맷으로 변경합니다.\n",
    "train_c_X = train_c[independents]\n",
    "train_c_y = train_c[dependent]\n",
    "\n",
    "test_c_X = test_c[independents]\n",
    "valid_c_X = valid_c[independents]"
   ]
  },
  {
   "cell_type": "code",
   "execution_count": 246,
   "metadata": {},
   "outputs": [],
   "source": [
    "dtrain_c = xgb.DMatrix(train_c_X, label=train_c_y)"
   ]
  },
  {
   "cell_type": "code",
   "execution_count": 247,
   "metadata": {},
   "outputs": [],
   "source": [
    "bst_c = xgb.train(plst,dtrain_c,)"
   ]
  },
  {
   "cell_type": "code",
   "execution_count": 248,
   "metadata": {},
   "outputs": [],
   "source": [
    "dtest_c= xgb.DMatrix(valid_c_X)"
   ]
  },
  {
   "cell_type": "code",
   "execution_count": 249,
   "metadata": {},
   "outputs": [],
   "source": [
    "ypred_c = bst_c.predict(dtest_c)"
   ]
  },
  {
   "cell_type": "code",
   "execution_count": 250,
   "metadata": {},
   "outputs": [],
   "source": [
    "prediction_binomial_val_c = [1 if p>=0.4 else 0 for p in ypred_c]"
   ]
  },
  {
   "cell_type": "code",
   "execution_count": 251,
   "metadata": {},
   "outputs": [
    {
     "name": "stdout",
     "output_type": "stream",
     "text": [
      "정확도(accuracy):  0.7746, 정밀도(precision):  0.4124, 재현율(recall):  0.523585, f1 score:  0.4614, auc값:  0.6775\n"
     ]
    }
   ],
   "source": [
    "evaluation(valid_c['fire_yes'], prediction_binomial_val_c)"
   ]
  },
  {
   "cell_type": "markdown",
   "metadata": {},
   "source": [
    "## 0과 2 군집 각각 나누어서 진행"
   ]
  },
  {
   "cell_type": "code",
   "execution_count": 252,
   "metadata": {},
   "outputs": [],
   "source": [
    "train_c_0 = train_c[train_c['cluster']==0]\n",
    "train_c_1 = train_c[train_c['cluster']==1]"
   ]
  },
  {
   "cell_type": "code",
   "execution_count": 253,
   "metadata": {},
   "outputs": [],
   "source": [
    "valid_c_0 = valid_c[valid_c['cluster']==0]\n",
    "valid_c_1 = valid_c[valid_c['cluster']==1]"
   ]
  },
  {
   "cell_type": "code",
   "execution_count": 254,
   "metadata": {},
   "outputs": [],
   "source": [
    "# 적어준 변수 목록을 사용해 데이터를 트레이닝에 맞는 포맷으로 변경합니다.\n",
    "train_c_0_X = train_c_0[independents]\n",
    "train_c_1_X = train_c_1[independents]\n",
    "train_c_0_y = train_c_0[dependent]\n",
    "train_c_1_y = train_c_1[dependent]\n",
    "\n",
    "valid_c_0_X = valid_c_0[independents]\n",
    "valid_c_1_X = valid_c_1[independents]"
   ]
  },
  {
   "cell_type": "code",
   "execution_count": 255,
   "metadata": {},
   "outputs": [],
   "source": [
    "dtrain_c_0 = xgb.DMatrix(train_c_0_X, label=train_c_0_y)\n",
    "dtrain_c_1 = xgb.DMatrix(train_c_1_X, label=train_c_1_y)"
   ]
  },
  {
   "cell_type": "code",
   "execution_count": 256,
   "metadata": {},
   "outputs": [],
   "source": [
    "bst_c_0 = xgb.train(plst,dtrain_c_0,)\n",
    "bst_c_1 = xgb.train(plst,dtrain_c_1,)\n",
    "dtest_c_0= xgb.DMatrix(valid_c_0_X)\n",
    "dtest_c_1= xgb.DMatrix(valid_c_1_X)\n",
    "ypred_c_0 = bst_c_0.predict(dtest_c_0)\n",
    "ypred_c_1 = bst_c_1.predict(dtest_c_1)"
   ]
  },
  {
   "cell_type": "code",
   "execution_count": 257,
   "metadata": {},
   "outputs": [],
   "source": [
    "prediction_binomial_val_c_0 = [1 if p>=0.11 else 0 for p in ypred_c_0]\n",
    "prediction_binomial_val_c_1 = [1 if p>=0.3 else 0 for p in ypred_c_1]"
   ]
  },
  {
   "cell_type": "code",
   "execution_count": 258,
   "metadata": {
    "scrolled": true
   },
   "outputs": [
    {
     "name": "stdout",
     "output_type": "stream",
     "text": [
      "정확도(accuracy):  0.4603, 정밀도(precision):  0.2544, 재현율(recall):  0.773669, f1 score:  0.3829, auc값:  0.5737\n"
     ]
    }
   ],
   "source": [
    "evaluation(valid_c_0['fire_yes'], prediction_binomial_val_c_0)"
   ]
  },
  {
   "cell_type": "code",
   "execution_count": 259,
   "metadata": {},
   "outputs": [
    {
     "name": "stdout",
     "output_type": "stream",
     "text": [
      "정확도(accuracy):  0.7167, 정밀도(precision):  0.2887, 재현율(recall):  0.541946, f1 score:  0.3767, auc값:  0.6457\n"
     ]
    }
   ],
   "source": [
    "evaluation(valid_c_1['fire_yes'], prediction_binomial_val_c_1)"
   ]
  },
  {
   "cell_type": "code",
   "execution_count": 260,
   "metadata": {
    "scrolled": false
   },
   "outputs": [],
   "source": [
    "concat_0 = pd.DataFrame(prediction_binomial_val_c_0, valid_c_0['id']).reset_index()"
   ]
  },
  {
   "cell_type": "code",
   "execution_count": 261,
   "metadata": {},
   "outputs": [],
   "source": [
    "concat_1 = pd.DataFrame(prediction_binomial_val_c_1, valid_c_1['id']).reset_index()"
   ]
  },
  {
   "cell_type": "code",
   "execution_count": 262,
   "metadata": {},
   "outputs": [],
   "source": [
    "concat_id = pd.concat([concat_0, concat_1])"
   ]
  },
  {
   "cell_type": "code",
   "execution_count": 263,
   "metadata": {
    "scrolled": false
   },
   "outputs": [],
   "source": [
    "valid_c_fire = valid_c.merge(concat_id, on ='id')"
   ]
  },
  {
   "cell_type": "code",
   "execution_count": 264,
   "metadata": {},
   "outputs": [],
   "source": [
    "valid_c_fire = valid_c_fire.rename(columns={0: 'fire_pred'})"
   ]
  },
  {
   "cell_type": "code",
   "execution_count": 265,
   "metadata": {
    "scrolled": true
   },
   "outputs": [
    {
     "name": "stdout",
     "output_type": "stream",
     "text": [
      "정확도(accuracy):  0.6006, 정밀도(precision):  0.6651, 재현율(recall):  0.266457, f1 score:  0.3805, auc값:  0.5760\n"
     ]
    }
   ],
   "source": [
    "evaluation(valid_c_fire['fire_pred'], valid_c_fire['fire_yes'])"
   ]
  },
  {
   "cell_type": "code",
   "execution_count": null,
   "metadata": {},
   "outputs": [],
   "source": []
  },
  {
   "cell_type": "markdown",
   "metadata": {},
   "source": [
    "# XGBoost 성능 비교\n",
    "max_depth 의사결정나무 모형 깊이 초모수를 달리해서 XGBoost 예측모형의 성능을 비교해본다."
   ]
  },
  {
   "cell_type": "code",
   "execution_count": 35,
   "metadata": {},
   "outputs": [],
   "source": [
    "f1_score_list = []\n",
    "\n",
    "max_depth_list = [10, 15]"
   ]
  },
  {
   "cell_type": "code",
   "execution_count": 36,
   "metadata": {
    "collapsed": true
   },
   "outputs": [
    {
     "ename": "KeyboardInterrupt",
     "evalue": "",
     "output_type": "error",
     "traceback": [
      "\u001b[1;31m---------------------------------------------------------------------------\u001b[0m",
      "\u001b[1;31mKeyboardInterrupt\u001b[0m                         Traceback (most recent call last)",
      "\u001b[1;32m<ipython-input-36-d1ae68d6b6a7>\u001b[0m in \u001b[0;36m<module>\u001b[1;34m\u001b[0m\n\u001b[0;32m      1\u001b[0m \u001b[1;32mfor\u001b[0m \u001b[0mmax_depth\u001b[0m \u001b[1;32min\u001b[0m \u001b[0mmax_depth_list\u001b[0m\u001b[1;33m:\u001b[0m\u001b[1;33m\u001b[0m\u001b[1;33m\u001b[0m\u001b[0m\n\u001b[0;32m      2\u001b[0m     \u001b[0mxgb_model\u001b[0m \u001b[1;33m=\u001b[0m \u001b[0mXGBClassifier\u001b[0m\u001b[1;33m(\u001b[0m\u001b[0mmax_depth\u001b[0m\u001b[1;33m=\u001b[0m\u001b[0mmax_depth\u001b[0m\u001b[1;33m)\u001b[0m\u001b[1;33m\u001b[0m\u001b[1;33m\u001b[0m\u001b[0m\n\u001b[1;32m----> 3\u001b[1;33m     \u001b[0mxgb_pred\u001b[0m \u001b[1;33m=\u001b[0m \u001b[0mxgb_model\u001b[0m\u001b[1;33m.\u001b[0m\u001b[0mfit\u001b[0m\u001b[1;33m(\u001b[0m\u001b[0mtrain_X\u001b[0m\u001b[1;33m,\u001b[0m \u001b[0mtrain_y\u001b[0m\u001b[1;33m)\u001b[0m\u001b[1;33m.\u001b[0m\u001b[0mpredict\u001b[0m\u001b[1;33m(\u001b[0m\u001b[0mvalid_X\u001b[0m\u001b[1;33m)\u001b[0m\u001b[1;33m\u001b[0m\u001b[1;33m\u001b[0m\u001b[0m\n\u001b[0m\u001b[0;32m      4\u001b[0m     \u001b[0mxgb_f1_score\u001b[0m \u001b[1;33m=\u001b[0m \u001b[0mf1_score\u001b[0m\u001b[1;33m(\u001b[0m\u001b[0mxgb_pred\u001b[0m\u001b[1;33m,\u001b[0m\u001b[0mvalid\u001b[0m\u001b[1;33m[\u001b[0m\u001b[1;34m'fr_yn'\u001b[0m\u001b[1;33m]\u001b[0m\u001b[1;33m)\u001b[0m\u001b[1;33m\u001b[0m\u001b[1;33m\u001b[0m\u001b[0m\n\u001b[0;32m      5\u001b[0m     \u001b[0mf1_score_list\u001b[0m\u001b[1;33m.\u001b[0m\u001b[0mappend\u001b[0m\u001b[1;33m(\u001b[0m\u001b[0mxgb_f1_score\u001b[0m\u001b[1;33m)\u001b[0m\u001b[1;33m\u001b[0m\u001b[1;33m\u001b[0m\u001b[0m\n",
      "\u001b[1;32mC:\\ProgramData\\Anaconda3\\lib\\site-packages\\xgboost\\sklearn.py\u001b[0m in \u001b[0;36mfit\u001b[1;34m(self, X, y, sample_weight, eval_set, eval_metric, early_stopping_rounds, verbose, xgb_model, sample_weight_eval_set, callbacks)\u001b[0m\n\u001b[0;32m    730\u001b[0m                               \u001b[0mevals_result\u001b[0m\u001b[1;33m=\u001b[0m\u001b[0mevals_result\u001b[0m\u001b[1;33m,\u001b[0m \u001b[0mobj\u001b[0m\u001b[1;33m=\u001b[0m\u001b[0mobj\u001b[0m\u001b[1;33m,\u001b[0m \u001b[0mfeval\u001b[0m\u001b[1;33m=\u001b[0m\u001b[0mfeval\u001b[0m\u001b[1;33m,\u001b[0m\u001b[1;33m\u001b[0m\u001b[1;33m\u001b[0m\u001b[0m\n\u001b[0;32m    731\u001b[0m                               \u001b[0mverbose_eval\u001b[0m\u001b[1;33m=\u001b[0m\u001b[0mverbose\u001b[0m\u001b[1;33m,\u001b[0m \u001b[0mxgb_model\u001b[0m\u001b[1;33m=\u001b[0m\u001b[0mxgb_model\u001b[0m\u001b[1;33m,\u001b[0m\u001b[1;33m\u001b[0m\u001b[1;33m\u001b[0m\u001b[0m\n\u001b[1;32m--> 732\u001b[1;33m                               callbacks=callbacks)\n\u001b[0m\u001b[0;32m    733\u001b[0m \u001b[1;33m\u001b[0m\u001b[0m\n\u001b[0;32m    734\u001b[0m         \u001b[0mself\u001b[0m\u001b[1;33m.\u001b[0m\u001b[0mobjective\u001b[0m \u001b[1;33m=\u001b[0m \u001b[0mxgb_options\u001b[0m\u001b[1;33m[\u001b[0m\u001b[1;34m\"objective\"\u001b[0m\u001b[1;33m]\u001b[0m\u001b[1;33m\u001b[0m\u001b[1;33m\u001b[0m\u001b[0m\n",
      "\u001b[1;32mC:\\ProgramData\\Anaconda3\\lib\\site-packages\\xgboost\\training.py\u001b[0m in \u001b[0;36mtrain\u001b[1;34m(params, dtrain, num_boost_round, evals, obj, feval, maximize, early_stopping_rounds, evals_result, verbose_eval, xgb_model, callbacks, learning_rates)\u001b[0m\n\u001b[0;32m    214\u001b[0m                            \u001b[0mevals\u001b[0m\u001b[1;33m=\u001b[0m\u001b[0mevals\u001b[0m\u001b[1;33m,\u001b[0m\u001b[1;33m\u001b[0m\u001b[1;33m\u001b[0m\u001b[0m\n\u001b[0;32m    215\u001b[0m                            \u001b[0mobj\u001b[0m\u001b[1;33m=\u001b[0m\u001b[0mobj\u001b[0m\u001b[1;33m,\u001b[0m \u001b[0mfeval\u001b[0m\u001b[1;33m=\u001b[0m\u001b[0mfeval\u001b[0m\u001b[1;33m,\u001b[0m\u001b[1;33m\u001b[0m\u001b[1;33m\u001b[0m\u001b[0m\n\u001b[1;32m--> 216\u001b[1;33m                            xgb_model=xgb_model, callbacks=callbacks)\n\u001b[0m\u001b[0;32m    217\u001b[0m \u001b[1;33m\u001b[0m\u001b[0m\n\u001b[0;32m    218\u001b[0m \u001b[1;33m\u001b[0m\u001b[0m\n",
      "\u001b[1;32mC:\\ProgramData\\Anaconda3\\lib\\site-packages\\xgboost\\training.py\u001b[0m in \u001b[0;36m_train_internal\u001b[1;34m(params, dtrain, num_boost_round, evals, obj, feval, xgb_model, callbacks)\u001b[0m\n\u001b[0;32m     72\u001b[0m         \u001b[1;31m# Skip the first update if it is a recovery step.\u001b[0m\u001b[1;33m\u001b[0m\u001b[1;33m\u001b[0m\u001b[1;33m\u001b[0m\u001b[0m\n\u001b[0;32m     73\u001b[0m         \u001b[1;32mif\u001b[0m \u001b[0mversion\u001b[0m \u001b[1;33m%\u001b[0m \u001b[1;36m2\u001b[0m \u001b[1;33m==\u001b[0m \u001b[1;36m0\u001b[0m\u001b[1;33m:\u001b[0m\u001b[1;33m\u001b[0m\u001b[1;33m\u001b[0m\u001b[0m\n\u001b[1;32m---> 74\u001b[1;33m             \u001b[0mbst\u001b[0m\u001b[1;33m.\u001b[0m\u001b[0mupdate\u001b[0m\u001b[1;33m(\u001b[0m\u001b[0mdtrain\u001b[0m\u001b[1;33m,\u001b[0m \u001b[0mi\u001b[0m\u001b[1;33m,\u001b[0m \u001b[0mobj\u001b[0m\u001b[1;33m)\u001b[0m\u001b[1;33m\u001b[0m\u001b[1;33m\u001b[0m\u001b[0m\n\u001b[0m\u001b[0;32m     75\u001b[0m             \u001b[0mbst\u001b[0m\u001b[1;33m.\u001b[0m\u001b[0msave_rabit_checkpoint\u001b[0m\u001b[1;33m(\u001b[0m\u001b[1;33m)\u001b[0m\u001b[1;33m\u001b[0m\u001b[1;33m\u001b[0m\u001b[0m\n\u001b[0;32m     76\u001b[0m             \u001b[0mversion\u001b[0m \u001b[1;33m+=\u001b[0m \u001b[1;36m1\u001b[0m\u001b[1;33m\u001b[0m\u001b[1;33m\u001b[0m\u001b[0m\n",
      "\u001b[1;32mC:\\ProgramData\\Anaconda3\\lib\\site-packages\\xgboost\\core.py\u001b[0m in \u001b[0;36mupdate\u001b[1;34m(self, dtrain, iteration, fobj)\u001b[0m\n\u001b[0;32m   1107\u001b[0m         \u001b[1;32mif\u001b[0m \u001b[0mfobj\u001b[0m \u001b[1;32mis\u001b[0m \u001b[1;32mNone\u001b[0m\u001b[1;33m:\u001b[0m\u001b[1;33m\u001b[0m\u001b[1;33m\u001b[0m\u001b[0m\n\u001b[0;32m   1108\u001b[0m             _check_call(_LIB.XGBoosterUpdateOneIter(self.handle, ctypes.c_int(iteration),\n\u001b[1;32m-> 1109\u001b[1;33m                                                     dtrain.handle))\n\u001b[0m\u001b[0;32m   1110\u001b[0m         \u001b[1;32melse\u001b[0m\u001b[1;33m:\u001b[0m\u001b[1;33m\u001b[0m\u001b[1;33m\u001b[0m\u001b[0m\n\u001b[0;32m   1111\u001b[0m             \u001b[0mpred\u001b[0m \u001b[1;33m=\u001b[0m \u001b[0mself\u001b[0m\u001b[1;33m.\u001b[0m\u001b[0mpredict\u001b[0m\u001b[1;33m(\u001b[0m\u001b[0mdtrain\u001b[0m\u001b[1;33m)\u001b[0m\u001b[1;33m\u001b[0m\u001b[1;33m\u001b[0m\u001b[0m\n",
      "\u001b[1;31mKeyboardInterrupt\u001b[0m: "
     ]
    }
   ],
   "source": [
    "for max_depth in max_depth_list:\n",
    "    xgb_model = XGBClassifier(max_depth=max_depth)\n",
    "    xgb_pred = xgb_model.fit(train_X, train_y).predict(valid_X)\n",
    "    xgb_f1_score = f1_score(xgb_pred,valid['fr_yn'])\n",
    "    f1_score_list.append(xgb_f1_score)"
   ]
  },
  {
   "cell_type": "code",
   "execution_count": null,
   "metadata": {},
   "outputs": [],
   "source": [
    "xgb_df = pd.DataFrame({'tree depth':max_depth_list, 'f1_score':f1_score_list})\n",
    "xgb_df.head()"
   ]
  },
  {
   "cell_type": "markdown",
   "metadata": {},
   "source": [
    "# XGBoost 시각화\n",
    "XGBoost 모형을 시각화함으로써 개발한 예측모형의 성능에 대해 더 깊은 이해를 가질 수 있다. xgb.plot_importance() 메쏘드에 XGBoost 모형객체를 넣어 변수중요도를 파악할 수 있다."
   ]
  },
  {
   "cell_type": "code",
   "execution_count": 128,
   "metadata": {
    "scrolled": true
   },
   "outputs": [
    {
     "data": {
      "text/plain": [
       "<matplotlib.axes._subplots.AxesSubplot at 0x1f4229162e8>"
      ]
     },
     "execution_count": 128,
     "metadata": {},
     "output_type": "execute_result"
    },
    {
     "data": {
      "image/png": "[encoded data removed]",
      "text/plain": [
       "<Figure size 1080x720 with 1 Axes>"
      ]
     },
     "metadata": {},
     "output_type": "display_data"
    }
   ],
   "source": [
    "xgb.plot_importance(model_xgb)"
   ]
  },
  {
   "cell_type": "markdown",
   "metadata": {},
   "source": [
    "## 클러스터링한 걸로 XGBoost 시각화"
   ]
  },
  {
   "cell_type": "code",
   "execution_count": 129,
   "metadata": {},
   "outputs": [],
   "source": [
    "model_xgb_c = XGBClassifier(max_depth=10, n_estimators=300, learning_rate=0.05, verbose = True).fit(train_c_X, train_c_y)"
   ]
  },
  {
   "cell_type": "code",
   "execution_count": 130,
   "metadata": {
    "scrolled": true
   },
   "outputs": [
    {
     "data": {
      "text/plain": [
       "<matplotlib.axes._subplots.AxesSubplot at 0x1f424c6fcf8>"
      ]
     },
     "execution_count": 130,
     "metadata": {},
     "output_type": "execute_result"
    },
    {
     "data": {
      "image/png": "[encoded data removed]",
      "text/plain": [
       "<Figure size 1080x720 with 1 Axes>"
      ]
     },
     "metadata": {},
     "output_type": "display_data"
    }
   ],
   "source": [
    "xgb.plot_importance(model_xgb_c)"
   ]
  },
  {
   "cell_type": "markdown",
   "metadata": {},
   "source": [
    "# 2. 로지스틱 회귀분석 & ROC 커브"
   ]
  },
  {
   "cell_type": "code",
   "execution_count": 21,
   "metadata": {},
   "outputs": [],
   "source": [
    "model_lr = LogisticRegression().fit(train_X, train_y)"
   ]
  },
  {
   "cell_type": "code",
   "execution_count": 24,
   "metadata": {},
   "outputs": [],
   "source": [
    "pred_lr = model_lr.predict(valid_X)\n",
    "# prediction2 = model2.predict(valid_X)"
   ]
  },
  {
   "cell_type": "code",
   "execution_count": 25,
   "metadata": {},
   "outputs": [
    {
     "data": {
      "text/plain": [
       "array([False, False, False, ..., False, False, False])"
      ]
     },
     "execution_count": 25,
     "metadata": {},
     "output_type": "execute_result"
    }
   ],
   "source": [
    "pred_lr"
   ]
  },
  {
   "cell_type": "code",
   "execution_count": 26,
   "metadata": {
    "scrolled": true
   },
   "outputs": [
    {
     "name": "stdout",
     "output_type": "stream",
     "text": [
      "f1 0.1760113555713272\n"
     ]
    }
   ],
   "source": [
    "print('f1', metrics.f1_score(pred_lr,valid['fire_yes']) )"
   ]
  },
  {
   "cell_type": "code",
   "execution_count": 27,
   "metadata": {},
   "outputs": [
    {
     "name": "stdout",
     "output_type": "stream",
     "text": [
      "정확도(accuracy):  0.8317, 정밀도(precision):  0.9051, 재현율(recall):  0.097484, f1 score:  0.1760, auc값:  0.5476\n"
     ]
    }
   ],
   "source": [
    "evaluation(valid['fire_yes'], pred_lr)"
   ]
  },
  {
   "cell_type": "code",
   "execution_count": 28,
   "metadata": {
    "scrolled": true
   },
   "outputs": [],
   "source": [
    "fpr1, tpr1, thresholds1 = roc_curve(valid['fire_yes'], model_lr.predict_proba(valid_X)[:, 1])"
   ]
  },
  {
   "cell_type": "code",
   "execution_count": 29,
   "metadata": {},
   "outputs": [
    {
     "data": {
      "image/png": "[encoded data removed]",
      "text/plain": [
       "<Figure size 1080x720 with 1 Axes>"
      ]
     },
     "metadata": {},
     "output_type": "display_data"
    }
   ],
   "source": [
    "plt.plot(fpr1, tpr1, 'o-', ms=2, label=\"Logistic Regression\")\n",
    "plt.plot([0, 1], [0, 1], 'k--', label=\"random guess\")\n",
    "plt.legend()\n",
    "plt.xlabel('위양성률(Fall-Out)')\n",
    "plt.ylabel('재현률(Recall)')\n",
    "plt.title('ROC curve')\n",
    "plt.show()"
   ]
  },
  {
   "cell_type": "code",
   "execution_count": 30,
   "metadata": {},
   "outputs": [
    {
     "data": {
      "text/plain": [
       "0.6646195113880523"
      ]
     },
     "execution_count": 30,
     "metadata": {},
     "output_type": "execute_result"
    }
   ],
   "source": [
    "auc(fpr1, tpr1) # ROC 커브 면적"
   ]
  },
  {
   "cell_type": "markdown",
   "metadata": {},
   "source": [
    "## 선형 회귀"
   ]
  },
  {
   "cell_type": "code",
   "execution_count": 100,
   "metadata": {
    "scrolled": true
   },
   "outputs": [],
   "source": [
    "model_reg = LinearRegression().fit(train_X, train_y)\n",
    "# 대문자는 매트릭스, 소문자는 벡터"
   ]
  },
  {
   "cell_type": "code",
   "execution_count": 103,
   "metadata": {},
   "outputs": [
    {
     "data": {
      "text/plain": [
       "array([[ 6.23359907e-04, -7.16793403e-05,  1.69645622e-03,\n",
       "        -8.68243206e-05, -7.64814354e-09,  1.47777524e-07,\n",
       "         1.33820246e-03,  3.05302288e-06,  3.87475868e-01,\n",
       "         3.18098186e-04,  7.58087405e-03,  5.28528141e-06,\n",
       "        -1.72506832e-03,  1.35804255e-07, -3.02263910e-06,\n",
       "        -2.07209268e-05,  2.82131291e-06,  7.36810710e-03,\n",
       "         1.29792978e-04, -4.77662709e-07,  4.89593907e-07,\n",
       "        -4.84821945e-06,  3.64320546e-04]])"
      ]
     },
     "execution_count": 103,
     "metadata": {},
     "output_type": "execute_result"
    }
   ],
   "source": [
    "# x 계수\n",
    "# x 계수의 의미를 해석하세요.\n",
    "model_reg.coef_\n",
    "# 피클래스가 한 계단 올라갈 때마다 죽음에 0.19배 가까워짐"
   ]
  },
  {
   "cell_type": "code",
   "execution_count": 104,
   "metadata": {},
   "outputs": [
    {
     "data": {
      "text/plain": [
       "array([0.21869984])"
      ]
     },
     "execution_count": 104,
     "metadata": {},
     "output_type": "execute_result"
    }
   ],
   "source": [
    "# 절편\n",
    "model_reg.intercept_"
   ]
  },
  {
   "cell_type": "code",
   "execution_count": null,
   "metadata": {},
   "outputs": [],
   "source": [
    "reg.score(train_X, train_y, sample_weight=None)"
   ]
  },
  {
   "cell_type": "code",
   "execution_count": 105,
   "metadata": {
    "scrolled": true
   },
   "outputs": [],
   "source": [
    "pred_reg = model_reg.predict(valid_X)"
   ]
  },
  {
   "cell_type": "code",
   "execution_count": 122,
   "metadata": {},
   "outputs": [],
   "source": [
    "pred_binomial = [1 if p>=0.2 else 0 for p in pred_reg]"
   ]
  },
  {
   "cell_type": "code",
   "execution_count": 123,
   "metadata": {},
   "outputs": [
    {
     "name": "stdout",
     "output_type": "stream",
     "text": [
      "f1 0.361843858246736\n"
     ]
    }
   ],
   "source": [
    "print('f1', metrics.f1_score(pred_binomial,valid['fr_yn']) )"
   ]
  },
  {
   "cell_type": "markdown",
   "metadata": {},
   "source": [
    "# RANDOM FOREST"
   ]
  },
  {
   "cell_type": "code",
   "execution_count": 124,
   "metadata": {},
   "outputs": [],
   "source": [
    "model_forest = RandomForestClassifier(random_state=42, n_estimators=10).fit(train_X, train_y)"
   ]
  },
  {
   "cell_type": "code",
   "execution_count": 125,
   "metadata": {},
   "outputs": [
    {
     "data": {
      "text/plain": [
       "array([0.02514199, 0.03466388, 0.03768561, 0.04007   , 0.04727033,\n",
       "       0.09146986, 0.02551794, 0.09234866, 0.00125666, 0.04739237,\n",
       "       0.0387478 , 0.02592874, 0.05491994, 0.04881427, 0.05001474,\n",
       "       0.06465765, 0.04709763, 0.00847794, 0.03034936, 0.0508745 ,\n",
       "       0.05512908, 0.06112974, 0.02104129])"
      ]
     },
     "execution_count": 125,
     "metadata": {},
     "output_type": "execute_result"
    }
   ],
   "source": [
    "model_forest.feature_importances_"
   ]
  },
  {
   "cell_type": "code",
   "execution_count": 126,
   "metadata": {},
   "outputs": [],
   "source": [
    "pred_forest = model_forest.predict(valid_X)"
   ]
  },
  {
   "cell_type": "code",
   "execution_count": 127,
   "metadata": {},
   "outputs": [
    {
     "data": {
      "text/plain": [
       "array([False, False, False, ..., False, False, False])"
      ]
     },
     "execution_count": 127,
     "metadata": {},
     "output_type": "execute_result"
    }
   ],
   "source": [
    "pred_forest"
   ]
  },
  {
   "cell_type": "code",
   "execution_count": 128,
   "metadata": {},
   "outputs": [
    {
     "name": "stdout",
     "output_type": "stream",
     "text": [
      "f1 0.33171258779038354\n"
     ]
    }
   ],
   "source": [
    "print('f1', metrics.f1_score(pred_forest,valid['fr_yn']) )"
   ]
  },
  {
   "cell_type": "code",
   "execution_count": 129,
   "metadata": {
    "scrolled": true
   },
   "outputs": [
    {
     "name": "stdout",
     "output_type": "stream",
     "text": [
      "정확도(accuracy):  0.8207, 정밀도(precision):  0.5302, 재현율(recall):  0.241352, f1 score:  0.3317, auc값:  0.5965\n"
     ]
    }
   ],
   "source": [
    "evaluation(valid['fr_yn'], pred_forest)"
   ]
  },
  {
   "cell_type": "markdown",
   "metadata": {},
   "source": [
    "# 클러스터링한 걸로 모델링"
   ]
  },
  {
   "cell_type": "code",
   "execution_count": 230,
   "metadata": {},
   "outputs": [],
   "source": [
    "model_forest_c = RandomForestClassifier(random_state=42, n_estimators=10).fit(train_c_X, train_c_y)"
   ]
  },
  {
   "cell_type": "code",
   "execution_count": 231,
   "metadata": {},
   "outputs": [],
   "source": [
    "pred_forest_c = model_forest_c.predict(valid_c_X)"
   ]
  },
  {
   "cell_type": "code",
   "execution_count": 233,
   "metadata": {},
   "outputs": [
    {
     "name": "stdout",
     "output_type": "stream",
     "text": [
      "정확도(accuracy):  0.8204, 정밀도(precision):  0.5242, 재현율(recall):  0.280660, f1 score:  0.3656, auc값:  0.6115\n"
     ]
    }
   ],
   "source": [
    "evaluation(valid_c['fire_yes'], pred_forest_c)"
   ]
  },
  {
   "cell_type": "markdown",
   "metadata": {},
   "source": [
    "# VALIDATION 한 번에 돌리기"
   ]
  },
  {
   "cell_type": "code",
   "execution_count": 268,
   "metadata": {},
   "outputs": [],
   "source": [
    "def train_and_val(model, num):\n",
    "    a = model.fit(train_X, train_y)\n",
    "    prediction_val = a.predict(valid_X)\n",
    "    prediction_binomial_val = [1 if p>=num else 0 for p in prediction_val]\n",
    "    print('f1:', f1_score(prediction_binomial_val,valid['fr_yn']) )\n",
    "    return prediction_val"
   ]
  },
  {
   "cell_type": "code",
   "execution_count": 142,
   "metadata": {
    "scrolled": true
   },
   "outputs": [
    {
     "name": "stdout",
     "output_type": "stream",
     "text": [
      "f1: 0.1760113555713272\n"
     ]
    },
    {
     "data": {
      "text/plain": [
       "array([False, False, False, ..., False, False, False])"
      ]
     },
     "execution_count": 142,
     "metadata": {},
     "output_type": "execute_result"
    }
   ],
   "source": [
    "train_and_val(LogisticRegression(), 0.5)"
   ]
  },
  {
   "cell_type": "code",
   "execution_count": 163,
   "metadata": {
    "scrolled": true
   },
   "outputs": [
    {
     "name": "stdout",
     "output_type": "stream",
     "text": [
      "f1: 0.3548574752763234\n"
     ]
    },
    {
     "data": {
      "text/plain": [
       "array([False, False, False, ..., False, False,  True])"
      ]
     },
     "execution_count": 163,
     "metadata": {},
     "output_type": "execute_result"
    }
   ],
   "source": [
    "train_and_val(RandomForestClassifier(n_estimators=700, oob_score=True, max_depth=12, min_samples_leaf=16, min_samples_split=8, n_jobs=-1), 0.5)"
   ]
  },
  {
   "cell_type": "code",
   "execution_count": 150,
   "metadata": {
    "scrolled": true
   },
   "outputs": [
    {
     "name": "stdout",
     "output_type": "stream",
     "text": [
      "f1: 0.3759820426487093\n"
     ]
    },
    {
     "data": {
      "text/plain": [
       "array([False, False, False, ..., False, False,  True])"
      ]
     },
     "execution_count": 150,
     "metadata": {},
     "output_type": "execute_result"
    }
   ],
   "source": [
    "train_and_val(RandomForestClassifier(random_state=10, n_estimators=100, max_depth = 15), 0.5)"
   ]
  },
  {
   "cell_type": "code",
   "execution_count": 162,
   "metadata": {},
   "outputs": [
    {
     "name": "stdout",
     "output_type": "stream",
     "text": [
      "최적 하이퍼 파라미터:  {'max_depth': 12, 'min_samples_leaf': 16, 'min_samples_split': 8, 'n_estimators': 100}\n",
      "최고 예측 정확도:  0.8805899545539018\n"
     ]
    }
   ],
   "source": [
    "params = {\n",
    "    'n_estimators': [100],\n",
    "    'max_depth': [6, 8, 10, 12],\n",
    "    'min_samples_leaf': [8, 12, 16],\n",
    "    'min_samples_split': [8, 16, 24]\n",
    "}\n",
    "\n",
    "rf_clf = RandomForestClassifier(random_state=0, n_jobs=-1)\n",
    "grid_cv = GridSearchCV(rf_clf, param_grid=params, cv=2, n_jobs=-1)\n",
    "grid_cv.fit(train_X, train_y)\n",
    "\n",
    "print(\"최적 하이퍼 파라미터: \", grid_cv.best_params_)\n",
    "print(\"최고 예측 정확도: \", grid_cv.best_score_)"
   ]
  },
  {
   "cell_type": "code",
   "execution_count": 161,
   "metadata": {},
   "outputs": [
    {
     "name": "stdout",
     "output_type": "stream",
     "text": [
      "최적 파라미터:  {'n_estimators': 500}\n",
      "최고 예측 정확도:  0.8771941680323022\n",
      "f1 score:  0.3716\n"
     ]
    }
   ],
   "source": [
    "params = {\n",
    "    'n_estimators': [100, 300, 500]\n",
    "}\n",
    "rf_clf_1 = RandomForestClassifier(max_depth=12, min_samples_leaf=16, min_samples_split=8, n_jobs=-1)\n",
    "grid_cv = GridSearchCV(rf_clf_1, param_grid=params, cv = 3, n_jobs=-1)\n",
    "grid_cv.fit(train_X, train_y)\n",
    "print(\"최적 파라미터: \", grid_cv.best_params_)\n",
    "print(\"최고 예측 정확도: \", grid_cv.best_score_)\n",
    "best_model = grid_cv.best_estimator_\n",
    "pred = best_model.predict(valid_X)\n",
    "f1 = f1_score(valid['fire_yes'], pred)\n",
    "print(\"f1 score: {0: .4f}\".format(f1))"
   ]
  },
  {
   "cell_type": "code",
   "execution_count": 145,
   "metadata": {
    "scrolled": true
   },
   "outputs": [
    {
     "name": "stdout",
     "output_type": "stream",
     "text": [
      "f1: 0.2458547741566609\n"
     ]
    },
    {
     "data": {
      "text/plain": [
       "array([False, False, False, ..., False, False, False])"
      ]
     },
     "execution_count": 145,
     "metadata": {},
     "output_type": "execute_result"
    }
   ],
   "source": [
    "train_and_val(KNeighborsClassifier(n_neighbors = 4), 0.1)"
   ]
  },
  {
   "cell_type": "code",
   "execution_count": 148,
   "metadata": {},
   "outputs": [
    {
     "name": "stdout",
     "output_type": "stream",
     "text": [
      "f1: 0.20083102493074792\n"
     ]
    },
    {
     "data": {
      "text/plain": [
       "array([False, False, False, ..., False, False, False])"
      ]
     },
     "execution_count": 148,
     "metadata": {},
     "output_type": "execute_result"
    }
   ],
   "source": [
    "train_and_val(GaussianNB(), 0.5)"
   ]
  },
  {
   "cell_type": "code",
   "execution_count": null,
   "metadata": {},
   "outputs": [],
   "source": [
    "# train_and_val(SVC())"
   ]
  },
  {
   "cell_type": "markdown",
   "metadata": {},
   "source": [
    "# 클러스터링한 애들로 한 번에 돌리기"
   ]
  },
  {
   "cell_type": "code",
   "execution_count": 267,
   "metadata": {},
   "outputs": [],
   "source": [
    "def train_and_val_c(model, num):\n",
    "    a = model.fit(train_c_X, train_c_y)\n",
    "    prediction_val = a.predict(valid_c_X)\n",
    "    prediction_binomial_val = [1 if p>=num else 0 for p in prediction_val]\n",
    "    print('f1:', f1_score(prediction_binomial_val,valid['fr_yn']) )\n",
    "    return prediction_val"
   ]
  },
  {
   "cell_type": "code",
   "execution_count": 269,
   "metadata": {},
   "outputs": [
    {
     "name": "stdout",
     "output_type": "stream",
     "text": [
      "f1: 0.1897399859451862\n"
     ]
    },
    {
     "data": {
      "text/plain": [
       "array([0., 0., 0., ..., 0., 0., 0.])"
      ]
     },
     "execution_count": 269,
     "metadata": {},
     "output_type": "execute_result"
    }
   ],
   "source": [
    "train_and_val_c(LogisticRegression(), 0.5)"
   ]
  },
  {
   "cell_type": "code",
   "execution_count": 270,
   "metadata": {},
   "outputs": [
    {
     "name": "stdout",
     "output_type": "stream",
     "text": [
      "f1: 0.3624856156501726\n"
     ]
    },
    {
     "data": {
      "text/plain": [
       "array([0., 0., 0., ..., 0., 0., 1.])"
      ]
     },
     "execution_count": 270,
     "metadata": {},
     "output_type": "execute_result"
    }
   ],
   "source": [
    "train_and_val_c(RandomForestClassifier(n_estimators=700, oob_score=True, max_depth=12, min_samples_leaf=16, min_samples_split=8, n_jobs=-1), 0.5)"
   ]
  },
  {
   "cell_type": "code",
   "execution_count": 271,
   "metadata": {},
   "outputs": [
    {
     "name": "stdout",
     "output_type": "stream",
     "text": [
      "f1: 0.37750135208220664\n"
     ]
    },
    {
     "data": {
      "text/plain": [
       "array([0., 0., 0., ..., 0., 0., 1.])"
      ]
     },
     "execution_count": 271,
     "metadata": {},
     "output_type": "execute_result"
    }
   ],
   "source": [
    "train_and_val_c(RandomForestClassifier(random_state=10, n_estimators=100, max_depth = 15), 0.5)"
   ]
  },
  {
   "cell_type": "code",
   "execution_count": 272,
   "metadata": {},
   "outputs": [
    {
     "name": "stdout",
     "output_type": "stream",
     "text": [
      "f1: 0.21271393643031786\n"
     ]
    },
    {
     "data": {
      "text/plain": [
       "array([0., 0., 0., ..., 0., 0., 0.])"
      ]
     },
     "execution_count": 272,
     "metadata": {},
     "output_type": "execute_result"
    }
   ],
   "source": [
    "train_and_val_c(KNeighborsClassifier(n_neighbors = 4), 0.1)"
   ]
  },
  {
   "cell_type": "code",
   "execution_count": 273,
   "metadata": {},
   "outputs": [
    {
     "name": "stdout",
     "output_type": "stream",
     "text": [
      "f1: 0.20097020097020096\n"
     ]
    },
    {
     "data": {
      "text/plain": [
       "array([0., 0., 0., ..., 0., 0., 0.])"
      ]
     },
     "execution_count": 273,
     "metadata": {},
     "output_type": "execute_result"
    }
   ],
   "source": [
    "train_and_val_c(GaussianNB(), 0.5)"
   ]
  },
  {
   "cell_type": "code",
   "execution_count": 277,
   "metadata": {},
   "outputs": [],
   "source": []
  }
 ],
 "metadata": {
  "kernelspec": {
   "display_name": "Python 3",
   "language": "python",
   "name": "python3"
  },
  "language_info": {
   "codemirror_mode": {
    "name": "ipython",
    "version": 3
   },
   "file_extension": ".py",
   "mimetype": "text/x-python",
   "name": "python",
   "nbconvert_exporter": "python",
   "pygments_lexer": "ipython3",
   "version": "3.7.3"
  }
 },
 "nbformat": 4,
 "nbformat_minor": 2
}
