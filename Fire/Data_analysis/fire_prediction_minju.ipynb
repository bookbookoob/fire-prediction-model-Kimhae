{
 "cells": [
  {
   "cell_type": "markdown",
   "metadata": {},
   "source": [
    "# LIBRARY"
   ]
  },
  {
   "cell_type": "code",
   "execution_count": 1,
   "metadata": {},
   "outputs": [],
   "source": [
    "import pandas as pd\n",
    "import numpy as np\n",
    "\n",
    "import matplotlib.pyplot as plt\n",
    "%matplotlib inline\n",
    "import seaborn as sns\n",
    "\n",
    "from sklearn.linear_model import LinearRegression\n",
    "from statsmodels.formula.api import ols\n",
    "from statsmodels.formula.api import glm\n",
    "from statsmodels.genmod.families.family import Binomial\n",
    "from sklearn.ensemble import RandomForestClassifier"
   ]
  },
  {
   "cell_type": "code",
   "execution_count": 2,
   "metadata": {},
   "outputs": [],
   "source": [
    "import xgboost as xgb\n",
    "from sklearn.model_selection import GridSearchCV\n",
    "from xgboost import XGBClassifier\n",
    "from sklearn.pipeline import Pipeline, make_pipeline\n",
    "from sklearn.linear_model import LogisticRegression\n",
    "from sklearn.svm import SVC\n",
    "from sklearn.ensemble import RandomForestClassifier\n",
    "import sklearn.metrics as metrics\n",
    "from sklearn.metrics import classification_report, accuracy_score, confusion_matrix, precision_score, recall_score, roc_auc_score, f1_score\n",
    "from sklearn.neighbors import KNeighborsClassifier\n",
    "from sklearn.naive_bayes import GaussianNB\n",
    "from sklearn.metrics import roc_curve\n",
    "from sklearn.metrics import auc"
   ]
  },
  {
   "cell_type": "code",
   "execution_count": 3,
   "metadata": {},
   "outputs": [],
   "source": [
    "import scipy as sp"
   ]
  },
  {
   "cell_type": "code",
   "execution_count": 4,
   "metadata": {},
   "outputs": [],
   "source": [
    "# imbalanced data 해결\n",
    "\n",
    "from imblearn.under_sampling import *\n",
    "from imblearn.over_sampling import *\n",
    "from imblearn.combine import *"
   ]
  },
  {
   "cell_type": "code",
   "execution_count": 5,
   "metadata": {},
   "outputs": [],
   "source": [
    "from matplotlib import font_manager, rc\n",
    "[font for font in font_manager.fontManager.ttflist if 'Malgun Gothic' in font.name]\n",
    "import seaborn as sns\n",
    "\n",
    "plt.rcParams[\"font.family\"] = 'NanumSquareRoundOTF'\n",
    "plt.rcParams[\"font.size\"] = 12"
   ]
  },
  {
   "cell_type": "code",
   "execution_count": 6,
   "metadata": {},
   "outputs": [],
   "source": [
    "import warnings\n",
    "warnings.filterwarnings('ignore')"
   ]
  },
  {
   "cell_type": "markdown",
   "metadata": {},
   "source": [
    "# DATA"
   ]
  },
  {
   "cell_type": "code",
   "execution_count": 7,
   "metadata": {},
   "outputs": [],
   "source": [
    "train = pd.read_csv('train_PCA_fill_ar.csv')\n",
    "valid = pd.read_csv('valid_PCA_fill_ar.csv')\n",
    "test = pd.read_csv('test_PCA_fill_ar.csv')"
   ]
  },
  {
   "cell_type": "code",
   "execution_count": 8,
   "metadata": {
    "scrolled": true
   },
   "outputs": [
    {
     "data": {
      "text/html": [
       "<div>\n",
       "<style scoped>\n",
       "    .dataframe tbody tr th:only-of-type {\n",
       "        vertical-align: middle;\n",
       "    }\n",
       "\n",
       "    .dataframe tbody tr th {\n",
       "        vertical-align: top;\n",
       "    }\n",
       "\n",
       "    .dataframe thead th {\n",
       "        text-align: right;\n",
       "    }\n",
       "</style>\n",
       "<table border=\"1\" class=\"dataframe\">\n",
       "  <thead>\n",
       "    <tr style=\"text-align: right;\">\n",
       "      <th></th>\n",
       "      <th>address</th>\n",
       "      <th>address1</th>\n",
       "      <th>address2</th>\n",
       "      <th>ahsm_dstnc</th>\n",
       "      <th>bldng_ar</th>\n",
       "      <th>bldng_cnt</th>\n",
       "      <th>bldng_cnt_in_50m</th>\n",
       "      <th>cctv_dstnc</th>\n",
       "      <th>cctv_in_100m</th>\n",
       "      <th>day</th>\n",
       "      <th>...</th>\n",
       "      <th>lnd_us_sttn_nm_체</th>\n",
       "      <th>lnd_us_sttn_nm_과</th>\n",
       "      <th>lnd_us_sttn_nm_묘</th>\n",
       "      <th>lnd_us_sttn_nm_공</th>\n",
       "      <th>lnd_us_sttn_nm_원</th>\n",
       "      <th>lnd_us_sttn_nm_사</th>\n",
       "      <th>lnd_us_sttn_nm_제</th>\n",
       "      <th>lnd_us_sttn_nm_수</th>\n",
       "      <th>ttl_dwn_flr</th>\n",
       "      <th>ttl_grnd_flr</th>\n",
       "    </tr>\n",
       "  </thead>\n",
       "  <tbody>\n",
       "    <tr>\n",
       "      <th>31416</th>\n",
       "      <td>창원시 봉림동</td>\n",
       "      <td>창원시</td>\n",
       "      <td>봉림동</td>\n",
       "      <td>118</td>\n",
       "      <td>[95.5]</td>\n",
       "      <td>2</td>\n",
       "      <td>0</td>\n",
       "      <td>155</td>\n",
       "      <td>0</td>\n",
       "      <td>13</td>\n",
       "      <td>...</td>\n",
       "      <td>False</td>\n",
       "      <td>False</td>\n",
       "      <td>False</td>\n",
       "      <td>False</td>\n",
       "      <td>False</td>\n",
       "      <td>False</td>\n",
       "      <td>False</td>\n",
       "      <td>False</td>\n",
       "      <td>0.0</td>\n",
       "      <td>0.0</td>\n",
       "    </tr>\n",
       "  </tbody>\n",
       "</table>\n",
       "<p>1 rows × 93 columns</p>\n",
       "</div>"
      ],
      "text/plain": [
       "       address address1 address2  ahsm_dstnc bldng_ar  bldng_cnt  \\\n",
       "31416  창원시 봉림동      창원시      봉림동         118   [95.5]          2   \n",
       "\n",
       "       bldng_cnt_in_50m  cctv_dstnc  cctv_in_100m  day  ... lnd_us_sttn_nm_체  \\\n",
       "31416                 0         155             0   13  ...            False   \n",
       "\n",
       "       lnd_us_sttn_nm_과  lnd_us_sttn_nm_묘  lnd_us_sttn_nm_공  lnd_us_sttn_nm_원  \\\n",
       "31416             False             False             False             False   \n",
       "\n",
       "       lnd_us_sttn_nm_사  lnd_us_sttn_nm_제  lnd_us_sttn_nm_수  ttl_dwn_flr  \\\n",
       "31416             False             False             False          0.0   \n",
       "\n",
       "       ttl_grnd_flr  \n",
       "31416           0.0  \n",
       "\n",
       "[1 rows x 93 columns]"
      ]
     },
     "execution_count": 8,
     "metadata": {},
     "output_type": "execute_result"
    }
   ],
   "source": [
    "train.sample()"
   ]
  },
  {
   "cell_type": "markdown",
   "metadata": {},
   "source": [
    "## f1 score 평가 함수"
   ]
  },
  {
   "cell_type": "code",
   "execution_count": 9,
   "metadata": {},
   "outputs": [],
   "source": [
    "def evaluation(y, pred):\n",
    "    confusion = confusion_matrix(y, pred)\n",
    "    accuracy = accuracy_score(y, pred)\n",
    "    precision = precision_score(y, pred)\n",
    "    recall = recall_score(y, pred)\n",
    "    f1 = f1_score(y, pred)\n",
    "    roc_score = roc_auc_score(y, pred)\n",
    "    \n",
    "    print('정확도(accuracy): {0: .4f}, 정밀도(precision): {1: .4f}, 재현율(recall): {2: 4f}, f1 score: {3: .4f}, auc값: {4: .4f}'.format(accuracy, precision, recall, f1, roc_score))"
   ]
  },
  {
   "cell_type": "markdown",
   "metadata": {},
   "source": [
    "## Outlier 제거"
   ]
  },
  {
   "cell_type": "code",
   "execution_count": 10,
   "metadata": {},
   "outputs": [],
   "source": [
    "# 창원시 전체 화재발생 0이라 제외\n",
    "train = train[train['address1'] != '창원시']"
   ]
  },
  {
   "cell_type": "markdown",
   "metadata": {},
   "source": [
    "# MAKING DATASET"
   ]
  },
  {
   "cell_type": "code",
   "execution_count": 11,
   "metadata": {},
   "outputs": [
    {
     "data": {
      "text/plain": [
       "Index(['address', 'address1', 'address2', 'ahsm_dstnc', 'bldng_ar',\n",
       "       'bldng_cnt', 'bldng_cnt_in_50m', 'cctv_dstnc', 'cctv_in_100m', 'day',\n",
       "       'dayofweek', 'fire_yes', 'fr_mn_cnt', 'fr_sttn_dstnc',\n",
       "       'fr_wthr_fclt_dstnc', 'fr_wthr_fclt_in_100m', 'hm_cnt', 'hmdt', 'hour',\n",
       "       'id', 'jmk', 'lnd_ar', 'minute', 'mlt_us_yn(encode)', 'month',\n",
       "       'no_tbc_zn_dstnc', 'second', 'sft_emrgnc_bll_dstnc', 'tag',\n",
       "       'tbc_rtl_str_dstnc', 'tmprtr', 'ttl_ar', 'wnd_drctn', 'wnd_spd', 'year',\n",
       "       'year-month', 'year-month-day', 'cluster', 'Comp1', 'Comp2', 'jmk_주',\n",
       "       'jmk_잡', 'jmk_종', 'jmk_차', 'jmk_답', 'jmk_장', 'jmk_양', 'jmk_전', 'jmk_창',\n",
       "       'jmk_학', 'jmk_목', 'jmk_도', 'jmk_임', 'jmk_철', 'jmk_유', 'jmk_천', 'jmk_구',\n",
       "       'jmk_체', 'jmk_과', 'jmk_묘', 'jmk_공', 'jmk_원', 'jmk_사', 'jmk_제', 'jmk_수',\n",
       "       'lnd_us_sttn_nm(clean)', 'lnd_us_sttn_nm_주', 'lnd_us_sttn_nm_잡',\n",
       "       'lnd_us_sttn_nm_종', 'lnd_us_sttn_nm_차', 'lnd_us_sttn_nm_답',\n",
       "       'lnd_us_sttn_nm_장', 'lnd_us_sttn_nm_양', 'lnd_us_sttn_nm_전',\n",
       "       'lnd_us_sttn_nm_창', 'lnd_us_sttn_nm_학', 'lnd_us_sttn_nm_목',\n",
       "       'lnd_us_sttn_nm_도', 'lnd_us_sttn_nm_임', 'lnd_us_sttn_nm_철',\n",
       "       'lnd_us_sttn_nm_유', 'lnd_us_sttn_nm_천', 'lnd_us_sttn_nm_구',\n",
       "       'lnd_us_sttn_nm_체', 'lnd_us_sttn_nm_과', 'lnd_us_sttn_nm_묘',\n",
       "       'lnd_us_sttn_nm_공', 'lnd_us_sttn_nm_원', 'lnd_us_sttn_nm_사',\n",
       "       'lnd_us_sttn_nm_제', 'lnd_us_sttn_nm_수', 'ttl_dwn_flr', 'ttl_grnd_flr'],\n",
       "      dtype='object')"
      ]
     },
     "execution_count": 11,
     "metadata": {},
     "output_type": "execute_result"
    }
   ],
   "source": [
    "train.columns"
   ]
  },
  {
   "cell_type": "code",
   "execution_count": 12,
   "metadata": {},
   "outputs": [],
   "source": [
    "train['dayofweek(int)'] = pd.to_datetime(train['year-month-day']).dt.dayofweek\n",
    "test['dayofweek(int)'] = pd.to_datetime(test['year-month-day']).dt.dayofweek\n",
    "valid['dayofweek(int)'] = pd.to_datetime(valid['year-month-day']).dt.dayofweek"
   ]
  },
  {
   "cell_type": "code",
   "execution_count": 13,
   "metadata": {},
   "outputs": [],
   "source": [
    "# choose independent variables(Xs) which are useful!\n",
    "# 트레이닝에 사용할 변수 목록을 적어주세요.\n",
    "\n",
    "float_col = ['year', 'month', 'dayofweek(int)', 'hour'\n",
    "             , 'lnd_ar', 'ttl_ar', 'bldng_ar', 'ttl_dwn_flr', 'ttl_grnd_flr'\n",
    "             , 'tmprtr', 'wnd_spd', 'hmdt', 'wnd_drctn'\n",
    "             , 'Comp1', 'Comp2'\n",
    "            , 'hm_cnt'\n",
    "             \n",
    "#              , 'no_tbc_zn_dstnc', 'bldng_cnt_in_50m', 'fr_wthr_fclt_in_100m', 'cctv_in_100m'\n",
    "             , 'fr_sttn_dstnc', 'fr_mn_cnt', 'fr_wthr_fclt_dstnc'\n",
    "             , 'cctv_dstnc', 'tbc_rtl_str_dstnc', 'sft_emrgnc_bll_dstnc', 'ahsm_dstnc']\n",
    "\n",
    "bool_col =['lnd_us_sttn_nm_주', 'lnd_us_sttn_nm_잡', 'lnd_us_sttn_nm_종', 'lnd_us_sttn_nm_차', 'lnd_us_sttn_nm_답', 'lnd_us_sttn_nm_장', 'lnd_us_sttn_nm_양', 'lnd_us_sttn_nm_전', 'lnd_us_sttn_nm_창', 'lnd_us_sttn_nm_학', 'lnd_us_sttn_nm_목', 'lnd_us_sttn_nm_도', 'lnd_us_sttn_nm_임', 'lnd_us_sttn_nm_철', 'lnd_us_sttn_nm_유', 'lnd_us_sttn_nm_천', 'lnd_us_sttn_nm_구', 'lnd_us_sttn_nm_체', 'lnd_us_sttn_nm_과', 'lnd_us_sttn_nm_묘', 'lnd_us_sttn_nm_공', 'lnd_us_sttn_nm_원', 'lnd_us_sttn_nm_사', 'lnd_us_sttn_nm_제', 'lnd_us_sttn_nm_수'\n",
    "          , 'jmk_주', 'jmk_잡', 'jmk_종', 'jmk_차', 'jmk_답', 'jmk_장', 'jmk_양', 'jmk_전', 'jmk_창', 'jmk_학', 'jmk_목', 'jmk_도', 'jmk_임', 'jmk_철', 'jmk_유', 'jmk_천', 'jmk_구', 'jmk_체', 'jmk_과', 'jmk_묘', 'jmk_공', 'jmk_원', 'jmk_사', 'jmk_제', 'jmk_수'\n",
    "           , 'ttl_dwn_flr', 'ttl_grnd_flr'\n",
    "          ]\n",
    "\n",
    "independents = float_col + bool_col\n",
    "\n",
    "\n",
    "# 문자열 제외 'dayofweek', 'year-month','year-month-day', 'address', 'address1', 'address2', 'jmk'\n",
    "# 관련 없는 열 제외 'id', 'second'(second가 0인게 많아서 fire_yes와 상관관계 높음) \n",
    "# 'fr_wthr_fclt_in_100m','ahsm_dstnc' 지역간 편차가 큰 애들 제외\n",
    "# 독립변수\n",
    "dependent = ['fire_yes'] # 종속변수"
   ]
  },
  {
   "cell_type": "code",
   "execution_count": 18,
   "metadata": {},
   "outputs": [
    {
     "name": "stdout",
     "output_type": "stream",
     "text": [
      "<class 'pandas.core.frame.DataFrame'>\n",
      "Int64Index: 50749 entries, 0 to 59190\n",
      "Data columns (total 94 columns):\n",
      "address                  50749 non-null object\n",
      "address1                 50749 non-null object\n",
      "address2                 50749 non-null object\n",
      "ahsm_dstnc               50749 non-null int64\n",
      "bldng_ar                 50749 non-null object\n",
      "bldng_cnt                50749 non-null int64\n",
      "bldng_cnt_in_50m         50749 non-null int64\n",
      "cctv_dstnc               50749 non-null int64\n",
      "cctv_in_100m             50749 non-null int64\n",
      "day                      50749 non-null int64\n",
      "dayofweek                50749 non-null object\n",
      "fire_yes                 50749 non-null float64\n",
      "fr_mn_cnt                50749 non-null float64\n",
      "fr_sttn_dstnc            50749 non-null int64\n",
      "fr_wthr_fclt_dstnc       50749 non-null int64\n",
      "fr_wthr_fclt_in_100m     50749 non-null int64\n",
      "hm_cnt                   50749 non-null float64\n",
      "hmdt                     50749 non-null float64\n",
      "hour                     50749 non-null int64\n",
      "id                       50749 non-null int64\n",
      "jmk                      50749 non-null object\n",
      "lnd_ar                   50749 non-null object\n",
      "minute                   50749 non-null int64\n",
      "mlt_us_yn(encode)        50749 non-null bool\n",
      "month                    50749 non-null int64\n",
      "no_tbc_zn_dstnc          50749 non-null int64\n",
      "second                   50749 non-null int64\n",
      "sft_emrgnc_bll_dstnc     50749 non-null int64\n",
      "tag                      50749 non-null object\n",
      "tbc_rtl_str_dstnc        50749 non-null int64\n",
      "tmprtr                   50749 non-null float64\n",
      "ttl_ar                   50749 non-null object\n",
      "wnd_drctn                50749 non-null float64\n",
      "wnd_spd                  50749 non-null float64\n",
      "year                     50749 non-null int64\n",
      "year-month               50749 non-null object\n",
      "year-month-day           50749 non-null object\n",
      "cluster                  50749 non-null int64\n",
      "Comp1                    50749 non-null float64\n",
      "Comp2                    50749 non-null float64\n",
      "jmk_주                    50749 non-null bool\n",
      "jmk_잡                    50749 non-null bool\n",
      "jmk_종                    50749 non-null bool\n",
      "jmk_차                    50749 non-null bool\n",
      "jmk_답                    50749 non-null bool\n",
      "jmk_장                    50749 non-null bool\n",
      "jmk_양                    50749 non-null bool\n",
      "jmk_전                    50749 non-null bool\n",
      "jmk_창                    50749 non-null bool\n",
      "jmk_학                    50749 non-null bool\n",
      "jmk_목                    50749 non-null bool\n",
      "jmk_도                    50749 non-null bool\n",
      "jmk_임                    50749 non-null bool\n",
      "jmk_철                    50749 non-null bool\n",
      "jmk_유                    50749 non-null bool\n",
      "jmk_천                    50749 non-null bool\n",
      "jmk_구                    50749 non-null bool\n",
      "jmk_체                    50749 non-null bool\n",
      "jmk_과                    50749 non-null bool\n",
      "jmk_묘                    50749 non-null bool\n",
      "jmk_공                    50749 non-null bool\n",
      "jmk_원                    50749 non-null bool\n",
      "jmk_사                    50749 non-null bool\n",
      "jmk_제                    50749 non-null bool\n",
      "jmk_수                    50749 non-null bool\n",
      "lnd_us_sttn_nm(clean)    50749 non-null object\n",
      "lnd_us_sttn_nm_주         50749 non-null bool\n",
      "lnd_us_sttn_nm_잡         50749 non-null bool\n",
      "lnd_us_sttn_nm_종         50749 non-null bool\n",
      "lnd_us_sttn_nm_차         50749 non-null bool\n",
      "lnd_us_sttn_nm_답         50749 non-null bool\n",
      "lnd_us_sttn_nm_장         50749 non-null bool\n",
      "lnd_us_sttn_nm_양         50749 non-null bool\n",
      "lnd_us_sttn_nm_전         50749 non-null bool\n",
      "lnd_us_sttn_nm_창         50749 non-null bool\n",
      "lnd_us_sttn_nm_학         50749 non-null bool\n",
      "lnd_us_sttn_nm_목         50749 non-null bool\n",
      "lnd_us_sttn_nm_도         50749 non-null bool\n",
      "lnd_us_sttn_nm_임         50749 non-null bool\n",
      "lnd_us_sttn_nm_철         50749 non-null bool\n",
      "lnd_us_sttn_nm_유         50749 non-null bool\n",
      "lnd_us_sttn_nm_천         50749 non-null bool\n",
      "lnd_us_sttn_nm_구         50749 non-null bool\n",
      "lnd_us_sttn_nm_체         50749 non-null bool\n",
      "lnd_us_sttn_nm_과         50749 non-null bool\n",
      "lnd_us_sttn_nm_묘         50749 non-null bool\n",
      "lnd_us_sttn_nm_공         50749 non-null bool\n",
      "lnd_us_sttn_nm_원         50749 non-null bool\n",
      "lnd_us_sttn_nm_사         50749 non-null bool\n",
      "lnd_us_sttn_nm_제         50749 non-null bool\n",
      "lnd_us_sttn_nm_수         50749 non-null bool\n",
      "ttl_dwn_flr              50749 non-null float64\n",
      "ttl_grnd_flr             50749 non-null float64\n",
      "dayofweek(int)           50749 non-null int64\n",
      "dtypes: bool(51), float64(11), int64(20), object(12)\n",
      "memory usage: 19.5+ MB\n"
     ]
    }
   ],
   "source": [
    "train.info()"
   ]
  },
  {
   "cell_type": "code",
   "execution_count": 14,
   "metadata": {},
   "outputs": [],
   "source": [
    "# 적어준 변수 목록을 사용해 데이터를 트레이닝에 맞는 포맷으로 변경합니다.\n",
    "train_X = train[independents]\n",
    "train_y = train[dependent]\n",
    "\n",
    "test_X = test[independents]\n",
    "valid_X = valid[independents]"
   ]
  },
  {
   "cell_type": "code",
   "execution_count": 15,
   "metadata": {},
   "outputs": [
    {
     "ename": "ValueError",
     "evalue": "could not convert string to float: '[1146.7]'",
     "output_type": "error",
     "traceback": [
      "\u001b[0;31m---------------------------------------------------------------------------\u001b[0m",
      "\u001b[0;31mValueError\u001b[0m                                Traceback (most recent call last)",
      "\u001b[0;32m<ipython-input-15-82b31a74e58b>\u001b[0m in \u001b[0;36m<module>\u001b[0;34m\u001b[0m\n\u001b[1;32m      1\u001b[0m \u001b[0;31m# logistic\u001b[0m\u001b[0;34m\u001b[0m\u001b[0;34m\u001b[0m\u001b[0m\n\u001b[1;32m      2\u001b[0m \u001b[0;34m\u001b[0m\u001b[0m\n\u001b[0;32m----> 3\u001b[0;31m \u001b[0mmodel_lr\u001b[0m \u001b[0;34m=\u001b[0m \u001b[0mLogisticRegression\u001b[0m\u001b[0;34m(\u001b[0m\u001b[0;34m)\u001b[0m\u001b[0;34m.\u001b[0m\u001b[0mfit\u001b[0m\u001b[0;34m(\u001b[0m\u001b[0mtrain_X\u001b[0m\u001b[0;34m,\u001b[0m \u001b[0mtrain_y\u001b[0m\u001b[0;34m)\u001b[0m\u001b[0;34m\u001b[0m\u001b[0m\n\u001b[0m\u001b[1;32m      4\u001b[0m \u001b[0mpred_lr\u001b[0m \u001b[0;34m=\u001b[0m \u001b[0mmodel_lr\u001b[0m\u001b[0;34m.\u001b[0m\u001b[0mpredict\u001b[0m\u001b[0;34m(\u001b[0m\u001b[0mvalid_X\u001b[0m\u001b[0;34m)\u001b[0m\u001b[0;34m\u001b[0m\u001b[0m\n\u001b[1;32m      5\u001b[0m \u001b[0;34m\u001b[0m\u001b[0m\n",
      "\u001b[0;32m/usr/local/lib/python3.7/site-packages/sklearn/linear_model/logistic.py\u001b[0m in \u001b[0;36mfit\u001b[0;34m(self, X, y, sample_weight)\u001b[0m\n\u001b[1;32m   1530\u001b[0m \u001b[0;34m\u001b[0m\u001b[0m\n\u001b[1;32m   1531\u001b[0m         X, y = check_X_y(X, y, accept_sparse='csr', dtype=_dtype, order=\"C\",\n\u001b[0;32m-> 1532\u001b[0;31m                          accept_large_sparse=solver != 'liblinear')\n\u001b[0m\u001b[1;32m   1533\u001b[0m         \u001b[0mcheck_classification_targets\u001b[0m\u001b[0;34m(\u001b[0m\u001b[0my\u001b[0m\u001b[0;34m)\u001b[0m\u001b[0;34m\u001b[0m\u001b[0m\n\u001b[1;32m   1534\u001b[0m         \u001b[0mself\u001b[0m\u001b[0;34m.\u001b[0m\u001b[0mclasses_\u001b[0m \u001b[0;34m=\u001b[0m \u001b[0mnp\u001b[0m\u001b[0;34m.\u001b[0m\u001b[0munique\u001b[0m\u001b[0;34m(\u001b[0m\u001b[0my\u001b[0m\u001b[0;34m)\u001b[0m\u001b[0;34m\u001b[0m\u001b[0m\n",
      "\u001b[0;32m/usr/local/lib/python3.7/site-packages/sklearn/utils/validation.py\u001b[0m in \u001b[0;36mcheck_X_y\u001b[0;34m(X, y, accept_sparse, accept_large_sparse, dtype, order, copy, force_all_finite, ensure_2d, allow_nd, multi_output, ensure_min_samples, ensure_min_features, y_numeric, warn_on_dtype, estimator)\u001b[0m\n\u001b[1;32m    717\u001b[0m                     \u001b[0mensure_min_features\u001b[0m\u001b[0;34m=\u001b[0m\u001b[0mensure_min_features\u001b[0m\u001b[0;34m,\u001b[0m\u001b[0;34m\u001b[0m\u001b[0m\n\u001b[1;32m    718\u001b[0m                     \u001b[0mwarn_on_dtype\u001b[0m\u001b[0;34m=\u001b[0m\u001b[0mwarn_on_dtype\u001b[0m\u001b[0;34m,\u001b[0m\u001b[0;34m\u001b[0m\u001b[0m\n\u001b[0;32m--> 719\u001b[0;31m                     estimator=estimator)\n\u001b[0m\u001b[1;32m    720\u001b[0m     \u001b[0;32mif\u001b[0m \u001b[0mmulti_output\u001b[0m\u001b[0;34m:\u001b[0m\u001b[0;34m\u001b[0m\u001b[0m\n\u001b[1;32m    721\u001b[0m         y = check_array(y, 'csr', force_all_finite=True, ensure_2d=False,\n",
      "\u001b[0;32m/usr/local/lib/python3.7/site-packages/sklearn/utils/validation.py\u001b[0m in \u001b[0;36mcheck_array\u001b[0;34m(array, accept_sparse, accept_large_sparse, dtype, order, copy, force_all_finite, ensure_2d, allow_nd, ensure_min_samples, ensure_min_features, warn_on_dtype, estimator)\u001b[0m\n\u001b[1;32m    494\u001b[0m             \u001b[0;32mtry\u001b[0m\u001b[0;34m:\u001b[0m\u001b[0;34m\u001b[0m\u001b[0m\n\u001b[1;32m    495\u001b[0m                 \u001b[0mwarnings\u001b[0m\u001b[0;34m.\u001b[0m\u001b[0msimplefilter\u001b[0m\u001b[0;34m(\u001b[0m\u001b[0;34m'error'\u001b[0m\u001b[0;34m,\u001b[0m \u001b[0mComplexWarning\u001b[0m\u001b[0;34m)\u001b[0m\u001b[0;34m\u001b[0m\u001b[0m\n\u001b[0;32m--> 496\u001b[0;31m                 \u001b[0marray\u001b[0m \u001b[0;34m=\u001b[0m \u001b[0mnp\u001b[0m\u001b[0;34m.\u001b[0m\u001b[0masarray\u001b[0m\u001b[0;34m(\u001b[0m\u001b[0marray\u001b[0m\u001b[0;34m,\u001b[0m \u001b[0mdtype\u001b[0m\u001b[0;34m=\u001b[0m\u001b[0mdtype\u001b[0m\u001b[0;34m,\u001b[0m \u001b[0morder\u001b[0m\u001b[0;34m=\u001b[0m\u001b[0morder\u001b[0m\u001b[0;34m)\u001b[0m\u001b[0;34m\u001b[0m\u001b[0m\n\u001b[0m\u001b[1;32m    497\u001b[0m             \u001b[0;32mexcept\u001b[0m \u001b[0mComplexWarning\u001b[0m\u001b[0;34m:\u001b[0m\u001b[0;34m\u001b[0m\u001b[0m\n\u001b[1;32m    498\u001b[0m                 raise ValueError(\"Complex data not supported\\n\"\n",
      "\u001b[0;32m/usr/local/lib/python3.7/site-packages/numpy/core/_asarray.py\u001b[0m in \u001b[0;36masarray\u001b[0;34m(a, dtype, order)\u001b[0m\n\u001b[1;32m     83\u001b[0m \u001b[0;34m\u001b[0m\u001b[0m\n\u001b[1;32m     84\u001b[0m     \"\"\"\n\u001b[0;32m---> 85\u001b[0;31m     \u001b[0;32mreturn\u001b[0m \u001b[0marray\u001b[0m\u001b[0;34m(\u001b[0m\u001b[0ma\u001b[0m\u001b[0;34m,\u001b[0m \u001b[0mdtype\u001b[0m\u001b[0;34m,\u001b[0m \u001b[0mcopy\u001b[0m\u001b[0;34m=\u001b[0m\u001b[0;32mFalse\u001b[0m\u001b[0;34m,\u001b[0m \u001b[0morder\u001b[0m\u001b[0;34m=\u001b[0m\u001b[0morder\u001b[0m\u001b[0;34m)\u001b[0m\u001b[0;34m\u001b[0m\u001b[0m\n\u001b[0m\u001b[1;32m     86\u001b[0m \u001b[0;34m\u001b[0m\u001b[0m\n\u001b[1;32m     87\u001b[0m \u001b[0;34m\u001b[0m\u001b[0m\n",
      "\u001b[0;31mValueError\u001b[0m: could not convert string to float: '[1146.7]'"
     ]
    }
   ],
   "source": [
    "# logistic\n",
    "\n",
    "model_lr = LogisticRegression().fit(train_X, train_y)\n",
    "pred_lr = model_lr.predict(valid_X)\n",
    "\n",
    "print(classification_report(valid['fire_yes'], pred_lr))\n",
    "\n",
    "evaluation(valid['fire_yes'], pred_lr)"
   ]
  },
  {
   "cell_type": "markdown",
   "metadata": {},
   "source": [
    "# Undersampling"
   ]
  },
  {
   "cell_type": "markdown",
   "metadata": {},
   "source": [
    "### Random Under Sampling"
   ]
  },
  {
   "cell_type": "code",
   "execution_count": null,
   "metadata": {},
   "outputs": [],
   "source": [
    "sample_X, sample_y = RandomUnderSampler(random_state=17).fit_sample(train_X, train_y)\n",
    "\n",
    "print(sample_X.shape)"
   ]
  },
  {
   "cell_type": "code",
   "execution_count": null,
   "metadata": {},
   "outputs": [],
   "source": [
    "data = pd.DataFrame(sample_X, columns=independents)\n",
    "\n",
    "for x in float_col:\n",
    "    data[x] = data[x].apply(lambda x: float(x))\n",
    "    \n",
    "for x in bool_col:\n",
    "    data[x] = data[x].apply(lambda x: True if x == 'True' else False)\n",
    "\n",
    "data.dtypes"
   ]
  },
  {
   "cell_type": "code",
   "execution_count": null,
   "metadata": {},
   "outputs": [],
   "source": [
    "# XGB 모델 예측, 검증\n",
    "model_xgb = XGBClassifier(verbose = True).fit(data, pd.DataFrame(sample_y)[0])\n",
    "\n",
    "pred_xgb = model_xgb.predict(valid_X)\n",
    "\n",
    "print(classification_report(valid['fire_yes'], pred_xgb))\n",
    "\n",
    "evaluation(valid['fire_yes'], pred_xgb)"
   ]
  },
  {
   "cell_type": "code",
   "execution_count": null,
   "metadata": {},
   "outputs": [],
   "source": [
    "# logistic\n",
    "\n",
    "model_lr = LogisticRegression().fit(sample_X, sample_y)\n",
    "pred_lr = model_lr.predict(valid_X)\n",
    "print(classification_report(valid['fire_yes'], pred_lr))\n",
    "\n",
    "evaluation(valid['fire_yes'], pred_lr)"
   ]
  },
  {
   "cell_type": "markdown",
   "metadata": {},
   "source": [
    "### Tomek’s link method"
   ]
  },
  {
   "cell_type": "code",
   "execution_count": null,
   "metadata": {},
   "outputs": [],
   "source": [
    "sample_X, sample_y = TomekLinks(random_state=17).fit_sample(train_X, train_y)\n",
    "\n",
    "print(sample_X.shape)\n",
    "\n",
    "# max_depth=10, n_estimator=50  learning_rate=0.05"
   ]
  },
  {
   "cell_type": "code",
   "execution_count": null,
   "metadata": {},
   "outputs": [],
   "source": [
    "# XGB 모델 예측, 검증\n",
    "# 최적값 max_depth = 5, n_estimator=50 0.4451\n",
    "# 최적값 max_depth = 5, n_estimator=100 0.4510\n",
    "# 최적값 max_depth = 5, n_estimator=130 0.4506\n",
    "# 최적값 max_depth = 5, n_estimator=148 0.4524\n",
    "# 최적값 max_depth = 5, n_estimator=149 0.4532 <\n",
    "# 최적값 max_depth = 5, n_estimator=150 0.4524\n",
    "# 최적값 max_depth = 5, n_estimator=155 0.4517\n",
    "# 최적값 max_depth = 5, n_estimator=170 0.4502\n",
    "# 최적값 max_depth = 5, n_estimator=200 0.4471\n",
    "\n",
    "\n",
    "# 최적값 max_depth = 6, n_estimator=149 0.4485 \n",
    "# 최적값 max_depth = 5, n_estimator=149 0.4532 <\n",
    "# 최적값 max_depth = 4, n_estimator=149 0.4531\n",
    "\n",
    "# 최적값 max_depth = 4, n_estimator=149, learning_rate=0.1 0.4510\n",
    "# 최적값 max_depth = 4, n_estimator=149, learning_rate=0.07 0.4531 \n",
    "# 최적값 max_depth = 4, n_estimator=149, learning_rate=0.065 0.4561\n",
    "# 최적값 max_depth = 4, n_estimator=149, learning_rate=0.061 0.4585\n",
    "# 최적값 max_depth = 4, n_estimator=149, learning_rate=0.06 0.4595 <<<\n",
    "# 최적값 max_depth = 4, n_estimator=149, learning_rate=0.059 0.4537\n",
    "# 최적값 max_depth = 4, n_estimator=149, learning_rate=0.055 0.4576\n",
    "# 최적값 max_depth = 4, n_estimator=149, learning_rate=0.05 0.4532\n",
    "# 최적값 max_depth = 4, n_estimator=149, learning_rate=0.01 0.4348\n",
    "\n",
    "# 최적값 max_depth =5, n_estimator=149, learning_rate=0.06 0.4533\n",
    "\n",
    "# n_estimator 는 작아질수록 f1 score 올라감\n",
    "model_xgb = XGBClassifier(max_depth=5, n_estimators=149, learning_rate=0.06, verbosity = 1).fit(pd.DataFrame(sample_X, columns=independents), pd.DataFrame(sample_y)[0])\n",
    "\n",
    "pred_xgb = model_xgb.predict(valid_X)\n",
    "\n",
    "print(classification_report(valid['fire_yes'], pred_xgb))\n",
    "\n",
    "evaluation(valid['fire_yes'], pred_xgb)"
   ]
  },
  {
   "cell_type": "code",
   "execution_count": null,
   "metadata": {},
   "outputs": [],
   "source": [
    "# logistic\n",
    "\n",
    "model_lr = LogisticRegression().fit(sample_X, sample_y)\n",
    "pred_lr = model_lr.predict(valid_X)\n",
    "print(classification_report(valid['fire_yes'], pred_lr))\n",
    "\n",
    "evaluation(valid['fire_yes'], pred_lr)"
   ]
  },
  {
   "cell_type": "markdown",
   "metadata": {},
   "source": [
    "### Condensed Nearest Neighbour"
   ]
  },
  {
   "cell_type": "code",
   "execution_count": null,
   "metadata": {},
   "outputs": [],
   "source": [
    "# 오래걸린다\n",
    "# sample_X, sample_y = CondensedNearestNeighbour(random_state=17).fit_sample(train_X, train_y)\n",
    "\n",
    "# print(sample_X.shape)\n",
    "\n",
    "# # XGB 모델 예측, 검증\n",
    "# model_xgb = XGBClassifier(verbose = True).fit(pd.DataFrame(sample_X, columns=independents), pd.DataFrame(sample_y)[0])\n",
    "\n",
    "# pred_xgb = model_xgb.predict(valid_X)\n",
    "\n",
    "# print(classification_report(valid['fire_yes'], pred_xgb))\n",
    "\n",
    "# evaluation(valid['fire_yes'], pred_xgb)"
   ]
  },
  {
   "cell_type": "markdown",
   "metadata": {},
   "source": [
    "### One Sided Selection\n",
    "Tomek's Link + Condensed Nearest Neighbour"
   ]
  },
  {
   "cell_type": "code",
   "execution_count": null,
   "metadata": {},
   "outputs": [],
   "source": [
    "# sampling\n",
    "sample_X, sample_y = OneSidedSelection(random_state=17).fit_sample(train_X, train_y)\n",
    "\n",
    "print(sample_X.shape)\n",
    "\n",
    "# XGB 모델 예측\n",
    "model_xgb = XGBClassifier(verbose = True).fit(pd.DataFrame(sample_X, columns=independents), pd.DataFrame(sample_y)[0])\n",
    "\n",
    "pred_xgb = model_xgb.predict(valid_X)\n",
    "\n",
    "# Confusion Matrix\n",
    "print(classification_report(valid['fire_yes'], pred_xgb))\n",
    "\n",
    "# 검증\n",
    "evaluation(valid['fire_yes'], pred_xgb)"
   ]
  },
  {
   "cell_type": "code",
   "execution_count": null,
   "metadata": {},
   "outputs": [],
   "source": [
    "# logistic\n",
    "\n",
    "model_lr = LogisticRegression().fit(sample_X, sample_y)\n",
    "pred_lr = model_lr.predict(valid_X)\n",
    "print(classification_report(valid['fire_yes'], pred_lr))\n",
    "\n",
    "evaluation(valid['fire_yes'], pred_lr)"
   ]
  },
  {
   "cell_type": "markdown",
   "metadata": {},
   "source": [
    "## OverSampling"
   ]
  },
  {
   "cell_type": "markdown",
   "metadata": {},
   "source": [
    "### Random Over Sampling"
   ]
  },
  {
   "cell_type": "code",
   "execution_count": null,
   "metadata": {},
   "outputs": [],
   "source": [
    "# sampling\n",
    "sample_X, sample_y = RandomOverSampler(random_state=17).fit_sample(train_X, train_y)\n",
    "print(sample_X.shape)\n",
    "# dtype 맞춰주기\n",
    "data = pd.DataFrame(sample_X, columns=independents)\n",
    "\n",
    "for x in float_col:\n",
    "    data[x] = data[x].apply(lambda x: float(x))\n",
    "    \n",
    "for x in bool_col:\n",
    "    data[x] = data[x].apply(lambda x: True if x == 'True' else False)\n",
    "\n",
    "data.dtypes\n",
    "\n",
    "# XGB 모델 예측\n",
    "model_xgb = XGBClassifier(verbose = True).fit(data, pd.DataFrame(sample_y)[0])\n",
    "\n",
    "pred_xgb = model_xgb.predict(valid_X)\n",
    "\n",
    "# Confusion Matrix\n",
    "print(classification_report(valid['fire_yes'], pred_xgb))\n",
    "\n",
    "# 검증\n",
    "evaluation(valid['fire_yes'], pred_xgb)"
   ]
  },
  {
   "cell_type": "code",
   "execution_count": null,
   "metadata": {},
   "outputs": [],
   "source": [
    "# logistic\n",
    "\n",
    "model_lr = LogisticRegression().fit(sample_X, sample_y)\n",
    "pred_lr = model_lr.predict(valid_X)\n",
    "print(classification_report(valid['fire_yes'], pred_lr))\n",
    "\n",
    "evaluation(valid['fire_yes'], pred_lr)"
   ]
  },
  {
   "cell_type": "markdown",
   "metadata": {},
   "source": [
    "### ADASYN"
   ]
  },
  {
   "cell_type": "code",
   "execution_count": null,
   "metadata": {},
   "outputs": [],
   "source": [
    "# sampling\n",
    "sample_X, sample_y = ADASYN(random_state=17).fit_sample(train_X, train_y)\n",
    "print(sample_X.shape)\n",
    "\n",
    "# XGB 모델 예측\n",
    "model_xgb = XGBClassifier(verbose = True).fit(pd.DataFrame(sample_X, columns=independents), pd.DataFrame(sample_y)[0])\n",
    "\n",
    "pred_xgb = model_xgb.predict(valid_X)\n",
    "\n",
    "# Confusion Matrix\n",
    "print(classification_report(valid['fire_yes'], pred_xgb))\n",
    "\n",
    "# 검증\n",
    "evaluation(valid['fire_yes'], pred_xgb)"
   ]
  },
  {
   "cell_type": "code",
   "execution_count": null,
   "metadata": {},
   "outputs": [],
   "source": [
    "# logistic\n",
    "\n",
    "model_lr = LogisticRegression().fit(sample_X, sample_y)\n",
    "pred_lr = model_lr.predict(valid_X)\n",
    "print(classification_report(valid['fire_yes'], pred_lr))\n",
    "\n",
    "evaluation(valid['fire_yes'], pred_lr)"
   ]
  },
  {
   "cell_type": "markdown",
   "metadata": {},
   "source": [
    "### SMOTE"
   ]
  },
  {
   "cell_type": "code",
   "execution_count": null,
   "metadata": {},
   "outputs": [],
   "source": [
    "# sampling\n",
    "sample_X, sample_y = SMOTE(random_state=17).fit_sample(train_X, train_y)\n",
    "print(sample_X.shape)\n",
    "# XGB 모델 예측\n",
    "model_xgb = XGBClassifier(verbose = True).fit(pd.DataFrame(sample_X, columns=independents), pd.DataFrame(sample_y)[0])\n",
    "\n",
    "pred_xgb = model_xgb.predict(valid_X)\n",
    "\n",
    "# Confusion Matrix\n",
    "print(classification_report(valid['fire_yes'], pred_xgb))\n",
    "\n",
    "# 검증\n",
    "evaluation(valid['fire_yes'], pred_xgb)"
   ]
  },
  {
   "cell_type": "code",
   "execution_count": null,
   "metadata": {},
   "outputs": [],
   "source": [
    "# logistic\n",
    "\n",
    "model_lr = LogisticRegression().fit(sample_X, sample_y)\n",
    "pred_lr = model_lr.predict(valid_X)\n",
    "print(classification_report(valid['fire_yes'], pred_lr))\n",
    "\n",
    "evaluation(valid['fire_yes'], pred_lr)"
   ]
  },
  {
   "cell_type": "markdown",
   "metadata": {},
   "source": [
    "## 복합 샘플링"
   ]
  },
  {
   "cell_type": "markdown",
   "metadata": {},
   "source": [
    "### SMOTE + ENN"
   ]
  },
  {
   "cell_type": "code",
   "execution_count": null,
   "metadata": {},
   "outputs": [],
   "source": [
    "# sampling\n",
    "sample_X, sample_y = SMOTEENN(random_state=17).fit_sample(train_X, train_y)\n",
    "print(sample_X.shape)\n",
    "# XGB 모델 예측\n",
    "model_xgb = XGBClassifier(verbose = True).fit(pd.DataFrame(sample_X, columns=independents), pd.DataFrame(sample_y)[0])\n",
    "\n",
    "pred_xgb = model_xgb.predict(valid_X)\n",
    "\n",
    "# Confusion Matrix\n",
    "print(classification_report(valid['fire_yes'], pred_xgb))\n",
    "\n",
    "# 검증\n",
    "evaluation(valid['fire_yes'], pred_xgb)"
   ]
  },
  {
   "cell_type": "code",
   "execution_count": null,
   "metadata": {},
   "outputs": [],
   "source": [
    "# logistic\n",
    "\n",
    "model_lr = LogisticRegression().fit(sample_X, sample_y)\n",
    "pred_lr = model_lr.predict(valid_X)\n",
    "evaluation(valid['fire_yes'], pred_lr)"
   ]
  },
  {
   "cell_type": "markdown",
   "metadata": {},
   "source": [
    "### SMOTE + Tomek"
   ]
  },
  {
   "cell_type": "code",
   "execution_count": null,
   "metadata": {},
   "outputs": [],
   "source": [
    "# sampling\n",
    "sample_X, sample_y = SMOTETomek(random_state=17).fit_sample(train_X, train_y)\n",
    "print(sample_X.shape)\n",
    "# XGB 모델 예측\n",
    "model_xgb = XGBClassifier(verbose = True).fit(pd.DataFrame(sample_X, columns=independents), pd.DataFrame(sample_y)[0])\n",
    "\n",
    "pred_xgb = model_xgb.predict(valid_X)\n",
    "\n",
    "# Confusion Matrix\n",
    "print(classification_report(valid['fire_yes'], pred_xgb))\n",
    "\n",
    "# 검증\n",
    "evaluation(valid['fire_yes'], pred_xgb)"
   ]
  },
  {
   "cell_type": "code",
   "execution_count": null,
   "metadata": {},
   "outputs": [],
   "source": [
    "# logistic\n",
    "\n",
    "model_lr = LogisticRegression().fit(sample_X, sample_y)\n",
    "pred_lr = model_lr.predict(valid_X)\n",
    "evaluation(valid['fire_yes'], pred_lr)"
   ]
  },
  {
   "cell_type": "markdown",
   "metadata": {},
   "source": [
    "# 1. XGBoost & ROC 커브"
   ]
  },
  {
   "cell_type": "code",
   "execution_count": null,
   "metadata": {
    "scrolled": true
   },
   "outputs": [],
   "source": [
    "# model_xgb = XGBClassifier(max_depth=10, n_estimators=300, learning_rate=0.05, verbose = True).fit(train_X, train_y)\n",
    "model_xgb = XGBClassifier().fit(train_X, train_y) \n",
    "# 좋은 파라미터를 찾아봐야할 것 같음"
   ]
  },
  {
   "cell_type": "code",
   "execution_count": null,
   "metadata": {
    "scrolled": false
   },
   "outputs": [],
   "source": [
    "model_xgb.feature_importances_"
   ]
  },
  {
   "cell_type": "markdown",
   "metadata": {},
   "source": [
    "### column 중요도"
   ]
  },
  {
   "cell_type": "code",
   "execution_count": null,
   "metadata": {},
   "outputs": [],
   "source": [
    "feature_importance = list(model_xgb.feature_importances_)\n",
    "key = [ i for i in range(1, 23)]\n",
    "dictionary = dict(zip(key, feature_importance))"
   ]
  },
  {
   "cell_type": "code",
   "execution_count": null,
   "metadata": {
    "scrolled": false
   },
   "outputs": [],
   "source": [
    "plt.bar(dictionary.keys(), dictionary.values())\n",
    "plt.show()"
   ]
  },
  {
   "cell_type": "markdown",
   "metadata": {},
   "source": [
    "3, 6, 8, 13, 16, 19 열이 화재 발생과 관련이 있음"
   ]
  },
  {
   "cell_type": "code",
   "execution_count": null,
   "metadata": {},
   "outputs": [],
   "source": [
    "# 검증\n",
    "pred_xgb = model_xgb.predict(valid_X)\n",
    "\n",
    "print(classification_report(valid['fire_yes'], pred_xgb))\n",
    "\n",
    "evaluation(valid['fire_yes'], pred_xgb)"
   ]
  },
  {
   "cell_type": "markdown",
   "metadata": {},
   "source": [
    "### ROC 그리기"
   ]
  },
  {
   "cell_type": "code",
   "execution_count": null,
   "metadata": {},
   "outputs": [],
   "source": [
    "fpr, tpr, thresholds = roc_curve(valid['fire_yes'], model_xgb.predict_proba(valid_X)[:, 1])"
   ]
  },
  {
   "cell_type": "code",
   "execution_count": null,
   "metadata": {
    "scrolled": false
   },
   "outputs": [],
   "source": [
    "plt.plot(fpr, tpr, 'o-', ms=2, label=\"XGBoost\")\n",
    "plt.plot([0, 1], [0, 1], 'k--', label=\"random guess\")\n",
    "plt.legend()\n",
    "plt.xlabel('위양성률(Fall-Out)')\n",
    "plt.ylabel('재현률(Recall)')\n",
    "plt.title('ROC curve')\n",
    "plt.show()"
   ]
  },
  {
   "cell_type": "code",
   "execution_count": null,
   "metadata": {},
   "outputs": [],
   "source": [
    "auc(fpr1, tpr1) # ROC 커브 면적"
   ]
  },
  {
   "cell_type": "markdown",
   "metadata": {},
   "source": [
    "# XGBoost DMatrix"
   ]
  },
  {
   "cell_type": "code",
   "execution_count": null,
   "metadata": {},
   "outputs": [],
   "source": [
    "dtrain = xgb.DMatrix(train_X, label=train_y)"
   ]
  },
  {
   "cell_type": "code",
   "execution_count": null,
   "metadata": {},
   "outputs": [],
   "source": [
    "param = {'bst:max_depth':2, 'bst:eta':1, 'silent':1, 'objective':'binary:logistic' }"
   ]
  },
  {
   "cell_type": "code",
   "execution_count": null,
   "metadata": {},
   "outputs": [],
   "source": [
    "plst = param.items()"
   ]
  },
  {
   "cell_type": "code",
   "execution_count": null,
   "metadata": {},
   "outputs": [],
   "source": [
    "bst = xgb.train(plst,dtrain,)"
   ]
  },
  {
   "cell_type": "code",
   "execution_count": null,
   "metadata": {},
   "outputs": [],
   "source": [
    "dtest= xgb.DMatrix(valid_X)"
   ]
  },
  {
   "cell_type": "code",
   "execution_count": null,
   "metadata": {},
   "outputs": [],
   "source": [
    "ypred = bst.predict(dtest)"
   ]
  },
  {
   "cell_type": "code",
   "execution_count": null,
   "metadata": {},
   "outputs": [],
   "source": [
    "prediction_binomial_val = [1 if p>=0.4 else 0 for p in ypred]"
   ]
  },
  {
   "cell_type": "code",
   "execution_count": null,
   "metadata": {},
   "outputs": [],
   "source": [
    "print('f1', metrics.f1_score(prediction_binomial_val,valid['fire_yes']) )"
   ]
  },
  {
   "cell_type": "code",
   "execution_count": null,
   "metadata": {
    "scrolled": true
   },
   "outputs": [],
   "source": [
    "evaluation(valid['fire_yes'], prediction_binomial_val)"
   ]
  },
  {
   "cell_type": "markdown",
   "metadata": {},
   "source": [
    "# 클러스터링한 데이터로 모델링"
   ]
  },
  {
   "cell_type": "code",
   "execution_count": null,
   "metadata": {},
   "outputs": [],
   "source": [
    "train_c = pd.read_csv(\"train_3rd_cluster.csv\")\n",
    "test_c = pd.read_csv(\"test_3rd_cluster.csv\")\n",
    "valid_c = pd.read_csv(\"valid_3rd_cluster.csv\")"
   ]
  },
  {
   "cell_type": "code",
   "execution_count": null,
   "metadata": {},
   "outputs": [],
   "source": [
    "# 적어준 변수 목록을 사용해 데이터를 트레이닝에 맞는 포맷으로 변경합니다.\n",
    "train_c_X = train_c[independents]\n",
    "train_c_y = train_c[dependent]\n",
    "\n",
    "test_c_X = test_c[independents]\n",
    "valid_c_X = valid_c[independents]"
   ]
  },
  {
   "cell_type": "code",
   "execution_count": null,
   "metadata": {},
   "outputs": [],
   "source": [
    "dtrain_c = xgb.DMatrix(train_c_X, label=train_c_y)"
   ]
  },
  {
   "cell_type": "code",
   "execution_count": null,
   "metadata": {},
   "outputs": [],
   "source": [
    "bst_c = xgb.train(plst,dtrain_c,)"
   ]
  },
  {
   "cell_type": "code",
   "execution_count": null,
   "metadata": {},
   "outputs": [],
   "source": [
    "dtest_c= xgb.DMatrix(valid_c_X)"
   ]
  },
  {
   "cell_type": "code",
   "execution_count": null,
   "metadata": {},
   "outputs": [],
   "source": [
    "ypred_c = bst_c.predict(dtest_c)"
   ]
  },
  {
   "cell_type": "code",
   "execution_count": null,
   "metadata": {},
   "outputs": [],
   "source": [
    "prediction_binomial_val_c = [1 if p>=0.4 else 0 for p in ypred_c]"
   ]
  },
  {
   "cell_type": "code",
   "execution_count": null,
   "metadata": {},
   "outputs": [],
   "source": [
    "evaluation(valid_c['fire_yes'], prediction_binomial_val_c)"
   ]
  },
  {
   "cell_type": "markdown",
   "metadata": {},
   "source": [
    "# PCA한 걸로 모델링"
   ]
  },
  {
   "cell_type": "code",
   "execution_count": null,
   "metadata": {},
   "outputs": [],
   "source": [
    "train_PCA = pd.read_csv(\"train_PCA.csv\")\n",
    "valid_PCA = pd.read_csv(\"valid_PCA.csv\")"
   ]
  },
  {
   "cell_type": "code",
   "execution_count": null,
   "metadata": {},
   "outputs": [],
   "source": [
    "# 적어준 변수 목록을 사용해 데이터를 트레이닝에 맞는 포맷으로 변경합니다.\n",
    "train_PCA_X = train_PCA[independents]\n",
    "train_PCA_y = train_PCA[dependent]\n",
    "\n",
    "valid_PCA_X = valid_PCA[independents]"
   ]
  },
  {
   "cell_type": "code",
   "execution_count": null,
   "metadata": {},
   "outputs": [],
   "source": [
    "dtrain_PCA = xgb.DMatrix(train_PCA_X, label=train_PCA_y)\n",
    "bst_PCA = xgb.train(plst,dtrain_PCA,)\n",
    "dtest_PCA= xgb.DMatrix(valid_PCA_X)\n",
    "ypred_PCA = bst_PCA.predict(dtest_PCA)"
   ]
  },
  {
   "cell_type": "code",
   "execution_count": null,
   "metadata": {},
   "outputs": [],
   "source": [
    "prediction_binomial_val_PCA = [1 if p>=0.4 else 0 for p in ypred_PCA]"
   ]
  },
  {
   "cell_type": "code",
   "execution_count": null,
   "metadata": {},
   "outputs": [],
   "source": [
    "evaluation(valid_PCA['fire_yes'], prediction_binomial_val_PCA)"
   ]
  },
  {
   "cell_type": "markdown",
   "metadata": {},
   "source": [
    "# jmk 추가 클러스터링"
   ]
  },
  {
   "cell_type": "code",
   "execution_count": null,
   "metadata": {},
   "outputs": [],
   "source": [
    "train_c = pd.read_csv(\"train_3rd_cluster_jmk.csv\")\n",
    "test_c = pd.read_csv(\"test_3rd_cluster_jmk.csv\")\n",
    "valid_c = pd.read_csv(\"valid_3rd_cluster_jmk.csv\")"
   ]
  },
  {
   "cell_type": "code",
   "execution_count": null,
   "metadata": {},
   "outputs": [],
   "source": [
    "# 적어준 변수 목록을 사용해 데이터를 트레이닝에 맞는 포맷으로 변경합니다.\n",
    "train_c_X = train_c[independents]\n",
    "train_c_y = train_c[dependent]\n",
    "\n",
    "test_c_X = test_c[independents]\n",
    "valid_c_X = valid_c[independents]"
   ]
  },
  {
   "cell_type": "code",
   "execution_count": null,
   "metadata": {},
   "outputs": [],
   "source": [
    "dtrain_c = xgb.DMatrix(train_c_X, label=train_c_y)"
   ]
  },
  {
   "cell_type": "code",
   "execution_count": null,
   "metadata": {},
   "outputs": [],
   "source": [
    "bst_c = xgb.train(plst,dtrain_c,)"
   ]
  },
  {
   "cell_type": "code",
   "execution_count": null,
   "metadata": {},
   "outputs": [],
   "source": [
    "dtest_c= xgb.DMatrix(valid_c_X)"
   ]
  },
  {
   "cell_type": "code",
   "execution_count": null,
   "metadata": {},
   "outputs": [],
   "source": [
    "ypred_c = bst_c.predict(dtest_c)"
   ]
  },
  {
   "cell_type": "code",
   "execution_count": null,
   "metadata": {},
   "outputs": [],
   "source": [
    "prediction_binomial_val_c = [1 if p>=0.4 else 0 for p in ypred_c]"
   ]
  },
  {
   "cell_type": "code",
   "execution_count": null,
   "metadata": {},
   "outputs": [],
   "source": [
    "evaluation(valid_c['fire_yes'], prediction_binomial_val_c)"
   ]
  },
  {
   "cell_type": "markdown",
   "metadata": {},
   "source": [
    "## 0과 2 군집 각각 나누어서 진행"
   ]
  },
  {
   "cell_type": "code",
   "execution_count": null,
   "metadata": {},
   "outputs": [],
   "source": [
    "train_c_0 = train_c[train_c['cluster']==0]\n",
    "train_c_1 = train_c[train_c['cluster']==1]"
   ]
  },
  {
   "cell_type": "code",
   "execution_count": null,
   "metadata": {},
   "outputs": [],
   "source": [
    "valid_c_0 = valid_c[valid_c['cluster']==0]\n",
    "valid_c_1 = valid_c[valid_c['cluster']==1]"
   ]
  },
  {
   "cell_type": "code",
   "execution_count": null,
   "metadata": {},
   "outputs": [],
   "source": [
    "# 적어준 변수 목록을 사용해 데이터를 트레이닝에 맞는 포맷으로 변경합니다.\n",
    "train_c_0_X = train_c_0[independents]\n",
    "train_c_1_X = train_c_1[independents]\n",
    "train_c_0_y = train_c_0[dependent]\n",
    "train_c_1_y = train_c_1[dependent]\n",
    "\n",
    "valid_c_0_X = valid_c_0[independents]\n",
    "valid_c_1_X = valid_c_1[independents]"
   ]
  },
  {
   "cell_type": "code",
   "execution_count": null,
   "metadata": {},
   "outputs": [],
   "source": [
    "dtrain_c_0 = xgb.DMatrix(train_c_0_X, label=train_c_0_y)\n",
    "dtrain_c_1 = xgb.DMatrix(train_c_1_X, label=train_c_1_y)"
   ]
  },
  {
   "cell_type": "code",
   "execution_count": null,
   "metadata": {},
   "outputs": [],
   "source": [
    "bst_c_0 = xgb.train(plst,dtrain_c_0,)\n",
    "bst_c_1 = xgb.train(plst,dtrain_c_1,)\n",
    "dtest_c_0= xgb.DMatrix(valid_c_0_X)\n",
    "dtest_c_1= xgb.DMatrix(valid_c_1_X)\n",
    "ypred_c_0 = bst_c_0.predict(dtest_c_0)\n",
    "ypred_c_1 = bst_c_1.predict(dtest_c_1)"
   ]
  },
  {
   "cell_type": "code",
   "execution_count": null,
   "metadata": {},
   "outputs": [],
   "source": [
    "prediction_binomial_val_c_0 = [1 if p>=0.11 else 0 for p in ypred_c_0]\n",
    "prediction_binomial_val_c_1 = [1 if p>=0.3 else 0 for p in ypred_c_1]"
   ]
  },
  {
   "cell_type": "code",
   "execution_count": null,
   "metadata": {
    "scrolled": true
   },
   "outputs": [],
   "source": [
    "evaluation(valid_c_0['fire_yes'], prediction_binomial_val_c_0)"
   ]
  },
  {
   "cell_type": "code",
   "execution_count": null,
   "metadata": {},
   "outputs": [],
   "source": [
    "evaluation(valid_c_1['fire_yes'], prediction_binomial_val_c_1)"
   ]
  },
  {
   "cell_type": "code",
   "execution_count": null,
   "metadata": {
    "scrolled": false
   },
   "outputs": [],
   "source": [
    "concat_0 = pd.DataFrame(prediction_binomial_val_c_0, valid_c_0['id']).reset_index()"
   ]
  },
  {
   "cell_type": "code",
   "execution_count": null,
   "metadata": {},
   "outputs": [],
   "source": [
    "concat_1 = pd.DataFrame(prediction_binomial_val_c_1, valid_c_1['id']).reset_index()"
   ]
  },
  {
   "cell_type": "code",
   "execution_count": null,
   "metadata": {},
   "outputs": [],
   "source": [
    "concat_id = pd.concat([concat_0, concat_1])"
   ]
  },
  {
   "cell_type": "code",
   "execution_count": null,
   "metadata": {
    "scrolled": false
   },
   "outputs": [],
   "source": [
    "valid_c_fire = valid_c.merge(concat_id, on ='id')"
   ]
  },
  {
   "cell_type": "code",
   "execution_count": null,
   "metadata": {},
   "outputs": [],
   "source": [
    "valid_c_fire = valid_c_fire.rename(columns={0: 'fire_pred'})"
   ]
  },
  {
   "cell_type": "code",
   "execution_count": null,
   "metadata": {
    "scrolled": true
   },
   "outputs": [],
   "source": [
    "evaluation(valid_c_fire['fire_pred'], valid_c_fire['fire_yes'])"
   ]
  },
  {
   "cell_type": "code",
   "execution_count": null,
   "metadata": {},
   "outputs": [],
   "source": []
  },
  {
   "cell_type": "markdown",
   "metadata": {},
   "source": [
    "# XGBoost 성능 비교\n",
    "max_depth 의사결정나무 모형 깊이 초모수를 달리해서 XGBoost 예측모형의 성능을 비교해본다."
   ]
  },
  {
   "cell_type": "code",
   "execution_count": null,
   "metadata": {},
   "outputs": [],
   "source": [
    "f1_score_list = []\n",
    "\n",
    "max_depth_list = [10, 15]"
   ]
  },
  {
   "cell_type": "code",
   "execution_count": null,
   "metadata": {},
   "outputs": [],
   "source": [
    "for max_depth in max_depth_list:\n",
    "    xgb_model = XGBClassifier(max_depth=max_depth)\n",
    "    xgb_pred = xgb_model.fit(train_X, train_y).predict(valid_X)\n",
    "    xgb_f1_score = f1_score(xgb_pred,valid['fr_yn'])\n",
    "    f1_score_list.append(xgb_f1_score)"
   ]
  },
  {
   "cell_type": "code",
   "execution_count": null,
   "metadata": {},
   "outputs": [],
   "source": [
    "xgb_df = pd.DataFrame({'tree depth':max_depth_list, 'f1_score':f1_score_list})\n",
    "xgb_df.head()"
   ]
  },
  {
   "cell_type": "markdown",
   "metadata": {},
   "source": [
    "# XGBoost 시각화\n",
    "XGBoost 모형을 시각화함으로써 개발한 예측모형의 성능에 대해 더 깊은 이해를 가질 수 있다. xgb.plot_importance() 메쏘드에 XGBoost 모형객체를 넣어 변수중요도를 파악할 수 있다."
   ]
  },
  {
   "cell_type": "code",
   "execution_count": null,
   "metadata": {
    "scrolled": true
   },
   "outputs": [],
   "source": [
    "xgb.plot_importance(model_xgb)"
   ]
  },
  {
   "cell_type": "markdown",
   "metadata": {},
   "source": [
    "## 클러스터링한 걸로 XGBoost 시각화"
   ]
  },
  {
   "cell_type": "code",
   "execution_count": null,
   "metadata": {},
   "outputs": [],
   "source": [
    "model_xgb_c = XGBClassifier(max_depth=10, n_estimators=300, learning_rate=0.05, verbose = True).fit(train_c_X, train_c_y)"
   ]
  },
  {
   "cell_type": "code",
   "execution_count": null,
   "metadata": {
    "scrolled": true
   },
   "outputs": [],
   "source": [
    "xgb.plot_importance(model_xgb_c)"
   ]
  },
  {
   "cell_type": "markdown",
   "metadata": {},
   "source": [
    "# 2. 로지스틱 회귀분석 & ROC 커브"
   ]
  },
  {
   "cell_type": "code",
   "execution_count": null,
   "metadata": {},
   "outputs": [],
   "source": [
    "model_lr = LogisticRegression().fit(train_X, train_y)"
   ]
  },
  {
   "cell_type": "code",
   "execution_count": null,
   "metadata": {},
   "outputs": [],
   "source": [
    "pred_lr = model_lr.predict(valid_X)\n",
    "# prediction2 = model2.predict(valid_X)"
   ]
  },
  {
   "cell_type": "code",
   "execution_count": null,
   "metadata": {},
   "outputs": [],
   "source": [
    "pred_lr"
   ]
  },
  {
   "cell_type": "code",
   "execution_count": null,
   "metadata": {
    "scrolled": true
   },
   "outputs": [],
   "source": [
    "print('f1', metrics.f1_score(pred_lr,valid['fire_yes']) )"
   ]
  },
  {
   "cell_type": "code",
   "execution_count": null,
   "metadata": {},
   "outputs": [],
   "source": [
    "evaluation(valid['fire_yes'], pred_lr)"
   ]
  },
  {
   "cell_type": "code",
   "execution_count": null,
   "metadata": {
    "scrolled": true
   },
   "outputs": [],
   "source": [
    "fpr1, tpr1, thresholds1 = roc_curve(valid['fire_yes'], model_lr.predict_proba(valid_X)[:, 1])"
   ]
  },
  {
   "cell_type": "code",
   "execution_count": null,
   "metadata": {},
   "outputs": [],
   "source": [
    "plt.plot(fpr1, tpr1, 'o-', ms=2, label=\"Logistic Regression\")\n",
    "plt.plot([0, 1], [0, 1], 'k--', label=\"random guess\")\n",
    "plt.legend()\n",
    "plt.xlabel('위양성률(Fall-Out)')\n",
    "plt.ylabel('재현률(Recall)')\n",
    "plt.title('ROC curve')\n",
    "plt.show()"
   ]
  },
  {
   "cell_type": "code",
   "execution_count": null,
   "metadata": {},
   "outputs": [],
   "source": [
    "auc(fpr1, tpr1) # ROC 커브 면적"
   ]
  },
  {
   "cell_type": "markdown",
   "metadata": {},
   "source": [
    "## 선형 회귀"
   ]
  },
  {
   "cell_type": "code",
   "execution_count": null,
   "metadata": {
    "scrolled": true
   },
   "outputs": [],
   "source": [
    "model_reg = LinearRegression().fit(train_X, train_y)\n",
    "# 대문자는 매트릭스, 소문자는 벡터"
   ]
  },
  {
   "cell_type": "code",
   "execution_count": null,
   "metadata": {},
   "outputs": [],
   "source": [
    "# x 계수\n",
    "# x 계수의 의미를 해석하세요.\n",
    "model_reg.coef_\n",
    "# 피클래스가 한 계단 올라갈 때마다 죽음에 0.19배 가까워짐"
   ]
  },
  {
   "cell_type": "code",
   "execution_count": null,
   "metadata": {},
   "outputs": [],
   "source": [
    "# 절편\n",
    "model_reg.intercept_"
   ]
  },
  {
   "cell_type": "code",
   "execution_count": null,
   "metadata": {},
   "outputs": [],
   "source": [
    "reg.score(train_X, train_y, sample_weight=None)"
   ]
  },
  {
   "cell_type": "code",
   "execution_count": null,
   "metadata": {
    "scrolled": true
   },
   "outputs": [],
   "source": [
    "pred_reg = model_reg.predict(valid_X)"
   ]
  },
  {
   "cell_type": "code",
   "execution_count": null,
   "metadata": {},
   "outputs": [],
   "source": [
    "pred_binomial = [1 if p>=0.2 else 0 for p in pred_reg]"
   ]
  },
  {
   "cell_type": "code",
   "execution_count": null,
   "metadata": {},
   "outputs": [],
   "source": [
    "print('f1', metrics.f1_score(pred_binomial,valid['fr_yn']) )"
   ]
  },
  {
   "cell_type": "markdown",
   "metadata": {},
   "source": [
    "# RANDOM FOREST"
   ]
  },
  {
   "cell_type": "code",
   "execution_count": null,
   "metadata": {},
   "outputs": [],
   "source": [
    "model_forest = RandomForestClassifier(random_state=42, n_estimators=10).fit(train_X, train_y)"
   ]
  },
  {
   "cell_type": "code",
   "execution_count": null,
   "metadata": {},
   "outputs": [],
   "source": [
    "model_forest.feature_importances_"
   ]
  },
  {
   "cell_type": "code",
   "execution_count": null,
   "metadata": {},
   "outputs": [],
   "source": [
    "pred_forest = model_forest.predict(valid_X)"
   ]
  },
  {
   "cell_type": "code",
   "execution_count": null,
   "metadata": {},
   "outputs": [],
   "source": [
    "pred_forest"
   ]
  },
  {
   "cell_type": "code",
   "execution_count": null,
   "metadata": {},
   "outputs": [],
   "source": [
    "print('f1', metrics.f1_score(pred_forest,valid['fr_yn']) )"
   ]
  },
  {
   "cell_type": "code",
   "execution_count": null,
   "metadata": {
    "scrolled": true
   },
   "outputs": [],
   "source": [
    "evaluation(valid['fr_yn'], pred_forest)"
   ]
  },
  {
   "cell_type": "markdown",
   "metadata": {},
   "source": [
    "# 클러스터링한 걸로 모델링"
   ]
  },
  {
   "cell_type": "code",
   "execution_count": null,
   "metadata": {},
   "outputs": [],
   "source": [
    "model_forest_c = RandomForestClassifier(random_state=42, n_estimators=10).fit(train_c_X, train_c_y)"
   ]
  },
  {
   "cell_type": "code",
   "execution_count": null,
   "metadata": {},
   "outputs": [],
   "source": [
    "pred_forest_c = model_forest_c.predict(valid_c_X)"
   ]
  },
  {
   "cell_type": "code",
   "execution_count": null,
   "metadata": {},
   "outputs": [],
   "source": [
    "evaluation(valid_c['fire_yes'], pred_forest_c)"
   ]
  },
  {
   "cell_type": "markdown",
   "metadata": {},
   "source": [
    "# VALIDATION 한 번에 돌리기"
   ]
  },
  {
   "cell_type": "code",
   "execution_count": null,
   "metadata": {},
   "outputs": [],
   "source": [
    "def train_and_val(model, num):\n",
    "    a = model.fit(train_X, train_y)\n",
    "    prediction_val = a.predict(valid_X)\n",
    "    prediction_binomial_val = [1 if p>=num else 0 for p in prediction_val]\n",
    "    print('f1:', f1_score(prediction_binomial_val,valid['fr_yn']) )\n",
    "    return prediction_val"
   ]
  },
  {
   "cell_type": "code",
   "execution_count": null,
   "metadata": {
    "scrolled": true
   },
   "outputs": [],
   "source": [
    "train_and_val(LogisticRegression(), 0.5)"
   ]
  },
  {
   "cell_type": "code",
   "execution_count": null,
   "metadata": {
    "scrolled": true
   },
   "outputs": [],
   "source": [
    "train_and_val(RandomForestClassifier(n_estimators=700, oob_score=True, max_depth=12, min_samples_leaf=16, min_samples_split=8, n_jobs=-1), 0.5)"
   ]
  },
  {
   "cell_type": "code",
   "execution_count": null,
   "metadata": {
    "scrolled": true
   },
   "outputs": [],
   "source": [
    "train_and_val(RandomForestClassifier(random_state=10, n_estimators=100, max_depth = 15), 0.5)"
   ]
  },
  {
   "cell_type": "code",
   "execution_count": null,
   "metadata": {},
   "outputs": [],
   "source": [
    "params = {\n",
    "    'n_estimators': [100],\n",
    "    'max_depth': [6, 8, 10, 12],\n",
    "    'min_samples_leaf': [8, 12, 16],\n",
    "    'min_samples_split': [8, 16, 24]\n",
    "}\n",
    "\n",
    "rf_clf = RandomForestClassifier(random_state=0, n_jobs=-1)\n",
    "grid_cv = GridSearchCV(rf_clf, param_grid=params, cv=2, n_jobs=-1)\n",
    "grid_cv.fit(train_X, train_y)\n",
    "\n",
    "print(\"최적 하이퍼 파라미터: \", grid_cv.best_params_)\n",
    "print(\"최고 예측 정확도: \", grid_cv.best_score_)"
   ]
  },
  {
   "cell_type": "code",
   "execution_count": null,
   "metadata": {},
   "outputs": [],
   "source": [
    "params = {\n",
    "    'n_estimators': [100, 300, 500]\n",
    "}\n",
    "rf_clf_1 = RandomForestClassifier(max_depth=12, min_samples_leaf=16, min_samples_split=8, n_jobs=-1)\n",
    "grid_cv = GridSearchCV(rf_clf_1, param_grid=params, cv = 3, n_jobs=-1)\n",
    "grid_cv.fit(train_X, train_y)\n",
    "print(\"최적 파라미터: \", grid_cv.best_params_)\n",
    "print(\"최고 예측 정확도: \", grid_cv.best_score_)\n",
    "best_model = grid_cv.best_estimator_\n",
    "pred = best_model.predict(valid_X)\n",
    "f1 = f1_score(valid['fire_yes'], pred)\n",
    "print(\"f1 score: {0: .4f}\".format(f1))"
   ]
  },
  {
   "cell_type": "code",
   "execution_count": null,
   "metadata": {
    "scrolled": true
   },
   "outputs": [],
   "source": [
    "train_and_val(KNeighborsClassifier(n_neighbors = 4), 0.1)"
   ]
  },
  {
   "cell_type": "code",
   "execution_count": null,
   "metadata": {},
   "outputs": [],
   "source": [
    "train_and_val(GaussianNB(), 0.5)"
   ]
  },
  {
   "cell_type": "code",
   "execution_count": null,
   "metadata": {},
   "outputs": [],
   "source": [
    "# train_and_val(SVC())"
   ]
  },
  {
   "cell_type": "markdown",
   "metadata": {},
   "source": [
    "# 클러스터링한 애들로 한 번에 돌리기"
   ]
  },
  {
   "cell_type": "code",
   "execution_count": null,
   "metadata": {},
   "outputs": [],
   "source": [
    "def train_and_val_c(model, num):\n",
    "    a = model.fit(train_c_X, train_c_y)\n",
    "    prediction_val = a.predict(valid_c_X)\n",
    "    prediction_binomial_val = [1 if p>=num else 0 for p in prediction_val]\n",
    "    print('f1:', f1_score(prediction_binomial_val,valid['fr_yn']) )\n",
    "    return prediction_val"
   ]
  },
  {
   "cell_type": "code",
   "execution_count": null,
   "metadata": {},
   "outputs": [],
   "source": [
    "train_and_val_c(LogisticRegression(), 0.5)"
   ]
  },
  {
   "cell_type": "code",
   "execution_count": null,
   "metadata": {},
   "outputs": [],
   "source": [
    "train_and_val_c(RandomForestClassifier(n_estimators=700, oob_score=True, max_depth=12, min_samples_leaf=16, min_samples_split=8, n_jobs=-1), 0.5)"
   ]
  },
  {
   "cell_type": "code",
   "execution_count": null,
   "metadata": {},
   "outputs": [],
   "source": [
    "train_and_val_c(RandomForestClassifier(random_state=10, n_estimators=100, max_depth = 15), 0.5)"
   ]
  },
  {
   "cell_type": "code",
   "execution_count": null,
   "metadata": {},
   "outputs": [],
   "source": [
    "train_and_val_c(KNeighborsClassifier(n_neighbors = 4), 0.1)"
   ]
  },
  {
   "cell_type": "code",
   "execution_count": null,
   "metadata": {},
   "outputs": [],
   "source": [
    "train_and_val_c(GaussianNB(), 0.5)"
   ]
  },
  {
   "cell_type": "code",
   "execution_count": null,
   "metadata": {},
   "outputs": [],
   "source": []
  }
 ],
 "metadata": {
  "kernelspec": {
   "display_name": "Python 3",
   "language": "python",
   "name": "python3"
  },
  "language_info": {
   "codemirror_mode": {
    "name": "ipython",
    "version": 3
   },
   "file_extension": ".py",
   "mimetype": "text/x-python",
   "name": "python",
   "nbconvert_exporter": "python",
   "pygments_lexer": "ipython3",
   "version": "3.7.0"
  }
 },
 "nbformat": 4,
 "nbformat_minor": 2
}
