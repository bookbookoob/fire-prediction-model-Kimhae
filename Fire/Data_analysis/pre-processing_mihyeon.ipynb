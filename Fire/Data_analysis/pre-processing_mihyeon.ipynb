{
 "cells": [
  {
   "cell_type": "markdown",
   "metadata": {},
   "source": [
    "# Library"
   ]
  },
  {
   "cell_type": "code",
   "execution_count": 1,
   "metadata": {},
   "outputs": [],
   "source": [
    "import pandas as pd\n",
    "import numpy as np\n",
    "\n",
    "import matplotlib.pyplot as plt\n",
    "%matplotlib inline\n",
    "import seaborn as sns\n",
    "\n",
    "from sklearn.linear_model import LinearRegression\n",
    "from statsmodels.formula.api import ols\n",
    "from statsmodels.formula.api import glm\n",
    "from statsmodels.genmod.families.family import Binomial\n",
    "from sklearn.ensemble import RandomForestClassifier"
   ]
  },
  {
   "cell_type": "code",
   "execution_count": 2,
   "metadata": {},
   "outputs": [],
   "source": [
    "import warnings\n",
    "warnings.filterwarnings('ignore')"
   ]
  },
  {
   "cell_type": "markdown",
   "metadata": {},
   "source": [
    "# Data"
   ]
  },
  {
   "cell_type": "code",
   "execution_count": 60,
   "metadata": {},
   "outputs": [],
   "source": [
    "train = pd.read_csv('PJT002_train.csv')\n",
    "# val = pd.read_csv('PJT002_validation.csv')\n",
    "# test = pd.read_csv('PJT002_test.csv')\n",
    "# sub = pd.read_csv('PJT002_submission.csv')"
   ]
  },
  {
   "cell_type": "markdown",
   "metadata": {},
   "source": [
    "# train 데이터의 모든 행의 null 값 개수"
   ]
  },
  {
   "cell_type": "code",
   "execution_count": 5,
   "metadata": {
    "scrolled": true
   },
   "outputs": [
    {
     "data": {
      "text/plain": [
       "array([['lw_13121011', 58926],\n",
       "       ['lw_13121010', 58926],\n",
       "       ['lw_13111110', 58918],\n",
       "       ['lw_13101410', 58916],\n",
       "       ['lw_13101110', 58908],\n",
       "       ['lw_13141011', 58908],\n",
       "       ['lw_13101310', 58907],\n",
       "       ['lw_13141010', 58907],\n",
       "       ['lw_13131010', 58903],\n",
       "       ['lw_13131110', 58903],\n",
       "       ['lw_13101210', 58902],\n",
       "       ['lw_13101211', 58901],\n",
       "       ['lw_13111010', 58899],\n",
       "       ['lw_13101010', 58897],\n",
       "       ['gas_engry_us_201802', 53825],\n",
       "       ['gas_engry_us_201603', 53825],\n",
       "       ['gas_engry_us_201712', 53825],\n",
       "       ['gas_engry_us_201602', 53825],\n",
       "       ['gas_engry_us_201601', 53825],\n",
       "       ['gas_engry_us_201801', 53825],\n",
       "       ['gas_engry_us_201512', 53825],\n",
       "       ['gas_engry_us_201511', 53825],\n",
       "       ['gas_engry_us_201609', 53825],\n",
       "       ['gas_engry_us_201510', 53825],\n",
       "       ['gas_engry_us_201509', 53825],\n",
       "       ['gas_engry_us_201803', 53825],\n",
       "       ['gas_engry_us_201508', 53825],\n",
       "       ['gas_engry_us_201507', 53825],\n",
       "       ['gas_engry_us_201711', 53825],\n",
       "       ['gas_engry_us_201804', 53825],\n",
       "       ['gas_engry_us_201604', 53825],\n",
       "       ['gas_engry_us_201610', 53825],\n",
       "       ['gas_engry_us_201605', 53825],\n",
       "       ['gas_engry_us_201707', 53825],\n",
       "       ['gas_engry_us_201705', 53825],\n",
       "       ['gas_engry_us_201703', 53825],\n",
       "       ['gas_engry_us_201702', 53825],\n",
       "       ['gas_engry_us_201706', 53825],\n",
       "       ['gas_engry_us_201701', 53825],\n",
       "       ['gas_engry_us_201612', 53825],\n",
       "       ['gas_engry_us_201611', 53825],\n",
       "       ['gas_engry_us_201606', 53825],\n",
       "       ['gas_engry_us_201505', 53825],\n",
       "       ['gas_engry_us_201708', 53825],\n",
       "       ['gas_engry_us_201709', 53825],\n",
       "       ['gas_engry_us_201608', 53825],\n",
       "       ['gas_engry_us_201607', 53825],\n",
       "       ['gas_engry_us_201710', 53825],\n",
       "       ['gas_engry_us_201506', 53825],\n",
       "       ['gas_engry_us_201805', 53825],\n",
       "       ['gas_engry_us_201408', 53825],\n",
       "       ['gas_engry_us_201808', 53825],\n",
       "       ['gas_engry_us_201401', 53825],\n",
       "       ['gas_engry_us_201402', 53825],\n",
       "       ['gas_engry_us_201812', 53825],\n",
       "       ['gas_engry_us_201403', 53825],\n",
       "       ['gas_engry_us_201404', 53825],\n",
       "       ['gas_engry_us_201811', 53825],\n",
       "       ['gas_engry_us_201405', 53825],\n",
       "       ['gas_engry_us_201406', 53825],\n",
       "       ['gas_engry_us_201810', 53825],\n",
       "       ['gas_engry_us_201407', 53825],\n",
       "       ['gas_engry_us_201809', 53825],\n",
       "       ['gas_engry_us_201409', 53825],\n",
       "       ['gas_engry_us_201410', 53825],\n",
       "       ['gas_engry_us_201704', 53825],\n",
       "       ['gas_engry_us_201501', 53825],\n",
       "       ['gas_engry_us_201504', 53825],\n",
       "       ['gas_engry_us_201411', 53825],\n",
       "       ['gas_engry_us_201412', 53825],\n",
       "       ['gas_engry_us_201806', 53825],\n",
       "       ['gas_engry_us_201502', 53825],\n",
       "       ['gas_engry_us_201503', 53825],\n",
       "       ['gas_engry_us_201807', 53825],\n",
       "       ['prcpttn', 53629],\n",
       "       ['ele_engry_us_201712', 43550],\n",
       "       ['ele_engry_us_201811', 43550],\n",
       "       ['ele_engry_us_201803', 43550],\n",
       "       ['ele_engry_us_201706', 43550],\n",
       "       ['ele_engry_us_201805', 43550],\n",
       "       ['ele_engry_us_201812', 43550],\n",
       "       ['ele_engry_us_201705', 43550],\n",
       "       ['ele_engry_us_201707', 43550],\n",
       "       ['ele_engry_us_201708', 43550],\n",
       "       ['ele_engry_us_201802', 43550],\n",
       "       ['ele_engry_us_201810', 43550],\n",
       "       ['ele_engry_us_201806', 43550],\n",
       "       ['ele_engry_us_201709', 43550],\n",
       "       ['ele_engry_us_201809', 43550],\n",
       "       ['ele_engry_us_201710', 43550],\n",
       "       ['ele_engry_us_201704', 43550],\n",
       "       ['ele_engry_us_201801', 43550],\n",
       "       ['ele_engry_us_201711', 43550],\n",
       "       ['ele_engry_us_201808', 43550],\n",
       "       ['ele_engry_us_201807', 43550],\n",
       "       ['ele_engry_us_201804', 43550],\n",
       "       ['ele_engry_us_201611', 43550],\n",
       "       ['ele_engry_us_201703', 43550],\n",
       "       ['ele_engry_us_201507', 43550],\n",
       "       ['ele_engry_us_201505', 43550],\n",
       "       ['ele_engry_us_201504', 43550],\n",
       "       ['ele_engry_us_201503', 43550],\n",
       "       ['ele_engry_us_201502', 43550],\n",
       "       ['ele_engry_us_201501', 43550],\n",
       "       ['ele_engry_us_201412', 43550],\n",
       "       ['ele_engry_us_201411', 43550],\n",
       "       ['ele_engry_us_201410', 43550],\n",
       "       ['ele_engry_us_201409', 43550],\n",
       "       ['ele_engry_us_201702', 43550],\n",
       "       ['ele_engry_us_201407', 43550],\n",
       "       ['ele_engry_us_201406', 43550],\n",
       "       ['ele_engry_us_201405', 43550],\n",
       "       ['ele_engry_us_201404', 43550],\n",
       "       ['ele_engry_us_201403', 43550],\n",
       "       ['ele_engry_us_201402', 43550],\n",
       "       ['ele_engry_us_201401', 43550],\n",
       "       ['ele_engry_us_201506', 43550],\n",
       "       ['ele_engry_us_201408', 43550],\n",
       "       ['ele_engry_us_201508', 43550],\n",
       "       ['ele_engry_us_201605', 43550],\n",
       "       ['ele_engry_us_201509', 43550],\n",
       "       ['ele_engry_us_201701', 43550],\n",
       "       ['ele_engry_us_201612', 43550],\n",
       "       ['ele_engry_us_201609', 43550],\n",
       "       ['ele_engry_us_201608', 43550],\n",
       "       ['ele_engry_us_201607', 43550],\n",
       "       ['ele_engry_us_201606', 43550],\n",
       "       ['ele_engry_us_201610', 43550],\n",
       "       ['ele_engry_us_201604', 43550],\n",
       "       ['ele_engry_us_201511', 43550],\n",
       "       ['ele_engry_us_201602', 43550],\n",
       "       ['ele_engry_us_201601', 43550],\n",
       "       ['ele_engry_us_201510', 43550],\n",
       "       ['ele_engry_us_201603', 43550],\n",
       "       ['ele_engry_us_201512', 43550],\n",
       "       ['bldng_us_clssfctn', 29343],\n",
       "       ['bldng_us', 27677],\n",
       "       ['bldng_archtctr', 27665],\n",
       "       ['dt_of_athrztn', 27581],\n",
       "       ['bldng_ar_prc', 21895],\n",
       "       ['ttl_dwn_flr', 11005],\n",
       "       ['ttl_grnd_flr', 10210],\n",
       "       ['lnd_us_sttn_nm', 1776],\n",
       "       ['rd_sd_nm', 1491],\n",
       "       ['rgnl_ar_nm2', 1491],\n",
       "       ['rgnl_ar_nm', 1491],\n",
       "       ['hm_cnt', 701],\n",
       "       ['wnd_drctn', 221],\n",
       "       ['fr_mn_cnt', 41],\n",
       "       ['wnd_spd', 33],\n",
       "       ['hmdt', 22],\n",
       "       ['tmprtr', 13],\n",
       "       ['emd_nm', 4],\n",
       "       ['bldng_cnt_in_50m', 0],\n",
       "       ['no_tbc_zn_dstnc', 0],\n",
       "       ['fr_wthr_fclt_in_100m', 0],\n",
       "       ['ahsm_dstnc', 0],\n",
       "       ['sft_emrgnc_bll_dstnc', 0],\n",
       "       ['tbc_rtl_str_dstnc', 0],\n",
       "       ['cctv_in_100m', 0],\n",
       "       ['mlt_us_yn', 0],\n",
       "       ['cctv_dstnc', 0],\n",
       "       ['id', 0],\n",
       "       ['fr_wthr_fclt_dstnc', 0],\n",
       "       ['fr_sttn_dstnc', 0],\n",
       "       ['jmk', 0],\n",
       "       ['dt_of_fr', 0],\n",
       "       ['lnd_ar', 0],\n",
       "       ['ttl_ar', 0],\n",
       "       ['bldng_ar', 0],\n",
       "       ['bldng_cnt', 0],\n",
       "       ['fr_yn', 0]], dtype=object)"
      ]
     },
     "execution_count": 5,
     "metadata": {},
     "output_type": "execute_result"
    }
   ],
   "source": [
    " train.isnull().sum().reset_index().sort_values(by = 0, ascending = False).values"
   ]
  },
  {
   "cell_type": "markdown",
   "metadata": {},
   "source": [
    "- ['bldng_us_clssfctn', 29343]건물용도분류명(주거용)   \n",
    "- ['bldng_us', 27677]건물용도(단독주택)  \n",
    "- ['bldng_archtctr', 27665]건물구조(벽돌구조)  \n",
    "- ['dt_of_athrztn', 27581]건물승인일자(19850417)  \n",
    "- ['bldng_ar_prc', 21895]단위 면적당 건물 가격_2019년 기준(312411)  \n",
    "- ['ttl_dwn_flr', 11005]건물들의 지하 층수의 합(0)  \n",
    "- ['ttl_grnd_flr', 10210]건물들의 지상 층수의 합(4)  \n",
    "- ['lnd_us_sttn_nm', 1776]토지 이용상황명(전)\n",
    "- ['rd_sd_nm', 1491]도로측면명(맹지)  \n",
    "- ['rgnl_ar_nm2', 1491]용도지역지구명2(지정되지 않음)  \n",
    "- ['rgnl_ar_nm', 1491]용도지역지구명(개발제한구역)  \n",
    "- ['hm_cnt', 701]행정구역 인구(27312)  \n",
    "- ['wnd_drctn', 221]풍향(270)\n",
    "- ['fr_mn_cnt', 41]관할 소방서 인원(224)  \n",
    "- ['wnd_spd', 33]풍속(2.2)\n",
    "- ['hmdt', 22]습도(77)\n",
    "- ['tmprtr', 13]온도_c(4.4)  \n",
    "- ['emd_nm', 4]행정구역명(경상남도 진주시 판문동)  \n",
    "__________________________________________________\n",
    "- ['bldng_cnt_in_50m', 0]반경 50M 이내의 건물 수(23)  \n",
    "- ['no_tbc_zn_dstnc', 0]금연구역과의 최소 거리(235)  \n",
    "- ['fr_wthr_fclt_in_100m', 0]반경 100M 이내 소방용수 시설 수(2)  \n",
    "- ['ahsm_dstnc', 0]자동 심장 충격기와의 최소 거리(234)  \n",
    "- ['sft_emrgnc_bll_dstnc', 0]안전 비상벨과의 최소 거리(233)  \n",
    "- ['tbc_rtl_str_dstnc', 0]담배 소매점과의 최소 거리(232)  \n",
    "- ['cctv_in_100m', 0]반경 100M 이내 공공 CCTV(1)  \n",
    "- ['mlt_us_yn', 0]다중이용시설 포함여부(Y)  \n",
    "- ['cctv_dstnc', 0]공공 CCTV와의 최소 거리(232)  \n",
    "- ['fr_wthr_fclt_dstnc', 0]소방용수시설(소화전 등)과의 최소 거리(223)  \n",
    "- ['fr_sttn_dstnc', 0]119안전센터와의 거리(3222)  \n",
    "- ['jmk', 0]지적상 지목(답)  \n",
    "- [dt_of_fr', 0]화재발생일시(2014-03-18 15:23:18)  \n",
    "- ['lnd_ar', 0]토지면적(390)  \n",
    "- ['ttl_ar', 0]건물연면적_건물층별합계전체면적(130.845)  \n",
    "- ['bldng_ar', 0]건물건축면적(130.845)  \n",
    "- ['bldng_cnt', 0]건물채수(4)  "
   ]
  },
  {
   "cell_type": "markdown",
   "metadata": {},
   "source": [
    "# 주소 없는 4개 행 삭제"
   ]
  },
  {
   "cell_type": "code",
   "execution_count": 61,
   "metadata": {},
   "outputs": [],
   "source": [
    "train = train.dropna(subset=['emd_nm'])"
   ]
  },
  {
   "cell_type": "markdown",
   "metadata": {},
   "source": [
    "# 주소 정리"
   ]
  },
  {
   "cell_type": "code",
   "execution_count": 62,
   "metadata": {},
   "outputs": [],
   "source": [
    "train['시도'] = train['emd_nm'].apply(lambda x: str(x).split()[0])\n",
    "train['시군구'] = train['emd_nm'].apply(lambda x: str(x).split()[1][:3])\n",
    "train['구시동면읍'] = train['emd_nm'].apply(lambda x: str(x).split()[2])\n",
    "# 창원시는 따로\n",
    "train.loc[train['시군구'].apply(lambda x: len(x) > 3), '구시동면읍'] = train['emd_nm'].apply(lambda x: str(x).split()[1][3:])\n",
    "\n",
    "train['주소'] = train['시도'] + ' ' + train['시군구'] + ' ' + train['구시동면읍']"
   ]
  },
  {
   "cell_type": "markdown",
   "metadata": {},
   "source": [
    "# N, Y -> 0, 1"
   ]
  },
  {
   "cell_type": "code",
   "execution_count": 63,
   "metadata": {},
   "outputs": [],
   "source": [
    "binary_y = {'N': 0, 'Y': 1}\n",
    "\n",
    "train['fr_yn'] = train['fr_yn'].map(binary_y)\n",
    "val['fr_yn'] = val['fr_yn'].map(binary_y)\n",
    "train['mlt_us_yn'] = train['mlt_us_yn'].map(binary_y)\n",
    "val['mlt_us_yn'] = val['mlt_us_yn'].map(binary_y)\n",
    "test['mlt_us_yn'] = test['mlt_us_yn'].map(binary_y)"
   ]
  },
  {
   "cell_type": "markdown",
   "metadata": {},
   "source": [
    "# 습도(hmdt) 채우기 위해 corr 확인"
   ]
  },
  {
   "cell_type": "code",
   "execution_count": 64,
   "metadata": {},
   "outputs": [],
   "source": [
    "corr = train.corr()"
   ]
  },
  {
   "cell_type": "code",
   "execution_count": 65,
   "metadata": {},
   "outputs": [
    {
     "data": {
      "text/plain": [
       "wnd_spd     -0.402695\n",
       "wnd_drctn   -0.253174\n",
       "Name: hmdt, dtype: float64"
      ]
     },
     "execution_count": 65,
     "metadata": {},
     "output_type": "execute_result"
    }
   ],
   "source": [
    "corr.loc[corr['hmdt']<-0.2, 'hmdt']"
   ]
  },
  {
   "cell_type": "markdown",
   "metadata": {},
   "source": [
    "# 년-월 행 추가"
   ]
  },
  {
   "cell_type": "code",
   "execution_count": 66,
   "metadata": {},
   "outputs": [],
   "source": [
    "train['year-month'] = train['dt_of_fr'].apply(lambda x: x[:7])"
   ]
  },
  {
   "cell_type": "markdown",
   "metadata": {},
   "source": [
    "# 년-월-일 행 추가"
   ]
  },
  {
   "cell_type": "code",
   "execution_count": 67,
   "metadata": {},
   "outputs": [],
   "source": [
    "train['year-month-day']= train['dt_of_fr'].apply(lambda x: x[:10])"
   ]
  },
  {
   "cell_type": "markdown",
   "metadata": {},
   "source": [
    "# 풍속 null 값 채우기(1차, 2차)"
   ]
  },
  {
   "cell_type": "code",
   "execution_count": 68,
   "metadata": {},
   "outputs": [],
   "source": [
    "train['wnd_spd'] = train.groupby(['주소', 'year-month-day'])['wnd_spd'].transform(lambda x: x.fillna(x.median()))"
   ]
  },
  {
   "cell_type": "code",
   "execution_count": 70,
   "metadata": {},
   "outputs": [],
   "source": [
    "train['wnd_spd'] = train.groupby(['주소', 'year-month'])['wnd_spd'].transform(lambda x: x.fillna(x.median()))"
   ]
  },
  {
   "cell_type": "code",
   "execution_count": 71,
   "metadata": {},
   "outputs": [
    {
     "data": {
      "text/plain": [
       "0"
      ]
     },
     "execution_count": 71,
     "metadata": {},
     "output_type": "execute_result"
    }
   ],
   "source": [
    "train['wnd_spd'].isnull().sum()"
   ]
  },
  {
   "cell_type": "markdown",
   "metadata": {},
   "source": [
    "# 풍향 null 값 채우기(1차, 2차, 3차)"
   ]
  },
  {
   "cell_type": "code",
   "execution_count": 72,
   "metadata": {},
   "outputs": [],
   "source": [
    "train['wnd_drctn'] = train.groupby(['주소', 'year-month-day'])['wnd_drctn'].transform(lambda x: x.fillna(x.median()))"
   ]
  },
  {
   "cell_type": "code",
   "execution_count": 76,
   "metadata": {},
   "outputs": [],
   "source": [
    "train['wnd_drctn'] = train.groupby(['주소', 'year-month'])['wnd_drctn'].transform(lambda x: x.fillna(x.median()))"
   ]
  },
  {
   "cell_type": "code",
   "execution_count": 78,
   "metadata": {},
   "outputs": [],
   "source": [
    "train['wnd_drctn'] = train.groupby(['year-month-day'])['wnd_drctn'].transform(lambda x: x.fillna(x.median()))"
   ]
  },
  {
   "cell_type": "code",
   "execution_count": 79,
   "metadata": {},
   "outputs": [
    {
     "data": {
      "text/plain": [
       "0"
      ]
     },
     "execution_count": 79,
     "metadata": {},
     "output_type": "execute_result"
    }
   ],
   "source": [
    "train['wnd_drctn'].isnull().sum()"
   ]
  },
  {
   "cell_type": "markdown",
   "metadata": {},
   "source": [
    "# 습도 null 값 채우기(1차, 2차, 3차)"
   ]
  },
  {
   "cell_type": "code",
   "execution_count": 80,
   "metadata": {},
   "outputs": [],
   "source": [
    "train['hmdt'] = train.groupby(['wnd_spd', 'wnd_drctn'])['hmdt'].transform(lambda x: x.fillna(x.median()))"
   ]
  },
  {
   "cell_type": "code",
   "execution_count": 84,
   "metadata": {},
   "outputs": [],
   "source": [
    "train['hmdt'] = train.groupby(['wnd_drctn'])['hmdt'].transform(lambda x: x.fillna(x.median()))"
   ]
  },
  {
   "cell_type": "code",
   "execution_count": 93,
   "metadata": {},
   "outputs": [],
   "source": [
    "train['hmdt'] = train.groupby(['year-month-day'])['hmdt'].transform(lambda x: x.fillna(x.median()))"
   ]
  },
  {
   "cell_type": "code",
   "execution_count": 94,
   "metadata": {},
   "outputs": [
    {
     "data": {
      "text/plain": [
       "0"
      ]
     },
     "execution_count": 94,
     "metadata": {},
     "output_type": "execute_result"
    }
   ],
   "source": [
    "train['hmdt'].isnull().sum()"
   ]
  },
  {
   "cell_type": "markdown",
   "metadata": {},
   "source": [
    "# 온도 null 값 채우기"
   ]
  },
  {
   "cell_type": "code",
   "execution_count": 105,
   "metadata": {
    "scrolled": true
   },
   "outputs": [
    {
     "data": {
      "text/plain": [
       "tmprtr         1.000000\n",
       "wnd_spd        0.106351\n",
       "hmdt           0.125646\n",
       "lw_13101110    0.145238\n",
       "lw_13101210    0.118775\n",
       "lw_13101211    0.136644\n",
       "lw_13111010    0.116014\n",
       "Name: tmprtr, dtype: float64"
      ]
     },
     "execution_count": 105,
     "metadata": {},
     "output_type": "execute_result"
    }
   ],
   "source": [
    "corr.loc[corr['tmprtr'] > 0.1, 'tmprtr']"
   ]
  },
  {
   "cell_type": "code",
   "execution_count": 102,
   "metadata": {},
   "outputs": [],
   "source": [
    "train['tmprtr'] = train.groupby(['wnd_spd', 'hmdt'])['tmprtr'].transform(lambda x: x.fillna(x.median()))"
   ]
  },
  {
   "cell_type": "code",
   "execution_count": 106,
   "metadata": {},
   "outputs": [],
   "source": [
    "train['tmprtr'] = train.groupby(['hmdt', 'year-month-day'])['tmprtr'].transform(lambda x: x.fillna(x.median()))"
   ]
  },
  {
   "cell_type": "code",
   "execution_count": 108,
   "metadata": {},
   "outputs": [],
   "source": [
    "train['tmprtr'] = train.groupby(['wnd_spd', 'year-month-day'])['tmprtr'].transform(lambda x: x.fillna(x.median()))"
   ]
  },
  {
   "cell_type": "code",
   "execution_count": 110,
   "metadata": {},
   "outputs": [],
   "source": [
    "train['tmprtr'] = train.groupby(['hmdt', 'year-month'])['tmprtr'].transform(lambda x: x.fillna(x.median()))"
   ]
  },
  {
   "cell_type": "code",
   "execution_count": 111,
   "metadata": {},
   "outputs": [
    {
     "data": {
      "text/plain": [
       "0"
      ]
     },
     "execution_count": 111,
     "metadata": {},
     "output_type": "execute_result"
    }
   ],
   "source": [
    "train['tmprtr'].isnull().sum()"
   ]
  },
  {
   "cell_type": "code",
   "execution_count": null,
   "metadata": {},
   "outputs": [],
   "source": []
  },
  {
   "cell_type": "code",
   "execution_count": null,
   "metadata": {},
   "outputs": [],
   "source": []
  }
 ],
 "metadata": {
  "kernelspec": {
   "display_name": "Python 3",
   "language": "python",
   "name": "python3"
  },
  "language_info": {
   "codemirror_mode": {
    "name": "ipython",
    "version": 3
   },
   "file_extension": ".py",
   "mimetype": "text/x-python",
   "name": "python",
   "nbconvert_exporter": "python",
   "pygments_lexer": "ipython3",
   "version": "3.7.3"
  }
 },
 "nbformat": 4,
 "nbformat_minor": 2
}
