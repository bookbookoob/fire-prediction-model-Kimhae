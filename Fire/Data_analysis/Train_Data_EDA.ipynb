{
 "cells": [
  {
   "cell_type": "code",
   "execution_count": 1,
   "metadata": {},
   "outputs": [],
   "source": [
    "import pandas as pd\n",
    "import numpy as np\n",
    "import seaborn as sns\n",
    "import matplotlib as plot\n",
    "import matplotlib.pyplot as plt"
   ]
  },
  {
   "cell_type": "code",
   "execution_count": 2,
   "metadata": {},
   "outputs": [
    {
     "name": "stderr",
     "output_type": "stream",
     "text": [
      "/usr/local/lib/python3.7/site-packages/IPython/core/interactiveshell.py:3020: DtypeWarning: Columns (8) have mixed types. Specify dtype option on import or set low_memory=False.\n",
      "  interactivity=interactivity, compiler=compiler, result=result)\n"
     ]
    }
   ],
   "source": [
    "tDB = pd.read_csv('../Data/PJT002_train.csv')"
   ]
  },
  {
   "cell_type": "code",
   "execution_count": 3,
   "metadata": {},
   "outputs": [],
   "source": [
    "tDB = tDB[['id', 'dt_of_fr', 'bldng_cnt', 'bldng_ar', 'ttl_ar', 'lnd_ar'\n",
    "           , 'jmk', 'fr_sttn_dstnc', 'fr_wthr_fclt_dstnc'\n",
    "           , 'mlt_us_yn', 'cctv_dstnc', 'cctv_in_100m'\n",
    "           , 'fr_wthr_fclt_in_100m', 'tbc_rtl_str_dstnc', 'sft_emrgnc_bll_dstnc'\n",
    "           , 'ahsm_dstnc', 'no_tbc_zn_dstnc', 'bldng_cnt_in_50m', 'fr_yn']]"
   ]
  },
  {
   "cell_type": "code",
   "execution_count": 4,
   "metadata": {},
   "outputs": [],
   "source": [
    "#tDB.info()"
   ]
  },
  {
   "cell_type": "markdown",
   "metadata": {},
   "source": [
    "## Columns \n",
    "\n",
    "    ID :              아이디\n",
    "    dt_of_fr :        화재발생일시\n",
    "    fr_yn :           화재발생여부\n",
    "    bldng_us :        건물용도\n",
    "    bldng_archtctr :  건물구조\n",
    "    bldng_cnt:        건물채수\n",
    "    bldng_ar :        건물건축면적\n",
    "    ttl_ar :          건물연면적(건물층별합계전체 면적)\n",
    "    lnd_ar :          토지면적\n",
    "    dt_of_arthrztn :  건물승인일자\n",
    "    ttl_grnd_flr :    건물들의 지상 층수의 합\n",
    "    ttl_dwn_fr :      건물들의 지하 층수의 합\n",
    "    bldng_us_ :       건물용도분류명\n",
    "    tmprtr :          온도(c)\n",
    "    prcpttn :         강수량\n",
    "    wnd_spd :         풍속\n",
    "    wnd_drctn :       풍향\n",
    "    hmdt :            습도\n",
    "    ele_engry_us_201401 : 전기 에너지 사용량(2014월1월)\n",
    "    gas_engry_us_201401 : 가스 에너지 사용량(2014월1월)\n",
    "\n",
    "    lw_13101010 : 복도,계단,출입구의 성능 유지여부(0~5)\n",
    "    lw_13101110 : 옥상광장의 피난성능 유지여부(0~5)\n",
    "    lw_13101210 : 방화문, 방화셔터 등의 성능 유지여부(0~5)\n",
    "    lw_13101211 : 방화구획 적합 여부(0~5)\n",
    "    lw_13101310 : 경계벽 및 칸막이벽의 변경 등 방화성능 유지여부(0~5)\n",
    "    lw_13101410 : 배연설비의 성능 유지여부(0~5)\n",
    "    lw_13111010 : 내화구조의 성능 유지여부(0~5)\n",
    "    lw_13111110 : 방화벽의 성능 유지여부(0~5)\n",
    "    lw_13121010 : 외벽의 성능 유지여부(0~5)\n",
    "    lw_13121011 : 창호의 성능 유지여부(0~5)\n",
    "    lw_13131010 : 내부마감의 방화성능 유지여부(0~5)\n",
    "    lw_13131110 : 외부마감의 노후화 및 마감재 탈락 여부(0~5)\n",
    "    lw_13141010 : 지하층의 소방설비 성능 유지여부(0~5)\n",
    "    lw_13141011 : 지하층 피난구,피난계단의 성능 유지여부(0~5)\n",
    "\n",
    "    jmk:          지적상 지목\n",
    "    rgnl_ar_nm :  용도지역지구명\n",
    "    rgnl_ar_nm2 : 용도지역지구명2\n",
    "    lnd_us_sttn_nm : 토지이용상황명\n",
    "    rd_sd_nm :    도로측면명\n",
    "    emd_nm :      행정구역명\n",
    "    hm_cnt :      행정구역 인구\n",
    "    fr_sttn_dstnc_119 : 안전센터와의 거리\n",
    "    bldng_ar_prc : 단위 면적당 건물 가격\n",
    "    fr_wthr_fclt_dstnc : 소방용수시설(소화전 등)과의 거리\n",
    "    fr_mn_cnt : 관할 소방서 인원\n",
    "    mlt_us_yn : 다중이용시설 포함여부\n",
    "    cctv_dstnc : 공공 CCTV와의 최소 거리\n",
    "    cctv_in_100m : 100m 이내 공공 CCTV\n",
    "    fr_wthr_fclt_in_100m : 100m 이내 소방용수 시설 수\n",
    "    tbcco_trl_str_dstnc : 담배 소매점과의 최소 거리\n",
    "    sft_emrgnc_bll_dstnc : 안전 비상벨과의 최소 거리\n",
    "    ahsm_dstnc : 자동 심장 충격기와의 최소 거리\n",
    "    no_tbc_zn_dstnc : 금연구역과의 최소 거리\n",
    "    bldng_cnt_in_50m : 반경 50M 이내의 건물 수"
   ]
  },
  {
   "cell_type": "code",
   "execution_count": 5,
   "metadata": {},
   "outputs": [],
   "source": [
    "#tDB.info()"
   ]
  },
  {
   "cell_type": "code",
   "execution_count": 6,
   "metadata": {},
   "outputs": [],
   "source": [
    "tDB['year']= tDB['dt_of_fr'].apply(lambda x : str(x).split('-')[0]) \n",
    "tDB['month']= tDB['dt_of_fr'].apply(lambda x: str(x).split('-')[1])\n",
    "tDB['date_time']= tDB['dt_of_fr'].apply(lambda x : str(x).split('-')[2])\n",
    "tDB['date'] = tDB['date_time'].apply(lambda x : x.split(' ')[0])\n",
    "tDB['time'] = tDB['date_time'].apply(lambda x : x.split(' ')[1])"
   ]
  },
  {
   "cell_type": "markdown",
   "metadata": {},
   "source": [
    "# Yearly 비교\n"
   ]
  },
  {
   "cell_type": "code",
   "execution_count": 7,
   "metadata": {},
   "outputs": [
    {
     "data": {
      "text/html": [
       "<div>\n",
       "<style scoped>\n",
       "    .dataframe tbody tr th:only-of-type {\n",
       "        vertical-align: middle;\n",
       "    }\n",
       "\n",
       "    .dataframe tbody tr th {\n",
       "        vertical-align: top;\n",
       "    }\n",
       "\n",
       "    .dataframe thead th {\n",
       "        text-align: right;\n",
       "    }\n",
       "</style>\n",
       "<table border=\"1\" class=\"dataframe\">\n",
       "  <thead>\n",
       "    <tr style=\"text-align: right;\">\n",
       "      <th></th>\n",
       "      <th>year</th>\n",
       "      <th>count</th>\n",
       "    </tr>\n",
       "  </thead>\n",
       "  <tbody>\n",
       "    <tr>\n",
       "      <th>0</th>\n",
       "      <td>2014</td>\n",
       "      <td>11724</td>\n",
       "    </tr>\n",
       "    <tr>\n",
       "      <th>1</th>\n",
       "      <td>2015</td>\n",
       "      <td>12036</td>\n",
       "    </tr>\n",
       "    <tr>\n",
       "      <th>2</th>\n",
       "      <td>2016</td>\n",
       "      <td>11885</td>\n",
       "    </tr>\n",
       "    <tr>\n",
       "      <th>3</th>\n",
       "      <td>2017</td>\n",
       "      <td>11801</td>\n",
       "    </tr>\n",
       "    <tr>\n",
       "      <th>4</th>\n",
       "      <td>2018</td>\n",
       "      <td>11753</td>\n",
       "    </tr>\n",
       "  </tbody>\n",
       "</table>\n",
       "</div>"
      ],
      "text/plain": [
       "   year  count\n",
       "0  2014  11724\n",
       "1  2015  12036\n",
       "2  2016  11885\n",
       "3  2017  11801\n",
       "4  2018  11753"
      ]
     },
     "execution_count": 7,
     "metadata": {},
     "output_type": "execute_result"
    }
   ],
   "source": [
    "y_count = tDB.groupby('year').count().reset_index()[['year', 'id']]\n",
    "y_count = y_count.rename(columns = {'id':'count'})\n",
    "y_count"
   ]
  },
  {
   "cell_type": "code",
   "execution_count": 8,
   "metadata": {},
   "outputs": [],
   "source": [
    "%matplotlib inline"
   ]
  },
  {
   "cell_type": "code",
   "execution_count": 9,
   "metadata": {},
   "outputs": [
    {
     "data": {
      "text/plain": [
       "(11000, 12500)"
      ]
     },
     "execution_count": 9,
     "metadata": {},
     "output_type": "execute_result"
    },
    {
     "data": {
      "image/png": "[encoded data removed]",
      "text/plain": [
       "<Figure size 432x288 with 1 Axes>"
      ]
     },
     "metadata": {
      "needs_background": "light"
     },
     "output_type": "display_data"
    }
   ],
   "source": [
    "plt.bar(x = 'year', height='count', data = y_count)\n",
    "plt.ylim(11000, 12500)\n"
   ]
  },
  {
   "cell_type": "markdown",
   "metadata": {},
   "source": [
    "---\n",
    "\n",
    "# Monthly 비교"
   ]
  },
  {
   "cell_type": "code",
   "execution_count": 10,
   "metadata": {},
   "outputs": [
    {
     "data": {
      "text/html": [
       "<div>\n",
       "<style scoped>\n",
       "    .dataframe tbody tr th:only-of-type {\n",
       "        vertical-align: middle;\n",
       "    }\n",
       "\n",
       "    .dataframe tbody tr th {\n",
       "        vertical-align: top;\n",
       "    }\n",
       "\n",
       "    .dataframe thead th {\n",
       "        text-align: right;\n",
       "    }\n",
       "</style>\n",
       "<table border=\"1\" class=\"dataframe\">\n",
       "  <thead>\n",
       "    <tr style=\"text-align: right;\">\n",
       "      <th></th>\n",
       "      <th>month</th>\n",
       "      <th>count</th>\n",
       "    </tr>\n",
       "  </thead>\n",
       "  <tbody>\n",
       "    <tr>\n",
       "      <th>0</th>\n",
       "      <td>01</td>\n",
       "      <td>5080</td>\n",
       "    </tr>\n",
       "    <tr>\n",
       "      <th>1</th>\n",
       "      <td>02</td>\n",
       "      <td>5056</td>\n",
       "    </tr>\n",
       "    <tr>\n",
       "      <th>2</th>\n",
       "      <td>03</td>\n",
       "      <td>5082</td>\n",
       "    </tr>\n",
       "    <tr>\n",
       "      <th>3</th>\n",
       "      <td>04</td>\n",
       "      <td>4993</td>\n",
       "    </tr>\n",
       "    <tr>\n",
       "      <th>4</th>\n",
       "      <td>05</td>\n",
       "      <td>4902</td>\n",
       "    </tr>\n",
       "    <tr>\n",
       "      <th>5</th>\n",
       "      <td>06</td>\n",
       "      <td>4788</td>\n",
       "    </tr>\n",
       "    <tr>\n",
       "      <th>6</th>\n",
       "      <td>07</td>\n",
       "      <td>4781</td>\n",
       "    </tr>\n",
       "    <tr>\n",
       "      <th>7</th>\n",
       "      <td>08</td>\n",
       "      <td>4802</td>\n",
       "    </tr>\n",
       "    <tr>\n",
       "      <th>8</th>\n",
       "      <td>09</td>\n",
       "      <td>4711</td>\n",
       "    </tr>\n",
       "    <tr>\n",
       "      <th>9</th>\n",
       "      <td>10</td>\n",
       "      <td>4978</td>\n",
       "    </tr>\n",
       "    <tr>\n",
       "      <th>10</th>\n",
       "      <td>11</td>\n",
       "      <td>4937</td>\n",
       "    </tr>\n",
       "    <tr>\n",
       "      <th>11</th>\n",
       "      <td>12</td>\n",
       "      <td>5089</td>\n",
       "    </tr>\n",
       "  </tbody>\n",
       "</table>\n",
       "</div>"
      ],
      "text/plain": [
       "   month  count\n",
       "0     01   5080\n",
       "1     02   5056\n",
       "2     03   5082\n",
       "3     04   4993\n",
       "4     05   4902\n",
       "5     06   4788\n",
       "6     07   4781\n",
       "7     08   4802\n",
       "8     09   4711\n",
       "9     10   4978\n",
       "10    11   4937\n",
       "11    12   5089"
      ]
     },
     "execution_count": 10,
     "metadata": {},
     "output_type": "execute_result"
    }
   ],
   "source": [
    "m_count = tDB.groupby('month').count().reset_index()[['month', 'id']]\n",
    "m_count = m_count.rename(columns = {'id':'count'})\n",
    "m_count"
   ]
  },
  {
   "cell_type": "code",
   "execution_count": 11,
   "metadata": {},
   "outputs": [
    {
     "data": {
      "text/plain": [
       "(4400, 5500)"
      ]
     },
     "execution_count": 11,
     "metadata": {},
     "output_type": "execute_result"
    },
    {
     "data": {
      "image/png": "[encoded data removed]",
      "text/plain": [
       "<Figure size 432x288 with 1 Axes>"
      ]
     },
     "metadata": {
      "needs_background": "light"
     },
     "output_type": "display_data"
    }
   ],
   "source": [
    "plt.bar(x = 'month', height='count', data = m_count)\n",
    "plt.ylim(4400, 5500)"
   ]
  },
  {
   "cell_type": "markdown",
   "metadata": {},
   "source": [
    "---\n",
    "# 날짜별 비교\n",
    " \n",
    " > 요일별 비교가 더 나을 듯"
   ]
  },
  {
   "cell_type": "code",
   "execution_count": 12,
   "metadata": {},
   "outputs": [],
   "source": [
    "d_count = tDB.groupby('date').count().reset_index()[['date', 'id']]\n",
    "d_count = d_count.rename(columns = {'id':'count'})"
   ]
  },
  {
   "cell_type": "code",
   "execution_count": 13,
   "metadata": {},
   "outputs": [
    {
     "data": {
      "text/plain": [
       "<BarContainer object of 31 artists>"
      ]
     },
     "execution_count": 13,
     "metadata": {},
     "output_type": "execute_result"
    },
    {
     "data": {
      "image/png": "[encoded data removed]",
      "text/plain": [
       "<Figure size 432x288 with 1 Axes>"
      ]
     },
     "metadata": {
      "needs_background": "light"
     },
     "output_type": "display_data"
    }
   ],
   "source": [
    "plt.bar(x = 'date', height='count', data = d_count)"
   ]
  },
  {
   "cell_type": "markdown",
   "metadata": {},
   "source": [
    "---\n",
    "# 시간대별 비교"
   ]
  },
  {
   "cell_type": "code",
   "execution_count": 25,
   "metadata": {
    "scrolled": true
   },
   "outputs": [
    {
     "data": {
      "text/plain": [
       "0        02\n",
       "1        17\n",
       "2        12\n",
       "3        02\n",
       "4        16\n",
       "         ..\n",
       "59194    10\n",
       "59195    17\n",
       "59196    08\n",
       "59197    03\n",
       "59198    21\n",
       "Name: time, Length: 59199, dtype: object"
      ]
     },
     "execution_count": 25,
     "metadata": {},
     "output_type": "execute_result"
    }
   ],
   "source": [
    "a = tDB['time'].reset_index()\n",
    "a['time'] = a['time'].apply(lambda x : x[:2])"
   ]
  },
  {
   "cell_type": "code",
   "execution_count": 27,
   "metadata": {},
   "outputs": [],
   "source": [
    "time_line = sorted(a['time'])"
   ]
  },
  {
   "cell_type": "code",
   "execution_count": 31,
   "metadata": {},
   "outputs": [
    {
     "data": {
      "text/plain": [
       "(2000, 2750)"
      ]
     },
     "execution_count": 31,
     "metadata": {},
     "output_type": "execute_result"
    },
    {
     "data": {
      "image/png": "[encoded data removed]",
      "text/plain": [
       "<Figure size 432x288 with 1 Axes>"
      ]
     },
     "metadata": {
      "needs_background": "light"
     },
     "output_type": "display_data"
    }
   ],
   "source": [
    "plt.hist(time_line, bins = 24)\n",
    "plt.ylim(2000, 2750)"
   ]
  },
  {
   "cell_type": "code",
   "execution_count": null,
   "metadata": {},
   "outputs": [],
   "source": []
  }
 ],
 "metadata": {
  "kernelspec": {
   "display_name": "Python 3",
   "language": "python",
   "name": "python3"
  },
  "language_info": {
   "codemirror_mode": {
    "name": "ipython",
    "version": 3
   },
   "file_extension": ".py",
   "mimetype": "text/x-python",
   "name": "python",
   "nbconvert_exporter": "python",
   "pygments_lexer": "ipython3",
   "version": "3.7.0"
  }
 },
 "nbformat": 4,
 "nbformat_minor": 2
}
