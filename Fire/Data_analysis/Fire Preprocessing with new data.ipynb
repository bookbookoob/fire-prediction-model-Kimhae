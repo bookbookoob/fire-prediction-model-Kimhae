{
 "cells": [
  {
   "cell_type": "code",
   "execution_count": 1,
   "metadata": {},
   "outputs": [],
   "source": [
    "import pandas as pd\n",
    "import numpy as np\n",
    "import matplotlib\n",
    "import matplotlib.pyplot as plt\n",
    "import seaborn as sns"
   ]
  },
  {
   "cell_type": "code",
   "execution_count": 2,
   "metadata": {},
   "outputs": [],
   "source": [
    "import warnings\n",
    "warnings.filterwarnings('ignore')"
   ]
  },
  {
   "cell_type": "code",
   "execution_count": 3,
   "metadata": {
    "scrolled": false
   },
   "outputs": [
    {
     "name": "stdout",
     "output_type": "stream",
     "text": [
      "train (59199, 173)\n",
      "test (2957, 172)\n",
      "valid (6898, 173)\n"
     ]
    },
    {
     "data": {
      "text/html": [
       "<div>\n",
       "<style scoped>\n",
       "    .dataframe tbody tr th:only-of-type {\n",
       "        vertical-align: middle;\n",
       "    }\n",
       "\n",
       "    .dataframe tbody tr th {\n",
       "        vertical-align: top;\n",
       "    }\n",
       "\n",
       "    .dataframe thead th {\n",
       "        text-align: right;\n",
       "    }\n",
       "</style>\n",
       "<table border=\"1\" class=\"dataframe\">\n",
       "  <thead>\n",
       "    <tr style=\"text-align: right;\">\n",
       "      <th></th>\n",
       "      <th>dt_of_fr</th>\n",
       "      <th>fr_yn</th>\n",
       "      <th>bldng_us</th>\n",
       "      <th>bldng_archtctr</th>\n",
       "      <th>bldng_cnt</th>\n",
       "      <th>bldng_ar</th>\n",
       "      <th>ttl_ar</th>\n",
       "      <th>lnd_ar</th>\n",
       "      <th>dt_of_athrztn</th>\n",
       "      <th>ttl_grnd_flr</th>\n",
       "      <th>...</th>\n",
       "      <th>mlt_us_yn</th>\n",
       "      <th>cctv_dstnc</th>\n",
       "      <th>cctv_rsn</th>\n",
       "      <th>fr_wthr_fclt_in_100m</th>\n",
       "      <th>cctv_in_100m</th>\n",
       "      <th>tbc_rtl_str_dstnc</th>\n",
       "      <th>sft_emrgnc_bll_dstnc</th>\n",
       "      <th>ahsm_dstnc</th>\n",
       "      <th>no_tbc_zn_dstnc</th>\n",
       "      <th>bldng_cnt_in_50m</th>\n",
       "    </tr>\n",
       "  </thead>\n",
       "  <tbody>\n",
       "    <tr>\n",
       "      <th>30855</th>\n",
       "      <td>2017-01-30 23:38:53</td>\n",
       "      <td>N</td>\n",
       "      <td>NaN</td>\n",
       "      <td>NaN</td>\n",
       "      <td>1</td>\n",
       "      <td>0.0</td>\n",
       "      <td>0.0</td>\n",
       "      <td>0.0</td>\n",
       "      <td>NaN</td>\n",
       "      <td>NaN</td>\n",
       "      <td>...</td>\n",
       "      <td>N</td>\n",
       "      <td>3499</td>\n",
       "      <td>NaN</td>\n",
       "      <td>0</td>\n",
       "      <td>0</td>\n",
       "      <td>1222</td>\n",
       "      <td>58402</td>\n",
       "      <td>1049</td>\n",
       "      <td>967</td>\n",
       "      <td>7</td>\n",
       "    </tr>\n",
       "  </tbody>\n",
       "</table>\n",
       "<p>1 rows × 173 columns</p>\n",
       "</div>"
      ],
      "text/plain": [
       "                  dt_of_fr fr_yn bldng_us bldng_archtctr  bldng_cnt  bldng_ar  \\\n",
       "30855  2017-01-30 23:38:53     N      NaN            NaN          1       0.0   \n",
       "\n",
       "       ttl_ar  lnd_ar dt_of_athrztn  ttl_grnd_flr  ...  mlt_us_yn cctv_dstnc  \\\n",
       "30855     0.0     0.0           NaN           NaN  ...          N       3499   \n",
       "\n",
       "       cctv_rsn  fr_wthr_fclt_in_100m  cctv_in_100m  tbc_rtl_str_dstnc  \\\n",
       "30855       NaN                     0             0               1222   \n",
       "\n",
       "       sft_emrgnc_bll_dstnc  ahsm_dstnc  no_tbc_zn_dstnc  bldng_cnt_in_50m  \n",
       "30855                 58402        1049              967                 7  \n",
       "\n",
       "[1 rows x 173 columns]"
      ]
     },
     "execution_count": 3,
     "metadata": {},
     "output_type": "execute_result"
    }
   ],
   "source": [
    "train = pd.read_csv('PJT002_train.csv')\n",
    "test = pd.read_csv('PJT002_test.csv')\n",
    "valid = pd.read_csv('PJT002_validation.csv')\n",
    "\n",
    "print('train', train.shape)\n",
    "print('test', test.shape)\n",
    "print('valid', valid.shape)\n",
    "\n",
    "train.sample()"
   ]
  },
  {
   "cell_type": "code",
   "execution_count": 4,
   "metadata": {},
   "outputs": [
    {
     "data": {
      "text/html": [
       "<div>\n",
       "<style scoped>\n",
       "    .dataframe tbody tr th:only-of-type {\n",
       "        vertical-align: middle;\n",
       "    }\n",
       "\n",
       "    .dataframe tbody tr th {\n",
       "        vertical-align: top;\n",
       "    }\n",
       "\n",
       "    .dataframe thead th {\n",
       "        text-align: right;\n",
       "    }\n",
       "</style>\n",
       "<table border=\"1\" class=\"dataframe\">\n",
       "  <thead>\n",
       "    <tr style=\"text-align: right;\">\n",
       "      <th></th>\n",
       "      <th>ahsm_dstnc</th>\n",
       "      <th>bldng_ar</th>\n",
       "      <th>bldng_ar_prc</th>\n",
       "      <th>bldng_archtctr</th>\n",
       "      <th>bldng_cnt</th>\n",
       "      <th>bldng_cnt_in_50m</th>\n",
       "      <th>bldng_us</th>\n",
       "      <th>bldng_us_clssfctn</th>\n",
       "      <th>cctv_dstnc</th>\n",
       "      <th>cctv_in_100m</th>\n",
       "      <th>...</th>\n",
       "      <th>rgnl_ar_nm2</th>\n",
       "      <th>sft_emrgnc_bll_dstnc</th>\n",
       "      <th>tag</th>\n",
       "      <th>tbc_rtl_str_dstnc</th>\n",
       "      <th>tmprtr</th>\n",
       "      <th>ttl_ar</th>\n",
       "      <th>ttl_dwn_flr</th>\n",
       "      <th>ttl_grnd_flr</th>\n",
       "      <th>wnd_drctn</th>\n",
       "      <th>wnd_spd</th>\n",
       "    </tr>\n",
       "  </thead>\n",
       "  <tbody>\n",
       "    <tr>\n",
       "      <th>55741</th>\n",
       "      <td>47</td>\n",
       "      <td>83.16</td>\n",
       "      <td>670996.0</td>\n",
       "      <td>벽돌구조</td>\n",
       "      <td>4</td>\n",
       "      <td>1</td>\n",
       "      <td>단독주택</td>\n",
       "      <td>주거용</td>\n",
       "      <td>445</td>\n",
       "      <td>0</td>\n",
       "      <td>...</td>\n",
       "      <td>지정되지않음</td>\n",
       "      <td>80146</td>\n",
       "      <td>train</td>\n",
       "      <td>1708</td>\n",
       "      <td>25.3</td>\n",
       "      <td>83.16</td>\n",
       "      <td>0.0</td>\n",
       "      <td>1.0</td>\n",
       "      <td>250.0</td>\n",
       "      <td>3.3</td>\n",
       "    </tr>\n",
       "  </tbody>\n",
       "</table>\n",
       "<p>1 rows × 174 columns</p>\n",
       "</div>"
      ],
      "text/plain": [
       "       ahsm_dstnc  bldng_ar  bldng_ar_prc bldng_archtctr  bldng_cnt  \\\n",
       "55741          47     83.16      670996.0           벽돌구조          4   \n",
       "\n",
       "       bldng_cnt_in_50m bldng_us bldng_us_clssfctn  cctv_dstnc  cctv_in_100m  \\\n",
       "55741                 1     단독주택               주거용         445             0   \n",
       "\n",
       "       ...  rgnl_ar_nm2 sft_emrgnc_bll_dstnc    tag  tbc_rtl_str_dstnc  \\\n",
       "55741  ...       지정되지않음                80146  train               1708   \n",
       "\n",
       "       tmprtr  ttl_ar  ttl_dwn_flr  ttl_grnd_flr  wnd_drctn  wnd_spd  \n",
       "55741    25.3   83.16          0.0           1.0      250.0      3.3  \n",
       "\n",
       "[1 rows x 174 columns]"
      ]
     },
     "execution_count": 4,
     "metadata": {},
     "output_type": "execute_result"
    }
   ],
   "source": [
    "# train-test-valid 데이터셋 모두 합쳐서 전처리\n",
    "train['tag'] = 'train'\n",
    "test['tag'] = 'test'\n",
    "valid['tag'] = 'valid'\n",
    "\n",
    "df = pd.concat([train, test, valid])\n",
    "df.sample()"
   ]
  },
  {
   "cell_type": "markdown",
   "metadata": {},
   "source": [
    "## Null 값 확인"
   ]
  },
  {
   "cell_type": "code",
   "execution_count": 5,
   "metadata": {
    "scrolled": true
   },
   "outputs": [
    {
     "data": {
      "text/plain": [
       "array([['cctv_rsn', 69054],\n",
       "       ['lw_13121010', 68640],\n",
       "       ['lw_13121011', 68640],\n",
       "       ['lw_13111110', 68632],\n",
       "       ['lw_13101410', 68630],\n",
       "       ['lw_13101110', 68622],\n",
       "       ['lw_13141011', 68622],\n",
       "       ['lw_13101310', 68621],\n",
       "       ['lw_13141010', 68621],\n",
       "       ['lw_13131010', 68617],\n",
       "       ['lw_13131110', 68617],\n",
       "       ['lw_13101210', 68616],\n",
       "       ['lw_13101211', 68615],\n",
       "       ['lw_13111010', 68613],\n",
       "       ['lw_13101010', 68611],\n",
       "       ['prcpttn', 62721],\n",
       "       ['bldng_us_clssfctn', 31642],\n",
       "       ['bldng_us', 29259],\n",
       "       ['bldng_archtctr', 29224],\n",
       "       ['ele_engry_us_201404', 29132],\n",
       "       ['gas_engry_us_201601', 29132],\n",
       "       ['gas_engry_us_201508', 29132],\n",
       "       ['gas_engry_us_201509', 29132],\n",
       "       ['gas_engry_us_201510', 29132],\n",
       "       ['gas_engry_us_201511', 29132],\n",
       "       ['gas_engry_us_201512', 29132],\n",
       "       ['gas_engry_us_201603', 29132],\n",
       "       ['gas_engry_us_201602', 29132],\n",
       "       ['gas_engry_us_201506', 29132],\n",
       "       ['gas_engry_us_201604', 29132],\n",
       "       ['gas_engry_us_201605', 29132],\n",
       "       ['gas_engry_us_201606', 29132],\n",
       "       ['gas_engry_us_201607', 29132],\n",
       "       ['gas_engry_us_201507', 29132],\n",
       "       ['gas_engry_us_201504', 29132],\n",
       "       ['gas_engry_us_201505', 29132],\n",
       "       ['gas_engry_us_201609', 29132],\n",
       "       ['gas_engry_us_201503', 29132],\n",
       "       ['gas_engry_us_201502', 29132],\n",
       "       ['gas_engry_us_201501', 29132],\n",
       "       ['gas_engry_us_201412', 29132],\n",
       "       ['gas_engry_us_201411', 29132],\n",
       "       ['gas_engry_us_201410', 29132],\n",
       "       ['gas_engry_us_201408', 29132],\n",
       "       ['gas_engry_us_201407', 29132],\n",
       "       ['gas_engry_us_201406', 29132],\n",
       "       ['ele_engry_us_201405', 29132],\n",
       "       ['gas_engry_us_201404', 29132],\n",
       "       ['gas_engry_us_201608', 29132],\n",
       "       ['gas_engry_us_201611', 29132],\n",
       "       ['gas_engry_us_201610', 29132],\n",
       "       ['gas_engry_us_201801', 29132],\n",
       "       ['dt_of_athrztn', 29132],\n",
       "       ['gas_engry_us_201812', 29132],\n",
       "       ['gas_engry_us_201811', 29132],\n",
       "       ['gas_engry_us_201810', 29132],\n",
       "       ['gas_engry_us_201809', 29132],\n",
       "       ['gas_engry_us_201808', 29132],\n",
       "       ['gas_engry_us_201807', 29132],\n",
       "       ['gas_engry_us_201806', 29132],\n",
       "       ['gas_engry_us_201805', 29132],\n",
       "       ['gas_engry_us_201804', 29132],\n",
       "       ['gas_engry_us_201803', 29132],\n",
       "       ['gas_engry_us_201802', 29132],\n",
       "       ['gas_engry_us_201712', 29132],\n",
       "       ['gas_engry_us_201402', 29132],\n",
       "       ['gas_engry_us_201711', 29132],\n",
       "       ['gas_engry_us_201710', 29132],\n",
       "       ['gas_engry_us_201709', 29132],\n",
       "       ['gas_engry_us_201708', 29132],\n",
       "       ['gas_engry_us_201707', 29132],\n",
       "       ['gas_engry_us_201706', 29132],\n",
       "       ['gas_engry_us_201705', 29132],\n",
       "       ['gas_engry_us_201704', 29132],\n",
       "       ['gas_engry_us_201703', 29132],\n",
       "       ['gas_engry_us_201702', 29132],\n",
       "       ['gas_engry_us_201701', 29132],\n",
       "       ['gas_engry_us_201612', 29132],\n",
       "       ['gas_engry_us_201403', 29132],\n",
       "       ['gas_engry_us_201405', 29132],\n",
       "       ['gas_engry_us_201401', 29132],\n",
       "       ['ele_engry_us_201508', 29132],\n",
       "       ['ele_engry_us_201610', 29132],\n",
       "       ['ele_engry_us_201608', 29132],\n",
       "       ['ele_engry_us_201607', 29132],\n",
       "       ['ele_engry_us_201606', 29132],\n",
       "       ['ele_engry_us_201605', 29132],\n",
       "       ['ele_engry_us_201604', 29132],\n",
       "       ['ele_engry_us_201603', 29132],\n",
       "       ['ele_engry_us_201602', 29132],\n",
       "       ['ele_engry_us_201601', 29132],\n",
       "       ['ele_engry_us_201512', 29132],\n",
       "       ['ele_engry_us_201511', 29132],\n",
       "       ['ele_engry_us_201510', 29132],\n",
       "       ['ele_engry_us_201509', 29132],\n",
       "       ['ele_engry_us_201507', 29132],\n",
       "       ['ele_engry_us_201612', 29132],\n",
       "       ['ele_engry_us_201506', 29132],\n",
       "       ['ele_engry_us_201505', 29132],\n",
       "       ['ele_engry_us_201504', 29132],\n",
       "       ['ele_engry_us_201503', 29132],\n",
       "       ['ele_engry_us_201502', 29132],\n",
       "       ['ele_engry_us_201501', 29132],\n",
       "       ['ele_engry_us_201412', 29132],\n",
       "       ['ele_engry_us_201411', 29132],\n",
       "       ['ele_engry_us_201410', 29132],\n",
       "       ['ele_engry_us_201409', 29132],\n",
       "       ['ele_engry_us_201408', 29132],\n",
       "       ['ele_engry_us_201407', 29132],\n",
       "       ['ele_engry_us_201406', 29132],\n",
       "       ['ele_engry_us_201611', 29132],\n",
       "       ['ele_engry_us_201609', 29132],\n",
       "       ['ele_engry_us_201701', 29132],\n",
       "       ['ele_engry_us_201803', 29132],\n",
       "       ['ele_engry_us_201401', 29132],\n",
       "       ['ele_engry_us_201402', 29132],\n",
       "       ['ele_engry_us_201403', 29132],\n",
       "       ['ele_engry_us_201812', 29132],\n",
       "       ['ele_engry_us_201811', 29132],\n",
       "       ['ele_engry_us_201810', 29132],\n",
       "       ['ele_engry_us_201809', 29132],\n",
       "       ['ele_engry_us_201808', 29132],\n",
       "       ['ele_engry_us_201702', 29132],\n",
       "       ['ele_engry_us_201806', 29132],\n",
       "       ['ele_engry_us_201805', 29132],\n",
       "       ['ele_engry_us_201804', 29132],\n",
       "       ['ele_engry_us_201807', 29132],\n",
       "       ['ele_engry_us_201802', 29132],\n",
       "       ['ele_engry_us_201707', 29132],\n",
       "       ['ele_engry_us_201703', 29132],\n",
       "       ['ele_engry_us_201704', 29132],\n",
       "       ['ele_engry_us_201801', 29132],\n",
       "       ['ele_engry_us_201705', 29132],\n",
       "       ['ele_engry_us_201706', 29132],\n",
       "       ['gas_engry_us_201409', 29132],\n",
       "       ['ele_engry_us_201708', 29132],\n",
       "       ['ele_engry_us_201709', 29132],\n",
       "       ['ele_engry_us_201710', 29132],\n",
       "       ['ele_engry_us_201711', 29132],\n",
       "       ['ele_engry_us_201712', 29132],\n",
       "       ['bldng_ar_prc', 26325],\n",
       "       ['ttl_dwn_flr', 12329],\n",
       "       ['ttl_grnd_flr', 11348],\n",
       "       ['fr_yn', 2957],\n",
       "       ['lnd_us_sttn_nm', 2012],\n",
       "       ['rgnl_ar_nm', 1623],\n",
       "       ['rd_sd_nm', 1623],\n",
       "       ['rgnl_ar_nm2', 1623],\n",
       "       ['hm_cnt', 702],\n",
       "       ['wnd_drctn', 237],\n",
       "       ['fr_mn_cnt', 42],\n",
       "       ['wnd_spd', 38],\n",
       "       ['hmdt', 27],\n",
       "       ['tmprtr', 15],\n",
       "       ['emd_nm', 4],\n",
       "       ['lnd_ar', 0],\n",
       "       ['cctv_in_100m', 0],\n",
       "       ['bldng_cnt', 0],\n",
       "       ['bldng_cnt_in_50m', 0],\n",
       "       ['cctv_dstnc', 0],\n",
       "       ['ttl_ar', 0],\n",
       "       ['tbc_rtl_str_dstnc', 0],\n",
       "       ['tag', 0],\n",
       "       ['sft_emrgnc_bll_dstnc', 0],\n",
       "       ['dt_of_fr', 0],\n",
       "       ['jmk', 0],\n",
       "       ['fr_sttn_dstnc', 0],\n",
       "       ['no_tbc_zn_dstnc', 0],\n",
       "       ['mlt_us_yn', 0],\n",
       "       ['fr_wthr_fclt_dstnc', 0],\n",
       "       ['fr_wthr_fclt_in_100m', 0],\n",
       "       ['bldng_ar', 0],\n",
       "       ['id', 0],\n",
       "       ['ahsm_dstnc', 0]], dtype=object)"
      ]
     },
     "execution_count": 5,
     "metadata": {},
     "output_type": "execute_result"
    }
   ],
   "source": [
    "df.isnull().sum().reset_index().sort_values(by = 0, ascending = False).values"
   ]
  },
  {
   "cell_type": "code",
   "execution_count": 6,
   "metadata": {},
   "outputs": [],
   "source": [
    "# 모든 행이 null값인 cctv_rsn열 제거\n",
    "df = df.drop(columns='cctv_rsn')"
   ]
  },
  {
   "cell_type": "markdown",
   "metadata": {},
   "source": [
    "- ['bldng_us_clssfctn', 29343]건물용도분류명(주거용)   \n",
    "- ['bldng_us', 27677]건물용도(단독주택)  \n",
    "- ['bldng_archtctr', 27665]건물구조(벽돌구조)  \n",
    "- ['dt_of_athrztn', 27581]건물승인일자(19850417)  \n",
    "- ['bldng_ar_prc', 21895]단위 면적당 건물 가격_2019년 기준(312411)  \n",
    "- ['ttl_dwn_flr', 11005]건물들의 지하 층수의 합(0)  \n",
    "- ['ttl_grnd_flr', 10210]건물들의 지상 층수의 합(4)  \n",
    "- ['lnd_us_sttn_nm', 1776]토지 이용상황명(전)\n",
    "- ['rd_sd_nm', 1491]도로측면명(맹지)  \n",
    "- ['rgnl_ar_nm2', 1491]용도지역지구명2(지정되지 않음)  \n",
    "- ['rgnl_ar_nm', 1491]용도지역지구명(개발제한구역)  \n",
    "- ['hm_cnt', 701]행정구역 인구(27312)  \n",
    "- ['wnd_drctn', 221]풍향(270)\n",
    "- ['fr_mn_cnt', 41]관할 소방서 인원(224)  \n",
    "- ['wnd_spd', 33]풍속(2.2)\n",
    "- ['hmdt', 22]습도(77)\n",
    "- ['tmprtr', 13]온도_c(4.4)  \n",
    "- ['emd_nm', 4]행정구역명(경상남도 진주시 판문동)  \n",
    "__________________________________________________\n",
    "- ['bldng_cnt_in_50m', 0]반경 50M 이내의 건물 수(23)  \n",
    "- ['no_tbc_zn_dstnc', 0]금연구역과의 최소 거리(235)  \n",
    "- ['fr_wthr_fclt_in_100m', 0]반경 100M 이내 소방용수 시설 수(2)  \n",
    "- ['ahsm_dstnc', 0]자동 심장 충격기와의 최소 거리(234)  \n",
    "- ['sft_emrgnc_bll_dstnc', 0]안전 비상벨과의 최소 거리(233)  \n",
    "- ['tbc_rtl_str_dstnc', 0]담배 소매점과의 최소 거리(232)  \n",
    "- ['cctv_in_100m', 0]반경 100M 이내 공공 CCTV(1)  \n",
    "- ['mlt_us_yn', 0]다중이용시설 포함여부(Y)  \n",
    "- ['cctv_dstnc', 0]공공 CCTV와의 최소 거리(232)  \n",
    "- ['fr_wthr_fclt_dstnc', 0]소방용수시설(소화전 등)과의 최소 거리(223)  \n",
    "- ['fr_sttn_dstnc', 0]119안전센터와의 거리(3222)  \n",
    "- ['jmk', 0]지적상 지목(답)  \n",
    "- ['dt_of_fr', 0]화재발생일시(2014-03-18 15:23:18)  \n",
    "- ['lnd_ar', 0]토지면적(390)  \n",
    "- ['ttl_ar', 0]건물연면적_건물층별합계전체면적(130.845)  \n",
    "- ['bldng_ar', 0]건물건축면적(130.845)  \n",
    "- ['bldng_cnt', 0]건물채수(4)  "
   ]
  },
  {
   "cell_type": "markdown",
   "metadata": {},
   "source": [
    "# PreProcessing"
   ]
  },
  {
   "cell_type": "markdown",
   "metadata": {},
   "source": [
    "## One Hot Encoding) fr_yn 화재발생여부\n",
    "- Y: 1\n",
    "- N: 0"
   ]
  },
  {
   "cell_type": "code",
   "execution_count": 7,
   "metadata": {},
   "outputs": [
    {
     "data": {
      "text/plain": [
       "array(['Y', 'N', nan], dtype=object)"
      ]
     },
     "execution_count": 7,
     "metadata": {},
     "output_type": "execute_result"
    }
   ],
   "source": [
    "df['fr_yn'].unique()"
   ]
  },
  {
   "cell_type": "code",
   "execution_count": 8,
   "metadata": {},
   "outputs": [
    {
     "data": {
      "text/html": [
       "<div>\n",
       "<style scoped>\n",
       "    .dataframe tbody tr th:only-of-type {\n",
       "        vertical-align: middle;\n",
       "    }\n",
       "\n",
       "    .dataframe tbody tr th {\n",
       "        vertical-align: top;\n",
       "    }\n",
       "\n",
       "    .dataframe thead th {\n",
       "        text-align: right;\n",
       "    }\n",
       "</style>\n",
       "<table border=\"1\" class=\"dataframe\">\n",
       "  <thead>\n",
       "    <tr style=\"text-align: right;\">\n",
       "      <th></th>\n",
       "      <th>fr_yn</th>\n",
       "      <th>fire_yes</th>\n",
       "    </tr>\n",
       "  </thead>\n",
       "  <tbody>\n",
       "    <tr>\n",
       "      <th>32618</th>\n",
       "      <td>N</td>\n",
       "      <td>False</td>\n",
       "    </tr>\n",
       "  </tbody>\n",
       "</table>\n",
       "</div>"
      ],
      "text/plain": [
       "      fr_yn  fire_yes\n",
       "32618     N     False"
      ]
     },
     "execution_count": 8,
     "metadata": {},
     "output_type": "execute_result"
    }
   ],
   "source": [
    "df['fire_yes'] = (df['fr_yn'] == 'Y')\n",
    "\n",
    "df[['fr_yn', 'fire_yes']].sample()"
   ]
  },
  {
   "cell_type": "markdown",
   "metadata": {},
   "source": [
    "## One Hot Encoding) mlt_us_yn 다중이용시설 포함여부"
   ]
  },
  {
   "cell_type": "code",
   "execution_count": 9,
   "metadata": {},
   "outputs": [
    {
     "data": {
      "text/plain": [
       "array(['N', 'Y'], dtype=object)"
      ]
     },
     "execution_count": 9,
     "metadata": {},
     "output_type": "execute_result"
    }
   ],
   "source": [
    "df['mlt_us_yn'].unique()"
   ]
  },
  {
   "cell_type": "code",
   "execution_count": 10,
   "metadata": {},
   "outputs": [
    {
     "data": {
      "text/html": [
       "<div>\n",
       "<style scoped>\n",
       "    .dataframe tbody tr th:only-of-type {\n",
       "        vertical-align: middle;\n",
       "    }\n",
       "\n",
       "    .dataframe tbody tr th {\n",
       "        vertical-align: top;\n",
       "    }\n",
       "\n",
       "    .dataframe thead th {\n",
       "        text-align: right;\n",
       "    }\n",
       "</style>\n",
       "<table border=\"1\" class=\"dataframe\">\n",
       "  <thead>\n",
       "    <tr style=\"text-align: right;\">\n",
       "      <th></th>\n",
       "      <th>mlt_us_yn</th>\n",
       "      <th>mlt_us_yn(encode)</th>\n",
       "    </tr>\n",
       "  </thead>\n",
       "  <tbody>\n",
       "    <tr>\n",
       "      <th>6206</th>\n",
       "      <td>N</td>\n",
       "      <td>False</td>\n",
       "    </tr>\n",
       "  </tbody>\n",
       "</table>\n",
       "</div>"
      ],
      "text/plain": [
       "     mlt_us_yn  mlt_us_yn(encode)\n",
       "6206         N              False"
      ]
     },
     "execution_count": 10,
     "metadata": {},
     "output_type": "execute_result"
    }
   ],
   "source": [
    "df['mlt_us_yn(encode)'] = df['mlt_us_yn'] == 'Y'\n",
    "\n",
    "df[['mlt_us_yn', 'mlt_us_yn(encode)']].sample()"
   ]
  },
  {
   "cell_type": "code",
   "execution_count": 11,
   "metadata": {},
   "outputs": [
    {
     "data": {
      "text/html": [
       "<div>\n",
       "<style scoped>\n",
       "    .dataframe tbody tr th:only-of-type {\n",
       "        vertical-align: middle;\n",
       "    }\n",
       "\n",
       "    .dataframe tbody tr th {\n",
       "        vertical-align: top;\n",
       "    }\n",
       "\n",
       "    .dataframe thead th {\n",
       "        text-align: right;\n",
       "    }\n",
       "</style>\n",
       "<table border=\"1\" class=\"dataframe\">\n",
       "  <thead>\n",
       "    <tr style=\"text-align: right;\">\n",
       "      <th></th>\n",
       "      <th>mlt_us_yn(encode)</th>\n",
       "      <th>fire_yes</th>\n",
       "      <th>id</th>\n",
       "      <th>ratio</th>\n",
       "    </tr>\n",
       "  </thead>\n",
       "  <tbody>\n",
       "    <tr>\n",
       "      <th>0</th>\n",
       "      <td>False</td>\n",
       "      <td>8816.0</td>\n",
       "      <td>68846</td>\n",
       "      <td>12.805392</td>\n",
       "    </tr>\n",
       "    <tr>\n",
       "      <th>1</th>\n",
       "      <td>True</td>\n",
       "      <td>113.0</td>\n",
       "      <td>208</td>\n",
       "      <td>54.326923</td>\n",
       "    </tr>\n",
       "  </tbody>\n",
       "</table>\n",
       "</div>"
      ],
      "text/plain": [
       "   mlt_us_yn(encode)  fire_yes     id      ratio\n",
       "0              False    8816.0  68846  12.805392\n",
       "1               True     113.0    208  54.326923"
      ]
     },
     "execution_count": 11,
     "metadata": {},
     "output_type": "execute_result"
    }
   ],
   "source": [
    "data_fire = pd.DataFrame(df.groupby('mlt_us_yn(encode)')['fire_yes'].sum()).reset_index()\n",
    "data_all = pd.DataFrame(df.groupby('mlt_us_yn(encode)')['id'].count()).reset_index()\n",
    "data = data_fire.merge(data_all, on='mlt_us_yn(encode)')\n",
    "data['ratio'] = data['fire_yes'] * 100 / data['id']\n",
    "data"
   ]
  },
  {
   "cell_type": "markdown",
   "metadata": {},
   "source": [
    "## datetime Parsing) dt_of_fr 화재발생시점/관찰시점"
   ]
  },
  {
   "cell_type": "code",
   "execution_count": 12,
   "metadata": {},
   "outputs": [
    {
     "data": {
      "text/html": [
       "<div>\n",
       "<style scoped>\n",
       "    .dataframe tbody tr th:only-of-type {\n",
       "        vertical-align: middle;\n",
       "    }\n",
       "\n",
       "    .dataframe tbody tr th {\n",
       "        vertical-align: top;\n",
       "    }\n",
       "\n",
       "    .dataframe thead th {\n",
       "        text-align: right;\n",
       "    }\n",
       "</style>\n",
       "<table border=\"1\" class=\"dataframe\">\n",
       "  <thead>\n",
       "    <tr style=\"text-align: right;\">\n",
       "      <th></th>\n",
       "      <th>dt_of_fr</th>\n",
       "      <th>year-month</th>\n",
       "      <th>year-month-day</th>\n",
       "      <th>year</th>\n",
       "      <th>month</th>\n",
       "      <th>day</th>\n",
       "      <th>dayofweek</th>\n",
       "      <th>hour</th>\n",
       "      <th>minute</th>\n",
       "      <th>second</th>\n",
       "    </tr>\n",
       "  </thead>\n",
       "  <tbody>\n",
       "    <tr>\n",
       "      <th>32055</th>\n",
       "      <td>2016-10-05 10:35:32</td>\n",
       "      <td>2016-10</td>\n",
       "      <td>2016-10-05</td>\n",
       "      <td>2016</td>\n",
       "      <td>10</td>\n",
       "      <td>5</td>\n",
       "      <td>Wednesday</td>\n",
       "      <td>10</td>\n",
       "      <td>35</td>\n",
       "      <td>32</td>\n",
       "    </tr>\n",
       "  </tbody>\n",
       "</table>\n",
       "</div>"
      ],
      "text/plain": [
       "                  dt_of_fr year-month year-month-day  year  month  day  \\\n",
       "32055  2016-10-05 10:35:32    2016-10     2016-10-05  2016     10    5   \n",
       "\n",
       "       dayofweek  hour  minute  second  \n",
       "32055  Wednesday    10      35      32  "
      ]
     },
     "execution_count": 12,
     "metadata": {},
     "output_type": "execute_result"
    }
   ],
   "source": [
    "df['year'] = pd.to_datetime(df['dt_of_fr']).dt.year\n",
    "df['month'] = pd.to_datetime(df['dt_of_fr']).dt.month\n",
    "df['day'] = pd.to_datetime(df['dt_of_fr']).dt.day\n",
    "df['hour'] = pd.to_datetime(df['dt_of_fr']).dt.hour\n",
    "df['minute'] = pd.to_datetime(df['dt_of_fr']).dt.minute\n",
    "df['second'] = pd.to_datetime(df['dt_of_fr']).dt.second\n",
    "df['dayofweek'] = pd.to_datetime(df['dt_of_fr']).dt.day_name()\n",
    "\n",
    "df['year-month'] = df['dt_of_fr'].apply(lambda x: x[:7])\n",
    "df['year-month-day'] = df['dt_of_fr'].apply(lambda x: x[:10])\n",
    "\n",
    "df[['dt_of_fr', 'year-month', 'year-month-day', 'year', 'month', 'day', 'dayofweek', 'hour', 'minute', 'second']].sample()"
   ]
  },
  {
   "cell_type": "markdown",
   "metadata": {},
   "source": [
    "## Null 값 채우기) emd_nm 행정구역명\n",
    "전체 데이터 중 행정구역명이 Null 값인 데이터는 4개 뿐이라 삭제"
   ]
  },
  {
   "cell_type": "code",
   "execution_count": 13,
   "metadata": {
    "scrolled": true
   },
   "outputs": [],
   "source": [
    "df = df.dropna(subset=['emd_nm'])"
   ]
  },
  {
   "cell_type": "markdown",
   "metadata": {},
   "source": [
    "## 행정구역명 나눠서 컬럼'address1', 'address2'에 담기"
   ]
  },
  {
   "cell_type": "code",
   "execution_count": 14,
   "metadata": {},
   "outputs": [
    {
     "data": {
      "text/html": [
       "<div>\n",
       "<style scoped>\n",
       "    .dataframe tbody tr th:only-of-type {\n",
       "        vertical-align: middle;\n",
       "    }\n",
       "\n",
       "    .dataframe tbody tr th {\n",
       "        vertical-align: top;\n",
       "    }\n",
       "\n",
       "    .dataframe thead th {\n",
       "        text-align: right;\n",
       "    }\n",
       "</style>\n",
       "<table border=\"1\" class=\"dataframe\">\n",
       "  <thead>\n",
       "    <tr style=\"text-align: right;\">\n",
       "      <th></th>\n",
       "      <th>emd_nm</th>\n",
       "      <th>address</th>\n",
       "      <th>address1</th>\n",
       "      <th>address2</th>\n",
       "    </tr>\n",
       "  </thead>\n",
       "  <tbody>\n",
       "    <tr>\n",
       "      <th>10991</th>\n",
       "      <td>경상남도 남해군 남해읍</td>\n",
       "      <td>남해군 남해읍</td>\n",
       "      <td>남해군</td>\n",
       "      <td>남해읍</td>\n",
       "    </tr>\n",
       "  </tbody>\n",
       "</table>\n",
       "</div>"
      ],
      "text/plain": [
       "             emd_nm  address address1 address2\n",
       "10991  경상남도 남해군 남해읍  남해군 남해읍      남해군      남해읍"
      ]
     },
     "execution_count": 14,
     "metadata": {},
     "output_type": "execute_result"
    }
   ],
   "source": [
    "df['address1'] = np.nan\n",
    "df['address2'] = np.nan\n",
    "\n",
    "df['address1'] = df['emd_nm'].apply(lambda x: str(x).split()[1][:3])\n",
    "df['address2'] = df['emd_nm'].apply(lambda x: str(x).split()[2])\n",
    "df['address'] = df['address1'] + ' ' + df['address2']\n",
    "# 창원시는 따로\n",
    "df.loc[df['address1'].apply(lambda x: len(x) > 3), 'address2'] = df['emd_nm'].apply(lambda x: str(x).split()[1][3:])\n",
    "\n",
    "df[['emd_nm', 'address', 'address1', 'address2']].sample()"
   ]
  },
  {
   "cell_type": "markdown",
   "metadata": {},
   "source": [
    "## Null 값 채우기) hm_cnt 행정구역 인구 "
   ]
  },
  {
   "cell_type": "markdown",
   "metadata": {},
   "source": [
    "인구 Null 값인 행정구역을 찾아보니, 몇 개 행정구역에 몰려있음"
   ]
  },
  {
   "cell_type": "code",
   "execution_count": 15,
   "metadata": {},
   "outputs": [
    {
     "data": {
      "text/plain": [
       "진주시 상대동      245\n",
       "진주시 하대동      167\n",
       "창원시 마산회원구     96\n",
       "창원시 마산합포구     80\n",
       "함안군 칠원읍       59\n",
       "창원시 진해구        9\n",
       "통영시 욕지면        6\n",
       "통영시 산양읍        6\n",
       "사천시 동금동        3\n",
       "하동군 진교면        2\n",
       "거제시 거제면        2\n",
       "하동군 금남면        2\n",
       "고성군 거류면        2\n",
       "창녕군 대합면        2\n",
       "통영시 용남면        2\n",
       "거제시 장목면        1\n",
       "고성군 회화면        1\n",
       "양산시 하북면        1\n",
       "통영시 도산면        1\n",
       "남해군 남해읍        1\n",
       "김해시 어방동        1\n",
       "거제시 아주동        1\n",
       "거제시 둔덕면        1\n",
       "남해군 창선면        1\n",
       "통영시 미수동        1\n",
       "남해군 고현면        1\n",
       "남해군 이동면        1\n",
       "진주시 상평동        1\n",
       "사천시 실안동        1\n",
       "창녕군 이방면        1\n",
       "Name: address, dtype: int64"
      ]
     },
     "execution_count": 15,
     "metadata": {},
     "output_type": "execute_result"
    }
   ],
   "source": [
    "df[df['hm_cnt'].isnull()]['address'].value_counts()"
   ]
  },
  {
   "cell_type": "markdown",
   "metadata": {},
   "source": [
    "### 행정구역별로 뜯어보기"
   ]
  },
  {
   "cell_type": "markdown",
   "metadata": {},
   "source": [
    "#### 진주시 인구 Null 값\n",
    "> 진주시청 제공, 12월말 기준\n",
    "\n",
    "진주시 동 | 2014 | 2015 | 2016\n",
    "-|-|-|-\n",
    "진주시 상대동| 26_019 | 25_599 | 25_321\n",
    "진주시 하대동| 27_457 | 26_981 | 27_067\n"
   ]
  },
  {
   "cell_type": "code",
   "execution_count": 16,
   "metadata": {
    "scrolled": true
   },
   "outputs": [
    {
     "data": {
      "text/plain": [
       "year\n",
       "2014        NaN\n",
       "2015        NaN\n",
       "2016        NaN\n",
       "2017    22764.0\n",
       "2018    22296.0\n",
       "Name: hm_cnt, dtype: float64"
      ]
     },
     "execution_count": 16,
     "metadata": {},
     "output_type": "execute_result"
    }
   ],
   "source": [
    "df[df['address'] == '진주시 상대동'].groupby('year')['hm_cnt'].median()"
   ]
  },
  {
   "cell_type": "code",
   "execution_count": 17,
   "metadata": {},
   "outputs": [
    {
     "data": {
      "text/plain": [
       "year\n",
       "2014        NaN\n",
       "2015        NaN\n",
       "2016        NaN\n",
       "2017    28687.5\n",
       "2018    28164.0\n",
       "Name: hm_cnt, dtype: float64"
      ]
     },
     "execution_count": 17,
     "metadata": {},
     "output_type": "execute_result"
    }
   ],
   "source": [
    "df[df['address'] == '진주시 하대동'].groupby('year')['hm_cnt'].median()"
   ]
  },
  {
   "cell_type": "markdown",
   "metadata": {},
   "source": [
    "#### 창원시는 null 값 뿐임. 인구 정보 따로 찾아보기\n",
    "> 창원시청 제공, 12월말 기준\n",
    "\n",
    "창원시 구 | 2014 | 2015 | 2016 | 2017 | 2018\n",
    "-|-|-|-|-|-\n",
    "창원시 마산합포구 | 184_179 | 183_829 | 183_989 | 181_917 | 182_772\n",
    "창원시 마산회원구 | 216_749 | 214_264 | 213_163 | 203_926 | 201_565\n",
    "창원시 진해구 | - | 189_463 | 190_780 | - |196_665"
   ]
  },
  {
   "cell_type": "code",
   "execution_count": 18,
   "metadata": {},
   "outputs": [
    {
     "data": {
      "text/plain": [
       "year\n",
       "2014   NaN\n",
       "2015   NaN\n",
       "2016   NaN\n",
       "Name: hm_cnt, dtype: float64"
      ]
     },
     "execution_count": 18,
     "metadata": {},
     "output_type": "execute_result"
    }
   ],
   "source": [
    "df[df['address'] == '창원시 마산회원구'].groupby('year')['hm_cnt'].median()"
   ]
  },
  {
   "cell_type": "code",
   "execution_count": 19,
   "metadata": {},
   "outputs": [
    {
     "data": {
      "text/plain": [
       "year\n",
       "2014   NaN\n",
       "2015   NaN\n",
       "2016   NaN\n",
       "2017   NaN\n",
       "Name: hm_cnt, dtype: float64"
      ]
     },
     "execution_count": 19,
     "metadata": {},
     "output_type": "execute_result"
    }
   ],
   "source": [
    "df[df['address'] == '창원시 마산합포구'].groupby('year')['hm_cnt'].median()"
   ]
  },
  {
   "cell_type": "code",
   "execution_count": 20,
   "metadata": {
    "scrolled": true
   },
   "outputs": [
    {
     "data": {
      "text/plain": [
       "year\n",
       "2015   NaN\n",
       "2016   NaN\n",
       "2018   NaN\n",
       "Name: hm_cnt, dtype: float64"
      ]
     },
     "execution_count": 20,
     "metadata": {},
     "output_type": "execute_result"
    }
   ],
   "source": [
    "df[df['address'] == '창원시 진해구'].groupby('year')['hm_cnt'].median()"
   ]
  },
  {
   "cell_type": "markdown",
   "metadata": {},
   "source": [
    "#### 함안군 칠원읍"
   ]
  },
  {
   "cell_type": "code",
   "execution_count": 21,
   "metadata": {},
   "outputs": [
    {
     "data": {
      "text/plain": [
       "year\n",
       "2014        NaN\n",
       "2015    21131.0\n",
       "2016    21022.0\n",
       "2017    20889.5\n",
       "2018    20672.0\n",
       "Name: hm_cnt, dtype: float64"
      ]
     },
     "execution_count": 21,
     "metadata": {},
     "output_type": "execute_result"
    }
   ],
   "source": [
    "df[df['address'] == '함안군 칠원읍'].groupby('year')['hm_cnt'].median()"
   ]
  },
  {
   "cell_type": "markdown",
   "metadata": {},
   "source": [
    "### 연도별 인구 중간값으로 채우기"
   ]
  },
  {
   "cell_type": "code",
   "execution_count": 22,
   "metadata": {},
   "outputs": [],
   "source": [
    "df['hm_cnt'] = df.groupby(['year', 'address'])['hm_cnt'].transform(lambda x: x.fillna(x.median()))"
   ]
  },
  {
   "cell_type": "code",
   "execution_count": 23,
   "metadata": {},
   "outputs": [
    {
     "data": {
      "text/plain": [
       "654"
      ]
     },
     "execution_count": 23,
     "metadata": {},
     "output_type": "execute_result"
    }
   ],
   "source": [
    "# 남은 null 값 확인\n",
    "\n",
    "df['hm_cnt'].isnull().sum()"
   ]
  },
  {
   "cell_type": "code",
   "execution_count": 24,
   "metadata": {},
   "outputs": [
    {
     "data": {
      "text/plain": [
       "address    year\n",
       "김해시 어방동    2015     1\n",
       "사천시 동금동    2014     2\n",
       "           2017     1\n",
       "사천시 실안동    2017     1\n",
       "진주시 상대동    2014    80\n",
       "           2015    79\n",
       "           2016    86\n",
       "진주시 하대동    2014    45\n",
       "           2015    63\n",
       "           2016    52\n",
       "창원시 마산합포구  2014    30\n",
       "           2015    24\n",
       "           2016    25\n",
       "           2017     1\n",
       "창원시 마산회원구  2014    34\n",
       "           2015    23\n",
       "           2016    39\n",
       "창원시 진해구    2015     2\n",
       "           2016     3\n",
       "           2018     4\n",
       "함안군 칠원읍    2014    59\n",
       "Name: hm_cnt, dtype: int64"
      ]
     },
     "execution_count": 24,
     "metadata": {},
     "output_type": "execute_result"
    }
   ],
   "source": [
    "df[df['hm_cnt'].isnull()].groupby(['address', 'year'])['hm_cnt'].size()"
   ]
  },
  {
   "cell_type": "code",
   "execution_count": 25,
   "metadata": {},
   "outputs": [
    {
     "data": {
      "text/plain": [
       "year\n",
       "2014        NaN\n",
       "2015    21131.0\n",
       "2016    21022.0\n",
       "2017    20889.5\n",
       "2018    20672.0\n",
       "Name: hm_cnt, dtype: float64"
      ]
     },
     "execution_count": 25,
     "metadata": {},
     "output_type": "execute_result"
    }
   ],
   "source": [
    "df[df['address'] == '함안군 칠원읍'].groupby('year')['hm_cnt'].median()"
   ]
  },
  {
   "cell_type": "code",
   "execution_count": 26,
   "metadata": {},
   "outputs": [
    {
     "data": {
      "text/plain": [
       "21246"
      ]
     },
     "execution_count": 26,
     "metadata": {},
     "output_type": "execute_result"
    }
   ],
   "source": [
    "함안군_칠원읍_2014_hm_cnt = round(21131 + (21131 - 20672) / 4)  \n",
    "함안군_칠원읍_2014_hm_cnt"
   ]
  },
  {
   "cell_type": "code",
   "execution_count": 27,
   "metadata": {},
   "outputs": [
    {
     "data": {
      "text/html": [
       "<div>\n",
       "<style scoped>\n",
       "    .dataframe tbody tr th:only-of-type {\n",
       "        vertical-align: middle;\n",
       "    }\n",
       "\n",
       "    .dataframe tbody tr th {\n",
       "        vertical-align: top;\n",
       "    }\n",
       "\n",
       "    .dataframe thead th {\n",
       "        text-align: right;\n",
       "    }\n",
       "</style>\n",
       "<table border=\"1\" class=\"dataframe\">\n",
       "  <thead>\n",
       "    <tr style=\"text-align: right;\">\n",
       "      <th></th>\n",
       "      <th>마산회원구</th>\n",
       "      <th>마산합포구</th>\n",
       "      <th>진해구</th>\n",
       "      <th>상대동</th>\n",
       "      <th>하대동</th>\n",
       "      <th>칠원읍</th>\n",
       "    </tr>\n",
       "  </thead>\n",
       "  <tbody>\n",
       "    <tr>\n",
       "      <th>2014</th>\n",
       "      <td>216749</td>\n",
       "      <td>184179</td>\n",
       "      <td>NaN</td>\n",
       "      <td>26019.0</td>\n",
       "      <td>27457.0</td>\n",
       "      <td>21246.0</td>\n",
       "    </tr>\n",
       "    <tr>\n",
       "      <th>2015</th>\n",
       "      <td>214264</td>\n",
       "      <td>183829</td>\n",
       "      <td>189463.0</td>\n",
       "      <td>25599.0</td>\n",
       "      <td>26981.0</td>\n",
       "      <td>NaN</td>\n",
       "    </tr>\n",
       "    <tr>\n",
       "      <th>2016</th>\n",
       "      <td>213163</td>\n",
       "      <td>183989</td>\n",
       "      <td>190780.0</td>\n",
       "      <td>25321.0</td>\n",
       "      <td>27067.0</td>\n",
       "      <td>NaN</td>\n",
       "    </tr>\n",
       "    <tr>\n",
       "      <th>2017</th>\n",
       "      <td>203926</td>\n",
       "      <td>181917</td>\n",
       "      <td>NaN</td>\n",
       "      <td>NaN</td>\n",
       "      <td>NaN</td>\n",
       "      <td>NaN</td>\n",
       "    </tr>\n",
       "    <tr>\n",
       "      <th>2018</th>\n",
       "      <td>201565</td>\n",
       "      <td>182772</td>\n",
       "      <td>196665.0</td>\n",
       "      <td>NaN</td>\n",
       "      <td>NaN</td>\n",
       "      <td>NaN</td>\n",
       "    </tr>\n",
       "  </tbody>\n",
       "</table>\n",
       "</div>"
      ],
      "text/plain": [
       "       마산회원구   마산합포구       진해구      상대동      하대동      칠원읍\n",
       "2014  216749  184179       NaN  26019.0  27457.0  21246.0\n",
       "2015  214264  183829  189463.0  25599.0  26981.0      NaN\n",
       "2016  213163  183989  190780.0  25321.0  27067.0      NaN\n",
       "2017  203926  181917       NaN      NaN      NaN      NaN\n",
       "2018  201565  182772  196665.0      NaN      NaN      NaN"
      ]
     },
     "execution_count": 27,
     "metadata": {},
     "output_type": "execute_result"
    }
   ],
   "source": [
    "마산회원구 = {2014: 216_749, 2015: 214_264, 2016: 213_163, 2017: 203_926, 2018: 201_565}\n",
    "마산합포구 = {2014: 184_179, 2015: 183_829, 2016: 183_989, 2017: 181_917, 2018: 182_772}\n",
    "진해구 = {2014: np.nan, 2015: 189_463, 2016: 190_780, 2017: np.nan, 2018: 196_665}\n",
    "상대동 = {2014: 26_019, 2015: 25_599, 2016: 25_321, 2017: np.nan, 2018: np.nan}\n",
    "하대동 = {2014: 27_457, 2015: 26_981, 2016: 27_067, 2017: np.nan, 2018: np.nan}\n",
    "칠원읍 = {2014: 함안군_칠원읍_2014_hm_cnt, 2015: np.nan, 2016: np.nan, 2017: np.nan, 2018: np.nan}\n",
    "\n",
    "hm_cnt = pd.DataFrame(data=마산회원구.values(), index=마산회원구.keys(), columns=['마산회원구'])\n",
    "hm_cnt['마산합포구'] = 마산합포구.values()\n",
    "hm_cnt['진해구'] = 진해구.values()\n",
    "hm_cnt['상대동'] = 상대동.values()\n",
    "hm_cnt['하대동'] = 하대동.values()\n",
    "hm_cnt['칠원읍'] = 칠원읍.values()\n",
    "\n",
    "hm_cnt"
   ]
  },
  {
   "cell_type": "code",
   "execution_count": 28,
   "metadata": {},
   "outputs": [],
   "source": [
    "# 수기로 입력해준 인구 데이터 바탕으로 Null 값 채우기\n",
    "for place in hm_cnt.columns:\n",
    "    for year in hm_cnt.index:\n",
    "        df.loc[(df['hm_cnt'].isnull()) & (df['address2'] == place), 'hm_cnt'] = hm_cnt[place][year]"
   ]
  },
  {
   "cell_type": "code",
   "execution_count": 29,
   "metadata": {},
   "outputs": [
    {
     "data": {
      "text/plain": [
       "5"
      ]
     },
     "execution_count": 29,
     "metadata": {},
     "output_type": "execute_result"
    }
   ],
   "source": [
    "# Null 값 잘 채워졌는지 확인\n",
    "\n",
    "df['hm_cnt'].isnull().sum()"
   ]
  },
  {
   "cell_type": "markdown",
   "metadata": {},
   "source": [
    "채워지지 않은 Null 값 항목 찾는다"
   ]
  },
  {
   "cell_type": "code",
   "execution_count": 30,
   "metadata": {},
   "outputs": [
    {
     "data": {
      "text/html": [
       "<div>\n",
       "<style scoped>\n",
       "    .dataframe tbody tr th:only-of-type {\n",
       "        vertical-align: middle;\n",
       "    }\n",
       "\n",
       "    .dataframe tbody tr th {\n",
       "        vertical-align: top;\n",
       "    }\n",
       "\n",
       "    .dataframe thead th {\n",
       "        text-align: right;\n",
       "    }\n",
       "</style>\n",
       "<table border=\"1\" class=\"dataframe\">\n",
       "  <thead>\n",
       "    <tr style=\"text-align: right;\">\n",
       "      <th></th>\n",
       "      <th>year</th>\n",
       "      <th>address</th>\n",
       "      <th>hm_cnt</th>\n",
       "    </tr>\n",
       "  </thead>\n",
       "  <tbody>\n",
       "    <tr>\n",
       "      <th>1313</th>\n",
       "      <td>2017</td>\n",
       "      <td>사천시 실안동</td>\n",
       "      <td>NaN</td>\n",
       "    </tr>\n",
       "    <tr>\n",
       "      <th>53074</th>\n",
       "      <td>2017</td>\n",
       "      <td>사천시 동금동</td>\n",
       "      <td>NaN</td>\n",
       "    </tr>\n",
       "    <tr>\n",
       "      <th>53105</th>\n",
       "      <td>2014</td>\n",
       "      <td>사천시 동금동</td>\n",
       "      <td>NaN</td>\n",
       "    </tr>\n",
       "    <tr>\n",
       "      <th>53106</th>\n",
       "      <td>2014</td>\n",
       "      <td>사천시 동금동</td>\n",
       "      <td>NaN</td>\n",
       "    </tr>\n",
       "    <tr>\n",
       "      <th>4140</th>\n",
       "      <td>2015</td>\n",
       "      <td>김해시 어방동</td>\n",
       "      <td>NaN</td>\n",
       "    </tr>\n",
       "  </tbody>\n",
       "</table>\n",
       "</div>"
      ],
      "text/plain": [
       "       year  address  hm_cnt\n",
       "1313   2017  사천시 실안동     NaN\n",
       "53074  2017  사천시 동금동     NaN\n",
       "53105  2014  사천시 동금동     NaN\n",
       "53106  2014  사천시 동금동     NaN\n",
       "4140   2015  김해시 어방동     NaN"
      ]
     },
     "execution_count": 30,
     "metadata": {},
     "output_type": "execute_result"
    }
   ],
   "source": [
    "df[df['hm_cnt'].isnull()][['year', 'address', 'hm_cnt']]"
   ]
  },
  {
   "cell_type": "code",
   "execution_count": 31,
   "metadata": {},
   "outputs": [
    {
     "data": {
      "text/html": [
       "<div>\n",
       "<style scoped>\n",
       "    .dataframe tbody tr th:only-of-type {\n",
       "        vertical-align: middle;\n",
       "    }\n",
       "\n",
       "    .dataframe tbody tr th {\n",
       "        vertical-align: top;\n",
       "    }\n",
       "\n",
       "    .dataframe thead th {\n",
       "        text-align: right;\n",
       "    }\n",
       "</style>\n",
       "<table border=\"1\" class=\"dataframe\">\n",
       "  <thead>\n",
       "    <tr style=\"text-align: right;\">\n",
       "      <th></th>\n",
       "      <th>ahsm_dstnc</th>\n",
       "      <th>bldng_ar</th>\n",
       "      <th>bldng_ar_prc</th>\n",
       "      <th>bldng_archtctr</th>\n",
       "      <th>bldng_cnt</th>\n",
       "      <th>bldng_cnt_in_50m</th>\n",
       "      <th>bldng_us</th>\n",
       "      <th>bldng_us_clssfctn</th>\n",
       "      <th>cctv_dstnc</th>\n",
       "      <th>cctv_in_100m</th>\n",
       "      <th>...</th>\n",
       "      <th>day</th>\n",
       "      <th>hour</th>\n",
       "      <th>minute</th>\n",
       "      <th>second</th>\n",
       "      <th>dayofweek</th>\n",
       "      <th>year-month</th>\n",
       "      <th>year-month-day</th>\n",
       "      <th>address1</th>\n",
       "      <th>address2</th>\n",
       "      <th>address</th>\n",
       "    </tr>\n",
       "  </thead>\n",
       "  <tbody>\n",
       "    <tr>\n",
       "      <th>4140</th>\n",
       "      <td>19224</td>\n",
       "      <td>983.92</td>\n",
       "      <td>NaN</td>\n",
       "      <td>블록구조</td>\n",
       "      <td>5</td>\n",
       "      <td>0</td>\n",
       "      <td>공장</td>\n",
       "      <td>공업용</td>\n",
       "      <td>205</td>\n",
       "      <td>0</td>\n",
       "      <td>...</td>\n",
       "      <td>21</td>\n",
       "      <td>1</td>\n",
       "      <td>46</td>\n",
       "      <td>1</td>\n",
       "      <td>Wednesday</td>\n",
       "      <td>2015-01</td>\n",
       "      <td>2015-01-21</td>\n",
       "      <td>김해시</td>\n",
       "      <td>어방동</td>\n",
       "      <td>김해시 어방동</td>\n",
       "    </tr>\n",
       "  </tbody>\n",
       "</table>\n",
       "<p>1 rows × 187 columns</p>\n",
       "</div>"
      ],
      "text/plain": [
       "      ahsm_dstnc  bldng_ar  bldng_ar_prc bldng_archtctr  bldng_cnt  \\\n",
       "4140       19224    983.92           NaN           블록구조          5   \n",
       "\n",
       "      bldng_cnt_in_50m bldng_us bldng_us_clssfctn  cctv_dstnc  cctv_in_100m  \\\n",
       "4140                 0       공장               공업용         205             0   \n",
       "\n",
       "      ... day hour  minute  second  dayofweek  year-month  year-month-day  \\\n",
       "4140  ...  21    1      46       1  Wednesday     2015-01      2015-01-21   \n",
       "\n",
       "      address1  address2  address  \n",
       "4140       김해시       어방동  김해시 어방동  \n",
       "\n",
       "[1 rows x 187 columns]"
      ]
     },
     "execution_count": 31,
     "metadata": {},
     "output_type": "execute_result"
    }
   ],
   "source": [
    "df[df['address'] == '김해시 어방동']"
   ]
  },
  {
   "cell_type": "markdown",
   "metadata": {},
   "source": [
    "김해시 어방동은 데이터가 1개 뿐\n",
    "\n",
    "김해시 어방동을 지도에서 찾아보니 부원동, 불암동, 동상동 근처로 나와서 \n",
    "- 이 세개 동의 평균값으로 채워줌"
   ]
  },
  {
   "cell_type": "code",
   "execution_count": 32,
   "metadata": {
    "scrolled": true
   },
   "outputs": [
    {
     "data": {
      "text/plain": [
       "year  address2\n",
       "2014  내외동         85233.0\n",
       "      대동면          7486.0\n",
       "      동상동         10170.0\n",
       "      부원동          8222.0\n",
       "      북부동         84915.0\n",
       "      불암동          8849.0\n",
       "      삼안동         41851.0\n",
       "      상동면          3559.0\n",
       "      생림면          4352.0\n",
       "      장유1동        55185.0\n",
       "      장유2동        34921.0\n",
       "      장유3동        53968.0\n",
       "      주촌면          3498.0\n",
       "      진례면          7847.0\n",
       "      진영읍         41909.0\n",
       "      칠산서부동       10072.0\n",
       "      한림면          9281.0\n",
       "      활천동         46217.0\n",
       "      회현동          8713.0\n",
       "2015  내외동         84447.0\n",
       "      대동면          7342.0\n",
       "      동상동         10212.0\n",
       "      부원동         10392.0\n",
       "      북부동         85368.0\n",
       "      불암동          8683.0\n",
       "      삼안동         40559.0\n",
       "      상동면          3573.0\n",
       "      생림면          4295.0\n",
       "      어방동             NaN\n",
       "      장유1동        54744.0\n",
       "                   ...   \n",
       "2017  생림면          4168.0\n",
       "      장유1동        56974.0\n",
       "      장유2동        35071.0\n",
       "      장유3동        56135.0\n",
       "      주촌면          3266.0\n",
       "      진례면          7591.0\n",
       "      진영읍         50835.0\n",
       "      칠산서부동       10208.0\n",
       "      한림면          8686.0\n",
       "      활천동         45175.0\n",
       "      회현동          9468.0\n",
       "2018  내외동         78872.0\n",
       "      대동면          6846.0\n",
       "      동상동         10654.0\n",
       "      부원동          9853.0\n",
       "      북부동         83288.0\n",
       "      불암동          8349.0\n",
       "      삼안동         37701.0\n",
       "      상동면          3437.0\n",
       "      생림면          4031.0\n",
       "      장유1동        56889.0\n",
       "      장유2동        36327.0\n",
       "      장유3동        56949.0\n",
       "      주촌면          4688.0\n",
       "      진례면          7330.0\n",
       "      진영읍         53161.0\n",
       "      칠산서부동       10097.0\n",
       "      한림면          8437.0\n",
       "      활천동         44493.0\n",
       "      회현동         10405.0\n",
       "Name: hm_cnt, Length: 96, dtype: float64"
      ]
     },
     "execution_count": 32,
     "metadata": {},
     "output_type": "execute_result"
    }
   ],
   "source": [
    "df[df['address1'] == '김해시'].groupby(['year', 'address2'])['hm_cnt'].median()"
   ]
  },
  {
   "cell_type": "code",
   "execution_count": 33,
   "metadata": {},
   "outputs": [],
   "source": [
    "df.loc[df['address2'] == '어방동', 'hm_cnt'] = np.mean([10212.0, 10392.0, 8683.0])"
   ]
  },
  {
   "cell_type": "code",
   "execution_count": 34,
   "metadata": {},
   "outputs": [
    {
     "data": {
      "text/plain": [
       "4"
      ]
     },
     "execution_count": 34,
     "metadata": {},
     "output_type": "execute_result"
    }
   ],
   "source": [
    "# Null 값 채워졌는지 확인\n",
    "df['hm_cnt'].isnull().sum()"
   ]
  },
  {
   "cell_type": "markdown",
   "metadata": {},
   "source": [
    "사천시 실안동 데이터도 하나뿐임  \n",
    "사천시 실안동은 행정동으로는 동서동에 속함  \n",
    "<동서동 소속 동>  \n",
    "동동(東洞)  \n",
    "서동(西洞)  \n",
    "대방동(大芳洞)  \n",
    "실안동(實安洞)  \n",
    "마도동(馬島洞)   \n",
    "늑도동(勒島洞)  \n",
    "신수동(新樹洞)  \n",
    "동서동에는 7개의 동이 속해있으므로 동서동의 2017데이터의 중간값에 1/7을 해서 채움  \n",
    "나머지 동에는 데이터가 없음"
   ]
  },
  {
   "cell_type": "code",
   "execution_count": 35,
   "metadata": {
    "scrolled": true
   },
   "outputs": [
    {
     "data": {
      "text/plain": [
       "year  address2\n",
       "2017  동서동         7220.0\n",
       "Name: hm_cnt, dtype: float64"
      ]
     },
     "execution_count": 35,
     "metadata": {},
     "output_type": "execute_result"
    }
   ],
   "source": [
    "df[(df['address'] == '사천시 동서동') & (df['year'] == 2017)].groupby(['year', 'address2'])['hm_cnt'].median()"
   ]
  },
  {
   "cell_type": "code",
   "execution_count": 36,
   "metadata": {},
   "outputs": [],
   "source": [
    "df.loc[df['address'] == '사천시 실안동', 'hm_cnt'] = 7220/7"
   ]
  },
  {
   "cell_type": "code",
   "execution_count": 37,
   "metadata": {},
   "outputs": [
    {
     "data": {
      "text/plain": [
       "3"
      ]
     },
     "execution_count": 37,
     "metadata": {},
     "output_type": "execute_result"
    }
   ],
   "source": [
    "# Null 값 채워졌는지 확인\n",
    "df['hm_cnt'].isnull().sum()"
   ]
  },
  {
   "cell_type": "markdown",
   "metadata": {},
   "source": [
    "동금동은 동서금동의 일부(지도상 약 1/2) + 향촌동의 일부(1/7)"
   ]
  },
  {
   "cell_type": "code",
   "execution_count": 38,
   "metadata": {
    "scrolled": false
   },
   "outputs": [
    {
     "data": {
      "text/html": [
       "<div>\n",
       "<style scoped>\n",
       "    .dataframe tbody tr th:only-of-type {\n",
       "        vertical-align: middle;\n",
       "    }\n",
       "\n",
       "    .dataframe tbody tr th {\n",
       "        vertical-align: top;\n",
       "    }\n",
       "\n",
       "    .dataframe thead th {\n",
       "        text-align: right;\n",
       "    }\n",
       "</style>\n",
       "<table border=\"1\" class=\"dataframe\">\n",
       "  <thead>\n",
       "    <tr style=\"text-align: right;\">\n",
       "      <th></th>\n",
       "      <th>ahsm_dstnc</th>\n",
       "      <th>bldng_ar</th>\n",
       "      <th>bldng_ar_prc</th>\n",
       "      <th>bldng_archtctr</th>\n",
       "      <th>bldng_cnt</th>\n",
       "      <th>bldng_cnt_in_50m</th>\n",
       "      <th>bldng_us</th>\n",
       "      <th>bldng_us_clssfctn</th>\n",
       "      <th>cctv_dstnc</th>\n",
       "      <th>cctv_in_100m</th>\n",
       "      <th>...</th>\n",
       "      <th>day</th>\n",
       "      <th>hour</th>\n",
       "      <th>minute</th>\n",
       "      <th>second</th>\n",
       "      <th>dayofweek</th>\n",
       "      <th>year-month</th>\n",
       "      <th>year-month-day</th>\n",
       "      <th>address1</th>\n",
       "      <th>address2</th>\n",
       "      <th>address</th>\n",
       "    </tr>\n",
       "  </thead>\n",
       "  <tbody>\n",
       "    <tr>\n",
       "      <th>53074</th>\n",
       "      <td>92</td>\n",
       "      <td>225.21</td>\n",
       "      <td>NaN</td>\n",
       "      <td>철근콘크리트구조</td>\n",
       "      <td>1</td>\n",
       "      <td>4</td>\n",
       "      <td>제1종근린생활시설</td>\n",
       "      <td>상업용</td>\n",
       "      <td>175</td>\n",
       "      <td>0</td>\n",
       "      <td>...</td>\n",
       "      <td>26</td>\n",
       "      <td>20</td>\n",
       "      <td>12</td>\n",
       "      <td>0</td>\n",
       "      <td>Monday</td>\n",
       "      <td>2017-06</td>\n",
       "      <td>2017-06-26</td>\n",
       "      <td>사천시</td>\n",
       "      <td>동금동</td>\n",
       "      <td>사천시 동금동</td>\n",
       "    </tr>\n",
       "    <tr>\n",
       "      <th>53105</th>\n",
       "      <td>92</td>\n",
       "      <td>225.21</td>\n",
       "      <td>NaN</td>\n",
       "      <td>철근콘크리트구조</td>\n",
       "      <td>1</td>\n",
       "      <td>4</td>\n",
       "      <td>제1종근린생활시설</td>\n",
       "      <td>상업용</td>\n",
       "      <td>175</td>\n",
       "      <td>0</td>\n",
       "      <td>...</td>\n",
       "      <td>8</td>\n",
       "      <td>14</td>\n",
       "      <td>26</td>\n",
       "      <td>0</td>\n",
       "      <td>Friday</td>\n",
       "      <td>2014-08</td>\n",
       "      <td>2014-08-08</td>\n",
       "      <td>사천시</td>\n",
       "      <td>동금동</td>\n",
       "      <td>사천시 동금동</td>\n",
       "    </tr>\n",
       "    <tr>\n",
       "      <th>53106</th>\n",
       "      <td>92</td>\n",
       "      <td>225.21</td>\n",
       "      <td>NaN</td>\n",
       "      <td>철근콘크리트구조</td>\n",
       "      <td>1</td>\n",
       "      <td>4</td>\n",
       "      <td>제1종근린생활시설</td>\n",
       "      <td>상업용</td>\n",
       "      <td>175</td>\n",
       "      <td>0</td>\n",
       "      <td>...</td>\n",
       "      <td>22</td>\n",
       "      <td>21</td>\n",
       "      <td>38</td>\n",
       "      <td>0</td>\n",
       "      <td>Thursday</td>\n",
       "      <td>2014-05</td>\n",
       "      <td>2014-05-22</td>\n",
       "      <td>사천시</td>\n",
       "      <td>동금동</td>\n",
       "      <td>사천시 동금동</td>\n",
       "    </tr>\n",
       "  </tbody>\n",
       "</table>\n",
       "<p>3 rows × 187 columns</p>\n",
       "</div>"
      ],
      "text/plain": [
       "       ahsm_dstnc  bldng_ar  bldng_ar_prc bldng_archtctr  bldng_cnt  \\\n",
       "53074          92    225.21           NaN       철근콘크리트구조          1   \n",
       "53105          92    225.21           NaN       철근콘크리트구조          1   \n",
       "53106          92    225.21           NaN       철근콘크리트구조          1   \n",
       "\n",
       "       bldng_cnt_in_50m   bldng_us bldng_us_clssfctn  cctv_dstnc  \\\n",
       "53074                 4  제1종근린생활시설               상업용         175   \n",
       "53105                 4  제1종근린생활시설               상업용         175   \n",
       "53106                 4  제1종근린생활시설               상업용         175   \n",
       "\n",
       "       cctv_in_100m  ... day hour  minute  second  dayofweek  year-month  \\\n",
       "53074             0  ...  26   20      12       0     Monday     2017-06   \n",
       "53105             0  ...   8   14      26       0     Friday     2014-08   \n",
       "53106             0  ...  22   21      38       0   Thursday     2014-05   \n",
       "\n",
       "       year-month-day  address1  address2  address  \n",
       "53074      2017-06-26       사천시       동금동  사천시 동금동  \n",
       "53105      2014-08-08       사천시       동금동  사천시 동금동  \n",
       "53106      2014-05-22       사천시       동금동  사천시 동금동  \n",
       "\n",
       "[3 rows x 187 columns]"
      ]
     },
     "execution_count": 38,
     "metadata": {},
     "output_type": "execute_result"
    }
   ],
   "source": [
    "df[df['address']=='사천시 동금동']"
   ]
  },
  {
   "cell_type": "code",
   "execution_count": 39,
   "metadata": {
    "scrolled": false
   },
   "outputs": [
    {
     "data": {
      "text/plain": [
       "year  address2\n",
       "2014  동서금동        5834.0\n",
       "2015  동서금동        5712.0\n",
       "2016  동서금동        5526.0\n",
       "2017  동서금동        5128.0\n",
       "2018  동서금동        5360.5\n",
       "Name: hm_cnt, dtype: float64"
      ]
     },
     "execution_count": 39,
     "metadata": {},
     "output_type": "execute_result"
    }
   ],
   "source": [
    "df[df['address']=='사천시 동서금동'].groupby(['year', 'address2'])['hm_cnt'].median()"
   ]
  },
  {
   "cell_type": "code",
   "execution_count": 40,
   "metadata": {},
   "outputs": [
    {
     "data": {
      "text/plain": [
       "year  address2\n",
       "2014  향촌동         7230.0\n",
       "2015  향촌동         7170.0\n",
       "2016  향촌동         7208.0\n",
       "2017  향촌동         7279.0\n",
       "2018  향촌동         7263.0\n",
       "Name: hm_cnt, dtype: float64"
      ]
     },
     "execution_count": 40,
     "metadata": {},
     "output_type": "execute_result"
    }
   ],
   "source": [
    "df[df['address']=='사천시 향촌동'].groupby(['year', 'address2'])['hm_cnt'].median()"
   ]
  },
  {
   "cell_type": "code",
   "execution_count": 41,
   "metadata": {},
   "outputs": [],
   "source": [
    "df.loc[(df['address'] == '사천시 동금동')&(df['year'] == 2017), 'hm_cnt'] = 5128/2 + 7279/7"
   ]
  },
  {
   "cell_type": "code",
   "execution_count": 42,
   "metadata": {
    "scrolled": true
   },
   "outputs": [],
   "source": [
    "df.loc[(df['address'] == '사천시 동금동')&(df['year'] == 2014), 'hm_cnt'] = 5834/2 + 7230/7"
   ]
  },
  {
   "cell_type": "code",
   "execution_count": 43,
   "metadata": {
    "scrolled": true
   },
   "outputs": [
    {
     "data": {
      "text/plain": [
       "0"
      ]
     },
     "execution_count": 43,
     "metadata": {},
     "output_type": "execute_result"
    }
   ],
   "source": [
    "df['hm_cnt'].isnull().sum()\n",
    "# 모든 데이터가 채워짐"
   ]
  },
  {
   "cell_type": "markdown",
   "metadata": {},
   "source": [
    "## Null 값 채우기) fr_mn_cnt 관할소방서 인원 "
   ]
  },
  {
   "cell_type": "code",
   "execution_count": 44,
   "metadata": {},
   "outputs": [],
   "source": [
    "df['fr_mn_cnt'] = df.groupby(['year', 'address'])['fr_mn_cnt'].transform(lambda x: x.fillna(x.median()))"
   ]
  },
  {
   "cell_type": "code",
   "execution_count": 45,
   "metadata": {},
   "outputs": [
    {
     "data": {
      "text/plain": [
       "1"
      ]
     },
     "execution_count": 45,
     "metadata": {},
     "output_type": "execute_result"
    }
   ],
   "source": [
    "# 소방서 인원 Null 값 채워졌는지 확인\n",
    "\n",
    "df['fr_mn_cnt'].isnull().sum()"
   ]
  },
  {
   "cell_type": "markdown",
   "metadata": {},
   "source": [
    "남은 Null 값 확인"
   ]
  },
  {
   "cell_type": "code",
   "execution_count": 46,
   "metadata": {
    "scrolled": true
   },
   "outputs": [
    {
     "data": {
      "text/html": [
       "<div>\n",
       "<style scoped>\n",
       "    .dataframe tbody tr th:only-of-type {\n",
       "        vertical-align: middle;\n",
       "    }\n",
       "\n",
       "    .dataframe tbody tr th {\n",
       "        vertical-align: top;\n",
       "    }\n",
       "\n",
       "    .dataframe thead th {\n",
       "        text-align: right;\n",
       "    }\n",
       "</style>\n",
       "<table border=\"1\" class=\"dataframe\">\n",
       "  <thead>\n",
       "    <tr style=\"text-align: right;\">\n",
       "      <th></th>\n",
       "      <th>ahsm_dstnc</th>\n",
       "      <th>bldng_ar</th>\n",
       "      <th>bldng_ar_prc</th>\n",
       "      <th>bldng_archtctr</th>\n",
       "      <th>bldng_cnt</th>\n",
       "      <th>bldng_cnt_in_50m</th>\n",
       "      <th>bldng_us</th>\n",
       "      <th>bldng_us_clssfctn</th>\n",
       "      <th>cctv_dstnc</th>\n",
       "      <th>cctv_in_100m</th>\n",
       "      <th>...</th>\n",
       "      <th>day</th>\n",
       "      <th>hour</th>\n",
       "      <th>minute</th>\n",
       "      <th>second</th>\n",
       "      <th>dayofweek</th>\n",
       "      <th>year-month</th>\n",
       "      <th>year-month-day</th>\n",
       "      <th>address1</th>\n",
       "      <th>address2</th>\n",
       "      <th>address</th>\n",
       "    </tr>\n",
       "  </thead>\n",
       "  <tbody>\n",
       "    <tr>\n",
       "      <th>4140</th>\n",
       "      <td>19224</td>\n",
       "      <td>983.92</td>\n",
       "      <td>NaN</td>\n",
       "      <td>블록구조</td>\n",
       "      <td>5</td>\n",
       "      <td>0</td>\n",
       "      <td>공장</td>\n",
       "      <td>공업용</td>\n",
       "      <td>205</td>\n",
       "      <td>0</td>\n",
       "      <td>...</td>\n",
       "      <td>21</td>\n",
       "      <td>1</td>\n",
       "      <td>46</td>\n",
       "      <td>1</td>\n",
       "      <td>Wednesday</td>\n",
       "      <td>2015-01</td>\n",
       "      <td>2015-01-21</td>\n",
       "      <td>김해시</td>\n",
       "      <td>어방동</td>\n",
       "      <td>김해시 어방동</td>\n",
       "    </tr>\n",
       "  </tbody>\n",
       "</table>\n",
       "<p>1 rows × 187 columns</p>\n",
       "</div>"
      ],
      "text/plain": [
       "      ahsm_dstnc  bldng_ar  bldng_ar_prc bldng_archtctr  bldng_cnt  \\\n",
       "4140       19224    983.92           NaN           블록구조          5   \n",
       "\n",
       "      bldng_cnt_in_50m bldng_us bldng_us_clssfctn  cctv_dstnc  cctv_in_100m  \\\n",
       "4140                 0       공장               공업용         205             0   \n",
       "\n",
       "      ... day hour  minute  second  dayofweek  year-month  year-month-day  \\\n",
       "4140  ...  21    1      46       1  Wednesday     2015-01      2015-01-21   \n",
       "\n",
       "      address1  address2  address  \n",
       "4140       김해시       어방동  김해시 어방동  \n",
       "\n",
       "[1 rows x 187 columns]"
      ]
     },
     "execution_count": 46,
     "metadata": {},
     "output_type": "execute_result"
    }
   ],
   "source": [
    "df[df['fr_mn_cnt'].isnull()]"
   ]
  },
  {
   "cell_type": "code",
   "execution_count": 47,
   "metadata": {},
   "outputs": [
    {
     "data": {
      "text/plain": [
       "year  address2\n",
       "2014  내외동         201.0\n",
       "      대동면         201.0\n",
       "      동상동         201.0\n",
       "      부원동         201.0\n",
       "      북부동         201.0\n",
       "      불암동         201.0\n",
       "      삼안동         201.0\n",
       "      상동면         201.0\n",
       "      생림면         201.0\n",
       "      장유1동        178.0\n",
       "      장유2동        178.0\n",
       "      장유3동        178.0\n",
       "      주촌면         178.0\n",
       "      진례면         178.0\n",
       "      진영읍         178.0\n",
       "      칠산서부동       201.0\n",
       "      한림면         178.0\n",
       "      활천동         201.0\n",
       "      회현동         201.0\n",
       "2015  내외동         201.0\n",
       "      대동면         201.0\n",
       "      동상동         201.0\n",
       "      부원동         201.0\n",
       "      북부동         201.0\n",
       "      불암동         201.0\n",
       "      삼안동         201.0\n",
       "      상동면         201.0\n",
       "      생림면         201.0\n",
       "      어방동           NaN\n",
       "      장유1동        178.0\n",
       "                  ...  \n",
       "2017  생림면         201.0\n",
       "      장유1동        178.0\n",
       "      장유2동        178.0\n",
       "      장유3동        178.0\n",
       "      주촌면         178.0\n",
       "      진례면         178.0\n",
       "      진영읍         178.0\n",
       "      칠산서부동       201.0\n",
       "      한림면         178.0\n",
       "      활천동         201.0\n",
       "      회현동         201.0\n",
       "2018  내외동         201.0\n",
       "      대동면         201.0\n",
       "      동상동         201.0\n",
       "      부원동         201.0\n",
       "      북부동         201.0\n",
       "      불암동         201.0\n",
       "      삼안동         201.0\n",
       "      상동면         201.0\n",
       "      생림면         201.0\n",
       "      장유1동        178.0\n",
       "      장유2동        178.0\n",
       "      장유3동        178.0\n",
       "      주촌면         178.0\n",
       "      진례면         178.0\n",
       "      진영읍         178.0\n",
       "      칠산서부동       201.0\n",
       "      한림면         178.0\n",
       "      활천동         201.0\n",
       "      회현동         201.0\n",
       "Name: fr_mn_cnt, Length: 96, dtype: float64"
      ]
     },
     "execution_count": 47,
     "metadata": {},
     "output_type": "execute_result"
    }
   ],
   "source": [
    "df[df['address1'] == '김해시'].groupby(['year', 'address2'])['fr_mn_cnt'].median()"
   ]
  },
  {
   "cell_type": "markdown",
   "metadata": {},
   "source": [
    "김해시 전체가 두 군데로 나뉘어 있음을 볼 수 있음\n",
    "\n",
    "김해시 어방동은 동상동 부원동 불암동 사이에 있으므로 세 개 동과 같은 201로 채워준다"
   ]
  },
  {
   "cell_type": "code",
   "execution_count": 48,
   "metadata": {},
   "outputs": [
    {
     "data": {
      "text/plain": [
       "0"
      ]
     },
     "execution_count": 48,
     "metadata": {},
     "output_type": "execute_result"
    }
   ],
   "source": [
    "df.loc[df['address2'] == '어방동', 'fr_mn_cnt'] = 201\n",
    "\n",
    "df['fr_mn_cnt'].isnull().sum()"
   ]
  },
  {
   "cell_type": "markdown",
   "metadata": {},
   "source": [
    "## Null 값 채우기) wnd_spd 풍속"
   ]
  },
  {
   "cell_type": "code",
   "execution_count": 49,
   "metadata": {},
   "outputs": [
    {
     "data": {
      "text/plain": [
       "35"
      ]
     },
     "execution_count": 49,
     "metadata": {},
     "output_type": "execute_result"
    }
   ],
   "source": [
    "df['wnd_spd'] = df.groupby(['address', 'year-month-day'])['wnd_spd'].transform(lambda x: x.fillna(x.median()))\n",
    "df['wnd_spd'].isnull().sum()"
   ]
  },
  {
   "cell_type": "code",
   "execution_count": 50,
   "metadata": {},
   "outputs": [
    {
     "data": {
      "text/plain": [
       "0"
      ]
     },
     "execution_count": 50,
     "metadata": {},
     "output_type": "execute_result"
    }
   ],
   "source": [
    "df['wnd_spd'] = df.groupby(['address', 'year-month'])['wnd_spd'].transform(lambda x: x.fillna(x.median()))\n",
    "df['wnd_spd'].isnull().sum()"
   ]
  },
  {
   "cell_type": "markdown",
   "metadata": {},
   "source": [
    "## Null 값 채우기) wnd_drctn 풍향\n",
    "1. 해당 지역, 해당일의 풍향 중간값으로 채우기\n",
    "2. 1에서 안 채워진 경우, 해당 지역, 해당월의 풍향 중간값으로 채우기\n",
    "3. 2에서 안 채워진 경우, 해당일의 풍향 중간값으로 채우기"
   ]
  },
  {
   "cell_type": "code",
   "execution_count": 51,
   "metadata": {},
   "outputs": [
    {
     "data": {
      "text/plain": [
       "201"
      ]
     },
     "execution_count": 51,
     "metadata": {},
     "output_type": "execute_result"
    }
   ],
   "source": [
    "df['wnd_drctn'] = df.groupby(['address', 'year-month-day'])['wnd_drctn'].transform(lambda x: x.fillna(x.median()))\n",
    "df['wnd_drctn'].isnull().sum()"
   ]
  },
  {
   "cell_type": "code",
   "execution_count": 52,
   "metadata": {},
   "outputs": [
    {
     "data": {
      "text/plain": [
       "10"
      ]
     },
     "execution_count": 52,
     "metadata": {},
     "output_type": "execute_result"
    }
   ],
   "source": [
    "df['wnd_drctn'] = df.groupby(['address', 'year-month'])['wnd_drctn'].transform(lambda x: x.fillna(x.median()))\n",
    "df['wnd_drctn'].isnull().sum()"
   ]
  },
  {
   "cell_type": "code",
   "execution_count": 53,
   "metadata": {},
   "outputs": [
    {
     "data": {
      "text/plain": [
       "0"
      ]
     },
     "execution_count": 53,
     "metadata": {},
     "output_type": "execute_result"
    }
   ],
   "source": [
    "df['wnd_drctn'] = df.groupby(['year-month-day'])['wnd_drctn'].transform(lambda x: x.fillna(x.median()))\n",
    "df['wnd_drctn'].isnull().sum()"
   ]
  },
  {
   "cell_type": "markdown",
   "metadata": {},
   "source": [
    "## Null 값 채우기) hmdt 습도\n",
    "corr 으로 습도와 상관계수 높은 컬럼 찾기"
   ]
  },
  {
   "cell_type": "code",
   "execution_count": 54,
   "metadata": {},
   "outputs": [],
   "source": [
    "corr = train.corr()"
   ]
  },
  {
   "cell_type": "code",
   "execution_count": 55,
   "metadata": {},
   "outputs": [
    {
     "data": {
      "text/plain": [
       "wnd_spd     -0.402712\n",
       "wnd_drctn   -0.253173\n",
       "Name: hmdt, dtype: float64"
      ]
     },
     "execution_count": 55,
     "metadata": {},
     "output_type": "execute_result"
    }
   ],
   "source": [
    "corr.loc[corr['hmdt']<-0.2, 'hmdt']"
   ]
  },
  {
   "cell_type": "markdown",
   "metadata": {},
   "source": [
    "1. 같은 풍속, 풍향인 날의 습도 중간값으로 채우기\n",
    "2. 1에서 안 채워진 경우, 풍향이 같은 날의 습도 중간값으로 채우기 \n",
    "3. 2에서 안 채워진 경우, 해당일의 습도 중간값으로 채우기"
   ]
  },
  {
   "cell_type": "code",
   "execution_count": 56,
   "metadata": {},
   "outputs": [
    {
     "data": {
      "text/plain": [
       "(69050,)"
      ]
     },
     "execution_count": 56,
     "metadata": {},
     "output_type": "execute_result"
    }
   ],
   "source": [
    "df['hmdt'].shape"
   ]
  },
  {
   "cell_type": "code",
   "execution_count": 57,
   "metadata": {},
   "outputs": [
    {
     "data": {
      "text/plain": [
       "(69050, 187)"
      ]
     },
     "execution_count": 57,
     "metadata": {},
     "output_type": "execute_result"
    }
   ],
   "source": [
    "df.shape"
   ]
  },
  {
   "cell_type": "code",
   "execution_count": 58,
   "metadata": {},
   "outputs": [
    {
     "data": {
      "text/plain": [
       "8"
      ]
     },
     "execution_count": 58,
     "metadata": {},
     "output_type": "execute_result"
    }
   ],
   "source": [
    "df['hmdt'] = df.groupby(['wnd_spd', 'wnd_drctn'])['hmdt'].transform(lambda x: x.fillna(x.median()))\n",
    "df['hmdt'].isnull().sum()"
   ]
  },
  {
   "cell_type": "code",
   "execution_count": 59,
   "metadata": {},
   "outputs": [
    {
     "data": {
      "text/plain": [
       "0"
      ]
     },
     "execution_count": 59,
     "metadata": {},
     "output_type": "execute_result"
    }
   ],
   "source": [
    "df['hmdt'] = df.groupby(['year-month-day'])['hmdt'].transform(lambda x: x.fillna(x.median()))\n",
    "df['hmdt'].isnull().sum()"
   ]
  },
  {
   "cell_type": "markdown",
   "metadata": {},
   "source": [
    "## Null 값 채우기) tmprtr 온도\n",
    "corr 으로 온도와 상관계수가 높은 컬럼 찾기"
   ]
  },
  {
   "cell_type": "code",
   "execution_count": 60,
   "metadata": {},
   "outputs": [
    {
     "data": {
      "text/plain": [
       "tmprtr         1.000000\n",
       "wnd_spd        0.106366\n",
       "hmdt           0.125568\n",
       "lw_13101110    0.145238\n",
       "lw_13101210    0.118775\n",
       "lw_13101211    0.136644\n",
       "lw_13111010    0.116014\n",
       "Name: tmprtr, dtype: float64"
      ]
     },
     "execution_count": 60,
     "metadata": {},
     "output_type": "execute_result"
    }
   ],
   "source": [
    "corr.loc[corr['tmprtr'] > 0.1, 'tmprtr']"
   ]
  },
  {
   "cell_type": "markdown",
   "metadata": {},
   "source": [
    "1. 풍속과 습도가 같은 날의 온도 중간값으로 채우기\n",
    "2. 습도가 같은 해당일의 온도 중간값으로 채우기\n",
    "3. 풍속이 같은 해당일의 온도 중간값으로 채우기\n",
    "4. 습도가 같은 해당월의 온도 중간값으로 채우기"
   ]
  },
  {
   "cell_type": "code",
   "execution_count": 61,
   "metadata": {},
   "outputs": [],
   "source": [
    "# wnd_spd 와 hmdt 가 float 라서 같은 값인데 다른 값으로 처리되는 것들이 있음\n",
    "# 해결하기 위해 int 로 바꾼다\n",
    "\n",
    "df['wnd_spd(int)'] = df['wnd_spd'].apply(lambda x: int(x))\n",
    "df['hmdt(int)'] = df['hmdt'].apply(lambda x: int(x))"
   ]
  },
  {
   "cell_type": "code",
   "execution_count": 62,
   "metadata": {
    "scrolled": true
   },
   "outputs": [
    {
     "data": {
      "text/plain": [
       "0"
      ]
     },
     "execution_count": 62,
     "metadata": {},
     "output_type": "execute_result"
    }
   ],
   "source": [
    "df['tmprtr'] = df.groupby(['wnd_spd(int)', 'hmdt(int)'])['tmprtr'].transform(lambda x: x.fillna(x.median()))\n",
    "df['tmprtr'].isnull().sum()"
   ]
  },
  {
   "cell_type": "markdown",
   "metadata": {},
   "source": [
    "# 강수량 열 null 값 채우고 원래 있던 0을 0.05로 바꿈"
   ]
  },
  {
   "cell_type": "code",
   "execution_count": 63,
   "metadata": {},
   "outputs": [],
   "source": [
    "df['prcpttn'] = df['prcpttn'].transform(lambda x: 0.05 if x == 0 else x)"
   ]
  },
  {
   "cell_type": "code",
   "execution_count": 64,
   "metadata": {},
   "outputs": [],
   "source": [
    "df['prcpttn'] = df['prcpttn'].transform(lambda x: x.fillna(0))"
   ]
  },
  {
   "cell_type": "code",
   "execution_count": 65,
   "metadata": {},
   "outputs": [
    {
     "data": {
      "text/plain": [
       "0"
      ]
     },
     "execution_count": 65,
     "metadata": {},
     "output_type": "execute_result"
    }
   ],
   "source": [
    "df['prcpttn'].isnull().sum()"
   ]
  },
  {
   "cell_type": "markdown",
   "metadata": {},
   "source": [
    "# 중간 점검 - null 열 확인"
   ]
  },
  {
   "cell_type": "code",
   "execution_count": 66,
   "metadata": {
    "scrolled": true
   },
   "outputs": [
    {
     "data": {
      "text/plain": [
       "array([['lw_13121011', 68636],\n",
       "       ['lw_13121010', 68636],\n",
       "       ['lw_13111110', 68628],\n",
       "       ['lw_13101410', 68626],\n",
       "       ['lw_13141011', 68618],\n",
       "       ['lw_13101110', 68618],\n",
       "       ['lw_13141010', 68617],\n",
       "       ['lw_13101310', 68617],\n",
       "       ['lw_13131110', 68613],\n",
       "       ['lw_13131010', 68613],\n",
       "       ['lw_13101210', 68612],\n",
       "       ['lw_13101211', 68611],\n",
       "       ['lw_13111010', 68609],\n",
       "       ['lw_13101010', 68607],\n",
       "       ['bldng_us_clssfctn', 31640],\n",
       "       ['bldng_us', 29257],\n",
       "       ['bldng_archtctr', 29222],\n",
       "       ['gas_engry_us_201601', 29130],\n",
       "       ['gas_engry_us_201508', 29130],\n",
       "       ['gas_engry_us_201509', 29130],\n",
       "       ['gas_engry_us_201510', 29130],\n",
       "       ['gas_engry_us_201511', 29130],\n",
       "       ['gas_engry_us_201512', 29130],\n",
       "       ['gas_engry_us_201505', 29130],\n",
       "       ['gas_engry_us_201602', 29130],\n",
       "       ['gas_engry_us_201603', 29130],\n",
       "       ['gas_engry_us_201604', 29130],\n",
       "       ['gas_engry_us_201605', 29130],\n",
       "       ['gas_engry_us_201606', 29130],\n",
       "       ['gas_engry_us_201506', 29130],\n",
       "       ['gas_engry_us_201507', 29130],\n",
       "       ['gas_engry_us_201408', 29130],\n",
       "       ['gas_engry_us_201504', 29130],\n",
       "       ['gas_engry_us_201503', 29130],\n",
       "       ['gas_engry_us_201502', 29130],\n",
       "       ['gas_engry_us_201501', 29130],\n",
       "       ['gas_engry_us_201412', 29130],\n",
       "       ['gas_engry_us_201411', 29130],\n",
       "       ['gas_engry_us_201410', 29130],\n",
       "       ['gas_engry_us_201409', 29130],\n",
       "       ['gas_engry_us_201608', 29130],\n",
       "       ['gas_engry_us_201407', 29130],\n",
       "       ['gas_engry_us_201405', 29130],\n",
       "       ['gas_engry_us_201404', 29130],\n",
       "       ['gas_engry_us_201403', 29130],\n",
       "       ['gas_engry_us_201607', 29130],\n",
       "       ['gas_engry_us_201705', 29130],\n",
       "       ['gas_engry_us_201609', 29130],\n",
       "       ['gas_engry_us_201712', 29130],\n",
       "       ['gas_engry_us_201812', 29130],\n",
       "       ['gas_engry_us_201811', 29130],\n",
       "       ['gas_engry_us_201810', 29130],\n",
       "       ['gas_engry_us_201809', 29130],\n",
       "       ['gas_engry_us_201808', 29130],\n",
       "       ['gas_engry_us_201807', 29130],\n",
       "       ['gas_engry_us_201806', 29130],\n",
       "       ['gas_engry_us_201805', 29130],\n",
       "       ['gas_engry_us_201804', 29130],\n",
       "       ['gas_engry_us_201803', 29130],\n",
       "       ['gas_engry_us_201802', 29130],\n",
       "       ['gas_engry_us_201801', 29130],\n",
       "       ['gas_engry_us_201711', 29130],\n",
       "       ['gas_engry_us_201610', 29130],\n",
       "       ['gas_engry_us_201710', 29130],\n",
       "       ['gas_engry_us_201709', 29130],\n",
       "       ['gas_engry_us_201708', 29130],\n",
       "       ['gas_engry_us_201707', 29130],\n",
       "       ['gas_engry_us_201706', 29130],\n",
       "       ['gas_engry_us_201401', 29130],\n",
       "       ['gas_engry_us_201704', 29130],\n",
       "       ['gas_engry_us_201703', 29130],\n",
       "       ['gas_engry_us_201702', 29130],\n",
       "       ['gas_engry_us_201701', 29130],\n",
       "       ['gas_engry_us_201612', 29130],\n",
       "       ['gas_engry_us_201611', 29130],\n",
       "       ['gas_engry_us_201402', 29130],\n",
       "       ['gas_engry_us_201406', 29130],\n",
       "       ['ele_engry_us_201512', 29130],\n",
       "       ['ele_engry_us_201407', 29130],\n",
       "       ['ele_engry_us_201610', 29130],\n",
       "       ['ele_engry_us_201609', 29130],\n",
       "       ['ele_engry_us_201608', 29130],\n",
       "       ['ele_engry_us_201607', 29130],\n",
       "       ['ele_engry_us_201606', 29130],\n",
       "       ['ele_engry_us_201605', 29130],\n",
       "       ['ele_engry_us_201604', 29130],\n",
       "       ['ele_engry_us_201603', 29130],\n",
       "       ['ele_engry_us_201602', 29130],\n",
       "       ['ele_engry_us_201601', 29130],\n",
       "       ['ele_engry_us_201403', 29130],\n",
       "       ['ele_engry_us_201511', 29130],\n",
       "       ['ele_engry_us_201510', 29130],\n",
       "       ['ele_engry_us_201509', 29130],\n",
       "       ['ele_engry_us_201508', 29130],\n",
       "       ['ele_engry_us_201507', 29130],\n",
       "       ['ele_engry_us_201506', 29130],\n",
       "       ['ele_engry_us_201505', 29130],\n",
       "       ['ele_engry_us_201504', 29130],\n",
       "       ['ele_engry_us_201503', 29130],\n",
       "       ['ele_engry_us_201502', 29130],\n",
       "       ['ele_engry_us_201501', 29130],\n",
       "       ['ele_engry_us_201412', 29130],\n",
       "       ['ele_engry_us_201411', 29130],\n",
       "       ['ele_engry_us_201410', 29130],\n",
       "       ['ele_engry_us_201409', 29130],\n",
       "       ['ele_engry_us_201408', 29130],\n",
       "       ['ele_engry_us_201404', 29130],\n",
       "       ['ele_engry_us_201405', 29130],\n",
       "       ['ele_engry_us_201611', 29130],\n",
       "       ['ele_engry_us_201612', 29130],\n",
       "       ['ele_engry_us_201701', 29130],\n",
       "       ['ele_engry_us_201402', 29130],\n",
       "       ['dt_of_athrztn', 29130],\n",
       "       ['ele_engry_us_201401', 29130],\n",
       "       ['ele_engry_us_201812', 29130],\n",
       "       ['ele_engry_us_201811', 29130],\n",
       "       ['ele_engry_us_201810', 29130],\n",
       "       ['ele_engry_us_201809', 29130],\n",
       "       ['ele_engry_us_201808', 29130],\n",
       "       ['ele_engry_us_201807', 29130],\n",
       "       ['ele_engry_us_201806', 29130],\n",
       "       ['ele_engry_us_201805', 29130],\n",
       "       ['ele_engry_us_201804', 29130],\n",
       "       ['ele_engry_us_201702', 29130],\n",
       "       ['ele_engry_us_201803', 29130],\n",
       "       ['ele_engry_us_201802', 29130],\n",
       "       ['ele_engry_us_201801', 29130],\n",
       "       ['ele_engry_us_201712', 29130],\n",
       "       ['ele_engry_us_201711', 29130],\n",
       "       ['ele_engry_us_201710', 29130],\n",
       "       ['ele_engry_us_201709', 29130],\n",
       "       ['ele_engry_us_201708', 29130],\n",
       "       ['ele_engry_us_201707', 29130],\n",
       "       ['ele_engry_us_201706', 29130],\n",
       "       ['ele_engry_us_201705', 29130],\n",
       "       ['ele_engry_us_201704', 29130],\n",
       "       ['ele_engry_us_201703', 29130],\n",
       "       ['ele_engry_us_201406', 29130],\n",
       "       ['bldng_ar_prc', 26322],\n",
       "       ['ttl_dwn_flr', 12328],\n",
       "       ['ttl_grnd_flr', 11347],\n",
       "       ['fr_yn', 2957],\n",
       "       ['lnd_us_sttn_nm', 2008],\n",
       "       ['rgnl_ar_nm2', 1619],\n",
       "       ['rgnl_ar_nm', 1619],\n",
       "       ['rd_sd_nm', 1619],\n",
       "       ['wnd_spd', 0],\n",
       "       ['ttl_ar', 0],\n",
       "       ['minute', 0],\n",
       "       ['second', 0],\n",
       "       ['wnd_drctn', 0],\n",
       "       ['dayofweek', 0],\n",
       "       ['wnd_spd(int)', 0],\n",
       "       ['address', 0],\n",
       "       ['address2', 0],\n",
       "       ['address1', 0],\n",
       "       ['year-month', 0],\n",
       "       ['year-month-day', 0],\n",
       "       ['tbc_rtl_str_dstnc', 0],\n",
       "       ['day', 0],\n",
       "       ['hour', 0],\n",
       "       ['month', 0],\n",
       "       ['year', 0],\n",
       "       ['mlt_us_yn(encode)', 0],\n",
       "       ['fire_yes', 0],\n",
       "       ['tmprtr', 0],\n",
       "       ['ahsm_dstnc', 0],\n",
       "       ['tag', 0],\n",
       "       ['sft_emrgnc_bll_dstnc', 0],\n",
       "       ['bldng_cnt', 0],\n",
       "       ['bldng_cnt_in_50m', 0],\n",
       "       ['cctv_dstnc', 0],\n",
       "       ['cctv_in_100m', 0],\n",
       "       ['dt_of_fr', 0],\n",
       "       ['emd_nm', 0],\n",
       "       ['fr_mn_cnt', 0],\n",
       "       ['fr_sttn_dstnc', 0],\n",
       "       ['fr_wthr_fclt_dstnc', 0],\n",
       "       ['fr_wthr_fclt_in_100m', 0],\n",
       "       ['bldng_ar', 0],\n",
       "       ['hm_cnt', 0],\n",
       "       ['hmdt', 0],\n",
       "       ['id', 0],\n",
       "       ['jmk', 0],\n",
       "       ['lnd_ar', 0],\n",
       "       ['mlt_us_yn', 0],\n",
       "       ['no_tbc_zn_dstnc', 0],\n",
       "       ['prcpttn', 0],\n",
       "       ['hmdt(int)', 0]], dtype=object)"
      ]
     },
     "execution_count": 66,
     "metadata": {},
     "output_type": "execute_result"
    }
   ],
   "source": [
    "df.isnull().sum().reset_index().sort_values(by = 0, ascending = False).values"
   ]
  },
  {
   "cell_type": "markdown",
   "metadata": {},
   "source": [
    "# lw~ 컬럼, 가스에너지, 전기 에너지 null 값 -1 넣기"
   ]
  },
  {
   "cell_type": "code",
   "execution_count": 72,
   "metadata": {},
   "outputs": [],
   "source": [
    "df[['lw_13121011','lw_13121010','lw_13111110','lw_13101410','lw_13141011','lw_13101110','lw_13141010','lw_13101310',\n",
    "   'lw_13131110','lw_13131010','lw_13101210','lw_13101211','lw_13111010','lw_13101010','ele_engry_us_201401', \n",
    "    'ele_engry_us_201402','ele_engry_us_201403', 'ele_engry_us_201404','ele_engry_us_201405', 'ele_engry_us_201406',\n",
    "    'ele_engry_us_201407', 'ele_engry_us_201408', 'ele_engry_us_201409', 'ele_engry_us_201410',\n",
    "       'ele_engry_us_201411', 'ele_engry_us_201412', 'ele_engry_us_201501', 'ele_engry_us_201502',\n",
    "       'ele_engry_us_201503', 'ele_engry_us_201504','ele_engry_us_201505', 'ele_engry_us_201506',\n",
    "       'ele_engry_us_201507', 'ele_engry_us_201508', 'ele_engry_us_201509', 'ele_engry_us_201510',\n",
    "       'ele_engry_us_201511', 'ele_engry_us_201512','ele_engry_us_201601', 'ele_engry_us_201602',\n",
    "       'ele_engry_us_201603', 'ele_engry_us_201604', 'ele_engry_us_201605', 'ele_engry_us_201606',\n",
    "       'ele_engry_us_201607', 'ele_engry_us_201608', 'ele_engry_us_201609', 'ele_engry_us_201610',\n",
    "       'ele_engry_us_201611', 'ele_engry_us_201612', 'ele_engry_us_201701', 'ele_engry_us_201702',\n",
    "       'ele_engry_us_201703', 'ele_engry_us_201704','ele_engry_us_201705', 'ele_engry_us_201706',\n",
    "       'ele_engry_us_201707', 'ele_engry_us_201708', 'ele_engry_us_201709', 'ele_engry_us_201710',\n",
    "       'ele_engry_us_201711', 'ele_engry_us_201712','ele_engry_us_201801', 'ele_engry_us_201802',\n",
    "       'ele_engry_us_201803', 'ele_engry_us_201804','ele_engry_us_201805', 'ele_engry_us_201806',\n",
    "       'ele_engry_us_201807', 'ele_engry_us_201808', 'ele_engry_us_201809', 'ele_engry_us_201810',\n",
    "       'ele_engry_us_201811', 'ele_engry_us_201812','gas_engry_us_201401',\n",
    "       'gas_engry_us_201402', 'gas_engry_us_201403','gas_engry_us_201404', 'gas_engry_us_201405',\n",
    "       'gas_engry_us_201406', 'gas_engry_us_201407','gas_engry_us_201408', 'gas_engry_us_201409',\n",
    "       'gas_engry_us_201410', 'gas_engry_us_201411','gas_engry_us_201412', 'gas_engry_us_201501',\n",
    "       'gas_engry_us_201502', 'gas_engry_us_201503','gas_engry_us_201504', 'gas_engry_us_201505',\n",
    "       'gas_engry_us_201506', 'gas_engry_us_201507','gas_engry_us_201508', 'gas_engry_us_201509',\n",
    "       'gas_engry_us_201510', 'gas_engry_us_201511', 'gas_engry_us_201512', 'gas_engry_us_201601',\n",
    "       'gas_engry_us_201602', 'gas_engry_us_201603','gas_engry_us_201604', 'gas_engry_us_201605',\n",
    "       'gas_engry_us_201606', 'gas_engry_us_201607','gas_engry_us_201608', 'gas_engry_us_201609',\n",
    "        'gas_engry_us_201610', 'gas_engry_us_201611', 'gas_engry_us_201612', 'gas_engry_us_201701',\n",
    "       'gas_engry_us_201702', 'gas_engry_us_201703','gas_engry_us_201704', 'gas_engry_us_201705',\n",
    "       'gas_engry_us_201706', 'gas_engry_us_201707','gas_engry_us_201708', 'gas_engry_us_201709',\n",
    "       'gas_engry_us_201710', 'gas_engry_us_201711','gas_engry_us_201712', 'gas_engry_us_201801',\n",
    "       'gas_engry_us_201802', 'gas_engry_us_201803','gas_engry_us_201804', 'gas_engry_us_201805',\n",
    "       'gas_engry_us_201806', 'gas_engry_us_201807', 'gas_engry_us_201808', 'gas_engry_us_201809',\n",
    "       'gas_engry_us_201810', 'gas_engry_us_201811','gas_engry_us_201812']] = df[['lw_13121011','lw_13121010','lw_13111110','lw_13101410','lw_13141011','lw_13101110','lw_13141010','lw_13101310',\n",
    "   'lw_13131110','lw_13131010','lw_13101210','lw_13101211','lw_13111010','lw_13101010','ele_engry_us_201401', \n",
    "    'ele_engry_us_201402','ele_engry_us_201403', 'ele_engry_us_201404','ele_engry_us_201405', 'ele_engry_us_201406',\n",
    "    'ele_engry_us_201407', 'ele_engry_us_201408', 'ele_engry_us_201409', 'ele_engry_us_201410',\n",
    "       'ele_engry_us_201411', 'ele_engry_us_201412', 'ele_engry_us_201501', 'ele_engry_us_201502',\n",
    "       'ele_engry_us_201503', 'ele_engry_us_201504','ele_engry_us_201505', 'ele_engry_us_201506',\n",
    "       'ele_engry_us_201507', 'ele_engry_us_201508', 'ele_engry_us_201509', 'ele_engry_us_201510',\n",
    "       'ele_engry_us_201511', 'ele_engry_us_201512','ele_engry_us_201601', 'ele_engry_us_201602',\n",
    "       'ele_engry_us_201603', 'ele_engry_us_201604', 'ele_engry_us_201605', 'ele_engry_us_201606',\n",
    "       'ele_engry_us_201607', 'ele_engry_us_201608', 'ele_engry_us_201609', 'ele_engry_us_201610',\n",
    "       'ele_engry_us_201611', 'ele_engry_us_201612', 'ele_engry_us_201701', 'ele_engry_us_201702',\n",
    "       'ele_engry_us_201703', 'ele_engry_us_201704','ele_engry_us_201705', 'ele_engry_us_201706',\n",
    "       'ele_engry_us_201707', 'ele_engry_us_201708', 'ele_engry_us_201709', 'ele_engry_us_201710',\n",
    "       'ele_engry_us_201711', 'ele_engry_us_201712','ele_engry_us_201801', 'ele_engry_us_201802',\n",
    "       'ele_engry_us_201803', 'ele_engry_us_201804','ele_engry_us_201805', 'ele_engry_us_201806',\n",
    "       'ele_engry_us_201807', 'ele_engry_us_201808', 'ele_engry_us_201809', 'ele_engry_us_201810',\n",
    "       'ele_engry_us_201811', 'ele_engry_us_201812','gas_engry_us_201401',\n",
    "       'gas_engry_us_201402', 'gas_engry_us_201403','gas_engry_us_201404', 'gas_engry_us_201405',\n",
    "       'gas_engry_us_201406', 'gas_engry_us_201407','gas_engry_us_201408', 'gas_engry_us_201409',\n",
    "       'gas_engry_us_201410', 'gas_engry_us_201411','gas_engry_us_201412', 'gas_engry_us_201501',\n",
    "       'gas_engry_us_201502', 'gas_engry_us_201503','gas_engry_us_201504', 'gas_engry_us_201505',\n",
    "       'gas_engry_us_201506', 'gas_engry_us_201507','gas_engry_us_201508', 'gas_engry_us_201509',\n",
    "       'gas_engry_us_201510', 'gas_engry_us_201511', 'gas_engry_us_201512', 'gas_engry_us_201601',\n",
    "       'gas_engry_us_201602', 'gas_engry_us_201603','gas_engry_us_201604', 'gas_engry_us_201605',\n",
    "       'gas_engry_us_201606', 'gas_engry_us_201607','gas_engry_us_201608', 'gas_engry_us_201609',\n",
    "        'gas_engry_us_201610', 'gas_engry_us_201611', 'gas_engry_us_201612', 'gas_engry_us_201701',\n",
    "       'gas_engry_us_201702', 'gas_engry_us_201703','gas_engry_us_201704', 'gas_engry_us_201705',\n",
    "       'gas_engry_us_201706', 'gas_engry_us_201707','gas_engry_us_201708', 'gas_engry_us_201709',\n",
    "       'gas_engry_us_201710', 'gas_engry_us_201711','gas_engry_us_201712', 'gas_engry_us_201801',\n",
    "       'gas_engry_us_201802', 'gas_engry_us_201803','gas_engry_us_201804', 'gas_engry_us_201805',\n",
    "       'gas_engry_us_201806', 'gas_engry_us_201807', 'gas_engry_us_201808', 'gas_engry_us_201809',\n",
    "       'gas_engry_us_201810', 'gas_engry_us_201811','gas_engry_us_201812']].fillna(-1)"
   ]
  },
  {
   "cell_type": "code",
   "execution_count": null,
   "metadata": {},
   "outputs": [],
   "source": []
  },
  {
   "cell_type": "code",
   "execution_count": null,
   "metadata": {},
   "outputs": [],
   "source": []
  },
  {
   "cell_type": "code",
   "execution_count": 74,
   "metadata": {},
   "outputs": [
    {
     "data": {
      "text/plain": [
       "array([['bldng_us_clssfctn', 31640],\n",
       "       ['bldng_us', 29257],\n",
       "       ['bldng_archtctr', 29222],\n",
       "       ['dt_of_athrztn', 29130],\n",
       "       ['bldng_ar_prc', 26322],\n",
       "       ['ttl_dwn_flr', 12328],\n",
       "       ['ttl_grnd_flr', 11347],\n",
       "       ['fr_yn', 2957],\n",
       "       ['lnd_us_sttn_nm', 2008],\n",
       "       ['rgnl_ar_nm2', 1619],\n",
       "       ['rd_sd_nm', 1619],\n",
       "       ['rgnl_ar_nm', 1619],\n",
       "       ['gas_engry_us_201809', 0],\n",
       "       ['gas_engry_us_201808', 0],\n",
       "       ['hm_cnt', 0],\n",
       "       ['gas_engry_us_201708', 0],\n",
       "       ['gas_engry_us_201709', 0],\n",
       "       ['gas_engry_us_201812', 0],\n",
       "       ['gas_engry_us_201811', 0],\n",
       "       ['gas_engry_us_201710', 0],\n",
       "       ['gas_engry_us_201711', 0],\n",
       "       ['gas_engry_us_201712', 0],\n",
       "       ['gas_engry_us_201801', 0],\n",
       "       ['gas_engry_us_201802', 0],\n",
       "       ['gas_engry_us_201803', 0],\n",
       "       ['gas_engry_us_201804', 0],\n",
       "       ['gas_engry_us_201805', 0],\n",
       "       ['gas_engry_us_201810', 0],\n",
       "       ['gas_engry_us_201807', 0],\n",
       "       ['gas_engry_us_201806', 0],\n",
       "       ['ahsm_dstnc', 0],\n",
       "       ['gas_engry_us_201707', 0],\n",
       "       ['gas_engry_us_201608', 0],\n",
       "       ['gas_engry_us_201511', 0],\n",
       "       ['gas_engry_us_201512', 0],\n",
       "       ['gas_engry_us_201601', 0],\n",
       "       ['gas_engry_us_201602', 0],\n",
       "       ['gas_engry_us_201603', 0],\n",
       "       ['gas_engry_us_201604', 0],\n",
       "       ['gas_engry_us_201605', 0],\n",
       "       ['gas_engry_us_201606', 0],\n",
       "       ['gas_engry_us_201607', 0],\n",
       "       ['gas_engry_us_201609', 0],\n",
       "       ['gas_engry_us_201706', 0],\n",
       "       ['gas_engry_us_201610', 0],\n",
       "       ['gas_engry_us_201611', 0],\n",
       "       ['gas_engry_us_201612', 0],\n",
       "       ['gas_engry_us_201701', 0],\n",
       "       ['gas_engry_us_201702', 0],\n",
       "       ['gas_engry_us_201703', 0],\n",
       "       ['gas_engry_us_201704', 0],\n",
       "       ['id', 0],\n",
       "       ['gas_engry_us_201705', 0],\n",
       "       ['hmdt', 0],\n",
       "       ['lw_13101210', 0],\n",
       "       ['jmk', 0],\n",
       "       ['hour', 0],\n",
       "       ['ttl_ar', 0],\n",
       "       ['wnd_drctn', 0],\n",
       "       ['wnd_spd', 0],\n",
       "       ['fire_yes', 0],\n",
       "       ['mlt_us_yn(encode)', 0],\n",
       "       ['year', 0],\n",
       "       ['month', 0],\n",
       "       ['day', 0],\n",
       "       ['minute', 0],\n",
       "       ['lnd_ar', 0],\n",
       "       ['second', 0],\n",
       "       ['dayofweek', 0],\n",
       "       ['year-month', 0],\n",
       "       ['year-month-day', 0],\n",
       "       ['address1', 0],\n",
       "       ['address2', 0],\n",
       "       ['address', 0],\n",
       "       ['wnd_spd(int)', 0],\n",
       "       ['tmprtr', 0],\n",
       "       ['tbc_rtl_str_dstnc', 0],\n",
       "       ['tag', 0],\n",
       "       ['sft_emrgnc_bll_dstnc', 0],\n",
       "       ['lw_13101010', 0],\n",
       "       ['lw_13101110', 0],\n",
       "       ['gas_engry_us_201509', 0],\n",
       "       ['lw_13101211', 0],\n",
       "       ['lw_13101310', 0],\n",
       "       ['lw_13101410', 0],\n",
       "       ['lw_13111010', 0],\n",
       "       ['lw_13111110', 0],\n",
       "       ['lw_13121010', 0],\n",
       "       ['lw_13121011', 0],\n",
       "       ['lw_13131010', 0],\n",
       "       ['lw_13131110', 0],\n",
       "       ['lw_13141010', 0],\n",
       "       ['lw_13141011', 0],\n",
       "       ['mlt_us_yn', 0],\n",
       "       ['no_tbc_zn_dstnc', 0],\n",
       "       ['prcpttn', 0],\n",
       "       ['gas_engry_us_201510', 0],\n",
       "       ['gas_engry_us_201505', 0],\n",
       "       ['gas_engry_us_201508', 0],\n",
       "       ['ele_engry_us_201505', 0],\n",
       "       ['ele_engry_us_201507', 0],\n",
       "       ['ele_engry_us_201508', 0],\n",
       "       ['ele_engry_us_201509', 0],\n",
       "       ['ele_engry_us_201510', 0],\n",
       "       ['ele_engry_us_201511', 0],\n",
       "       ['ele_engry_us_201512', 0],\n",
       "       ['ele_engry_us_201601', 0],\n",
       "       ['ele_engry_us_201602', 0],\n",
       "       ['ele_engry_us_201603', 0],\n",
       "       ['ele_engry_us_201604', 0],\n",
       "       ['ele_engry_us_201605', 0],\n",
       "       ['ele_engry_us_201606', 0],\n",
       "       ['ele_engry_us_201607', 0],\n",
       "       ['ele_engry_us_201608', 0],\n",
       "       ['ele_engry_us_201609', 0],\n",
       "       ['ele_engry_us_201610', 0],\n",
       "       ['ele_engry_us_201611', 0],\n",
       "       ['ele_engry_us_201612', 0],\n",
       "       ['ele_engry_us_201701', 0],\n",
       "       ['ele_engry_us_201506', 0],\n",
       "       ['ele_engry_us_201504', 0],\n",
       "       ['ele_engry_us_201703', 0],\n",
       "       ['ele_engry_us_201503', 0],\n",
       "       ['bldng_cnt', 0],\n",
       "       ['bldng_cnt_in_50m', 0],\n",
       "       ['cctv_dstnc', 0],\n",
       "       ['cctv_in_100m', 0],\n",
       "       ['dt_of_fr', 0],\n",
       "       ['ele_engry_us_201401', 0],\n",
       "       ['ele_engry_us_201402', 0],\n",
       "       ['ele_engry_us_201403', 0],\n",
       "       ['ele_engry_us_201404', 0],\n",
       "       ['ele_engry_us_201405', 0],\n",
       "       ['ele_engry_us_201406', 0],\n",
       "       ['ele_engry_us_201407', 0],\n",
       "       ['ele_engry_us_201408', 0],\n",
       "       ['ele_engry_us_201409', 0],\n",
       "       ['ele_engry_us_201410', 0],\n",
       "       ['ele_engry_us_201411', 0],\n",
       "       ['ele_engry_us_201412', 0],\n",
       "       ['ele_engry_us_201501', 0],\n",
       "       ['ele_engry_us_201502', 0],\n",
       "       ['ele_engry_us_201702', 0],\n",
       "       ['ele_engry_us_201704', 0],\n",
       "       ['gas_engry_us_201507', 0],\n",
       "       ['fr_sttn_dstnc', 0],\n",
       "       ['fr_wthr_fclt_in_100m', 0],\n",
       "       ['gas_engry_us_201401', 0],\n",
       "       ['gas_engry_us_201402', 0],\n",
       "       ['gas_engry_us_201403', 0],\n",
       "       ['gas_engry_us_201404', 0],\n",
       "       ['gas_engry_us_201405', 0],\n",
       "       ['gas_engry_us_201406', 0],\n",
       "       ['gas_engry_us_201407', 0],\n",
       "       ['gas_engry_us_201408', 0],\n",
       "       ['gas_engry_us_201409', 0],\n",
       "       ['gas_engry_us_201410', 0],\n",
       "       ['gas_engry_us_201411', 0],\n",
       "       ['gas_engry_us_201412', 0],\n",
       "       ['gas_engry_us_201501', 0],\n",
       "       ['gas_engry_us_201502', 0],\n",
       "       ['gas_engry_us_201503', 0],\n",
       "       ['gas_engry_us_201504', 0],\n",
       "       ['bldng_ar', 0],\n",
       "       ['gas_engry_us_201506', 0],\n",
       "       ['fr_wthr_fclt_dstnc', 0],\n",
       "       ['fr_mn_cnt', 0],\n",
       "       ['ele_engry_us_201705', 0],\n",
       "       ['emd_nm', 0],\n",
       "       ['ele_engry_us_201706', 0],\n",
       "       ['ele_engry_us_201707', 0],\n",
       "       ['ele_engry_us_201708', 0],\n",
       "       ['ele_engry_us_201709', 0],\n",
       "       ['ele_engry_us_201710', 0],\n",
       "       ['ele_engry_us_201711', 0],\n",
       "       ['ele_engry_us_201712', 0],\n",
       "       ['ele_engry_us_201801', 0],\n",
       "       ['ele_engry_us_201802', 0],\n",
       "       ['ele_engry_us_201803', 0],\n",
       "       ['ele_engry_us_201804', 0],\n",
       "       ['ele_engry_us_201805', 0],\n",
       "       ['ele_engry_us_201806', 0],\n",
       "       ['ele_engry_us_201807', 0],\n",
       "       ['ele_engry_us_201808', 0],\n",
       "       ['ele_engry_us_201809', 0],\n",
       "       ['ele_engry_us_201810', 0],\n",
       "       ['ele_engry_us_201811', 0],\n",
       "       ['ele_engry_us_201812', 0],\n",
       "       ['hmdt(int)', 0]], dtype=object)"
      ]
     },
     "execution_count": 74,
     "metadata": {},
     "output_type": "execute_result"
    }
   ],
   "source": [
    "df.isnull().sum().reset_index().sort_values(by = 0, ascending = False).values"
   ]
  },
  {
   "cell_type": "code",
   "execution_count": null,
   "metadata": {},
   "outputs": [],
   "source": []
  },
  {
   "cell_type": "code",
   "execution_count": null,
   "metadata": {},
   "outputs": [],
   "source": []
  },
  {
   "cell_type": "markdown",
   "metadata": {},
   "source": [
    "# 여기까지가 끝"
   ]
  },
  {
   "cell_type": "code",
   "execution_count": null,
   "metadata": {},
   "outputs": [],
   "source": [
    "train_p = pd.read_csv('train_PCA_jmk_lnd_fl_prc.csv')\n",
    "valid_p = pd.read_csv('valid_PCA_jmk_lnd_fl_prc.csv')\n",
    "test_p = pd.read_csv('test_PCA_jmk_lnd_fl_prc.csv')"
   ]
  },
  {
   "cell_type": "code",
   "execution_count": null,
   "metadata": {
    "scrolled": true
   },
   "outputs": [],
   "source": [
    "df_train = df[df['tag']==1]"
   ]
  },
  {
   "cell_type": "code",
   "execution_count": null,
   "metadata": {},
   "outputs": [],
   "source": [
    "df_test = df[df['tag']==2]\n",
    "df_valid = df[df['tag']==0]"
   ]
  },
  {
   "cell_type": "code",
   "execution_count": null,
   "metadata": {},
   "outputs": [],
   "source": [
    "train = pd.merge(df_train, train_p, on = 'id', how = 'outer')"
   ]
  },
  {
   "cell_type": "code",
   "execution_count": null,
   "metadata": {},
   "outputs": [],
   "source": [
    "test = pd.merge(df_test, test_p, on = 'id')\n",
    "valid = pd.merge(df_valid, valid_p, on = 'id')"
   ]
  },
  {
   "cell_type": "code",
   "execution_count": null,
   "metadata": {},
   "outputs": [],
   "source": [
    "train = train.fillna(-1)\n",
    "valid= valid.fillna(-1)\n",
    "test = test.fillna(-1)"
   ]
  },
  {
   "cell_type": "code",
   "execution_count": null,
   "metadata": {},
   "outputs": [],
   "source": [
    "train = train.to_csv('train_all.csv', index=False)\n",
    "test = test.to_csv('test_all.csv', index=False)\n",
    "valid = valid.to_csv('valid_all.csv', index=False)"
   ]
  },
  {
   "cell_type": "code",
   "execution_count": null,
   "metadata": {
    "scrolled": true
   },
   "outputs": [],
   "source": [
    "train_p['cluster'].unique()"
   ]
  },
  {
   "cell_type": "markdown",
   "metadata": {},
   "source": [
    "# 전처리 완료한 데이터셋 csv 로 저장"
   ]
  },
  {
   "cell_type": "code",
   "execution_count": null,
   "metadata": {
    "scrolled": true
   },
   "outputs": [],
   "source": [
    "train['dt_of_athrztn'].isnull().sum()"
   ]
  },
  {
   "cell_type": "code",
   "execution_count": null,
   "metadata": {},
   "outputs": [],
   "source": [
    "# 필요한 컬럼만 불러오기 (건물용도 포함)\n",
    "columns = ['id', 'tag'\n",
    "           # 날짜\n",
    "           , 'year', 'month', 'day', 'dayofweek', 'year-month', 'year-month-day', 'hour', 'minute', 'second'\n",
    "          # 건물 용도\n",
    "           , 'jmk'\n",
    "          # 건물 용도 (전처리 안됨)\n",
    "#            , 'bldng_us', 'bldng_archtctr', 'bldng_us_clssfctn', 'dt_of_athrztn'\n",
    "          # 건물 정보 (전처리 안됨)\n",
    "#            ,   'ttl_grnd_flr', 'ttl_dwn_flr'\n",
    "           , 'lnd_ar', 'ttl_ar', 'bldng_cnt', 'bldng_ar'\n",
    "           # 다중이용업소\n",
    "           , 'mlt_us_yn(encode)'\n",
    "          # 날씨 정보\n",
    "           , 'tmprtr', 'wnd_spd', 'wnd_drctn', 'hmdt'\n",
    "          # 행정구역 정보\n",
    "           , 'address', 'address1', 'address2', 'hm_cnt'\n",
    "          # 도심과 가까운 정도\n",
    "           , 'fr_sttn_dstnc', 'fr_wthr_fclt_dstnc', 'cctv_dstnc', 'cctv_in_100m', 'fr_mn_cnt'\n",
    "           , 'fr_wthr_fclt_in_100m', 'tbc_rtl_str_dstnc', 'sft_emrgnc_bll_dstnc', 'ahsm_dstnc'\n",
    "           , 'no_tbc_zn_dstnc', 'bldng_cnt_in_50m'\n",
    "          # 화재발생 여부\n",
    "           , 'fire_yes'\n",
    "          ]\n",
    "\n",
    "columns_test = list(set(columns) - set(['fire_yes']))\n",
    "print(len(columns))\n",
    "print(len(columns_test))\n",
    "print(df[columns].shape)\n",
    "df[columns].sample()"
   ]
  },
  {
   "cell_type": "code",
   "execution_count": null,
   "metadata": {},
   "outputs": [],
   "source": [
    "train = df[df['tag'] == 'train'][columns]\n",
    "test = df[df['tag'] == 'test'][columns_test]\n",
    "valid = df[df['tag'] == 'valid'][columns]\n",
    "\n",
    "print(train.shape)\n",
    "print(test.shape)\n",
    "print(valid.shape)"
   ]
  },
  {
   "cell_type": "code",
   "execution_count": null,
   "metadata": {},
   "outputs": [],
   "source": [
    "train.to_csv('../Data/train_preprocess.csv', index=False)\n",
    "test.to_csv('../Data/test_preprocess.csv', index=False)\n",
    "valid.to_csv('../Data/valid_preprocess.csv', index=False)"
   ]
  },
  {
   "cell_type": "code",
   "execution_count": null,
   "metadata": {},
   "outputs": [],
   "source": [
    "# 잘 저장됐는지 확인\n",
    "# pd.read_csv('../Data/train_preprocess.csv')\n",
    "# pd.read_csv('../Data/test_preprocess.csv')\n",
    "# pd.read_csv('../Data/valid_preprocess.csv')"
   ]
  },
  {
   "cell_type": "code",
   "execution_count": null,
   "metadata": {},
   "outputs": [],
   "source": []
  },
  {
   "cell_type": "code",
   "execution_count": null,
   "metadata": {},
   "outputs": [],
   "source": []
  },
  {
   "cell_type": "markdown",
   "metadata": {},
   "source": [
    "# 카테고리컬 데이터 변경"
   ]
  },
  {
   "cell_type": "code",
   "execution_count": null,
   "metadata": {},
   "outputs": [],
   "source": [
    "df_origin = df.copy()"
   ]
  },
  {
   "cell_type": "code",
   "execution_count": null,
   "metadata": {},
   "outputs": [],
   "source": [
    "categorical_cols = df.select_dtypes(['object']).columns\n",
    "for col in categorical_cols:\n",
    "    df[col] = pd.Categorical(df[col]).codes\n"
   ]
  },
  {
   "cell_type": "code",
   "execution_count": null,
   "metadata": {},
   "outputs": [],
   "source": [
    "object_col = list(df_origin.select_dtypes(['object']).columns)"
   ]
  },
  {
   "cell_type": "code",
   "execution_count": null,
   "metadata": {},
   "outputs": [],
   "source": [
    "object_col.append('id')"
   ]
  },
  {
   "cell_type": "code",
   "execution_count": null,
   "metadata": {
    "scrolled": false
   },
   "outputs": [],
   "source": [
    "object_col"
   ]
  },
  {
   "cell_type": "code",
   "execution_count": null,
   "metadata": {
    "scrolled": true
   },
   "outputs": [],
   "source": [
    "df.merge(df_origin[object_col]"
   ]
  }
 ],
 "metadata": {
  "kernelspec": {
   "display_name": "Python 3",
   "language": "python",
   "name": "python3"
  },
  "language_info": {
   "codemirror_mode": {
    "name": "ipython",
    "version": 3
   },
   "file_extension": ".py",
   "mimetype": "text/x-python",
   "name": "python",
   "nbconvert_exporter": "python",
   "pygments_lexer": "ipython3",
   "version": "3.7.3"
  }
 },
 "nbformat": 4,
 "nbformat_minor": 2
}
