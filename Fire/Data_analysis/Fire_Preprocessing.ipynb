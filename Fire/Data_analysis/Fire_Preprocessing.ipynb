{
 "cells": [
  {
   "cell_type": "code",
   "execution_count": 1,
   "metadata": {},
   "outputs": [],
   "source": [
    "import pandas as pd\n",
    "import numpy as np\n",
    "import matplotlib\n",
    "import matplotlib.pyplot as plt\n",
    "import seaborn as sns"
   ]
  },
  {
   "cell_type": "code",
   "execution_count": 2,
   "metadata": {},
   "outputs": [],
   "source": [
    "import warnings\n",
    "warnings.filterwarnings('ignore')"
   ]
  },
  {
   "cell_type": "code",
   "execution_count": 3,
   "metadata": {
    "scrolled": false
   },
   "outputs": [
    {
     "name": "stdout",
     "output_type": "stream",
     "text": [
      "train (59199, 172)\n",
      "test (2957, 171)\n",
      "valid (6898, 172)\n"
     ]
    },
    {
     "data": {
      "text/html": [
       "<div>\n",
       "<style scoped>\n",
       "    .dataframe tbody tr th:only-of-type {\n",
       "        vertical-align: middle;\n",
       "    }\n",
       "\n",
       "    .dataframe tbody tr th {\n",
       "        vertical-align: top;\n",
       "    }\n",
       "\n",
       "    .dataframe thead th {\n",
       "        text-align: right;\n",
       "    }\n",
       "</style>\n",
       "<table border=\"1\" class=\"dataframe\">\n",
       "  <thead>\n",
       "    <tr style=\"text-align: right;\">\n",
       "      <th></th>\n",
       "      <th>id</th>\n",
       "      <th>dt_of_fr</th>\n",
       "      <th>bldng_us</th>\n",
       "      <th>bldng_archtctr</th>\n",
       "      <th>bldng_cnt</th>\n",
       "      <th>bldng_ar</th>\n",
       "      <th>ttl_ar</th>\n",
       "      <th>lnd_ar</th>\n",
       "      <th>dt_of_athrztn</th>\n",
       "      <th>ttl_grnd_flr</th>\n",
       "      <th>...</th>\n",
       "      <th>mlt_us_yn</th>\n",
       "      <th>cctv_dstnc</th>\n",
       "      <th>cctv_in_100m</th>\n",
       "      <th>fr_wthr_fclt_in_100m</th>\n",
       "      <th>tbc_rtl_str_dstnc</th>\n",
       "      <th>sft_emrgnc_bll_dstnc</th>\n",
       "      <th>ahsm_dstnc</th>\n",
       "      <th>no_tbc_zn_dstnc</th>\n",
       "      <th>bldng_cnt_in_50m</th>\n",
       "      <th>fr_yn</th>\n",
       "    </tr>\n",
       "  </thead>\n",
       "  <tbody>\n",
       "    <tr>\n",
       "      <th>30117</th>\n",
       "      <td>120650</td>\n",
       "      <td>2015-04-01 16:03:16</td>\n",
       "      <td>NaN</td>\n",
       "      <td>NaN</td>\n",
       "      <td>2</td>\n",
       "      <td>0.0</td>\n",
       "      <td>0.0</td>\n",
       "      <td>0.0</td>\n",
       "      <td>NaN</td>\n",
       "      <td>NaN</td>\n",
       "      <td>...</td>\n",
       "      <td>N</td>\n",
       "      <td>602</td>\n",
       "      <td>0</td>\n",
       "      <td>0</td>\n",
       "      <td>5962</td>\n",
       "      <td>31499</td>\n",
       "      <td>26147</td>\n",
       "      <td>3427</td>\n",
       "      <td>1</td>\n",
       "      <td>N</td>\n",
       "    </tr>\n",
       "  </tbody>\n",
       "</table>\n",
       "<p>1 rows × 172 columns</p>\n",
       "</div>"
      ],
      "text/plain": [
       "           id             dt_of_fr bldng_us bldng_archtctr  bldng_cnt  \\\n",
       "30117  120650  2015-04-01 16:03:16      NaN            NaN          2   \n",
       "\n",
       "       bldng_ar  ttl_ar  lnd_ar dt_of_athrztn  ttl_grnd_flr  ...  mlt_us_yn  \\\n",
       "30117       0.0     0.0     0.0           NaN           NaN  ...          N   \n",
       "\n",
       "      cctv_dstnc  cctv_in_100m  fr_wthr_fclt_in_100m  tbc_rtl_str_dstnc  \\\n",
       "30117        602             0                     0               5962   \n",
       "\n",
       "       sft_emrgnc_bll_dstnc  ahsm_dstnc  no_tbc_zn_dstnc  bldng_cnt_in_50m  \\\n",
       "30117                 31499       26147             3427                 1   \n",
       "\n",
       "       fr_yn  \n",
       "30117      N  \n",
       "\n",
       "[1 rows x 172 columns]"
      ]
     },
     "execution_count": 3,
     "metadata": {},
     "output_type": "execute_result"
    }
   ],
   "source": [
    "train = pd.read_csv('../Data/PJT002_train.csv')\n",
    "test = pd.read_csv('../Data/PJT002_test.csv')\n",
    "valid = pd.read_csv('../Data/PJT002_validation.csv')\n",
    "\n",
    "print('train', train.shape)\n",
    "print('test', test.shape)\n",
    "print('valid', valid.shape)\n",
    "\n",
    "train.sample()"
   ]
  },
  {
   "cell_type": "code",
   "execution_count": 4,
   "metadata": {},
   "outputs": [
    {
     "data": {
      "text/html": [
       "<div>\n",
       "<style scoped>\n",
       "    .dataframe tbody tr th:only-of-type {\n",
       "        vertical-align: middle;\n",
       "    }\n",
       "\n",
       "    .dataframe tbody tr th {\n",
       "        vertical-align: top;\n",
       "    }\n",
       "\n",
       "    .dataframe thead th {\n",
       "        text-align: right;\n",
       "    }\n",
       "</style>\n",
       "<table border=\"1\" class=\"dataframe\">\n",
       "  <thead>\n",
       "    <tr style=\"text-align: right;\">\n",
       "      <th></th>\n",
       "      <th>ahsm_dstnc</th>\n",
       "      <th>bldng_ar</th>\n",
       "      <th>bldng_ar_prc</th>\n",
       "      <th>bldng_archtctr</th>\n",
       "      <th>bldng_cnt</th>\n",
       "      <th>bldng_cnt_in_50m</th>\n",
       "      <th>bldng_us</th>\n",
       "      <th>bldng_us_clssfctn</th>\n",
       "      <th>cctv_dstnc</th>\n",
       "      <th>cctv_in_100m</th>\n",
       "      <th>...</th>\n",
       "      <th>rgnl_ar_nm2</th>\n",
       "      <th>sft_emrgnc_bll_dstnc</th>\n",
       "      <th>tag</th>\n",
       "      <th>tbc_rtl_str_dstnc</th>\n",
       "      <th>tmprtr</th>\n",
       "      <th>ttl_ar</th>\n",
       "      <th>ttl_dwn_flr</th>\n",
       "      <th>ttl_grnd_flr</th>\n",
       "      <th>wnd_drctn</th>\n",
       "      <th>wnd_spd</th>\n",
       "    </tr>\n",
       "  </thead>\n",
       "  <tbody>\n",
       "    <tr>\n",
       "      <th>46319</th>\n",
       "      <td>4735</td>\n",
       "      <td>0.0</td>\n",
       "      <td>385135.0</td>\n",
       "      <td>NaN</td>\n",
       "      <td>1</td>\n",
       "      <td>3</td>\n",
       "      <td>NaN</td>\n",
       "      <td>NaN</td>\n",
       "      <td>8551</td>\n",
       "      <td>0</td>\n",
       "      <td>...</td>\n",
       "      <td>지정되지않음</td>\n",
       "      <td>84183</td>\n",
       "      <td>train</td>\n",
       "      <td>366</td>\n",
       "      <td>29.7</td>\n",
       "      <td>0.0</td>\n",
       "      <td>NaN</td>\n",
       "      <td>NaN</td>\n",
       "      <td>230.0</td>\n",
       "      <td>1.4</td>\n",
       "    </tr>\n",
       "  </tbody>\n",
       "</table>\n",
       "<p>1 rows × 173 columns</p>\n",
       "</div>"
      ],
      "text/plain": [
       "       ahsm_dstnc  bldng_ar  bldng_ar_prc bldng_archtctr  bldng_cnt  \\\n",
       "46319        4735       0.0      385135.0            NaN          1   \n",
       "\n",
       "       bldng_cnt_in_50m bldng_us bldng_us_clssfctn  cctv_dstnc  cctv_in_100m  \\\n",
       "46319                 3      NaN               NaN        8551             0   \n",
       "\n",
       "       ... rgnl_ar_nm2 sft_emrgnc_bll_dstnc    tag  tbc_rtl_str_dstnc  tmprtr  \\\n",
       "46319  ...      지정되지않음                84183  train                366    29.7   \n",
       "\n",
       "       ttl_ar  ttl_dwn_flr  ttl_grnd_flr  wnd_drctn  wnd_spd  \n",
       "46319     0.0          NaN           NaN      230.0      1.4  \n",
       "\n",
       "[1 rows x 173 columns]"
      ]
     },
     "execution_count": 4,
     "metadata": {},
     "output_type": "execute_result"
    }
   ],
   "source": [
    "# train-test-valid 데이터셋 모두 합쳐서 전처리\n",
    "train['tag'] = 'train'\n",
    "test['tag'] = 'test'\n",
    "valid['tag'] = 'valid'\n",
    "\n",
    "df = pd.concat([train, test, valid])\n",
    "df.sample()"
   ]
  },
  {
   "cell_type": "code",
   "execution_count": 5,
   "metadata": {
    "collapsed": true
   },
   "outputs": [
    {
     "data": {
      "text/html": [
       "<div>\n",
       "<style scoped>\n",
       "    .dataframe tbody tr th:only-of-type {\n",
       "        vertical-align: middle;\n",
       "    }\n",
       "\n",
       "    .dataframe tbody tr th {\n",
       "        vertical-align: top;\n",
       "    }\n",
       "\n",
       "    .dataframe thead th {\n",
       "        text-align: right;\n",
       "    }\n",
       "</style>\n",
       "<table border=\"1\" class=\"dataframe\">\n",
       "  <thead>\n",
       "    <tr style=\"text-align: right;\">\n",
       "      <th></th>\n",
       "      <th>0</th>\n",
       "    </tr>\n",
       "  </thead>\n",
       "  <tbody>\n",
       "    <tr>\n",
       "      <th>0</th>\n",
       "      <td>ahsm_dstnc</td>\n",
       "    </tr>\n",
       "    <tr>\n",
       "      <th>1</th>\n",
       "      <td>bldng_ar</td>\n",
       "    </tr>\n",
       "    <tr>\n",
       "      <th>2</th>\n",
       "      <td>bldng_ar_prc</td>\n",
       "    </tr>\n",
       "    <tr>\n",
       "      <th>3</th>\n",
       "      <td>bldng_archtctr</td>\n",
       "    </tr>\n",
       "    <tr>\n",
       "      <th>4</th>\n",
       "      <td>bldng_cnt</td>\n",
       "    </tr>\n",
       "    <tr>\n",
       "      <th>5</th>\n",
       "      <td>bldng_cnt_in_50m</td>\n",
       "    </tr>\n",
       "    <tr>\n",
       "      <th>6</th>\n",
       "      <td>bldng_us</td>\n",
       "    </tr>\n",
       "    <tr>\n",
       "      <th>7</th>\n",
       "      <td>bldng_us_clssfctn</td>\n",
       "    </tr>\n",
       "    <tr>\n",
       "      <th>8</th>\n",
       "      <td>cctv_dstnc</td>\n",
       "    </tr>\n",
       "    <tr>\n",
       "      <th>9</th>\n",
       "      <td>cctv_in_100m</td>\n",
       "    </tr>\n",
       "    <tr>\n",
       "      <th>10</th>\n",
       "      <td>dt_of_athrztn</td>\n",
       "    </tr>\n",
       "    <tr>\n",
       "      <th>11</th>\n",
       "      <td>dt_of_fr</td>\n",
       "    </tr>\n",
       "    <tr>\n",
       "      <th>12</th>\n",
       "      <td>ele_engry_us_201401</td>\n",
       "    </tr>\n",
       "    <tr>\n",
       "      <th>13</th>\n",
       "      <td>ele_engry_us_201402</td>\n",
       "    </tr>\n",
       "    <tr>\n",
       "      <th>14</th>\n",
       "      <td>ele_engry_us_201403</td>\n",
       "    </tr>\n",
       "    <tr>\n",
       "      <th>15</th>\n",
       "      <td>ele_engry_us_201404</td>\n",
       "    </tr>\n",
       "    <tr>\n",
       "      <th>16</th>\n",
       "      <td>ele_engry_us_201405</td>\n",
       "    </tr>\n",
       "    <tr>\n",
       "      <th>17</th>\n",
       "      <td>ele_engry_us_201406</td>\n",
       "    </tr>\n",
       "    <tr>\n",
       "      <th>18</th>\n",
       "      <td>ele_engry_us_201407</td>\n",
       "    </tr>\n",
       "    <tr>\n",
       "      <th>19</th>\n",
       "      <td>ele_engry_us_201408</td>\n",
       "    </tr>\n",
       "    <tr>\n",
       "      <th>20</th>\n",
       "      <td>ele_engry_us_201409</td>\n",
       "    </tr>\n",
       "    <tr>\n",
       "      <th>21</th>\n",
       "      <td>ele_engry_us_201410</td>\n",
       "    </tr>\n",
       "    <tr>\n",
       "      <th>22</th>\n",
       "      <td>ele_engry_us_201411</td>\n",
       "    </tr>\n",
       "    <tr>\n",
       "      <th>23</th>\n",
       "      <td>ele_engry_us_201412</td>\n",
       "    </tr>\n",
       "    <tr>\n",
       "      <th>24</th>\n",
       "      <td>ele_engry_us_201501</td>\n",
       "    </tr>\n",
       "    <tr>\n",
       "      <th>25</th>\n",
       "      <td>ele_engry_us_201502</td>\n",
       "    </tr>\n",
       "    <tr>\n",
       "      <th>26</th>\n",
       "      <td>ele_engry_us_201503</td>\n",
       "    </tr>\n",
       "    <tr>\n",
       "      <th>27</th>\n",
       "      <td>ele_engry_us_201504</td>\n",
       "    </tr>\n",
       "    <tr>\n",
       "      <th>28</th>\n",
       "      <td>ele_engry_us_201505</td>\n",
       "    </tr>\n",
       "    <tr>\n",
       "      <th>29</th>\n",
       "      <td>ele_engry_us_201506</td>\n",
       "    </tr>\n",
       "    <tr>\n",
       "      <th>...</th>\n",
       "      <td>...</td>\n",
       "    </tr>\n",
       "    <tr>\n",
       "      <th>143</th>\n",
       "      <td>lnd_us_sttn_nm</td>\n",
       "    </tr>\n",
       "    <tr>\n",
       "      <th>144</th>\n",
       "      <td>lw_13101010</td>\n",
       "    </tr>\n",
       "    <tr>\n",
       "      <th>145</th>\n",
       "      <td>lw_13101110</td>\n",
       "    </tr>\n",
       "    <tr>\n",
       "      <th>146</th>\n",
       "      <td>lw_13101210</td>\n",
       "    </tr>\n",
       "    <tr>\n",
       "      <th>147</th>\n",
       "      <td>lw_13101211</td>\n",
       "    </tr>\n",
       "    <tr>\n",
       "      <th>148</th>\n",
       "      <td>lw_13101310</td>\n",
       "    </tr>\n",
       "    <tr>\n",
       "      <th>149</th>\n",
       "      <td>lw_13101410</td>\n",
       "    </tr>\n",
       "    <tr>\n",
       "      <th>150</th>\n",
       "      <td>lw_13111010</td>\n",
       "    </tr>\n",
       "    <tr>\n",
       "      <th>151</th>\n",
       "      <td>lw_13111110</td>\n",
       "    </tr>\n",
       "    <tr>\n",
       "      <th>152</th>\n",
       "      <td>lw_13121010</td>\n",
       "    </tr>\n",
       "    <tr>\n",
       "      <th>153</th>\n",
       "      <td>lw_13121011</td>\n",
       "    </tr>\n",
       "    <tr>\n",
       "      <th>154</th>\n",
       "      <td>lw_13131010</td>\n",
       "    </tr>\n",
       "    <tr>\n",
       "      <th>155</th>\n",
       "      <td>lw_13131110</td>\n",
       "    </tr>\n",
       "    <tr>\n",
       "      <th>156</th>\n",
       "      <td>lw_13141010</td>\n",
       "    </tr>\n",
       "    <tr>\n",
       "      <th>157</th>\n",
       "      <td>lw_13141011</td>\n",
       "    </tr>\n",
       "    <tr>\n",
       "      <th>158</th>\n",
       "      <td>mlt_us_yn</td>\n",
       "    </tr>\n",
       "    <tr>\n",
       "      <th>159</th>\n",
       "      <td>no_tbc_zn_dstnc</td>\n",
       "    </tr>\n",
       "    <tr>\n",
       "      <th>160</th>\n",
       "      <td>prcpttn</td>\n",
       "    </tr>\n",
       "    <tr>\n",
       "      <th>161</th>\n",
       "      <td>rd_sd_nm</td>\n",
       "    </tr>\n",
       "    <tr>\n",
       "      <th>162</th>\n",
       "      <td>rgnl_ar_nm</td>\n",
       "    </tr>\n",
       "    <tr>\n",
       "      <th>163</th>\n",
       "      <td>rgnl_ar_nm2</td>\n",
       "    </tr>\n",
       "    <tr>\n",
       "      <th>164</th>\n",
       "      <td>sft_emrgnc_bll_dstnc</td>\n",
       "    </tr>\n",
       "    <tr>\n",
       "      <th>165</th>\n",
       "      <td>tag</td>\n",
       "    </tr>\n",
       "    <tr>\n",
       "      <th>166</th>\n",
       "      <td>tbc_rtl_str_dstnc</td>\n",
       "    </tr>\n",
       "    <tr>\n",
       "      <th>167</th>\n",
       "      <td>tmprtr</td>\n",
       "    </tr>\n",
       "    <tr>\n",
       "      <th>168</th>\n",
       "      <td>ttl_ar</td>\n",
       "    </tr>\n",
       "    <tr>\n",
       "      <th>169</th>\n",
       "      <td>ttl_dwn_flr</td>\n",
       "    </tr>\n",
       "    <tr>\n",
       "      <th>170</th>\n",
       "      <td>ttl_grnd_flr</td>\n",
       "    </tr>\n",
       "    <tr>\n",
       "      <th>171</th>\n",
       "      <td>wnd_drctn</td>\n",
       "    </tr>\n",
       "    <tr>\n",
       "      <th>172</th>\n",
       "      <td>wnd_spd</td>\n",
       "    </tr>\n",
       "  </tbody>\n",
       "</table>\n",
       "<p>173 rows × 1 columns</p>\n",
       "</div>"
      ],
      "text/plain": [
       "                        0\n",
       "0              ahsm_dstnc\n",
       "1                bldng_ar\n",
       "2            bldng_ar_prc\n",
       "3          bldng_archtctr\n",
       "4               bldng_cnt\n",
       "5        bldng_cnt_in_50m\n",
       "6                bldng_us\n",
       "7       bldng_us_clssfctn\n",
       "8              cctv_dstnc\n",
       "9            cctv_in_100m\n",
       "10          dt_of_athrztn\n",
       "11               dt_of_fr\n",
       "12    ele_engry_us_201401\n",
       "13    ele_engry_us_201402\n",
       "14    ele_engry_us_201403\n",
       "15    ele_engry_us_201404\n",
       "16    ele_engry_us_201405\n",
       "17    ele_engry_us_201406\n",
       "18    ele_engry_us_201407\n",
       "19    ele_engry_us_201408\n",
       "20    ele_engry_us_201409\n",
       "21    ele_engry_us_201410\n",
       "22    ele_engry_us_201411\n",
       "23    ele_engry_us_201412\n",
       "24    ele_engry_us_201501\n",
       "25    ele_engry_us_201502\n",
       "26    ele_engry_us_201503\n",
       "27    ele_engry_us_201504\n",
       "28    ele_engry_us_201505\n",
       "29    ele_engry_us_201506\n",
       "..                    ...\n",
       "143        lnd_us_sttn_nm\n",
       "144           lw_13101010\n",
       "145           lw_13101110\n",
       "146           lw_13101210\n",
       "147           lw_13101211\n",
       "148           lw_13101310\n",
       "149           lw_13101410\n",
       "150           lw_13111010\n",
       "151           lw_13111110\n",
       "152           lw_13121010\n",
       "153           lw_13121011\n",
       "154           lw_13131010\n",
       "155           lw_13131110\n",
       "156           lw_13141010\n",
       "157           lw_13141011\n",
       "158             mlt_us_yn\n",
       "159       no_tbc_zn_dstnc\n",
       "160               prcpttn\n",
       "161              rd_sd_nm\n",
       "162            rgnl_ar_nm\n",
       "163           rgnl_ar_nm2\n",
       "164  sft_emrgnc_bll_dstnc\n",
       "165                   tag\n",
       "166     tbc_rtl_str_dstnc\n",
       "167                tmprtr\n",
       "168                ttl_ar\n",
       "169           ttl_dwn_flr\n",
       "170          ttl_grnd_flr\n",
       "171             wnd_drctn\n",
       "172               wnd_spd\n",
       "\n",
       "[173 rows x 1 columns]"
      ]
     },
     "execution_count": 5,
     "metadata": {},
     "output_type": "execute_result"
    }
   ],
   "source": [
    "# 컬럼명 확인\n",
    "pd.DataFrame(df.columns)"
   ]
  },
  {
   "cell_type": "markdown",
   "metadata": {},
   "source": [
    "## Null 값 확인"
   ]
  },
  {
   "cell_type": "code",
   "execution_count": 6,
   "metadata": {
    "collapsed": true
   },
   "outputs": [
    {
     "data": {
      "text/plain": [
       "id                          0\n",
       "dt_of_fr                    0\n",
       "bldng_us                27677\n",
       "bldng_archtctr          27665\n",
       "bldng_cnt                   0\n",
       "bldng_ar                    0\n",
       "ttl_ar                      0\n",
       "lnd_ar                      0\n",
       "dt_of_athrztn           27581\n",
       "ttl_grnd_flr            10210\n",
       "ttl_dwn_flr             11005\n",
       "bldng_us_clssfctn       29343\n",
       "tmprtr                     13\n",
       "prcpttn                 53629\n",
       "wnd_spd                    33\n",
       "wnd_drctn                 221\n",
       "hmdt                       22\n",
       "gas_engry_us_201401     53825\n",
       "ele_engry_us_201401     43550\n",
       "gas_engry_us_201402     53825\n",
       "ele_engry_us_201402     43550\n",
       "gas_engry_us_201403     53825\n",
       "ele_engry_us_201403     43550\n",
       "gas_engry_us_201404     53825\n",
       "ele_engry_us_201404     43550\n",
       "gas_engry_us_201405     53825\n",
       "ele_engry_us_201405     43550\n",
       "gas_engry_us_201406     53825\n",
       "ele_engry_us_201406     43550\n",
       "gas_engry_us_201407     53825\n",
       "                        ...  \n",
       "lw_13111010             58899\n",
       "lw_13111110             58918\n",
       "lw_13121010             58926\n",
       "lw_13121011             58926\n",
       "lw_13131010             58903\n",
       "lw_13131110             58903\n",
       "lw_13141010             58907\n",
       "lw_13141011             58908\n",
       "jmk                         0\n",
       "rgnl_ar_nm               1491\n",
       "rgnl_ar_nm2              1491\n",
       "lnd_us_sttn_nm           1776\n",
       "rd_sd_nm                 1491\n",
       "emd_nm                      4\n",
       "hm_cnt                    701\n",
       "fr_sttn_dstnc               0\n",
       "bldng_ar_prc            21895\n",
       "fr_wthr_fclt_dstnc          0\n",
       "fr_mn_cnt                  41\n",
       "mlt_us_yn                   0\n",
       "cctv_dstnc                  0\n",
       "cctv_in_100m                0\n",
       "fr_wthr_fclt_in_100m        0\n",
       "tbc_rtl_str_dstnc           0\n",
       "sft_emrgnc_bll_dstnc        0\n",
       "ahsm_dstnc                  0\n",
       "no_tbc_zn_dstnc             0\n",
       "bldng_cnt_in_50m            0\n",
       "fr_yn                       0\n",
       "tag                         0\n",
       "Length: 173, dtype: int64"
      ]
     },
     "execution_count": 6,
     "metadata": {},
     "output_type": "execute_result"
    }
   ],
   "source": [
    "train.isnull().sum()"
   ]
  },
  {
   "cell_type": "markdown",
   "metadata": {},
   "source": [
    "- ['bldng_us_clssfctn', 29343]건물용도분류명(주거용)   \n",
    "- ['bldng_us', 27677]건물용도(단독주택)  \n",
    "- ['bldng_archtctr', 27665]건물구조(벽돌구조)  \n",
    "- ['dt_of_athrztn', 27581]건물승인일자(19850417)  \n",
    "- ['bldng_ar_prc', 21895]단위 면적당 건물 가격_2019년 기준(312411)  \n",
    "- ['ttl_dwn_flr', 11005]건물들의 지하 층수의 합(0)  \n",
    "- ['ttl_grnd_flr', 10210]건물들의 지상 층수의 합(4)  \n",
    "- ['lnd_us_sttn_nm', 1776]토지 이용상황명(전)\n",
    "- ['rd_sd_nm', 1491]도로측면명(맹지)  \n",
    "- ['rgnl_ar_nm2', 1491]용도지역지구명2(지정되지 않음)  \n",
    "- ['rgnl_ar_nm', 1491]용도지역지구명(개발제한구역)  \n",
    "- ['hm_cnt', 701]행정구역 인구(27312)  \n",
    "- ['wnd_drctn', 221]풍향(270)\n",
    "- ['fr_mn_cnt', 41]관할 소방서 인원(224)  \n",
    "- ['wnd_spd', 33]풍속(2.2)\n",
    "- ['hmdt', 22]습도(77)\n",
    "- ['tmprtr', 13]온도_c(4.4)  \n",
    "- ['emd_nm', 4]행정구역명(경상남도 진주시 판문동)  \n",
    "__________________________________________________\n",
    "- ['bldng_cnt_in_50m', 0]반경 50M 이내의 건물 수(23)  \n",
    "- ['no_tbc_zn_dstnc', 0]금연구역과의 최소 거리(235)  \n",
    "- ['fr_wthr_fclt_in_100m', 0]반경 100M 이내 소방용수 시설 수(2)  \n",
    "- ['ahsm_dstnc', 0]자동 심장 충격기와의 최소 거리(234)  \n",
    "- ['sft_emrgnc_bll_dstnc', 0]안전 비상벨과의 최소 거리(233)  \n",
    "- ['tbc_rtl_str_dstnc', 0]담배 소매점과의 최소 거리(232)  \n",
    "- ['cctv_in_100m', 0]반경 100M 이내 공공 CCTV(1)  \n",
    "- ['mlt_us_yn', 0]다중이용시설 포함여부(Y)  \n",
    "- ['cctv_dstnc', 0]공공 CCTV와의 최소 거리(232)  \n",
    "- ['fr_wthr_fclt_dstnc', 0]소방용수시설(소화전 등)과의 최소 거리(223)  \n",
    "- ['fr_sttn_dstnc', 0]119안전센터와의 거리(3222)  \n",
    "- ['jmk', 0]지적상 지목(답)  \n",
    "- [dt_of_fr', 0]화재발생일시(2014-03-18 15:23:18)  \n",
    "- ['lnd_ar', 0]토지면적(390)  \n",
    "- ['ttl_ar', 0]건물연면적_건물층별합계전체면적(130.845)  \n",
    "- ['bldng_ar', 0]건물건축면적(130.845)  \n",
    "- ['bldng_cnt', 0]건물채수(4)  "
   ]
  },
  {
   "cell_type": "markdown",
   "metadata": {},
   "source": [
    "## 전기/가스 사용량 컬럼 제외\n",
    "Null 값도 많고, 컬럼 수가 너무 많아서 제외"
   ]
  },
  {
   "cell_type": "code",
   "execution_count": 7,
   "metadata": {},
   "outputs": [
    {
     "data": {
      "text/html": [
       "<div>\n",
       "<style scoped>\n",
       "    .dataframe tbody tr th:only-of-type {\n",
       "        vertical-align: middle;\n",
       "    }\n",
       "\n",
       "    .dataframe tbody tr th {\n",
       "        vertical-align: top;\n",
       "    }\n",
       "\n",
       "    .dataframe thead th {\n",
       "        text-align: right;\n",
       "    }\n",
       "</style>\n",
       "<table border=\"1\" class=\"dataframe\">\n",
       "  <thead>\n",
       "    <tr style=\"text-align: right;\">\n",
       "      <th></th>\n",
       "      <th>id</th>\n",
       "      <th>dt_of_fr</th>\n",
       "      <th>bldng_us</th>\n",
       "      <th>bldng_archtctr</th>\n",
       "      <th>bldng_cnt</th>\n",
       "      <th>bldng_ar</th>\n",
       "      <th>ttl_ar</th>\n",
       "      <th>lnd_ar</th>\n",
       "      <th>dt_of_athrztn</th>\n",
       "      <th>ttl_grnd_flr</th>\n",
       "      <th>...</th>\n",
       "      <th>cctv_dstnc</th>\n",
       "      <th>cctv_in_100m</th>\n",
       "      <th>fr_mn_cnt</th>\n",
       "      <th>fr_wthr_fclt_in_100m</th>\n",
       "      <th>tbc_rtl_str_dstnc</th>\n",
       "      <th>sft_emrgnc_bll_dstnc</th>\n",
       "      <th>ahsm_dstnc</th>\n",
       "      <th>no_tbc_zn_dstnc</th>\n",
       "      <th>bldng_cnt_in_50m</th>\n",
       "      <th>fr_yn</th>\n",
       "    </tr>\n",
       "  </thead>\n",
       "  <tbody>\n",
       "    <tr>\n",
       "      <th>27083</th>\n",
       "      <td>78352</td>\n",
       "      <td>2017-07-10 19:14:40</td>\n",
       "      <td>NaN</td>\n",
       "      <td>NaN</td>\n",
       "      <td>1</td>\n",
       "      <td>115.62</td>\n",
       "      <td>324.57</td>\n",
       "      <td>268.3</td>\n",
       "      <td>NaN</td>\n",
       "      <td>2.0</td>\n",
       "      <td>...</td>\n",
       "      <td>67</td>\n",
       "      <td>2</td>\n",
       "      <td>176.0</td>\n",
       "      <td>0</td>\n",
       "      <td>174</td>\n",
       "      <td>10662</td>\n",
       "      <td>246</td>\n",
       "      <td>154</td>\n",
       "      <td>13</td>\n",
       "      <td>N</td>\n",
       "    </tr>\n",
       "  </tbody>\n",
       "</table>\n",
       "<p>1 rows × 33 columns</p>\n",
       "</div>"
      ],
      "text/plain": [
       "          id             dt_of_fr bldng_us bldng_archtctr  bldng_cnt  \\\n",
       "27083  78352  2017-07-10 19:14:40      NaN            NaN          1   \n",
       "\n",
       "       bldng_ar  ttl_ar  lnd_ar dt_of_athrztn  ttl_grnd_flr  ...  cctv_dstnc  \\\n",
       "27083    115.62  324.57   268.3           NaN           2.0  ...          67   \n",
       "\n",
       "      cctv_in_100m  fr_mn_cnt  fr_wthr_fclt_in_100m  tbc_rtl_str_dstnc  \\\n",
       "27083            2      176.0                     0                174   \n",
       "\n",
       "       sft_emrgnc_bll_dstnc  ahsm_dstnc no_tbc_zn_dstnc bldng_cnt_in_50m  \\\n",
       "27083                 10662         246             154               13   \n",
       "\n",
       "       fr_yn  \n",
       "27083      N  \n",
       "\n",
       "[1 rows x 33 columns]"
      ]
     },
     "execution_count": 7,
     "metadata": {},
     "output_type": "execute_result"
    }
   ],
   "source": [
    "columns = ['id', 'dt_of_fr', 'bldng_us', 'bldng_archtctr', 'bldng_cnt'\n",
    "           , 'bldng_ar', 'ttl_ar', 'lnd_ar', 'dt_of_athrztn', 'ttl_grnd_flr'\n",
    "           , 'ttl_dwn_flr', 'bldng_us_clssfctn', 'tmprtr', 'prcpttn'\n",
    "           , 'wnd_spd', 'wnd_drctn', 'hmdt'\n",
    "           , 'jmk' \n",
    "           , 'emd_nm', 'hm_cnt'\n",
    "           , 'fr_sttn_dstnc', 'fr_wthr_fclt_dstnc'\n",
    "           , 'mlt_us_yn', 'cctv_dstnc', 'cctv_in_100m', 'fr_mn_cnt'\n",
    "           , 'fr_wthr_fclt_in_100m', 'tbc_rtl_str_dstnc', 'sft_emrgnc_bll_dstnc'\n",
    "           , 'ahsm_dstnc', 'no_tbc_zn_dstnc', 'bldng_cnt_in_50m', 'fr_yn'\n",
    "          ]\n",
    "\n",
    "df = train[columns]\n",
    "df.sample()"
   ]
  },
  {
   "cell_type": "markdown",
   "metadata": {},
   "source": [
    "# PreProcessing"
   ]
  },
  {
   "cell_type": "markdown",
   "metadata": {},
   "source": [
    "## One Hot Encoding) fr_yn 화재발생여부\n",
    "- Y: 1\n",
    "- N: 0"
   ]
  },
  {
   "cell_type": "code",
   "execution_count": 8,
   "metadata": {},
   "outputs": [
    {
     "data": {
      "text/plain": [
       "array(['N', 'Y'], dtype=object)"
      ]
     },
     "execution_count": 8,
     "metadata": {},
     "output_type": "execute_result"
    }
   ],
   "source": [
    "df['fr_yn'].unique()"
   ]
  },
  {
   "cell_type": "code",
   "execution_count": 9,
   "metadata": {},
   "outputs": [
    {
     "data": {
      "text/html": [
       "<div>\n",
       "<style scoped>\n",
       "    .dataframe tbody tr th:only-of-type {\n",
       "        vertical-align: middle;\n",
       "    }\n",
       "\n",
       "    .dataframe tbody tr th {\n",
       "        vertical-align: top;\n",
       "    }\n",
       "\n",
       "    .dataframe thead th {\n",
       "        text-align: right;\n",
       "    }\n",
       "</style>\n",
       "<table border=\"1\" class=\"dataframe\">\n",
       "  <thead>\n",
       "    <tr style=\"text-align: right;\">\n",
       "      <th></th>\n",
       "      <th>fr_yn</th>\n",
       "      <th>fire_yes</th>\n",
       "    </tr>\n",
       "  </thead>\n",
       "  <tbody>\n",
       "    <tr>\n",
       "      <th>14712</th>\n",
       "      <td>N</td>\n",
       "      <td>False</td>\n",
       "    </tr>\n",
       "  </tbody>\n",
       "</table>\n",
       "</div>"
      ],
      "text/plain": [
       "      fr_yn  fire_yes\n",
       "14712     N     False"
      ]
     },
     "execution_count": 9,
     "metadata": {},
     "output_type": "execute_result"
    }
   ],
   "source": [
    "df['fire_yes'] = (df['fr_yn'] == 'Y')\n",
    "\n",
    "df[['fr_yn', 'fire_yes']].sample()"
   ]
  },
  {
   "cell_type": "markdown",
   "metadata": {},
   "source": [
    "## One Hot Encoding) mlt_us_yn 다중이용시설 포함여부"
   ]
  },
  {
   "cell_type": "code",
   "execution_count": 10,
   "metadata": {},
   "outputs": [
    {
     "data": {
      "text/plain": [
       "array(['N', 'Y'], dtype=object)"
      ]
     },
     "execution_count": 10,
     "metadata": {},
     "output_type": "execute_result"
    }
   ],
   "source": [
    "df['mlt_us_yn'].unique()"
   ]
  },
  {
   "cell_type": "code",
   "execution_count": 11,
   "metadata": {},
   "outputs": [
    {
     "data": {
      "text/html": [
       "<div>\n",
       "<style scoped>\n",
       "    .dataframe tbody tr th:only-of-type {\n",
       "        vertical-align: middle;\n",
       "    }\n",
       "\n",
       "    .dataframe tbody tr th {\n",
       "        vertical-align: top;\n",
       "    }\n",
       "\n",
       "    .dataframe thead th {\n",
       "        text-align: right;\n",
       "    }\n",
       "</style>\n",
       "<table border=\"1\" class=\"dataframe\">\n",
       "  <thead>\n",
       "    <tr style=\"text-align: right;\">\n",
       "      <th></th>\n",
       "      <th>mlt_us_yn</th>\n",
       "      <th>mlt_us_yn(encode)</th>\n",
       "    </tr>\n",
       "  </thead>\n",
       "  <tbody>\n",
       "    <tr>\n",
       "      <th>40670</th>\n",
       "      <td>N</td>\n",
       "      <td>False</td>\n",
       "    </tr>\n",
       "  </tbody>\n",
       "</table>\n",
       "</div>"
      ],
      "text/plain": [
       "      mlt_us_yn  mlt_us_yn(encode)\n",
       "40670         N              False"
      ]
     },
     "execution_count": 11,
     "metadata": {},
     "output_type": "execute_result"
    }
   ],
   "source": [
    "df['mlt_us_yn(encode)'] = df['mlt_us_yn'] == 'Y'\n",
    "\n",
    "df[['mlt_us_yn', 'mlt_us_yn(encode)']].sample()"
   ]
  },
  {
   "cell_type": "code",
   "execution_count": 12,
   "metadata": {},
   "outputs": [
    {
     "data": {
      "text/html": [
       "<div>\n",
       "<style scoped>\n",
       "    .dataframe tbody tr th:only-of-type {\n",
       "        vertical-align: middle;\n",
       "    }\n",
       "\n",
       "    .dataframe tbody tr th {\n",
       "        vertical-align: top;\n",
       "    }\n",
       "\n",
       "    .dataframe thead th {\n",
       "        text-align: right;\n",
       "    }\n",
       "</style>\n",
       "<table border=\"1\" class=\"dataframe\">\n",
       "  <thead>\n",
       "    <tr style=\"text-align: right;\">\n",
       "      <th></th>\n",
       "      <th>mlt_us_yn(encode)</th>\n",
       "      <th>fire_yes</th>\n",
       "      <th>id</th>\n",
       "      <th>ratio</th>\n",
       "    </tr>\n",
       "  </thead>\n",
       "  <tbody>\n",
       "    <tr>\n",
       "      <th>0</th>\n",
       "      <td>False</td>\n",
       "      <td>7548.0</td>\n",
       "      <td>59010</td>\n",
       "      <td>12.791052</td>\n",
       "    </tr>\n",
       "    <tr>\n",
       "      <th>1</th>\n",
       "      <td>True</td>\n",
       "      <td>109.0</td>\n",
       "      <td>189</td>\n",
       "      <td>57.671958</td>\n",
       "    </tr>\n",
       "  </tbody>\n",
       "</table>\n",
       "</div>"
      ],
      "text/plain": [
       "   mlt_us_yn(encode)  fire_yes     id      ratio\n",
       "0              False    7548.0  59010  12.791052\n",
       "1               True     109.0    189  57.671958"
      ]
     },
     "execution_count": 12,
     "metadata": {},
     "output_type": "execute_result"
    }
   ],
   "source": [
    "data_fire = pd.DataFrame(df.groupby('mlt_us_yn(encode)')['fire_yes'].sum()).reset_index()\n",
    "data_all = pd.DataFrame(df.groupby('mlt_us_yn(encode)')['id'].count()).reset_index()\n",
    "data = data_fire.merge(data_all, on='mlt_us_yn(encode)')\n",
    "data['ratio'] = data['fire_yes'] * 100 / data['id']\n",
    "data"
   ]
  },
  {
   "cell_type": "markdown",
   "metadata": {},
   "source": [
    "## datetime Parsing) dt_of_fr 화재발생시점/관찰시점"
   ]
  },
  {
   "cell_type": "code",
   "execution_count": 13,
   "metadata": {},
   "outputs": [
    {
     "data": {
      "text/html": [
       "<div>\n",
       "<style scoped>\n",
       "    .dataframe tbody tr th:only-of-type {\n",
       "        vertical-align: middle;\n",
       "    }\n",
       "\n",
       "    .dataframe tbody tr th {\n",
       "        vertical-align: top;\n",
       "    }\n",
       "\n",
       "    .dataframe thead th {\n",
       "        text-align: right;\n",
       "    }\n",
       "</style>\n",
       "<table border=\"1\" class=\"dataframe\">\n",
       "  <thead>\n",
       "    <tr style=\"text-align: right;\">\n",
       "      <th></th>\n",
       "      <th>dt_of_fr</th>\n",
       "      <th>year-month</th>\n",
       "      <th>year-month-day</th>\n",
       "      <th>year</th>\n",
       "      <th>month</th>\n",
       "      <th>day</th>\n",
       "      <th>dayofweek</th>\n",
       "      <th>hour</th>\n",
       "      <th>minute</th>\n",
       "      <th>second</th>\n",
       "    </tr>\n",
       "  </thead>\n",
       "  <tbody>\n",
       "    <tr>\n",
       "      <th>42137</th>\n",
       "      <td>2016-02-17 13:33:32</td>\n",
       "      <td>2016-02</td>\n",
       "      <td>2016-02-17</td>\n",
       "      <td>2016</td>\n",
       "      <td>2</td>\n",
       "      <td>17</td>\n",
       "      <td>Wednesday</td>\n",
       "      <td>13</td>\n",
       "      <td>33</td>\n",
       "      <td>32</td>\n",
       "    </tr>\n",
       "  </tbody>\n",
       "</table>\n",
       "</div>"
      ],
      "text/plain": [
       "                  dt_of_fr year-month year-month-day  year  month  day  \\\n",
       "42137  2016-02-17 13:33:32    2016-02     2016-02-17  2016      2   17   \n",
       "\n",
       "       dayofweek  hour  minute  second  \n",
       "42137  Wednesday    13      33      32  "
      ]
     },
     "execution_count": 13,
     "metadata": {},
     "output_type": "execute_result"
    }
   ],
   "source": [
    "df['year'] = pd.to_datetime(df['dt_of_fr']).dt.year\n",
    "df['month'] = pd.to_datetime(df['dt_of_fr']).dt.month\n",
    "df['day'] = pd.to_datetime(df['dt_of_fr']).dt.day\n",
    "df['hour'] = pd.to_datetime(df['dt_of_fr']).dt.hour\n",
    "df['minute'] = pd.to_datetime(df['dt_of_fr']).dt.minute\n",
    "df['second'] = pd.to_datetime(df['dt_of_fr']).dt.second\n",
    "df['dayofweek'] = pd.to_datetime(df['dt_of_fr']).dt.day_name()\n",
    "\n",
    "df['year-month'] = df['dt_of_fr'].apply(lambda x: x[:7])\n",
    "df['year-month-day'] = df['dt_of_fr'].apply(lambda x: x[:10])\n",
    "\n",
    "df[['dt_of_fr', 'year-month', 'year-month-day', 'year', 'month', 'day', 'dayofweek', 'hour', 'minute', 'second']].sample()"
   ]
  },
  {
   "cell_type": "markdown",
   "metadata": {},
   "source": [
    "## Null 값 채우기) emd_nm 행정구역명\n",
    "전체 데이터 중 행정구역명이 Null 값인 데이터는 4개 뿐이라 삭제"
   ]
  },
  {
   "cell_type": "code",
   "execution_count": 14,
   "metadata": {
    "scrolled": true
   },
   "outputs": [],
   "source": [
    "df = df.dropna(subset=['emd_nm'])"
   ]
  },
  {
   "cell_type": "markdown",
   "metadata": {},
   "source": [
    "## 행정구역명 나눠서 컬럼'address1', 'address2'에 담기"
   ]
  },
  {
   "cell_type": "code",
   "execution_count": 15,
   "metadata": {},
   "outputs": [
    {
     "data": {
      "text/html": [
       "<div>\n",
       "<style scoped>\n",
       "    .dataframe tbody tr th:only-of-type {\n",
       "        vertical-align: middle;\n",
       "    }\n",
       "\n",
       "    .dataframe tbody tr th {\n",
       "        vertical-align: top;\n",
       "    }\n",
       "\n",
       "    .dataframe thead th {\n",
       "        text-align: right;\n",
       "    }\n",
       "</style>\n",
       "<table border=\"1\" class=\"dataframe\">\n",
       "  <thead>\n",
       "    <tr style=\"text-align: right;\">\n",
       "      <th></th>\n",
       "      <th>emd_nm</th>\n",
       "      <th>address</th>\n",
       "      <th>address1</th>\n",
       "      <th>address2</th>\n",
       "    </tr>\n",
       "  </thead>\n",
       "  <tbody>\n",
       "    <tr>\n",
       "      <th>44314</th>\n",
       "      <td>경상남도 거창군 거창읍</td>\n",
       "      <td>거창군 거창읍</td>\n",
       "      <td>거창군</td>\n",
       "      <td>거창읍</td>\n",
       "    </tr>\n",
       "  </tbody>\n",
       "</table>\n",
       "</div>"
      ],
      "text/plain": [
       "             emd_nm  address address1 address2\n",
       "44314  경상남도 거창군 거창읍  거창군 거창읍      거창군      거창읍"
      ]
     },
     "execution_count": 15,
     "metadata": {},
     "output_type": "execute_result"
    }
   ],
   "source": [
    "df['address1'] = np.nan\n",
    "df['address2'] = np.nan\n",
    "\n",
    "df['address1'] = df['emd_nm'].apply(lambda x: str(x).split()[1][:3])\n",
    "df['address2'] = df['emd_nm'].apply(lambda x: str(x).split()[2])\n",
    "df['address'] = df['address1'] + ' ' + df['address2']\n",
    "# 창원시는 따로\n",
    "df.loc[df['address1'].apply(lambda x: len(x) > 3), 'address2'] = df['emd_nm'].apply(lambda x: str(x).split()[1][3:])\n",
    "\n",
    "df[['emd_nm', 'address', 'address1', 'address2']].sample()"
   ]
  },
  {
   "cell_type": "markdown",
   "metadata": {},
   "source": [
    "## Null 값 채우기) hm_cnt 행정구역 인구 "
   ]
  },
  {
   "cell_type": "markdown",
   "metadata": {},
   "source": [
    "인구 Null 값인 행정구역을 찾아보니, 몇 개 행정구역에 몰려있음"
   ]
  },
  {
   "cell_type": "code",
   "execution_count": 16,
   "metadata": {},
   "outputs": [
    {
     "data": {
      "text/plain": [
       "진주시 상대동      245\n",
       "진주시 하대동      167\n",
       "창원시 마산회원구     96\n",
       "창원시 마산합포구     80\n",
       "함안군 칠원읍       59\n",
       "창원시 진해구        9\n",
       "통영시 산양읍        6\n",
       "통영시 욕지면        6\n",
       "사천시 동금동        3\n",
       "거제시 거제면        2\n",
       "하동군 금남면        2\n",
       "통영시 용남면        2\n",
       "창녕군 대합면        2\n",
       "하동군 진교면        2\n",
       "고성군 거류면        2\n",
       "진주시 상평동        1\n",
       "거제시 아주동        1\n",
       "창녕군 이방면        1\n",
       "고성군 회화면        1\n",
       "사천시 실안동        1\n",
       "남해군 이동면        1\n",
       "양산시 하북면        1\n",
       "남해군 고현면        1\n",
       "통영시 도산면        1\n",
       "남해군 남해읍        1\n",
       "거제시 장목면        1\n",
       "통영시 미수동        1\n",
       "남해군 창선면        1\n",
       "거제시 둔덕면        1\n",
       "Name: address, dtype: int64"
      ]
     },
     "execution_count": 16,
     "metadata": {},
     "output_type": "execute_result"
    }
   ],
   "source": [
    "df[df['hm_cnt'].isnull()]['address'].value_counts()"
   ]
  },
  {
   "cell_type": "markdown",
   "metadata": {},
   "source": [
    "### 행정구역별로 뜯어보기"
   ]
  },
  {
   "cell_type": "markdown",
   "metadata": {},
   "source": [
    "#### 진주시 인구 Null 값\n",
    "> 진주시청 제공, 12월말 기준\n",
    "\n",
    "진주시 동 | 2014 | 2015 | 2016\n",
    "-|-|-|-\n",
    "진주시 상대동| 26_019 | 25_599 | 25_321\n",
    "진주시 하대동| 27_457 | 26_981 | 27_067\n"
   ]
  },
  {
   "cell_type": "code",
   "execution_count": 17,
   "metadata": {
    "scrolled": true
   },
   "outputs": [
    {
     "data": {
      "text/plain": [
       "year\n",
       "2014        NaN\n",
       "2015        NaN\n",
       "2016        NaN\n",
       "2017    22764.0\n",
       "2018    22296.0\n",
       "Name: hm_cnt, dtype: float64"
      ]
     },
     "execution_count": 17,
     "metadata": {},
     "output_type": "execute_result"
    }
   ],
   "source": [
    "df[df['address'] == '진주시 상대동'].groupby('year')['hm_cnt'].median()"
   ]
  },
  {
   "cell_type": "code",
   "execution_count": 18,
   "metadata": {},
   "outputs": [
    {
     "data": {
      "text/plain": [
       "year\n",
       "2014        NaN\n",
       "2015        NaN\n",
       "2016        NaN\n",
       "2017    28687.5\n",
       "2018    28164.0\n",
       "Name: hm_cnt, dtype: float64"
      ]
     },
     "execution_count": 18,
     "metadata": {},
     "output_type": "execute_result"
    }
   ],
   "source": [
    "df[df['address'] == '진주시 하대동'].groupby('year')['hm_cnt'].median()"
   ]
  },
  {
   "cell_type": "markdown",
   "metadata": {},
   "source": [
    "#### 창원시는 null 값 뿐임. 인구 정보 따로 찾아보기\n",
    "> 창원시청 제공, 12월말 기준\n",
    "\n",
    "창원시 구 | 2014 | 2015 | 2016 | 2017 | 2018\n",
    "-|-|-|-|-|-\n",
    "창원시 마산합포구 | 184_179 | 183_829 | 183_989 | 181_917 | 182_772\n",
    "창원시 마산회원구 | 216_749 | 214_264 | 213_163 | 203_926 | 201_565\n",
    "창원시 진해구 | - | 189_463 | 190_780 | - |196_665"
   ]
  },
  {
   "cell_type": "code",
   "execution_count": 19,
   "metadata": {},
   "outputs": [
    {
     "data": {
      "text/plain": [
       "year\n",
       "2014   NaN\n",
       "2015   NaN\n",
       "2016   NaN\n",
       "Name: hm_cnt, dtype: float64"
      ]
     },
     "execution_count": 19,
     "metadata": {},
     "output_type": "execute_result"
    }
   ],
   "source": [
    "df[df['address'] == '창원시 마산회원구'].groupby('year')['hm_cnt'].median()"
   ]
  },
  {
   "cell_type": "code",
   "execution_count": 20,
   "metadata": {},
   "outputs": [
    {
     "data": {
      "text/plain": [
       "year\n",
       "2014   NaN\n",
       "2015   NaN\n",
       "2016   NaN\n",
       "2017   NaN\n",
       "Name: hm_cnt, dtype: float64"
      ]
     },
     "execution_count": 20,
     "metadata": {},
     "output_type": "execute_result"
    }
   ],
   "source": [
    "df[df['address'] == '창원시 마산합포구'].groupby('year')['hm_cnt'].median()"
   ]
  },
  {
   "cell_type": "code",
   "execution_count": 21,
   "metadata": {
    "scrolled": true
   },
   "outputs": [
    {
     "data": {
      "text/plain": [
       "year\n",
       "2015   NaN\n",
       "2016   NaN\n",
       "2018   NaN\n",
       "Name: hm_cnt, dtype: float64"
      ]
     },
     "execution_count": 21,
     "metadata": {},
     "output_type": "execute_result"
    }
   ],
   "source": [
    "df[df['address'] == '창원시 진해구'].groupby('year')['hm_cnt'].median()"
   ]
  },
  {
   "cell_type": "markdown",
   "metadata": {},
   "source": [
    "#### 함안군 칠원읍"
   ]
  },
  {
   "cell_type": "code",
   "execution_count": 22,
   "metadata": {},
   "outputs": [
    {
     "data": {
      "text/plain": [
       "year\n",
       "2014        NaN\n",
       "2015    21131.0\n",
       "2016    21022.0\n",
       "2017    20889.5\n",
       "2018    20672.0\n",
       "Name: hm_cnt, dtype: float64"
      ]
     },
     "execution_count": 22,
     "metadata": {},
     "output_type": "execute_result"
    }
   ],
   "source": [
    "df[df['address'] == '함안군 칠원읍'].groupby('year')['hm_cnt'].median()"
   ]
  },
  {
   "cell_type": "markdown",
   "metadata": {},
   "source": [
    "#### 사천시 동금동, 사천시 실안동 동단위 자료 없음\n",
    "사천시 전체에서 적은 비중이라 삭제"
   ]
  },
  {
   "cell_type": "code",
   "execution_count": 23,
   "metadata": {},
   "outputs": [
    {
     "data": {
      "text/plain": [
       "year\n",
       "2014   NaN\n",
       "2017   NaN\n",
       "Name: hm_cnt, dtype: float64"
      ]
     },
     "execution_count": 23,
     "metadata": {},
     "output_type": "execute_result"
    }
   ],
   "source": [
    "df[df['address'] == '사천시 동금동'].groupby('year')['hm_cnt'].median()"
   ]
  },
  {
   "cell_type": "code",
   "execution_count": 24,
   "metadata": {},
   "outputs": [
    {
     "data": {
      "text/plain": [
       "year\n",
       "2017   NaN\n",
       "Name: hm_cnt, dtype: float64"
      ]
     },
     "execution_count": 24,
     "metadata": {},
     "output_type": "execute_result"
    }
   ],
   "source": [
    "df[df['address'] == '사천시 실안동'].groupby('year')['hm_cnt'].median()"
   ]
  },
  {
   "cell_type": "code",
   "execution_count": 25,
   "metadata": {},
   "outputs": [
    {
     "data": {
      "text/plain": [
       "사천시 사천읍     380\n",
       "사천시 사남면     278\n",
       "사천시 용현면     270\n",
       "사천시 동서동     266\n",
       "사천시 서포면     262\n",
       "사천시 곤양면     243\n",
       "사천시 남양동     239\n",
       "사천시 정동면     235\n",
       "사천시 벌룡동     234\n",
       "사천시 향촌동     209\n",
       "사천시 곤명면     205\n",
       "사천시 선구동     146\n",
       "사천시 동서금동    138\n",
       "사천시 축동면     127\n",
       "사천시 동금동       3\n",
       "사천시 실안동       1\n",
       "Name: address, dtype: int64"
      ]
     },
     "execution_count": 25,
     "metadata": {},
     "output_type": "execute_result"
    }
   ],
   "source": [
    "df[df['address1'] == '사천시']['address'].value_counts()"
   ]
  },
  {
   "cell_type": "code",
   "execution_count": 26,
   "metadata": {},
   "outputs": [
    {
     "data": {
      "text/html": [
       "<div>\n",
       "<style scoped>\n",
       "    .dataframe tbody tr th:only-of-type {\n",
       "        vertical-align: middle;\n",
       "    }\n",
       "\n",
       "    .dataframe tbody tr th {\n",
       "        vertical-align: top;\n",
       "    }\n",
       "\n",
       "    .dataframe thead th {\n",
       "        text-align: right;\n",
       "    }\n",
       "</style>\n",
       "<table border=\"1\" class=\"dataframe\">\n",
       "  <thead>\n",
       "    <tr style=\"text-align: right;\">\n",
       "      <th></th>\n",
       "      <th>id</th>\n",
       "      <th>dt_of_fr</th>\n",
       "      <th>bldng_us</th>\n",
       "      <th>bldng_archtctr</th>\n",
       "      <th>bldng_cnt</th>\n",
       "      <th>bldng_ar</th>\n",
       "      <th>ttl_ar</th>\n",
       "      <th>lnd_ar</th>\n",
       "      <th>dt_of_athrztn</th>\n",
       "      <th>ttl_grnd_flr</th>\n",
       "      <th>...</th>\n",
       "      <th>day</th>\n",
       "      <th>hour</th>\n",
       "      <th>minute</th>\n",
       "      <th>second</th>\n",
       "      <th>dayofweek</th>\n",
       "      <th>year-month</th>\n",
       "      <th>year-month-day</th>\n",
       "      <th>address1</th>\n",
       "      <th>address2</th>\n",
       "      <th>address</th>\n",
       "    </tr>\n",
       "  </thead>\n",
       "  <tbody>\n",
       "    <tr>\n",
       "      <th>20446</th>\n",
       "      <td>113578</td>\n",
       "      <td>2017-06-26 20:12:00</td>\n",
       "      <td>제1종근린생활시설</td>\n",
       "      <td>철근콘크리트구조</td>\n",
       "      <td>1</td>\n",
       "      <td>225.21</td>\n",
       "      <td>203.73</td>\n",
       "      <td>675.0</td>\n",
       "      <td>2.00502e+07</td>\n",
       "      <td>1.0</td>\n",
       "      <td>...</td>\n",
       "      <td>26</td>\n",
       "      <td>20</td>\n",
       "      <td>12</td>\n",
       "      <td>0</td>\n",
       "      <td>Monday</td>\n",
       "      <td>2017-06</td>\n",
       "      <td>2017-06-26</td>\n",
       "      <td>사천시</td>\n",
       "      <td>동금동</td>\n",
       "      <td>사천시 동금동</td>\n",
       "    </tr>\n",
       "    <tr>\n",
       "      <th>20673</th>\n",
       "      <td>118226</td>\n",
       "      <td>2014-08-08 14:26:00</td>\n",
       "      <td>제1종근린생활시설</td>\n",
       "      <td>철근콘크리트구조</td>\n",
       "      <td>1</td>\n",
       "      <td>225.21</td>\n",
       "      <td>203.73</td>\n",
       "      <td>675.0</td>\n",
       "      <td>2.00502e+07</td>\n",
       "      <td>1.0</td>\n",
       "      <td>...</td>\n",
       "      <td>8</td>\n",
       "      <td>14</td>\n",
       "      <td>26</td>\n",
       "      <td>0</td>\n",
       "      <td>Friday</td>\n",
       "      <td>2014-08</td>\n",
       "      <td>2014-08-08</td>\n",
       "      <td>사천시</td>\n",
       "      <td>동금동</td>\n",
       "      <td>사천시 동금동</td>\n",
       "    </tr>\n",
       "    <tr>\n",
       "      <th>20680</th>\n",
       "      <td>104635</td>\n",
       "      <td>2014-05-22 21:38:00</td>\n",
       "      <td>제1종근린생활시설</td>\n",
       "      <td>철근콘크리트구조</td>\n",
       "      <td>1</td>\n",
       "      <td>225.21</td>\n",
       "      <td>203.73</td>\n",
       "      <td>675.0</td>\n",
       "      <td>2.00502e+07</td>\n",
       "      <td>1.0</td>\n",
       "      <td>...</td>\n",
       "      <td>22</td>\n",
       "      <td>21</td>\n",
       "      <td>38</td>\n",
       "      <td>0</td>\n",
       "      <td>Thursday</td>\n",
       "      <td>2014-05</td>\n",
       "      <td>2014-05-22</td>\n",
       "      <td>사천시</td>\n",
       "      <td>동금동</td>\n",
       "      <td>사천시 동금동</td>\n",
       "    </tr>\n",
       "  </tbody>\n",
       "</table>\n",
       "<p>3 rows × 47 columns</p>\n",
       "</div>"
      ],
      "text/plain": [
       "           id             dt_of_fr   bldng_us bldng_archtctr  bldng_cnt  \\\n",
       "20446  113578  2017-06-26 20:12:00  제1종근린생활시설       철근콘크리트구조          1   \n",
       "20673  118226  2014-08-08 14:26:00  제1종근린생활시설       철근콘크리트구조          1   \n",
       "20680  104635  2014-05-22 21:38:00  제1종근린생활시설       철근콘크리트구조          1   \n",
       "\n",
       "       bldng_ar  ttl_ar  lnd_ar dt_of_athrztn  ttl_grnd_flr  ...  day hour  \\\n",
       "20446    225.21  203.73   675.0   2.00502e+07           1.0  ...   26   20   \n",
       "20673    225.21  203.73   675.0   2.00502e+07           1.0  ...    8   14   \n",
       "20680    225.21  203.73   675.0   2.00502e+07           1.0  ...   22   21   \n",
       "\n",
       "       minute  second  dayofweek  year-month  year-month-day address1  \\\n",
       "20446      12       0     Monday     2017-06      2017-06-26      사천시   \n",
       "20673      26       0     Friday     2014-08      2014-08-08      사천시   \n",
       "20680      38       0   Thursday     2014-05      2014-05-22      사천시   \n",
       "\n",
       "      address2  address  \n",
       "20446      동금동  사천시 동금동  \n",
       "20673      동금동  사천시 동금동  \n",
       "20680      동금동  사천시 동금동  \n",
       "\n",
       "[3 rows x 47 columns]"
      ]
     },
     "execution_count": 26,
     "metadata": {},
     "output_type": "execute_result"
    }
   ],
   "source": [
    "# id 113578, 118226, 104635\n",
    "# index 20446 20673 20680\n",
    "df[df['address'] == '사천시 동금동'] \n",
    "\n",
    "# id 92201\n",
    "# index 20676\n",
    "# df[df['address'] == '사천시 실안동'] "
   ]
  },
  {
   "cell_type": "code",
   "execution_count": 27,
   "metadata": {},
   "outputs": [],
   "source": [
    "# 사천시 실안동, 동금동 row 삭제\n",
    "\n",
    "df = df.drop([20446, 20673, 20680, 20676])"
   ]
  },
  {
   "cell_type": "markdown",
   "metadata": {},
   "source": [
    "### 연도별 인구 중간값으로 채우기"
   ]
  },
  {
   "cell_type": "code",
   "execution_count": 64,
   "metadata": {},
   "outputs": [],
   "source": [
    "df['hm_cnt'] = df.groupby(['year', 'address'])['hm_cnt'].transform(lambda x: x.fillna(x.median()))"
   ]
  },
  {
   "cell_type": "code",
   "execution_count": 65,
   "metadata": {},
   "outputs": [
    {
     "data": {
      "text/plain": [
       "185"
      ]
     },
     "execution_count": 65,
     "metadata": {},
     "output_type": "execute_result"
    }
   ],
   "source": [
    "# 남은 null 값 확인\n",
    "\n",
    "df['hm_cnt'].isnull().sum()"
   ]
  },
  {
   "cell_type": "code",
   "execution_count": 79,
   "metadata": {},
   "outputs": [
    {
     "data": {
      "text/plain": [
       "address    year\n",
       "창원시 마산합포구  2014    30\n",
       "           2015    24\n",
       "           2016    25\n",
       "           2017     1\n",
       "창원시 마산회원구  2014    34\n",
       "           2015    23\n",
       "           2016    39\n",
       "창원시 진해구    2015     2\n",
       "           2016     3\n",
       "           2018     4\n",
       "Name: hm_cnt, dtype: int64"
      ]
     },
     "execution_count": 79,
     "metadata": {},
     "output_type": "execute_result"
    }
   ],
   "source": [
    "df[df['hm_cnt'].isnull()].groupby(['address', 'year'])['hm_cnt'].size()"
   ]
  },
  {
   "cell_type": "code",
   "execution_count": 105,
   "metadata": {},
   "outputs": [
    {
     "data": {
      "text/html": [
       "<div>\n",
       "<style scoped>\n",
       "    .dataframe tbody tr th:only-of-type {\n",
       "        vertical-align: middle;\n",
       "    }\n",
       "\n",
       "    .dataframe tbody tr th {\n",
       "        vertical-align: top;\n",
       "    }\n",
       "\n",
       "    .dataframe thead th {\n",
       "        text-align: right;\n",
       "    }\n",
       "</style>\n",
       "<table border=\"1\" class=\"dataframe\">\n",
       "  <thead>\n",
       "    <tr style=\"text-align: right;\">\n",
       "      <th></th>\n",
       "      <th>마산회원구</th>\n",
       "      <th>마산합포구</th>\n",
       "      <th>진해구</th>\n",
       "    </tr>\n",
       "  </thead>\n",
       "  <tbody>\n",
       "    <tr>\n",
       "      <th>2014</th>\n",
       "      <td>216749</td>\n",
       "      <td>184179</td>\n",
       "      <td>0</td>\n",
       "    </tr>\n",
       "    <tr>\n",
       "      <th>2015</th>\n",
       "      <td>214264</td>\n",
       "      <td>183829</td>\n",
       "      <td>189463</td>\n",
       "    </tr>\n",
       "    <tr>\n",
       "      <th>2016</th>\n",
       "      <td>213163</td>\n",
       "      <td>183989</td>\n",
       "      <td>190780</td>\n",
       "    </tr>\n",
       "    <tr>\n",
       "      <th>2017</th>\n",
       "      <td>203926</td>\n",
       "      <td>181917</td>\n",
       "      <td>0</td>\n",
       "    </tr>\n",
       "    <tr>\n",
       "      <th>2018</th>\n",
       "      <td>201565</td>\n",
       "      <td>182772</td>\n",
       "      <td>196665</td>\n",
       "    </tr>\n",
       "  </tbody>\n",
       "</table>\n",
       "</div>"
      ],
      "text/plain": [
       "       마산회원구   마산합포구     진해구\n",
       "2014  216749  184179       0\n",
       "2015  214264  183829  189463\n",
       "2016  213163  183989  190780\n",
       "2017  203926  181917       0\n",
       "2018  201565  182772  196665"
      ]
     },
     "execution_count": 105,
     "metadata": {},
     "output_type": "execute_result"
    }
   ],
   "source": [
    "마산회원구 = {2014: 216_749, 2015: 214_264, 2016: 213_163, 2017: 203_926, 2018: 201_565}\n",
    "마산합포구 = {2014: 184_179, 2015: 183_829, 2016: 183_989, 2017: 181_917, 2018: 182_772}\n",
    "진해구 = {2014: np.nan, 2015: 189_463, 2016: 190_780, 2017: np.nan, 2018: 196_665}\n",
    "\n",
    "hm_cnt = pd.DataFrame(data=마산회원구.values(), index=마산회원구.keys(), columns=['마산회원구'])\n",
    "hm_cnt['마산합포구'] = 마산합포구.values()\n",
    "hm_cnt['진해구'] = 진해구.values()\n",
    "\n",
    "hm_cnt"
   ]
  },
  {
   "cell_type": "code",
   "execution_count": 107,
   "metadata": {},
   "outputs": [],
   "source": [
    "# 창원시 인구 Null 값 채우기\n",
    "for place in hm_cnt.columns:\n",
    "    for year in hm_cnt.index:\n",
    "        df.loc[df['address2'] == place, 'hm_cnt'] = hm_cnt[place][year]"
   ]
  },
  {
   "cell_type": "code",
   "execution_count": 108,
   "metadata": {},
   "outputs": [
    {
     "data": {
      "text/plain": [
       "0"
      ]
     },
     "execution_count": 108,
     "metadata": {},
     "output_type": "execute_result"
    }
   ],
   "source": [
    "# Null 값 잘 채워졌는지 확인\n",
    "\n",
    "df['hm_cnt'].isnull().sum()"
   ]
  },
  {
   "cell_type": "markdown",
   "metadata": {},
   "source": [
    "## Null 값 채우기) fr_mn_cnt 관할소방서 인원 "
   ]
  },
  {
   "cell_type": "code",
   "execution_count": 109,
   "metadata": {},
   "outputs": [],
   "source": [
    "df['fr_mn_cnt'] = df.groupby(['year', 'address'])['fr_mn_cnt'].transform(lambda x: x.fillna(x.median()))"
   ]
  },
  {
   "cell_type": "code",
   "execution_count": 112,
   "metadata": {},
   "outputs": [
    {
     "data": {
      "text/plain": [
       "0"
      ]
     },
     "execution_count": 112,
     "metadata": {},
     "output_type": "execute_result"
    }
   ],
   "source": [
    "# 소방서 인원 Null 값 채워졌는지 확인\n",
    "\n",
    "df['fr_mn_cnt'].isnull().sum()"
   ]
  },
  {
   "cell_type": "markdown",
   "metadata": {},
   "source": [
    "## Null 값 채우기) wnd_drctn 풍향\n",
    "1. 해당 지역, 해당일의 풍향 중간값으로 채우기\n",
    "2. 1에서 안 채워진 경우, 해당 지역, 해당월의 풍향 중간값으로 채우기\n",
    "3. 2에서 안 채워진 경우, 해당일의 풍향 중간값으로 채우기"
   ]
  },
  {
   "cell_type": "code",
   "execution_count": 44,
   "metadata": {},
   "outputs": [],
   "source": [
    "df['wnd_drctn'] = df.groupby(['address', 'year-month-day'])['wnd_drctn'].transform(lambda x: x.fillna(x.median()))"
   ]
  },
  {
   "cell_type": "code",
   "execution_count": 45,
   "metadata": {},
   "outputs": [],
   "source": [
    "df['wnd_drctn'] = df.groupby(['address', 'year-month'])['wnd_drctn'].transform(lambda x: x.fillna(x.median()))"
   ]
  },
  {
   "cell_type": "code",
   "execution_count": 46,
   "metadata": {},
   "outputs": [],
   "source": [
    "df['wnd_drctn'] = df.groupby(['year-month-day'])['wnd_drctn'].transform(lambda x: x.fillna(x.median()))"
   ]
  },
  {
   "cell_type": "code",
   "execution_count": 47,
   "metadata": {},
   "outputs": [
    {
     "data": {
      "text/plain": [
       "0"
      ]
     },
     "execution_count": 47,
     "metadata": {},
     "output_type": "execute_result"
    }
   ],
   "source": [
    "# 다 채워졌는지 확인\n",
    "df['wnd_drctn'].isnull().sum()"
   ]
  },
  {
   "cell_type": "markdown",
   "metadata": {},
   "source": [
    "## Null 값 채우기) hmdt 습도\n",
    "corr 으로 습도와 상관계수 높은 컬럼 찾기"
   ]
  },
  {
   "cell_type": "code",
   "execution_count": 48,
   "metadata": {},
   "outputs": [],
   "source": [
    "corr = train.corr()"
   ]
  },
  {
   "cell_type": "code",
   "execution_count": 49,
   "metadata": {},
   "outputs": [
    {
     "data": {
      "text/plain": [
       "wnd_spd     -0.402712\n",
       "wnd_drctn   -0.253173\n",
       "Name: hmdt, dtype: float64"
      ]
     },
     "execution_count": 49,
     "metadata": {},
     "output_type": "execute_result"
    }
   ],
   "source": [
    "corr.loc[corr['hmdt']<-0.2, 'hmdt']"
   ]
  },
  {
   "cell_type": "markdown",
   "metadata": {},
   "source": [
    "1. 같은 풍속, 풍향인 날의 습도 중간값으로 채우기\n",
    "2. 1에서 안 채워진 경우, 풍향이 같은 날의 습도 중간값으로 채우기 \n",
    "3. 2에서 안 채워진 경우, 해당일의 습도 중간값으로 채우기"
   ]
  },
  {
   "cell_type": "code",
   "execution_count": 114,
   "metadata": {},
   "outputs": [
    {
     "data": {
      "text/plain": [
       "(59191,)"
      ]
     },
     "execution_count": 114,
     "metadata": {},
     "output_type": "execute_result"
    }
   ],
   "source": [
    "df['hmdt'].shape"
   ]
  },
  {
   "cell_type": "code",
   "execution_count": 115,
   "metadata": {},
   "outputs": [
    {
     "data": {
      "text/plain": [
       "(59191, 49)"
      ]
     },
     "execution_count": 115,
     "metadata": {},
     "output_type": "execute_result"
    }
   ],
   "source": [
    "df.shape"
   ]
  },
  {
   "cell_type": "code",
   "execution_count": 117,
   "metadata": {
    "collapsed": true
   },
   "outputs": [
    {
     "ename": "ValueError",
     "evalue": "Length mismatch: Expected axis has 59158 elements, new values have 59191 elements",
     "output_type": "error",
     "traceback": [
      "\u001b[1;31m---------------------------------------------------------------------------\u001b[0m",
      "\u001b[1;31mValueError\u001b[0m                                Traceback (most recent call last)",
      "\u001b[1;32m<ipython-input-117-4a2baac53fd3>\u001b[0m in \u001b[0;36m<module>\u001b[1;34m\u001b[0m\n\u001b[1;32m----> 1\u001b[1;33m \u001b[0mdf\u001b[0m\u001b[1;33m[\u001b[0m\u001b[1;34m'hmdt'\u001b[0m\u001b[1;33m]\u001b[0m \u001b[1;33m=\u001b[0m \u001b[0mdf\u001b[0m\u001b[1;33m.\u001b[0m\u001b[0mgroupby\u001b[0m\u001b[1;33m(\u001b[0m\u001b[1;33m[\u001b[0m\u001b[1;34m'wnd_spd'\u001b[0m\u001b[1;33m,\u001b[0m \u001b[1;34m'wnd_drctn'\u001b[0m\u001b[1;33m]\u001b[0m\u001b[1;33m)\u001b[0m\u001b[1;33m[\u001b[0m\u001b[1;34m'hmdt'\u001b[0m\u001b[1;33m]\u001b[0m\u001b[1;33m.\u001b[0m\u001b[0mtransform\u001b[0m\u001b[1;33m(\u001b[0m\u001b[1;32mlambda\u001b[0m \u001b[0mx\u001b[0m\u001b[1;33m:\u001b[0m \u001b[0mx\u001b[0m\u001b[1;33m.\u001b[0m\u001b[0mfillna\u001b[0m\u001b[1;33m(\u001b[0m\u001b[0mx\u001b[0m\u001b[1;33m.\u001b[0m\u001b[0mmedian\u001b[0m\u001b[1;33m(\u001b[0m\u001b[1;33m)\u001b[0m\u001b[1;33m)\u001b[0m\u001b[1;33m)\u001b[0m\u001b[1;33m\u001b[0m\u001b[1;33m\u001b[0m\u001b[0m\n\u001b[0m",
      "\u001b[1;32m~\\Anaconda3\\lib\\site-packages\\pandas\\core\\groupby\\generic.py\u001b[0m in \u001b[0;36mtransform\u001b[1;34m(self, func, *args, **kwargs)\u001b[0m\n\u001b[0;32m    953\u001b[0m \u001b[1;33m\u001b[0m\u001b[0m\n\u001b[0;32m    954\u001b[0m         \u001b[0mresult\u001b[0m\u001b[1;33m.\u001b[0m\u001b[0mname\u001b[0m \u001b[1;33m=\u001b[0m \u001b[0mself\u001b[0m\u001b[1;33m.\u001b[0m\u001b[0m_selected_obj\u001b[0m\u001b[1;33m.\u001b[0m\u001b[0mname\u001b[0m\u001b[1;33m\u001b[0m\u001b[1;33m\u001b[0m\u001b[0m\n\u001b[1;32m--> 955\u001b[1;33m         \u001b[0mresult\u001b[0m\u001b[1;33m.\u001b[0m\u001b[0mindex\u001b[0m \u001b[1;33m=\u001b[0m \u001b[0mself\u001b[0m\u001b[1;33m.\u001b[0m\u001b[0m_selected_obj\u001b[0m\u001b[1;33m.\u001b[0m\u001b[0mindex\u001b[0m\u001b[1;33m\u001b[0m\u001b[1;33m\u001b[0m\u001b[0m\n\u001b[0m\u001b[0;32m    956\u001b[0m         \u001b[1;32mreturn\u001b[0m \u001b[0mresult\u001b[0m\u001b[1;33m\u001b[0m\u001b[1;33m\u001b[0m\u001b[0m\n\u001b[0;32m    957\u001b[0m \u001b[1;33m\u001b[0m\u001b[0m\n",
      "\u001b[1;32m~\\Anaconda3\\lib\\site-packages\\pandas\\core\\generic.py\u001b[0m in \u001b[0;36m__setattr__\u001b[1;34m(self, name, value)\u001b[0m\n\u001b[0;32m   5078\u001b[0m         \u001b[1;32mtry\u001b[0m\u001b[1;33m:\u001b[0m\u001b[1;33m\u001b[0m\u001b[1;33m\u001b[0m\u001b[0m\n\u001b[0;32m   5079\u001b[0m             \u001b[0mobject\u001b[0m\u001b[1;33m.\u001b[0m\u001b[0m__getattribute__\u001b[0m\u001b[1;33m(\u001b[0m\u001b[0mself\u001b[0m\u001b[1;33m,\u001b[0m \u001b[0mname\u001b[0m\u001b[1;33m)\u001b[0m\u001b[1;33m\u001b[0m\u001b[1;33m\u001b[0m\u001b[0m\n\u001b[1;32m-> 5080\u001b[1;33m             \u001b[1;32mreturn\u001b[0m \u001b[0mobject\u001b[0m\u001b[1;33m.\u001b[0m\u001b[0m__setattr__\u001b[0m\u001b[1;33m(\u001b[0m\u001b[0mself\u001b[0m\u001b[1;33m,\u001b[0m \u001b[0mname\u001b[0m\u001b[1;33m,\u001b[0m \u001b[0mvalue\u001b[0m\u001b[1;33m)\u001b[0m\u001b[1;33m\u001b[0m\u001b[1;33m\u001b[0m\u001b[0m\n\u001b[0m\u001b[0;32m   5081\u001b[0m         \u001b[1;32mexcept\u001b[0m \u001b[0mAttributeError\u001b[0m\u001b[1;33m:\u001b[0m\u001b[1;33m\u001b[0m\u001b[1;33m\u001b[0m\u001b[0m\n\u001b[0;32m   5082\u001b[0m             \u001b[1;32mpass\u001b[0m\u001b[1;33m\u001b[0m\u001b[1;33m\u001b[0m\u001b[0m\n",
      "\u001b[1;32mpandas/_libs/properties.pyx\u001b[0m in \u001b[0;36mpandas._libs.properties.AxisProperty.__set__\u001b[1;34m()\u001b[0m\n",
      "\u001b[1;32m~\\Anaconda3\\lib\\site-packages\\pandas\\core\\series.py\u001b[0m in \u001b[0;36m_set_axis\u001b[1;34m(self, axis, labels, fastpath)\u001b[0m\n\u001b[0;32m    378\u001b[0m         \u001b[0mobject\u001b[0m\u001b[1;33m.\u001b[0m\u001b[0m__setattr__\u001b[0m\u001b[1;33m(\u001b[0m\u001b[0mself\u001b[0m\u001b[1;33m,\u001b[0m \u001b[1;34m'_index'\u001b[0m\u001b[1;33m,\u001b[0m \u001b[0mlabels\u001b[0m\u001b[1;33m)\u001b[0m\u001b[1;33m\u001b[0m\u001b[1;33m\u001b[0m\u001b[0m\n\u001b[0;32m    379\u001b[0m         \u001b[1;32mif\u001b[0m \u001b[1;32mnot\u001b[0m \u001b[0mfastpath\u001b[0m\u001b[1;33m:\u001b[0m\u001b[1;33m\u001b[0m\u001b[1;33m\u001b[0m\u001b[0m\n\u001b[1;32m--> 380\u001b[1;33m             \u001b[0mself\u001b[0m\u001b[1;33m.\u001b[0m\u001b[0m_data\u001b[0m\u001b[1;33m.\u001b[0m\u001b[0mset_axis\u001b[0m\u001b[1;33m(\u001b[0m\u001b[0maxis\u001b[0m\u001b[1;33m,\u001b[0m \u001b[0mlabels\u001b[0m\u001b[1;33m)\u001b[0m\u001b[1;33m\u001b[0m\u001b[1;33m\u001b[0m\u001b[0m\n\u001b[0m\u001b[0;32m    381\u001b[0m \u001b[1;33m\u001b[0m\u001b[0m\n\u001b[0;32m    382\u001b[0m     \u001b[1;32mdef\u001b[0m \u001b[0m_set_subtyp\u001b[0m\u001b[1;33m(\u001b[0m\u001b[0mself\u001b[0m\u001b[1;33m,\u001b[0m \u001b[0mis_all_dates\u001b[0m\u001b[1;33m)\u001b[0m\u001b[1;33m:\u001b[0m\u001b[1;33m\u001b[0m\u001b[1;33m\u001b[0m\u001b[0m\n",
      "\u001b[1;32m~\\Anaconda3\\lib\\site-packages\\pandas\\core\\internals\\managers.py\u001b[0m in \u001b[0;36mset_axis\u001b[1;34m(self, axis, new_labels)\u001b[0m\n\u001b[0;32m    153\u001b[0m             raise ValueError(\n\u001b[0;32m    154\u001b[0m                 \u001b[1;34m'Length mismatch: Expected axis has {old} elements, new '\u001b[0m\u001b[1;33m\u001b[0m\u001b[1;33m\u001b[0m\u001b[0m\n\u001b[1;32m--> 155\u001b[1;33m                 'values have {new} elements'.format(old=old_len, new=new_len))\n\u001b[0m\u001b[0;32m    156\u001b[0m \u001b[1;33m\u001b[0m\u001b[0m\n\u001b[0;32m    157\u001b[0m         \u001b[0mself\u001b[0m\u001b[1;33m.\u001b[0m\u001b[0maxes\u001b[0m\u001b[1;33m[\u001b[0m\u001b[0maxis\u001b[0m\u001b[1;33m]\u001b[0m \u001b[1;33m=\u001b[0m \u001b[0mnew_labels\u001b[0m\u001b[1;33m\u001b[0m\u001b[1;33m\u001b[0m\u001b[0m\n",
      "\u001b[1;31mValueError\u001b[0m: Length mismatch: Expected axis has 59158 elements, new values have 59191 elements"
     ]
    }
   ],
   "source": [
    "# 에러 Length Mismatch\n",
    "df['hmdt'] = df.groupby(['wnd_spd', 'wnd_drctn'])['hmdt'].transform(lambda x: x.fillna(x.median()))"
   ]
  },
  {
   "cell_type": "code",
   "execution_count": 51,
   "metadata": {},
   "outputs": [],
   "source": [
    "df['hmdt'] = df.groupby(['year-month-day'])['hmdt'].transform(lambda x: x.fillna(x.median()))"
   ]
  },
  {
   "cell_type": "code",
   "execution_count": 52,
   "metadata": {},
   "outputs": [
    {
     "data": {
      "text/plain": [
       "0"
      ]
     },
     "execution_count": 52,
     "metadata": {},
     "output_type": "execute_result"
    }
   ],
   "source": [
    "df['hmdt'].isnull().sum()"
   ]
  },
  {
   "cell_type": "markdown",
   "metadata": {},
   "source": [
    "## Null 값 채우기) tmprtr 온도\n",
    "corr 으로 온도와 상관계수가 높은 컬럼 찾기"
   ]
  },
  {
   "cell_type": "code",
   "execution_count": 53,
   "metadata": {},
   "outputs": [
    {
     "data": {
      "text/plain": [
       "tmprtr         1.000000\n",
       "wnd_spd        0.106366\n",
       "hmdt           0.125568\n",
       "lw_13101110    0.145238\n",
       "lw_13101210    0.118775\n",
       "lw_13101211    0.136644\n",
       "lw_13111010    0.116014\n",
       "Name: tmprtr, dtype: float64"
      ]
     },
     "execution_count": 53,
     "metadata": {},
     "output_type": "execute_result"
    }
   ],
   "source": [
    "corr.loc[corr['tmprtr'] > 0.1, 'tmprtr']"
   ]
  },
  {
   "cell_type": "markdown",
   "metadata": {},
   "source": [
    "1. 풍속과 습도가 같은 날의 온도 중간값으로 채우기\n",
    "2. 습도가 같은 해당일의 온도 중간값으로 채우기\n",
    "3. 풍속이 같은 해당일의 온도 중간값으로 채우기\n",
    "4. 습도가 같은 해당월의 온도 중간값으로 채우기"
   ]
  },
  {
   "cell_type": "code",
   "execution_count": 54,
   "metadata": {
    "collapsed": true
   },
   "outputs": [
    {
     "ename": "ValueError",
     "evalue": "Length mismatch: Expected axis has 59158 elements, new values have 59191 elements",
     "output_type": "error",
     "traceback": [
      "\u001b[1;31m---------------------------------------------------------------------------\u001b[0m",
      "\u001b[1;31mValueError\u001b[0m                                Traceback (most recent call last)",
      "\u001b[1;32m<ipython-input-54-d92845560568>\u001b[0m in \u001b[0;36m<module>\u001b[1;34m\u001b[0m\n\u001b[1;32m----> 1\u001b[1;33m \u001b[0mdf\u001b[0m\u001b[1;33m[\u001b[0m\u001b[1;34m'tmprtr'\u001b[0m\u001b[1;33m]\u001b[0m \u001b[1;33m=\u001b[0m \u001b[0mdf\u001b[0m\u001b[1;33m.\u001b[0m\u001b[0mgroupby\u001b[0m\u001b[1;33m(\u001b[0m\u001b[1;33m[\u001b[0m\u001b[1;34m'wnd_spd'\u001b[0m\u001b[1;33m,\u001b[0m \u001b[1;34m'hmdt'\u001b[0m\u001b[1;33m]\u001b[0m\u001b[1;33m)\u001b[0m\u001b[1;33m[\u001b[0m\u001b[1;34m'tmprtr'\u001b[0m\u001b[1;33m]\u001b[0m\u001b[1;33m.\u001b[0m\u001b[0mtransform\u001b[0m\u001b[1;33m(\u001b[0m\u001b[1;32mlambda\u001b[0m \u001b[0mx\u001b[0m\u001b[1;33m:\u001b[0m \u001b[0mx\u001b[0m\u001b[1;33m.\u001b[0m\u001b[0mfillna\u001b[0m\u001b[1;33m(\u001b[0m\u001b[0mx\u001b[0m\u001b[1;33m.\u001b[0m\u001b[0mmedian\u001b[0m\u001b[1;33m(\u001b[0m\u001b[1;33m)\u001b[0m\u001b[1;33m)\u001b[0m\u001b[1;33m)\u001b[0m\u001b[1;33m\u001b[0m\u001b[1;33m\u001b[0m\u001b[0m\n\u001b[0m",
      "\u001b[1;32m~\\Anaconda3\\lib\\site-packages\\pandas\\core\\groupby\\generic.py\u001b[0m in \u001b[0;36mtransform\u001b[1;34m(self, func, *args, **kwargs)\u001b[0m\n\u001b[0;32m    953\u001b[0m \u001b[1;33m\u001b[0m\u001b[0m\n\u001b[0;32m    954\u001b[0m         \u001b[0mresult\u001b[0m\u001b[1;33m.\u001b[0m\u001b[0mname\u001b[0m \u001b[1;33m=\u001b[0m \u001b[0mself\u001b[0m\u001b[1;33m.\u001b[0m\u001b[0m_selected_obj\u001b[0m\u001b[1;33m.\u001b[0m\u001b[0mname\u001b[0m\u001b[1;33m\u001b[0m\u001b[1;33m\u001b[0m\u001b[0m\n\u001b[1;32m--> 955\u001b[1;33m         \u001b[0mresult\u001b[0m\u001b[1;33m.\u001b[0m\u001b[0mindex\u001b[0m \u001b[1;33m=\u001b[0m \u001b[0mself\u001b[0m\u001b[1;33m.\u001b[0m\u001b[0m_selected_obj\u001b[0m\u001b[1;33m.\u001b[0m\u001b[0mindex\u001b[0m\u001b[1;33m\u001b[0m\u001b[1;33m\u001b[0m\u001b[0m\n\u001b[0m\u001b[0;32m    956\u001b[0m         \u001b[1;32mreturn\u001b[0m \u001b[0mresult\u001b[0m\u001b[1;33m\u001b[0m\u001b[1;33m\u001b[0m\u001b[0m\n\u001b[0;32m    957\u001b[0m \u001b[1;33m\u001b[0m\u001b[0m\n",
      "\u001b[1;32m~\\Anaconda3\\lib\\site-packages\\pandas\\core\\generic.py\u001b[0m in \u001b[0;36m__setattr__\u001b[1;34m(self, name, value)\u001b[0m\n\u001b[0;32m   5078\u001b[0m         \u001b[1;32mtry\u001b[0m\u001b[1;33m:\u001b[0m\u001b[1;33m\u001b[0m\u001b[1;33m\u001b[0m\u001b[0m\n\u001b[0;32m   5079\u001b[0m             \u001b[0mobject\u001b[0m\u001b[1;33m.\u001b[0m\u001b[0m__getattribute__\u001b[0m\u001b[1;33m(\u001b[0m\u001b[0mself\u001b[0m\u001b[1;33m,\u001b[0m \u001b[0mname\u001b[0m\u001b[1;33m)\u001b[0m\u001b[1;33m\u001b[0m\u001b[1;33m\u001b[0m\u001b[0m\n\u001b[1;32m-> 5080\u001b[1;33m             \u001b[1;32mreturn\u001b[0m \u001b[0mobject\u001b[0m\u001b[1;33m.\u001b[0m\u001b[0m__setattr__\u001b[0m\u001b[1;33m(\u001b[0m\u001b[0mself\u001b[0m\u001b[1;33m,\u001b[0m \u001b[0mname\u001b[0m\u001b[1;33m,\u001b[0m \u001b[0mvalue\u001b[0m\u001b[1;33m)\u001b[0m\u001b[1;33m\u001b[0m\u001b[1;33m\u001b[0m\u001b[0m\n\u001b[0m\u001b[0;32m   5081\u001b[0m         \u001b[1;32mexcept\u001b[0m \u001b[0mAttributeError\u001b[0m\u001b[1;33m:\u001b[0m\u001b[1;33m\u001b[0m\u001b[1;33m\u001b[0m\u001b[0m\n\u001b[0;32m   5082\u001b[0m             \u001b[1;32mpass\u001b[0m\u001b[1;33m\u001b[0m\u001b[1;33m\u001b[0m\u001b[0m\n",
      "\u001b[1;32mpandas/_libs/properties.pyx\u001b[0m in \u001b[0;36mpandas._libs.properties.AxisProperty.__set__\u001b[1;34m()\u001b[0m\n",
      "\u001b[1;32m~\\Anaconda3\\lib\\site-packages\\pandas\\core\\series.py\u001b[0m in \u001b[0;36m_set_axis\u001b[1;34m(self, axis, labels, fastpath)\u001b[0m\n\u001b[0;32m    378\u001b[0m         \u001b[0mobject\u001b[0m\u001b[1;33m.\u001b[0m\u001b[0m__setattr__\u001b[0m\u001b[1;33m(\u001b[0m\u001b[0mself\u001b[0m\u001b[1;33m,\u001b[0m \u001b[1;34m'_index'\u001b[0m\u001b[1;33m,\u001b[0m \u001b[0mlabels\u001b[0m\u001b[1;33m)\u001b[0m\u001b[1;33m\u001b[0m\u001b[1;33m\u001b[0m\u001b[0m\n\u001b[0;32m    379\u001b[0m         \u001b[1;32mif\u001b[0m \u001b[1;32mnot\u001b[0m \u001b[0mfastpath\u001b[0m\u001b[1;33m:\u001b[0m\u001b[1;33m\u001b[0m\u001b[1;33m\u001b[0m\u001b[0m\n\u001b[1;32m--> 380\u001b[1;33m             \u001b[0mself\u001b[0m\u001b[1;33m.\u001b[0m\u001b[0m_data\u001b[0m\u001b[1;33m.\u001b[0m\u001b[0mset_axis\u001b[0m\u001b[1;33m(\u001b[0m\u001b[0maxis\u001b[0m\u001b[1;33m,\u001b[0m \u001b[0mlabels\u001b[0m\u001b[1;33m)\u001b[0m\u001b[1;33m\u001b[0m\u001b[1;33m\u001b[0m\u001b[0m\n\u001b[0m\u001b[0;32m    381\u001b[0m \u001b[1;33m\u001b[0m\u001b[0m\n\u001b[0;32m    382\u001b[0m     \u001b[1;32mdef\u001b[0m \u001b[0m_set_subtyp\u001b[0m\u001b[1;33m(\u001b[0m\u001b[0mself\u001b[0m\u001b[1;33m,\u001b[0m \u001b[0mis_all_dates\u001b[0m\u001b[1;33m)\u001b[0m\u001b[1;33m:\u001b[0m\u001b[1;33m\u001b[0m\u001b[1;33m\u001b[0m\u001b[0m\n",
      "\u001b[1;32m~\\Anaconda3\\lib\\site-packages\\pandas\\core\\internals\\managers.py\u001b[0m in \u001b[0;36mset_axis\u001b[1;34m(self, axis, new_labels)\u001b[0m\n\u001b[0;32m    153\u001b[0m             raise ValueError(\n\u001b[0;32m    154\u001b[0m                 \u001b[1;34m'Length mismatch: Expected axis has {old} elements, new '\u001b[0m\u001b[1;33m\u001b[0m\u001b[1;33m\u001b[0m\u001b[0m\n\u001b[1;32m--> 155\u001b[1;33m                 'values have {new} elements'.format(old=old_len, new=new_len))\n\u001b[0m\u001b[0;32m    156\u001b[0m \u001b[1;33m\u001b[0m\u001b[0m\n\u001b[0;32m    157\u001b[0m         \u001b[0mself\u001b[0m\u001b[1;33m.\u001b[0m\u001b[0maxes\u001b[0m\u001b[1;33m[\u001b[0m\u001b[0maxis\u001b[0m\u001b[1;33m]\u001b[0m \u001b[1;33m=\u001b[0m \u001b[0mnew_labels\u001b[0m\u001b[1;33m\u001b[0m\u001b[1;33m\u001b[0m\u001b[0m\n",
      "\u001b[1;31mValueError\u001b[0m: Length mismatch: Expected axis has 59158 elements, new values have 59191 elements"
     ]
    }
   ],
   "source": [
    "# 에러 Length Mismatch\n",
    "df['tmprtr'] = df.groupby(['wnd_spd', 'hmdt'])['tmprtr'].transform(lambda x: x.fillna(x.median()))"
   ]
  },
  {
   "cell_type": "code",
   "execution_count": 55,
   "metadata": {},
   "outputs": [],
   "source": [
    "df['tmprtr'] = df.groupby(['hmdt', 'year-month-day'])['tmprtr'].transform(lambda x: x.fillna(x.median()))"
   ]
  },
  {
   "cell_type": "code",
   "execution_count": 56,
   "metadata": {
    "collapsed": true
   },
   "outputs": [
    {
     "ename": "ValueError",
     "evalue": "Length mismatch: Expected axis has 59158 elements, new values have 59191 elements",
     "output_type": "error",
     "traceback": [
      "\u001b[1;31m---------------------------------------------------------------------------\u001b[0m",
      "\u001b[1;31mValueError\u001b[0m                                Traceback (most recent call last)",
      "\u001b[1;32m<ipython-input-56-0dd3896653c2>\u001b[0m in \u001b[0;36m<module>\u001b[1;34m\u001b[0m\n\u001b[1;32m----> 1\u001b[1;33m \u001b[0mdf\u001b[0m\u001b[1;33m[\u001b[0m\u001b[1;34m'tmprtr'\u001b[0m\u001b[1;33m]\u001b[0m \u001b[1;33m=\u001b[0m \u001b[0mdf\u001b[0m\u001b[1;33m.\u001b[0m\u001b[0mgroupby\u001b[0m\u001b[1;33m(\u001b[0m\u001b[1;33m[\u001b[0m\u001b[1;34m'wnd_spd'\u001b[0m\u001b[1;33m,\u001b[0m \u001b[1;34m'year-month-day'\u001b[0m\u001b[1;33m]\u001b[0m\u001b[1;33m)\u001b[0m\u001b[1;33m[\u001b[0m\u001b[1;34m'tmprtr'\u001b[0m\u001b[1;33m]\u001b[0m\u001b[1;33m.\u001b[0m\u001b[0mtransform\u001b[0m\u001b[1;33m(\u001b[0m\u001b[1;32mlambda\u001b[0m \u001b[0mx\u001b[0m\u001b[1;33m:\u001b[0m \u001b[0mx\u001b[0m\u001b[1;33m.\u001b[0m\u001b[0mfillna\u001b[0m\u001b[1;33m(\u001b[0m\u001b[0mx\u001b[0m\u001b[1;33m.\u001b[0m\u001b[0mmedian\u001b[0m\u001b[1;33m(\u001b[0m\u001b[1;33m)\u001b[0m\u001b[1;33m)\u001b[0m\u001b[1;33m)\u001b[0m\u001b[1;33m\u001b[0m\u001b[1;33m\u001b[0m\u001b[0m\n\u001b[0m",
      "\u001b[1;32m~\\Anaconda3\\lib\\site-packages\\pandas\\core\\groupby\\generic.py\u001b[0m in \u001b[0;36mtransform\u001b[1;34m(self, func, *args, **kwargs)\u001b[0m\n\u001b[0;32m    953\u001b[0m \u001b[1;33m\u001b[0m\u001b[0m\n\u001b[0;32m    954\u001b[0m         \u001b[0mresult\u001b[0m\u001b[1;33m.\u001b[0m\u001b[0mname\u001b[0m \u001b[1;33m=\u001b[0m \u001b[0mself\u001b[0m\u001b[1;33m.\u001b[0m\u001b[0m_selected_obj\u001b[0m\u001b[1;33m.\u001b[0m\u001b[0mname\u001b[0m\u001b[1;33m\u001b[0m\u001b[1;33m\u001b[0m\u001b[0m\n\u001b[1;32m--> 955\u001b[1;33m         \u001b[0mresult\u001b[0m\u001b[1;33m.\u001b[0m\u001b[0mindex\u001b[0m \u001b[1;33m=\u001b[0m \u001b[0mself\u001b[0m\u001b[1;33m.\u001b[0m\u001b[0m_selected_obj\u001b[0m\u001b[1;33m.\u001b[0m\u001b[0mindex\u001b[0m\u001b[1;33m\u001b[0m\u001b[1;33m\u001b[0m\u001b[0m\n\u001b[0m\u001b[0;32m    956\u001b[0m         \u001b[1;32mreturn\u001b[0m \u001b[0mresult\u001b[0m\u001b[1;33m\u001b[0m\u001b[1;33m\u001b[0m\u001b[0m\n\u001b[0;32m    957\u001b[0m \u001b[1;33m\u001b[0m\u001b[0m\n",
      "\u001b[1;32m~\\Anaconda3\\lib\\site-packages\\pandas\\core\\generic.py\u001b[0m in \u001b[0;36m__setattr__\u001b[1;34m(self, name, value)\u001b[0m\n\u001b[0;32m   5078\u001b[0m         \u001b[1;32mtry\u001b[0m\u001b[1;33m:\u001b[0m\u001b[1;33m\u001b[0m\u001b[1;33m\u001b[0m\u001b[0m\n\u001b[0;32m   5079\u001b[0m             \u001b[0mobject\u001b[0m\u001b[1;33m.\u001b[0m\u001b[0m__getattribute__\u001b[0m\u001b[1;33m(\u001b[0m\u001b[0mself\u001b[0m\u001b[1;33m,\u001b[0m \u001b[0mname\u001b[0m\u001b[1;33m)\u001b[0m\u001b[1;33m\u001b[0m\u001b[1;33m\u001b[0m\u001b[0m\n\u001b[1;32m-> 5080\u001b[1;33m             \u001b[1;32mreturn\u001b[0m \u001b[0mobject\u001b[0m\u001b[1;33m.\u001b[0m\u001b[0m__setattr__\u001b[0m\u001b[1;33m(\u001b[0m\u001b[0mself\u001b[0m\u001b[1;33m,\u001b[0m \u001b[0mname\u001b[0m\u001b[1;33m,\u001b[0m \u001b[0mvalue\u001b[0m\u001b[1;33m)\u001b[0m\u001b[1;33m\u001b[0m\u001b[1;33m\u001b[0m\u001b[0m\n\u001b[0m\u001b[0;32m   5081\u001b[0m         \u001b[1;32mexcept\u001b[0m \u001b[0mAttributeError\u001b[0m\u001b[1;33m:\u001b[0m\u001b[1;33m\u001b[0m\u001b[1;33m\u001b[0m\u001b[0m\n\u001b[0;32m   5082\u001b[0m             \u001b[1;32mpass\u001b[0m\u001b[1;33m\u001b[0m\u001b[1;33m\u001b[0m\u001b[0m\n",
      "\u001b[1;32mpandas/_libs/properties.pyx\u001b[0m in \u001b[0;36mpandas._libs.properties.AxisProperty.__set__\u001b[1;34m()\u001b[0m\n",
      "\u001b[1;32m~\\Anaconda3\\lib\\site-packages\\pandas\\core\\series.py\u001b[0m in \u001b[0;36m_set_axis\u001b[1;34m(self, axis, labels, fastpath)\u001b[0m\n\u001b[0;32m    378\u001b[0m         \u001b[0mobject\u001b[0m\u001b[1;33m.\u001b[0m\u001b[0m__setattr__\u001b[0m\u001b[1;33m(\u001b[0m\u001b[0mself\u001b[0m\u001b[1;33m,\u001b[0m \u001b[1;34m'_index'\u001b[0m\u001b[1;33m,\u001b[0m \u001b[0mlabels\u001b[0m\u001b[1;33m)\u001b[0m\u001b[1;33m\u001b[0m\u001b[1;33m\u001b[0m\u001b[0m\n\u001b[0;32m    379\u001b[0m         \u001b[1;32mif\u001b[0m \u001b[1;32mnot\u001b[0m \u001b[0mfastpath\u001b[0m\u001b[1;33m:\u001b[0m\u001b[1;33m\u001b[0m\u001b[1;33m\u001b[0m\u001b[0m\n\u001b[1;32m--> 380\u001b[1;33m             \u001b[0mself\u001b[0m\u001b[1;33m.\u001b[0m\u001b[0m_data\u001b[0m\u001b[1;33m.\u001b[0m\u001b[0mset_axis\u001b[0m\u001b[1;33m(\u001b[0m\u001b[0maxis\u001b[0m\u001b[1;33m,\u001b[0m \u001b[0mlabels\u001b[0m\u001b[1;33m)\u001b[0m\u001b[1;33m\u001b[0m\u001b[1;33m\u001b[0m\u001b[0m\n\u001b[0m\u001b[0;32m    381\u001b[0m \u001b[1;33m\u001b[0m\u001b[0m\n\u001b[0;32m    382\u001b[0m     \u001b[1;32mdef\u001b[0m \u001b[0m_set_subtyp\u001b[0m\u001b[1;33m(\u001b[0m\u001b[0mself\u001b[0m\u001b[1;33m,\u001b[0m \u001b[0mis_all_dates\u001b[0m\u001b[1;33m)\u001b[0m\u001b[1;33m:\u001b[0m\u001b[1;33m\u001b[0m\u001b[1;33m\u001b[0m\u001b[0m\n",
      "\u001b[1;32m~\\Anaconda3\\lib\\site-packages\\pandas\\core\\internals\\managers.py\u001b[0m in \u001b[0;36mset_axis\u001b[1;34m(self, axis, new_labels)\u001b[0m\n\u001b[0;32m    153\u001b[0m             raise ValueError(\n\u001b[0;32m    154\u001b[0m                 \u001b[1;34m'Length mismatch: Expected axis has {old} elements, new '\u001b[0m\u001b[1;33m\u001b[0m\u001b[1;33m\u001b[0m\u001b[0m\n\u001b[1;32m--> 155\u001b[1;33m                 'values have {new} elements'.format(old=old_len, new=new_len))\n\u001b[0m\u001b[0;32m    156\u001b[0m \u001b[1;33m\u001b[0m\u001b[0m\n\u001b[0;32m    157\u001b[0m         \u001b[0mself\u001b[0m\u001b[1;33m.\u001b[0m\u001b[0maxes\u001b[0m\u001b[1;33m[\u001b[0m\u001b[0maxis\u001b[0m\u001b[1;33m]\u001b[0m \u001b[1;33m=\u001b[0m \u001b[0mnew_labels\u001b[0m\u001b[1;33m\u001b[0m\u001b[1;33m\u001b[0m\u001b[0m\n",
      "\u001b[1;31mValueError\u001b[0m: Length mismatch: Expected axis has 59158 elements, new values have 59191 elements"
     ]
    }
   ],
   "source": [
    "# 에러 Length Mismatch\n",
    "df['tmprtr'] = df.groupby(['wnd_spd', 'year-month-day'])['tmprtr'].transform(lambda x: x.fillna(x.median()))"
   ]
  },
  {
   "cell_type": "code",
   "execution_count": 57,
   "metadata": {},
   "outputs": [],
   "source": [
    "df['tmprtr'] = df.groupby(['hmdt', 'year-month'])['tmprtr'].transform(lambda x: x.fillna(x.median()))"
   ]
  },
  {
   "cell_type": "code",
   "execution_count": 58,
   "metadata": {},
   "outputs": [
    {
     "data": {
      "text/plain": [
       "13"
      ]
     },
     "execution_count": 58,
     "metadata": {},
     "output_type": "execute_result"
    }
   ],
   "source": [
    "# Null 값 잘 채워졌는지 확인\n",
    "train['tmprtr'].isnull().sum()"
   ]
  },
  {
   "cell_type": "code",
   "execution_count": null,
   "metadata": {},
   "outputs": [],
   "source": []
  }
 ],
 "metadata": {
  "kernelspec": {
   "display_name": "Python 3",
   "language": "python",
   "name": "python3"
  },
  "language_info": {
   "codemirror_mode": {
    "name": "ipython",
    "version": 3
   },
   "file_extension": ".py",
   "mimetype": "text/x-python",
   "name": "python",
   "nbconvert_exporter": "python",
   "pygments_lexer": "ipython3",
   "version": "3.7.3"
  }
 },
 "nbformat": 4,
 "nbformat_minor": 2
}
