{
 "cells": [
  {
   "cell_type": "code",
   "execution_count": 1,
   "metadata": {},
   "outputs": [],
   "source": [
    "import pandas as pd\n",
    "import numpy as np\n",
    "import matplotlib\n",
    "import matplotlib.pyplot as plt\n",
    "import seaborn as sns"
   ]
  },
  {
   "cell_type": "code",
   "execution_count": 2,
   "metadata": {},
   "outputs": [],
   "source": [
    "import warnings\n",
    "warnings.filterwarnings('ignore')"
   ]
  },
  {
   "cell_type": "code",
   "execution_count": 3,
   "metadata": {
    "scrolled": false
   },
   "outputs": [
    {
     "name": "stdout",
     "output_type": "stream",
     "text": [
      "train (59199, 172)\n",
      "test (2957, 171)\n",
      "valid (6898, 172)\n"
     ]
    },
    {
     "data": {
      "text/html": [
       "<div>\n",
       "<style scoped>\n",
       "    .dataframe tbody tr th:only-of-type {\n",
       "        vertical-align: middle;\n",
       "    }\n",
       "\n",
       "    .dataframe tbody tr th {\n",
       "        vertical-align: top;\n",
       "    }\n",
       "\n",
       "    .dataframe thead th {\n",
       "        text-align: right;\n",
       "    }\n",
       "</style>\n",
       "<table border=\"1\" class=\"dataframe\">\n",
       "  <thead>\n",
       "    <tr style=\"text-align: right;\">\n",
       "      <th></th>\n",
       "      <th>id</th>\n",
       "      <th>dt_of_fr</th>\n",
       "      <th>bldng_us</th>\n",
       "      <th>bldng_archtctr</th>\n",
       "      <th>bldng_cnt</th>\n",
       "      <th>bldng_ar</th>\n",
       "      <th>ttl_ar</th>\n",
       "      <th>lnd_ar</th>\n",
       "      <th>dt_of_athrztn</th>\n",
       "      <th>ttl_grnd_flr</th>\n",
       "      <th>...</th>\n",
       "      <th>mlt_us_yn</th>\n",
       "      <th>cctv_dstnc</th>\n",
       "      <th>cctv_in_100m</th>\n",
       "      <th>fr_wthr_fclt_in_100m</th>\n",
       "      <th>tbc_rtl_str_dstnc</th>\n",
       "      <th>sft_emrgnc_bll_dstnc</th>\n",
       "      <th>ahsm_dstnc</th>\n",
       "      <th>no_tbc_zn_dstnc</th>\n",
       "      <th>bldng_cnt_in_50m</th>\n",
       "      <th>fr_yn</th>\n",
       "    </tr>\n",
       "  </thead>\n",
       "  <tbody>\n",
       "    <tr>\n",
       "      <th>32071</th>\n",
       "      <td>108025</td>\n",
       "      <td>2017-12-03 13:18:00</td>\n",
       "      <td>단독주택</td>\n",
       "      <td>일반목구조</td>\n",
       "      <td>5</td>\n",
       "      <td>189.01</td>\n",
       "      <td>189.01</td>\n",
       "      <td>476.0</td>\n",
       "      <td>19490301.0</td>\n",
       "      <td>1.0</td>\n",
       "      <td>...</td>\n",
       "      <td>N</td>\n",
       "      <td>1493</td>\n",
       "      <td>0</td>\n",
       "      <td>0</td>\n",
       "      <td>2405</td>\n",
       "      <td>50351</td>\n",
       "      <td>19228</td>\n",
       "      <td>1152</td>\n",
       "      <td>0</td>\n",
       "      <td>Y</td>\n",
       "    </tr>\n",
       "  </tbody>\n",
       "</table>\n",
       "<p>1 rows × 172 columns</p>\n",
       "</div>"
      ],
      "text/plain": [
       "           id             dt_of_fr bldng_us bldng_archtctr  bldng_cnt  \\\n",
       "32071  108025  2017-12-03 13:18:00     단독주택          일반목구조          5   \n",
       "\n",
       "       bldng_ar  ttl_ar  lnd_ar dt_of_athrztn  ttl_grnd_flr  ...  mlt_us_yn  \\\n",
       "32071    189.01  189.01   476.0    19490301.0           1.0  ...          N   \n",
       "\n",
       "      cctv_dstnc  cctv_in_100m  fr_wthr_fclt_in_100m  tbc_rtl_str_dstnc  \\\n",
       "32071       1493             0                     0               2405   \n",
       "\n",
       "       sft_emrgnc_bll_dstnc  ahsm_dstnc  no_tbc_zn_dstnc  bldng_cnt_in_50m  \\\n",
       "32071                 50351       19228             1152                 0   \n",
       "\n",
       "       fr_yn  \n",
       "32071      Y  \n",
       "\n",
       "[1 rows x 172 columns]"
      ]
     },
     "execution_count": 3,
     "metadata": {},
     "output_type": "execute_result"
    }
   ],
   "source": [
    "train = pd.read_csv('../Data/PJT002_train.csv')\n",
    "test = pd.read_csv('../Data/PJT002_test.csv')\n",
    "valid = pd.read_csv('../Data/PJT002_validation.csv')\n",
    "\n",
    "print('train', train.shape)\n",
    "print('test', test.shape)\n",
    "print('valid', valid.shape)\n",
    "\n",
    "train.sample()"
   ]
  },
  {
   "cell_type": "code",
   "execution_count": 4,
   "metadata": {},
   "outputs": [
    {
     "data": {
      "text/html": [
       "<div>\n",
       "<style scoped>\n",
       "    .dataframe tbody tr th:only-of-type {\n",
       "        vertical-align: middle;\n",
       "    }\n",
       "\n",
       "    .dataframe tbody tr th {\n",
       "        vertical-align: top;\n",
       "    }\n",
       "\n",
       "    .dataframe thead th {\n",
       "        text-align: right;\n",
       "    }\n",
       "</style>\n",
       "<table border=\"1\" class=\"dataframe\">\n",
       "  <thead>\n",
       "    <tr style=\"text-align: right;\">\n",
       "      <th></th>\n",
       "      <th>ahsm_dstnc</th>\n",
       "      <th>bldng_ar</th>\n",
       "      <th>bldng_ar_prc</th>\n",
       "      <th>bldng_archtctr</th>\n",
       "      <th>bldng_cnt</th>\n",
       "      <th>bldng_cnt_in_50m</th>\n",
       "      <th>bldng_us</th>\n",
       "      <th>bldng_us_clssfctn</th>\n",
       "      <th>cctv_dstnc</th>\n",
       "      <th>cctv_in_100m</th>\n",
       "      <th>...</th>\n",
       "      <th>rgnl_ar_nm2</th>\n",
       "      <th>sft_emrgnc_bll_dstnc</th>\n",
       "      <th>tag</th>\n",
       "      <th>tbc_rtl_str_dstnc</th>\n",
       "      <th>tmprtr</th>\n",
       "      <th>ttl_ar</th>\n",
       "      <th>ttl_dwn_flr</th>\n",
       "      <th>ttl_grnd_flr</th>\n",
       "      <th>wnd_drctn</th>\n",
       "      <th>wnd_spd</th>\n",
       "    </tr>\n",
       "  </thead>\n",
       "  <tbody>\n",
       "    <tr>\n",
       "      <th>3653</th>\n",
       "      <td>15827</td>\n",
       "      <td>19739.88</td>\n",
       "      <td>953011.0</td>\n",
       "      <td>철근콘크리트구조</td>\n",
       "      <td>11</td>\n",
       "      <td>2</td>\n",
       "      <td>공동주택</td>\n",
       "      <td>주거용</td>\n",
       "      <td>104</td>\n",
       "      <td>0</td>\n",
       "      <td>...</td>\n",
       "      <td>지정되지않음</td>\n",
       "      <td>325</td>\n",
       "      <td>valid</td>\n",
       "      <td>352</td>\n",
       "      <td>13.9</td>\n",
       "      <td>295362.86</td>\n",
       "      <td>3.0</td>\n",
       "      <td>153.0</td>\n",
       "      <td>200.0</td>\n",
       "      <td>1.2</td>\n",
       "    </tr>\n",
       "  </tbody>\n",
       "</table>\n",
       "<p>1 rows × 173 columns</p>\n",
       "</div>"
      ],
      "text/plain": [
       "      ahsm_dstnc  bldng_ar  bldng_ar_prc bldng_archtctr  bldng_cnt  \\\n",
       "3653       15827  19739.88      953011.0       철근콘크리트구조         11   \n",
       "\n",
       "      bldng_cnt_in_50m bldng_us bldng_us_clssfctn  cctv_dstnc  cctv_in_100m  \\\n",
       "3653                 2     공동주택               주거용         104             0   \n",
       "\n",
       "      ... rgnl_ar_nm2 sft_emrgnc_bll_dstnc    tag  tbc_rtl_str_dstnc  tmprtr  \\\n",
       "3653  ...      지정되지않음                  325  valid                352    13.9   \n",
       "\n",
       "         ttl_ar  ttl_dwn_flr  ttl_grnd_flr  wnd_drctn  wnd_spd  \n",
       "3653  295362.86          3.0         153.0      200.0      1.2  \n",
       "\n",
       "[1 rows x 173 columns]"
      ]
     },
     "execution_count": 4,
     "metadata": {},
     "output_type": "execute_result"
    }
   ],
   "source": [
    "# train-test-valid 데이터셋 모두 합쳐서 전처리\n",
    "train['tag'] = 'train'\n",
    "test['tag'] = 'test'\n",
    "valid['tag'] = 'valid'\n",
    "\n",
    "df = pd.concat([train, test, valid])\n",
    "df.sample()"
   ]
  },
  {
   "cell_type": "code",
   "execution_count": 5,
   "metadata": {},
   "outputs": [
    {
     "data": {
      "text/html": [
       "<div>\n",
       "<style scoped>\n",
       "    .dataframe tbody tr th:only-of-type {\n",
       "        vertical-align: middle;\n",
       "    }\n",
       "\n",
       "    .dataframe tbody tr th {\n",
       "        vertical-align: top;\n",
       "    }\n",
       "\n",
       "    .dataframe thead th {\n",
       "        text-align: right;\n",
       "    }\n",
       "</style>\n",
       "<table border=\"1\" class=\"dataframe\">\n",
       "  <thead>\n",
       "    <tr style=\"text-align: right;\">\n",
       "      <th></th>\n",
       "      <th>0</th>\n",
       "    </tr>\n",
       "  </thead>\n",
       "  <tbody>\n",
       "    <tr>\n",
       "      <th>0</th>\n",
       "      <td>ahsm_dstnc</td>\n",
       "    </tr>\n",
       "    <tr>\n",
       "      <th>1</th>\n",
       "      <td>bldng_ar</td>\n",
       "    </tr>\n",
       "    <tr>\n",
       "      <th>2</th>\n",
       "      <td>bldng_ar_prc</td>\n",
       "    </tr>\n",
       "    <tr>\n",
       "      <th>3</th>\n",
       "      <td>bldng_archtctr</td>\n",
       "    </tr>\n",
       "    <tr>\n",
       "      <th>4</th>\n",
       "      <td>bldng_cnt</td>\n",
       "    </tr>\n",
       "    <tr>\n",
       "      <th>5</th>\n",
       "      <td>bldng_cnt_in_50m</td>\n",
       "    </tr>\n",
       "    <tr>\n",
       "      <th>6</th>\n",
       "      <td>bldng_us</td>\n",
       "    </tr>\n",
       "    <tr>\n",
       "      <th>7</th>\n",
       "      <td>bldng_us_clssfctn</td>\n",
       "    </tr>\n",
       "    <tr>\n",
       "      <th>8</th>\n",
       "      <td>cctv_dstnc</td>\n",
       "    </tr>\n",
       "    <tr>\n",
       "      <th>9</th>\n",
       "      <td>cctv_in_100m</td>\n",
       "    </tr>\n",
       "    <tr>\n",
       "      <th>10</th>\n",
       "      <td>dt_of_athrztn</td>\n",
       "    </tr>\n",
       "    <tr>\n",
       "      <th>11</th>\n",
       "      <td>dt_of_fr</td>\n",
       "    </tr>\n",
       "    <tr>\n",
       "      <th>12</th>\n",
       "      <td>ele_engry_us_201401</td>\n",
       "    </tr>\n",
       "    <tr>\n",
       "      <th>13</th>\n",
       "      <td>ele_engry_us_201402</td>\n",
       "    </tr>\n",
       "    <tr>\n",
       "      <th>14</th>\n",
       "      <td>ele_engry_us_201403</td>\n",
       "    </tr>\n",
       "    <tr>\n",
       "      <th>15</th>\n",
       "      <td>ele_engry_us_201404</td>\n",
       "    </tr>\n",
       "    <tr>\n",
       "      <th>16</th>\n",
       "      <td>ele_engry_us_201405</td>\n",
       "    </tr>\n",
       "    <tr>\n",
       "      <th>17</th>\n",
       "      <td>ele_engry_us_201406</td>\n",
       "    </tr>\n",
       "    <tr>\n",
       "      <th>18</th>\n",
       "      <td>ele_engry_us_201407</td>\n",
       "    </tr>\n",
       "    <tr>\n",
       "      <th>19</th>\n",
       "      <td>ele_engry_us_201408</td>\n",
       "    </tr>\n",
       "    <tr>\n",
       "      <th>20</th>\n",
       "      <td>ele_engry_us_201409</td>\n",
       "    </tr>\n",
       "    <tr>\n",
       "      <th>21</th>\n",
       "      <td>ele_engry_us_201410</td>\n",
       "    </tr>\n",
       "    <tr>\n",
       "      <th>22</th>\n",
       "      <td>ele_engry_us_201411</td>\n",
       "    </tr>\n",
       "    <tr>\n",
       "      <th>23</th>\n",
       "      <td>ele_engry_us_201412</td>\n",
       "    </tr>\n",
       "    <tr>\n",
       "      <th>24</th>\n",
       "      <td>ele_engry_us_201501</td>\n",
       "    </tr>\n",
       "    <tr>\n",
       "      <th>25</th>\n",
       "      <td>ele_engry_us_201502</td>\n",
       "    </tr>\n",
       "    <tr>\n",
       "      <th>26</th>\n",
       "      <td>ele_engry_us_201503</td>\n",
       "    </tr>\n",
       "    <tr>\n",
       "      <th>27</th>\n",
       "      <td>ele_engry_us_201504</td>\n",
       "    </tr>\n",
       "    <tr>\n",
       "      <th>28</th>\n",
       "      <td>ele_engry_us_201505</td>\n",
       "    </tr>\n",
       "    <tr>\n",
       "      <th>29</th>\n",
       "      <td>ele_engry_us_201506</td>\n",
       "    </tr>\n",
       "    <tr>\n",
       "      <th>...</th>\n",
       "      <td>...</td>\n",
       "    </tr>\n",
       "    <tr>\n",
       "      <th>143</th>\n",
       "      <td>lnd_us_sttn_nm</td>\n",
       "    </tr>\n",
       "    <tr>\n",
       "      <th>144</th>\n",
       "      <td>lw_13101010</td>\n",
       "    </tr>\n",
       "    <tr>\n",
       "      <th>145</th>\n",
       "      <td>lw_13101110</td>\n",
       "    </tr>\n",
       "    <tr>\n",
       "      <th>146</th>\n",
       "      <td>lw_13101210</td>\n",
       "    </tr>\n",
       "    <tr>\n",
       "      <th>147</th>\n",
       "      <td>lw_13101211</td>\n",
       "    </tr>\n",
       "    <tr>\n",
       "      <th>148</th>\n",
       "      <td>lw_13101310</td>\n",
       "    </tr>\n",
       "    <tr>\n",
       "      <th>149</th>\n",
       "      <td>lw_13101410</td>\n",
       "    </tr>\n",
       "    <tr>\n",
       "      <th>150</th>\n",
       "      <td>lw_13111010</td>\n",
       "    </tr>\n",
       "    <tr>\n",
       "      <th>151</th>\n",
       "      <td>lw_13111110</td>\n",
       "    </tr>\n",
       "    <tr>\n",
       "      <th>152</th>\n",
       "      <td>lw_13121010</td>\n",
       "    </tr>\n",
       "    <tr>\n",
       "      <th>153</th>\n",
       "      <td>lw_13121011</td>\n",
       "    </tr>\n",
       "    <tr>\n",
       "      <th>154</th>\n",
       "      <td>lw_13131010</td>\n",
       "    </tr>\n",
       "    <tr>\n",
       "      <th>155</th>\n",
       "      <td>lw_13131110</td>\n",
       "    </tr>\n",
       "    <tr>\n",
       "      <th>156</th>\n",
       "      <td>lw_13141010</td>\n",
       "    </tr>\n",
       "    <tr>\n",
       "      <th>157</th>\n",
       "      <td>lw_13141011</td>\n",
       "    </tr>\n",
       "    <tr>\n",
       "      <th>158</th>\n",
       "      <td>mlt_us_yn</td>\n",
       "    </tr>\n",
       "    <tr>\n",
       "      <th>159</th>\n",
       "      <td>no_tbc_zn_dstnc</td>\n",
       "    </tr>\n",
       "    <tr>\n",
       "      <th>160</th>\n",
       "      <td>prcpttn</td>\n",
       "    </tr>\n",
       "    <tr>\n",
       "      <th>161</th>\n",
       "      <td>rd_sd_nm</td>\n",
       "    </tr>\n",
       "    <tr>\n",
       "      <th>162</th>\n",
       "      <td>rgnl_ar_nm</td>\n",
       "    </tr>\n",
       "    <tr>\n",
       "      <th>163</th>\n",
       "      <td>rgnl_ar_nm2</td>\n",
       "    </tr>\n",
       "    <tr>\n",
       "      <th>164</th>\n",
       "      <td>sft_emrgnc_bll_dstnc</td>\n",
       "    </tr>\n",
       "    <tr>\n",
       "      <th>165</th>\n",
       "      <td>tag</td>\n",
       "    </tr>\n",
       "    <tr>\n",
       "      <th>166</th>\n",
       "      <td>tbc_rtl_str_dstnc</td>\n",
       "    </tr>\n",
       "    <tr>\n",
       "      <th>167</th>\n",
       "      <td>tmprtr</td>\n",
       "    </tr>\n",
       "    <tr>\n",
       "      <th>168</th>\n",
       "      <td>ttl_ar</td>\n",
       "    </tr>\n",
       "    <tr>\n",
       "      <th>169</th>\n",
       "      <td>ttl_dwn_flr</td>\n",
       "    </tr>\n",
       "    <tr>\n",
       "      <th>170</th>\n",
       "      <td>ttl_grnd_flr</td>\n",
       "    </tr>\n",
       "    <tr>\n",
       "      <th>171</th>\n",
       "      <td>wnd_drctn</td>\n",
       "    </tr>\n",
       "    <tr>\n",
       "      <th>172</th>\n",
       "      <td>wnd_spd</td>\n",
       "    </tr>\n",
       "  </tbody>\n",
       "</table>\n",
       "<p>173 rows × 1 columns</p>\n",
       "</div>"
      ],
      "text/plain": [
       "                        0\n",
       "0              ahsm_dstnc\n",
       "1                bldng_ar\n",
       "2            bldng_ar_prc\n",
       "3          bldng_archtctr\n",
       "4               bldng_cnt\n",
       "5        bldng_cnt_in_50m\n",
       "6                bldng_us\n",
       "7       bldng_us_clssfctn\n",
       "8              cctv_dstnc\n",
       "9            cctv_in_100m\n",
       "10          dt_of_athrztn\n",
       "11               dt_of_fr\n",
       "12    ele_engry_us_201401\n",
       "13    ele_engry_us_201402\n",
       "14    ele_engry_us_201403\n",
       "15    ele_engry_us_201404\n",
       "16    ele_engry_us_201405\n",
       "17    ele_engry_us_201406\n",
       "18    ele_engry_us_201407\n",
       "19    ele_engry_us_201408\n",
       "20    ele_engry_us_201409\n",
       "21    ele_engry_us_201410\n",
       "22    ele_engry_us_201411\n",
       "23    ele_engry_us_201412\n",
       "24    ele_engry_us_201501\n",
       "25    ele_engry_us_201502\n",
       "26    ele_engry_us_201503\n",
       "27    ele_engry_us_201504\n",
       "28    ele_engry_us_201505\n",
       "29    ele_engry_us_201506\n",
       "..                    ...\n",
       "143        lnd_us_sttn_nm\n",
       "144           lw_13101010\n",
       "145           lw_13101110\n",
       "146           lw_13101210\n",
       "147           lw_13101211\n",
       "148           lw_13101310\n",
       "149           lw_13101410\n",
       "150           lw_13111010\n",
       "151           lw_13111110\n",
       "152           lw_13121010\n",
       "153           lw_13121011\n",
       "154           lw_13131010\n",
       "155           lw_13131110\n",
       "156           lw_13141010\n",
       "157           lw_13141011\n",
       "158             mlt_us_yn\n",
       "159       no_tbc_zn_dstnc\n",
       "160               prcpttn\n",
       "161              rd_sd_nm\n",
       "162            rgnl_ar_nm\n",
       "163           rgnl_ar_nm2\n",
       "164  sft_emrgnc_bll_dstnc\n",
       "165                   tag\n",
       "166     tbc_rtl_str_dstnc\n",
       "167                tmprtr\n",
       "168                ttl_ar\n",
       "169           ttl_dwn_flr\n",
       "170          ttl_grnd_flr\n",
       "171             wnd_drctn\n",
       "172               wnd_spd\n",
       "\n",
       "[173 rows x 1 columns]"
      ]
     },
     "execution_count": 5,
     "metadata": {},
     "output_type": "execute_result"
    }
   ],
   "source": [
    "# 컬럼명 확인\n",
    "pd.DataFrame(df.columns)"
   ]
  },
  {
   "cell_type": "markdown",
   "metadata": {},
   "source": [
    "## Null 값 확인"
   ]
  },
  {
   "cell_type": "code",
   "execution_count": 6,
   "metadata": {},
   "outputs": [
    {
     "data": {
      "text/plain": [
       "ahsm_dstnc                  0\n",
       "bldng_ar                    0\n",
       "bldng_ar_prc            26325\n",
       "bldng_archtctr          29224\n",
       "bldng_cnt                   0\n",
       "bldng_cnt_in_50m            0\n",
       "bldng_us                29259\n",
       "bldng_us_clssfctn       31642\n",
       "cctv_dstnc                  0\n",
       "cctv_in_100m                0\n",
       "dt_of_athrztn           29132\n",
       "dt_of_fr                    0\n",
       "ele_engry_us_201401     49681\n",
       "ele_engry_us_201402     49681\n",
       "ele_engry_us_201403     49681\n",
       "ele_engry_us_201404     49681\n",
       "ele_engry_us_201405     49681\n",
       "ele_engry_us_201406     49681\n",
       "ele_engry_us_201407     49681\n",
       "ele_engry_us_201408     49681\n",
       "ele_engry_us_201409     49681\n",
       "ele_engry_us_201410     49681\n",
       "ele_engry_us_201411     49681\n",
       "ele_engry_us_201412     49681\n",
       "ele_engry_us_201501     49681\n",
       "ele_engry_us_201502     49681\n",
       "ele_engry_us_201503     49681\n",
       "ele_engry_us_201504     49681\n",
       "ele_engry_us_201505     49681\n",
       "ele_engry_us_201506     49681\n",
       "                        ...  \n",
       "lnd_us_sttn_nm           2012\n",
       "lw_13101010             68611\n",
       "lw_13101110             68622\n",
       "lw_13101210             68616\n",
       "lw_13101211             68615\n",
       "lw_13101310             68621\n",
       "lw_13101410             68630\n",
       "lw_13111010             68613\n",
       "lw_13111110             68632\n",
       "lw_13121010             68640\n",
       "lw_13121011             68640\n",
       "lw_13131010             68617\n",
       "lw_13131110             68617\n",
       "lw_13141010             68621\n",
       "lw_13141011             68622\n",
       "mlt_us_yn                   0\n",
       "no_tbc_zn_dstnc             0\n",
       "prcpttn                 62721\n",
       "rd_sd_nm                 1623\n",
       "rgnl_ar_nm               1623\n",
       "rgnl_ar_nm2              1623\n",
       "sft_emrgnc_bll_dstnc        0\n",
       "tag                         0\n",
       "tbc_rtl_str_dstnc           0\n",
       "tmprtr                     15\n",
       "ttl_ar                      0\n",
       "ttl_dwn_flr             12329\n",
       "ttl_grnd_flr            11348\n",
       "wnd_drctn                 237\n",
       "wnd_spd                    38\n",
       "Length: 173, dtype: int64"
      ]
     },
     "execution_count": 6,
     "metadata": {},
     "output_type": "execute_result"
    }
   ],
   "source": [
    "df.isnull().sum()"
   ]
  },
  {
   "cell_type": "markdown",
   "metadata": {},
   "source": [
    "- ['bldng_us_clssfctn', 29343]건물용도분류명(주거용)   \n",
    "- ['bldng_us', 27677]건물용도(단독주택)  \n",
    "- ['bldng_archtctr', 27665]건물구조(벽돌구조)  \n",
    "- ['dt_of_athrztn', 27581]건물승인일자(19850417)  \n",
    "- ['bldng_ar_prc', 21895]단위 면적당 건물 가격_2019년 기준(312411)  \n",
    "- ['ttl_dwn_flr', 11005]건물들의 지하 층수의 합(0)  \n",
    "- ['ttl_grnd_flr', 10210]건물들의 지상 층수의 합(4)  \n",
    "- ['lnd_us_sttn_nm', 1776]토지 이용상황명(전)\n",
    "- ['rd_sd_nm', 1491]도로측면명(맹지)  \n",
    "- ['rgnl_ar_nm2', 1491]용도지역지구명2(지정되지 않음)  \n",
    "- ['rgnl_ar_nm', 1491]용도지역지구명(개발제한구역)  \n",
    "- ['hm_cnt', 701]행정구역 인구(27312)  \n",
    "- ['wnd_drctn', 221]풍향(270)\n",
    "- ['fr_mn_cnt', 41]관할 소방서 인원(224)  \n",
    "- ['wnd_spd', 33]풍속(2.2)\n",
    "- ['hmdt', 22]습도(77)\n",
    "- ['tmprtr', 13]온도_c(4.4)  \n",
    "- ['emd_nm', 4]행정구역명(경상남도 진주시 판문동)  \n",
    "__________________________________________________\n",
    "- ['bldng_cnt_in_50m', 0]반경 50M 이내의 건물 수(23)  \n",
    "- ['no_tbc_zn_dstnc', 0]금연구역과의 최소 거리(235)  \n",
    "- ['fr_wthr_fclt_in_100m', 0]반경 100M 이내 소방용수 시설 수(2)  \n",
    "- ['ahsm_dstnc', 0]자동 심장 충격기와의 최소 거리(234)  \n",
    "- ['sft_emrgnc_bll_dstnc', 0]안전 비상벨과의 최소 거리(233)  \n",
    "- ['tbc_rtl_str_dstnc', 0]담배 소매점과의 최소 거리(232)  \n",
    "- ['cctv_in_100m', 0]반경 100M 이내 공공 CCTV(1)  \n",
    "- ['mlt_us_yn', 0]다중이용시설 포함여부(Y)  \n",
    "- ['cctv_dstnc', 0]공공 CCTV와의 최소 거리(232)  \n",
    "- ['fr_wthr_fclt_dstnc', 0]소방용수시설(소화전 등)과의 최소 거리(223)  \n",
    "- ['fr_sttn_dstnc', 0]119안전센터와의 거리(3222)  \n",
    "- ['jmk', 0]지적상 지목(답)  \n",
    "- [dt_of_fr', 0]화재발생일시(2014-03-18 15:23:18)  \n",
    "- ['lnd_ar', 0]토지면적(390)  \n",
    "- ['ttl_ar', 0]건물연면적_건물층별합계전체면적(130.845)  \n",
    "- ['bldng_ar', 0]건물건축면적(130.845)  \n",
    "- ['bldng_cnt', 0]건물채수(4)  "
   ]
  },
  {
   "cell_type": "markdown",
   "metadata": {},
   "source": [
    "## 전기/가스 사용량 컬럼 제외\n",
    "Null 값도 많고, 컬럼 수가 너무 많아서 제외"
   ]
  },
  {
   "cell_type": "code",
   "execution_count": 7,
   "metadata": {},
   "outputs": [
    {
     "data": {
      "text/html": [
       "<div>\n",
       "<style scoped>\n",
       "    .dataframe tbody tr th:only-of-type {\n",
       "        vertical-align: middle;\n",
       "    }\n",
       "\n",
       "    .dataframe tbody tr th {\n",
       "        vertical-align: top;\n",
       "    }\n",
       "\n",
       "    .dataframe thead th {\n",
       "        text-align: right;\n",
       "    }\n",
       "</style>\n",
       "<table border=\"1\" class=\"dataframe\">\n",
       "  <thead>\n",
       "    <tr style=\"text-align: right;\">\n",
       "      <th></th>\n",
       "      <th>id</th>\n",
       "      <th>dt_of_fr</th>\n",
       "      <th>bldng_us</th>\n",
       "      <th>bldng_archtctr</th>\n",
       "      <th>bldng_cnt</th>\n",
       "      <th>bldng_ar</th>\n",
       "      <th>ttl_ar</th>\n",
       "      <th>lnd_ar</th>\n",
       "      <th>dt_of_athrztn</th>\n",
       "      <th>ttl_grnd_flr</th>\n",
       "      <th>...</th>\n",
       "      <th>cctv_in_100m</th>\n",
       "      <th>fr_mn_cnt</th>\n",
       "      <th>fr_wthr_fclt_in_100m</th>\n",
       "      <th>tbc_rtl_str_dstnc</th>\n",
       "      <th>sft_emrgnc_bll_dstnc</th>\n",
       "      <th>ahsm_dstnc</th>\n",
       "      <th>no_tbc_zn_dstnc</th>\n",
       "      <th>bldng_cnt_in_50m</th>\n",
       "      <th>fr_yn</th>\n",
       "      <th>tag</th>\n",
       "    </tr>\n",
       "  </thead>\n",
       "  <tbody>\n",
       "    <tr>\n",
       "      <th>26026</th>\n",
       "      <td>125679</td>\n",
       "      <td>2015-03-21 15:05:50</td>\n",
       "      <td>NaN</td>\n",
       "      <td>NaN</td>\n",
       "      <td>1</td>\n",
       "      <td>0.0</td>\n",
       "      <td>0.0</td>\n",
       "      <td>0.0</td>\n",
       "      <td>NaN</td>\n",
       "      <td>1.0</td>\n",
       "      <td>...</td>\n",
       "      <td>0</td>\n",
       "      <td>176.0</td>\n",
       "      <td>0</td>\n",
       "      <td>221</td>\n",
       "      <td>11114</td>\n",
       "      <td>492</td>\n",
       "      <td>489</td>\n",
       "      <td>19</td>\n",
       "      <td>N</td>\n",
       "      <td>train</td>\n",
       "    </tr>\n",
       "  </tbody>\n",
       "</table>\n",
       "<p>1 rows × 34 columns</p>\n",
       "</div>"
      ],
      "text/plain": [
       "           id             dt_of_fr bldng_us bldng_archtctr  bldng_cnt  \\\n",
       "26026  125679  2015-03-21 15:05:50      NaN            NaN          1   \n",
       "\n",
       "       bldng_ar  ttl_ar  lnd_ar dt_of_athrztn  ttl_grnd_flr  ...  \\\n",
       "26026       0.0     0.0     0.0           NaN           1.0  ...   \n",
       "\n",
       "       cctv_in_100m fr_mn_cnt  fr_wthr_fclt_in_100m  tbc_rtl_str_dstnc  \\\n",
       "26026             0     176.0                     0                221   \n",
       "\n",
       "       sft_emrgnc_bll_dstnc  ahsm_dstnc  no_tbc_zn_dstnc bldng_cnt_in_50m  \\\n",
       "26026                 11114         492              489               19   \n",
       "\n",
       "      fr_yn    tag  \n",
       "26026     N  train  \n",
       "\n",
       "[1 rows x 34 columns]"
      ]
     },
     "execution_count": 7,
     "metadata": {},
     "output_type": "execute_result"
    }
   ],
   "source": [
    "columns = ['id', 'dt_of_fr', 'bldng_us', 'bldng_archtctr', 'bldng_cnt'\n",
    "           , 'bldng_ar', 'ttl_ar', 'lnd_ar', 'dt_of_athrztn', 'ttl_grnd_flr'\n",
    "           , 'ttl_dwn_flr', 'bldng_us_clssfctn', 'tmprtr', 'prcpttn'\n",
    "           , 'wnd_spd', 'wnd_drctn', 'hmdt'\n",
    "           , 'jmk' \n",
    "           , 'emd_nm', 'hm_cnt'\n",
    "           , 'fr_sttn_dstnc', 'fr_wthr_fclt_dstnc'\n",
    "           , 'mlt_us_yn', 'cctv_dstnc', 'cctv_in_100m', 'fr_mn_cnt'\n",
    "           , 'fr_wthr_fclt_in_100m', 'tbc_rtl_str_dstnc', 'sft_emrgnc_bll_dstnc'\n",
    "           , 'ahsm_dstnc', 'no_tbc_zn_dstnc', 'bldng_cnt_in_50m', 'fr_yn'\n",
    "           , 'tag'\n",
    "          ]\n",
    "\n",
    "df = df[columns]\n",
    "df.sample()"
   ]
  },
  {
   "cell_type": "markdown",
   "metadata": {},
   "source": [
    "# PreProcessing"
   ]
  },
  {
   "cell_type": "markdown",
   "metadata": {},
   "source": [
    "## One Hot Encoding) fr_yn 화재발생여부\n",
    "- Y: 1\n",
    "- N: 0"
   ]
  },
  {
   "cell_type": "code",
   "execution_count": 8,
   "metadata": {},
   "outputs": [
    {
     "data": {
      "text/plain": [
       "array(['N', 'Y', nan], dtype=object)"
      ]
     },
     "execution_count": 8,
     "metadata": {},
     "output_type": "execute_result"
    }
   ],
   "source": [
    "df['fr_yn'].unique()"
   ]
  },
  {
   "cell_type": "code",
   "execution_count": 9,
   "metadata": {},
   "outputs": [
    {
     "data": {
      "text/html": [
       "<div>\n",
       "<style scoped>\n",
       "    .dataframe tbody tr th:only-of-type {\n",
       "        vertical-align: middle;\n",
       "    }\n",
       "\n",
       "    .dataframe tbody tr th {\n",
       "        vertical-align: top;\n",
       "    }\n",
       "\n",
       "    .dataframe thead th {\n",
       "        text-align: right;\n",
       "    }\n",
       "</style>\n",
       "<table border=\"1\" class=\"dataframe\">\n",
       "  <thead>\n",
       "    <tr style=\"text-align: right;\">\n",
       "      <th></th>\n",
       "      <th>fr_yn</th>\n",
       "      <th>fire_yes</th>\n",
       "    </tr>\n",
       "  </thead>\n",
       "  <tbody>\n",
       "    <tr>\n",
       "      <th>4068</th>\n",
       "      <td>N</td>\n",
       "      <td>False</td>\n",
       "    </tr>\n",
       "  </tbody>\n",
       "</table>\n",
       "</div>"
      ],
      "text/plain": [
       "     fr_yn  fire_yes\n",
       "4068     N     False"
      ]
     },
     "execution_count": 9,
     "metadata": {},
     "output_type": "execute_result"
    }
   ],
   "source": [
    "df['fire_yes'] = (df['fr_yn'] == 'Y')\n",
    "\n",
    "df[['fr_yn', 'fire_yes']].sample()"
   ]
  },
  {
   "cell_type": "markdown",
   "metadata": {},
   "source": [
    "## One Hot Encoding) mlt_us_yn 다중이용시설 포함여부"
   ]
  },
  {
   "cell_type": "code",
   "execution_count": 10,
   "metadata": {},
   "outputs": [
    {
     "data": {
      "text/plain": [
       "array(['N', 'Y'], dtype=object)"
      ]
     },
     "execution_count": 10,
     "metadata": {},
     "output_type": "execute_result"
    }
   ],
   "source": [
    "df['mlt_us_yn'].unique()"
   ]
  },
  {
   "cell_type": "code",
   "execution_count": 11,
   "metadata": {},
   "outputs": [
    {
     "data": {
      "text/html": [
       "<div>\n",
       "<style scoped>\n",
       "    .dataframe tbody tr th:only-of-type {\n",
       "        vertical-align: middle;\n",
       "    }\n",
       "\n",
       "    .dataframe tbody tr th {\n",
       "        vertical-align: top;\n",
       "    }\n",
       "\n",
       "    .dataframe thead th {\n",
       "        text-align: right;\n",
       "    }\n",
       "</style>\n",
       "<table border=\"1\" class=\"dataframe\">\n",
       "  <thead>\n",
       "    <tr style=\"text-align: right;\">\n",
       "      <th></th>\n",
       "      <th>mlt_us_yn</th>\n",
       "      <th>mlt_us_yn(encode)</th>\n",
       "    </tr>\n",
       "  </thead>\n",
       "  <tbody>\n",
       "    <tr>\n",
       "      <th>930</th>\n",
       "      <td>N</td>\n",
       "      <td>False</td>\n",
       "    </tr>\n",
       "  </tbody>\n",
       "</table>\n",
       "</div>"
      ],
      "text/plain": [
       "    mlt_us_yn  mlt_us_yn(encode)\n",
       "930         N              False"
      ]
     },
     "execution_count": 11,
     "metadata": {},
     "output_type": "execute_result"
    }
   ],
   "source": [
    "df['mlt_us_yn(encode)'] = df['mlt_us_yn'] == 'Y'\n",
    "\n",
    "df[['mlt_us_yn', 'mlt_us_yn(encode)']].sample()"
   ]
  },
  {
   "cell_type": "code",
   "execution_count": 12,
   "metadata": {},
   "outputs": [
    {
     "data": {
      "text/html": [
       "<div>\n",
       "<style scoped>\n",
       "    .dataframe tbody tr th:only-of-type {\n",
       "        vertical-align: middle;\n",
       "    }\n",
       "\n",
       "    .dataframe tbody tr th {\n",
       "        vertical-align: top;\n",
       "    }\n",
       "\n",
       "    .dataframe thead th {\n",
       "        text-align: right;\n",
       "    }\n",
       "</style>\n",
       "<table border=\"1\" class=\"dataframe\">\n",
       "  <thead>\n",
       "    <tr style=\"text-align: right;\">\n",
       "      <th></th>\n",
       "      <th>mlt_us_yn(encode)</th>\n",
       "      <th>fire_yes</th>\n",
       "      <th>id</th>\n",
       "      <th>ratio</th>\n",
       "    </tr>\n",
       "  </thead>\n",
       "  <tbody>\n",
       "    <tr>\n",
       "      <th>0</th>\n",
       "      <td>False</td>\n",
       "      <td>8818.0</td>\n",
       "      <td>68846</td>\n",
       "      <td>12.808297</td>\n",
       "    </tr>\n",
       "    <tr>\n",
       "      <th>1</th>\n",
       "      <td>True</td>\n",
       "      <td>111.0</td>\n",
       "      <td>208</td>\n",
       "      <td>53.365385</td>\n",
       "    </tr>\n",
       "  </tbody>\n",
       "</table>\n",
       "</div>"
      ],
      "text/plain": [
       "   mlt_us_yn(encode)  fire_yes     id      ratio\n",
       "0              False    8818.0  68846  12.808297\n",
       "1               True     111.0    208  53.365385"
      ]
     },
     "execution_count": 12,
     "metadata": {},
     "output_type": "execute_result"
    }
   ],
   "source": [
    "data_fire = pd.DataFrame(df.groupby('mlt_us_yn(encode)')['fire_yes'].sum()).reset_index()\n",
    "data_all = pd.DataFrame(df.groupby('mlt_us_yn(encode)')['id'].count()).reset_index()\n",
    "data = data_fire.merge(data_all, on='mlt_us_yn(encode)')\n",
    "data['ratio'] = data['fire_yes'] * 100 / data['id']\n",
    "data"
   ]
  },
  {
   "cell_type": "markdown",
   "metadata": {},
   "source": [
    "## datetime Parsing) dt_of_fr 화재발생시점/관찰시점"
   ]
  },
  {
   "cell_type": "code",
   "execution_count": 13,
   "metadata": {},
   "outputs": [
    {
     "data": {
      "text/html": [
       "<div>\n",
       "<style scoped>\n",
       "    .dataframe tbody tr th:only-of-type {\n",
       "        vertical-align: middle;\n",
       "    }\n",
       "\n",
       "    .dataframe tbody tr th {\n",
       "        vertical-align: top;\n",
       "    }\n",
       "\n",
       "    .dataframe thead th {\n",
       "        text-align: right;\n",
       "    }\n",
       "</style>\n",
       "<table border=\"1\" class=\"dataframe\">\n",
       "  <thead>\n",
       "    <tr style=\"text-align: right;\">\n",
       "      <th></th>\n",
       "      <th>dt_of_fr</th>\n",
       "      <th>year-month</th>\n",
       "      <th>year-month-day</th>\n",
       "      <th>year</th>\n",
       "      <th>month</th>\n",
       "      <th>day</th>\n",
       "      <th>dayofweek</th>\n",
       "      <th>hour</th>\n",
       "      <th>minute</th>\n",
       "      <th>second</th>\n",
       "    </tr>\n",
       "  </thead>\n",
       "  <tbody>\n",
       "    <tr>\n",
       "      <th>28714</th>\n",
       "      <td>2014-01-21 23:52:51</td>\n",
       "      <td>2014-01</td>\n",
       "      <td>2014-01-21</td>\n",
       "      <td>2014</td>\n",
       "      <td>1</td>\n",
       "      <td>21</td>\n",
       "      <td>Tuesday</td>\n",
       "      <td>23</td>\n",
       "      <td>52</td>\n",
       "      <td>51</td>\n",
       "    </tr>\n",
       "  </tbody>\n",
       "</table>\n",
       "</div>"
      ],
      "text/plain": [
       "                  dt_of_fr year-month year-month-day  year  month  day  \\\n",
       "28714  2014-01-21 23:52:51    2014-01     2014-01-21  2014      1   21   \n",
       "\n",
       "      dayofweek  hour  minute  second  \n",
       "28714   Tuesday    23      52      51  "
      ]
     },
     "execution_count": 13,
     "metadata": {},
     "output_type": "execute_result"
    }
   ],
   "source": [
    "df['year'] = pd.to_datetime(df['dt_of_fr']).dt.year\n",
    "df['month'] = pd.to_datetime(df['dt_of_fr']).dt.month\n",
    "df['day'] = pd.to_datetime(df['dt_of_fr']).dt.day\n",
    "df['hour'] = pd.to_datetime(df['dt_of_fr']).dt.hour\n",
    "df['minute'] = pd.to_datetime(df['dt_of_fr']).dt.minute\n",
    "df['second'] = pd.to_datetime(df['dt_of_fr']).dt.second\n",
    "df['dayofweek'] = pd.to_datetime(df['dt_of_fr']).dt.day_name()\n",
    "\n",
    "df['year-month'] = df['dt_of_fr'].apply(lambda x: x[:7])\n",
    "df['year-month-day'] = df['dt_of_fr'].apply(lambda x: x[:10])\n",
    "\n",
    "df[['dt_of_fr', 'year-month', 'year-month-day', 'year', 'month', 'day', 'dayofweek', 'hour', 'minute', 'second']].sample()"
   ]
  },
  {
   "cell_type": "markdown",
   "metadata": {},
   "source": [
    "## Null 값 채우기) emd_nm 행정구역명\n",
    "전체 데이터 중 행정구역명이 Null 값인 데이터는 4개 뿐이라 삭제"
   ]
  },
  {
   "cell_type": "code",
   "execution_count": 14,
   "metadata": {
    "scrolled": true
   },
   "outputs": [],
   "source": [
    "df = df.dropna(subset=['emd_nm'])"
   ]
  },
  {
   "cell_type": "markdown",
   "metadata": {},
   "source": [
    "## 행정구역명 나눠서 컬럼'address1', 'address2'에 담기"
   ]
  },
  {
   "cell_type": "code",
   "execution_count": 15,
   "metadata": {},
   "outputs": [
    {
     "data": {
      "text/html": [
       "<div>\n",
       "<style scoped>\n",
       "    .dataframe tbody tr th:only-of-type {\n",
       "        vertical-align: middle;\n",
       "    }\n",
       "\n",
       "    .dataframe tbody tr th {\n",
       "        vertical-align: top;\n",
       "    }\n",
       "\n",
       "    .dataframe thead th {\n",
       "        text-align: right;\n",
       "    }\n",
       "</style>\n",
       "<table border=\"1\" class=\"dataframe\">\n",
       "  <thead>\n",
       "    <tr style=\"text-align: right;\">\n",
       "      <th></th>\n",
       "      <th>emd_nm</th>\n",
       "      <th>address</th>\n",
       "      <th>address1</th>\n",
       "      <th>address2</th>\n",
       "    </tr>\n",
       "  </thead>\n",
       "  <tbody>\n",
       "    <tr>\n",
       "      <th>41789</th>\n",
       "      <td>경상남도 남해군 고현면</td>\n",
       "      <td>남해군 고현면</td>\n",
       "      <td>남해군</td>\n",
       "      <td>고현면</td>\n",
       "    </tr>\n",
       "  </tbody>\n",
       "</table>\n",
       "</div>"
      ],
      "text/plain": [
       "             emd_nm  address address1 address2\n",
       "41789  경상남도 남해군 고현면  남해군 고현면      남해군      고현면"
      ]
     },
     "execution_count": 15,
     "metadata": {},
     "output_type": "execute_result"
    }
   ],
   "source": [
    "df['address1'] = np.nan\n",
    "df['address2'] = np.nan\n",
    "\n",
    "df['address1'] = df['emd_nm'].apply(lambda x: str(x).split()[1][:3])\n",
    "df['address2'] = df['emd_nm'].apply(lambda x: str(x).split()[2])\n",
    "df['address'] = df['address1'] + ' ' + df['address2']\n",
    "# 창원시는 따로\n",
    "df.loc[df['address1'].apply(lambda x: len(x) > 3), 'address2'] = df['emd_nm'].apply(lambda x: str(x).split()[1][3:])\n",
    "\n",
    "df[['emd_nm', 'address', 'address1', 'address2']].sample()"
   ]
  },
  {
   "cell_type": "markdown",
   "metadata": {},
   "source": [
    "## Null 값 채우기) hm_cnt 행정구역 인구 "
   ]
  },
  {
   "cell_type": "markdown",
   "metadata": {},
   "source": [
    "인구 Null 값인 행정구역을 찾아보니, 몇 개 행정구역에 몰려있음"
   ]
  },
  {
   "cell_type": "code",
   "execution_count": 16,
   "metadata": {},
   "outputs": [
    {
     "data": {
      "text/plain": [
       "진주시 상대동      245\n",
       "진주시 하대동      167\n",
       "창원시 마산회원구     96\n",
       "창원시 마산합포구     80\n",
       "함안군 칠원읍       59\n",
       "창원시 진해구        9\n",
       "통영시 산양읍        6\n",
       "통영시 욕지면        6\n",
       "사천시 동금동        3\n",
       "하동군 진교면        2\n",
       "하동군 금남면        2\n",
       "통영시 용남면        2\n",
       "거제시 거제면        2\n",
       "창녕군 대합면        2\n",
       "고성군 거류면        2\n",
       "거제시 둔덕면        1\n",
       "창녕군 이방면        1\n",
       "양산시 하북면        1\n",
       "남해군 이동면        1\n",
       "고성군 회화면        1\n",
       "사천시 실안동        1\n",
       "김해시 어방동        1\n",
       "거제시 아주동        1\n",
       "남해군 남해읍        1\n",
       "통영시 도산면        1\n",
       "남해군 고현면        1\n",
       "남해군 창선면        1\n",
       "거제시 장목면        1\n",
       "통영시 미수동        1\n",
       "진주시 상평동        1\n",
       "Name: address, dtype: int64"
      ]
     },
     "execution_count": 16,
     "metadata": {},
     "output_type": "execute_result"
    }
   ],
   "source": [
    "df[df['hm_cnt'].isnull()]['address'].value_counts()"
   ]
  },
  {
   "cell_type": "markdown",
   "metadata": {},
   "source": [
    "### 행정구역별로 뜯어보기"
   ]
  },
  {
   "cell_type": "markdown",
   "metadata": {},
   "source": [
    "#### 진주시 인구 Null 값\n",
    "> 진주시청 제공, 12월말 기준\n",
    "\n",
    "진주시 동 | 2014 | 2015 | 2016\n",
    "-|-|-|-\n",
    "진주시 상대동| 26_019 | 25_599 | 25_321\n",
    "진주시 하대동| 27_457 | 26_981 | 27_067\n"
   ]
  },
  {
   "cell_type": "code",
   "execution_count": 17,
   "metadata": {
    "scrolled": true
   },
   "outputs": [
    {
     "data": {
      "text/plain": [
       "year\n",
       "2014        NaN\n",
       "2015        NaN\n",
       "2016        NaN\n",
       "2017    22764.0\n",
       "2018    22296.0\n",
       "Name: hm_cnt, dtype: float64"
      ]
     },
     "execution_count": 17,
     "metadata": {},
     "output_type": "execute_result"
    }
   ],
   "source": [
    "df[df['address'] == '진주시 상대동'].groupby('year')['hm_cnt'].median()"
   ]
  },
  {
   "cell_type": "code",
   "execution_count": 18,
   "metadata": {},
   "outputs": [
    {
     "data": {
      "text/plain": [
       "year\n",
       "2014        NaN\n",
       "2015        NaN\n",
       "2016        NaN\n",
       "2017    28687.5\n",
       "2018    28164.0\n",
       "Name: hm_cnt, dtype: float64"
      ]
     },
     "execution_count": 18,
     "metadata": {},
     "output_type": "execute_result"
    }
   ],
   "source": [
    "df[df['address'] == '진주시 하대동'].groupby('year')['hm_cnt'].median()"
   ]
  },
  {
   "cell_type": "markdown",
   "metadata": {},
   "source": [
    "#### 창원시는 null 값 뿐임. 인구 정보 따로 찾아보기\n",
    "> 창원시청 제공, 12월말 기준\n",
    "\n",
    "창원시 구 | 2014 | 2015 | 2016 | 2017 | 2018\n",
    "-|-|-|-|-|-\n",
    "창원시 마산합포구 | 184_179 | 183_829 | 183_989 | 181_917 | 182_772\n",
    "창원시 마산회원구 | 216_749 | 214_264 | 213_163 | 203_926 | 201_565\n",
    "창원시 진해구 | - | 189_463 | 190_780 | - |196_665"
   ]
  },
  {
   "cell_type": "code",
   "execution_count": 19,
   "metadata": {},
   "outputs": [
    {
     "data": {
      "text/plain": [
       "year\n",
       "2014   NaN\n",
       "2015   NaN\n",
       "2016   NaN\n",
       "Name: hm_cnt, dtype: float64"
      ]
     },
     "execution_count": 19,
     "metadata": {},
     "output_type": "execute_result"
    }
   ],
   "source": [
    "df[df['address'] == '창원시 마산회원구'].groupby('year')['hm_cnt'].median()"
   ]
  },
  {
   "cell_type": "code",
   "execution_count": 20,
   "metadata": {},
   "outputs": [
    {
     "data": {
      "text/plain": [
       "year\n",
       "2014   NaN\n",
       "2015   NaN\n",
       "2016   NaN\n",
       "2017   NaN\n",
       "Name: hm_cnt, dtype: float64"
      ]
     },
     "execution_count": 20,
     "metadata": {},
     "output_type": "execute_result"
    }
   ],
   "source": [
    "df[df['address'] == '창원시 마산합포구'].groupby('year')['hm_cnt'].median()"
   ]
  },
  {
   "cell_type": "code",
   "execution_count": 21,
   "metadata": {
    "scrolled": true
   },
   "outputs": [
    {
     "data": {
      "text/plain": [
       "year\n",
       "2015   NaN\n",
       "2016   NaN\n",
       "2018   NaN\n",
       "Name: hm_cnt, dtype: float64"
      ]
     },
     "execution_count": 21,
     "metadata": {},
     "output_type": "execute_result"
    }
   ],
   "source": [
    "df[df['address'] == '창원시 진해구'].groupby('year')['hm_cnt'].median()"
   ]
  },
  {
   "cell_type": "markdown",
   "metadata": {},
   "source": [
    "#### 함안군 칠원읍"
   ]
  },
  {
   "cell_type": "code",
   "execution_count": 22,
   "metadata": {},
   "outputs": [
    {
     "data": {
      "text/plain": [
       "year\n",
       "2014        NaN\n",
       "2015    21131.0\n",
       "2016    21022.0\n",
       "2017    20889.5\n",
       "2018    20672.0\n",
       "Name: hm_cnt, dtype: float64"
      ]
     },
     "execution_count": 22,
     "metadata": {},
     "output_type": "execute_result"
    }
   ],
   "source": [
    "df[df['address'] == '함안군 칠원읍'].groupby('year')['hm_cnt'].median()"
   ]
  },
  {
   "cell_type": "markdown",
   "metadata": {},
   "source": [
    "#### 사천시 동금동, 사천시 실안동 동단위 자료 없음\n",
    "사천시 전체에서 적은 비중이라 삭제"
   ]
  },
  {
   "cell_type": "code",
   "execution_count": 23,
   "metadata": {},
   "outputs": [
    {
     "data": {
      "text/plain": [
       "year\n",
       "2014   NaN\n",
       "2017   NaN\n",
       "Name: hm_cnt, dtype: float64"
      ]
     },
     "execution_count": 23,
     "metadata": {},
     "output_type": "execute_result"
    }
   ],
   "source": [
    "df[df['address'] == '사천시 동금동'].groupby('year')['hm_cnt'].median()"
   ]
  },
  {
   "cell_type": "code",
   "execution_count": 24,
   "metadata": {},
   "outputs": [
    {
     "data": {
      "text/plain": [
       "year\n",
       "2017   NaN\n",
       "Name: hm_cnt, dtype: float64"
      ]
     },
     "execution_count": 24,
     "metadata": {},
     "output_type": "execute_result"
    }
   ],
   "source": [
    "df[df['address'] == '사천시 실안동'].groupby('year')['hm_cnt'].median()"
   ]
  },
  {
   "cell_type": "code",
   "execution_count": 25,
   "metadata": {},
   "outputs": [
    {
     "data": {
      "text/plain": [
       "사천시 사천읍     380\n",
       "사천시 사남면     278\n",
       "사천시 용현면     270\n",
       "사천시 동서동     266\n",
       "사천시 서포면     262\n",
       "사천시 곤양면     243\n",
       "사천시 남양동     239\n",
       "사천시 정동면     235\n",
       "사천시 벌룡동     234\n",
       "사천시 향촌동     209\n",
       "사천시 곤명면     205\n",
       "사천시 선구동     146\n",
       "사천시 동서금동    138\n",
       "사천시 축동면     127\n",
       "사천시 동금동       3\n",
       "사천시 실안동       1\n",
       "Name: address, dtype: int64"
      ]
     },
     "execution_count": 25,
     "metadata": {},
     "output_type": "execute_result"
    }
   ],
   "source": [
    "df[df['address1'] == '사천시']['address'].value_counts()"
   ]
  },
  {
   "cell_type": "code",
   "execution_count": 26,
   "metadata": {},
   "outputs": [
    {
     "data": {
      "text/html": [
       "<div>\n",
       "<style scoped>\n",
       "    .dataframe tbody tr th:only-of-type {\n",
       "        vertical-align: middle;\n",
       "    }\n",
       "\n",
       "    .dataframe tbody tr th {\n",
       "        vertical-align: top;\n",
       "    }\n",
       "\n",
       "    .dataframe thead th {\n",
       "        text-align: right;\n",
       "    }\n",
       "</style>\n",
       "<table border=\"1\" class=\"dataframe\">\n",
       "  <thead>\n",
       "    <tr style=\"text-align: right;\">\n",
       "      <th></th>\n",
       "      <th>id</th>\n",
       "      <th>dt_of_fr</th>\n",
       "      <th>bldng_us</th>\n",
       "      <th>bldng_archtctr</th>\n",
       "      <th>bldng_cnt</th>\n",
       "      <th>bldng_ar</th>\n",
       "      <th>ttl_ar</th>\n",
       "      <th>lnd_ar</th>\n",
       "      <th>dt_of_athrztn</th>\n",
       "      <th>ttl_grnd_flr</th>\n",
       "      <th>...</th>\n",
       "      <th>day</th>\n",
       "      <th>hour</th>\n",
       "      <th>minute</th>\n",
       "      <th>second</th>\n",
       "      <th>dayofweek</th>\n",
       "      <th>year-month</th>\n",
       "      <th>year-month-day</th>\n",
       "      <th>address1</th>\n",
       "      <th>address2</th>\n",
       "      <th>address</th>\n",
       "    </tr>\n",
       "  </thead>\n",
       "  <tbody>\n",
       "    <tr>\n",
       "      <th>20446</th>\n",
       "      <td>113578</td>\n",
       "      <td>2017-06-26 20:12:00</td>\n",
       "      <td>제1종근린생활시설</td>\n",
       "      <td>철근콘크리트구조</td>\n",
       "      <td>1</td>\n",
       "      <td>225.21</td>\n",
       "      <td>203.73</td>\n",
       "      <td>675.0</td>\n",
       "      <td>2.00502e+07</td>\n",
       "      <td>1.0</td>\n",
       "      <td>...</td>\n",
       "      <td>26</td>\n",
       "      <td>20</td>\n",
       "      <td>12</td>\n",
       "      <td>0</td>\n",
       "      <td>Monday</td>\n",
       "      <td>2017-06</td>\n",
       "      <td>2017-06-26</td>\n",
       "      <td>사천시</td>\n",
       "      <td>동금동</td>\n",
       "      <td>사천시 동금동</td>\n",
       "    </tr>\n",
       "    <tr>\n",
       "      <th>20673</th>\n",
       "      <td>118226</td>\n",
       "      <td>2014-08-08 14:26:00</td>\n",
       "      <td>제1종근린생활시설</td>\n",
       "      <td>철근콘크리트구조</td>\n",
       "      <td>1</td>\n",
       "      <td>225.21</td>\n",
       "      <td>203.73</td>\n",
       "      <td>675.0</td>\n",
       "      <td>2.00502e+07</td>\n",
       "      <td>1.0</td>\n",
       "      <td>...</td>\n",
       "      <td>8</td>\n",
       "      <td>14</td>\n",
       "      <td>26</td>\n",
       "      <td>0</td>\n",
       "      <td>Friday</td>\n",
       "      <td>2014-08</td>\n",
       "      <td>2014-08-08</td>\n",
       "      <td>사천시</td>\n",
       "      <td>동금동</td>\n",
       "      <td>사천시 동금동</td>\n",
       "    </tr>\n",
       "    <tr>\n",
       "      <th>20680</th>\n",
       "      <td>104635</td>\n",
       "      <td>2014-05-22 21:38:00</td>\n",
       "      <td>제1종근린생활시설</td>\n",
       "      <td>철근콘크리트구조</td>\n",
       "      <td>1</td>\n",
       "      <td>225.21</td>\n",
       "      <td>203.73</td>\n",
       "      <td>675.0</td>\n",
       "      <td>2.00502e+07</td>\n",
       "      <td>1.0</td>\n",
       "      <td>...</td>\n",
       "      <td>22</td>\n",
       "      <td>21</td>\n",
       "      <td>38</td>\n",
       "      <td>0</td>\n",
       "      <td>Thursday</td>\n",
       "      <td>2014-05</td>\n",
       "      <td>2014-05-22</td>\n",
       "      <td>사천시</td>\n",
       "      <td>동금동</td>\n",
       "      <td>사천시 동금동</td>\n",
       "    </tr>\n",
       "  </tbody>\n",
       "</table>\n",
       "<p>3 rows × 48 columns</p>\n",
       "</div>"
      ],
      "text/plain": [
       "           id             dt_of_fr   bldng_us bldng_archtctr  bldng_cnt  \\\n",
       "20446  113578  2017-06-26 20:12:00  제1종근린생활시설       철근콘크리트구조          1   \n",
       "20673  118226  2014-08-08 14:26:00  제1종근린생활시설       철근콘크리트구조          1   \n",
       "20680  104635  2014-05-22 21:38:00  제1종근린생활시설       철근콘크리트구조          1   \n",
       "\n",
       "       bldng_ar  ttl_ar  lnd_ar dt_of_athrztn  ttl_grnd_flr  ...  day hour  \\\n",
       "20446    225.21  203.73   675.0   2.00502e+07           1.0  ...   26   20   \n",
       "20673    225.21  203.73   675.0   2.00502e+07           1.0  ...    8   14   \n",
       "20680    225.21  203.73   675.0   2.00502e+07           1.0  ...   22   21   \n",
       "\n",
       "       minute  second  dayofweek  year-month  year-month-day address1  \\\n",
       "20446      12       0     Monday     2017-06      2017-06-26      사천시   \n",
       "20673      26       0     Friday     2014-08      2014-08-08      사천시   \n",
       "20680      38       0   Thursday     2014-05      2014-05-22      사천시   \n",
       "\n",
       "      address2  address  \n",
       "20446      동금동  사천시 동금동  \n",
       "20673      동금동  사천시 동금동  \n",
       "20680      동금동  사천시 동금동  \n",
       "\n",
       "[3 rows x 48 columns]"
      ]
     },
     "execution_count": 26,
     "metadata": {},
     "output_type": "execute_result"
    }
   ],
   "source": [
    "# id 113578, 118226, 104635\n",
    "# index 20446 20673 20680\n",
    "df[df['address'] == '사천시 동금동'] \n",
    "\n",
    "# id 92201\n",
    "# index 20676\n",
    "# df[df['address'] == '사천시 실안동'] "
   ]
  },
  {
   "cell_type": "code",
   "execution_count": 27,
   "metadata": {},
   "outputs": [],
   "source": [
    "# 사천시 실안동, 동금동 row 삭제\n",
    "\n",
    "df = df.drop([20446, 20673, 20680, 20676])"
   ]
  },
  {
   "cell_type": "markdown",
   "metadata": {},
   "source": [
    "### 연도별 인구 중간값으로 채우기"
   ]
  },
  {
   "cell_type": "code",
   "execution_count": 28,
   "metadata": {},
   "outputs": [],
   "source": [
    "df['hm_cnt'] = df.groupby(['year', 'address'])['hm_cnt'].transform(lambda x: x.fillna(x.median()))"
   ]
  },
  {
   "cell_type": "code",
   "execution_count": 29,
   "metadata": {},
   "outputs": [
    {
     "data": {
      "text/plain": [
       "650"
      ]
     },
     "execution_count": 29,
     "metadata": {},
     "output_type": "execute_result"
    }
   ],
   "source": [
    "# 남은 null 값 확인\n",
    "\n",
    "df['hm_cnt'].isnull().sum()"
   ]
  },
  {
   "cell_type": "code",
   "execution_count": 30,
   "metadata": {},
   "outputs": [
    {
     "data": {
      "text/plain": [
       "address    year\n",
       "김해시 어방동    2015     1\n",
       "진주시 상대동    2014    80\n",
       "           2015    79\n",
       "           2016    86\n",
       "진주시 하대동    2014    45\n",
       "           2015    63\n",
       "           2016    52\n",
       "창원시 마산합포구  2014    30\n",
       "           2015    24\n",
       "           2016    25\n",
       "           2017     1\n",
       "창원시 마산회원구  2014    34\n",
       "           2015    23\n",
       "           2016    39\n",
       "창원시 진해구    2015     2\n",
       "           2016     3\n",
       "           2018     4\n",
       "함안군 칠원읍    2014    59\n",
       "Name: hm_cnt, dtype: int64"
      ]
     },
     "execution_count": 30,
     "metadata": {},
     "output_type": "execute_result"
    }
   ],
   "source": [
    "df[df['hm_cnt'].isnull()].groupby(['address', 'year'])['hm_cnt'].size()"
   ]
  },
  {
   "cell_type": "code",
   "execution_count": 31,
   "metadata": {},
   "outputs": [
    {
     "data": {
      "text/plain": [
       "year\n",
       "2014        NaN\n",
       "2015    21131.0\n",
       "2016    21022.0\n",
       "2017    20889.5\n",
       "2018    20672.0\n",
       "Name: hm_cnt, dtype: float64"
      ]
     },
     "execution_count": 31,
     "metadata": {},
     "output_type": "execute_result"
    }
   ],
   "source": [
    "df[df['address'] == '함안군 칠원읍'].groupby('year')['hm_cnt'].median()"
   ]
  },
  {
   "cell_type": "code",
   "execution_count": 32,
   "metadata": {},
   "outputs": [
    {
     "data": {
      "text/plain": [
       "21246"
      ]
     },
     "execution_count": 32,
     "metadata": {},
     "output_type": "execute_result"
    }
   ],
   "source": [
    "함안군_칠원읍_2014_hm_cnt = round(21131 + (21131 - 20672) / 4)  \n",
    "함안군_칠원읍_2014_hm_cnt"
   ]
  },
  {
   "cell_type": "code",
   "execution_count": 33,
   "metadata": {},
   "outputs": [
    {
     "data": {
      "text/html": [
       "<div>\n",
       "<style scoped>\n",
       "    .dataframe tbody tr th:only-of-type {\n",
       "        vertical-align: middle;\n",
       "    }\n",
       "\n",
       "    .dataframe tbody tr th {\n",
       "        vertical-align: top;\n",
       "    }\n",
       "\n",
       "    .dataframe thead th {\n",
       "        text-align: right;\n",
       "    }\n",
       "</style>\n",
       "<table border=\"1\" class=\"dataframe\">\n",
       "  <thead>\n",
       "    <tr style=\"text-align: right;\">\n",
       "      <th></th>\n",
       "      <th>마산회원구</th>\n",
       "      <th>마산합포구</th>\n",
       "      <th>진해구</th>\n",
       "      <th>상대동</th>\n",
       "      <th>하대동</th>\n",
       "      <th>칠원읍</th>\n",
       "    </tr>\n",
       "  </thead>\n",
       "  <tbody>\n",
       "    <tr>\n",
       "      <th>2014</th>\n",
       "      <td>216749</td>\n",
       "      <td>184179</td>\n",
       "      <td>NaN</td>\n",
       "      <td>26019.0</td>\n",
       "      <td>27457.0</td>\n",
       "      <td>21246.0</td>\n",
       "    </tr>\n",
       "    <tr>\n",
       "      <th>2015</th>\n",
       "      <td>214264</td>\n",
       "      <td>183829</td>\n",
       "      <td>189463.0</td>\n",
       "      <td>25599.0</td>\n",
       "      <td>26981.0</td>\n",
       "      <td>NaN</td>\n",
       "    </tr>\n",
       "    <tr>\n",
       "      <th>2016</th>\n",
       "      <td>213163</td>\n",
       "      <td>183989</td>\n",
       "      <td>190780.0</td>\n",
       "      <td>25321.0</td>\n",
       "      <td>27067.0</td>\n",
       "      <td>NaN</td>\n",
       "    </tr>\n",
       "    <tr>\n",
       "      <th>2017</th>\n",
       "      <td>203926</td>\n",
       "      <td>181917</td>\n",
       "      <td>NaN</td>\n",
       "      <td>NaN</td>\n",
       "      <td>NaN</td>\n",
       "      <td>NaN</td>\n",
       "    </tr>\n",
       "    <tr>\n",
       "      <th>2018</th>\n",
       "      <td>201565</td>\n",
       "      <td>182772</td>\n",
       "      <td>196665.0</td>\n",
       "      <td>NaN</td>\n",
       "      <td>NaN</td>\n",
       "      <td>NaN</td>\n",
       "    </tr>\n",
       "  </tbody>\n",
       "</table>\n",
       "</div>"
      ],
      "text/plain": [
       "       마산회원구   마산합포구       진해구      상대동      하대동      칠원읍\n",
       "2014  216749  184179       NaN  26019.0  27457.0  21246.0\n",
       "2015  214264  183829  189463.0  25599.0  26981.0      NaN\n",
       "2016  213163  183989  190780.0  25321.0  27067.0      NaN\n",
       "2017  203926  181917       NaN      NaN      NaN      NaN\n",
       "2018  201565  182772  196665.0      NaN      NaN      NaN"
      ]
     },
     "execution_count": 33,
     "metadata": {},
     "output_type": "execute_result"
    }
   ],
   "source": [
    "마산회원구 = {2014: 216_749, 2015: 214_264, 2016: 213_163, 2017: 203_926, 2018: 201_565}\n",
    "마산합포구 = {2014: 184_179, 2015: 183_829, 2016: 183_989, 2017: 181_917, 2018: 182_772}\n",
    "진해구 = {2014: np.nan, 2015: 189_463, 2016: 190_780, 2017: np.nan, 2018: 196_665}\n",
    "상대동 = {2014: 26_019, 2015: 25_599, 2016: 25_321, 2017: np.nan, 2018: np.nan}\n",
    "하대동 = {2014: 27_457, 2015: 26_981, 2016: 27_067, 2017: np.nan, 2018: np.nan}\n",
    "칠원읍 = {2014: 함안군_칠원읍_2014_hm_cnt, 2015: np.nan, 2016: np.nan, 2017: np.nan, 2018: np.nan}\n",
    "\n",
    "hm_cnt = pd.DataFrame(data=마산회원구.values(), index=마산회원구.keys(), columns=['마산회원구'])\n",
    "hm_cnt['마산합포구'] = 마산합포구.values()\n",
    "hm_cnt['진해구'] = 진해구.values()\n",
    "hm_cnt['상대동'] = 상대동.values()\n",
    "hm_cnt['하대동'] = 하대동.values()\n",
    "hm_cnt['칠원읍'] = 칠원읍.values()\n",
    "\n",
    "hm_cnt"
   ]
  },
  {
   "cell_type": "code",
   "execution_count": 34,
   "metadata": {},
   "outputs": [],
   "source": [
    "# 수기로 입력해준 인구 데이터 바탕으로 Null 값 채우기\n",
    "for place in hm_cnt.columns:\n",
    "    for year in hm_cnt.index:\n",
    "        df.loc[(df['hm_cnt'].isnull()) & (df['address2'] == place), 'hm_cnt'] = hm_cnt[place][year]"
   ]
  },
  {
   "cell_type": "code",
   "execution_count": 35,
   "metadata": {},
   "outputs": [
    {
     "data": {
      "text/plain": [
       "1"
      ]
     },
     "execution_count": 35,
     "metadata": {},
     "output_type": "execute_result"
    }
   ],
   "source": [
    "# Null 값 잘 채워졌는지 확인\n",
    "\n",
    "df['hm_cnt'].isnull().sum()"
   ]
  },
  {
   "cell_type": "markdown",
   "metadata": {},
   "source": [
    "채워지지 않은 Null 값 항목 찾는다"
   ]
  },
  {
   "cell_type": "code",
   "execution_count": 36,
   "metadata": {},
   "outputs": [
    {
     "data": {
      "text/html": [
       "<div>\n",
       "<style scoped>\n",
       "    .dataframe tbody tr th:only-of-type {\n",
       "        vertical-align: middle;\n",
       "    }\n",
       "\n",
       "    .dataframe tbody tr th {\n",
       "        vertical-align: top;\n",
       "    }\n",
       "\n",
       "    .dataframe thead th {\n",
       "        text-align: right;\n",
       "    }\n",
       "</style>\n",
       "<table border=\"1\" class=\"dataframe\">\n",
       "  <thead>\n",
       "    <tr style=\"text-align: right;\">\n",
       "      <th></th>\n",
       "      <th>year</th>\n",
       "      <th>address</th>\n",
       "      <th>hm_cnt</th>\n",
       "    </tr>\n",
       "  </thead>\n",
       "  <tbody>\n",
       "    <tr>\n",
       "      <th>6383</th>\n",
       "      <td>2015</td>\n",
       "      <td>김해시 어방동</td>\n",
       "      <td>NaN</td>\n",
       "    </tr>\n",
       "  </tbody>\n",
       "</table>\n",
       "</div>"
      ],
      "text/plain": [
       "      year  address  hm_cnt\n",
       "6383  2015  김해시 어방동     NaN"
      ]
     },
     "execution_count": 36,
     "metadata": {},
     "output_type": "execute_result"
    }
   ],
   "source": [
    "df[df['hm_cnt'].isnull()][['year', 'address', 'hm_cnt']]"
   ]
  },
  {
   "cell_type": "code",
   "execution_count": 37,
   "metadata": {},
   "outputs": [
    {
     "data": {
      "text/html": [
       "<div>\n",
       "<style scoped>\n",
       "    .dataframe tbody tr th:only-of-type {\n",
       "        vertical-align: middle;\n",
       "    }\n",
       "\n",
       "    .dataframe tbody tr th {\n",
       "        vertical-align: top;\n",
       "    }\n",
       "\n",
       "    .dataframe thead th {\n",
       "        text-align: right;\n",
       "    }\n",
       "</style>\n",
       "<table border=\"1\" class=\"dataframe\">\n",
       "  <thead>\n",
       "    <tr style=\"text-align: right;\">\n",
       "      <th></th>\n",
       "      <th>id</th>\n",
       "      <th>dt_of_fr</th>\n",
       "      <th>bldng_us</th>\n",
       "      <th>bldng_archtctr</th>\n",
       "      <th>bldng_cnt</th>\n",
       "      <th>bldng_ar</th>\n",
       "      <th>ttl_ar</th>\n",
       "      <th>lnd_ar</th>\n",
       "      <th>dt_of_athrztn</th>\n",
       "      <th>ttl_grnd_flr</th>\n",
       "      <th>...</th>\n",
       "      <th>day</th>\n",
       "      <th>hour</th>\n",
       "      <th>minute</th>\n",
       "      <th>second</th>\n",
       "      <th>dayofweek</th>\n",
       "      <th>year-month</th>\n",
       "      <th>year-month-day</th>\n",
       "      <th>address1</th>\n",
       "      <th>address2</th>\n",
       "      <th>address</th>\n",
       "    </tr>\n",
       "  </thead>\n",
       "  <tbody>\n",
       "    <tr>\n",
       "      <th>6383</th>\n",
       "      <td>109435</td>\n",
       "      <td>2015-01-21 01:46:01</td>\n",
       "      <td>공장</td>\n",
       "      <td>블록구조</td>\n",
       "      <td>5</td>\n",
       "      <td>983.92</td>\n",
       "      <td>983.92</td>\n",
       "      <td>661.0</td>\n",
       "      <td>1.98202e+07</td>\n",
       "      <td>2.0</td>\n",
       "      <td>...</td>\n",
       "      <td>21</td>\n",
       "      <td>1</td>\n",
       "      <td>46</td>\n",
       "      <td>1</td>\n",
       "      <td>Wednesday</td>\n",
       "      <td>2015-01</td>\n",
       "      <td>2015-01-21</td>\n",
       "      <td>김해시</td>\n",
       "      <td>어방동</td>\n",
       "      <td>김해시 어방동</td>\n",
       "    </tr>\n",
       "  </tbody>\n",
       "</table>\n",
       "<p>1 rows × 48 columns</p>\n",
       "</div>"
      ],
      "text/plain": [
       "          id             dt_of_fr bldng_us bldng_archtctr  bldng_cnt  \\\n",
       "6383  109435  2015-01-21 01:46:01       공장           블록구조          5   \n",
       "\n",
       "      bldng_ar  ttl_ar  lnd_ar dt_of_athrztn  ttl_grnd_flr  ...  day hour  \\\n",
       "6383    983.92  983.92   661.0   1.98202e+07           2.0  ...   21    1   \n",
       "\n",
       "      minute  second  dayofweek  year-month  year-month-day address1 address2  \\\n",
       "6383      46       1  Wednesday     2015-01      2015-01-21      김해시      어방동   \n",
       "\n",
       "      address  \n",
       "6383  김해시 어방동  \n",
       "\n",
       "[1 rows x 48 columns]"
      ]
     },
     "execution_count": 37,
     "metadata": {},
     "output_type": "execute_result"
    }
   ],
   "source": [
    "df[df['address'] == '김해시 어방동']"
   ]
  },
  {
   "cell_type": "markdown",
   "metadata": {},
   "source": [
    "김해시 어방동은 데이터가 1개 뿐\n",
    "\n",
    "김해시 어방동을 지도에서 찾아보니 부원동, 불암동, 동상동 근처로 나와서 \n",
    "- 이 세개 동의 평균값으로 채워줌"
   ]
  },
  {
   "cell_type": "code",
   "execution_count": 38,
   "metadata": {},
   "outputs": [
    {
     "data": {
      "text/plain": [
       "year  address2\n",
       "2014  내외동         85233.0\n",
       "      대동면          7486.0\n",
       "      동상동         10170.0\n",
       "      부원동          8222.0\n",
       "      북부동         84915.0\n",
       "      불암동          8849.0\n",
       "      삼안동         41851.0\n",
       "      상동면          3559.0\n",
       "      생림면          4352.0\n",
       "      장유1동        55185.0\n",
       "      장유2동        34921.0\n",
       "      장유3동        53968.0\n",
       "      주촌면          3498.0\n",
       "      진례면          7847.0\n",
       "      진영읍         41909.0\n",
       "      칠산서부동       10072.0\n",
       "      한림면          9281.0\n",
       "      활천동         46217.0\n",
       "      회현동          8713.0\n",
       "2015  내외동         84447.0\n",
       "      대동면          7342.0\n",
       "      동상동         10212.0\n",
       "      부원동         10392.0\n",
       "      북부동         85368.0\n",
       "      불암동          8683.0\n",
       "      삼안동         40559.0\n",
       "      상동면          3573.0\n",
       "      생림면          4295.0\n",
       "      어방동             NaN\n",
       "      장유1동        54744.0\n",
       "                   ...   \n",
       "2017  생림면          4168.0\n",
       "      장유1동        56974.0\n",
       "      장유2동        35071.0\n",
       "      장유3동        56135.0\n",
       "      주촌면          3266.0\n",
       "      진례면          7591.0\n",
       "      진영읍         50835.0\n",
       "      칠산서부동       10208.0\n",
       "      한림면          8686.0\n",
       "      활천동         45175.0\n",
       "      회현동          9468.0\n",
       "2018  내외동         78872.0\n",
       "      대동면          6846.0\n",
       "      동상동         10654.0\n",
       "      부원동          9853.0\n",
       "      북부동         83288.0\n",
       "      불암동          8349.0\n",
       "      삼안동         37701.0\n",
       "      상동면          3437.0\n",
       "      생림면          4031.0\n",
       "      장유1동        56889.0\n",
       "      장유2동        36327.0\n",
       "      장유3동        56949.0\n",
       "      주촌면          4688.0\n",
       "      진례면          7330.0\n",
       "      진영읍         53161.0\n",
       "      칠산서부동       10097.0\n",
       "      한림면          8437.0\n",
       "      활천동         44493.0\n",
       "      회현동         10405.0\n",
       "Name: hm_cnt, Length: 96, dtype: float64"
      ]
     },
     "execution_count": 38,
     "metadata": {},
     "output_type": "execute_result"
    }
   ],
   "source": [
    "df[df['address1'] == '김해시'].groupby(['year', 'address2'])['hm_cnt'].median()"
   ]
  },
  {
   "cell_type": "code",
   "execution_count": 39,
   "metadata": {},
   "outputs": [],
   "source": [
    "df.loc[df['address2'] == '어방동', 'hm_cnt'] = np.mean([10212.0, 10392.0, 8683.0])"
   ]
  },
  {
   "cell_type": "code",
   "execution_count": 40,
   "metadata": {},
   "outputs": [
    {
     "data": {
      "text/plain": [
       "0"
      ]
     },
     "execution_count": 40,
     "metadata": {},
     "output_type": "execute_result"
    }
   ],
   "source": [
    "# Null 값 채워졌는지 확인\n",
    "df['hm_cnt'].isnull().sum()"
   ]
  },
  {
   "cell_type": "markdown",
   "metadata": {},
   "source": [
    "## Null 값 채우기) fr_mn_cnt 관할소방서 인원 "
   ]
  },
  {
   "cell_type": "code",
   "execution_count": 41,
   "metadata": {},
   "outputs": [],
   "source": [
    "df['fr_mn_cnt'] = df.groupby(['year', 'address'])['fr_mn_cnt'].transform(lambda x: x.fillna(x.median()))"
   ]
  },
  {
   "cell_type": "code",
   "execution_count": 42,
   "metadata": {},
   "outputs": [
    {
     "data": {
      "text/plain": [
       "1"
      ]
     },
     "execution_count": 42,
     "metadata": {},
     "output_type": "execute_result"
    }
   ],
   "source": [
    "# 소방서 인원 Null 값 채워졌는지 확인\n",
    "\n",
    "df['fr_mn_cnt'].isnull().sum()"
   ]
  },
  {
   "cell_type": "markdown",
   "metadata": {},
   "source": [
    "남은 Null 값 확인"
   ]
  },
  {
   "cell_type": "code",
   "execution_count": 43,
   "metadata": {
    "scrolled": true
   },
   "outputs": [
    {
     "data": {
      "text/html": [
       "<div>\n",
       "<style scoped>\n",
       "    .dataframe tbody tr th:only-of-type {\n",
       "        vertical-align: middle;\n",
       "    }\n",
       "\n",
       "    .dataframe tbody tr th {\n",
       "        vertical-align: top;\n",
       "    }\n",
       "\n",
       "    .dataframe thead th {\n",
       "        text-align: right;\n",
       "    }\n",
       "</style>\n",
       "<table border=\"1\" class=\"dataframe\">\n",
       "  <thead>\n",
       "    <tr style=\"text-align: right;\">\n",
       "      <th></th>\n",
       "      <th>id</th>\n",
       "      <th>dt_of_fr</th>\n",
       "      <th>bldng_us</th>\n",
       "      <th>bldng_archtctr</th>\n",
       "      <th>bldng_cnt</th>\n",
       "      <th>bldng_ar</th>\n",
       "      <th>ttl_ar</th>\n",
       "      <th>lnd_ar</th>\n",
       "      <th>dt_of_athrztn</th>\n",
       "      <th>ttl_grnd_flr</th>\n",
       "      <th>...</th>\n",
       "      <th>day</th>\n",
       "      <th>hour</th>\n",
       "      <th>minute</th>\n",
       "      <th>second</th>\n",
       "      <th>dayofweek</th>\n",
       "      <th>year-month</th>\n",
       "      <th>year-month-day</th>\n",
       "      <th>address1</th>\n",
       "      <th>address2</th>\n",
       "      <th>address</th>\n",
       "    </tr>\n",
       "  </thead>\n",
       "  <tbody>\n",
       "    <tr>\n",
       "      <th>6383</th>\n",
       "      <td>109435</td>\n",
       "      <td>2015-01-21 01:46:01</td>\n",
       "      <td>공장</td>\n",
       "      <td>블록구조</td>\n",
       "      <td>5</td>\n",
       "      <td>983.92</td>\n",
       "      <td>983.92</td>\n",
       "      <td>661.0</td>\n",
       "      <td>1.98202e+07</td>\n",
       "      <td>2.0</td>\n",
       "      <td>...</td>\n",
       "      <td>21</td>\n",
       "      <td>1</td>\n",
       "      <td>46</td>\n",
       "      <td>1</td>\n",
       "      <td>Wednesday</td>\n",
       "      <td>2015-01</td>\n",
       "      <td>2015-01-21</td>\n",
       "      <td>김해시</td>\n",
       "      <td>어방동</td>\n",
       "      <td>김해시 어방동</td>\n",
       "    </tr>\n",
       "  </tbody>\n",
       "</table>\n",
       "<p>1 rows × 48 columns</p>\n",
       "</div>"
      ],
      "text/plain": [
       "          id             dt_of_fr bldng_us bldng_archtctr  bldng_cnt  \\\n",
       "6383  109435  2015-01-21 01:46:01       공장           블록구조          5   \n",
       "\n",
       "      bldng_ar  ttl_ar  lnd_ar dt_of_athrztn  ttl_grnd_flr  ...  day hour  \\\n",
       "6383    983.92  983.92   661.0   1.98202e+07           2.0  ...   21    1   \n",
       "\n",
       "      minute  second  dayofweek  year-month  year-month-day address1 address2  \\\n",
       "6383      46       1  Wednesday     2015-01      2015-01-21      김해시      어방동   \n",
       "\n",
       "      address  \n",
       "6383  김해시 어방동  \n",
       "\n",
       "[1 rows x 48 columns]"
      ]
     },
     "execution_count": 43,
     "metadata": {},
     "output_type": "execute_result"
    }
   ],
   "source": [
    "df[df['fr_mn_cnt'].isnull()]"
   ]
  },
  {
   "cell_type": "code",
   "execution_count": 44,
   "metadata": {},
   "outputs": [
    {
     "data": {
      "text/plain": [
       "year  address2\n",
       "2014  내외동         201.0\n",
       "      대동면         201.0\n",
       "      동상동         201.0\n",
       "      부원동         201.0\n",
       "      북부동         201.0\n",
       "      불암동         201.0\n",
       "      삼안동         201.0\n",
       "      상동면         201.0\n",
       "      생림면         201.0\n",
       "      장유1동        178.0\n",
       "      장유2동        178.0\n",
       "      장유3동        178.0\n",
       "      주촌면         178.0\n",
       "      진례면         178.0\n",
       "      진영읍         178.0\n",
       "      칠산서부동       201.0\n",
       "      한림면         178.0\n",
       "      활천동         201.0\n",
       "      회현동         201.0\n",
       "2015  내외동         201.0\n",
       "      대동면         201.0\n",
       "      동상동         201.0\n",
       "      부원동         201.0\n",
       "      북부동         201.0\n",
       "      불암동         201.0\n",
       "      삼안동         201.0\n",
       "      상동면         201.0\n",
       "      생림면         201.0\n",
       "      어방동           NaN\n",
       "      장유1동        178.0\n",
       "                  ...  \n",
       "2017  생림면         201.0\n",
       "      장유1동        178.0\n",
       "      장유2동        178.0\n",
       "      장유3동        178.0\n",
       "      주촌면         178.0\n",
       "      진례면         178.0\n",
       "      진영읍         178.0\n",
       "      칠산서부동       201.0\n",
       "      한림면         178.0\n",
       "      활천동         201.0\n",
       "      회현동         201.0\n",
       "2018  내외동         201.0\n",
       "      대동면         201.0\n",
       "      동상동         201.0\n",
       "      부원동         201.0\n",
       "      북부동         201.0\n",
       "      불암동         201.0\n",
       "      삼안동         201.0\n",
       "      상동면         201.0\n",
       "      생림면         201.0\n",
       "      장유1동        178.0\n",
       "      장유2동        178.0\n",
       "      장유3동        178.0\n",
       "      주촌면         178.0\n",
       "      진례면         178.0\n",
       "      진영읍         178.0\n",
       "      칠산서부동       201.0\n",
       "      한림면         178.0\n",
       "      활천동         201.0\n",
       "      회현동         201.0\n",
       "Name: fr_mn_cnt, Length: 96, dtype: float64"
      ]
     },
     "execution_count": 44,
     "metadata": {},
     "output_type": "execute_result"
    }
   ],
   "source": [
    "df[df['address1'] == '김해시'].groupby(['year', 'address2'])['fr_mn_cnt'].median()"
   ]
  },
  {
   "cell_type": "markdown",
   "metadata": {},
   "source": [
    "김해시 전체가 두 군데로 나뉘어 있음을 볼 수 있음\n",
    "\n",
    "김해시 어방동은 동상동 부원동 불암동 사이에 있으므로 세 개 동과 같은 201로 채워준다"
   ]
  },
  {
   "cell_type": "code",
   "execution_count": 45,
   "metadata": {},
   "outputs": [
    {
     "data": {
      "text/plain": [
       "0"
      ]
     },
     "execution_count": 45,
     "metadata": {},
     "output_type": "execute_result"
    }
   ],
   "source": [
    "df.loc[df['address2'] == '어방동', 'fr_mn_cnt'] = 201\n",
    "\n",
    "df['fr_mn_cnt'].isnull().sum()"
   ]
  },
  {
   "cell_type": "markdown",
   "metadata": {},
   "source": [
    "## Null 값 채우기) wnd_spd 풍속"
   ]
  },
  {
   "cell_type": "code",
   "execution_count": 46,
   "metadata": {},
   "outputs": [
    {
     "data": {
      "text/plain": [
       "35"
      ]
     },
     "execution_count": 46,
     "metadata": {},
     "output_type": "execute_result"
    }
   ],
   "source": [
    "df['wnd_spd'] = df.groupby(['address', 'year-month-day'])['wnd_spd'].transform(lambda x: x.fillna(x.median()))\n",
    "df['wnd_spd'].isnull().sum()"
   ]
  },
  {
   "cell_type": "code",
   "execution_count": 47,
   "metadata": {},
   "outputs": [
    {
     "data": {
      "text/plain": [
       "0"
      ]
     },
     "execution_count": 47,
     "metadata": {},
     "output_type": "execute_result"
    }
   ],
   "source": [
    "df['wnd_spd'] = df.groupby(['address', 'year-month'])['wnd_spd'].transform(lambda x: x.fillna(x.median()))\n",
    "df['wnd_spd'].isnull().sum()"
   ]
  },
  {
   "cell_type": "markdown",
   "metadata": {},
   "source": [
    "## Null 값 채우기) wnd_drctn 풍향\n",
    "1. 해당 지역, 해당일의 풍향 중간값으로 채우기\n",
    "2. 1에서 안 채워진 경우, 해당 지역, 해당월의 풍향 중간값으로 채우기\n",
    "3. 2에서 안 채워진 경우, 해당일의 풍향 중간값으로 채우기"
   ]
  },
  {
   "cell_type": "code",
   "execution_count": 48,
   "metadata": {},
   "outputs": [
    {
     "data": {
      "text/plain": [
       "201"
      ]
     },
     "execution_count": 48,
     "metadata": {},
     "output_type": "execute_result"
    }
   ],
   "source": [
    "df['wnd_drctn'] = df.groupby(['address', 'year-month-day'])['wnd_drctn'].transform(lambda x: x.fillna(x.median()))\n",
    "df['wnd_drctn'].isnull().sum()"
   ]
  },
  {
   "cell_type": "code",
   "execution_count": 49,
   "metadata": {},
   "outputs": [
    {
     "data": {
      "text/plain": [
       "10"
      ]
     },
     "execution_count": 49,
     "metadata": {},
     "output_type": "execute_result"
    }
   ],
   "source": [
    "df['wnd_drctn'] = df.groupby(['address', 'year-month'])['wnd_drctn'].transform(lambda x: x.fillna(x.median()))\n",
    "df['wnd_drctn'].isnull().sum()"
   ]
  },
  {
   "cell_type": "code",
   "execution_count": 50,
   "metadata": {},
   "outputs": [
    {
     "data": {
      "text/plain": [
       "0"
      ]
     },
     "execution_count": 50,
     "metadata": {},
     "output_type": "execute_result"
    }
   ],
   "source": [
    "df['wnd_drctn'] = df.groupby(['year-month-day'])['wnd_drctn'].transform(lambda x: x.fillna(x.median()))\n",
    "df['wnd_drctn'].isnull().sum()"
   ]
  },
  {
   "cell_type": "markdown",
   "metadata": {},
   "source": [
    "## Null 값 채우기) hmdt 습도\n",
    "corr 으로 습도와 상관계수 높은 컬럼 찾기"
   ]
  },
  {
   "cell_type": "code",
   "execution_count": 51,
   "metadata": {},
   "outputs": [],
   "source": [
    "corr = train.corr()"
   ]
  },
  {
   "cell_type": "code",
   "execution_count": 52,
   "metadata": {},
   "outputs": [
    {
     "data": {
      "text/plain": [
       "wnd_spd     -0.402712\n",
       "wnd_drctn   -0.253173\n",
       "Name: hmdt, dtype: float64"
      ]
     },
     "execution_count": 52,
     "metadata": {},
     "output_type": "execute_result"
    }
   ],
   "source": [
    "corr.loc[corr['hmdt']<-0.2, 'hmdt']"
   ]
  },
  {
   "cell_type": "markdown",
   "metadata": {},
   "source": [
    "1. 같은 풍속, 풍향인 날의 습도 중간값으로 채우기\n",
    "2. 1에서 안 채워진 경우, 풍향이 같은 날의 습도 중간값으로 채우기 \n",
    "3. 2에서 안 채워진 경우, 해당일의 습도 중간값으로 채우기"
   ]
  },
  {
   "cell_type": "code",
   "execution_count": 53,
   "metadata": {},
   "outputs": [
    {
     "data": {
      "text/plain": [
       "(69046,)"
      ]
     },
     "execution_count": 53,
     "metadata": {},
     "output_type": "execute_result"
    }
   ],
   "source": [
    "df['hmdt'].shape"
   ]
  },
  {
   "cell_type": "code",
   "execution_count": 54,
   "metadata": {},
   "outputs": [
    {
     "data": {
      "text/plain": [
       "(69046, 48)"
      ]
     },
     "execution_count": 54,
     "metadata": {},
     "output_type": "execute_result"
    }
   ],
   "source": [
    "df.shape"
   ]
  },
  {
   "cell_type": "code",
   "execution_count": 55,
   "metadata": {},
   "outputs": [
    {
     "data": {
      "text/plain": [
       "8"
      ]
     },
     "execution_count": 55,
     "metadata": {},
     "output_type": "execute_result"
    }
   ],
   "source": [
    "df['hmdt'] = df.groupby(['wnd_spd', 'wnd_drctn'])['hmdt'].transform(lambda x: x.fillna(x.median()))\n",
    "df['hmdt'].isnull().sum()"
   ]
  },
  {
   "cell_type": "code",
   "execution_count": 56,
   "metadata": {},
   "outputs": [
    {
     "data": {
      "text/plain": [
       "0"
      ]
     },
     "execution_count": 56,
     "metadata": {},
     "output_type": "execute_result"
    }
   ],
   "source": [
    "df['hmdt'] = df.groupby(['year-month-day'])['hmdt'].transform(lambda x: x.fillna(x.median()))\n",
    "df['hmdt'].isnull().sum()"
   ]
  },
  {
   "cell_type": "markdown",
   "metadata": {},
   "source": [
    "## Null 값 채우기) tmprtr 온도\n",
    "corr 으로 온도와 상관계수가 높은 컬럼 찾기"
   ]
  },
  {
   "cell_type": "code",
   "execution_count": 57,
   "metadata": {},
   "outputs": [
    {
     "data": {
      "text/plain": [
       "tmprtr         1.000000\n",
       "wnd_spd        0.106366\n",
       "hmdt           0.125568\n",
       "lw_13101110    0.145238\n",
       "lw_13101210    0.118775\n",
       "lw_13101211    0.136644\n",
       "lw_13111010    0.116014\n",
       "Name: tmprtr, dtype: float64"
      ]
     },
     "execution_count": 57,
     "metadata": {},
     "output_type": "execute_result"
    }
   ],
   "source": [
    "corr.loc[corr['tmprtr'] > 0.1, 'tmprtr']"
   ]
  },
  {
   "cell_type": "markdown",
   "metadata": {},
   "source": [
    "1. 풍속과 습도가 같은 날의 온도 중간값으로 채우기\n",
    "2. 습도가 같은 해당일의 온도 중간값으로 채우기\n",
    "3. 풍속이 같은 해당일의 온도 중간값으로 채우기\n",
    "4. 습도가 같은 해당월의 온도 중간값으로 채우기"
   ]
  },
  {
   "cell_type": "code",
   "execution_count": 58,
   "metadata": {},
   "outputs": [
    {
     "data": {
      "text/plain": [
       "id                        int64\n",
       "dt_of_fr                 object\n",
       "bldng_us                 object\n",
       "bldng_archtctr           object\n",
       "bldng_cnt                 int64\n",
       "bldng_ar                float64\n",
       "ttl_ar                  float64\n",
       "lnd_ar                  float64\n",
       "dt_of_athrztn            object\n",
       "ttl_grnd_flr            float64\n",
       "ttl_dwn_flr             float64\n",
       "bldng_us_clssfctn        object\n",
       "tmprtr                  float64\n",
       "prcpttn                 float64\n",
       "wnd_spd                 float64\n",
       "wnd_drctn               float64\n",
       "hmdt                    float64\n",
       "jmk                      object\n",
       "emd_nm                   object\n",
       "hm_cnt                  float64\n",
       "fr_sttn_dstnc             int64\n",
       "fr_wthr_fclt_dstnc        int64\n",
       "mlt_us_yn                object\n",
       "cctv_dstnc                int64\n",
       "cctv_in_100m              int64\n",
       "fr_mn_cnt               float64\n",
       "fr_wthr_fclt_in_100m      int64\n",
       "tbc_rtl_str_dstnc         int64\n",
       "sft_emrgnc_bll_dstnc      int64\n",
       "ahsm_dstnc                int64\n",
       "no_tbc_zn_dstnc           int64\n",
       "bldng_cnt_in_50m          int64\n",
       "fr_yn                    object\n",
       "tag                      object\n",
       "fire_yes                   bool\n",
       "mlt_us_yn(encode)          bool\n",
       "year                      int64\n",
       "month                     int64\n",
       "day                       int64\n",
       "hour                      int64\n",
       "minute                    int64\n",
       "second                    int64\n",
       "dayofweek                object\n",
       "year-month               object\n",
       "year-month-day           object\n",
       "address1                 object\n",
       "address2                 object\n",
       "address                  object\n",
       "dtype: object"
      ]
     },
     "execution_count": 58,
     "metadata": {},
     "output_type": "execute_result"
    }
   ],
   "source": [
    "df.dtypes"
   ]
  },
  {
   "cell_type": "code",
   "execution_count": 59,
   "metadata": {},
   "outputs": [],
   "source": [
    "# wnd_spd 와 hmdt 가 float 라서 같은 값인데 다른 값으로 처리되는 것들이 있음\n",
    "# 해결하기 위해 int 로 바꾼다\n",
    "\n",
    "df['wnd_spd(int)'] = df['wnd_spd'].apply(lambda x: int(x))\n",
    "df['hmdt(int)'] = df['hmdt'].apply(lambda x: int(x))"
   ]
  },
  {
   "cell_type": "code",
   "execution_count": 60,
   "metadata": {},
   "outputs": [
    {
     "data": {
      "text/plain": [
       "0"
      ]
     },
     "execution_count": 60,
     "metadata": {},
     "output_type": "execute_result"
    }
   ],
   "source": [
    "df['tmprtr'] = df.groupby(['wnd_spd(int)', 'hmdt(int)'])['tmprtr'].transform(lambda x: x.fillna(x.median()))\n",
    "df['tmprtr'].isnull().sum()"
   ]
  },
  {
   "cell_type": "markdown",
   "metadata": {},
   "source": [
    "# 전처리 완료한 데이터셋 csv 로 저장"
   ]
  },
  {
   "cell_type": "code",
   "execution_count": 75,
   "metadata": {},
   "outputs": [
    {
     "name": "stdout",
     "output_type": "stream",
     "text": [
      "33\n",
      "32\n",
      "(69046, 33)\n"
     ]
    },
    {
     "data": {
      "text/html": [
       "<div>\n",
       "<style scoped>\n",
       "    .dataframe tbody tr th:only-of-type {\n",
       "        vertical-align: middle;\n",
       "    }\n",
       "\n",
       "    .dataframe tbody tr th {\n",
       "        vertical-align: top;\n",
       "    }\n",
       "\n",
       "    .dataframe thead th {\n",
       "        text-align: right;\n",
       "    }\n",
       "</style>\n",
       "<table border=\"1\" class=\"dataframe\">\n",
       "  <thead>\n",
       "    <tr style=\"text-align: right;\">\n",
       "      <th></th>\n",
       "      <th>id</th>\n",
       "      <th>tag</th>\n",
       "      <th>year</th>\n",
       "      <th>month</th>\n",
       "      <th>day</th>\n",
       "      <th>dayofweek</th>\n",
       "      <th>year-month</th>\n",
       "      <th>year-month-day</th>\n",
       "      <th>hour</th>\n",
       "      <th>minute</th>\n",
       "      <th>...</th>\n",
       "      <th>cctv_dstnc</th>\n",
       "      <th>cctv_in_100m</th>\n",
       "      <th>fr_mn_cnt</th>\n",
       "      <th>fr_wthr_fclt_in_100m</th>\n",
       "      <th>tbc_rtl_str_dstnc</th>\n",
       "      <th>sft_emrgnc_bll_dstnc</th>\n",
       "      <th>ahsm_dstnc</th>\n",
       "      <th>no_tbc_zn_dstnc</th>\n",
       "      <th>bldng_cnt_in_50m</th>\n",
       "      <th>fire_yes</th>\n",
       "    </tr>\n",
       "  </thead>\n",
       "  <tbody>\n",
       "    <tr>\n",
       "      <th>25441</th>\n",
       "      <td>133920</td>\n",
       "      <td>train</td>\n",
       "      <td>2014</td>\n",
       "      <td>2</td>\n",
       "      <td>21</td>\n",
       "      <td>Friday</td>\n",
       "      <td>2014-02</td>\n",
       "      <td>2014-02-21</td>\n",
       "      <td>13</td>\n",
       "      <td>21</td>\n",
       "      <td>...</td>\n",
       "      <td>1803</td>\n",
       "      <td>0</td>\n",
       "      <td>121.0</td>\n",
       "      <td>0</td>\n",
       "      <td>8273</td>\n",
       "      <td>55777</td>\n",
       "      <td>12353</td>\n",
       "      <td>2203</td>\n",
       "      <td>0</td>\n",
       "      <td>False</td>\n",
       "    </tr>\n",
       "  </tbody>\n",
       "</table>\n",
       "<p>1 rows × 33 columns</p>\n",
       "</div>"
      ],
      "text/plain": [
       "           id    tag  year  month  day dayofweek year-month year-month-day  \\\n",
       "25441  133920  train  2014      2   21    Friday    2014-02     2014-02-21   \n",
       "\n",
       "       hour  minute  ...  cctv_dstnc cctv_in_100m  fr_mn_cnt  \\\n",
       "25441    13      21  ...        1803            0      121.0   \n",
       "\n",
       "       fr_wthr_fclt_in_100m  tbc_rtl_str_dstnc  sft_emrgnc_bll_dstnc  \\\n",
       "25441                     0               8273                 55777   \n",
       "\n",
       "       ahsm_dstnc no_tbc_zn_dstnc bldng_cnt_in_50m fire_yes  \n",
       "25441       12353            2203                0    False  \n",
       "\n",
       "[1 rows x 33 columns]"
      ]
     },
     "execution_count": 75,
     "metadata": {},
     "output_type": "execute_result"
    }
   ],
   "source": [
    "# 필요한 컬럼만 불러오기 (건물용도 포함)\n",
    "columns = ['id', 'tag'\n",
    "           # 날짜\n",
    "           , 'year', 'month', 'day', 'dayofweek', 'year-month', 'year-month-day', 'hour', 'minute', 'second'\n",
    "          # 건물 용도\n",
    "           , 'jmk'\n",
    "          # 건물 용도 (전처리 안됨)\n",
    "#            , 'bldng_us', 'bldng_archtctr', 'bldng_us_clssfctn', 'dt_of_athrztn'\n",
    "          # 건물 정보 (전처리 안됨)\n",
    "#            , 'bldng_ar', 'ttl_ar', 'lnd_ar', 'ttl_grnd_flr', 'ttl_dwn_flr'\n",
    "           # 다중이용업소\n",
    "           , 'mlt_us_yn(encode)'\n",
    "          # 날씨 정보\n",
    "           , 'tmprtr', 'wnd_spd', 'wnd_drctn', 'hmdt'\n",
    "          # 행정구역 정보\n",
    "           , 'address', 'address1', 'address2', 'hm_cnt'\n",
    "          # 도심과 가까운 정도\n",
    "           , 'fr_sttn_dstnc', 'fr_wthr_fclt_dstnc', 'cctv_dstnc', 'cctv_in_100m', 'fr_mn_cnt'\n",
    "           , 'fr_wthr_fclt_in_100m', 'tbc_rtl_str_dstnc', 'sft_emrgnc_bll_dstnc', 'ahsm_dstnc'\n",
    "           , 'no_tbc_zn_dstnc', 'bldng_cnt_in_50m'\n",
    "          # 화재발생 여부\n",
    "           , 'fire_yes'\n",
    "          ]\n",
    "\n",
    "columns_test = list(set(columns) - set(['fire_yes']))\n",
    "print(len(columns))\n",
    "print(len(columns_test))\n",
    "print(df[columns].shape)\n",
    "df[columns].sample()"
   ]
  },
  {
   "cell_type": "code",
   "execution_count": 76,
   "metadata": {},
   "outputs": [
    {
     "name": "stdout",
     "output_type": "stream",
     "text": [
      "(59191, 33)\n",
      "(2957, 32)\n",
      "(6898, 33)\n"
     ]
    }
   ],
   "source": [
    "train = df[df['tag'] == 'train'][columns]\n",
    "test = df[df['tag'] == 'test'][columns_test]\n",
    "valid = df[df['tag'] == 'valid'][columns]\n",
    "\n",
    "print(train.shape)\n",
    "print(test.shape)\n",
    "print(valid.shape)"
   ]
  },
  {
   "cell_type": "code",
   "execution_count": 77,
   "metadata": {},
   "outputs": [],
   "source": [
    "train.to_csv('../Data/train_preprocess.csv', index=False)\n",
    "test.to_csv('../Data/test_preprocess.csv', index=False)\n",
    "valid.to_csv('../Data/valid_preprocess.csv', index=False)"
   ]
  },
  {
   "cell_type": "code",
   "execution_count": null,
   "metadata": {},
   "outputs": [],
   "source": [
    "# 잘 저장됐는지 확인\n",
    "# pd.read_csv('../Data/train_preprocess.csv')\n",
    "# pd.read_csv('../Data/test_preprocess.csv')\n",
    "# pd.read_csv('../Data/valid_preprocess.csv')"
   ]
  },
  {
   "cell_type": "code",
   "execution_count": null,
   "metadata": {},
   "outputs": [],
   "source": []
  }
 ],
 "metadata": {
  "kernelspec": {
   "display_name": "Python 3",
   "language": "python",
   "name": "python3"
  },
  "language_info": {
   "codemirror_mode": {
    "name": "ipython",
    "version": 3
   },
   "file_extension": ".py",
   "mimetype": "text/x-python",
   "name": "python",
   "nbconvert_exporter": "python",
   "pygments_lexer": "ipython3",
   "version": "3.7.3"
  }
 },
 "nbformat": 4,
 "nbformat_minor": 2
}
