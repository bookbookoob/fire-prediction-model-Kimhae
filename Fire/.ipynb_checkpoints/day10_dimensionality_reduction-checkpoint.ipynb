{
 "cells": [
  {
   "cell_type": "markdown",
   "metadata": {},
   "source": [
    "## 데이터"
   ]
  },
  {
   "cell_type": "code",
   "execution_count": 1,
   "metadata": {},
   "outputs": [],
   "source": [
    "import pandas"
   ]
  },
  {
   "cell_type": "code",
   "execution_count": 2,
   "metadata": {},
   "outputs": [],
   "source": [
    "from sklearn.decomposition import PCA"
   ]
  },
  {
   "cell_type": "code",
   "execution_count": 3,
   "metadata": {},
   "outputs": [],
   "source": [
    "import seaborn"
   ]
  },
  {
   "cell_type": "code",
   "execution_count": 4,
   "metadata": {},
   "outputs": [],
   "source": [
    "wine = pandas.read_csv('wine.csv')"
   ]
  },
  {
   "cell_type": "code",
   "execution_count": 5,
   "metadata": {},
   "outputs": [
    {
     "data": {
      "text/html": [
       "<div>\n",
       "<style scoped>\n",
       "    .dataframe tbody tr th:only-of-type {\n",
       "        vertical-align: middle;\n",
       "    }\n",
       "\n",
       "    .dataframe tbody tr th {\n",
       "        vertical-align: top;\n",
       "    }\n",
       "\n",
       "    .dataframe thead th {\n",
       "        text-align: right;\n",
       "    }\n",
       "</style>\n",
       "<table border=\"1\" class=\"dataframe\">\n",
       "  <thead>\n",
       "    <tr style=\"text-align: right;\">\n",
       "      <th></th>\n",
       "      <th>Class</th>\n",
       "      <th>Alcohol</th>\n",
       "      <th>MalicAcid</th>\n",
       "      <th>Ash</th>\n",
       "      <th>AlcalinityOfAsh</th>\n",
       "      <th>Magnesium</th>\n",
       "      <th>TotalPhenols</th>\n",
       "      <th>Flavanoids</th>\n",
       "      <th>NonflavanoidPhenols</th>\n",
       "      <th>Proanthocyanins</th>\n",
       "      <th>Color intensity</th>\n",
       "      <th>Hue</th>\n",
       "      <th>OD</th>\n",
       "      <th>Proline</th>\n",
       "    </tr>\n",
       "  </thead>\n",
       "  <tbody>\n",
       "    <tr>\n",
       "      <th>0</th>\n",
       "      <td>1</td>\n",
       "      <td>14.23</td>\n",
       "      <td>1.71</td>\n",
       "      <td>2.43</td>\n",
       "      <td>15.6</td>\n",
       "      <td>127</td>\n",
       "      <td>2.80</td>\n",
       "      <td>3.06</td>\n",
       "      <td>0.28</td>\n",
       "      <td>2.29</td>\n",
       "      <td>5.64</td>\n",
       "      <td>1.04</td>\n",
       "      <td>3.92</td>\n",
       "      <td>1065</td>\n",
       "    </tr>\n",
       "    <tr>\n",
       "      <th>1</th>\n",
       "      <td>1</td>\n",
       "      <td>13.20</td>\n",
       "      <td>1.78</td>\n",
       "      <td>2.14</td>\n",
       "      <td>11.2</td>\n",
       "      <td>100</td>\n",
       "      <td>2.65</td>\n",
       "      <td>2.76</td>\n",
       "      <td>0.26</td>\n",
       "      <td>1.28</td>\n",
       "      <td>4.38</td>\n",
       "      <td>1.05</td>\n",
       "      <td>3.40</td>\n",
       "      <td>1050</td>\n",
       "    </tr>\n",
       "    <tr>\n",
       "      <th>2</th>\n",
       "      <td>1</td>\n",
       "      <td>13.16</td>\n",
       "      <td>2.36</td>\n",
       "      <td>2.67</td>\n",
       "      <td>18.6</td>\n",
       "      <td>101</td>\n",
       "      <td>2.80</td>\n",
       "      <td>3.24</td>\n",
       "      <td>0.30</td>\n",
       "      <td>2.81</td>\n",
       "      <td>5.68</td>\n",
       "      <td>1.03</td>\n",
       "      <td>3.17</td>\n",
       "      <td>1185</td>\n",
       "    </tr>\n",
       "    <tr>\n",
       "      <th>3</th>\n",
       "      <td>1</td>\n",
       "      <td>14.37</td>\n",
       "      <td>1.95</td>\n",
       "      <td>2.50</td>\n",
       "      <td>16.8</td>\n",
       "      <td>113</td>\n",
       "      <td>3.85</td>\n",
       "      <td>3.49</td>\n",
       "      <td>0.24</td>\n",
       "      <td>2.18</td>\n",
       "      <td>7.80</td>\n",
       "      <td>0.86</td>\n",
       "      <td>3.45</td>\n",
       "      <td>1480</td>\n",
       "    </tr>\n",
       "    <tr>\n",
       "      <th>4</th>\n",
       "      <td>1</td>\n",
       "      <td>13.24</td>\n",
       "      <td>2.59</td>\n",
       "      <td>2.87</td>\n",
       "      <td>21.0</td>\n",
       "      <td>118</td>\n",
       "      <td>2.80</td>\n",
       "      <td>2.69</td>\n",
       "      <td>0.39</td>\n",
       "      <td>1.82</td>\n",
       "      <td>4.32</td>\n",
       "      <td>1.04</td>\n",
       "      <td>2.93</td>\n",
       "      <td>735</td>\n",
       "    </tr>\n",
       "  </tbody>\n",
       "</table>\n",
       "</div>"
      ],
      "text/plain": [
       "   Class  Alcohol  MalicAcid   Ash  AlcalinityOfAsh  Magnesium  TotalPhenols  \\\n",
       "0      1    14.23       1.71  2.43             15.6        127          2.80   \n",
       "1      1    13.20       1.78  2.14             11.2        100          2.65   \n",
       "2      1    13.16       2.36  2.67             18.6        101          2.80   \n",
       "3      1    14.37       1.95  2.50             16.8        113          3.85   \n",
       "4      1    13.24       2.59  2.87             21.0        118          2.80   \n",
       "\n",
       "   Flavanoids  NonflavanoidPhenols  Proanthocyanins  Color intensity   Hue  \\\n",
       "0        3.06                 0.28             2.29             5.64  1.04   \n",
       "1        2.76                 0.26             1.28             4.38  1.05   \n",
       "2        3.24                 0.30             2.81             5.68  1.03   \n",
       "3        3.49                 0.24             2.18             7.80  0.86   \n",
       "4        2.69                 0.39             1.82             4.32  1.04   \n",
       "\n",
       "     OD  Proline  \n",
       "0  3.92     1065  \n",
       "1  3.40     1050  \n",
       "2  3.17     1185  \n",
       "3  3.45     1480  \n",
       "4  2.93      735  "
      ]
     },
     "execution_count": 5,
     "metadata": {},
     "output_type": "execute_result"
    }
   ],
   "source": [
    "wine.head()"
   ]
  },
  {
   "cell_type": "code",
   "execution_count": 9,
   "metadata": {},
   "outputs": [
    {
     "data": {
      "text/plain": [
       "(178, 14)"
      ]
     },
     "execution_count": 9,
     "metadata": {},
     "output_type": "execute_result"
    }
   ],
   "source": [
    "wine.shape"
   ]
  },
  {
   "cell_type": "markdown",
   "metadata": {},
   "source": [
    "## PCA"
   ]
  },
  {
   "cell_type": "code",
   "execution_count": 6,
   "metadata": {},
   "outputs": [],
   "source": [
    "pca = PCA(n_components=2) "
   ]
  },
  {
   "cell_type": "code",
   "execution_count": 7,
   "metadata": {},
   "outputs": [],
   "source": [
    "score = pca.fit_transform(wine.iloc[:, 1:])"
   ]
  },
  {
   "cell_type": "code",
   "execution_count": 10,
   "metadata": {},
   "outputs": [
    {
     "data": {
      "text/plain": [
       "array([0.99809123, 0.00173592])"
      ]
     },
     "execution_count": 10,
     "metadata": {},
     "output_type": "execute_result"
    }
   ],
   "source": [
    "pca.explained_variance_ratio_  # 설명된 분산의 비율 = R 제곱"
   ]
  },
  {
   "cell_type": "markdown",
   "metadata": {},
   "source": [
    "### 시각화"
   ]
  },
  {
   "cell_type": "markdown",
   "metadata": {},
   "source": [
    "표 형태로 변환하고, 컬럼 이름을 Comp1, Comp2라고 붙인다."
   ]
  },
  {
   "cell_type": "code",
   "execution_count": 11,
   "metadata": {},
   "outputs": [],
   "source": [
    "score_df = pandas.DataFrame(score, columns=['Comp1', 'Comp2'])"
   ]
  },
  {
   "cell_type": "markdown",
   "metadata": {},
   "source": [
    "wine의 종류(Class) 정보를 가져와서 붙인다."
   ]
  },
  {
   "cell_type": "code",
   "execution_count": 73,
   "metadata": {},
   "outputs": [],
   "source": [
    "score_df['Class'] = wine['Class']"
   ]
  },
  {
   "cell_type": "markdown",
   "metadata": {},
   "source": [
    "와인 종류별로 색깔을 달리해서 2차원에 그려본다."
   ]
  },
  {
   "cell_type": "code",
   "execution_count": 74,
   "metadata": {},
   "outputs": [
    {
     "data": {
      "text/plain": [
       "<matplotlib.axes._subplots.AxesSubplot at 0x170e26a5ef0>"
      ]
     },
     "execution_count": 74,
     "metadata": {},
     "output_type": "execute_result"
    },
    {
     "data": {
      "image/png": "[encoded data removed]",
      "text/plain": [
       "<Figure size 432x288 with 1 Axes>"
      ]
     },
     "metadata": {
      "needs_background": "light"
     },
     "output_type": "display_data"
    }
   ],
   "source": [
    "seaborn.scatterplot('Comp1', 'Comp2', hue='Class', data=score_df, palette=['r', 'g', 'b'])"
   ]
  },
  {
   "cell_type": "markdown",
   "metadata": {},
   "source": [
    "## 표준화 후에 PCA"
   ]
  },
  {
   "cell_type": "markdown",
   "metadata": {},
   "source": [
    "### 표준화"
   ]
  },
  {
   "cell_type": "code",
   "execution_count": 14,
   "metadata": {},
   "outputs": [],
   "source": [
    "from sklearn.preprocessing import StandardScaler"
   ]
  },
  {
   "cell_type": "code",
   "execution_count": 15,
   "metadata": {},
   "outputs": [],
   "source": [
    "scale = StandardScaler()"
   ]
  },
  {
   "cell_type": "code",
   "execution_count": 16,
   "metadata": {
    "collapsed": true
   },
   "outputs": [
    {
     "name": "stderr",
     "output_type": "stream",
     "text": [
      "C:\\Users\\eupho\\Anaconda3\\lib\\site-packages\\sklearn\\preprocessing\\data.py:645: DataConversionWarning: Data with input dtype int64, float64 were all converted to float64 by StandardScaler.\n",
      "  return self.partial_fit(X, y)\n",
      "C:\\Users\\eupho\\Anaconda3\\lib\\site-packages\\sklearn\\base.py:464: DataConversionWarning: Data with input dtype int64, float64 were all converted to float64 by StandardScaler.\n",
      "  return self.fit(X, **fit_params).transform(X)\n"
     ]
    }
   ],
   "source": [
    "x = scale.fit_transform(wine.iloc[:, 1:])"
   ]
  },
  {
   "cell_type": "markdown",
   "metadata": {},
   "source": [
    "### PCA"
   ]
  },
  {
   "cell_type": "code",
   "execution_count": 18,
   "metadata": {},
   "outputs": [],
   "source": [
    "sp = PCA(n_components=2)"
   ]
  },
  {
   "cell_type": "code",
   "execution_count": 19,
   "metadata": {},
   "outputs": [],
   "source": [
    "score2 = sp.fit_transform(x)  # fit: 파라미터 추정(컴포넌트 찾기)\n",
    "                              # transform: 변환 -> 축소된 차원 점수"
   ]
  },
  {
   "cell_type": "markdown",
   "metadata": {},
   "source": [
    "위의 과정은 다음과 같이 나눠서 할 수도 있다. 만약 새로운 와인 데이터를 구했다면 transform만 실시"
   ]
  },
  {
   "cell_type": "code",
   "execution_count": 19,
   "metadata": {},
   "outputs": [],
   "source": [
    "sp.fit(x)\n",
    "score2 = sp.transform(x)"
   ]
  },
  {
   "cell_type": "code",
   "execution_count": 20,
   "metadata": {},
   "outputs": [
    {
     "data": {
      "text/plain": [
       "array([0.36198848, 0.1920749 ])"
      ]
     },
     "execution_count": 20,
     "metadata": {},
     "output_type": "execute_result"
    }
   ],
   "source": [
    "sp.explained_variance_ratio_"
   ]
  },
  {
   "cell_type": "code",
   "execution_count": 22,
   "metadata": {},
   "outputs": [],
   "source": [
    "p = PCA()"
   ]
  },
  {
   "cell_type": "code",
   "execution_count": 23,
   "metadata": {},
   "outputs": [
    {
     "data": {
      "text/plain": [
       "PCA(copy=True, iterated_power='auto', n_components=None, random_state=None,\n",
       "  svd_solver='auto', tol=0.0, whiten=False)"
      ]
     },
     "execution_count": 23,
     "metadata": {},
     "output_type": "execute_result"
    }
   ],
   "source": [
    "p.fit(x)"
   ]
  },
  {
   "cell_type": "markdown",
   "metadata": {},
   "source": [
    "설명된 분산이 1이상인 축만 남긴다. 아래의 경우에는 3개만 남기면됨."
   ]
  },
  {
   "cell_type": "code",
   "execution_count": 24,
   "metadata": {},
   "outputs": [
    {
     "data": {
      "text/plain": [
       "array([4.73243698, 2.51108093, 1.45424187, 0.92416587, 0.85804868,\n",
       "       0.64528221, 0.55414147, 0.35046627, 0.29051203, 0.25232001,\n",
       "       0.22706428, 0.16972374, 0.10396199])"
      ]
     },
     "execution_count": 24,
     "metadata": {},
     "output_type": "execute_result"
    }
   ],
   "source": [
    "p.explained_variance_  # ratio는 이것을 전체 분산으로 나눈 것"
   ]
  },
  {
   "cell_type": "code",
   "execution_count": 25,
   "metadata": {},
   "outputs": [],
   "source": [
    "score_df = pandas.DataFrame(score2, columns=['Comp1', 'Comp2'])"
   ]
  },
  {
   "cell_type": "code",
   "execution_count": 26,
   "metadata": {},
   "outputs": [],
   "source": [
    "score_df['Class'] = wine['Class']"
   ]
  },
  {
   "cell_type": "code",
   "execution_count": 27,
   "metadata": {},
   "outputs": [
    {
     "data": {
      "text/plain": [
       "<matplotlib.axes._subplots.AxesSubplot at 0x29214144860>"
      ]
     },
     "execution_count": 27,
     "metadata": {},
     "output_type": "execute_result"
    },
    {
     "data": {
      "image/png": "[encoded data removed]",
      "text/plain": [
       "<Figure size 432x288 with 1 Axes>"
      ]
     },
     "metadata": {
      "needs_background": "light"
     },
     "output_type": "display_data"
    }
   ],
   "source": [
    "seaborn.scatterplot('Comp1', 'Comp2', hue='Class', data=score_df, palette=['r', 'g', 'b'])"
   ]
  },
  {
   "cell_type": "markdown",
   "metadata": {},
   "source": [
    "## 1차원 시각화"
   ]
  },
  {
   "cell_type": "code",
   "execution_count": 58,
   "metadata": {},
   "outputs": [
    {
     "data": {
      "text/plain": [
       "array([40, 50])"
      ]
     },
     "execution_count": 58,
     "metadata": {},
     "output_type": "execute_result"
    }
   ],
   "source": [
    "a = numpy.array([1, 2, 3, 4, 5])\n",
    "b = numpy.array([10, 20, 30, 40, 50])\n",
    "numpy.extract(a > 3, b)"
   ]
  },
  {
   "cell_type": "code",
   "execution_count": 65,
   "metadata": {},
   "outputs": [
    {
     "data": {
      "text/plain": [
       "'Class = 2'"
      ]
     },
     "execution_count": 65,
     "metadata": {},
     "output_type": "execute_result"
    }
   ],
   "source": [
    "c = 2\n",
    "f'Class = {c}'"
   ]
  },
  {
   "cell_type": "code",
   "execution_count": 63,
   "metadata": {},
   "outputs": [
    {
     "data": {
      "image/png": "[encoded data removed]",
      "text/plain": [
       "<Figure size 432x288 with 1 Axes>"
      ]
     },
     "metadata": {
      "needs_background": "light"
     },
     "output_type": "display_data"
    }
   ],
   "source": [
    "for c in range(1, 4):\n",
    "    d = score_df.query(f'Class == {c}')['Comp1']\n",
    "    seaborn.distplot(d, rug=True, hist=False) "
   ]
  },
  {
   "cell_type": "code",
   "execution_count": 57,
   "metadata": {},
   "outputs": [
    {
     "data": {
      "image/png": "[encoded data removed]",
      "text/plain": [
       "<Figure size 432x288 with 1 Axes>"
      ]
     },
     "metadata": {
      "needs_background": "light"
     },
     "output_type": "display_data"
    }
   ],
   "source": [
    "# c는 1부터 3까지\n",
    "for c in range(1, 4):\n",
    "    \n",
    "    # wine의 Class 컬럼에 따라 score를 뽑아낸다\n",
    "    d = numpy.extract(wine['Class'] == c, score2[:, 0])\n",
    "    \n",
    "    # 해당 score의 밀도를 시각화한다\n",
    "    seaborn.distplot(d, rug=True, hist=False)"
   ]
  },
  {
   "cell_type": "code",
   "execution_count": 29,
   "metadata": {},
   "outputs": [],
   "source": [
    "from numpy.random import normal"
   ]
  },
  {
   "cell_type": "code",
   "execution_count": 35,
   "metadata": {},
   "outputs": [],
   "source": [
    "import numpy"
   ]
  },
  {
   "cell_type": "code",
   "execution_count": 47,
   "metadata": {},
   "outputs": [],
   "source": [
    "vs = []\n",
    "for _ in range(100):\n",
    "    x = normal(0, 1, 30)\n",
    "    v = numpy.sum((x - x.mean()) ** 2) / 29\n",
    "    vs.append(v)"
   ]
  },
  {
   "cell_type": "code",
   "execution_count": 48,
   "metadata": {},
   "outputs": [
    {
     "data": {
      "text/plain": [
       "0.9822398349514971"
      ]
     },
     "execution_count": 48,
     "metadata": {},
     "output_type": "execute_result"
    }
   ],
   "source": [
    "numpy.mean(vs)"
   ]
  },
  {
   "cell_type": "markdown",
   "metadata": {},
   "source": [
    "### 실습: hsb2.csv"
   ]
  },
  {
   "cell_type": "code",
   "execution_count": 66,
   "metadata": {},
   "outputs": [],
   "source": [
    "hsb = pandas.read_csv('hsb2.csv')"
   ]
  },
  {
   "cell_type": "markdown",
   "metadata": {},
   "source": [
    "hsb에서 read \twrite \tmath \tscience \tsocst 다섯 과목을 PCA해서 2차원에 성별(female)에 따라 시각화 해보세요."
   ]
  },
  {
   "cell_type": "code",
   "execution_count": 68,
   "metadata": {},
   "outputs": [],
   "source": [
    "pca = PCA(n_components=2) "
   ]
  },
  {
   "cell_type": "code",
   "execution_count": 71,
   "metadata": {
    "collapsed": true
   },
   "outputs": [
    {
     "data": {
      "text/html": [
       "<div>\n",
       "<style scoped>\n",
       "    .dataframe tbody tr th:only-of-type {\n",
       "        vertical-align: middle;\n",
       "    }\n",
       "\n",
       "    .dataframe tbody tr th {\n",
       "        vertical-align: top;\n",
       "    }\n",
       "\n",
       "    .dataframe thead th {\n",
       "        text-align: right;\n",
       "    }\n",
       "</style>\n",
       "<table border=\"1\" class=\"dataframe\">\n",
       "  <thead>\n",
       "    <tr style=\"text-align: right;\">\n",
       "      <th></th>\n",
       "      <th>read</th>\n",
       "      <th>write</th>\n",
       "      <th>math</th>\n",
       "      <th>science</th>\n",
       "      <th>socst</th>\n",
       "    </tr>\n",
       "  </thead>\n",
       "  <tbody>\n",
       "    <tr>\n",
       "      <th>0</th>\n",
       "      <td>57</td>\n",
       "      <td>52</td>\n",
       "      <td>41</td>\n",
       "      <td>47</td>\n",
       "      <td>57</td>\n",
       "    </tr>\n",
       "    <tr>\n",
       "      <th>1</th>\n",
       "      <td>68</td>\n",
       "      <td>59</td>\n",
       "      <td>53</td>\n",
       "      <td>63</td>\n",
       "      <td>61</td>\n",
       "    </tr>\n",
       "    <tr>\n",
       "      <th>2</th>\n",
       "      <td>44</td>\n",
       "      <td>33</td>\n",
       "      <td>54</td>\n",
       "      <td>58</td>\n",
       "      <td>31</td>\n",
       "    </tr>\n",
       "    <tr>\n",
       "      <th>3</th>\n",
       "      <td>63</td>\n",
       "      <td>44</td>\n",
       "      <td>47</td>\n",
       "      <td>53</td>\n",
       "      <td>56</td>\n",
       "    </tr>\n",
       "    <tr>\n",
       "      <th>4</th>\n",
       "      <td>47</td>\n",
       "      <td>52</td>\n",
       "      <td>57</td>\n",
       "      <td>53</td>\n",
       "      <td>61</td>\n",
       "    </tr>\n",
       "    <tr>\n",
       "      <th>5</th>\n",
       "      <td>44</td>\n",
       "      <td>52</td>\n",
       "      <td>51</td>\n",
       "      <td>63</td>\n",
       "      <td>61</td>\n",
       "    </tr>\n",
       "    <tr>\n",
       "      <th>6</th>\n",
       "      <td>50</td>\n",
       "      <td>59</td>\n",
       "      <td>42</td>\n",
       "      <td>53</td>\n",
       "      <td>61</td>\n",
       "    </tr>\n",
       "    <tr>\n",
       "      <th>7</th>\n",
       "      <td>34</td>\n",
       "      <td>46</td>\n",
       "      <td>45</td>\n",
       "      <td>39</td>\n",
       "      <td>36</td>\n",
       "    </tr>\n",
       "    <tr>\n",
       "      <th>8</th>\n",
       "      <td>63</td>\n",
       "      <td>57</td>\n",
       "      <td>54</td>\n",
       "      <td>58</td>\n",
       "      <td>51</td>\n",
       "    </tr>\n",
       "    <tr>\n",
       "      <th>9</th>\n",
       "      <td>57</td>\n",
       "      <td>55</td>\n",
       "      <td>52</td>\n",
       "      <td>50</td>\n",
       "      <td>51</td>\n",
       "    </tr>\n",
       "    <tr>\n",
       "      <th>10</th>\n",
       "      <td>60</td>\n",
       "      <td>46</td>\n",
       "      <td>51</td>\n",
       "      <td>53</td>\n",
       "      <td>61</td>\n",
       "    </tr>\n",
       "    <tr>\n",
       "      <th>11</th>\n",
       "      <td>57</td>\n",
       "      <td>65</td>\n",
       "      <td>51</td>\n",
       "      <td>63</td>\n",
       "      <td>61</td>\n",
       "    </tr>\n",
       "    <tr>\n",
       "      <th>12</th>\n",
       "      <td>73</td>\n",
       "      <td>60</td>\n",
       "      <td>71</td>\n",
       "      <td>61</td>\n",
       "      <td>71</td>\n",
       "    </tr>\n",
       "    <tr>\n",
       "      <th>13</th>\n",
       "      <td>54</td>\n",
       "      <td>63</td>\n",
       "      <td>57</td>\n",
       "      <td>55</td>\n",
       "      <td>46</td>\n",
       "    </tr>\n",
       "    <tr>\n",
       "      <th>14</th>\n",
       "      <td>45</td>\n",
       "      <td>57</td>\n",
       "      <td>50</td>\n",
       "      <td>31</td>\n",
       "      <td>56</td>\n",
       "    </tr>\n",
       "    <tr>\n",
       "      <th>15</th>\n",
       "      <td>42</td>\n",
       "      <td>49</td>\n",
       "      <td>43</td>\n",
       "      <td>50</td>\n",
       "      <td>56</td>\n",
       "    </tr>\n",
       "    <tr>\n",
       "      <th>16</th>\n",
       "      <td>47</td>\n",
       "      <td>52</td>\n",
       "      <td>51</td>\n",
       "      <td>50</td>\n",
       "      <td>56</td>\n",
       "    </tr>\n",
       "    <tr>\n",
       "      <th>17</th>\n",
       "      <td>57</td>\n",
       "      <td>57</td>\n",
       "      <td>60</td>\n",
       "      <td>58</td>\n",
       "      <td>56</td>\n",
       "    </tr>\n",
       "    <tr>\n",
       "      <th>18</th>\n",
       "      <td>68</td>\n",
       "      <td>65</td>\n",
       "      <td>62</td>\n",
       "      <td>55</td>\n",
       "      <td>61</td>\n",
       "    </tr>\n",
       "    <tr>\n",
       "      <th>19</th>\n",
       "      <td>55</td>\n",
       "      <td>39</td>\n",
       "      <td>57</td>\n",
       "      <td>53</td>\n",
       "      <td>46</td>\n",
       "    </tr>\n",
       "    <tr>\n",
       "      <th>20</th>\n",
       "      <td>63</td>\n",
       "      <td>49</td>\n",
       "      <td>35</td>\n",
       "      <td>66</td>\n",
       "      <td>41</td>\n",
       "    </tr>\n",
       "    <tr>\n",
       "      <th>21</th>\n",
       "      <td>63</td>\n",
       "      <td>63</td>\n",
       "      <td>75</td>\n",
       "      <td>72</td>\n",
       "      <td>66</td>\n",
       "    </tr>\n",
       "    <tr>\n",
       "      <th>22</th>\n",
       "      <td>50</td>\n",
       "      <td>40</td>\n",
       "      <td>45</td>\n",
       "      <td>55</td>\n",
       "      <td>56</td>\n",
       "    </tr>\n",
       "    <tr>\n",
       "      <th>23</th>\n",
       "      <td>60</td>\n",
       "      <td>52</td>\n",
       "      <td>57</td>\n",
       "      <td>61</td>\n",
       "      <td>61</td>\n",
       "    </tr>\n",
       "    <tr>\n",
       "      <th>24</th>\n",
       "      <td>37</td>\n",
       "      <td>44</td>\n",
       "      <td>45</td>\n",
       "      <td>39</td>\n",
       "      <td>46</td>\n",
       "    </tr>\n",
       "    <tr>\n",
       "      <th>25</th>\n",
       "      <td>34</td>\n",
       "      <td>37</td>\n",
       "      <td>46</td>\n",
       "      <td>39</td>\n",
       "      <td>31</td>\n",
       "    </tr>\n",
       "    <tr>\n",
       "      <th>26</th>\n",
       "      <td>65</td>\n",
       "      <td>65</td>\n",
       "      <td>66</td>\n",
       "      <td>61</td>\n",
       "      <td>66</td>\n",
       "    </tr>\n",
       "    <tr>\n",
       "      <th>27</th>\n",
       "      <td>47</td>\n",
       "      <td>57</td>\n",
       "      <td>57</td>\n",
       "      <td>58</td>\n",
       "      <td>46</td>\n",
       "    </tr>\n",
       "    <tr>\n",
       "      <th>28</th>\n",
       "      <td>44</td>\n",
       "      <td>38</td>\n",
       "      <td>49</td>\n",
       "      <td>39</td>\n",
       "      <td>46</td>\n",
       "    </tr>\n",
       "    <tr>\n",
       "      <th>29</th>\n",
       "      <td>52</td>\n",
       "      <td>44</td>\n",
       "      <td>49</td>\n",
       "      <td>55</td>\n",
       "      <td>41</td>\n",
       "    </tr>\n",
       "    <tr>\n",
       "      <th>...</th>\n",
       "      <td>...</td>\n",
       "      <td>...</td>\n",
       "      <td>...</td>\n",
       "      <td>...</td>\n",
       "      <td>...</td>\n",
       "    </tr>\n",
       "    <tr>\n",
       "      <th>170</th>\n",
       "      <td>42</td>\n",
       "      <td>57</td>\n",
       "      <td>45</td>\n",
       "      <td>50</td>\n",
       "      <td>43</td>\n",
       "    </tr>\n",
       "    <tr>\n",
       "      <th>171</th>\n",
       "      <td>47</td>\n",
       "      <td>46</td>\n",
       "      <td>39</td>\n",
       "      <td>47</td>\n",
       "      <td>61</td>\n",
       "    </tr>\n",
       "    <tr>\n",
       "      <th>172</th>\n",
       "      <td>42</td>\n",
       "      <td>36</td>\n",
       "      <td>42</td>\n",
       "      <td>31</td>\n",
       "      <td>39</td>\n",
       "    </tr>\n",
       "    <tr>\n",
       "      <th>173</th>\n",
       "      <td>60</td>\n",
       "      <td>59</td>\n",
       "      <td>62</td>\n",
       "      <td>61</td>\n",
       "      <td>51</td>\n",
       "    </tr>\n",
       "    <tr>\n",
       "      <th>174</th>\n",
       "      <td>44</td>\n",
       "      <td>49</td>\n",
       "      <td>44</td>\n",
       "      <td>35</td>\n",
       "      <td>51</td>\n",
       "    </tr>\n",
       "    <tr>\n",
       "      <th>175</th>\n",
       "      <td>63</td>\n",
       "      <td>60</td>\n",
       "      <td>65</td>\n",
       "      <td>54</td>\n",
       "      <td>66</td>\n",
       "    </tr>\n",
       "    <tr>\n",
       "      <th>176</th>\n",
       "      <td>65</td>\n",
       "      <td>67</td>\n",
       "      <td>63</td>\n",
       "      <td>55</td>\n",
       "      <td>71</td>\n",
       "    </tr>\n",
       "    <tr>\n",
       "      <th>177</th>\n",
       "      <td>39</td>\n",
       "      <td>54</td>\n",
       "      <td>54</td>\n",
       "      <td>53</td>\n",
       "      <td>41</td>\n",
       "    </tr>\n",
       "    <tr>\n",
       "      <th>178</th>\n",
       "      <td>50</td>\n",
       "      <td>52</td>\n",
       "      <td>45</td>\n",
       "      <td>58</td>\n",
       "      <td>36</td>\n",
       "    </tr>\n",
       "    <tr>\n",
       "      <th>179</th>\n",
       "      <td>52</td>\n",
       "      <td>65</td>\n",
       "      <td>60</td>\n",
       "      <td>56</td>\n",
       "      <td>51</td>\n",
       "    </tr>\n",
       "    <tr>\n",
       "      <th>180</th>\n",
       "      <td>60</td>\n",
       "      <td>62</td>\n",
       "      <td>49</td>\n",
       "      <td>50</td>\n",
       "      <td>51</td>\n",
       "    </tr>\n",
       "    <tr>\n",
       "      <th>181</th>\n",
       "      <td>44</td>\n",
       "      <td>49</td>\n",
       "      <td>48</td>\n",
       "      <td>39</td>\n",
       "      <td>51</td>\n",
       "    </tr>\n",
       "    <tr>\n",
       "      <th>182</th>\n",
       "      <td>52</td>\n",
       "      <td>67</td>\n",
       "      <td>57</td>\n",
       "      <td>63</td>\n",
       "      <td>61</td>\n",
       "    </tr>\n",
       "    <tr>\n",
       "      <th>183</th>\n",
       "      <td>55</td>\n",
       "      <td>65</td>\n",
       "      <td>55</td>\n",
       "      <td>50</td>\n",
       "      <td>61</td>\n",
       "    </tr>\n",
       "    <tr>\n",
       "      <th>184</th>\n",
       "      <td>50</td>\n",
       "      <td>67</td>\n",
       "      <td>66</td>\n",
       "      <td>66</td>\n",
       "      <td>56</td>\n",
       "    </tr>\n",
       "    <tr>\n",
       "      <th>185</th>\n",
       "      <td>65</td>\n",
       "      <td>65</td>\n",
       "      <td>64</td>\n",
       "      <td>58</td>\n",
       "      <td>71</td>\n",
       "    </tr>\n",
       "    <tr>\n",
       "      <th>186</th>\n",
       "      <td>52</td>\n",
       "      <td>54</td>\n",
       "      <td>55</td>\n",
       "      <td>53</td>\n",
       "      <td>51</td>\n",
       "    </tr>\n",
       "    <tr>\n",
       "      <th>187</th>\n",
       "      <td>47</td>\n",
       "      <td>44</td>\n",
       "      <td>42</td>\n",
       "      <td>42</td>\n",
       "      <td>36</td>\n",
       "    </tr>\n",
       "    <tr>\n",
       "      <th>188</th>\n",
       "      <td>63</td>\n",
       "      <td>62</td>\n",
       "      <td>56</td>\n",
       "      <td>55</td>\n",
       "      <td>61</td>\n",
       "    </tr>\n",
       "    <tr>\n",
       "      <th>189</th>\n",
       "      <td>50</td>\n",
       "      <td>46</td>\n",
       "      <td>53</td>\n",
       "      <td>53</td>\n",
       "      <td>66</td>\n",
       "    </tr>\n",
       "    <tr>\n",
       "      <th>190</th>\n",
       "      <td>42</td>\n",
       "      <td>54</td>\n",
       "      <td>41</td>\n",
       "      <td>42</td>\n",
       "      <td>41</td>\n",
       "    </tr>\n",
       "    <tr>\n",
       "      <th>191</th>\n",
       "      <td>36</td>\n",
       "      <td>57</td>\n",
       "      <td>42</td>\n",
       "      <td>50</td>\n",
       "      <td>41</td>\n",
       "    </tr>\n",
       "    <tr>\n",
       "      <th>192</th>\n",
       "      <td>50</td>\n",
       "      <td>52</td>\n",
       "      <td>53</td>\n",
       "      <td>55</td>\n",
       "      <td>56</td>\n",
       "    </tr>\n",
       "    <tr>\n",
       "      <th>193</th>\n",
       "      <td>41</td>\n",
       "      <td>59</td>\n",
       "      <td>42</td>\n",
       "      <td>34</td>\n",
       "      <td>51</td>\n",
       "    </tr>\n",
       "    <tr>\n",
       "      <th>194</th>\n",
       "      <td>47</td>\n",
       "      <td>65</td>\n",
       "      <td>60</td>\n",
       "      <td>50</td>\n",
       "      <td>56</td>\n",
       "    </tr>\n",
       "    <tr>\n",
       "      <th>195</th>\n",
       "      <td>55</td>\n",
       "      <td>59</td>\n",
       "      <td>52</td>\n",
       "      <td>42</td>\n",
       "      <td>56</td>\n",
       "    </tr>\n",
       "    <tr>\n",
       "      <th>196</th>\n",
       "      <td>42</td>\n",
       "      <td>46</td>\n",
       "      <td>38</td>\n",
       "      <td>36</td>\n",
       "      <td>46</td>\n",
       "    </tr>\n",
       "    <tr>\n",
       "      <th>197</th>\n",
       "      <td>57</td>\n",
       "      <td>41</td>\n",
       "      <td>57</td>\n",
       "      <td>55</td>\n",
       "      <td>52</td>\n",
       "    </tr>\n",
       "    <tr>\n",
       "      <th>198</th>\n",
       "      <td>55</td>\n",
       "      <td>62</td>\n",
       "      <td>58</td>\n",
       "      <td>58</td>\n",
       "      <td>61</td>\n",
       "    </tr>\n",
       "    <tr>\n",
       "      <th>199</th>\n",
       "      <td>63</td>\n",
       "      <td>65</td>\n",
       "      <td>65</td>\n",
       "      <td>53</td>\n",
       "      <td>61</td>\n",
       "    </tr>\n",
       "  </tbody>\n",
       "</table>\n",
       "<p>200 rows × 5 columns</p>\n",
       "</div>"
      ],
      "text/plain": [
       "     read  write  math  science  socst\n",
       "0      57     52    41       47     57\n",
       "1      68     59    53       63     61\n",
       "2      44     33    54       58     31\n",
       "3      63     44    47       53     56\n",
       "4      47     52    57       53     61\n",
       "5      44     52    51       63     61\n",
       "6      50     59    42       53     61\n",
       "7      34     46    45       39     36\n",
       "8      63     57    54       58     51\n",
       "9      57     55    52       50     51\n",
       "10     60     46    51       53     61\n",
       "11     57     65    51       63     61\n",
       "12     73     60    71       61     71\n",
       "13     54     63    57       55     46\n",
       "14     45     57    50       31     56\n",
       "15     42     49    43       50     56\n",
       "16     47     52    51       50     56\n",
       "17     57     57    60       58     56\n",
       "18     68     65    62       55     61\n",
       "19     55     39    57       53     46\n",
       "20     63     49    35       66     41\n",
       "21     63     63    75       72     66\n",
       "22     50     40    45       55     56\n",
       "23     60     52    57       61     61\n",
       "24     37     44    45       39     46\n",
       "25     34     37    46       39     31\n",
       "26     65     65    66       61     66\n",
       "27     47     57    57       58     46\n",
       "28     44     38    49       39     46\n",
       "29     52     44    49       55     41\n",
       "..    ...    ...   ...      ...    ...\n",
       "170    42     57    45       50     43\n",
       "171    47     46    39       47     61\n",
       "172    42     36    42       31     39\n",
       "173    60     59    62       61     51\n",
       "174    44     49    44       35     51\n",
       "175    63     60    65       54     66\n",
       "176    65     67    63       55     71\n",
       "177    39     54    54       53     41\n",
       "178    50     52    45       58     36\n",
       "179    52     65    60       56     51\n",
       "180    60     62    49       50     51\n",
       "181    44     49    48       39     51\n",
       "182    52     67    57       63     61\n",
       "183    55     65    55       50     61\n",
       "184    50     67    66       66     56\n",
       "185    65     65    64       58     71\n",
       "186    52     54    55       53     51\n",
       "187    47     44    42       42     36\n",
       "188    63     62    56       55     61\n",
       "189    50     46    53       53     66\n",
       "190    42     54    41       42     41\n",
       "191    36     57    42       50     41\n",
       "192    50     52    53       55     56\n",
       "193    41     59    42       34     51\n",
       "194    47     65    60       50     56\n",
       "195    55     59    52       42     56\n",
       "196    42     46    38       36     46\n",
       "197    57     41    57       55     52\n",
       "198    55     62    58       58     61\n",
       "199    63     65    65       53     61\n",
       "\n",
       "[200 rows x 5 columns]"
      ]
     },
     "execution_count": 71,
     "metadata": {},
     "output_type": "execute_result"
    }
   ],
   "source": [
    "hsb[['read', 'write', 'math', 'science', 'socst']]"
   ]
  },
  {
   "cell_type": "code",
   "execution_count": 72,
   "metadata": {},
   "outputs": [],
   "source": [
    "score = pca.fit_transform(hsb.iloc[:, 6:])"
   ]
  },
  {
   "cell_type": "code",
   "execution_count": 74,
   "metadata": {},
   "outputs": [
    {
     "data": {
      "text/plain": [
       "array([0.67506211, 0.11941715])"
      ]
     },
     "execution_count": 74,
     "metadata": {},
     "output_type": "execute_result"
    }
   ],
   "source": [
    "pca.explained_variance_ratio_"
   ]
  },
  {
   "cell_type": "code",
   "execution_count": 75,
   "metadata": {},
   "outputs": [],
   "source": [
    "score_df = pandas.DataFrame(score, columns=['Comp1', 'Comp2'])"
   ]
  },
  {
   "cell_type": "code",
   "execution_count": 77,
   "metadata": {},
   "outputs": [],
   "source": [
    "score_df['female'] = hsb['female']"
   ]
  },
  {
   "cell_type": "code",
   "execution_count": 78,
   "metadata": {},
   "outputs": [
    {
     "data": {
      "text/plain": [
       "<matplotlib.axes._subplots.AxesSubplot at 0x292149c5cc0>"
      ]
     },
     "execution_count": 78,
     "metadata": {},
     "output_type": "execute_result"
    },
    {
     "data": {
      "image/png": "[encoded data removed]",
      "text/plain": [
       "<Figure size 432x288 with 1 Axes>"
      ]
     },
     "metadata": {
      "needs_background": "light"
     },
     "output_type": "display_data"
    }
   ],
   "source": [
    "seaborn.scatterplot('Comp1', 'Comp2', hue='female', data=score_df)"
   ]
  },
  {
   "cell_type": "markdown",
   "metadata": {},
   "source": [
    "## NMF"
   ]
  },
  {
   "cell_type": "code",
   "execution_count": 82,
   "metadata": {},
   "outputs": [],
   "source": [
    "from sklearn.decomposition import NMF"
   ]
  },
  {
   "cell_type": "code",
   "execution_count": 83,
   "metadata": {},
   "outputs": [],
   "source": [
    "nmf = NMF(n_components=2)"
   ]
  },
  {
   "cell_type": "markdown",
   "metadata": {},
   "source": [
    "`hsb.iloc[:, 6:]`와 `hsb[['read', 'write', 'math', 'science', 'socst']]`는 똑같다."
   ]
  },
  {
   "cell_type": "code",
   "execution_count": 90,
   "metadata": {},
   "outputs": [],
   "source": [
    "score = nmf.fit_transform(hsb[['read', 'write', 'math', 'science', 'socst']])"
   ]
  },
  {
   "cell_type": "code",
   "execution_count": 91,
   "metadata": {
    "collapsed": true
   },
   "outputs": [
    {
     "data": {
      "text/plain": [
       "array([[2.15599754, 1.48927056],\n",
       "       [2.85954204, 1.31813185],\n",
       "       [2.63526129, 0.01331062],\n",
       "       [2.41169948, 1.24293257],\n",
       "       [2.40152527, 1.40153284],\n",
       "       [2.51101483, 1.2374375 ],\n",
       "       [2.24673453, 1.55802667],\n",
       "       [1.96985854, 0.72274037],\n",
       "       [2.79968423, 0.99955841],\n",
       "       [2.49548846, 1.14636001],\n",
       "       [2.40165354, 1.41976959],\n",
       "       [2.75272354, 1.35644502],\n",
       "       [3.0500228 , 1.64236896],\n",
       "       [2.78026751, 0.87398699],\n",
       "       [1.83667782, 1.72449973],\n",
       "       [2.08390692, 1.3291156 ],\n",
       "       [2.2901941 , 1.30705772],\n",
       "       [2.77364764, 1.1430705 ],\n",
       "       [2.85900503, 1.46173061],\n",
       "       [2.56013813, 0.73793068],\n",
       "       [2.73771325, 0.51979583],\n",
       "       [3.34713456, 1.20817863],\n",
       "       [2.25434773, 1.16403895],\n",
       "       [2.73497581, 1.265496  ],\n",
       "       [1.8739271 , 1.10088126],\n",
       "       [1.97394618, 0.45570394],\n",
       "       [2.97696363, 1.50461291],\n",
       "       [2.72939589, 0.75772313],\n",
       "       [1.9690774 , 1.04228044],\n",
       "       [2.54138726, 0.58912882],\n",
       "       [2.1565813 , 0.96890146],\n",
       "       [3.09441294, 1.18762486],\n",
       "       [3.00665811, 1.63382738],\n",
       "       [2.94825683, 0.        ],\n",
       "       [2.58828477, 1.34962519],\n",
       "       [2.79359188, 1.54886248],\n",
       "       [3.1898793 , 1.26954974],\n",
       "       [3.10559926, 1.36986212],\n",
       "       [1.90997432, 0.70083494],\n",
       "       [1.65940242, 1.23521072],\n",
       "       [1.95696969, 1.30141441],\n",
       "       [2.85592439, 0.94725981],\n",
       "       [2.63285324, 0.9977294 ],\n",
       "       [2.19307613, 0.68844206],\n",
       "       [2.73537585, 1.58422277],\n",
       "       [3.19144104, 0.52833802],\n",
       "       [2.11678301, 0.97407844],\n",
       "       [3.2134699 , 0.81249599],\n",
       "       [2.72172102, 0.83204115],\n",
       "       [2.52873357, 1.15213681],\n",
       "       [2.75257818, 1.17886126],\n",
       "       [1.94708956, 0.71671995],\n",
       "       [2.47048984, 0.78865009],\n",
       "       [2.4359099 , 1.88240777],\n",
       "       [3.34525056, 1.29119232],\n",
       "       [1.57653279, 1.17715395],\n",
       "       [1.78787678, 0.64541991],\n",
       "       [2.20002206, 0.77483701],\n",
       "       [2.92927714, 0.60526519],\n",
       "       [2.20778559, 1.20532213],\n",
       "       [2.31506033, 1.34267411],\n",
       "       [2.86753462, 1.32505863],\n",
       "       [1.73475795, 1.25225846],\n",
       "       [1.73461801, 0.71267423],\n",
       "       [1.83951546, 1.71685888],\n",
       "       [2.33703743, 0.1303491 ],\n",
       "       [2.59843697, 1.57339428],\n",
       "       [2.27610633, 0.23330045],\n",
       "       [3.01974446, 0.45246501],\n",
       "       [2.22953129, 0.52887344],\n",
       "       [1.90992453, 1.30038405],\n",
       "       [2.69468691, 1.33324115],\n",
       "       [3.20801162, 1.46059762],\n",
       "       [3.1458403 , 1.26035608],\n",
       "       [2.49178728, 0.94976961],\n",
       "       [2.23432693, 0.40146721],\n",
       "       [2.41416185, 1.58149396],\n",
       "       [2.85100775, 1.49207542],\n",
       "       [1.76316719, 1.02453081],\n",
       "       [2.06335359, 1.36468017],\n",
       "       [2.73478614, 1.24787657],\n",
       "       [2.6847226 , 0.25186057],\n",
       "       [3.27729006, 0.94538989],\n",
       "       [2.82698485, 1.19304461],\n",
       "       [2.14397846, 0.85033413],\n",
       "       [2.86011386, 1.43838809],\n",
       "       [2.33258414, 1.174894  ],\n",
       "       [1.74092928, 1.50045616],\n",
       "       [1.88753671, 0.57851247],\n",
       "       [2.77834649, 1.01416869],\n",
       "       [2.70435218, 0.96229073],\n",
       "       [2.90600291, 0.62081553],\n",
       "       [3.21863781, 1.14161001],\n",
       "       [2.10505809, 1.0362221 ],\n",
       "       [2.10096652, 1.14150372],\n",
       "       [2.92739364, 0.86799478],\n",
       "       [3.37205932, 0.98841542],\n",
       "       [3.16971214, 1.50290288],\n",
       "       [1.81744807, 0.934925  ],\n",
       "       [3.04476139, 1.27258384],\n",
       "       [3.13052695, 1.32727687],\n",
       "       [2.74936293, 1.20176238],\n",
       "       [1.97652621, 1.03205824],\n",
       "       [2.57044986, 1.12145258],\n",
       "       [2.75002749, 0.94207308],\n",
       "       [2.44318864, 1.39534843],\n",
       "       [2.76618585, 1.29780248],\n",
       "       [2.1370337 , 0.32165558],\n",
       "       [2.22509652, 1.3549994 ],\n",
       "       [2.96251561, 1.74867975],\n",
       "       [2.48559792, 1.17909304],\n",
       "       [1.87538085, 1.37791466],\n",
       "       [2.4282549 , 1.8177951 ],\n",
       "       [2.94698541, 1.21497632],\n",
       "       [2.74609012, 1.66790673],\n",
       "       [1.86277311, 0.89874759],\n",
       "       [2.5588719 , 0.80134167],\n",
       "       [2.94393624, 1.6195628 ],\n",
       "       [2.78317474, 1.10776678],\n",
       "       [1.80352701, 1.35708083],\n",
       "       [2.48856369, 1.15749323],\n",
       "       [2.24268308, 1.3454765 ],\n",
       "       [2.09252467, 1.51753087],\n",
       "       [2.32619566, 0.90810118],\n",
       "       [2.00156343, 1.35090358],\n",
       "       [2.63068001, 1.35990577],\n",
       "       [1.99930346, 1.38989663],\n",
       "       [2.42869826, 0.69901342],\n",
       "       [2.42239396, 0.92890673],\n",
       "       [1.69625122, 0.47882521],\n",
       "       [2.50143316, 1.35652195],\n",
       "       [2.93213329, 1.20213523],\n",
       "       [2.73375693, 1.19095198],\n",
       "       [2.22827617, 1.01150034],\n",
       "       [2.20807715, 1.90352195],\n",
       "       [3.12901829, 1.42976395],\n",
       "       [2.69644813, 0.79240592],\n",
       "       [2.20025771, 1.39794301],\n",
       "       [1.80842158, 0.90834523],\n",
       "       [2.08986088, 1.619903  ],\n",
       "       [1.82110596, 1.20765157],\n",
       "       [2.28003083, 1.16463016],\n",
       "       [2.02396051, 1.25108451],\n",
       "       [2.30715726, 0.90159679],\n",
       "       [2.46908301, 1.64930188],\n",
       "       [2.05707536, 1.59364523],\n",
       "       [2.64188956, 0.38413638],\n",
       "       [2.04220886, 1.28015004],\n",
       "       [2.05727087, 0.87594011],\n",
       "       [1.9668692 , 1.10840611],\n",
       "       [1.96949375, 1.02035131],\n",
       "       [2.85444314, 1.1283069 ],\n",
       "       [2.16450351, 1.21610708],\n",
       "       [2.28820298, 1.46936284],\n",
       "       [2.63402239, 1.59423821],\n",
       "       [2.68358127, 1.81164043],\n",
       "       [2.39056913, 1.45905655],\n",
       "       [2.1452142 , 1.58866994],\n",
       "       [1.97068228, 0.83915737],\n",
       "       [3.01926998, 1.51453512],\n",
       "       [2.4136104 , 1.50202293],\n",
       "       [2.36956392, 1.37413733],\n",
       "       [2.95317862, 0.14629283],\n",
       "       [3.01962061, 1.23475513],\n",
       "       [2.41285347, 1.48204432],\n",
       "       [2.06439136, 0.5449731 ],\n",
       "       [2.61460048, 1.32622248],\n",
       "       [2.18033143, 0.67160051],\n",
       "       [2.95870098, 0.63825279],\n",
       "       [2.74817188, 0.58766619],\n",
       "       [2.32473793, 0.87107166],\n",
       "       [1.92306465, 1.59563964],\n",
       "       [1.70778772, 0.95789337],\n",
       "       [2.98233765, 0.89646564],\n",
       "       [1.82044609, 1.43006927],\n",
       "       [2.7336256 , 1.60976209],\n",
       "       [2.74397536, 1.85228784],\n",
       "       [2.50797749, 0.64683053],\n",
       "       [2.64468618, 0.41789805],\n",
       "       [2.78898142, 1.0393506 ],\n",
       "       [2.53359658, 1.22330054],\n",
       "       [1.98026671, 1.32411133],\n",
       "       [2.8096774 , 1.32267688],\n",
       "       [2.48467091, 1.58459341],\n",
       "       [3.06084228, 1.00608551],\n",
       "       [2.81641407, 1.7712838 ],\n",
       "       [2.55294293, 1.05070837],\n",
       "       [2.12040617, 0.6910976 ],\n",
       "       [2.68486766, 1.4705296 ],\n",
       "       [2.26749931, 1.58277067],\n",
       "       [2.0691845 , 0.9567453 ],\n",
       "       [2.2334898 , 0.80288408],\n",
       "       [2.47460866, 1.19977021],\n",
       "       [1.80793727, 1.53188894],\n",
       "       [2.5341684 , 1.34355678],\n",
       "       [2.25633235, 1.52514677],\n",
       "       [1.75981149, 1.2304479 ],\n",
       "       [2.57697378, 0.94911771],\n",
       "       [2.70102219, 1.38363306],\n",
       "       [2.80469672, 1.4727764 ]])"
      ]
     },
     "execution_count": 91,
     "metadata": {},
     "output_type": "execute_result"
    }
   ],
   "source": [
    "score"
   ]
  },
  {
   "cell_type": "code",
   "execution_count": 85,
   "metadata": {},
   "outputs": [
    {
     "data": {
      "text/plain": [
       "143.12732842523727"
      ]
     },
     "execution_count": 85,
     "metadata": {},
     "output_type": "execute_result"
    }
   ],
   "source": [
    "nmf.reconstruction_err_"
   ]
  },
  {
   "cell_type": "code",
   "execution_count": 92,
   "metadata": {},
   "outputs": [
    {
     "data": {
      "text/plain": [
       "array([[17.10271518, 16.15759752, 18.78260808, 21.04648333, 10.11797503],\n",
       "       [ 8.97102696, 11.34934325,  5.56484605,  0.        , 24.19692873]])"
      ]
     },
     "execution_count": 92,
     "metadata": {},
     "output_type": "execute_result"
    }
   ],
   "source": [
    "nmf.components_"
   ]
  },
  {
   "cell_type": "code",
   "execution_count": 93,
   "metadata": {},
   "outputs": [
    {
     "data": {
      "text/html": [
       "<div>\n",
       "<style scoped>\n",
       "    .dataframe tbody tr th:only-of-type {\n",
       "        vertical-align: middle;\n",
       "    }\n",
       "\n",
       "    .dataframe tbody tr th {\n",
       "        vertical-align: top;\n",
       "    }\n",
       "\n",
       "    .dataframe thead th {\n",
       "        text-align: right;\n",
       "    }\n",
       "</style>\n",
       "<table border=\"1\" class=\"dataframe\">\n",
       "  <thead>\n",
       "    <tr style=\"text-align: right;\">\n",
       "      <th></th>\n",
       "      <th>id</th>\n",
       "      <th>female</th>\n",
       "      <th>race</th>\n",
       "      <th>ses</th>\n",
       "      <th>schtyp</th>\n",
       "      <th>prog</th>\n",
       "      <th>read</th>\n",
       "      <th>write</th>\n",
       "      <th>math</th>\n",
       "      <th>science</th>\n",
       "      <th>socst</th>\n",
       "    </tr>\n",
       "  </thead>\n",
       "  <tbody>\n",
       "    <tr>\n",
       "      <th>0</th>\n",
       "      <td>70</td>\n",
       "      <td>0</td>\n",
       "      <td>4</td>\n",
       "      <td>1</td>\n",
       "      <td>1</td>\n",
       "      <td>1</td>\n",
       "      <td>57</td>\n",
       "      <td>52</td>\n",
       "      <td>41</td>\n",
       "      <td>47</td>\n",
       "      <td>57</td>\n",
       "    </tr>\n",
       "    <tr>\n",
       "      <th>1</th>\n",
       "      <td>121</td>\n",
       "      <td>1</td>\n",
       "      <td>4</td>\n",
       "      <td>2</td>\n",
       "      <td>1</td>\n",
       "      <td>3</td>\n",
       "      <td>68</td>\n",
       "      <td>59</td>\n",
       "      <td>53</td>\n",
       "      <td>63</td>\n",
       "      <td>61</td>\n",
       "    </tr>\n",
       "    <tr>\n",
       "      <th>2</th>\n",
       "      <td>86</td>\n",
       "      <td>0</td>\n",
       "      <td>4</td>\n",
       "      <td>3</td>\n",
       "      <td>1</td>\n",
       "      <td>1</td>\n",
       "      <td>44</td>\n",
       "      <td>33</td>\n",
       "      <td>54</td>\n",
       "      <td>58</td>\n",
       "      <td>31</td>\n",
       "    </tr>\n",
       "    <tr>\n",
       "      <th>3</th>\n",
       "      <td>141</td>\n",
       "      <td>0</td>\n",
       "      <td>4</td>\n",
       "      <td>3</td>\n",
       "      <td>1</td>\n",
       "      <td>3</td>\n",
       "      <td>63</td>\n",
       "      <td>44</td>\n",
       "      <td>47</td>\n",
       "      <td>53</td>\n",
       "      <td>56</td>\n",
       "    </tr>\n",
       "    <tr>\n",
       "      <th>4</th>\n",
       "      <td>172</td>\n",
       "      <td>0</td>\n",
       "      <td>4</td>\n",
       "      <td>2</td>\n",
       "      <td>1</td>\n",
       "      <td>2</td>\n",
       "      <td>47</td>\n",
       "      <td>52</td>\n",
       "      <td>57</td>\n",
       "      <td>53</td>\n",
       "      <td>61</td>\n",
       "    </tr>\n",
       "  </tbody>\n",
       "</table>\n",
       "</div>"
      ],
      "text/plain": [
       "    id  female  race  ses  schtyp  prog  read  write  math  science  socst\n",
       "0   70       0     4    1       1     1    57     52    41       47     57\n",
       "1  121       1     4    2       1     3    68     59    53       63     61\n",
       "2   86       0     4    3       1     1    44     33    54       58     31\n",
       "3  141       0     4    3       1     3    63     44    47       53     56\n",
       "4  172       0     4    2       1     2    47     52    57       53     61"
      ]
     },
     "execution_count": 93,
     "metadata": {},
     "output_type": "execute_result"
    }
   ],
   "source": [
    "hsb.head()"
   ]
  },
  {
   "cell_type": "code",
   "execution_count": 102,
   "metadata": {},
   "outputs": [],
   "source": [
    "original = hsb[['read', 'write', 'math', 'science', 'socst']].values\n",
    "recon = score @ nmf.components_"
   ]
  },
  {
   "cell_type": "code",
   "execution_count": 106,
   "metadata": {},
   "outputs": [
    {
     "data": {
      "text/plain": [
       "143.12732842523727"
      ]
     },
     "execution_count": 106,
     "metadata": {},
     "output_type": "execute_result"
    }
   ],
   "source": [
    "numpy.sqrt(((original - recon) ** 2).sum())"
   ]
  },
  {
   "cell_type": "code",
   "execution_count": null,
   "metadata": {},
   "outputs": [],
   "source": []
  },
  {
   "cell_type": "markdown",
   "metadata": {},
   "source": [
    "### 실습: med.csv"
   ]
  },
  {
   "cell_type": "code",
   "execution_count": 109,
   "metadata": {},
   "outputs": [],
   "source": [
    "med = pandas.read_csv('med.csv')"
   ]
  },
  {
   "cell_type": "code",
   "execution_count": 112,
   "metadata": {},
   "outputs": [],
   "source": [
    "med.dropna(inplace=True)  # med에서 빈 값이 있는 행을 없애고 다시 med에 덮어쓴다"
   ]
  },
  {
   "cell_type": "code",
   "execution_count": 113,
   "metadata": {},
   "outputs": [],
   "source": [
    "nmf = NMF(n_components=2)"
   ]
  },
  {
   "cell_type": "code",
   "execution_count": 114,
   "metadata": {},
   "outputs": [],
   "source": [
    "score = nmf.fit_transform(med.iloc[:, 4:11])"
   ]
  },
  {
   "cell_type": "code",
   "execution_count": 116,
   "metadata": {},
   "outputs": [
    {
     "data": {
      "text/plain": [
       "array([[ 1.47150289,  1.45637616,  3.00656129,  4.36957985,  2.56738169,\n",
       "         4.53278833, 14.49959593],\n",
       "       [ 0.37098128,  0.47184245,  4.13092151,  0.40023626,  1.99304915,\n",
       "         0.        ,  6.45815307]])"
      ]
     },
     "execution_count": 116,
     "metadata": {},
     "output_type": "execute_result"
    }
   ],
   "source": [
    "nmf.components_"
   ]
  },
  {
   "cell_type": "code",
   "execution_count": 117,
   "metadata": {},
   "outputs": [],
   "source": [
    "test = pandas.read_csv('test.csv')"
   ]
  },
  {
   "cell_type": "code",
   "execution_count": 119,
   "metadata": {},
   "outputs": [
    {
     "data": {
      "text/html": [
       "<div>\n",
       "<style scoped>\n",
       "    .dataframe tbody tr th:only-of-type {\n",
       "        vertical-align: middle;\n",
       "    }\n",
       "\n",
       "    .dataframe tbody tr th {\n",
       "        vertical-align: top;\n",
       "    }\n",
       "\n",
       "    .dataframe thead th {\n",
       "        text-align: right;\n",
       "    }\n",
       "</style>\n",
       "<table border=\"1\" class=\"dataframe\">\n",
       "  <thead>\n",
       "    <tr style=\"text-align: right;\">\n",
       "      <th></th>\n",
       "      <th>Visual</th>\n",
       "      <th>Cubes</th>\n",
       "      <th>Lozenges</th>\n",
       "      <th>Comprehension</th>\n",
       "      <th>Completion</th>\n",
       "      <th>Word</th>\n",
       "      <th>Addition</th>\n",
       "      <th>Counting</th>\n",
       "      <th>Curve</th>\n",
       "    </tr>\n",
       "  </thead>\n",
       "  <tbody>\n",
       "    <tr>\n",
       "      <th>0</th>\n",
       "      <td>23</td>\n",
       "      <td>19</td>\n",
       "      <td>4</td>\n",
       "      <td>10</td>\n",
       "      <td>17</td>\n",
       "      <td>10</td>\n",
       "      <td>69</td>\n",
       "      <td>82</td>\n",
       "      <td>156</td>\n",
       "    </tr>\n",
       "    <tr>\n",
       "      <th>1</th>\n",
       "      <td>33</td>\n",
       "      <td>22</td>\n",
       "      <td>17</td>\n",
       "      <td>8</td>\n",
       "      <td>17</td>\n",
       "      <td>10</td>\n",
       "      <td>65</td>\n",
       "      <td>98</td>\n",
       "      <td>195</td>\n",
       "    </tr>\n",
       "    <tr>\n",
       "      <th>2</th>\n",
       "      <td>34</td>\n",
       "      <td>24</td>\n",
       "      <td>22</td>\n",
       "      <td>11</td>\n",
       "      <td>19</td>\n",
       "      <td>19</td>\n",
       "      <td>50</td>\n",
       "      <td>86</td>\n",
       "      <td>228</td>\n",
       "    </tr>\n",
       "    <tr>\n",
       "      <th>3</th>\n",
       "      <td>29</td>\n",
       "      <td>23</td>\n",
       "      <td>9</td>\n",
       "      <td>9</td>\n",
       "      <td>19</td>\n",
       "      <td>11</td>\n",
       "      <td>114</td>\n",
       "      <td>103</td>\n",
       "      <td>144</td>\n",
       "    </tr>\n",
       "    <tr>\n",
       "      <th>4</th>\n",
       "      <td>16</td>\n",
       "      <td>25</td>\n",
       "      <td>10</td>\n",
       "      <td>8</td>\n",
       "      <td>25</td>\n",
       "      <td>24</td>\n",
       "      <td>112</td>\n",
       "      <td>122</td>\n",
       "      <td>160</td>\n",
       "    </tr>\n",
       "  </tbody>\n",
       "</table>\n",
       "</div>"
      ],
      "text/plain": [
       "   Visual  Cubes  Lozenges  Comprehension  Completion  Word  Addition  \\\n",
       "0      23     19         4             10          17    10        69   \n",
       "1      33     22        17              8          17    10        65   \n",
       "2      34     24        22             11          19    19        50   \n",
       "3      29     23         9              9          19    11       114   \n",
       "4      16     25        10              8          25    24       112   \n",
       "\n",
       "   Counting  Curve  \n",
       "0        82    156  \n",
       "1        98    195  \n",
       "2        86    228  \n",
       "3       103    144  \n",
       "4       122    160  "
      ]
     },
     "execution_count": 119,
     "metadata": {},
     "output_type": "execute_result"
    }
   ],
   "source": [
    "test.head()"
   ]
  },
  {
   "cell_type": "code",
   "execution_count": 139,
   "metadata": {
    "collapsed": true
   },
   "outputs": [
    {
     "name": "stderr",
     "output_type": "stream",
     "text": [
      "C:\\Users\\eupho\\Anaconda3\\lib\\site-packages\\sklearn\\preprocessing\\data.py:645: DataConversionWarning: Data with input dtype int64 were all converted to float64 by StandardScaler.\n",
      "  return self.partial_fit(X, y)\n",
      "C:\\Users\\eupho\\Anaconda3\\lib\\site-packages\\sklearn\\base.py:464: DataConversionWarning: Data with input dtype int64 were all converted to float64 by StandardScaler.\n",
      "  return self.fit(X, **fit_params).transform(X)\n"
     ]
    }
   ],
   "source": [
    "scale = StandardScaler()\n",
    "x = scale.fit_transform(test)"
   ]
  },
  {
   "cell_type": "code",
   "execution_count": 141,
   "metadata": {},
   "outputs": [],
   "source": [
    "pca = PCA()\n",
    "pca.fit(x)"
   ]
  },
  {
   "cell_type": "code",
   "execution_count": 143,
   "metadata": {},
   "outputs": [
    {
     "data": {
      "text/plain": [
       "array([3.6397564 , 1.5731283 , 1.25920295, 0.71169667, 0.53641336,\n",
       "       0.42424778, 0.36053782, 0.30005605, 0.25746066])"
      ]
     },
     "execution_count": 143,
     "metadata": {},
     "output_type": "execute_result"
    }
   ],
   "source": [
    "pca.explained_variance_"
   ]
  },
  {
   "cell_type": "code",
   "execution_count": 133,
   "metadata": {},
   "outputs": [],
   "source": [
    "nmf = NMF(n_components=2)"
   ]
  },
  {
   "cell_type": "code",
   "execution_count": 134,
   "metadata": {},
   "outputs": [],
   "source": [
    "score = nmf.fit_transform(test)"
   ]
  },
  {
   "cell_type": "code",
   "execution_count": 135,
   "metadata": {},
   "outputs": [
    {
     "data": {
      "text/plain": [
       "array([[ 6.84935194,  5.16595838,  3.86664533,  2.15869614,  3.90643328,\n",
       "         3.79105795, 10.95911365, 18.4375353 , 46.22062013],\n",
       "       [ 0.51721999,  1.73402291,  0.        ,  0.54210008,  1.45935535,\n",
       "         0.87766053, 27.27022047, 19.94501396,  0.11962849]])"
      ]
     },
     "execution_count": 135,
     "metadata": {},
     "output_type": "execute_result"
    }
   ],
   "source": [
    "nmf.components_"
   ]
  },
  {
   "cell_type": "markdown",
   "metadata": {},
   "source": [
    "## 요인 분석"
   ]
  },
  {
   "cell_type": "markdown",
   "metadata": {},
   "source": [
    "### 설치"
   ]
  },
  {
   "cell_type": "code",
   "execution_count": 144,
   "metadata": {
    "collapsed": true
   },
   "outputs": [
    {
     "name": "stdout",
     "output_type": "stream",
     "text": [
      "Collecting factor_analyzer\n",
      "  Downloading https://files.pythonhosted.org/packages/dc/a1/df0babd5c16f59c7de85655cc0be9f8efc042a5d6a32508344078e1d8c4f/factor_analyzer-0.3.1-py3-none-any.whl (41kB)\n",
      "Requirement already satisfied: scipy in c:\\users\\eupho\\anaconda3\\lib\\site-packages (from factor_analyzer) (1.2.1)\n",
      "Requirement already satisfied: pandas in c:\\users\\eupho\\anaconda3\\lib\\site-packages (from factor_analyzer) (0.24.2)\n",
      "Requirement already satisfied: numpy in c:\\users\\eupho\\anaconda3\\lib\\site-packages (from factor_analyzer) (1.16.2)\n",
      "Requirement already satisfied: scikit-learn in c:\\users\\eupho\\anaconda3\\lib\\site-packages (from factor_analyzer) (0.20.3)\n",
      "Requirement already satisfied: python-dateutil>=2.5.0 in c:\\users\\eupho\\anaconda3\\lib\\site-packages (from pandas->factor_analyzer) (2.8.0)\n",
      "Requirement already satisfied: pytz>=2011k in c:\\users\\eupho\\anaconda3\\lib\\site-packages (from pandas->factor_analyzer) (2018.9)\n",
      "Requirement already satisfied: six>=1.5 in c:\\users\\eupho\\anaconda3\\lib\\site-packages (from python-dateutil>=2.5.0->pandas->factor_analyzer) (1.12.0)\n",
      "Installing collected packages: factor-analyzer\n",
      "Successfully installed factor-analyzer-0.3.1\n"
     ]
    }
   ],
   "source": [
    "!pip install factor_analyzer"
   ]
  },
  {
   "cell_type": "markdown",
   "metadata": {},
   "source": [
    "### 탐색적 요인 분석"
   ]
  },
  {
   "cell_type": "code",
   "execution_count": 147,
   "metadata": {},
   "outputs": [],
   "source": [
    "test = pandas.read_csv('test.csv')"
   ]
  },
  {
   "cell_type": "code",
   "execution_count": 148,
   "metadata": {},
   "outputs": [
    {
     "data": {
      "text/html": [
       "<div>\n",
       "<style scoped>\n",
       "    .dataframe tbody tr th:only-of-type {\n",
       "        vertical-align: middle;\n",
       "    }\n",
       "\n",
       "    .dataframe tbody tr th {\n",
       "        vertical-align: top;\n",
       "    }\n",
       "\n",
       "    .dataframe thead th {\n",
       "        text-align: right;\n",
       "    }\n",
       "</style>\n",
       "<table border=\"1\" class=\"dataframe\">\n",
       "  <thead>\n",
       "    <tr style=\"text-align: right;\">\n",
       "      <th></th>\n",
       "      <th>Visual</th>\n",
       "      <th>Cubes</th>\n",
       "      <th>Lozenges</th>\n",
       "      <th>Comprehension</th>\n",
       "      <th>Completion</th>\n",
       "      <th>Word</th>\n",
       "      <th>Addition</th>\n",
       "      <th>Counting</th>\n",
       "      <th>Curve</th>\n",
       "    </tr>\n",
       "  </thead>\n",
       "  <tbody>\n",
       "    <tr>\n",
       "      <th>0</th>\n",
       "      <td>23</td>\n",
       "      <td>19</td>\n",
       "      <td>4</td>\n",
       "      <td>10</td>\n",
       "      <td>17</td>\n",
       "      <td>10</td>\n",
       "      <td>69</td>\n",
       "      <td>82</td>\n",
       "      <td>156</td>\n",
       "    </tr>\n",
       "    <tr>\n",
       "      <th>1</th>\n",
       "      <td>33</td>\n",
       "      <td>22</td>\n",
       "      <td>17</td>\n",
       "      <td>8</td>\n",
       "      <td>17</td>\n",
       "      <td>10</td>\n",
       "      <td>65</td>\n",
       "      <td>98</td>\n",
       "      <td>195</td>\n",
       "    </tr>\n",
       "    <tr>\n",
       "      <th>2</th>\n",
       "      <td>34</td>\n",
       "      <td>24</td>\n",
       "      <td>22</td>\n",
       "      <td>11</td>\n",
       "      <td>19</td>\n",
       "      <td>19</td>\n",
       "      <td>50</td>\n",
       "      <td>86</td>\n",
       "      <td>228</td>\n",
       "    </tr>\n",
       "    <tr>\n",
       "      <th>3</th>\n",
       "      <td>29</td>\n",
       "      <td>23</td>\n",
       "      <td>9</td>\n",
       "      <td>9</td>\n",
       "      <td>19</td>\n",
       "      <td>11</td>\n",
       "      <td>114</td>\n",
       "      <td>103</td>\n",
       "      <td>144</td>\n",
       "    </tr>\n",
       "    <tr>\n",
       "      <th>4</th>\n",
       "      <td>16</td>\n",
       "      <td>25</td>\n",
       "      <td>10</td>\n",
       "      <td>8</td>\n",
       "      <td>25</td>\n",
       "      <td>24</td>\n",
       "      <td>112</td>\n",
       "      <td>122</td>\n",
       "      <td>160</td>\n",
       "    </tr>\n",
       "  </tbody>\n",
       "</table>\n",
       "</div>"
      ],
      "text/plain": [
       "   Visual  Cubes  Lozenges  Comprehension  Completion  Word  Addition  \\\n",
       "0      23     19         4             10          17    10        69   \n",
       "1      33     22        17              8          17    10        65   \n",
       "2      34     24        22             11          19    19        50   \n",
       "3      29     23         9              9          19    11       114   \n",
       "4      16     25        10              8          25    24       112   \n",
       "\n",
       "   Counting  Curve  \n",
       "0        82    156  \n",
       "1        98    195  \n",
       "2        86    228  \n",
       "3       103    144  \n",
       "4       122    160  "
      ]
     },
     "execution_count": 148,
     "metadata": {},
     "output_type": "execute_result"
    }
   ],
   "source": [
    "test.head() "
   ]
  },
  {
   "cell_type": "markdown",
   "metadata": {},
   "source": [
    "### 요인 수"
   ]
  },
  {
   "cell_type": "code",
   "execution_count": 149,
   "metadata": {},
   "outputs": [],
   "source": [
    "from sklearn.preprocessing import StandardScaler"
   ]
  },
  {
   "cell_type": "code",
   "execution_count": 150,
   "metadata": {},
   "outputs": [],
   "source": [
    "pc = PCA()"
   ]
  },
  {
   "cell_type": "code",
   "execution_count": 151,
   "metadata": {},
   "outputs": [
    {
     "name": "stderr",
     "output_type": "stream",
     "text": [
      "C:\\Users\\eupho\\Anaconda3\\lib\\site-packages\\sklearn\\preprocessing\\data.py:645: DataConversionWarning: Data with input dtype int64 were all converted to float64 by StandardScaler.\n",
      "  return self.partial_fit(X, y)\n",
      "C:\\Users\\eupho\\Anaconda3\\lib\\site-packages\\sklearn\\base.py:464: DataConversionWarning: Data with input dtype int64 were all converted to float64 by StandardScaler.\n",
      "  return self.fit(X, **fit_params).transform(X)\n"
     ]
    }
   ],
   "source": [
    "std = StandardScaler()\n",
    "x = std.fit_transform(test)"
   ]
  },
  {
   "cell_type": "code",
   "execution_count": 152,
   "metadata": {},
   "outputs": [
    {
     "data": {
      "text/plain": [
       "PCA(copy=True, iterated_power='auto', n_components=None, random_state=None,\n",
       "  svd_solver='auto', tol=0.0, whiten=False)"
      ]
     },
     "execution_count": 152,
     "metadata": {},
     "output_type": "execute_result"
    }
   ],
   "source": [
    "pc.fit(x)"
   ]
  },
  {
   "cell_type": "code",
   "execution_count": 153,
   "metadata": {},
   "outputs": [
    {
     "data": {
      "text/plain": [
       "array([3.6397564 , 1.5731283 , 1.25920295, 0.71169667, 0.53641336,\n",
       "       0.42424778, 0.36053782, 0.30005605, 0.25746066])"
      ]
     },
     "execution_count": 153,
     "metadata": {},
     "output_type": "execute_result"
    }
   ],
   "source": [
    "pc.explained_variance_"
   ]
  },
  {
   "cell_type": "markdown",
   "metadata": {},
   "source": [
    "### 요인분석"
   ]
  },
  {
   "cell_type": "code",
   "execution_count": 155,
   "metadata": {},
   "outputs": [],
   "source": [
    "from factor_analyzer import FactorAnalyzer"
   ]
  },
  {
   "cell_type": "code",
   "execution_count": 156,
   "metadata": {},
   "outputs": [],
   "source": [
    "fa = FactorAnalyzer(n_factors=3, method='ml', rotation=None)"
   ]
  },
  {
   "cell_type": "code",
   "execution_count": 157,
   "metadata": {},
   "outputs": [
    {
     "data": {
      "text/plain": [
       "FactorAnalyzer(bounds=(0.005, 1), impute='median', is_corr_matrix=False,\n",
       "        method='ml', n_factors=3, rotation=None, rotation_kwargs={},\n",
       "        use_smc=True)"
      ]
     },
     "execution_count": 157,
     "metadata": {},
     "output_type": "execute_result"
    }
   ],
   "source": [
    "fa.fit(test)"
   ]
  },
  {
   "cell_type": "code",
   "execution_count": 159,
   "metadata": {},
   "outputs": [
    {
     "data": {
      "text/plain": [
       "array([0.50140201, 0.26002398, 0.46474055, 0.75900255, 0.69790073,\n",
       "       0.6784225 , 0.61166782, 0.68312044, 0.54357143])"
      ]
     },
     "execution_count": 159,
     "metadata": {},
     "output_type": "execute_result"
    }
   ],
   "source": [
    "fa.get_communalities()"
   ]
  },
  {
   "cell_type": "code",
   "execution_count": 297,
   "metadata": {},
   "outputs": [
    {
     "data": {
      "text/plain": [
       "array([0.49859799, 0.73997602, 0.53525945, 0.24099745, 0.30209927,\n",
       "       0.3215775 , 0.38833218, 0.31687956, 0.45642857])"
      ]
     },
     "execution_count": 297,
     "metadata": {},
     "output_type": "execute_result"
    }
   ],
   "source": [
    "fa.get_uniquenesses()"
   ]
  },
  {
   "cell_type": "markdown",
   "metadata": {},
   "source": [
    "### 회전"
   ]
  },
  {
   "cell_type": "code",
   "execution_count": 161,
   "metadata": {},
   "outputs": [],
   "source": [
    "fa = FactorAnalyzer(n_factors=3, method='ml', rotation='promax')"
   ]
  },
  {
   "cell_type": "code",
   "execution_count": 162,
   "metadata": {},
   "outputs": [
    {
     "data": {
      "text/plain": [
       "FactorAnalyzer(bounds=(0.005, 1), impute='median', is_corr_matrix=False,\n",
       "        method='ml', n_factors=3, rotation='promax', rotation_kwargs={},\n",
       "        use_smc=True)"
      ]
     },
     "execution_count": 162,
     "metadata": {},
     "output_type": "execute_result"
    }
   ],
   "source": [
    "fa.fit(test)"
   ]
  },
  {
   "cell_type": "code",
   "execution_count": 163,
   "metadata": {},
   "outputs": [
    {
     "data": {
      "text/plain": [
       "array([[ 0.03193199,  0.029854  ,  0.67892039],\n",
       "       [-0.01848066, -0.0542345 ,  0.53893002],\n",
       "       [ 0.0583664 , -0.06384159,  0.67698673],\n",
       "       [ 0.86067724, -0.04487587,  0.04805298],\n",
       "       [ 0.81684285,  0.09133061, -0.02868583],\n",
       "       [ 0.80826887, -0.04901536,  0.05958152],\n",
       "       [ 0.12404526,  0.82272515, -0.25715235],\n",
       "       [-0.1595777 ,  0.80168541,  0.14106258],\n",
       "       [ 0.03069059,  0.46076509,  0.39471089]])"
      ]
     },
     "execution_count": 163,
     "metadata": {},
     "output_type": "execute_result"
    }
   ],
   "source": [
    "fa.loadings_"
   ]
  },
  {
   "cell_type": "code",
   "execution_count": 164,
   "metadata": {},
   "outputs": [
    {
     "data": {
      "text/plain": [
       "array([[1.        , 0.30959555, 0.4794411 ],\n",
       "       [0.30959555, 1.        , 0.42381187],\n",
       "       [0.4794411 , 0.42381187, 1.        ]])"
      ]
     },
     "execution_count": 164,
     "metadata": {},
     "output_type": "execute_result"
    }
   ],
   "source": [
    "fa.phi_  # 요인간 상관 행렬 "
   ]
  },
  {
   "cell_type": "markdown",
   "metadata": {},
   "source": [
    "### 확인적 요인분석"
   ]
  },
  {
   "cell_type": "code",
   "execution_count": 165,
   "metadata": {},
   "outputs": [],
   "source": [
    "from factor_analyzer import ConfirmatoryFactorAnalyzer, ModelSpecificationParser"
   ]
  },
  {
   "cell_type": "markdown",
   "metadata": {},
   "source": [
    "#### 모형"
   ]
  },
  {
   "cell_type": "code",
   "execution_count": 166,
   "metadata": {},
   "outputs": [],
   "source": [
    "from sklearn.preprocessing import StandardScaler"
   ]
  },
  {
   "cell_type": "code",
   "execution_count": 167,
   "metadata": {},
   "outputs": [],
   "source": [
    "std_test = pandas.DataFrame(x, columns=test.columns)"
   ]
  },
  {
   "cell_type": "code",
   "execution_count": 190,
   "metadata": {},
   "outputs": [],
   "source": [
    "model_dict = {\n",
    "    '시각': ['Visual', 'Cubes', 'Lozenges'],\n",
    "    '언어': ['Comprehension', 'Completion', 'Word'],\n",
    "    '수리': ['Addition', 'Counting', 'Curve']\n",
    "} "
   ]
  },
  {
   "cell_type": "code",
   "execution_count": 185,
   "metadata": {},
   "outputs": [],
   "source": [
    "model_spec = ModelSpecificationParser.parse_model_specification_from_dict(\n",
    "    std_test,\n",
    "    model_dict)"
   ]
  },
  {
   "cell_type": "markdown",
   "metadata": {},
   "source": [
    "#### 분석"
   ]
  },
  {
   "cell_type": "code",
   "execution_count": 186,
   "metadata": {},
   "outputs": [],
   "source": [
    "cfa = ConfirmatoryFactorAnalyzer(model_spec)"
   ]
  },
  {
   "cell_type": "code",
   "execution_count": 187,
   "metadata": {},
   "outputs": [
    {
     "name": "stderr",
     "output_type": "stream",
     "text": [
      "C:\\Users\\eupho\\Anaconda3\\lib\\site-packages\\factor_analyzer\\confirmatory_factor_analyzer.py:733: UserWarning: The optimization routine failed to converge: b'ABNORMAL_TERMINATION_IN_LNSRCH'\n",
      "  'to converge: {}'.format(str(res.message)))\n"
     ]
    },
    {
     "data": {
      "text/plain": [
       "ConfirmatoryFactorAnalyzer(bounds=None, disp=True, impute='median',\n",
       "              is_cov_matrix=False, max_iter=200, n_obs=145,\n",
       "              specification=<factor_analyzer.confirmatory_factor_analyzer.ModelSpecification object at 0x000002921644DDA0>,\n",
       "              tol=None)"
      ]
     },
     "execution_count": 187,
     "metadata": {},
     "output_type": "execute_result"
    }
   ],
   "source": [
    "cfa.fit(std_test)"
   ]
  },
  {
   "cell_type": "code",
   "execution_count": 188,
   "metadata": {},
   "outputs": [
    {
     "data": {
      "text/plain": [
       "array([[ 0.67741421,  0.        ,  0.        ],\n",
       "       [ 0.39017586,  0.        ,  0.        ],\n",
       "       [ 0.54599675,  0.        ,  0.        ],\n",
       "       [ 0.62916007,  0.        , -0.08202252],\n",
       "       [ 0.        ,  0.81860992,  0.        ],\n",
       "       [ 0.        ,  0.78209841,  0.        ],\n",
       "       [ 0.        ,  0.28783963,  0.        ],\n",
       "       [ 0.        ,  0.        ,  0.59603189],\n",
       "       [ 0.        ,  0.        ,  0.89905862]])"
      ]
     },
     "execution_count": 188,
     "metadata": {},
     "output_type": "execute_result"
    }
   ],
   "source": [
    "cfa.loadings_"
   ]
  },
  {
   "cell_type": "code",
   "execution_count": 189,
   "metadata": {},
   "outputs": [
    {
     "data": {
      "text/plain": [
       "array([[1.        , 0.85574514, 0.71564641],\n",
       "       [0.85574514, 1.        , 0.47834029],\n",
       "       [0.71564641, 0.47834029, 1.        ]])"
      ]
     },
     "execution_count": 189,
     "metadata": {},
     "output_type": "execute_result"
    }
   ],
   "source": [
    "cfa.factor_varcovs_  # 요인간 상관"
   ]
  },
  {
   "cell_type": "markdown",
   "metadata": {},
   "source": [
    "#### 적합도"
   ]
  },
  {
   "cell_type": "code",
   "execution_count": 182,
   "metadata": {},
   "outputs": [
    {
     "data": {
      "text/plain": [
       "3351.04674765519"
      ]
     },
     "execution_count": 182,
     "metadata": {},
     "output_type": "execute_result"
    }
   ],
   "source": [
    "cfa.aic_"
   ]
  },
  {
   "cell_type": "code",
   "execution_count": 183,
   "metadata": {},
   "outputs": [
    {
     "data": {
      "text/plain": [
       "3502.860168518639"
      ]
     },
     "execution_count": 183,
     "metadata": {},
     "output_type": "execute_result"
    }
   ],
   "source": [
    "cfa.bic_"
   ]
  },
  {
   "cell_type": "markdown",
   "metadata": {},
   "source": [
    "## 다차원척도법 (MDS)"
   ]
  },
  {
   "cell_type": "markdown",
   "metadata": {},
   "source": [
    "### 데이터 준비"
   ]
  },
  {
   "cell_type": "code",
   "execution_count": 1,
   "metadata": {},
   "outputs": [],
   "source": [
    "import numpy"
   ]
  },
  {
   "cell_type": "code",
   "execution_count": 3,
   "metadata": {},
   "outputs": [],
   "source": [
    "import pandas"
   ]
  },
  {
   "cell_type": "markdown",
   "metadata": {},
   "source": [
    "- 스타벅스\n",
    "- 할리스\n",
    "- 이디야\n",
    "- 투썸"
   ]
  },
  {
   "cell_type": "code",
   "execution_count": 32,
   "metadata": {},
   "outputs": [],
   "source": [
    "df = pandas.DataFrame(\n",
    "    [\n",
    "        ['블루보틀', '스타벅스', 3.3],\n",
    "        ['블루보틀', '할리스', 4.5],\n",
    "        ['블루보틀', '이디야', 5],\n",
    "        ['블루보틀', '투썸', 5],\n",
    "        ['스타벅스', '할리스', 3.5],\n",
    "        ['스타벅스', '이디야', 4.5],\n",
    "        ['스타벅스', '투썸', 2.2],\n",
    "        ['할리스', '이디야', 3.3],\n",
    "        ['할리스', '투썸', 1.2],\n",
    "        ['이디야', '투썸', 4.8],\n",
    "    ])"
   ]
  },
  {
   "cell_type": "code",
   "execution_count": 33,
   "metadata": {},
   "outputs": [
    {
     "data": {
      "text/html": [
       "<div>\n",
       "<style scoped>\n",
       "    .dataframe tbody tr th:only-of-type {\n",
       "        vertical-align: middle;\n",
       "    }\n",
       "\n",
       "    .dataframe tbody tr th {\n",
       "        vertical-align: top;\n",
       "    }\n",
       "\n",
       "    .dataframe thead th {\n",
       "        text-align: right;\n",
       "    }\n",
       "</style>\n",
       "<table border=\"1\" class=\"dataframe\">\n",
       "  <thead>\n",
       "    <tr style=\"text-align: right;\">\n",
       "      <th></th>\n",
       "      <th>0</th>\n",
       "      <th>1</th>\n",
       "      <th>2</th>\n",
       "    </tr>\n",
       "  </thead>\n",
       "  <tbody>\n",
       "    <tr>\n",
       "      <th>0</th>\n",
       "      <td>블루보틀</td>\n",
       "      <td>스타벅스</td>\n",
       "      <td>3.3</td>\n",
       "    </tr>\n",
       "    <tr>\n",
       "      <th>1</th>\n",
       "      <td>블루보틀</td>\n",
       "      <td>할리스</td>\n",
       "      <td>4.5</td>\n",
       "    </tr>\n",
       "    <tr>\n",
       "      <th>2</th>\n",
       "      <td>블루보틀</td>\n",
       "      <td>이디야</td>\n",
       "      <td>5.0</td>\n",
       "    </tr>\n",
       "    <tr>\n",
       "      <th>3</th>\n",
       "      <td>블루보틀</td>\n",
       "      <td>투썸</td>\n",
       "      <td>5.0</td>\n",
       "    </tr>\n",
       "    <tr>\n",
       "      <th>4</th>\n",
       "      <td>스타벅스</td>\n",
       "      <td>할리스</td>\n",
       "      <td>3.5</td>\n",
       "    </tr>\n",
       "    <tr>\n",
       "      <th>5</th>\n",
       "      <td>스타벅스</td>\n",
       "      <td>이디야</td>\n",
       "      <td>4.5</td>\n",
       "    </tr>\n",
       "    <tr>\n",
       "      <th>6</th>\n",
       "      <td>스타벅스</td>\n",
       "      <td>투썸</td>\n",
       "      <td>2.2</td>\n",
       "    </tr>\n",
       "    <tr>\n",
       "      <th>7</th>\n",
       "      <td>할리스</td>\n",
       "      <td>이디야</td>\n",
       "      <td>3.3</td>\n",
       "    </tr>\n",
       "    <tr>\n",
       "      <th>8</th>\n",
       "      <td>할리스</td>\n",
       "      <td>투썸</td>\n",
       "      <td>1.2</td>\n",
       "    </tr>\n",
       "    <tr>\n",
       "      <th>9</th>\n",
       "      <td>이디야</td>\n",
       "      <td>투썸</td>\n",
       "      <td>4.8</td>\n",
       "    </tr>\n",
       "  </tbody>\n",
       "</table>\n",
       "</div>"
      ],
      "text/plain": [
       "      0     1    2\n",
       "0  블루보틀  스타벅스  3.3\n",
       "1  블루보틀   할리스  4.5\n",
       "2  블루보틀   이디야  5.0\n",
       "3  블루보틀    투썸  5.0\n",
       "4  스타벅스   할리스  3.5\n",
       "5  스타벅스   이디야  4.5\n",
       "6  스타벅스    투썸  2.2\n",
       "7   할리스   이디야  3.3\n",
       "8   할리스    투썸  1.2\n",
       "9   이디야    투썸  4.8"
      ]
     },
     "execution_count": 33,
     "metadata": {},
     "output_type": "execute_result"
    }
   ],
   "source": [
    "df"
   ]
  },
  {
   "cell_type": "code",
   "execution_count": 34,
   "metadata": {},
   "outputs": [],
   "source": [
    "distance = numpy.zeros((5, 5))  # 가로 4, 세로 4로 모두 0인 빈 행렬\n",
    "product_id = {'스타벅스': 0, '할리스': 1, '이디야': 2, '투썸': 3, '블루보틀': 4}"
   ]
  },
  {
   "cell_type": "code",
   "execution_count": 37,
   "metadata": {},
   "outputs": [],
   "source": [
    "for i, row in df.iterrows():  # df에서 한 행씩 처리를 합니다\n",
    "    p1 = row[0]\n",
    "    i1 = product_id[p1]\n",
    "    \n",
    "    p2 = row[1]\n",
    "    i2 = product_id[p2]\n",
    "    \n",
    "    distance[i1, i2] = row[2]    "
   ]
  },
  {
   "cell_type": "code",
   "execution_count": 38,
   "metadata": {},
   "outputs": [
    {
     "data": {
      "text/plain": [
       "'이디야'"
      ]
     },
     "execution_count": 38,
     "metadata": {},
     "output_type": "execute_result"
    }
   ],
   "source": [
    "p1"
   ]
  },
  {
   "cell_type": "code",
   "execution_count": 39,
   "metadata": {},
   "outputs": [
    {
     "data": {
      "text/plain": [
       "array([[0. , 3.5, 4.5, 2.2, 0. ],\n",
       "       [0. , 0. , 3.3, 1.2, 0. ],\n",
       "       [0. , 0. , 0. , 4.8, 0. ],\n",
       "       [0. , 0. , 0. , 0. , 0. ],\n",
       "       [3.3, 4.5, 5. , 5. , 0. ]])"
      ]
     },
     "execution_count": 39,
     "metadata": {},
     "output_type": "execute_result"
    }
   ],
   "source": [
    "distance"
   ]
  },
  {
   "cell_type": "code",
   "execution_count": 40,
   "metadata": {},
   "outputs": [],
   "source": [
    "distance = distance + distance.T"
   ]
  },
  {
   "cell_type": "code",
   "execution_count": 41,
   "metadata": {},
   "outputs": [
    {
     "data": {
      "text/plain": [
       "array([[0. , 3.5, 4.5, 2.2, 3.3],\n",
       "       [3.5, 0. , 3.3, 1.2, 4.5],\n",
       "       [4.5, 3.3, 0. , 4.8, 5. ],\n",
       "       [2.2, 1.2, 4.8, 0. , 5. ],\n",
       "       [3.3, 4.5, 5. , 5. , 0. ]])"
      ]
     },
     "execution_count": 41,
     "metadata": {},
     "output_type": "execute_result"
    }
   ],
   "source": [
    "distance"
   ]
  },
  {
   "cell_type": "markdown",
   "metadata": {},
   "source": [
    "### 분석"
   ]
  },
  {
   "cell_type": "code",
   "execution_count": 42,
   "metadata": {},
   "outputs": [],
   "source": [
    "from sklearn.manifold import MDS"
   ]
  },
  {
   "cell_type": "code",
   "execution_count": 43,
   "metadata": {},
   "outputs": [],
   "source": [
    "mds = MDS(metric=False, dissimilarity='precomputed')"
   ]
  },
  {
   "cell_type": "code",
   "execution_count": 44,
   "metadata": {},
   "outputs": [],
   "source": [
    "pos = mds.fit_transform(distance)"
   ]
  },
  {
   "cell_type": "code",
   "execution_count": 45,
   "metadata": {},
   "outputs": [
    {
     "data": {
      "text/plain": [
       "array([[ 0.22157785,  0.03448975],\n",
       "       [-0.161733  , -0.20482913],\n",
       "       [-0.55438883,  0.08684926],\n",
       "       [ 0.30758178, -0.42896098],\n",
       "       [ 0.20108948,  0.497828  ]])"
      ]
     },
     "execution_count": 45,
     "metadata": {},
     "output_type": "execute_result"
    }
   ],
   "source": [
    "pos"
   ]
  },
  {
   "cell_type": "markdown",
   "metadata": {},
   "source": [
    "### 시각화"
   ]
  },
  {
   "cell_type": "code",
   "execution_count": 46,
   "metadata": {},
   "outputs": [],
   "source": [
    "import seaborn"
   ]
  },
  {
   "cell_type": "code",
   "execution_count": 47,
   "metadata": {},
   "outputs": [
    {
     "data": {
      "image/png": "[encoded data removed]",
      "text/plain": [
       "<Figure size 432x288 with 1 Axes>"
      ]
     },
     "metadata": {
      "needs_background": "light"
     },
     "output_type": "display_data"
    }
   ],
   "source": [
    "plt = seaborn.scatterplot(pos[:, 0], pos[:, 1], color='white')\n",
    "for i, label in enumerate(['S', 'H', 'E', 'T', 'B']):\n",
    "    plt.text(pos[i, 0], pos[i, 1], label)"
   ]
  },
  {
   "cell_type": "code",
   "execution_count": null,
   "metadata": {},
   "outputs": [],
   "source": []
  }
 ],
 "metadata": {
  "kernelspec": {
   "display_name": "Python 3",
   "language": "python",
   "name": "python3"
  },
  "language_info": {
   "codemirror_mode": {
    "name": "ipython",
    "version": 3
   },
   "file_extension": ".py",
   "mimetype": "text/x-python",
   "name": "python",
   "nbconvert_exporter": "python",
   "pygments_lexer": "ipython3",
   "version": "3.7.0"
  }
 },
 "nbformat": 4,
 "nbformat_minor": 2
}
